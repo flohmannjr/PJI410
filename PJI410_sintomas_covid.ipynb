{
  "nbformat": 4,
  "nbformat_minor": 0,
  "metadata": {
    "colab": {
      "provenance": [],
      "toc_visible": true,
      "authorship_tag": "ABX9TyPDpttp4XPMx/aIgI24FapW",
      "include_colab_link": true
    },
    "kernelspec": {
      "name": "python3",
      "display_name": "Python 3"
    },
    "language_info": {
      "name": "python"
    },
    "accelerator": "GPU",
    "gpuClass": "standard"
  },
  "cells": [
    {
      "cell_type": "markdown",
      "metadata": {
        "id": "view-in-github",
        "colab_type": "text"
      },
      "source": [
        "<a href=\"https://colab.research.google.com/github/flohmannjr/PJI410/blob/main/PJI410_sintomas_covid.ipynb\" target=\"_parent\"><img src=\"https://colab.research.google.com/assets/colab-badge.svg\" alt=\"Open In Colab\"/></a>"
      ]
    },
    {
      "cell_type": "markdown",
      "source": [
        "# PJI410 - Classificação de diagnóstico de COVID-19 a partir de sintomas e fatores de risco"
      ],
      "metadata": {
        "id": "Uwkrgnes3bih"
      }
    },
    {
      "cell_type": "markdown",
      "metadata": {
        "id": "g2TgIvCl96Zy"
      },
      "source": [
        "# Importações"
      ]
    },
    {
      "cell_type": "code",
      "execution_count": null,
      "metadata": {
        "id": "BqxVW09d-Dx6"
      },
      "outputs": [],
      "source": [
        "import numpy as np\n",
        "import pandas as pd\n",
        "\n",
        "import matplotlib.pyplot as plt\n",
        "import seaborn as sns\n",
        "\n",
        "from sklearn.model_selection import GridSearchCV, train_test_split\n",
        "\n",
        "from sklearn.ensemble import AdaBoostClassifier, GradientBoostingClassifier, RandomForestClassifier\n",
        "from sklearn.tree import DecisionTreeClassifier\n",
        "\n",
        "from xgboost import XGBClassifier\n",
        "\n",
        "import tensorflow as tf\n",
        "\n",
        "from tensorflow.data import AUTOTUNE, Dataset\n",
        "from tensorflow.keras import Sequential\n",
        "from tensorflow.keras.layers import Dense\n",
        "from tensorflow.keras.optimizers import Adam"
      ]
    },
    {
      "cell_type": "markdown",
      "metadata": {
        "id": "AYZyXKAo-GcL"
      },
      "source": [
        "# Configurações"
      ]
    },
    {
      "cell_type": "code",
      "execution_count": null,
      "metadata": {
        "id": "S9v6zYN--JGK"
      },
      "outputs": [],
      "source": [
        "plt.rcParams['figure.figsize'] = [8, 5]\n",
        "plt.rcParams['figure.dpi'] = 100\n",
        "\n",
        "plt.style.use('seaborn-darkgrid')\n",
        "\n",
        "SEMENTE = 2001088 + 2001247 + 2003061 + 2008193 + 2008620 + 2008880\n",
        "\n",
        "PALETA = 'summer_r'"
      ]
    },
    {
      "cell_type": "markdown",
      "metadata": {
        "id": "Fl2F29EAbb_y"
      },
      "source": [
        "## Hiperparâmetros"
      ]
    },
    {
      "cell_type": "code",
      "execution_count": null,
      "metadata": {
        "id": "klCHEM-EbgNN"
      },
      "outputs": [],
      "source": [
        "LOTE_TAMANHO = 2048\n",
        "\n",
        "CAMADAS = 4\n",
        "\n",
        "CAMADA_UNIDADES      = 32\n",
        "CAMADA_INICIALIZADOR = 'he_uniform'\n",
        "CAMADA_ATIVACAO      = 'relu'\n",
        "\n",
        "SAIDA_UNIDADES = 1\n",
        "SAIDA_ATIVACAO = 'sigmoid'\n",
        "\n",
        "PERDA       = 'binary_crossentropy'\n",
        "OTIMIZADOR  = Adam\n",
        "APRENDIZADO = 0.001\n",
        "METRICAS    = ['accuracy']\n",
        "\n",
        "ITERACOES = 50"
      ]
    },
    {
      "cell_type": "markdown",
      "source": [
        "## Funções"
      ],
      "metadata": {
        "id": "DENypnHNmZbh"
      }
    },
    {
      "cell_type": "code",
      "source": [
        "!wget https://raw.githubusercontent.com/flohmannjr/PJI410/main/PJI410_funcoes_auxiliares.py"
      ],
      "metadata": {
        "id": "XRvowR-Kmaej"
      },
      "execution_count": null,
      "outputs": []
    },
    {
      "cell_type": "code",
      "source": [
        "from PJI410_funcoes_auxiliares import avaliar_previsoes, obter_conjunto, obter_previsoes, set_global_determinism"
      ],
      "metadata": {
        "id": "juJp84VuqdKJ"
      },
      "execution_count": null,
      "outputs": []
    },
    {
      "cell_type": "markdown",
      "metadata": {
        "id": "ULNywAux-OT0"
      },
      "source": [
        "# Dados"
      ]
    },
    {
      "cell_type": "code",
      "execution_count": null,
      "metadata": {
        "id": "uS2GPMxQfXBm"
      },
      "outputs": [],
      "source": [
        "df_sintomas_covid = pd.read_csv('https://raw.githubusercontent.com/flohmannjr/PJI410/main/dados/PJI410_sintomas_covid.zip')"
      ]
    },
    {
      "cell_type": "code",
      "execution_count": null,
      "metadata": {
        "id": "lkNDj5fxwnZW"
      },
      "outputs": [],
      "source": [
        "df_sintomas_covid['COVID'].value_counts()"
      ]
    },
    {
      "cell_type": "markdown",
      "metadata": {
        "id": "naiYdB1IeNfI"
      },
      "source": [
        "## Separação dos dados de treino e teste"
      ]
    },
    {
      "cell_type": "code",
      "execution_count": null,
      "metadata": {
        "id": "MEHGZz0tfXBm"
      },
      "outputs": [],
      "source": [
        "X = df_sintomas_covid.drop('COVID', axis=1)\n",
        "y = df_sintomas_covid['COVID']\n",
        "\n",
        "X_train, X_test, y_train, y_test = train_test_split(X, y, test_size=0.1, random_state=SEMENTE)"
      ]
    },
    {
      "cell_type": "markdown",
      "metadata": {
        "id": "cAEK_MqYGkT2"
      },
      "source": [
        "## Datasets"
      ]
    },
    {
      "cell_type": "code",
      "execution_count": null,
      "metadata": {
        "id": "ALJycqa-GkT3"
      },
      "outputs": [],
      "source": [
        "dataset_X_train = Dataset.from_tensor_slices(X_train)\n",
        "dataset_X_test  = Dataset.from_tensor_slices(X_test)\n",
        "dataset_y_train = Dataset.from_tensor_slices(y_train)\n",
        "dataset_y_test  = Dataset.from_tensor_slices(y_test)\n",
        "\n",
        "dataset_train = Dataset.zip((dataset_X_train, dataset_y_train))\n",
        "dataset_test  = Dataset.zip((dataset_X_test, dataset_y_test))\n",
        "\n",
        "dataset_train = dataset_train.batch(LOTE_TAMANHO).prefetch(AUTOTUNE)\n",
        "dataset_test  = dataset_test.batch(LOTE_TAMANHO).prefetch(AUTOTUNE)"
      ]
    },
    {
      "cell_type": "markdown",
      "source": [
        "# Modelos"
      ],
      "metadata": {
        "id": "YWcru7PH3wAx"
      }
    },
    {
      "cell_type": "code",
      "execution_count": null,
      "metadata": {
        "id": "tmIIQFYx2bbS"
      },
      "outputs": [],
      "source": [
        "covid_avaliacoes = [None] * 10"
      ]
    },
    {
      "cell_type": "markdown",
      "metadata": {
        "id": "WyX6R3LJGpeH"
      },
      "source": [
        "## Modelo 0: SKLearn Decision Tree"
      ]
    },
    {
      "cell_type": "code",
      "execution_count": null,
      "metadata": {
        "id": "qKXJApCAGpeM"
      },
      "outputs": [],
      "source": [
        "%%time\n",
        "\n",
        "dtc = DecisionTreeClassifier(criterion='gini', splitter='random', max_features=None, random_state=SEMENTE)\n",
        "\n",
        "dtc.fit(X_train, y_train)\n",
        "\n",
        "y_pred = dtc.predict(X_test)\n",
        "\n",
        "# param_grid = {'param': np.linspace(99, 99, 99, dtype='int'),\n",
        "#               'param': ['value', 'value']}\n",
        "\n",
        "# grid = GridSearchCV(estimator=dtc,\n",
        "#                     param_grid=param_grid,\n",
        "#                     scoring='accuracy',\n",
        "#                     cv=10,\n",
        "#                     verbose=3)\n",
        "\n",
        "# grid.fit(X_train, y_train)\n",
        "\n",
        "# print(grid.best_params_)\n",
        "\n",
        "# y_pred = grid.predict(X_test)"
      ]
    },
    {
      "cell_type": "code",
      "execution_count": null,
      "metadata": {
        "id": "cAQiIwj1GpeN"
      },
      "outputs": [],
      "source": [
        "covid_avaliacoes[0] = avaliar_previsoes(y_test, y_pred)"
      ]
    },
    {
      "cell_type": "markdown",
      "metadata": {
        "id": "kS7phTmQZ8Tz"
      },
      "source": [
        "## Modelo 1: SKLearn Random Forest"
      ]
    },
    {
      "cell_type": "code",
      "execution_count": null,
      "metadata": {
        "id": "xMoCmDnjuc8P"
      },
      "outputs": [],
      "source": [
        "%%time\n",
        "\n",
        "rfc = RandomForestClassifier(n_estimators=50, criterion='gini', bootstrap=True, oob_score=True, warm_start=True, random_state=SEMENTE)\n",
        "\n",
        "rfc.fit(X_train, y_train)\n",
        "\n",
        "y_pred = rfc.predict(X_test)"
      ]
    },
    {
      "cell_type": "code",
      "execution_count": null,
      "metadata": {
        "id": "a0LGhBW8uc8V"
      },
      "outputs": [],
      "source": [
        "covid_avaliacoes[1] = avaliar_previsoes(y_test, y_pred)"
      ]
    },
    {
      "cell_type": "markdown",
      "metadata": {
        "id": "M2LDToYjwRur"
      },
      "source": [
        "## Modelo 2: SKLearn AdaBoost"
      ]
    },
    {
      "cell_type": "code",
      "execution_count": null,
      "metadata": {
        "id": "_FEoQiuEwRur"
      },
      "outputs": [],
      "source": [
        "%%time\n",
        "\n",
        "abc = AdaBoostClassifier(n_estimators=50, learning_rate=1.0, algorithm='SAMME.R', random_state=SEMENTE)\n",
        "\n",
        "abc.fit(X_train, y_train)\n",
        "\n",
        "y_pred = abc.predict(X_test)"
      ]
    },
    {
      "cell_type": "code",
      "execution_count": null,
      "metadata": {
        "id": "SqdtEDovwRur"
      },
      "outputs": [],
      "source": [
        "covid_avaliacoes[2] = avaliar_previsoes(y_test, y_pred)"
      ]
    },
    {
      "cell_type": "markdown",
      "metadata": {
        "id": "mV8BeXN8xyhh"
      },
      "source": [
        "## Modelo 3: SKLearn Gradient Boosting"
      ]
    },
    {
      "cell_type": "code",
      "execution_count": null,
      "metadata": {
        "id": "QPFg0c5Nxyhi"
      },
      "outputs": [],
      "source": [
        "%%time\n",
        "\n",
        "gbc = GradientBoostingClassifier(loss='log_loss', n_estimators=50, learning_rate=1.0, criterion='friedman_mse', warm_start=True, max_depth=3, random_state=SEMENTE)\n",
        "\n",
        "gbc.fit(X_train, y_train)\n",
        "\n",
        "y_pred = gbc.predict(X_test)"
      ]
    },
    {
      "cell_type": "code",
      "execution_count": null,
      "metadata": {
        "id": "QzLmxKl0iG9J"
      },
      "outputs": [],
      "source": [
        "covid_avaliacoes[3] = avaliar_previsoes(y_test, y_pred)"
      ]
    },
    {
      "cell_type": "markdown",
      "metadata": {
        "id": "tm4WV6Bn8M88"
      },
      "source": [
        "## Modelo 4: XGBoost"
      ]
    },
    {
      "cell_type": "code",
      "execution_count": null,
      "metadata": {
        "id": "TUX9XeDv8M88"
      },
      "outputs": [],
      "source": [
        "%%time\n",
        "\n",
        "xgb = XGBClassifier(n_estimators=50, grow_policy='depthwise', learning_rate=0.5, random_state=SEMENTE)\n",
        "\n",
        "xgb.fit(X_train, y_train)\n",
        "\n",
        "y_pred = xgb.predict(X_test)"
      ]
    },
    {
      "cell_type": "code",
      "execution_count": null,
      "metadata": {
        "id": "jivczmdD8M89"
      },
      "outputs": [],
      "source": [
        "covid_avaliacoes[4] = avaliar_previsoes(y_test, y_pred)"
      ]
    },
    {
      "cell_type": "markdown",
      "metadata": {
        "id": "DHKAa93myXoX"
      },
      "source": [
        "## Modelo 5: TensorFlow Dense"
      ]
    },
    {
      "cell_type": "code",
      "execution_count": null,
      "metadata": {
        "id": "S1ed2gWgyaEL"
      },
      "outputs": [],
      "source": [
        "%%time\n",
        "\n",
        "set_global_determinism(seed=SEMENTE)\n",
        "\n",
        "tfd = Sequential()\n",
        "\n",
        "[tfd.add(Dense(units=CAMADA_UNIDADES, kernel_initializer=CAMADA_INICIALIZADOR, activation=CAMADA_ATIVACAO)) for _ in range(CAMADAS)]\n",
        "tfd.add(Dense(units=SAIDA_UNIDADES, activation=SAIDA_ATIVACAO))\n",
        "\n",
        "tfd.compile(loss=PERDA,\n",
        "            optimizer=OTIMIZADOR(learning_rate=APRENDIZADO),\n",
        "            metrics=METRICAS)\n",
        "\n",
        "tfd.fit(dataset_train,\n",
        "        epochs=ITERACOES,\n",
        "        validation_data=dataset_test,\n",
        "        verbose=0)\n",
        "\n",
        "y_pred = tf.round(tfd.predict(dataset_test, verbose=0))"
      ]
    },
    {
      "cell_type": "code",
      "execution_count": null,
      "metadata": {
        "id": "XR3_UAUs6232"
      },
      "outputs": [],
      "source": [
        "covid_avaliacoes[5] = avaliar_previsoes(y_test, y_pred)"
      ]
    },
    {
      "cell_type": "markdown",
      "metadata": {
        "id": "hRFvl4CUQS2q"
      },
      "source": [
        "## Modelo 6: TensorFlow Profound"
      ]
    },
    {
      "cell_type": "code",
      "execution_count": null,
      "metadata": {
        "id": "aXDYdJCDQS2r"
      },
      "outputs": [],
      "source": [
        "%%time\n",
        "\n",
        "set_global_determinism(seed=SEMENTE)\n",
        "\n",
        "tfp = Sequential()\n",
        "\n",
        "[tfp.add(Dense(units=CAMADA_UNIDADES, kernel_initializer=CAMADA_INICIALIZADOR, activation=CAMADA_ATIVACAO)) for _ in range(CAMADAS ** 3)]\n",
        "tfp.add(Dense(units=SAIDA_UNIDADES, activation=SAIDA_ATIVACAO))\n",
        "\n",
        "tfp.compile(loss=PERDA,\n",
        "            optimizer=OTIMIZADOR(learning_rate=APRENDIZADO),\n",
        "            metrics=METRICAS)\n",
        "\n",
        "tfp.fit(dataset_train,\n",
        "        epochs=ITERACOES,\n",
        "        validation_data=dataset_test,\n",
        "        verbose=0)\n",
        "\n",
        "y_pred = tf.round(tfp.predict(dataset_test, verbose=0))"
      ]
    },
    {
      "cell_type": "code",
      "execution_count": null,
      "metadata": {
        "id": "1U6fq_RTXvDm"
      },
      "outputs": [],
      "source": [
        "covid_avaliacoes[6] = avaliar_previsoes(y_test, y_pred)"
      ]
    },
    {
      "cell_type": "markdown",
      "metadata": {
        "id": "-PcCzaArbqY2"
      },
      "source": [
        "## Modelo 7: TensorFlow Ensemble"
      ]
    },
    {
      "cell_type": "code",
      "execution_count": null,
      "metadata": {
        "id": "UpKEhLxhHch3"
      },
      "outputs": [],
      "source": [
        "%%time\n",
        "\n",
        "conjunto = obter_conjunto(dados_treino=dataset_train, dados_validacao=dataset_test, q_modelos=5)"
      ]
    },
    {
      "cell_type": "code",
      "execution_count": null,
      "metadata": {
        "id": "VQoN9NnkHk8z"
      },
      "outputs": [],
      "source": [
        "previsoes = obter_previsoes(conjunto=conjunto, dados_validacao=dataset_test)\n",
        "\n",
        "y_pred = tf.round(tf.reduce_mean(previsoes, axis=0))"
      ]
    },
    {
      "cell_type": "code",
      "execution_count": null,
      "metadata": {
        "id": "zeGsqmXLDHkW"
      },
      "outputs": [],
      "source": [
        "covid_avaliacoes[7] = avaliar_previsoes(y_test, y_pred)"
      ]
    },
    {
      "cell_type": "markdown",
      "metadata": {
        "id": "CJaHEyWb1HSj"
      },
      "source": [
        "## Comparação de modelos"
      ]
    },
    {
      "cell_type": "code",
      "execution_count": null,
      "metadata": {
        "id": "0PxQ0STCu1-K"
      },
      "outputs": [],
      "source": [
        "comparacao = pd.DataFrame([a for a in covid_avaliacoes if a is not None])\n",
        "comparacao = comparacao.reset_index().melt(id_vars='index').rename(columns=str.title)"
      ]
    },
    {
      "cell_type": "code",
      "execution_count": null,
      "metadata": {
        "id": "_1hTtBITvUky"
      },
      "outputs": [],
      "source": [
        "sns.barplot(data=comparacao, x='Index', y='Value', hue='Variable', palette=PALETA)\n",
        "\n",
        "plt.title('Medidas de avaliação dos modelos')\n",
        "plt.xlabel('Modelo')\n",
        "plt.ylabel('Valor')\n",
        "\n",
        "plt.ylim(0.0, 1.01)\n",
        "plt.yticks(np.arange(0.1, 1.0, 0.1))\n",
        "\n",
        "plt.legend(loc=(1.02, 0.77), frameon=True, facecolor='white');"
      ]
    },
    {
      "cell_type": "code",
      "source": [],
      "metadata": {
        "id": "IW7Qv3s24AO4"
      },
      "execution_count": null,
      "outputs": []
    }
  ]
}