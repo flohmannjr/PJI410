{
  "nbformat": 4,
  "nbformat_minor": 0,
  "metadata": {
    "colab": {
      "provenance": [],
      "toc_visible": true,
      "authorship_tag": "ABX9TyODUyqkPAnxhFpbvLhF6eky",
      "include_colab_link": true
    },
    "kernelspec": {
      "name": "python3",
      "display_name": "Python 3"
    },
    "language_info": {
      "name": "python"
    }
  },
  "cells": [
    {
      "cell_type": "markdown",
      "metadata": {
        "id": "view-in-github",
        "colab_type": "text"
      },
      "source": [
        "<a href=\"https://colab.research.google.com/github/flohmannjr/PJI410/blob/main/PJI410_dados.ipynb\" target=\"_parent\"><img src=\"https://colab.research.google.com/assets/colab-badge.svg\" alt=\"Open In Colab\"/></a>"
      ]
    },
    {
      "cell_type": "markdown",
      "source": [
        "# PJI410 - Dados"
      ],
      "metadata": {
        "id": "VUPtUvAWbxeu"
      }
    },
    {
      "cell_type": "markdown",
      "source": [
        "## SRAG 2021 a 2023 - Banco de Dados de Síndrome Respiratória Aguda Grave\n",
        "\n",
        "Dados atualizados até 22 de Fevereiro de 2023\n",
        "\n",
        "https://opendatasus.saude.gov.br/dataset/srag-2021-a-2023"
      ],
      "metadata": {
        "id": "x7bokBNab7im"
      }
    },
    {
      "cell_type": "code",
      "source": [
        "import pandas as pd"
      ],
      "metadata": {
        "id": "BqxVW09d-Dx6"
      },
      "execution_count": null,
      "outputs": []
    },
    {
      "cell_type": "markdown",
      "source": [
        "# Dados"
      ],
      "metadata": {
        "id": "zQgNUcYQdK23"
      }
    },
    {
      "cell_type": "code",
      "source": [
        "!wget https://raw.githubusercontent.com/flohmannjr/PJI410/main/openDataSUS.7z.001\n",
        "!wget https://raw.githubusercontent.com/flohmannjr/PJI410/main/openDataSUS.7z.002\n",
        "!wget https://raw.githubusercontent.com/flohmannjr/PJI410/main/openDataSUS.7z.003\n",
        "!wget https://raw.githubusercontent.com/flohmannjr/PJI410/main/openDataSUS.7z.004\n",
        "\n",
        "!7z e /content/openDataSUS.7z.001"
      ],
      "metadata": {
        "id": "ObOYja4G-5sa"
      },
      "execution_count": null,
      "outputs": []
    },
    {
      "cell_type": "code",
      "source": [
        "dtypes = {'AMOSTRA': 'Int32', 'ANTIVIRAL': 'Int32', 'AN_ADENO': 'Int32', 'AN_OUTRO': 'Int32', 'AN_PARA1': 'Int32',\n",
        "          'AN_PARA2': 'Int32', 'AN_PARA3': 'Int32', 'AN_SARS2': 'Int32', 'AN_VSR': 'Int32', 'ASMA': 'Int32',\n",
        "          'AVE_SUINO': 'Int32', 'CARDIOPATI': 'Int32', 'CLASSI_FIN': 'Int32', 'CLASSI_OUT': 'string',\n",
        "          'COD_IDADE': 'string', 'CO_MUN_NOT': 'Int32', 'CO_MUN_RES': 'Int32', 'CO_MU_INTE': 'Int32',\n",
        "          'CO_PAIS': 'Int32', 'CO_PS_VGM': 'string', 'CO_REGIONA': 'Int32', 'CO_RG_INTE': 'Int32',\n",
        "          'CO_RG_RESI': 'Int32', 'CO_UNI_NOT': 'Int32', 'CRITERIO': 'Int32', 'CS_ESCOL_N': 'Int32',\n",
        "          'CS_GESTANT': 'Int32', 'CS_RACA': 'Int32', 'CS_SEXO': 'string', 'CS_ZONA': 'Int32',\n",
        "          'DESC_RESP': 'Int32', 'DIABETES': 'Int32', 'DIARREIA': 'Int32', 'DISPNEIA': 'Int32',\n",
        "          'DOR_ABD': 'Int32', 'DOSE_1_COV': 'string', 'DOSE_2_COV': 'string', 'DOSE_REF': 'string',\n",
        "          'DS_AN_OUT': 'string', 'DS_PCR_OUT': 'string', 'DT_1_DOSE': 'string', 'DT_2_DOSE': 'string',\n",
        "          'DT_ANTIVIR': 'string', 'DT_COLETA': 'string', 'DT_CO_SOR': 'string', 'DT_DIGITA': 'string',\n",
        "          'DT_DOSEUNI': 'string', 'DT_ENCERRA': 'string', 'DT_ENTUTI': 'string', 'DT_EVOLUCA': 'string',\n",
        "          'DT_INTERNA': 'string', 'DT_NASC': 'string', 'DT_NOTIFIC': 'string', 'DT_PCR': 'string',\n",
        "          'DT_RAIOX': 'string', 'DT_RES': 'string', 'DT_RES_AN': 'string', 'DT_RT_VGM': 'string',\n",
        "          'DT_SAIDUTI': 'string', 'DT_SIN_PRI': 'string', 'DT_TOMO': 'string', 'DT_UT_DOSE': 'string',\n",
        "          'DT_VAC_MAE': 'string', 'DT_VGM': 'string', 'ESTRANG': 'Int32', 'EVOLUCAO': 'Int32',\n",
        "          'FAB_COVREF': 'string', 'FAB_COV_1': 'string', 'FAB_COV_2': 'string', 'FADIGA': 'Int32',\n",
        "          'FATOR_RISC': 'Int32', 'FEBRE': 'Int32', 'FLUASU_OUT': 'string', 'FLUBLI_OUT': 'string',\n",
        "          'FNT_IN_COV': 'Int32', 'GARGANTA': 'Int32', 'HEMATOLOGI': 'Int32', 'HEPATICA': 'Int32',\n",
        "          'HISTO_VGM': 'string', 'HOSPITAL': 'Int32', 'ID_MN_INTE': 'string', 'ID_MN_RESI': 'string',\n",
        "          'ID_MUNICIP': 'string', 'ID_PAIS': 'string', 'ID_REGIONA': 'string', 'ID_RG_INTE': 'string',\n",
        "          'ID_RG_RESI': 'string', 'ID_UNIDADE': 'string', 'IMUNODEPRE': 'Int32', 'LAB_PR_COV': 'string',\n",
        "          'LOTE_1_COV': 'string', 'LOTE_2_COV': 'string', 'LOTE_REF': 'string', 'LO_PS_VGM': 'string',\n",
        "          'MAE_VAC': 'Int32', 'MORB_DESC': 'string', 'M_AMAMENTA': 'Int32', 'NEUROLOGIC': 'Int32',\n",
        "          'NOSOCOMIAL': 'Int32', 'NU_IDADE_N': 'Int32', 'OBESIDADE': 'Int32', 'OBES_IMC': 'string',\n",
        "          'OUTRO_DES': 'string', 'OUTRO_SIN': 'Int32', 'OUT_AMOST': 'string', 'OUT_ANIM': 'string',\n",
        "          'OUT_ANTIV': 'string', 'OUT_MORBI': 'Int32', 'OUT_SOR': 'string', 'PAC_COCBO': 'string',\n",
        "          'PAC_DSCBO': 'string', 'PAIS_VGM': 'string', 'PCR_ADENO': 'Int32', 'PCR_BOCA': 'Int32',\n",
        "          'PCR_FLUASU': 'Int32', 'PCR_FLUBLI': 'Int32', 'PCR_METAP': 'Int32', 'PCR_OUTRO': 'Int32',\n",
        "          'PCR_PARA1': 'Int32', 'PCR_PARA2': 'Int32', 'PCR_PARA3': 'Int32', 'PCR_PARA4': 'Int32',\n",
        "          'PCR_RESUL': 'Int32', 'PCR_RINO': 'Int32', 'PCR_SARS2': 'Int32', 'PCR_VSR': 'Int32',\n",
        "          'PERD_OLFT': 'Int32', 'PERD_PALA': 'Int32', 'PNEUMOPATI': 'Int32', 'POS_AN_FLU': 'Int32',\n",
        "          'POS_AN_OUT': 'Int32', 'POS_PCRFLU': 'Int32', 'POS_PCROUT': 'Int32', 'PUERPERA': 'Int32',\n",
        "          'RAIOX_OUT': 'string', 'RAIOX_RES': 'Int32', 'RENAL': 'Int32', 'RES_AN': 'Int32', 'RES_IGA': 'Int32',\n",
        "          'RES_IGG': 'Int32', 'RES_IGM': 'Int32', 'SATURACAO': 'Int32', 'SEM_NOT': 'Int32', 'SEM_PRI': 'Int32',\n",
        "          'SG_UF': 'string', 'SG_UF_INTE': 'string', 'SG_UF_NOT': 'string', 'SIND_DOWN': 'Int32',\n",
        "          'SOR_OUT': 'string', 'SUPORT_VEN': 'Int32', 'SURTO_SG': 'string', 'TOMO_OUT': 'string',\n",
        "          'TOMO_RES': 'Int32', 'TOSSE': 'Int32', 'TP_AMOSTRA': 'Int32', 'TP_AM_SOR': 'Int32',\n",
        "          'TP_ANTIVIR': 'Int32', 'TP_FLU_AN': 'Int32', 'TP_FLU_PCR': 'Int32', 'TP_IDADE': 'Int32',\n",
        "          'TP_SOR': 'Int32', 'TP_TES_AN': 'Int32', 'UTI': 'Int32', 'VACINA': 'Int32', 'VACINA_COV': 'Int32',\n",
        "          'VOMITO': 'Int32'}\n",
        "\n",
        "ausentes2021 = {'DOSE_2REF': 'string', 'FAB_COVRF2': 'string', 'LOTE_REF2': 'string',\n",
        "                'TRAT_COV': 'Int32', 'TIPO_TRAT': 'Int32', 'OUT_TRAT': 'string', 'DT_TRT_COV': 'string'}\n",
        "\n",
        "datas = ['DOSE_1_COV', 'DOSE_2REF', 'DOSE_2_COV', 'DOSE_REF', 'DT_1_DOSE', 'DT_2_DOSE', 'DT_ANTIVIR', 'DT_COLETA',\n",
        "         'DT_CO_SOR', 'DT_DIGITA', 'DT_DOSEUNI', 'DT_ENCERRA', 'DT_ENTUTI', 'DT_EVOLUCA', 'DT_INTERNA', 'DT_NASC',\n",
        "         'DT_NOTIFIC', 'DT_PCR', 'DT_RAIOX', 'DT_RES', 'DT_RES_AN', 'DT_RT_VGM', 'DT_SAIDUTI', 'DT_SIN_PRI',\n",
        "         'DT_TOMO', 'DT_TRT_COV', 'DT_UT_DOSE', 'DT_VAC_MAE', 'DT_VGM']"
      ],
      "metadata": {
        "id": "uPnSUswJawan"
      },
      "execution_count": null,
      "outputs": []
    },
    {
      "cell_type": "code",
      "source": [
        "%%time\n",
        "\n",
        "df = pd.read_csv('INFLUD21-20-02-2023.csv', sep=';', dtype=dtypes)"
      ],
      "metadata": {
        "id": "glhrVI-zTA6M"
      },
      "execution_count": null,
      "outputs": []
    },
    {
      "cell_type": "code",
      "source": [
        "df[list(ausentes2021.keys())] = [None] * len(ausentes2021)\n",
        "\n",
        "dtypes.update(ausentes2021)"
      ],
      "metadata": {
        "id": "c_ieQXXwxNpJ"
      },
      "execution_count": null,
      "outputs": []
    },
    {
      "cell_type": "code",
      "source": [
        "%%time\n",
        "\n",
        "df = pd.concat([df, pd.read_csv('INFLUD22-13-02-2023.csv', sep=';', dtype=dtypes)])\n",
        "df = pd.concat([df, pd.read_csv('INFLUD23-13-02-2023.csv', sep=';', dtype=dtypes)])"
      ],
      "metadata": {
        "id": "lXFAZSK100rS"
      },
      "execution_count": null,
      "outputs": []
    },
    {
      "cell_type": "code",
      "source": [
        "%%time\n",
        "\n",
        "for campo in datas:\n",
        "    df[campo] = pd.to_datetime(df[campo], format='%d/%m/%Y', errors='coerce')"
      ],
      "metadata": {
        "id": "SqYHfWTVuIpN"
      },
      "execution_count": null,
      "outputs": []
    },
    {
      "cell_type": "code",
      "source": [
        "df.info()"
      ],
      "metadata": {
        "id": "bxq101V5T9SN"
      },
      "execution_count": null,
      "outputs": []
    },
    {
      "cell_type": "markdown",
      "source": [
        "## Pré-processamento"
      ],
      "metadata": {
        "id": "NtsrHCuk5siO"
      }
    },
    {
      "cell_type": "markdown",
      "source": [
        "### Contagem"
      ],
      "metadata": {
        "id": "-5BJToo4bnSJ"
      }
    },
    {
      "cell_type": "code",
      "source": [
        "# Campos descritos no dicionário de dados.\n",
        "\n",
        "dicionario = ['NU_NOTIFIC', 'DT_NOTIFIC', 'SEM_NOT', 'DT_SIN_PRI', 'SEM_PRI', 'SG_UF_NOT', 'ID_MUNICIP', 'CO_MUN_NOT',\n",
        "              'ID_REGIONA', 'CO_REGIONA', 'ID_UNIDADE', 'CO_UNI_NOT', 'TEM_CPF', 'NU_CPF', 'ESTRANG', 'NU_CNS',\n",
        "              'NM_PACIENT', 'CS_SEXO', 'DT_NASC', 'NU_IDADE_N', 'TP_IDADE', 'CS_GESTANT', 'CS_RACA', 'CS_ETINIA',\n",
        "              'POV_CT', 'TP_POV_CT', 'CS_ESCOL_N', 'PAC_COCBO', 'PAC_DSCBO', 'NM_MAE_PAC', 'NU_CEP', 'SG_UF',\n",
        "              'ID_RG_RESI', 'CO_RG_RESI', 'ID_MN_RESI', 'CO_MUN_RES', 'NM_BAIRRO', 'NM_LOGRADO', 'NU_NUMERO',\n",
        "              'NM_COMPLEM', 'NU_DDD_TEL', 'NU_TELEFON', 'CS_ZONA', 'ID_PAIS', 'CO_PAIS', 'NOSOCOMIAL', 'AVE_SUINO',\n",
        "              'OUT_ANIM', 'FEBRE', 'TOSSE', 'GARGANTA', 'DISPNEIA', 'DESC_RESP', 'SATURACAO', 'DIARREIA', 'VOMITO',\n",
        "              'DOR_ABD', 'FADIGA', 'PERD_OLFT', 'PERD_PALA', 'OUTRO_SIN', 'OUTRO_DES', 'FATOR_RISC', 'PUERPERA',\n",
        "              'CARDIOPATI', 'HEMATOLOGI', 'SIND_DOWN', 'HEPATICA', 'ASMA', 'DIABETES', 'NEUROLOGIC', 'PNEUMOPATI',\n",
        "              'IMUNODEPRE', 'RENAL', 'OBESIDADE', 'OBES_IMC', 'OUT_MORBI', 'MORB_DESC', 'VACINA_COV', 'DOSE_1_COV',\n",
        "              'DOSE_2_COV', 'DOSE_REF', 'DOSE_2REF', 'FAB_COV1', 'FAB_COV2', 'FAB_COVRF', 'FAB_COVRF2', 'LOTE_1_COV',\n",
        "              'LOTE_2_COV', 'LOTE_REF', 'LOTE_REF2', 'FNT_IN_COV', 'VACINA', 'DT_UT_DOSE', 'MAE_VAC', 'DT_VAC_MAE',\n",
        "              'M_AMAMENTA', 'DT_DOSEUNI', 'DT_1_DOSE', 'DT_2_DOSE', 'ANTIVIRAL', 'TP_ANTIVIR', 'OUT_ANTIV',\n",
        "              'DT_ANTIVIR', 'TRAT_COV', 'TIPO_TRAT', 'OUT_TRAT', 'DT_TRT_COV', 'HOSPITAL', 'DT_INTERNA', 'SG_UF_INTE',\n",
        "              'ID_RG_INTE', 'CO_RG_INTE', 'ID_MN_INTE', 'CO_MU_INTE', 'ID_UN_INTE', 'CO_UN_INTE', 'UTI', 'DT_ENTUTI',\n",
        "              'DT_SAIDUTI', 'SUPORT_VEN', 'RAIOX_RES', 'RAIOX_OUT', 'DT_RAIOX', 'TOMO_RES', 'TOMO_OUT', 'DT_TOMO',\n",
        "              'AMOSTRA', 'DT_COLETA', 'TP_AMOSTRA', 'OUT_AMOST', 'REQUI_GAL', 'TP_TES_AN', 'DT_RES_AN', 'RES_AN',\n",
        "              'LAB_AN', 'CO_LAB_AN', 'POS_AN_FLU', 'TP_FLU_AN', 'POS_AN_OUT', 'AN_SARS2', 'AN_VSR', 'AN_PARA1',\n",
        "              'AN_PARA2', 'AN_PARA3', 'AN_ADENO', 'AN_OUTRO', 'DS_AN_OUT', 'PCR_RESUL', 'DT_PCR', 'POS_PCRFLU',\n",
        "              'TP_FLU_PCR', 'PCR_FLUASU', 'FLUASU_OUT', 'PCR_FLUBLI', 'FLUBLI_OUT', 'POS_PCROUT', 'PCR_SARS2',\n",
        "              'PCR_VSR', 'PCR_PARA1', 'PCR_PARA2', 'PCR_PARA3', 'PCR_PARA4', 'PCR_ADENO', 'PCR_METAP', 'PCR_BOCA',\n",
        "              'PCR_RINO', 'PCR_OUTRO', 'DS_PCR_OUT', 'LAB_PCR', 'CO_LAB_PCR', 'TP_AM_SOR', 'SOR_OUT', 'DT_CO_SOR',\n",
        "              'TP_SOR', 'OUT_SOR', 'SOR_OUT', 'RES_IGG', 'RES_IGM', 'RES_IGA', 'DT_RES', 'CLASSI_FIN', 'CLASSI_OUT',\n",
        "              'CRITERIO', 'EVOLUCAO', 'DT_EVOLUCA', 'DT_ENCERRA', 'NU_DO', 'OBSERVA', 'NOME_PROF', 'REG_PROF',\n",
        "              'DT_DIGITA']"
      ],
      "metadata": {
        "id": "S9y0Fj2AlauY"
      },
      "execution_count": null,
      "outputs": []
    },
    {
      "cell_type": "code",
      "source": [
        "# # Campos descritos no dicionário de dados, mas inexistentes nas fontes.\n",
        "# # 'FAB_COV_1', 'FAB_COV_2', 'FAB_COVREF' (nas fontes) = 'FAB_COV1', 'FAB_COV2', 'FAB_COVRF' (no dicionário)\n",
        "\n",
        "# inexistentes_csv = list(dicionario - dtypes.keys())\n",
        "\n",
        "# inexistentes_csv"
      ],
      "metadata": {
        "id": "ITugNNvmr1RS"
      },
      "execution_count": null,
      "outputs": []
    },
    {
      "cell_type": "code",
      "source": [
        "# Campos sem entrada no dicionário.\n",
        "# 'FAB_COV_1', 'FAB_COV_2', 'FAB_COVREF' (nas fontes) = 'FAB_COV1', 'FAB_COV2', 'FAB_COVRF' (no dicionário)\n",
        "\n",
        "inexistentes_dic = list((dtypes.keys() - dicionario) - set(['FAB_COV_1', 'FAB_COV_2', 'FAB_COVREF']))\n",
        "\n",
        "# df[inexistentes_dic].info(show_counts=True)"
      ],
      "metadata": {
        "id": "l9Vrg62gdQqf"
      },
      "execution_count": null,
      "outputs": []
    },
    {
      "cell_type": "code",
      "source": [
        "# Campos de notificação e primeiros sintomas.\n",
        "\n",
        "campos = ['DT_NOTIFIC', 'SEM_NOT', 'SG_UF_NOT', 'DT_SIN_PRI', 'SEM_PRI']\n",
        "\n",
        "df[campos].info(show_counts=True)"
      ],
      "metadata": {
        "id": "6zQkIncCZ50L"
      },
      "execution_count": null,
      "outputs": []
    },
    {
      "cell_type": "code",
      "source": [
        "# Campos relativos a internação.\n",
        "\n",
        "campos = ['HOSPITAL', 'DT_INTERNA', 'SG_UF_INTE',\n",
        "          'CO_RG_INTE', 'ID_RG_INTE', 'CO_MU_INTE', 'ID_MN_INTE']\n",
        "\n",
        "df[campos].info(show_counts=True)"
      ],
      "metadata": {
        "id": "1y2KhTe1rK6U"
      },
      "execution_count": null,
      "outputs": []
    },
    {
      "cell_type": "code",
      "source": [
        "# Campos relativos à vacina contra COVID-19.\n",
        "\n",
        "campos = ['FAB_COV_1', 'LOTE_1_COV', 'FAB_COV_2', 'LOTE_2_COV',\n",
        "          'FAB_COVREF', 'LOTE_REF', 'FAB_COVRF2', 'LOTE_REF2']\n",
        "\n",
        "df[campos].info(show_counts=True)"
      ],
      "metadata": {
        "id": "jBCyrr270k_t"
      },
      "execution_count": null,
      "outputs": []
    },
    {
      "cell_type": "code",
      "source": [
        "# Campos \"marcado pelo usuário\" ou vazio.\n",
        "\n",
        "NAN0 = ['AN_ADENO', 'AN_OUTRO', 'AN_PARA1', 'AN_PARA2', 'AN_PARA3', 'AN_SARS2', 'AN_VSR',\n",
        "        'PCR_ADENO', 'PCR_BOCA', 'PCR_METAP', 'PCR_OUTRO', 'PCR_PARA1', 'PCR_PARA2',\n",
        "        'PCR_PARA3', 'PCR_PARA4', 'PCR_RINO', 'PCR_SARS2', 'PCR_VSR']\n",
        "\n",
        "df[NAN0].info(show_counts=True)"
      ],
      "metadata": {
        "id": "ov8hnN5pal4F"
      },
      "execution_count": null,
      "outputs": []
    },
    {
      "cell_type": "code",
      "source": [
        "# Campos relativos a origem e país.\n",
        "\n",
        "campos = ['ESTRANG', 'ID_PAIS', 'CO_PAIS']\n",
        "\n",
        "display(df[campos].info(show_counts=True))"
      ],
      "metadata": {
        "id": "IxCPcL8q6XDx"
      },
      "execution_count": null,
      "outputs": []
    },
    {
      "cell_type": "code",
      "source": [
        "# Campos tipo 'Outro'.\n",
        "\n",
        "outros = ['CLASSI_OUT', 'DS_AN_OUT', 'DS_PCR_OUT', 'FLUASU_OUT', 'FLUBLI_OUT',\n",
        "          'MORB_DESC', 'OUTRO_DES', 'OUT_AMOST', 'OUT_ANIM', 'OUT_ANTIV',\n",
        "          'OUT_SOR', 'OUT_TRAT', 'RAIOX_OUT', 'SOR_OUT', 'TOMO_OUT']\n",
        "\n",
        "# df[outros].info(show_counts=True)"
      ],
      "metadata": {
        "id": "GPRu4PZM0JkG"
      },
      "execution_count": null,
      "outputs": []
    },
    {
      "cell_type": "code",
      "source": [
        "# \"Resultado da Sorologia para SARS-CoV-2.\" ???\n",
        "\n",
        "sorologia = ['RES_IGG', 'RES_IGM', 'RES_IGA']\n",
        "\n",
        "display(df[sorologia].info(show_counts=True))\n",
        "# print()\n",
        "\n",
        "# for campo in sorologia:\n",
        "#     display(df[campo].value_counts(dropna=False).sort_index())\n",
        "#     print()"
      ],
      "metadata": {
        "id": "3ohPZkoRHiJz"
      },
      "execution_count": null,
      "outputs": []
    },
    {
      "cell_type": "code",
      "source": [
        "# Quantidade de registros com sexo diferente de Masculino ou Feminino.\n",
        "\n",
        "(~df['CS_SEXO'].isin(['M', 'F'])).sum()"
      ],
      "metadata": {
        "id": "sbOtVLWpxG3y"
      },
      "execution_count": null,
      "outputs": []
    },
    {
      "cell_type": "code",
      "source": [
        "# Quantidade de registros sem data de nascimento.\n",
        "\n",
        "df['DT_NASC'].isna().sum()"
      ],
      "metadata": {
        "id": "XZK4AD3AbQBK"
      },
      "execution_count": null,
      "outputs": []
    },
    {
      "cell_type": "code",
      "source": [
        "# Quantidade de registros sem unidade federativa.\n",
        "\n",
        "df['SG_UF'].isna().sum()"
      ],
      "metadata": {
        "id": "EHoAOSZ-eYxS"
      },
      "execution_count": null,
      "outputs": []
    },
    {
      "cell_type": "code",
      "source": [
        "# # Quantidade de registros com ano de nascimento inferior a 1923, por ano.\n",
        "\n",
        "# with pd.option_context('display.max_rows', None): \n",
        "#     display(df['DT_NASC'][df['DT_NASC'].dt.year < 1923].dt.year.value_counts().sort_index())"
      ],
      "metadata": {
        "id": "K0Ut2v_8I8Ea"
      },
      "execution_count": null,
      "outputs": []
    },
    {
      "cell_type": "code",
      "source": [
        "# Quantidade total de registros com ano de nascimento inferior a 1923.\n",
        "\n",
        "(df['DT_NASC'].dt.year < 1923).sum()"
      ],
      "metadata": {
        "id": "IPpjBoxpbMb1"
      },
      "execution_count": null,
      "outputs": []
    },
    {
      "cell_type": "code",
      "source": [
        "# Quantidade de registros com unidade federativa onde está localizada a unidade que realizou a notificação diferente da internação do paciente.\n",
        "\n",
        "df['SG_UF_NOT'][df['SG_UF_NOT'] != df['SG_UF_INTE']].count()"
      ],
      "metadata": {
        "id": "gFxhCXYuMq6-"
      },
      "execution_count": null,
      "outputs": []
    },
    {
      "cell_type": "code",
      "source": [
        "# Quantidade de registros com regional de saúde onde está localizada a unidade que realizou a notificação diferente da internação do paciente.\n",
        "\n",
        "df['CO_REGIONA'][df['CO_REGIONA'] != df['CO_RG_INTE']].count()"
      ],
      "metadata": {
        "id": "_wBKP6GbOFf6"
      },
      "execution_count": null,
      "outputs": []
    },
    {
      "cell_type": "code",
      "source": [
        "# Quantidade de registros com município onde está localizada a unidade que realizou a notificação diferente da internação do paciente.\n",
        "\n",
        "df['CO_MUN_NOT'][df['CO_MUN_NOT'] != df['CO_MU_INTE']].count()"
      ],
      "metadata": {
        "id": "9f8jVT_oOFOC"
      },
      "execution_count": null,
      "outputs": []
    },
    {
      "cell_type": "markdown",
      "source": [
        "### Correção"
      ],
      "metadata": {
        "id": "aVdrMtkscupa"
      }
    },
    {
      "cell_type": "code",
      "source": [
        "# Campos \"marcado pelo usuário\" com valores NaN para 0.\n",
        "for campo in NAN0:\n",
        "    df[campo].fillna(0, inplace=True)\n",
        "\n",
        "# Campo CLASSI_FIN com valores NaN para 4-SRAG não especificado\n",
        "df['CLASSI_FIN'].fillna(4, inplace=True)\n",
        "\n",
        "# Campo CS_SEXO para numérico, como dicionário de dados.\n",
        "df['CS_SEXO'].replace({'M': 1, 'F': 2, 'I': 9}, inplace=True)\n",
        "df['CS_SEXO'] = df['CS_SEXO'].astype('Int32')\n",
        "\n",
        "# Campos com valores NaN para 9-Ignorado.\n",
        "NAN9 = ['AMOSTRA', 'ANTIVIRAL', 'ASMA', 'AVE_SUINO', 'CARDIOPATI', 'CRITERIO', 'CS_ESCOL_N', 'CS_RACA', 'CS_ZONA', 'DESC_RESP', 'DIABETES',\n",
        "        'DIARREIA', 'DISPNEIA', 'DOR_ABD', 'EVOLUCAO', 'FADIGA', 'FATOR_RISC', 'FEBRE', 'FNT_IN_COV', 'GARGANTA', 'HEMATOLOGI', 'HEPATICA',\n",
        "        'HOSPITAL', 'IMUNODEPRE', 'MAE_VAC', 'M_AMAMENTA', 'NEUROLOGIC', 'NOSOCOMIAL', 'OBESIDADE', 'OUTRO_SIN', 'OUT_MORBI', 'PCR_FLUASU',\n",
        "        'PCR_FLUBLI', 'PCR_RESUL', 'PERD_OLFT', 'PERD_PALA', 'PNEUMOPATI', 'POS_AN_FLU', 'POS_AN_OUT', 'POS_PCRFLU', 'POS_PCROUT', 'PUERPERA',\n",
        "        'RAIOX_RES', 'RENAL', 'RES_AN', 'SATURACAO', 'SIND_DOWN', 'SUPORT_VEN', 'TIPO_TRAT', 'TOMO_RES', 'TOSSE', 'TP_AMOSTRA', 'TP_AM_SOR',\n",
        "        'TP_ANTIVIR', 'TP_FLU_AN', 'TP_FLU_PCR', 'TP_SOR', 'TP_TES_AN', 'TRAT_COV', 'UTI', 'VACINA', 'VACINA_COV', 'VOMITO']\n",
        "\n",
        "for campo in NAN9:\n",
        "    df[campo].fillna(9, inplace=True)\n",
        "\n",
        "# Campo OBES_IMC para decimal.\n",
        "df['OBES_IMC'][df['OBES_IMC'].str.contains(',', regex=False)] = df['OBES_IMC'][df['OBES_IMC'].str.contains(',', regex=False)].str.replace(',', '.')\n",
        "df['OBES_IMC'] = df['OBES_IMC'].astype('Float32')\n",
        "\n",
        "# Campos PAC_COCBO com valores 'XXX' para None.\n",
        "df['PAC_COCBO'].replace({'XXX': None}, inplace=True)\n",
        "\n",
        "# Campos PAC_DSCBO com valores 'NAO INFORMADO' para None.\n",
        "df['PAC_DSCBO'].replace({'NAO INFORMADO': None}, inplace=True)"
      ],
      "metadata": {
        "id": "81mXJPCacwJr"
      },
      "execution_count": null,
      "outputs": []
    },
    {
      "cell_type": "markdown",
      "source": [
        "### Desmembramento"
      ],
      "metadata": {
        "id": "U8oB0ncpnzII"
      }
    },
    {
      "cell_type": "code",
      "source": [
        "# DataFrame de ocupações, com códigos e descrições.\n",
        "\n",
        "ocupacoes = ['PAC_COCBO', 'PAC_DSCBO']\n",
        "\n",
        "df_ocupacoes = df[ocupacoes][~df[ocupacoes].duplicated()].dropna().sort_values(by='PAC_COCBO').reset_index(drop=True)"
      ],
      "metadata": {
        "id": "pLv_JY1_2GYG"
      },
      "execution_count": null,
      "outputs": []
    },
    {
      "cell_type": "code",
      "source": [
        "# DataFrame de unidades, com códigos e descrições.\n",
        "\n",
        "unidades = ['CO_UNI_NOT', 'ID_UNIDADE']\n",
        "\n",
        "df_unidades = df[unidades][~df[unidades].duplicated()].dropna().sort_values(by='CO_UNI_NOT').reset_index(drop=True)"
      ],
      "metadata": {
        "id": "FYGUHq6i5iMk"
      },
      "execution_count": null,
      "outputs": []
    },
    {
      "cell_type": "code",
      "source": [
        "# DataFrame de municípios, com códigos e descrições.\n",
        "\n",
        "df_municipios = pd.concat([df[['CO_MUN_NOT', 'ID_MUNICIP']].set_axis(['CO_MUNICIP', 'ID_MUNICIP'], axis=1),\n",
        "                           df[['CO_MUN_RES', 'ID_MN_RESI']].set_axis(['CO_MUNICIP', 'ID_MUNICIP'], axis=1),\n",
        "                           df[['CO_MU_INTE', 'ID_MN_INTE']].set_axis(['CO_MUNICIP', 'ID_MUNICIP'], axis=1)])\n",
        "\n",
        "df_municipios = df_municipios[~df_municipios.duplicated()].dropna().sort_values(by='CO_MUNICIP').reset_index(drop=True)"
      ],
      "metadata": {
        "id": "cVtjElTuBfxA"
      },
      "execution_count": null,
      "outputs": []
    },
    {
      "cell_type": "code",
      "source": [
        "# DataFrame de regionais, com códigos e descrições.\n",
        "\n",
        "df_regionais = pd.concat([df[['CO_REGIONA', 'ID_REGIONA']],\n",
        "                          df[['CO_RG_RESI', 'ID_RG_RESI']].set_axis(['CO_REGIONA', 'ID_REGIONA'], axis=1),\n",
        "                          df[['CO_RG_INTE', 'ID_RG_INTE']].set_axis(['CO_REGIONA', 'ID_REGIONA'], axis=1)])\n",
        "\n",
        "df_regionais = df_regionais[~df_regionais.duplicated()].dropna().sort_values(by='CO_REGIONA').reset_index(drop=True)"
      ],
      "metadata": {
        "id": "mp5G6xLgCwYp"
      },
      "execution_count": null,
      "outputs": []
    },
    {
      "cell_type": "markdown",
      "source": [
        "### Limpeza"
      ],
      "metadata": {
        "id": "8FXJZTX-bk0O"
      }
    },
    {
      "cell_type": "code",
      "source": [
        "# Remover registros com sexo diferente de 1-Masculino ou 2-Feminino.\n",
        "df.drop(df[~df['CS_SEXO'].isin([1, 2])].index, inplace=True)\n",
        "\n",
        "# Remover registros sem data de nascimento ou unidade federativa.\n",
        "df.dropna(subset=['DT_NASC', 'SG_UF'], inplace=True)\n",
        "\n",
        "# Remover registros com ano de nascimento inferior a 1923.\n",
        "df.drop(df[df['DT_NASC'].dt.year < 1923].index, inplace=True)\n",
        "\n",
        "# Remover registros de pacientes estrangeiros.\n",
        "df.drop(df[df['ESTRANG'] == 1].index, inplace=True)\n",
        "\n",
        "# Remover campos relativos à idade. (Temos a data de nascimento.)\n",
        "df.drop(['NU_IDADE_N', 'TP_IDADE'], axis=1, inplace=True)\n",
        "\n",
        "# Remover campos relativos ao país de origem. (Ao remover registros de pacientes estrangeiros ou sem unidade federativa, ficamos com apenas um valor nestes campos.)\n",
        "df.drop(['ESTRANG', 'ID_PAIS', 'CO_PAIS'], axis=1, inplace=True)\n",
        "\n",
        "# Remover campos de descrição dos dados desmembrados.\n",
        "df.drop(['PAC_DSCBO', 'ID_UNIDADE', 'ID_MUNICIP', 'ID_MN_RESI', 'ID_MN_INTE', 'ID_REGIONA', 'ID_RG_RESI', 'ID_RG_INTE'], axis=1, inplace=True)\n",
        "\n",
        "# Remover campos sem entrada no dicionário.\n",
        "df.drop(inexistentes_dic, axis=1, inplace=True)\n",
        "\n",
        "# Remover campos sobre resultado da sorologia para SARS-CoV-2. (O dicionário não contém a descrição dos valores.)\n",
        "df.drop(sorologia, axis=1, inplace=True)\n",
        "\n",
        "# Remover campos tipo 'Outro'. (Sem utilidade para macro-análises.)\n",
        "df.drop(outros, axis=1, inplace=True)\n",
        "\n",
        "# Remover campos de com somente 3% de dados válidos.\n",
        "df.drop(['NOSOCOMIAL', 'AVE_SUINO', 'ANTIVIRAL', 'TP_ANTIVIR', 'DT_ANTIVIR', 'TRAT_COV', 'TIPO_TRAT', 'DT_TRT_COV'], axis=1, inplace=True)\n",
        "\n",
        "# Remover campos vazios.\n",
        "df.dropna(how='all', axis=1, inplace=True)"
      ],
      "metadata": {
        "id": "HHODyCm7F7b_"
      },
      "execution_count": null,
      "outputs": []
    },
    {
      "cell_type": "code",
      "source": [
        "df.info()"
      ],
      "metadata": {
        "id": "GffTwh-1FQD4"
      },
      "execution_count": null,
      "outputs": []
    },
    {
      "cell_type": "code",
      "source": [
        "# df.to_csv('/content/PJI410_preprocessados.csv')"
      ],
      "metadata": {
        "id": "g-N8wuthg5OA"
      },
      "execution_count": null,
      "outputs": []
    },
    {
      "cell_type": "markdown",
      "source": [
        "## População estimada em 2021\n",
        "\n",
        "https://www.ibge.gov.br/cidades-e-estados"
      ],
      "metadata": {
        "id": "1cpHhZuxUrl9"
      }
    },
    {
      "cell_type": "code",
      "source": [
        "df_populacao = pd.read_csv('https://raw.githubusercontent.com/flohmannjr/PJI410/main/populacao_estimada_2021.csv')"
      ],
      "metadata": {
        "id": "9xV5Vx3JUyKA"
      },
      "execution_count": null,
      "outputs": []
    },
    {
      "cell_type": "code",
      "source": [
        "df_populacao['Notificacoes']  = df['SG_UF_NOT'].value_counts().sort_index().to_list()\n",
        "df_populacao['NotPor1000Hab'] = df_populacao['Notificacoes'] / (df_populacao['Populacao'] / 1000)\n",
        "df_populacao['NotMasculino']  = df['SG_UF_NOT'][df['CS_SEXO'] == 1].value_counts().sort_index().to_list()\n",
        "df_populacao['NotFeminino']   = df['SG_UF_NOT'][df['CS_SEXO'] == 2].value_counts().sort_index().to_list()"
      ],
      "metadata": {
        "id": "C6pIDpm9b__9"
      },
      "execution_count": null,
      "outputs": []
    },
    {
      "cell_type": "code",
      "source": [
        "df_populacao.info()"
      ],
      "metadata": {
        "id": "i1L4Rnw894af"
      },
      "execution_count": null,
      "outputs": []
    },
    {
      "cell_type": "code",
      "source": [
        "df_populacao[:10]"
      ],
      "metadata": {
        "id": "Ho8BOLEueeoV"
      },
      "execution_count": null,
      "outputs": []
    },
    {
      "cell_type": "code",
      "source": [
        "# df_populacao.to_csv('/content/PJI410_populacao.csv')"
      ],
      "metadata": {
        "id": "JmEKjPUDfQx_"
      },
      "execution_count": null,
      "outputs": []
    },
    {
      "cell_type": "markdown",
      "source": [
        "## Evoluções"
      ],
      "metadata": {
        "id": "tfQ3oyVGgNzR"
      }
    },
    {
      "cell_type": "code",
      "source": [
        "df_evolucao = df[['SG_UF_NOT', 'EVOLUCAO']][df['EVOLUCAO'].isin(EVOLUCOES.keys())].value_counts().sort_index().reset_index()\n",
        "df_evolucao.columns = ['UF', 'Evolucao', 'Quantidade']\n",
        "df_evolucao['Por1000Hab'] = None\n",
        "\n",
        "for _, uf in df_populacao.iterrows():\n",
        "    for i, ev in df_evolucao[df_evolucao['UF'] == uf['UF']].iterrows():\n",
        "        df_evolucao.loc[i, 'Por1000Hab'] = ev['Quantidade'] / (uf['Populacao'] / 1000)"
      ],
      "metadata": {
        "id": "XnnCk2-JhpfF"
      },
      "execution_count": null,
      "outputs": []
    },
    {
      "cell_type": "markdown",
      "source": [
        "## Evoluções por semana de primeiros sintomas"
      ],
      "metadata": {
        "id": "roumAcnqth-Y"
      }
    },
    {
      "cell_type": "code",
      "source": [
        "df_evolucao = df[['DT_SIN_PRI', 'EVOLUCAO']][df['EVOLUCAO'].isin(EVOLUCOES.keys())].value_counts().sort_index().reset_index()\n",
        "df_evolucao.columns = ['Data', 'Evolucao', 'Quantidade']\n",
        "\n",
        "for i, ev in df_evolucao.iterrows():\n",
        "    df_evolucao.loc[i, 'Segunda-feira'] = ev['Data'] - np.timedelta64(ev['Data'].dayofweek, 'D')\n",
        "\n",
        "df_evolucao = df_evolucao[['Segunda-feira', 'Evolucao', 'Quantidade']].groupby(by=['Segunda-feira', 'Evolucao']).sum().sort_index().reset_index()"
      ],
      "metadata": {
        "id": "1eA_Lh1Ttjke"
      },
      "execution_count": null,
      "outputs": []
    },
    {
      "cell_type": "markdown",
      "source": [
        "## Óbitos por COVID-19"
      ],
      "metadata": {
        "id": "iM338ebYhz4Z"
      }
    },
    {
      "cell_type": "code",
      "source": [
        "df_obitos_covid = df[['SG_UF_NOT']][(df['EVOLUCAO'] == 2) & (df['CLASSI_FIN'] == 5)].value_counts().sort_index().reset_index()\n",
        "df_obitos_covid.columns = ['UF', 'Quantidade']\n",
        "df_obitos_covid['Por1000Hab'] = None\n",
        "\n",
        "for _, uf in df_populacao.iterrows():\n",
        "    for i, oc in df_obitos_covid[df_obitos_covid['UF'] == uf['UF']].iterrows():\n",
        "        df_obitos_covid.loc[i, 'Por1000Hab'] = oc['Quantidade'] / (uf['Populacao'] / 1000)"
      ],
      "metadata": {
        "id": "492kXNCihqxs"
      },
      "execution_count": null,
      "outputs": []
    },
    {
      "cell_type": "markdown",
      "source": [
        "## Diferença média de dias entre primeiros sintomas e notificação"
      ],
      "metadata": {
        "id": "zK0yv98jkvw4"
      }
    },
    {
      "cell_type": "code",
      "source": [
        "df_demora = df[['DT_SIN_PRI', 'DT_NOTIFIC']].sort_values(by=['DT_SIN_PRI', 'DT_NOTIFIC']).copy().reset_index(drop=True)\n",
        "df_demora['Dias'] = ((df_demora['DT_NOTIFIC'] - df_demora['DT_SIN_PRI']) / np.timedelta64(1, 'D')).astype(int)\n",
        "df_demora.drop(['DT_NOTIFIC'], axis=1, inplace=True)\n",
        "df_demora = df_demora.groupby(by=['DT_SIN_PRI']).mean().reset_index()\n",
        "\n",
        "for i, de in df_demora.iterrows():\n",
        "    df_demora.loc[i, 'Segunda-feira'] = de['DT_SIN_PRI'] - np.timedelta64(de['DT_SIN_PRI'].dayofweek, 'D')\n",
        "\n",
        "df_demora.drop(['DT_SIN_PRI'], axis=1, inplace=True)\n",
        "df_demora = df_demora.groupby(by=['Segunda-feira']).mean().reset_index()"
      ],
      "metadata": {
        "id": "zDxJ2QfMKCfp"
      },
      "execution_count": null,
      "outputs": []
    },
    {
      "cell_type": "markdown",
      "source": [
        "## Média de notificações por semana por raça"
      ],
      "metadata": {
        "id": "PCGCkWaukXne"
      }
    },
    {
      "cell_type": "code",
      "source": [
        "df_raca = df[['DT_NOTIFIC', 'CS_RACA']][df['CS_RACA'].isin(RACAS.keys())].value_counts().sort_index().reset_index()\n",
        "df_raca.columns = ['Data', 'Raca', 'Quantidade']\n",
        "\n",
        "for i, da in df_raca.iterrows():\n",
        "    df_raca.loc[i, 'Segunda-feira'] = da['Data'] - np.timedelta64(da['Data'].dayofweek, 'D')\n",
        "\n",
        "df_raca.drop(['Data'], axis=1, inplace=True)\n",
        "df_raca = df_raca.groupby(by=['Segunda-feira', 'Raca']).mean().reset_index()"
      ],
      "metadata": {
        "id": "0F8Xuu4gkXne"
      },
      "execution_count": null,
      "outputs": []
    },
    {
      "cell_type": "markdown",
      "source": [
        "## Média de notificações por semana por escolaridade"
      ],
      "metadata": {
        "id": "Jmib0yo030Cn"
      }
    },
    {
      "cell_type": "code",
      "source": [
        "df_escolaridade = df[['DT_NOTIFIC', 'CS_ESCOL_N']][df['CS_ESCOL_N'].isin(ESCOLARIDADES.keys())].value_counts().sort_index().reset_index()\n",
        "df_escolaridade.columns = ['Data', 'Escolaridade', 'Quantidade']\n",
        "\n",
        "for i, da in df_escolaridade.iterrows():\n",
        "    df_escolaridade.loc[i, 'Segunda-feira'] = da['Data'] - np.timedelta64(da['Data'].dayofweek, 'D')\n",
        "\n",
        "df_escolaridade.drop(['Data'], axis=1, inplace=True)\n",
        "df_escolaridade = df_escolaridade.groupby(by=['Segunda-feira', 'Escolaridade']).mean().reset_index()"
      ],
      "metadata": {
        "id": "r2p51Toh30Ct"
      },
      "execution_count": null,
      "outputs": []
    },
    {
      "cell_type": "markdown",
      "source": [
        "## Média de notificações por semana por zona"
      ],
      "metadata": {
        "id": "Ua5Y9y4m30Gg"
      }
    },
    {
      "cell_type": "code",
      "source": [
        "df_zona = df[['DT_NOTIFIC', 'CS_ZONA']][df['CS_ZONA'].isin(ZONAS.keys())].value_counts().sort_index().reset_index()\n",
        "df_zona.columns = ['Data', 'Zona', 'Quantidade']\n",
        "\n",
        "for i, da in df_zona.iterrows():\n",
        "    df_zona.loc[i, 'Segunda-feira'] = da['Data'] - np.timedelta64(da['Data'].dayofweek, 'D')\n",
        "\n",
        "df_zona.drop(['Data'], axis=1, inplace=True)\n",
        "df_zona = df_zona.groupby(by=['Segunda-feira', 'Zona']).mean().reset_index()"
      ],
      "metadata": {
        "id": "EZ1kEZBq30Gg"
      },
      "execution_count": null,
      "outputs": []
    },
    {
      "cell_type": "markdown",
      "source": [
        "## Média de dias hospitalizado ou internado em UTI"
      ],
      "metadata": {
        "id": "AdQoYCUtHFBx"
      }
    },
    {
      "cell_type": "code",
      "source": [
        "# Pacientes que foram internados em UTI mas é ignorado se foram hospitalizados.\n",
        "\n",
        "df[['HOSPITAL', 'UTI']][(df['UTI'] == 1) & (df['HOSPITAL'] != 1)].value_counts()"
      ],
      "metadata": {
        "id": "4HwleUCzJkUR"
      },
      "execution_count": null,
      "outputs": []
    },
    {
      "cell_type": "code",
      "source": [
        "# Hospitalizados com data de internação e data de evolução (alta ou óbito).\n",
        "df_internacao = df[['DT_NOTIFIC', 'DT_INTERNA', 'DT_EVOLUCA']][(df['HOSPITAL'] == 1) & (~df['DT_INTERNA'].isna()) & (~df['DT_EVOLUCA'].isna())].sort_values(by=['DT_NOTIFIC', 'DT_INTERNA', 'DT_EVOLUCA']).copy().reset_index(drop=True)\n",
        "\n",
        "# Quantidade de dias hospitalizado. É adicionado um dia, pois tanto o dia de internação quanto o dia de evolução devem ser considerados.\n",
        "df_internacao['Dias'] = (((df_internacao['DT_EVOLUCA'] - df_internacao['DT_INTERNA']) / np.timedelta64(1, 'D')) + 1).astype(int)\n",
        "\n",
        "df_internacao.drop(['DT_INTERNA', 'DT_EVOLUCA'], axis=1, inplace=True)\n",
        "df_internacao = df_internacao.groupby(by=['DT_NOTIFIC']).mean().reset_index()\n",
        "\n",
        "for i, ho in df_internacao.iterrows():\n",
        "    df_internacao.loc[i, 'Segunda-feira'] = ho['DT_NOTIFIC'] - np.timedelta64(ho['DT_NOTIFIC'].dayofweek, 'D')\n",
        "\n",
        "df_internacao.drop(['DT_NOTIFIC'], axis=1, inplace=True)\n",
        "df_internacao = df_internacao.groupby(by=['Segunda-feira']).mean().reset_index()"
      ],
      "metadata": {
        "id": "6tCYVoobHcGR"
      },
      "execution_count": null,
      "outputs": []
    },
    {
      "cell_type": "code",
      "source": [
        "# Internados em UTI com data de entrada e data de saída.\n",
        "df_uti = df[['DT_NOTIFIC', 'DT_ENTUTI', 'DT_SAIDUTI']][(df['HOSPITAL'] == 1) & (~df['DT_ENTUTI'].isna()) & (~df['DT_SAIDUTI'].isna())].sort_values(by=['DT_NOTIFIC', 'DT_ENTUTI', 'DT_SAIDUTI']).copy().reset_index(drop=True)\n",
        "\n",
        "# Quantidade de dias internado. É adicionado um dia, pois tanto o dia de entrada quanto o dia de saída devem ser considerados.\n",
        "df_uti['Dias'] = (((df_uti['DT_SAIDUTI'] - df_uti['DT_ENTUTI']) / np.timedelta64(1, 'D')) + 1).astype(int)\n",
        "\n",
        "df_uti.drop(['DT_ENTUTI', 'DT_SAIDUTI'], axis=1, inplace=True)\n",
        "df_uti = df_uti.groupby(by=['DT_NOTIFIC']).mean().reset_index()\n",
        "\n",
        "for i, ho in df_uti.iterrows():\n",
        "    df_uti.loc[i, 'Segunda-feira'] = ho['DT_NOTIFIC'] - np.timedelta64(ho['DT_NOTIFIC'].dayofweek, 'D')\n",
        "\n",
        "df_uti.drop(['DT_NOTIFIC'], axis=1, inplace=True)\n",
        "df_uti = df_uti.groupby(by=['Segunda-feira']).mean().reset_index()"
      ],
      "metadata": {
        "id": "-ULsjE3lNZJQ"
      },
      "execution_count": null,
      "outputs": []
    },
    {
      "cell_type": "markdown",
      "source": [
        "## Classificação sobre sintomas e fatores de risco, com EVOLUCAO como atributo alvo"
      ],
      "metadata": {
        "id": "S_VF5ZkVgCNV"
      }
    },
    {
      "cell_type": "markdown",
      "source": [
        "### Dados"
      ],
      "metadata": {
        "id": "naiYdB1IeNfI"
      }
    },
    {
      "cell_type": "code",
      "source": [
        "campos  = ['FEBRE', 'TOSSE', 'GARGANTA', 'DISPNEIA', 'DESC_RESP', 'SATURACAO', 'DIARREIA', 'VOMITO',\n",
        "           'DOR_ABD', 'FADIGA', 'PERD_OLFT', 'PERD_PALA', 'OUTRO_SIN', 'FATOR_RISC', 'PUERPERA',\n",
        "           'CARDIOPATI', 'HEMATOLOGI', 'SIND_DOWN', 'HEPATICA', 'ASMA', 'DIABETES', 'NEUROLOGIC',\n",
        "           'PNEUMOPATI', 'IMUNODEPRE', 'RENAL', 'OBESIDADE', 'OUT_MORBI', 'EVOLUCAO']\n",
        "\n",
        "filtros = [df[c].isin([1, 2]) for c in campos]  # Lista de filtros.\n",
        "filtro  = np.vstack(filtros).all(axis=0)        # Combina os resultados dos filtros em um único array."
      ],
      "metadata": {
        "id": "uS2GPMxQfXBm"
      },
      "execution_count": null,
      "outputs": []
    },
    {
      "cell_type": "code",
      "source": [
        "X = df[campos][filtro].replace({2: 0}).astype('int')"
      ],
      "metadata": {
        "id": "MEHGZz0tfXBm"
      },
      "execution_count": null,
      "outputs": []
    },
    {
      "cell_type": "markdown",
      "source": [
        "## Anotações"
      ],
      "metadata": {
        "id": "N6ja7DZGgTv_"
      }
    },
    {
      "cell_type": "code",
      "source": [
        "# PCR_RESUL - Resultado do teste de RT-PCR / outro método por Biologia Molecular.\n",
        "# 1 - Detectável\n",
        "# 2 - Não detectável\n",
        "# 3 - Inconclusivo\n",
        "# 4 - Não realizado\n",
        "# 5 - Aguardando resultado\n",
        "# 9 - Ignorado\n",
        "\n",
        "df['PCR_RESUL'].value_counts(dropna=False).sort_index()"
      ],
      "metadata": {
        "id": "I7xMxQzXRSBy"
      },
      "execution_count": null,
      "outputs": []
    },
    {
      "cell_type": "code",
      "source": [
        "# RES_AN - Resultado do Teste Antigênico\n",
        "\n",
        "# 1 - Positivo\n",
        "# 2 - Negativo\n",
        "# 3 - Inconclusivo\n",
        "# 4 - Não realizado\n",
        "# 5 - Aguardando resultado\n",
        "# 9 - Ignorado\n",
        "\n",
        "df['RES_AN'].value_counts(dropna=False).sort_index()"
      ],
      "metadata": {
        "id": "j_W5uY0dRR05"
      },
      "execution_count": null,
      "outputs": []
    },
    {
      "cell_type": "code",
      "source": [
        "with pd.option_context('display.max_seq_items', None):\n",
        "    display(df.columns)"
      ],
      "metadata": {
        "id": "re1plZNlTzVI"
      },
      "execution_count": null,
      "outputs": []
    },
    {
      "cell_type": "code",
      "source": [],
      "metadata": {
        "id": "G4PxTXNWjF6z"
      },
      "execution_count": null,
      "outputs": []
    }
  ]
}