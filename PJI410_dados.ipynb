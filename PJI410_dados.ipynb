{
  "nbformat": 4,
  "nbformat_minor": 0,
  "metadata": {
    "colab": {
      "provenance": [],
      "toc_visible": true,
      "authorship_tag": "ABX9TyMqJ/0dDQqSqXHrEq8ymt9B",
      "include_colab_link": true
    },
    "kernelspec": {
      "name": "python3",
      "display_name": "Python 3"
    },
    "language_info": {
      "name": "python"
    }
  },
  "cells": [
    {
      "cell_type": "markdown",
      "metadata": {
        "id": "view-in-github",
        "colab_type": "text"
      },
      "source": [
        "<a href=\"https://colab.research.google.com/github/flohmannjr/PJI410/blob/main/PJI410_dados.ipynb\" target=\"_parent\"><img src=\"https://colab.research.google.com/assets/colab-badge.svg\" alt=\"Open In Colab\"/></a>"
      ]
    },
    {
      "cell_type": "markdown",
      "source": [
        "# PJI410 - Dados"
      ],
      "metadata": {
        "id": "VUPtUvAWbxeu"
      }
    },
    {
      "cell_type": "markdown",
      "source": [
        "## SRAG 2021 a 2023 - Banco de Dados de Síndrome Respiratória Aguda Grave\n",
        "\n",
        "Dados atualizados até 22 de Fevereiro de 2023\n",
        "\n",
        "https://opendatasus.saude.gov.br/dataset/srag-2021-a-2023"
      ],
      "metadata": {
        "id": "x7bokBNab7im"
      }
    },
    {
      "cell_type": "markdown",
      "source": [
        "# Importações"
      ],
      "metadata": {
        "id": "DgRQ-_fzmM9O"
      }
    },
    {
      "cell_type": "code",
      "source": [
        "import numpy as np\n",
        "import pandas as pd"
      ],
      "metadata": {
        "id": "BqxVW09d-Dx6"
      },
      "execution_count": 1,
      "outputs": []
    },
    {
      "cell_type": "markdown",
      "source": [
        "# Configurações"
      ],
      "metadata": {
        "id": "AYZyXKAo-GcL"
      }
    },
    {
      "cell_type": "code",
      "source": [
        "DIAGNOSTICOS = {1: 'SRAG por Influenza',\n",
        "                2: 'SRAG por outro vírus respiratório',\n",
        "                3: 'SRAG por outro agente etiológico',\n",
        "                4: 'SRAG não especificado',\n",
        "                5: 'SRAG por COVID-19'}\n",
        "\n",
        "ESCOLARIDADES = {0: 'Sem escolaridade / Analfabeto',\n",
        "                 1: 'Fundamental 1º ciclo (1ª a 5ª série)',\n",
        "                 2: 'Fundamental 2º ciclo (6ª a 9ª série)',\n",
        "                 3: 'Médio (1º ao 3º ano)',\n",
        "                 4: 'Superior'}\n",
        "\n",
        "EVOLUCOES = {1: 'Cura',\n",
        "             2: 'Óbito',\n",
        "             3: 'Óbito por outras causas'}\n",
        "\n",
        "RACAS = {1: 'Branca',\n",
        "         2: 'Preta',\n",
        "         3: 'Amarela',\n",
        "         4: 'Parda',\n",
        "         5: 'Indígena'}\n",
        "\n",
        "SEXOS = {1: 'Masculino',\n",
        "         2: 'Feminino'}\n",
        "\n",
        "ZONAS = {1: 'Urbana',\n",
        "         2: 'Rural',\n",
        "         3: 'Periurbana'}"
      ],
      "metadata": {
        "id": "S9v6zYN--JGK"
      },
      "execution_count": 2,
      "outputs": []
    },
    {
      "cell_type": "markdown",
      "source": [
        "# Dados"
      ],
      "metadata": {
        "id": "zQgNUcYQdK23"
      }
    },
    {
      "cell_type": "code",
      "source": [
        "!wget https://raw.githubusercontent.com/flohmannjr/PJI410/main/dados/openDataSUS.7z.001\n",
        "!wget https://raw.githubusercontent.com/flohmannjr/PJI410/main/dados/openDataSUS.7z.002\n",
        "!wget https://raw.githubusercontent.com/flohmannjr/PJI410/main/dados/openDataSUS.7z.003\n",
        "!wget https://raw.githubusercontent.com/flohmannjr/PJI410/main/dados/openDataSUS.7z.004\n",
        "\n",
        "!7z e /content/openDataSUS.7z.001"
      ],
      "metadata": {
        "id": "ObOYja4G-5sa",
        "colab": {
          "base_uri": "https://localhost:8080/"
        },
        "outputId": "499837a6-8f51-471b-9c42-f53a4a7e2dd0"
      },
      "execution_count": 3,
      "outputs": [
        {
          "output_type": "stream",
          "name": "stdout",
          "text": [
            "--2023-03-22 16:52:35--  https://raw.githubusercontent.com/flohmannjr/PJI410/main/dados/openDataSUS.7z.001\n",
            "Resolving raw.githubusercontent.com (raw.githubusercontent.com)... 185.199.108.133, 185.199.109.133, 185.199.110.133, ...\n",
            "Connecting to raw.githubusercontent.com (raw.githubusercontent.com)|185.199.108.133|:443... connected.\n",
            "HTTP request sent, awaiting response... 200 OK\n",
            "Length: 25165824 (24M) [application/octet-stream]\n",
            "Saving to: ‘openDataSUS.7z.001’\n",
            "\n",
            "openDataSUS.7z.001  100%[===================>]  24.00M   158MB/s    in 0.2s    \n",
            "\n",
            "2023-03-22 16:52:39 (158 MB/s) - ‘openDataSUS.7z.001’ saved [25165824/25165824]\n",
            "\n",
            "--2023-03-22 16:52:39--  https://raw.githubusercontent.com/flohmannjr/PJI410/main/dados/openDataSUS.7z.002\n",
            "Resolving raw.githubusercontent.com (raw.githubusercontent.com)... 185.199.110.133, 185.199.109.133, 185.199.108.133, ...\n",
            "Connecting to raw.githubusercontent.com (raw.githubusercontent.com)|185.199.110.133|:443... connected.\n",
            "HTTP request sent, awaiting response... 200 OK\n",
            "Length: 25165824 (24M) [application/octet-stream]\n",
            "Saving to: ‘openDataSUS.7z.002’\n",
            "\n",
            "openDataSUS.7z.002  100%[===================>]  24.00M   149MB/s    in 0.2s    \n",
            "\n",
            "2023-03-22 16:52:40 (149 MB/s) - ‘openDataSUS.7z.002’ saved [25165824/25165824]\n",
            "\n",
            "--2023-03-22 16:52:40--  https://raw.githubusercontent.com/flohmannjr/PJI410/main/dados/openDataSUS.7z.003\n",
            "Resolving raw.githubusercontent.com (raw.githubusercontent.com)... 185.199.110.133, 185.199.109.133, 185.199.108.133, ...\n",
            "Connecting to raw.githubusercontent.com (raw.githubusercontent.com)|185.199.110.133|:443... connected.\n",
            "HTTP request sent, awaiting response... 200 OK\n",
            "Length: 25165824 (24M) [application/octet-stream]\n",
            "Saving to: ‘openDataSUS.7z.003’\n",
            "\n",
            "openDataSUS.7z.003  100%[===================>]  24.00M  74.1MB/s    in 0.3s    \n",
            "\n",
            "2023-03-22 16:52:42 (74.1 MB/s) - ‘openDataSUS.7z.003’ saved [25165824/25165824]\n",
            "\n",
            "--2023-03-22 16:52:42--  https://raw.githubusercontent.com/flohmannjr/PJI410/main/dados/openDataSUS.7z.004\n",
            "Resolving raw.githubusercontent.com (raw.githubusercontent.com)... 185.199.108.133, 185.199.109.133, 185.199.110.133, ...\n",
            "Connecting to raw.githubusercontent.com (raw.githubusercontent.com)|185.199.108.133|:443... connected.\n",
            "HTTP request sent, awaiting response... 200 OK\n",
            "Length: 12897105 (12M) [application/octet-stream]\n",
            "Saving to: ‘openDataSUS.7z.004’\n",
            "\n",
            "openDataSUS.7z.004  100%[===================>]  12.30M  --.-KB/s    in 0.1s    \n",
            "\n",
            "2023-03-22 16:52:43 (115 MB/s) - ‘openDataSUS.7z.004’ saved [12897105/12897105]\n",
            "\n",
            "\n",
            "7-Zip [64] 16.02 : Copyright (c) 1999-2016 Igor Pavlov : 2016-05-21\n",
            "p7zip Version 16.02 (locale=en_US.UTF-8,Utf16=on,HugeFiles=on,64 bits,2 CPUs Intel(R) Xeon(R) CPU @ 2.20GHz (406F0),ASM,AES-NI)\n",
            "\n",
            "Scanning the drive for archives:\n",
            "  0M Scan /content/\b\b\b\b\b\b\b\b\b\b\b\b\b\b\b\b\b\b\b                   \b\b\b\b\b\b\b\b\b\b\b\b\b\b\b\b\b\b\b1 file, 25165824 bytes (24 MiB)\n",
            "\n",
            "Extracting archive: /content/openDataSUS.7z.001\n",
            "  0% 1 Open\b\b\b\b\b\b\b\b\b\b\b           \b\b\b\b\b\b\b\b\b\b\b--\n",
            "Path = /content/openDataSUS.7z.001\n",
            "Type = Split\n",
            "Physical Size = 25165824\n",
            "Volumes = 4\n",
            "Total Physical Size = 88394577\n",
            "----\n",
            "Path = openDataSUS.7z\n",
            "Size = 88394577\n",
            "--\n",
            "Path = openDataSUS.7z\n",
            "Type = 7z\n",
            "Physical Size = 88394577\n",
            "Headers Size = 218\n",
            "Method = LZMA:27\n",
            "Solid = +\n",
            "Blocks = 1\n",
            "\n",
            "  0%\b\b\b\b    \b\b\b\b  1% - INFLUD21-20-02-2023.csv\b\b\b\b\b\b\b\b\b\b\b\b\b\b\b\b\b\b\b\b\b\b\b\b\b\b\b\b\b\b                              \b\b\b\b\b\b\b\b\b\b\b\b\b\b\b\b\b\b\b\b\b\b\b\b\b\b\b\b\b\b  2% - INFLUD21-20-02-2023.csv\b\b\b\b\b\b\b\b\b\b\b\b\b\b\b\b\b\b\b\b\b\b\b\b\b\b\b\b\b\b                              \b\b\b\b\b\b\b\b\b\b\b\b\b\b\b\b\b\b\b\b\b\b\b\b\b\b\b\b\b\b  3% - INFLUD21-20-02-2023.csv\b\b\b\b\b\b\b\b\b\b\b\b\b\b\b\b\b\b\b\b\b\b\b\b\b\b\b\b\b\b                              \b\b\b\b\b\b\b\b\b\b\b\b\b\b\b\b\b\b\b\b\b\b\b\b\b\b\b\b\b\b  5% - INFLUD21-20-02-2023.csv\b\b\b\b\b\b\b\b\b\b\b\b\b\b\b\b\b\b\b\b\b\b\b\b\b\b\b\b\b\b                              \b\b\b\b\b\b\b\b\b\b\b\b\b\b\b\b\b\b\b\b\b\b\b\b\b\b\b\b\b\b  6% - INFLUD21-20-02-2023.csv\b\b\b\b\b\b\b\b\b\b\b\b\b\b\b\b\b\b\b\b\b\b\b\b\b\b\b\b\b\b                              \b\b\b\b\b\b\b\b\b\b\b\b\b\b\b\b\b\b\b\b\b\b\b\b\b\b\b\b\b\b  7% - INFLUD21-20-02-2023.csv\b\b\b\b\b\b\b\b\b\b\b\b\b\b\b\b\b\b\b\b\b\b\b\b\b\b\b\b\b\b                              \b\b\b\b\b\b\b\b\b\b\b\b\b\b\b\b\b\b\b\b\b\b\b\b\b\b\b\b\b\b  8% - INFLUD21-20-02-2023.csv\b\b\b\b\b\b\b\b\b\b\b\b\b\b\b\b\b\b\b\b\b\b\b\b\b\b\b\b\b\b                              \b\b\b\b\b\b\b\b\b\b\b\b\b\b\b\b\b\b\b\b\b\b\b\b\b\b\b\b\b\b  9% - INFLUD21-20-02-2023.csv\b\b\b\b\b\b\b\b\b\b\b\b\b\b\b\b\b\b\b\b\b\b\b\b\b\b\b\b\b\b                              \b\b\b\b\b\b\b\b\b\b\b\b\b\b\b\b\b\b\b\b\b\b\b\b\b\b\b\b\b\b 10% - INFLUD21-20-02-2023.csv\b\b\b\b\b\b\b\b\b\b\b\b\b\b\b\b\b\b\b\b\b\b\b\b\b\b\b\b\b\b                              \b\b\b\b\b\b\b\b\b\b\b\b\b\b\b\b\b\b\b\b\b\b\b\b\b\b\b\b\b\b 11% - INFLUD21-20-02-2023.csv\b\b\b\b\b\b\b\b\b\b\b\b\b\b\b\b\b\b\b\b\b\b\b\b\b\b\b\b\b\b                              \b\b\b\b\b\b\b\b\b\b\b\b\b\b\b\b\b\b\b\b\b\b\b\b\b\b\b\b\b\b 12% - INFLUD21-20-02-2023.csv\b\b\b\b\b\b\b\b\b\b\b\b\b\b\b\b\b\b\b\b\b\b\b\b\b\b\b\b\b\b                              \b\b\b\b\b\b\b\b\b\b\b\b\b\b\b\b\b\b\b\b\b\b\b\b\b\b\b\b\b\b 13% - INFLUD21-20-02-2023.csv\b\b\b\b\b\b\b\b\b\b\b\b\b\b\b\b\b\b\b\b\b\b\b\b\b\b\b\b\b\b                              \b\b\b\b\b\b\b\b\b\b\b\b\b\b\b\b\b\b\b\b\b\b\b\b\b\b\b\b\b\b 14% - INFLUD21-20-02-2023.csv\b\b\b\b\b\b\b\b\b\b\b\b\b\b\b\b\b\b\b\b\b\b\b\b\b\b\b\b\b\b                              \b\b\b\b\b\b\b\b\b\b\b\b\b\b\b\b\b\b\b\b\b\b\b\b\b\b\b\b\b\b 15% - INFLUD21-20-02-2023.csv\b\b\b\b\b\b\b\b\b\b\b\b\b\b\b\b\b\b\b\b\b\b\b\b\b\b\b\b\b\b                              \b\b\b\b\b\b\b\b\b\b\b\b\b\b\b\b\b\b\b\b\b\b\b\b\b\b\b\b\b\b 16% - INFLUD21-20-02-2023.csv\b\b\b\b\b\b\b\b\b\b\b\b\b\b\b\b\b\b\b\b\b\b\b\b\b\b\b\b\b\b                              \b\b\b\b\b\b\b\b\b\b\b\b\b\b\b\b\b\b\b\b\b\b\b\b\b\b\b\b\b\b 17% - INFLUD21-20-02-2023.csv\b\b\b\b\b\b\b\b\b\b\b\b\b\b\b\b\b\b\b\b\b\b\b\b\b\b\b\b\b\b                              \b\b\b\b\b\b\b\b\b\b\b\b\b\b\b\b\b\b\b\b\b\b\b\b\b\b\b\b\b\b 18% - INFLUD21-20-02-2023.csv\b\b\b\b\b\b\b\b\b\b\b\b\b\b\b\b\b\b\b\b\b\b\b\b\b\b\b\b\b\b                              \b\b\b\b\b\b\b\b\b\b\b\b\b\b\b\b\b\b\b\b\b\b\b\b\b\b\b\b\b\b 19% - INFLUD21-20-02-2023.csv\b\b\b\b\b\b\b\b\b\b\b\b\b\b\b\b\b\b\b\b\b\b\b\b\b\b\b\b\b\b                              \b\b\b\b\b\b\b\b\b\b\b\b\b\b\b\b\b\b\b\b\b\b\b\b\b\b\b\b\b\b 20% - INFLUD21-20-02-2023.csv\b\b\b\b\b\b\b\b\b\b\b\b\b\b\b\b\b\b\b\b\b\b\b\b\b\b\b\b\b\b                              \b\b\b\b\b\b\b\b\b\b\b\b\b\b\b\b\b\b\b\b\b\b\b\b\b\b\b\b\b\b 21% - INFLUD21-20-02-2023.csv\b\b\b\b\b\b\b\b\b\b\b\b\b\b\b\b\b\b\b\b\b\b\b\b\b\b\b\b\b\b                              \b\b\b\b\b\b\b\b\b\b\b\b\b\b\b\b\b\b\b\b\b\b\b\b\b\b\b\b\b\b 22% - INFLUD21-20-02-2023.csv\b\b\b\b\b\b\b\b\b\b\b\b\b\b\b\b\b\b\b\b\b\b\b\b\b\b\b\b\b\b                              \b\b\b\b\b\b\b\b\b\b\b\b\b\b\b\b\b\b\b\b\b\b\b\b\b\b\b\b\b\b 23% - INFLUD21-20-02-2023.csv\b\b\b\b\b\b\b\b\b\b\b\b\b\b\b\b\b\b\b\b\b\b\b\b\b\b\b\b\b\b                              \b\b\b\b\b\b\b\b\b\b\b\b\b\b\b\b\b\b\b\b\b\b\b\b\b\b\b\b\b\b 24% - INFLUD21-20-02-2023.csv\b\b\b\b\b\b\b\b\b\b\b\b\b\b\b\b\b\b\b\b\b\b\b\b\b\b\b\b\b\b                              \b\b\b\b\b\b\b\b\b\b\b\b\b\b\b\b\b\b\b\b\b\b\b\b\b\b\b\b\b\b 26% - INFLUD21-20-02-2023.csv\b\b\b\b\b\b\b\b\b\b\b\b\b\b\b\b\b\b\b\b\b\b\b\b\b\b\b\b\b\b                              \b\b\b\b\b\b\b\b\b\b\b\b\b\b\b\b\b\b\b\b\b\b\b\b\b\b\b\b\b\b 27% - INFLUD21-20-02-2023.csv\b\b\b\b\b\b\b\b\b\b\b\b\b\b\b\b\b\b\b\b\b\b\b\b\b\b\b\b\b\b                              \b\b\b\b\b\b\b\b\b\b\b\b\b\b\b\b\b\b\b\b\b\b\b\b\b\b\b\b\b\b 28% - INFLUD21-20-02-2023.csv\b\b\b\b\b\b\b\b\b\b\b\b\b\b\b\b\b\b\b\b\b\b\b\b\b\b\b\b\b\b                              \b\b\b\b\b\b\b\b\b\b\b\b\b\b\b\b\b\b\b\b\b\b\b\b\b\b\b\b\b\b 29% - INFLUD21-20-02-2023.csv\b\b\b\b\b\b\b\b\b\b\b\b\b\b\b\b\b\b\b\b\b\b\b\b\b\b\b\b\b\b                              \b\b\b\b\b\b\b\b\b\b\b\b\b\b\b\b\b\b\b\b\b\b\b\b\b\b\b\b\b\b 30% - INFLUD21-20-02-2023.csv\b\b\b\b\b\b\b\b\b\b\b\b\b\b\b\b\b\b\b\b\b\b\b\b\b\b\b\b\b\b                              \b\b\b\b\b\b\b\b\b\b\b\b\b\b\b\b\b\b\b\b\b\b\b\b\b\b\b\b\b\b 31% - INFLUD21-20-02-2023.csv\b\b\b\b\b\b\b\b\b\b\b\b\b\b\b\b\b\b\b\b\b\b\b\b\b\b\b\b\b\b                              \b\b\b\b\b\b\b\b\b\b\b\b\b\b\b\b\b\b\b\b\b\b\b\b\b\b\b\b\b\b 32% - INFLUD21-20-02-2023.csv\b\b\b\b\b\b\b\b\b\b\b\b\b\b\b\b\b\b\b\b\b\b\b\b\b\b\b\b\b\b                              \b\b\b\b\b\b\b\b\b\b\b\b\b\b\b\b\b\b\b\b\b\b\b\b\b\b\b\b\b\b 33% - INFLUD21-20-02-2023.csv\b\b\b\b\b\b\b\b\b\b\b\b\b\b\b\b\b\b\b\b\b\b\b\b\b\b\b\b\b\b                              \b\b\b\b\b\b\b\b\b\b\b\b\b\b\b\b\b\b\b\b\b\b\b\b\b\b\b\b\b\b 35% - INFLUD21-20-02-2023.csv\b\b\b\b\b\b\b\b\b\b\b\b\b\b\b\b\b\b\b\b\b\b\b\b\b\b\b\b\b\b                              \b\b\b\b\b\b\b\b\b\b\b\b\b\b\b\b\b\b\b\b\b\b\b\b\b\b\b\b\b\b 36% - INFLUD21-20-02-2023.csv\b\b\b\b\b\b\b\b\b\b\b\b\b\b\b\b\b\b\b\b\b\b\b\b\b\b\b\b\b\b                              \b\b\b\b\b\b\b\b\b\b\b\b\b\b\b\b\b\b\b\b\b\b\b\b\b\b\b\b\b\b 38% - INFLUD21-20-02-2023.csv\b\b\b\b\b\b\b\b\b\b\b\b\b\b\b\b\b\b\b\b\b\b\b\b\b\b\b\b\b\b                              \b\b\b\b\b\b\b\b\b\b\b\b\b\b\b\b\b\b\b\b\b\b\b\b\b\b\b\b\b\b 39% - INFLUD21-20-02-2023.csv\b\b\b\b\b\b\b\b\b\b\b\b\b\b\b\b\b\b\b\b\b\b\b\b\b\b\b\b\b\b                              \b\b\b\b\b\b\b\b\b\b\b\b\b\b\b\b\b\b\b\b\b\b\b\b\b\b\b\b\b\b 41% - INFLUD21-20-02-2023.csv\b\b\b\b\b\b\b\b\b\b\b\b\b\b\b\b\b\b\b\b\b\b\b\b\b\b\b\b\b\b                              \b\b\b\b\b\b\b\b\b\b\b\b\b\b\b\b\b\b\b\b\b\b\b\b\b\b\b\b\b\b 42% - INFLUD21-20-02-2023.csv\b\b\b\b\b\b\b\b\b\b\b\b\b\b\b\b\b\b\b\b\b\b\b\b\b\b\b\b\b\b                              \b\b\b\b\b\b\b\b\b\b\b\b\b\b\b\b\b\b\b\b\b\b\b\b\b\b\b\b\b\b 43% - INFLUD21-20-02-2023.csv\b\b\b\b\b\b\b\b\b\b\b\b\b\b\b\b\b\b\b\b\b\b\b\b\b\b\b\b\b\b                              \b\b\b\b\b\b\b\b\b\b\b\b\b\b\b\b\b\b\b\b\b\b\b\b\b\b\b\b\b\b 44% - INFLUD21-20-02-2023.csv\b\b\b\b\b\b\b\b\b\b\b\b\b\b\b\b\b\b\b\b\b\b\b\b\b\b\b\b\b\b                              \b\b\b\b\b\b\b\b\b\b\b\b\b\b\b\b\b\b\b\b\b\b\b\b\b\b\b\b\b\b 45% - INFLUD21-20-02-2023.csv\b\b\b\b\b\b\b\b\b\b\b\b\b\b\b\b\b\b\b\b\b\b\b\b\b\b\b\b\b\b                              \b\b\b\b\b\b\b\b\b\b\b\b\b\b\b\b\b\b\b\b\b\b\b\b\b\b\b\b\b\b 46% - INFLUD21-20-02-2023.csv\b\b\b\b\b\b\b\b\b\b\b\b\b\b\b\b\b\b\b\b\b\b\b\b\b\b\b\b\b\b                              \b\b\b\b\b\b\b\b\b\b\b\b\b\b\b\b\b\b\b\b\b\b\b\b\b\b\b\b\b\b 47% - INFLUD21-20-02-2023.csv\b\b\b\b\b\b\b\b\b\b\b\b\b\b\b\b\b\b\b\b\b\b\b\b\b\b\b\b\b\b                              \b\b\b\b\b\b\b\b\b\b\b\b\b\b\b\b\b\b\b\b\b\b\b\b\b\b\b\b\b\b 48% - INFLUD21-20-02-2023.csv\b\b\b\b\b\b\b\b\b\b\b\b\b\b\b\b\b\b\b\b\b\b\b\b\b\b\b\b\b\b                              \b\b\b\b\b\b\b\b\b\b\b\b\b\b\b\b\b\b\b\b\b\b\b\b\b\b\b\b\b\b 50% - INFLUD21-20-02-2023.csv\b\b\b\b\b\b\b\b\b\b\b\b\b\b\b\b\b\b\b\b\b\b\b\b\b\b\b\b\b\b                              \b\b\b\b\b\b\b\b\b\b\b\b\b\b\b\b\b\b\b\b\b\b\b\b\b\b\b\b\b\b 51% - INFLUD21-20-02-2023.csv\b\b\b\b\b\b\b\b\b\b\b\b\b\b\b\b\b\b\b\b\b\b\b\b\b\b\b\b\b\b                              \b\b\b\b\b\b\b\b\b\b\b\b\b\b\b\b\b\b\b\b\b\b\b\b\b\b\b\b\b\b 52% - INFLUD21-20-02-2023.csv\b\b\b\b\b\b\b\b\b\b\b\b\b\b\b\b\b\b\b\b\b\b\b\b\b\b\b\b\b\b                              \b\b\b\b\b\b\b\b\b\b\b\b\b\b\b\b\b\b\b\b\b\b\b\b\b\b\b\b\b\b 53% - INFLUD21-20-02-2023.csv\b\b\b\b\b\b\b\b\b\b\b\b\b\b\b\b\b\b\b\b\b\b\b\b\b\b\b\b\b\b                              \b\b\b\b\b\b\b\b\b\b\b\b\b\b\b\b\b\b\b\b\b\b\b\b\b\b\b\b\b\b 54% - INFLUD21-20-02-2023.csv\b\b\b\b\b\b\b\b\b\b\b\b\b\b\b\b\b\b\b\b\b\b\b\b\b\b\b\b\b\b                              \b\b\b\b\b\b\b\b\b\b\b\b\b\b\b\b\b\b\b\b\b\b\b\b\b\b\b\b\b\b 55% - INFLUD21-20-02-2023.csv\b\b\b\b\b\b\b\b\b\b\b\b\b\b\b\b\b\b\b\b\b\b\b\b\b\b\b\b\b\b                              \b\b\b\b\b\b\b\b\b\b\b\b\b\b\b\b\b\b\b\b\b\b\b\b\b\b\b\b\b\b 56% - INFLUD21-20-02-2023.csv\b\b\b\b\b\b\b\b\b\b\b\b\b\b\b\b\b\b\b\b\b\b\b\b\b\b\b\b\b\b                              \b\b\b\b\b\b\b\b\b\b\b\b\b\b\b\b\b\b\b\b\b\b\b\b\b\b\b\b\b\b 57% - INFLUD21-20-02-2023.csv\b\b\b\b\b\b\b\b\b\b\b\b\b\b\b\b\b\b\b\b\b\b\b\b\b\b\b\b\b\b                              \b\b\b\b\b\b\b\b\b\b\b\b\b\b\b\b\b\b\b\b\b\b\b\b\b\b\b\b\b\b 58% - INFLUD21-20-02-2023.csv\b\b\b\b\b\b\b\b\b\b\b\b\b\b\b\b\b\b\b\b\b\b\b\b\b\b\b\b\b\b                              \b\b\b\b\b\b\b\b\b\b\b\b\b\b\b\b\b\b\b\b\b\b\b\b\b\b\b\b\b\b 59% - INFLUD21-20-02-2023.csv\b\b\b\b\b\b\b\b\b\b\b\b\b\b\b\b\b\b\b\b\b\b\b\b\b\b\b\b\b\b                              \b\b\b\b\b\b\b\b\b\b\b\b\b\b\b\b\b\b\b\b\b\b\b\b\b\b\b\b\b\b 60% - INFLUD21-20-02-2023.csv\b\b\b\b\b\b\b\b\b\b\b\b\b\b\b\b\b\b\b\b\b\b\b\b\b\b\b\b\b\b                              \b\b\b\b\b\b\b\b\b\b\b\b\b\b\b\b\b\b\b\b\b\b\b\b\b\b\b\b\b\b 61% - INFLUD21-20-02-2023.csv\b\b\b\b\b\b\b\b\b\b\b\b\b\b\b\b\b\b\b\b\b\b\b\b\b\b\b\b\b\b                              \b\b\b\b\b\b\b\b\b\b\b\b\b\b\b\b\b\b\b\b\b\b\b\b\b\b\b\b\b\b 62% - INFLUD21-20-02-2023.csv\b\b\b\b\b\b\b\b\b\b\b\b\b\b\b\b\b\b\b\b\b\b\b\b\b\b\b\b\b\b                              \b\b\b\b\b\b\b\b\b\b\b\b\b\b\b\b\b\b\b\b\b\b\b\b\b\b\b\b\b\b 63% - INFLUD21-20-02-2023.csv\b\b\b\b\b\b\b\b\b\b\b\b\b\b\b\b\b\b\b\b\b\b\b\b\b\b\b\b\b\b                              \b\b\b\b\b\b\b\b\b\b\b\b\b\b\b\b\b\b\b\b\b\b\b\b\b\b\b\b\b\b 64% - INFLUD21-20-02-2023.csv\b\b\b\b\b\b\b\b\b\b\b\b\b\b\b\b\b\b\b\b\b\b\b\b\b\b\b\b\b\b                              \b\b\b\b\b\b\b\b\b\b\b\b\b\b\b\b\b\b\b\b\b\b\b\b\b\b\b\b\b\b 65% - INFLUD21-20-02-2023.csv\b\b\b\b\b\b\b\b\b\b\b\b\b\b\b\b\b\b\b\b\b\b\b\b\b\b\b\b\b\b                              \b\b\b\b\b\b\b\b\b\b\b\b\b\b\b\b\b\b\b\b\b\b\b\b\b\b\b\b\b\b 66% - INFLUD21-20-02-2023.csv\b\b\b\b\b\b\b\b\b\b\b\b\b\b\b\b\b\b\b\b\b\b\b\b\b\b\b\b\b\b                              \b\b\b\b\b\b\b\b\b\b\b\b\b\b\b\b\b\b\b\b\b\b\b\b\b\b\b\b\b\b 67% - INFLUD21-20-02-2023.csv\b\b\b\b\b\b\b\b\b\b\b\b\b\b\b\b\b\b\b\b\b\b\b\b\b\b\b\b\b\b                              \b\b\b\b\b\b\b\b\b\b\b\b\b\b\b\b\b\b\b\b\b\b\b\b\b\b\b\b\b\b 68% - INFLUD21-20-02-2023.csv\b\b\b\b\b\b\b\b\b\b\b\b\b\b\b\b\b\b\b\b\b\b\b\b\b\b\b\b\b\b                              \b\b\b\b\b\b\b\b\b\b\b\b\b\b\b\b\b\b\b\b\b\b\b\b\b\b\b\b\b\b 69% - INFLUD21-20-02-2023.csv\b\b\b\b\b\b\b\b\b\b\b\b\b\b\b\b\b\b\b\b\b\b\b\b\b\b\b\b\b\b                              \b\b\b\b\b\b\b\b\b\b\b\b\b\b\b\b\b\b\b\b\b\b\b\b\b\b\b\b\b\b 70% - INFLUD21-20-02-2023.csv\b\b\b\b\b\b\b\b\b\b\b\b\b\b\b\b\b\b\b\b\b\b\b\b\b\b\b\b\b\b                              \b\b\b\b\b\b\b\b\b\b\b\b\b\b\b\b\b\b\b\b\b\b\b\b\b\b\b\b\b\b 72% - INFLUD21-20-02-2023.csv\b\b\b\b\b\b\b\b\b\b\b\b\b\b\b\b\b\b\b\b\b\b\b\b\b\b\b\b\b\b                              \b\b\b\b\b\b\b\b\b\b\b\b\b\b\b\b\b\b\b\b\b\b\b\b\b\b\b\b\b\b 73% 1 - INFLUD22-13-02-2023.csv\b\b\b\b\b\b\b\b\b\b\b\b\b\b\b\b\b\b\b\b\b\b\b\b\b\b\b\b\b\b\b\b                                \b\b\b\b\b\b\b\b\b\b\b\b\b\b\b\b\b\b\b\b\b\b\b\b\b\b\b\b\b\b\b\b 75% 1 - INFLUD22-13-02-2023.csv\b\b\b\b\b\b\b\b\b\b\b\b\b\b\b\b\b\b\b\b\b\b\b\b\b\b\b\b\b\b\b\b                                \b\b\b\b\b\b\b\b\b\b\b\b\b\b\b\b\b\b\b\b\b\b\b\b\b\b\b\b\b\b\b\b 77% 1 - INFLUD22-13-02-2023.csv\b\b\b\b\b\b\b\b\b\b\b\b\b\b\b\b\b\b\b\b\b\b\b\b\b\b\b\b\b\b\b\b                                \b\b\b\b\b\b\b\b\b\b\b\b\b\b\b\b\b\b\b\b\b\b\b\b\b\b\b\b\b\b\b\b 79% 1 - INFLUD22-13-02-2023.csv\b\b\b\b\b\b\b\b\b\b\b\b\b\b\b\b\b\b\b\b\b\b\b\b\b\b\b\b\b\b\b\b                                \b\b\b\b\b\b\b\b\b\b\b\b\b\b\b\b\b\b\b\b\b\b\b\b\b\b\b\b\b\b\b\b 81% 1 - INFLUD22-13-02-2023.csv\b\b\b\b\b\b\b\b\b\b\b\b\b\b\b\b\b\b\b\b\b\b\b\b\b\b\b\b\b\b\b\b                                \b\b\b\b\b\b\b\b\b\b\b\b\b\b\b\b\b\b\b\b\b\b\b\b\b\b\b\b\b\b\b\b 83% 1 - INFLUD22-13-02-2023.csv\b\b\b\b\b\b\b\b\b\b\b\b\b\b\b\b\b\b\b\b\b\b\b\b\b\b\b\b\b\b\b\b                                \b\b\b\b\b\b\b\b\b\b\b\b\b\b\b\b\b\b\b\b\b\b\b\b\b\b\b\b\b\b\b\b 84% 1 - INFLUD22-13-02-2023.csv\b\b\b\b\b\b\b\b\b\b\b\b\b\b\b\b\b\b\b\b\b\b\b\b\b\b\b\b\b\b\b\b                                \b\b\b\b\b\b\b\b\b\b\b\b\b\b\b\b\b\b\b\b\b\b\b\b\b\b\b\b\b\b\b\b 86% 1 - INFLUD22-13-02-2023.csv\b\b\b\b\b\b\b\b\b\b\b\b\b\b\b\b\b\b\b\b\b\b\b\b\b\b\b\b\b\b\b\b                                \b\b\b\b\b\b\b\b\b\b\b\b\b\b\b\b\b\b\b\b\b\b\b\b\b\b\b\b\b\b\b\b 88% 1 - INFLUD22-13-02-2023.csv\b\b\b\b\b\b\b\b\b\b\b\b\b\b\b\b\b\b\b\b\b\b\b\b\b\b\b\b\b\b\b\b                                \b\b\b\b\b\b\b\b\b\b\b\b\b\b\b\b\b\b\b\b\b\b\b\b\b\b\b\b\b\b\b\b 90% 1 - INFLUD22-13-02-2023.csv\b\b\b\b\b\b\b\b\b\b\b\b\b\b\b\b\b\b\b\b\b\b\b\b\b\b\b\b\b\b\b\b                                \b\b\b\b\b\b\b\b\b\b\b\b\b\b\b\b\b\b\b\b\b\b\b\b\b\b\b\b\b\b\b\b 92% 1 - INFLUD22-13-02-2023.csv\b\b\b\b\b\b\b\b\b\b\b\b\b\b\b\b\b\b\b\b\b\b\b\b\b\b\b\b\b\b\b\b                                \b\b\b\b\b\b\b\b\b\b\b\b\b\b\b\b\b\b\b\b\b\b\b\b\b\b\b\b\b\b\b\b 94% 1 - INFLUD22-13-02-2023.csv\b\b\b\b\b\b\b\b\b\b\b\b\b\b\b\b\b\b\b\b\b\b\b\b\b\b\b\b\b\b\b\b                                \b\b\b\b\b\b\b\b\b\b\b\b\b\b\b\b\b\b\b\b\b\b\b\b\b\b\b\b\b\b\b\b 96% 1 - INFLUD22-13-02-2023.csv\b\b\b\b\b\b\b\b\b\b\b\b\b\b\b\b\b\b\b\b\b\b\b\b\b\b\b\b\b\b\b\b                                \b\b\b\b\b\b\b\b\b\b\b\b\b\b\b\b\b\b\b\b\b\b\b\b\b\b\b\b\b\b\b\b 98% 1 - INFLUD22-13-02-2023.csv\b\b\b\b\b\b\b\b\b\b\b\b\b\b\b\b\b\b\b\b\b\b\b\b\b\b\b\b\b\b\b\b                                \b\b\b\b\b\b\b\b\b\b\b\b\b\b\b\b\b\b\b\b\b\b\b\b\b\b\b\b\b\b\b\bEverything is Ok\n",
            "\n",
            "Files: 3\n",
            "Size:       1417625450\n",
            "Compressed: 88394577\n"
          ]
        }
      ]
    },
    {
      "cell_type": "code",
      "source": [
        "dtypes = {'AMOSTRA': 'Int32', 'ANTIVIRAL': 'Int32', 'AN_ADENO': 'Int32', 'AN_OUTRO': 'Int32', 'AN_PARA1': 'Int32',\n",
        "          'AN_PARA2': 'Int32', 'AN_PARA3': 'Int32', 'AN_SARS2': 'Int32', 'AN_VSR': 'Int32', 'ASMA': 'Int32',\n",
        "          'AVE_SUINO': 'Int32', 'CARDIOPATI': 'Int32', 'CLASSI_FIN': 'Int32', 'CLASSI_OUT': 'string',\n",
        "          'COD_IDADE': 'string', 'CO_MUN_NOT': 'Int32', 'CO_MUN_RES': 'Int32', 'CO_MU_INTE': 'Int32',\n",
        "          'CO_PAIS': 'Int32', 'CO_PS_VGM': 'string', 'CO_REGIONA': 'Int32', 'CO_RG_INTE': 'Int32',\n",
        "          'CO_RG_RESI': 'Int32', 'CO_UNI_NOT': 'Int32', 'CRITERIO': 'Int32', 'CS_ESCOL_N': 'Int32',\n",
        "          'CS_GESTANT': 'Int32', 'CS_RACA': 'Int32', 'CS_SEXO': 'string', 'CS_ZONA': 'Int32',\n",
        "          'DESC_RESP': 'Int32', 'DIABETES': 'Int32', 'DIARREIA': 'Int32', 'DISPNEIA': 'Int32',\n",
        "          'DOR_ABD': 'Int32', 'DOSE_1_COV': 'string', 'DOSE_2_COV': 'string', 'DOSE_REF': 'string',\n",
        "          'DS_AN_OUT': 'string', 'DS_PCR_OUT': 'string', 'DT_1_DOSE': 'string', 'DT_2_DOSE': 'string',\n",
        "          'DT_ANTIVIR': 'string', 'DT_COLETA': 'string', 'DT_CO_SOR': 'string', 'DT_DIGITA': 'string',\n",
        "          'DT_DOSEUNI': 'string', 'DT_ENCERRA': 'string', 'DT_ENTUTI': 'string', 'DT_EVOLUCA': 'string',\n",
        "          'DT_INTERNA': 'string', 'DT_NASC': 'string', 'DT_NOTIFIC': 'string', 'DT_PCR': 'string',\n",
        "          'DT_RAIOX': 'string', 'DT_RES': 'string', 'DT_RES_AN': 'string', 'DT_RT_VGM': 'string',\n",
        "          'DT_SAIDUTI': 'string', 'DT_SIN_PRI': 'string', 'DT_TOMO': 'string', 'DT_UT_DOSE': 'string',\n",
        "          'DT_VAC_MAE': 'string', 'DT_VGM': 'string', 'ESTRANG': 'Int32', 'EVOLUCAO': 'Int32',\n",
        "          'FAB_COVREF': 'string', 'FAB_COV_1': 'string', 'FAB_COV_2': 'string', 'FADIGA': 'Int32',\n",
        "          'FATOR_RISC': 'Int32', 'FEBRE': 'Int32', 'FLUASU_OUT': 'string', 'FLUBLI_OUT': 'string',\n",
        "          'FNT_IN_COV': 'Int32', 'GARGANTA': 'Int32', 'HEMATOLOGI': 'Int32', 'HEPATICA': 'Int32',\n",
        "          'HISTO_VGM': 'string', 'HOSPITAL': 'Int32', 'ID_MN_INTE': 'string', 'ID_MN_RESI': 'string',\n",
        "          'ID_MUNICIP': 'string', 'ID_PAIS': 'string', 'ID_REGIONA': 'string', 'ID_RG_INTE': 'string',\n",
        "          'ID_RG_RESI': 'string', 'ID_UNIDADE': 'string', 'IMUNODEPRE': 'Int32', 'LAB_PR_COV': 'string',\n",
        "          'LOTE_1_COV': 'string', 'LOTE_2_COV': 'string', 'LOTE_REF': 'string', 'LO_PS_VGM': 'string',\n",
        "          'MAE_VAC': 'Int32', 'MORB_DESC': 'string', 'M_AMAMENTA': 'Int32', 'NEUROLOGIC': 'Int32',\n",
        "          'NOSOCOMIAL': 'Int32', 'NU_IDADE_N': 'Int32', 'OBESIDADE': 'Int32', 'OBES_IMC': 'string',\n",
        "          'OUTRO_DES': 'string', 'OUTRO_SIN': 'Int32', 'OUT_AMOST': 'string', 'OUT_ANIM': 'string',\n",
        "          'OUT_ANTIV': 'string', 'OUT_MORBI': 'Int32', 'OUT_SOR': 'string', 'PAC_COCBO': 'string',\n",
        "          'PAC_DSCBO': 'string', 'PAIS_VGM': 'string', 'PCR_ADENO': 'Int32', 'PCR_BOCA': 'Int32',\n",
        "          'PCR_FLUASU': 'Int32', 'PCR_FLUBLI': 'Int32', 'PCR_METAP': 'Int32', 'PCR_OUTRO': 'Int32',\n",
        "          'PCR_PARA1': 'Int32', 'PCR_PARA2': 'Int32', 'PCR_PARA3': 'Int32', 'PCR_PARA4': 'Int32',\n",
        "          'PCR_RESUL': 'Int32', 'PCR_RINO': 'Int32', 'PCR_SARS2': 'Int32', 'PCR_VSR': 'Int32',\n",
        "          'PERD_OLFT': 'Int32', 'PERD_PALA': 'Int32', 'PNEUMOPATI': 'Int32', 'POS_AN_FLU': 'Int32',\n",
        "          'POS_AN_OUT': 'Int32', 'POS_PCRFLU': 'Int32', 'POS_PCROUT': 'Int32', 'PUERPERA': 'Int32',\n",
        "          'RAIOX_OUT': 'string', 'RAIOX_RES': 'Int32', 'RENAL': 'Int32', 'RES_AN': 'Int32', 'RES_IGA': 'Int32',\n",
        "          'RES_IGG': 'Int32', 'RES_IGM': 'Int32', 'SATURACAO': 'Int32', 'SEM_NOT': 'Int32', 'SEM_PRI': 'Int32',\n",
        "          'SG_UF': 'string', 'SG_UF_INTE': 'string', 'SG_UF_NOT': 'string', 'SIND_DOWN': 'Int32',\n",
        "          'SOR_OUT': 'string', 'SUPORT_VEN': 'Int32', 'SURTO_SG': 'string', 'TOMO_OUT': 'string',\n",
        "          'TOMO_RES': 'Int32', 'TOSSE': 'Int32', 'TP_AMOSTRA': 'Int32', 'TP_AM_SOR': 'Int32',\n",
        "          'TP_ANTIVIR': 'Int32', 'TP_FLU_AN': 'Int32', 'TP_FLU_PCR': 'Int32', 'TP_IDADE': 'Int32',\n",
        "          'TP_SOR': 'Int32', 'TP_TES_AN': 'Int32', 'UTI': 'Int32', 'VACINA': 'Int32', 'VACINA_COV': 'Int32',\n",
        "          'VOMITO': 'Int32'}\n",
        "\n",
        "ausentes2021 = {'DOSE_2REF': 'string', 'FAB_COVRF2': 'string', 'LOTE_REF2': 'string',\n",
        "                'TRAT_COV': 'Int32', 'TIPO_TRAT': 'Int32', 'OUT_TRAT': 'string', 'DT_TRT_COV': 'string'}\n",
        "\n",
        "datas = ['DOSE_1_COV', 'DOSE_2REF', 'DOSE_2_COV', 'DOSE_REF', 'DT_1_DOSE', 'DT_2_DOSE', 'DT_ANTIVIR', 'DT_COLETA',\n",
        "         'DT_CO_SOR', 'DT_DIGITA', 'DT_DOSEUNI', 'DT_ENCERRA', 'DT_ENTUTI', 'DT_EVOLUCA', 'DT_INTERNA', 'DT_NASC',\n",
        "         'DT_NOTIFIC', 'DT_PCR', 'DT_RAIOX', 'DT_RES', 'DT_RES_AN', 'DT_RT_VGM', 'DT_SAIDUTI', 'DT_SIN_PRI',\n",
        "         'DT_TOMO', 'DT_TRT_COV', 'DT_UT_DOSE', 'DT_VAC_MAE', 'DT_VGM']"
      ],
      "metadata": {
        "id": "uPnSUswJawan"
      },
      "execution_count": 4,
      "outputs": []
    },
    {
      "cell_type": "code",
      "source": [
        "%%time\n",
        "\n",
        "df = pd.read_csv('/content/INFLUD21-20-02-2023.csv', sep=';', dtype=dtypes)"
      ],
      "metadata": {
        "id": "glhrVI-zTA6M",
        "colab": {
          "base_uri": "https://localhost:8080/"
        },
        "outputId": "08d1b333-9d0f-4043-b930-f844c3471110"
      },
      "execution_count": 5,
      "outputs": [
        {
          "output_type": "stream",
          "name": "stdout",
          "text": [
            "CPU times: user 2min 1s, sys: 7.25 s, total: 2min 8s\n",
            "Wall time: 2min 14s\n"
          ]
        }
      ]
    },
    {
      "cell_type": "code",
      "source": [
        "df[list(ausentes2021.keys())] = [None] * len(ausentes2021)\n",
        "\n",
        "dtypes.update(ausentes2021)"
      ],
      "metadata": {
        "id": "c_ieQXXwxNpJ"
      },
      "execution_count": 6,
      "outputs": []
    },
    {
      "cell_type": "code",
      "source": [
        "%%time\n",
        "\n",
        "df = pd.concat([df, pd.read_csv('/content/INFLUD22-13-02-2023.csv', sep=';', dtype=dtypes)])\n",
        "df = pd.concat([df, pd.read_csv('/content/INFLUD23-13-02-2023.csv', sep=';', dtype=dtypes)])"
      ],
      "metadata": {
        "id": "lXFAZSK100rS",
        "colab": {
          "base_uri": "https://localhost:8080/"
        },
        "outputId": "ae12a549-f0d6-4588-9102-66a4efb268c4"
      },
      "execution_count": 7,
      "outputs": [
        {
          "output_type": "stream",
          "name": "stdout",
          "text": [
            "CPU times: user 1min 21s, sys: 3.63 s, total: 1min 25s\n",
            "Wall time: 1min 25s\n"
          ]
        }
      ]
    },
    {
      "cell_type": "code",
      "source": [
        "%%time\n",
        "\n",
        "for campo in datas:\n",
        "    df[campo] = pd.to_datetime(df[campo], format='%d/%m/%Y', errors='coerce')"
      ],
      "metadata": {
        "id": "SqYHfWTVuIpN",
        "colab": {
          "base_uri": "https://localhost:8080/"
        },
        "outputId": "4e4dd11c-5390-4750-dfde-bbe815ba3b69"
      },
      "execution_count": 8,
      "outputs": [
        {
          "output_type": "stream",
          "name": "stdout",
          "text": [
            "CPU times: user 36 s, sys: 180 ms, total: 36.2 s\n",
            "Wall time: 36.2 s\n"
          ]
        }
      ]
    },
    {
      "cell_type": "code",
      "source": [
        "df.info()"
      ],
      "metadata": {
        "id": "bxq101V5T9SN",
        "colab": {
          "base_uri": "https://localhost:8080/"
        },
        "outputId": "ef3528ee-4bfa-4210-f0a6-0c1982585762"
      },
      "execution_count": 9,
      "outputs": [
        {
          "output_type": "stream",
          "name": "stdout",
          "text": [
            "<class 'pandas.core.frame.DataFrame'>\n",
            "Int64Index: 2310360 entries, 0 to 22642\n",
            "Columns: 173 entries, DT_NOTIFIC to DT_TRT_COV\n",
            "dtypes: Int32(99), datetime64[ns](29), string(45)\n",
            "memory usage: 2.4 GB\n"
          ]
        }
      ]
    },
    {
      "cell_type": "markdown",
      "source": [
        "## Pré-processamento"
      ],
      "metadata": {
        "id": "NtsrHCuk5siO"
      }
    },
    {
      "cell_type": "markdown",
      "source": [
        "### Contagem"
      ],
      "metadata": {
        "id": "-5BJToo4bnSJ"
      }
    },
    {
      "cell_type": "code",
      "source": [
        "# Campos descritos no dicionário de dados.\n",
        "\n",
        "dicionario = ['NU_NOTIFIC', 'DT_NOTIFIC', 'SEM_NOT', 'DT_SIN_PRI', 'SEM_PRI', 'SG_UF_NOT', 'ID_MUNICIP', 'CO_MUN_NOT',\n",
        "              'ID_REGIONA', 'CO_REGIONA', 'ID_UNIDADE', 'CO_UNI_NOT', 'TEM_CPF', 'NU_CPF', 'ESTRANG', 'NU_CNS',\n",
        "              'NM_PACIENT', 'CS_SEXO', 'DT_NASC', 'NU_IDADE_N', 'TP_IDADE', 'CS_GESTANT', 'CS_RACA', 'CS_ETINIA',\n",
        "              'POV_CT', 'TP_POV_CT', 'CS_ESCOL_N', 'PAC_COCBO', 'PAC_DSCBO', 'NM_MAE_PAC', 'NU_CEP', 'SG_UF',\n",
        "              'ID_RG_RESI', 'CO_RG_RESI', 'ID_MN_RESI', 'CO_MUN_RES', 'NM_BAIRRO', 'NM_LOGRADO', 'NU_NUMERO',\n",
        "              'NM_COMPLEM', 'NU_DDD_TEL', 'NU_TELEFON', 'CS_ZONA', 'ID_PAIS', 'CO_PAIS', 'NOSOCOMIAL', 'AVE_SUINO',\n",
        "              'OUT_ANIM', 'FEBRE', 'TOSSE', 'GARGANTA', 'DISPNEIA', 'DESC_RESP', 'SATURACAO', 'DIARREIA', 'VOMITO',\n",
        "              'DOR_ABD', 'FADIGA', 'PERD_OLFT', 'PERD_PALA', 'OUTRO_SIN', 'OUTRO_DES', 'FATOR_RISC', 'PUERPERA',\n",
        "              'CARDIOPATI', 'HEMATOLOGI', 'SIND_DOWN', 'HEPATICA', 'ASMA', 'DIABETES', 'NEUROLOGIC', 'PNEUMOPATI',\n",
        "              'IMUNODEPRE', 'RENAL', 'OBESIDADE', 'OBES_IMC', 'OUT_MORBI', 'MORB_DESC', 'VACINA_COV', 'DOSE_1_COV',\n",
        "              'DOSE_2_COV', 'DOSE_REF', 'DOSE_2REF', 'FAB_COV1', 'FAB_COV2', 'FAB_COVRF', 'FAB_COVRF2', 'LOTE_1_COV',\n",
        "              'LOTE_2_COV', 'LOTE_REF', 'LOTE_REF2', 'FNT_IN_COV', 'VACINA', 'DT_UT_DOSE', 'MAE_VAC', 'DT_VAC_MAE',\n",
        "              'M_AMAMENTA', 'DT_DOSEUNI', 'DT_1_DOSE', 'DT_2_DOSE', 'ANTIVIRAL', 'TP_ANTIVIR', 'OUT_ANTIV',\n",
        "              'DT_ANTIVIR', 'TRAT_COV', 'TIPO_TRAT', 'OUT_TRAT', 'DT_TRT_COV', 'HOSPITAL', 'DT_INTERNA', 'SG_UF_INTE',\n",
        "              'ID_RG_INTE', 'CO_RG_INTE', 'ID_MN_INTE', 'CO_MU_INTE', 'ID_UN_INTE', 'CO_UN_INTE', 'UTI', 'DT_ENTUTI',\n",
        "              'DT_SAIDUTI', 'SUPORT_VEN', 'RAIOX_RES', 'RAIOX_OUT', 'DT_RAIOX', 'TOMO_RES', 'TOMO_OUT', 'DT_TOMO',\n",
        "              'AMOSTRA', 'DT_COLETA', 'TP_AMOSTRA', 'OUT_AMOST', 'REQUI_GAL', 'TP_TES_AN', 'DT_RES_AN', 'RES_AN',\n",
        "              'LAB_AN', 'CO_LAB_AN', 'POS_AN_FLU', 'TP_FLU_AN', 'POS_AN_OUT', 'AN_SARS2', 'AN_VSR', 'AN_PARA1',\n",
        "              'AN_PARA2', 'AN_PARA3', 'AN_ADENO', 'AN_OUTRO', 'DS_AN_OUT', 'PCR_RESUL', 'DT_PCR', 'POS_PCRFLU',\n",
        "              'TP_FLU_PCR', 'PCR_FLUASU', 'FLUASU_OUT', 'PCR_FLUBLI', 'FLUBLI_OUT', 'POS_PCROUT', 'PCR_SARS2',\n",
        "              'PCR_VSR', 'PCR_PARA1', 'PCR_PARA2', 'PCR_PARA3', 'PCR_PARA4', 'PCR_ADENO', 'PCR_METAP', 'PCR_BOCA',\n",
        "              'PCR_RINO', 'PCR_OUTRO', 'DS_PCR_OUT', 'LAB_PCR', 'CO_LAB_PCR', 'TP_AM_SOR', 'SOR_OUT', 'DT_CO_SOR',\n",
        "              'TP_SOR', 'OUT_SOR', 'SOR_OUT', 'RES_IGG', 'RES_IGM', 'RES_IGA', 'DT_RES', 'CLASSI_FIN', 'CLASSI_OUT',\n",
        "              'CRITERIO', 'EVOLUCAO', 'DT_EVOLUCA', 'DT_ENCERRA', 'NU_DO', 'OBSERVA', 'NOME_PROF', 'REG_PROF',\n",
        "              'DT_DIGITA']"
      ],
      "metadata": {
        "id": "S9y0Fj2AlauY"
      },
      "execution_count": 10,
      "outputs": []
    },
    {
      "cell_type": "code",
      "source": [
        "# # Campos descritos no dicionário de dados, mas inexistentes nas fontes.\n",
        "# # 'FAB_COV_1', 'FAB_COV_2', 'FAB_COVREF' (nas fontes) = 'FAB_COV1', 'FAB_COV2', 'FAB_COVRF' (no dicionário)\n",
        "\n",
        "# inexistentes_csv = list(dicionario - dtypes.keys())\n",
        "\n",
        "# inexistentes_csv"
      ],
      "metadata": {
        "id": "ITugNNvmr1RS"
      },
      "execution_count": 11,
      "outputs": []
    },
    {
      "cell_type": "code",
      "source": [
        "# Campos sem entrada no dicionário.\n",
        "# 'FAB_COV_1', 'FAB_COV_2', 'FAB_COVREF' (nas fontes) = 'FAB_COV1', 'FAB_COV2', 'FAB_COVRF' (no dicionário)\n",
        "\n",
        "inexistentes_dic = list((dtypes.keys() - dicionario) - set(['FAB_COV_1', 'FAB_COV_2', 'FAB_COVREF']))\n",
        "\n",
        "# df[inexistentes_dic].info(show_counts=True)"
      ],
      "metadata": {
        "id": "l9Vrg62gdQqf"
      },
      "execution_count": 12,
      "outputs": []
    },
    {
      "cell_type": "code",
      "source": [
        "# Campos de notificação e primeiros sintomas.\n",
        "\n",
        "campos = ['DT_NOTIFIC', 'SEM_NOT', 'SG_UF_NOT', 'DT_SIN_PRI', 'SEM_PRI']\n",
        "\n",
        "df[campos].info(show_counts=True)"
      ],
      "metadata": {
        "id": "6zQkIncCZ50L",
        "colab": {
          "base_uri": "https://localhost:8080/"
        },
        "outputId": "b1a62ef8-f84a-4584-9f5b-d421d86db267"
      },
      "execution_count": 13,
      "outputs": [
        {
          "output_type": "stream",
          "name": "stdout",
          "text": [
            "<class 'pandas.core.frame.DataFrame'>\n",
            "Int64Index: 2310360 entries, 0 to 22642\n",
            "Data columns (total 5 columns):\n",
            " #   Column      Non-Null Count    Dtype         \n",
            "---  ------      --------------    -----         \n",
            " 0   DT_NOTIFIC  2310360 non-null  datetime64[ns]\n",
            " 1   SEM_NOT     2310360 non-null  Int32         \n",
            " 2   SG_UF_NOT   2310360 non-null  string        \n",
            " 3   DT_SIN_PRI  2310360 non-null  datetime64[ns]\n",
            " 4   SEM_PRI     2310360 non-null  Int32         \n",
            "dtypes: Int32(2), datetime64[ns](2), string(1)\n",
            "memory usage: 92.5 MB\n"
          ]
        }
      ]
    },
    {
      "cell_type": "code",
      "source": [
        "# Campos relativos a internação.\n",
        "\n",
        "campos = ['HOSPITAL', 'DT_INTERNA', 'SG_UF_INTE',\n",
        "          'CO_RG_INTE', 'ID_RG_INTE', 'CO_MU_INTE', 'ID_MN_INTE']\n",
        "\n",
        "df[campos].info(show_counts=True)"
      ],
      "metadata": {
        "id": "1y2KhTe1rK6U",
        "colab": {
          "base_uri": "https://localhost:8080/"
        },
        "outputId": "516549fc-8781-4b9d-e784-35041849f860"
      },
      "execution_count": 14,
      "outputs": [
        {
          "output_type": "stream",
          "name": "stdout",
          "text": [
            "<class 'pandas.core.frame.DataFrame'>\n",
            "Int64Index: 2310360 entries, 0 to 22642\n",
            "Data columns (total 7 columns):\n",
            " #   Column      Non-Null Count    Dtype         \n",
            "---  ------      --------------    -----         \n",
            " 0   HOSPITAL    2245036 non-null  Int32         \n",
            " 1   DT_INTERNA  2157993 non-null  datetime64[ns]\n",
            " 2   SG_UF_INTE  2239369 non-null  string        \n",
            " 3   CO_RG_INTE  1800956 non-null  Int32         \n",
            " 4   ID_RG_INTE  1800956 non-null  string        \n",
            " 5   CO_MU_INTE  2163407 non-null  Int32         \n",
            " 6   ID_MN_INTE  2163407 non-null  string        \n",
            "dtypes: Int32(3), datetime64[ns](1), string(3)\n",
            "memory usage: 121.2 MB\n"
          ]
        }
      ]
    },
    {
      "cell_type": "code",
      "source": [
        "# Campos relativos à vacina contra COVID-19.\n",
        "\n",
        "campos = ['VACINA_COV', 'FNT_IN_COV',\n",
        "          'DOSE_1_COV', 'FAB_COV_1', 'LOTE_1_COV',\n",
        "          'DOSE_2_COV', 'FAB_COV_2', 'LOTE_2_COV',\n",
        "          'DOSE_REF', 'FAB_COVREF', 'LOTE_REF',\n",
        "          'DOSE_2REF', 'FAB_COVRF2', 'LOTE_REF2']\n",
        "\n",
        "df[campos].info(show_counts=True)"
      ],
      "metadata": {
        "colab": {
          "base_uri": "https://localhost:8080/"
        },
        "id": "jBCyrr270k_t",
        "outputId": "8e798925-fff8-4a4b-ac0b-c77bd647934e"
      },
      "execution_count": 15,
      "outputs": [
        {
          "output_type": "stream",
          "name": "stdout",
          "text": [
            "<class 'pandas.core.frame.DataFrame'>\n",
            "Int64Index: 2310360 entries, 0 to 22642\n",
            "Data columns (total 14 columns):\n",
            " #   Column      Non-Null Count    Dtype         \n",
            "---  ------      --------------    -----         \n",
            " 0   VACINA_COV  1863466 non-null  Int32         \n",
            " 1   FNT_IN_COV  1865057 non-null  Int32         \n",
            " 2   DOSE_1_COV  684415 non-null   datetime64[ns]\n",
            " 3   FAB_COV_1   685394 non-null   string        \n",
            " 4   LOTE_1_COV  590153 non-null   string        \n",
            " 5   DOSE_2_COV  544751 non-null   datetime64[ns]\n",
            " 6   FAB_COV_2   308176 non-null   string        \n",
            " 7   LOTE_2_COV  493157 non-null   string        \n",
            " 8   DOSE_REF    194419 non-null   datetime64[ns]\n",
            " 9   FAB_COVREF  193697 non-null   string        \n",
            " 10  LOTE_REF    192595 non-null   string        \n",
            " 11  DOSE_2REF   31824 non-null    datetime64[ns]\n",
            " 12  FAB_COVRF2  33122 non-null    string        \n",
            " 13  LOTE_REF2   33170 non-null    string        \n",
            "dtypes: Int32(2), datetime64[ns](4), string(8)\n",
            "memory usage: 251.2 MB\n"
          ]
        }
      ]
    },
    {
      "cell_type": "code",
      "source": [
        "# Campos \"marcado pelo usuário\" ou vazio.\n",
        "\n",
        "NAN0 = ['AN_ADENO', 'AN_OUTRO', 'AN_PARA1', 'AN_PARA2', 'AN_PARA3', 'AN_SARS2', 'AN_VSR',\n",
        "        'PCR_ADENO', 'PCR_BOCA', 'PCR_METAP', 'PCR_OUTRO', 'PCR_PARA1', 'PCR_PARA2',\n",
        "        'PCR_PARA3', 'PCR_PARA4', 'PCR_RINO', 'PCR_SARS2', 'PCR_VSR']\n",
        "\n",
        "df[NAN0].info(show_counts=True)"
      ],
      "metadata": {
        "colab": {
          "base_uri": "https://localhost:8080/"
        },
        "id": "ov8hnN5pal4F",
        "outputId": "9541ac97-5e6e-405a-92d3-2cc924776424"
      },
      "execution_count": 16,
      "outputs": [
        {
          "output_type": "stream",
          "name": "stdout",
          "text": [
            "<class 'pandas.core.frame.DataFrame'>\n",
            "Int64Index: 2310360 entries, 0 to 22642\n",
            "Data columns (total 18 columns):\n",
            " #   Column     Non-Null Count   Dtype\n",
            "---  ------     --------------   -----\n",
            " 0   AN_ADENO   166 non-null     Int32\n",
            " 1   AN_OUTRO   1429 non-null    Int32\n",
            " 2   AN_PARA1   72 non-null      Int32\n",
            " 3   AN_PARA2   23 non-null      Int32\n",
            " 4   AN_PARA3   157 non-null     Int32\n",
            " 5   AN_SARS2   330875 non-null  Int32\n",
            " 6   AN_VSR     6953 non-null    Int32\n",
            " 7   PCR_ADENO  4630 non-null    Int32\n",
            " 8   PCR_BOCA   2038 non-null    Int32\n",
            " 9   PCR_METAP  2743 non-null    Int32\n",
            " 10  PCR_OUTRO  2382 non-null    Int32\n",
            " 11  PCR_PARA1  549 non-null     Int32\n",
            " 12  PCR_PARA2  261 non-null     Int32\n",
            " 13  PCR_PARA3  1877 non-null    Int32\n",
            " 14  PCR_PARA4  597 non-null     Int32\n",
            " 15  PCR_RINO   13955 non-null   Int32\n",
            " 16  PCR_SARS2  798935 non-null  Int32\n",
            " 17  PCR_VSR    28086 non-null   Int32\n",
            "dtypes: Int32(18)\n",
            "memory usage: 215.9 MB\n"
          ]
        }
      ]
    },
    {
      "cell_type": "code",
      "source": [
        "# Campos relativos a origem e país.\n",
        "\n",
        "campos = ['ESTRANG', 'ID_PAIS', 'CO_PAIS']\n",
        "\n",
        "display(df[campos].info(show_counts=True))"
      ],
      "metadata": {
        "id": "IxCPcL8q6XDx",
        "colab": {
          "base_uri": "https://localhost:8080/",
          "height": 208
        },
        "outputId": "1df6a61a-64db-4fad-9343-bc94257df2e9"
      },
      "execution_count": 17,
      "outputs": [
        {
          "output_type": "stream",
          "name": "stdout",
          "text": [
            "<class 'pandas.core.frame.DataFrame'>\n",
            "Int64Index: 2310360 entries, 0 to 22642\n",
            "Data columns (total 3 columns):\n",
            " #   Column   Non-Null Count    Dtype \n",
            "---  ------   --------------    ----- \n",
            " 0   ESTRANG  1798643 non-null  Int32 \n",
            " 1   ID_PAIS  2310360 non-null  string\n",
            " 2   CO_PAIS  2310360 non-null  Int32 \n",
            "dtypes: Int32(2), string(1)\n",
            "memory usage: 57.3 MB\n"
          ]
        },
        {
          "output_type": "display_data",
          "data": {
            "text/plain": [
              "None"
            ]
          },
          "metadata": {}
        }
      ]
    },
    {
      "cell_type": "code",
      "source": [
        "# Campos tipo 'Outro'.\n",
        "\n",
        "outros = ['CLASSI_OUT', 'DS_AN_OUT', 'DS_PCR_OUT', 'FLUASU_OUT', 'FLUBLI_OUT',\n",
        "          'MORB_DESC', 'OUTRO_DES', 'OUT_AMOST', 'OUT_ANIM', 'OUT_ANTIV',\n",
        "          'OUT_SOR', 'OUT_TRAT', 'RAIOX_OUT', 'SOR_OUT', 'TOMO_OUT']\n",
        "\n",
        "# df[outros].info(show_counts=True)"
      ],
      "metadata": {
        "id": "GPRu4PZM0JkG"
      },
      "execution_count": 18,
      "outputs": []
    },
    {
      "cell_type": "code",
      "source": [
        "# \"Resultado da Sorologia para SARS-CoV-2.\" ???\n",
        "\n",
        "sorologia = ['RES_IGG', 'RES_IGM', 'RES_IGA']\n",
        "\n",
        "display(df[sorologia].info(show_counts=True))\n",
        "# print()\n",
        "\n",
        "# for campo in sorologia:\n",
        "#     display(df[campo].value_counts(dropna=False).sort_index())\n",
        "#     print()"
      ],
      "metadata": {
        "id": "3ohPZkoRHiJz",
        "colab": {
          "base_uri": "https://localhost:8080/",
          "height": 208
        },
        "outputId": "9816d967-eb42-4444-d97a-ff2d34d547c5"
      },
      "execution_count": 19,
      "outputs": [
        {
          "output_type": "stream",
          "name": "stdout",
          "text": [
            "<class 'pandas.core.frame.DataFrame'>\n",
            "Int64Index: 2310360 entries, 0 to 22642\n",
            "Data columns (total 3 columns):\n",
            " #   Column   Non-Null Count   Dtype\n",
            "---  ------   --------------   -----\n",
            " 0   RES_IGG  256592 non-null  Int32\n",
            " 1   RES_IGM  259464 non-null  Int32\n",
            " 2   RES_IGA  202793 non-null  Int32\n",
            "dtypes: Int32(3)\n",
            "memory usage: 50.7 MB\n"
          ]
        },
        {
          "output_type": "display_data",
          "data": {
            "text/plain": [
              "None"
            ]
          },
          "metadata": {}
        }
      ]
    },
    {
      "cell_type": "code",
      "source": [
        "# Quantidade de registros com sexo diferente de Masculino ou Feminino.\n",
        "\n",
        "(~df['CS_SEXO'].isin(['M', 'F'])).sum()"
      ],
      "metadata": {
        "id": "sbOtVLWpxG3y",
        "colab": {
          "base_uri": "https://localhost:8080/"
        },
        "outputId": "85179603-aee1-4575-bede-dca637d3e9db"
      },
      "execution_count": 20,
      "outputs": [
        {
          "output_type": "execute_result",
          "data": {
            "text/plain": [
              "376"
            ]
          },
          "metadata": {},
          "execution_count": 20
        }
      ]
    },
    {
      "cell_type": "code",
      "source": [
        "# Quantidade de registros sem data de nascimento.\n",
        "\n",
        "df['DT_NASC'].isna().sum()"
      ],
      "metadata": {
        "id": "XZK4AD3AbQBK",
        "colab": {
          "base_uri": "https://localhost:8080/"
        },
        "outputId": "3cfd2a19-7efb-4d29-bdab-3b2d58f358c0"
      },
      "execution_count": 21,
      "outputs": [
        {
          "output_type": "execute_result",
          "data": {
            "text/plain": [
              "1390"
            ]
          },
          "metadata": {},
          "execution_count": 21
        }
      ]
    },
    {
      "cell_type": "code",
      "source": [
        "# Quantidade de registros sem unidade federativa.\n",
        "\n",
        "df['SG_UF'].isna().sum()"
      ],
      "metadata": {
        "id": "EHoAOSZ-eYxS",
        "colab": {
          "base_uri": "https://localhost:8080/"
        },
        "outputId": "eb6c2d6a-160b-4b9b-f0a6-dba65075a576"
      },
      "execution_count": 22,
      "outputs": [
        {
          "output_type": "execute_result",
          "data": {
            "text/plain": [
              "398"
            ]
          },
          "metadata": {},
          "execution_count": 22
        }
      ]
    },
    {
      "cell_type": "code",
      "source": [
        "# # Quantidade de registros com ano de nascimento inferior a 1923, por ano.\n",
        "\n",
        "# with pd.option_context('display.max_rows', None): \n",
        "#     display(df['DT_NASC'][df['DT_NASC'].dt.year < 1923].dt.year.value_counts().sort_index())"
      ],
      "metadata": {
        "id": "K0Ut2v_8I8Ea"
      },
      "execution_count": 23,
      "outputs": []
    },
    {
      "cell_type": "code",
      "source": [
        "# Quantidade total de registros com ano de nascimento inferior a 1923.\n",
        "\n",
        "(df['DT_NASC'].dt.year < 1923).sum()"
      ],
      "metadata": {
        "id": "IPpjBoxpbMb1",
        "colab": {
          "base_uri": "https://localhost:8080/"
        },
        "outputId": "9941785d-3a04-400e-8769-8d8683681a03"
      },
      "execution_count": 24,
      "outputs": [
        {
          "output_type": "execute_result",
          "data": {
            "text/plain": [
              "6137"
            ]
          },
          "metadata": {},
          "execution_count": 24
        }
      ]
    },
    {
      "cell_type": "code",
      "source": [
        "# Quantidade de registros com unidade federativa onde está localizada a unidade que realizou a notificação diferente da internação do paciente.\n",
        "\n",
        "df['SG_UF_NOT'][df['SG_UF_NOT'] != df['SG_UF_INTE']].count()"
      ],
      "metadata": {
        "colab": {
          "base_uri": "https://localhost:8080/"
        },
        "id": "gFxhCXYuMq6-",
        "outputId": "27276c1a-0537-415b-b7b1-8e79e9cfa92d"
      },
      "execution_count": 25,
      "outputs": [
        {
          "output_type": "execute_result",
          "data": {
            "text/plain": [
              "504"
            ]
          },
          "metadata": {},
          "execution_count": 25
        }
      ]
    },
    {
      "cell_type": "code",
      "source": [
        "# Quantidade de registros com regional de saúde onde está localizada a unidade que realizou a notificação diferente da internação do paciente.\n",
        "\n",
        "df['CO_REGIONA'][df['CO_REGIONA'] != df['CO_RG_INTE']].count()"
      ],
      "metadata": {
        "colab": {
          "base_uri": "https://localhost:8080/"
        },
        "id": "_wBKP6GbOFf6",
        "outputId": "70dc79a8-50df-454c-d1f1-5f238945e1bf"
      },
      "execution_count": 26,
      "outputs": [
        {
          "output_type": "execute_result",
          "data": {
            "text/plain": [
              "4014"
            ]
          },
          "metadata": {},
          "execution_count": 26
        }
      ]
    },
    {
      "cell_type": "code",
      "source": [
        "# Quantidade de registros com município onde está localizada a unidade que realizou a notificação diferente da internação do paciente.\n",
        "\n",
        "df['CO_MUN_NOT'][df['CO_MUN_NOT'] != df['CO_MU_INTE']].count()"
      ],
      "metadata": {
        "colab": {
          "base_uri": "https://localhost:8080/"
        },
        "id": "9f8jVT_oOFOC",
        "outputId": "0f065876-ee68-4cca-a112-a38cf178ecb8"
      },
      "execution_count": 27,
      "outputs": [
        {
          "output_type": "execute_result",
          "data": {
            "text/plain": [
              "15126"
            ]
          },
          "metadata": {},
          "execution_count": 27
        }
      ]
    },
    {
      "cell_type": "markdown",
      "source": [
        "### Correção"
      ],
      "metadata": {
        "id": "aVdrMtkscupa"
      }
    },
    {
      "cell_type": "code",
      "source": [
        "# Campos \"marcado pelo usuário\" com valores NaN para 0.\n",
        "for campo in NAN0:\n",
        "    df[campo].fillna(0, inplace=True)\n",
        "\n",
        "# Campo CLASSI_FIN com valores NaN para 4-SRAG não especificado\n",
        "df['CLASSI_FIN'].fillna(4, inplace=True)\n",
        "\n",
        "# Campo CS_SEXO para numérico, como dicionário de dados.\n",
        "df['CS_SEXO'].replace({'M': '1', 'F': '2', 'I': '9'}, inplace=True)\n",
        "df['CS_SEXO'] = df['CS_SEXO'].astype('Int32')\n",
        "\n",
        "# Campos com valores NaN para 9-Ignorado.\n",
        "NAN9 = ['AMOSTRA', 'ANTIVIRAL', 'ASMA', 'AVE_SUINO', 'CARDIOPATI', 'CRITERIO', 'CS_ESCOL_N', 'CS_RACA', 'CS_ZONA', 'DESC_RESP', 'DIABETES',\n",
        "        'DIARREIA', 'DISPNEIA', 'DOR_ABD', 'EVOLUCAO', 'FADIGA', 'FATOR_RISC', 'FEBRE', 'FNT_IN_COV', 'GARGANTA', 'HEMATOLOGI', 'HEPATICA',\n",
        "        'HOSPITAL', 'IMUNODEPRE', 'MAE_VAC', 'M_AMAMENTA', 'NEUROLOGIC', 'NOSOCOMIAL', 'OBESIDADE', 'OUTRO_SIN', 'OUT_MORBI', 'PCR_FLUASU',\n",
        "        'PCR_FLUBLI', 'PCR_RESUL', 'PERD_OLFT', 'PERD_PALA', 'PNEUMOPATI', 'POS_AN_FLU', 'POS_AN_OUT', 'POS_PCRFLU', 'POS_PCROUT', 'PUERPERA',\n",
        "        'RAIOX_RES', 'RENAL', 'RES_AN', 'SATURACAO', 'SIND_DOWN', 'SUPORT_VEN', 'TIPO_TRAT', 'TOMO_RES', 'TOSSE', 'TP_AMOSTRA', 'TP_AM_SOR',\n",
        "        'TP_ANTIVIR', 'TP_FLU_AN', 'TP_FLU_PCR', 'TP_SOR', 'TP_TES_AN', 'TRAT_COV', 'UTI', 'VACINA', 'VACINA_COV', 'VOMITO']\n",
        "\n",
        "for campo in NAN9:\n",
        "    df[campo].fillna(9, inplace=True)\n",
        "\n",
        "# Campo OBES_IMC para decimal.\n",
        "df['OBES_IMC'][df['OBES_IMC'].str.contains(',', regex=False)] = df['OBES_IMC'][df['OBES_IMC'].str.contains(',', regex=False)].str.replace(',', '.')\n",
        "df['OBES_IMC'] = df['OBES_IMC'].astype('Float32')\n",
        "\n",
        "# Campos PAC_COCBO com valores 'XXX' para None.\n",
        "df['PAC_COCBO'].replace({'XXX': None}, inplace=True)\n",
        "\n",
        "# Campos PAC_DSCBO com valores 'NAO INFORMADO' para None.\n",
        "df['PAC_DSCBO'].replace({'NAO INFORMADO': None}, inplace=True)"
      ],
      "metadata": {
        "id": "81mXJPCacwJr"
      },
      "execution_count": 28,
      "outputs": []
    },
    {
      "cell_type": "markdown",
      "source": [
        "### Desmembramento"
      ],
      "metadata": {
        "id": "U8oB0ncpnzII"
      }
    },
    {
      "cell_type": "code",
      "source": [
        "# DataFrame de ocupações, com códigos e descrições.\n",
        "\n",
        "ocupacoes = ['PAC_COCBO', 'PAC_DSCBO']\n",
        "\n",
        "df_ocupacoes = df[ocupacoes][~df[ocupacoes].duplicated()].dropna().sort_values(by='PAC_COCBO').reset_index(drop=True)\n",
        "df_ocupacoes.columns = ['Codigo', 'Ocupacao']"
      ],
      "metadata": {
        "id": "pLv_JY1_2GYG"
      },
      "execution_count": 29,
      "outputs": []
    },
    {
      "cell_type": "code",
      "source": [
        "# df_ocupacoes.to_csv('/content/PJI410_ocupacoes.csv', index=False)"
      ],
      "metadata": {
        "id": "y_0oq0xcpbEb"
      },
      "execution_count": 30,
      "outputs": []
    },
    {
      "cell_type": "code",
      "source": [
        "# DataFrame de unidades, com códigos e descrições.\n",
        "\n",
        "unidades = ['CO_UNI_NOT', 'ID_UNIDADE']\n",
        "\n",
        "df_unidades = df[unidades][~df[unidades].duplicated()].dropna().sort_values(by='CO_UNI_NOT').reset_index(drop=True)\n",
        "df_unidades.columns = ['Codigo', 'Unidade']"
      ],
      "metadata": {
        "id": "FYGUHq6i5iMk"
      },
      "execution_count": 31,
      "outputs": []
    },
    {
      "cell_type": "code",
      "source": [
        "# df_unidades.to_csv('/content/PJI410_unidades.csv', index=False)"
      ],
      "metadata": {
        "id": "2RlNAuDHpcRN"
      },
      "execution_count": 32,
      "outputs": []
    },
    {
      "cell_type": "code",
      "source": [
        "# DataFrame de municípios, com códigos e descrições.\n",
        "\n",
        "df_municipios = pd.concat([df[['CO_MUN_NOT', 'ID_MUNICIP']].set_axis(['CO_MUNICIP', 'ID_MUNICIP'], axis=1),\n",
        "                           df[['CO_MUN_RES', 'ID_MN_RESI']].set_axis(['CO_MUNICIP', 'ID_MUNICIP'], axis=1),\n",
        "                           df[['CO_MU_INTE', 'ID_MN_INTE']].set_axis(['CO_MUNICIP', 'ID_MUNICIP'], axis=1)])\n",
        "\n",
        "df_municipios = df_municipios[~df_municipios.duplicated()].dropna().sort_values(by='CO_MUNICIP').reset_index(drop=True)\n",
        "df_municipios.columns = ['Codigo', 'Municipio']"
      ],
      "metadata": {
        "id": "cVtjElTuBfxA"
      },
      "execution_count": 33,
      "outputs": []
    },
    {
      "cell_type": "code",
      "source": [
        "# df_municipios.to_csv('/content/PJI410_municipios.csv', index=False)"
      ],
      "metadata": {
        "id": "LIgUq-tdpdf-"
      },
      "execution_count": 34,
      "outputs": []
    },
    {
      "cell_type": "code",
      "source": [
        "# DataFrame de regionais, com códigos e descrições.\n",
        "\n",
        "df_regionais = pd.concat([df[['CO_REGIONA', 'ID_REGIONA']],\n",
        "                          df[['CO_RG_RESI', 'ID_RG_RESI']].set_axis(['CO_REGIONA', 'ID_REGIONA'], axis=1),\n",
        "                          df[['CO_RG_INTE', 'ID_RG_INTE']].set_axis(['CO_REGIONA', 'ID_REGIONA'], axis=1)])\n",
        "\n",
        "df_regionais = df_regionais[~df_regionais.duplicated()].dropna().sort_values(by='CO_REGIONA').reset_index(drop=True)\n",
        "df_regionais.columns = ['Codigo', 'Regional']"
      ],
      "metadata": {
        "id": "mp5G6xLgCwYp"
      },
      "execution_count": 35,
      "outputs": []
    },
    {
      "cell_type": "code",
      "source": [
        "# df_regionais.to_csv('/content/PJI410_regionais.csv', index=False)"
      ],
      "metadata": {
        "id": "9BWK3VydpeT8"
      },
      "execution_count": 36,
      "outputs": []
    },
    {
      "cell_type": "markdown",
      "source": [
        "### Limpeza"
      ],
      "metadata": {
        "id": "8FXJZTX-bk0O"
      }
    },
    {
      "cell_type": "code",
      "source": [
        "# Remover registros com sexo diferente de 1-Masculino ou 2-Feminino.\n",
        "df.drop(df[~df['CS_SEXO'].isin([1, 2])].index, inplace=True)\n",
        "\n",
        "# Remover registros sem data de nascimento ou unidade federativa.\n",
        "df.dropna(subset=['DT_NASC', 'SG_UF'], inplace=True)\n",
        "\n",
        "# Remover registros com ano de nascimento inferior a 1923.\n",
        "df.drop(df[df['DT_NASC'].dt.year < 1923].index, inplace=True)\n",
        "\n",
        "# Remover registros de pacientes estrangeiros.\n",
        "df.drop(df[df['ESTRANG'] == 1].index, inplace=True)\n",
        "\n",
        "# Remover campos relativos à idade. (Temos a data de nascimento.)\n",
        "df.drop(['NU_IDADE_N', 'TP_IDADE'], axis=1, inplace=True)\n",
        "\n",
        "# Remover campos relativos ao país de origem. (Ao remover registros de pacientes estrangeiros ou sem unidade federativa, ficamos com apenas um valor nestes campos.)\n",
        "df.drop(['ESTRANG', 'ID_PAIS', 'CO_PAIS'], axis=1, inplace=True)\n",
        "\n",
        "# Remover campos de descrição dos dados desmembrados.\n",
        "df.drop(['PAC_DSCBO', 'ID_UNIDADE', 'ID_MUNICIP', 'ID_MN_RESI', 'ID_MN_INTE', 'ID_REGIONA', 'ID_RG_RESI', 'ID_RG_INTE'], axis=1, inplace=True)\n",
        "\n",
        "# Remover campos sem entrada no dicionário.\n",
        "df.drop(inexistentes_dic, axis=1, inplace=True)\n",
        "\n",
        "# Remover campos sobre resultado da sorologia para SARS-CoV-2. (O dicionário não contém a descrição dos valores.)\n",
        "df.drop(sorologia, axis=1, inplace=True)\n",
        "\n",
        "# Remover campos tipo 'Outro'. (Sem utilidade para macro-análises.)\n",
        "df.drop(outros, axis=1, inplace=True)\n",
        "\n",
        "# Remover campos de com somente 3% de dados válidos.\n",
        "df.drop(['NOSOCOMIAL', 'AVE_SUINO', 'ANTIVIRAL', 'TP_ANTIVIR', 'DT_ANTIVIR', 'TRAT_COV', 'TIPO_TRAT', 'DT_TRT_COV'], axis=1, inplace=True)\n",
        "\n",
        "# Remover campos vazios.\n",
        "df.dropna(how='all', axis=1, inplace=True)"
      ],
      "metadata": {
        "id": "HHODyCm7F7b_"
      },
      "execution_count": 37,
      "outputs": []
    },
    {
      "cell_type": "code",
      "source": [
        "df.info()"
      ],
      "metadata": {
        "colab": {
          "base_uri": "https://localhost:8080/"
        },
        "id": "GffTwh-1FQD4",
        "outputId": "2643015e-f99d-4913-8ee0-d44ce774dcf3"
      },
      "execution_count": 38,
      "outputs": [
        {
          "output_type": "stream",
          "name": "stdout",
          "text": [
            "<class 'pandas.core.frame.DataFrame'>\n",
            "Int64Index: 2277840 entries, 0 to 22642\n",
            "Columns: 125 entries, DT_NOTIFIC to LOTE_REF2\n",
            "dtypes: Float32(1), Int32(87), datetime64[ns](25), object(1), string(11)\n",
            "memory usage: 1.6+ GB\n"
          ]
        }
      ]
    },
    {
      "cell_type": "code",
      "source": [
        "# df.to_csv('/content/PJI410_preprocessados.csv', index=False)"
      ],
      "metadata": {
        "id": "g-N8wuthg5OA"
      },
      "execution_count": 39,
      "outputs": []
    },
    {
      "cell_type": "markdown",
      "source": [
        "## População estimada em 2021\n",
        "\n",
        "https://www.ibge.gov.br/cidades-e-estados"
      ],
      "metadata": {
        "id": "1cpHhZuxUrl9"
      }
    },
    {
      "cell_type": "code",
      "source": [
        "df_populacao = pd.read_csv('https://raw.githubusercontent.com/flohmannjr/PJI410/main/dados/populacao_estimada_2021.csv')"
      ],
      "metadata": {
        "id": "9xV5Vx3JUyKA"
      },
      "execution_count": 40,
      "outputs": []
    },
    {
      "cell_type": "code",
      "source": [
        "df_populacao['Notificacoes']  = df['SG_UF_NOT'].value_counts().sort_index().to_list()\n",
        "df_populacao['NotPor1000Hab'] = df_populacao['Notificacoes'] / (df_populacao['Populacao'] / 1000)\n",
        "df_populacao['NotMasculino']  = df['SG_UF_NOT'][df['CS_SEXO'] == 1].value_counts().sort_index().to_list()\n",
        "df_populacao['NotFeminino']   = df['SG_UF_NOT'][df['CS_SEXO'] == 2].value_counts().sort_index().to_list()"
      ],
      "metadata": {
        "id": "C6pIDpm9b__9"
      },
      "execution_count": 41,
      "outputs": []
    },
    {
      "cell_type": "code",
      "source": [
        "df_populacao[:5]"
      ],
      "metadata": {
        "colab": {
          "base_uri": "https://localhost:8080/",
          "height": 206
        },
        "id": "Ho8BOLEueeoV",
        "outputId": "584bd516-be29-4296-b4d3-a54683a9e13d"
      },
      "execution_count": 42,
      "outputs": [
        {
          "output_type": "execute_result",
          "data": {
            "text/plain": [
              "   UF      Nome  Populacao  Notificacoes  NotPor1000Hab  NotMasculino  \\\n",
              "0  AC      Acre     906876          6458       7.121150          3444   \n",
              "1  AL   Alagoas    3365351         25543       7.589996         13312   \n",
              "2  AM  Amazonas    4269995         31238       7.315699         16452   \n",
              "3  AP     Amapá     877613          5445       6.204329          2953   \n",
              "4  BA     Bahia   14985284         85029       5.674167         45856   \n",
              "\n",
              "   NotFeminino  \n",
              "0         3014  \n",
              "1        12231  \n",
              "2        14786  \n",
              "3         2492  \n",
              "4        39173  "
            ],
            "text/html": [
              "\n",
              "  <div id=\"df-04141e27-17b1-4297-844f-c53496fa1256\">\n",
              "    <div class=\"colab-df-container\">\n",
              "      <div>\n",
              "<style scoped>\n",
              "    .dataframe tbody tr th:only-of-type {\n",
              "        vertical-align: middle;\n",
              "    }\n",
              "\n",
              "    .dataframe tbody tr th {\n",
              "        vertical-align: top;\n",
              "    }\n",
              "\n",
              "    .dataframe thead th {\n",
              "        text-align: right;\n",
              "    }\n",
              "</style>\n",
              "<table border=\"1\" class=\"dataframe\">\n",
              "  <thead>\n",
              "    <tr style=\"text-align: right;\">\n",
              "      <th></th>\n",
              "      <th>UF</th>\n",
              "      <th>Nome</th>\n",
              "      <th>Populacao</th>\n",
              "      <th>Notificacoes</th>\n",
              "      <th>NotPor1000Hab</th>\n",
              "      <th>NotMasculino</th>\n",
              "      <th>NotFeminino</th>\n",
              "    </tr>\n",
              "  </thead>\n",
              "  <tbody>\n",
              "    <tr>\n",
              "      <th>0</th>\n",
              "      <td>AC</td>\n",
              "      <td>Acre</td>\n",
              "      <td>906876</td>\n",
              "      <td>6458</td>\n",
              "      <td>7.121150</td>\n",
              "      <td>3444</td>\n",
              "      <td>3014</td>\n",
              "    </tr>\n",
              "    <tr>\n",
              "      <th>1</th>\n",
              "      <td>AL</td>\n",
              "      <td>Alagoas</td>\n",
              "      <td>3365351</td>\n",
              "      <td>25543</td>\n",
              "      <td>7.589996</td>\n",
              "      <td>13312</td>\n",
              "      <td>12231</td>\n",
              "    </tr>\n",
              "    <tr>\n",
              "      <th>2</th>\n",
              "      <td>AM</td>\n",
              "      <td>Amazonas</td>\n",
              "      <td>4269995</td>\n",
              "      <td>31238</td>\n",
              "      <td>7.315699</td>\n",
              "      <td>16452</td>\n",
              "      <td>14786</td>\n",
              "    </tr>\n",
              "    <tr>\n",
              "      <th>3</th>\n",
              "      <td>AP</td>\n",
              "      <td>Amapá</td>\n",
              "      <td>877613</td>\n",
              "      <td>5445</td>\n",
              "      <td>6.204329</td>\n",
              "      <td>2953</td>\n",
              "      <td>2492</td>\n",
              "    </tr>\n",
              "    <tr>\n",
              "      <th>4</th>\n",
              "      <td>BA</td>\n",
              "      <td>Bahia</td>\n",
              "      <td>14985284</td>\n",
              "      <td>85029</td>\n",
              "      <td>5.674167</td>\n",
              "      <td>45856</td>\n",
              "      <td>39173</td>\n",
              "    </tr>\n",
              "  </tbody>\n",
              "</table>\n",
              "</div>\n",
              "      <button class=\"colab-df-convert\" onclick=\"convertToInteractive('df-04141e27-17b1-4297-844f-c53496fa1256')\"\n",
              "              title=\"Convert this dataframe to an interactive table.\"\n",
              "              style=\"display:none;\">\n",
              "        \n",
              "  <svg xmlns=\"http://www.w3.org/2000/svg\" height=\"24px\"viewBox=\"0 0 24 24\"\n",
              "       width=\"24px\">\n",
              "    <path d=\"M0 0h24v24H0V0z\" fill=\"none\"/>\n",
              "    <path d=\"M18.56 5.44l.94 2.06.94-2.06 2.06-.94-2.06-.94-.94-2.06-.94 2.06-2.06.94zm-11 1L8.5 8.5l.94-2.06 2.06-.94-2.06-.94L8.5 2.5l-.94 2.06-2.06.94zm10 10l.94 2.06.94-2.06 2.06-.94-2.06-.94-.94-2.06-.94 2.06-2.06.94z\"/><path d=\"M17.41 7.96l-1.37-1.37c-.4-.4-.92-.59-1.43-.59-.52 0-1.04.2-1.43.59L10.3 9.45l-7.72 7.72c-.78.78-.78 2.05 0 2.83L4 21.41c.39.39.9.59 1.41.59.51 0 1.02-.2 1.41-.59l7.78-7.78 2.81-2.81c.8-.78.8-2.07 0-2.86zM5.41 20L4 18.59l7.72-7.72 1.47 1.35L5.41 20z\"/>\n",
              "  </svg>\n",
              "      </button>\n",
              "      \n",
              "  <style>\n",
              "    .colab-df-container {\n",
              "      display:flex;\n",
              "      flex-wrap:wrap;\n",
              "      gap: 12px;\n",
              "    }\n",
              "\n",
              "    .colab-df-convert {\n",
              "      background-color: #E8F0FE;\n",
              "      border: none;\n",
              "      border-radius: 50%;\n",
              "      cursor: pointer;\n",
              "      display: none;\n",
              "      fill: #1967D2;\n",
              "      height: 32px;\n",
              "      padding: 0 0 0 0;\n",
              "      width: 32px;\n",
              "    }\n",
              "\n",
              "    .colab-df-convert:hover {\n",
              "      background-color: #E2EBFA;\n",
              "      box-shadow: 0px 1px 2px rgba(60, 64, 67, 0.3), 0px 1px 3px 1px rgba(60, 64, 67, 0.15);\n",
              "      fill: #174EA6;\n",
              "    }\n",
              "\n",
              "    [theme=dark] .colab-df-convert {\n",
              "      background-color: #3B4455;\n",
              "      fill: #D2E3FC;\n",
              "    }\n",
              "\n",
              "    [theme=dark] .colab-df-convert:hover {\n",
              "      background-color: #434B5C;\n",
              "      box-shadow: 0px 1px 3px 1px rgba(0, 0, 0, 0.15);\n",
              "      filter: drop-shadow(0px 1px 2px rgba(0, 0, 0, 0.3));\n",
              "      fill: #FFFFFF;\n",
              "    }\n",
              "  </style>\n",
              "\n",
              "      <script>\n",
              "        const buttonEl =\n",
              "          document.querySelector('#df-04141e27-17b1-4297-844f-c53496fa1256 button.colab-df-convert');\n",
              "        buttonEl.style.display =\n",
              "          google.colab.kernel.accessAllowed ? 'block' : 'none';\n",
              "\n",
              "        async function convertToInteractive(key) {\n",
              "          const element = document.querySelector('#df-04141e27-17b1-4297-844f-c53496fa1256');\n",
              "          const dataTable =\n",
              "            await google.colab.kernel.invokeFunction('convertToInteractive',\n",
              "                                                     [key], {});\n",
              "          if (!dataTable) return;\n",
              "\n",
              "          const docLinkHtml = 'Like what you see? Visit the ' +\n",
              "            '<a target=\"_blank\" href=https://colab.research.google.com/notebooks/data_table.ipynb>data table notebook</a>'\n",
              "            + ' to learn more about interactive tables.';\n",
              "          element.innerHTML = '';\n",
              "          dataTable['output_type'] = 'display_data';\n",
              "          await google.colab.output.renderOutput(dataTable, element);\n",
              "          const docLink = document.createElement('div');\n",
              "          docLink.innerHTML = docLinkHtml;\n",
              "          element.appendChild(docLink);\n",
              "        }\n",
              "      </script>\n",
              "    </div>\n",
              "  </div>\n",
              "  "
            ]
          },
          "metadata": {},
          "execution_count": 42
        }
      ]
    },
    {
      "cell_type": "code",
      "source": [
        "# df_populacao.to_csv('/content/PJI410_populacao.csv', index=False)"
      ],
      "metadata": {
        "id": "JmEKjPUDfQx_"
      },
      "execution_count": 43,
      "outputs": []
    },
    {
      "cell_type": "markdown",
      "source": [
        "## Evoluções"
      ],
      "metadata": {
        "id": "tfQ3oyVGgNzR"
      }
    },
    {
      "cell_type": "code",
      "source": [
        "df_evolucao = df[['SG_UF_NOT', 'EVOLUCAO']][df['EVOLUCAO'].isin(EVOLUCOES.keys())].value_counts().sort_index().reset_index()\n",
        "df_evolucao.columns = ['UF', 'Evolucao', 'Quantidade']\n",
        "df_evolucao['Por1000Hab'] = None\n",
        "\n",
        "for _, uf in df_populacao.iterrows():\n",
        "    for i, ev in df_evolucao[df_evolucao['UF'] == uf['UF']].iterrows():\n",
        "        df_evolucao.loc[i, 'Por1000Hab'] = ev['Quantidade'] / (uf['Populacao'] / 1000)"
      ],
      "metadata": {
        "id": "XnnCk2-JhpfF"
      },
      "execution_count": null,
      "outputs": []
    },
    {
      "cell_type": "code",
      "source": [
        "df_evolucao[:5]"
      ],
      "metadata": {
        "colab": {
          "base_uri": "https://localhost:8080/",
          "height": 206
        },
        "id": "Ei6AFZ4FkpGp",
        "outputId": "a77aeea5-b0ae-4506-9a13-b8dfdb2f204b"
      },
      "execution_count": null,
      "outputs": [
        {
          "output_type": "execute_result",
          "data": {
            "text/plain": [
              "   UF  Evolucao  Quantidade Por1000Hab\n",
              "0  AC         1        4008   4.419568\n",
              "1  AC         2        1849   2.038867\n",
              "2  AC         3          76   0.083804\n",
              "3  AL         1       15258   4.533851\n",
              "4  AL         2        5432   1.614096"
            ],
            "text/html": [
              "\n",
              "  <div id=\"df-5684f1c4-0d1f-4aae-b26b-b04246385370\">\n",
              "    <div class=\"colab-df-container\">\n",
              "      <div>\n",
              "<style scoped>\n",
              "    .dataframe tbody tr th:only-of-type {\n",
              "        vertical-align: middle;\n",
              "    }\n",
              "\n",
              "    .dataframe tbody tr th {\n",
              "        vertical-align: top;\n",
              "    }\n",
              "\n",
              "    .dataframe thead th {\n",
              "        text-align: right;\n",
              "    }\n",
              "</style>\n",
              "<table border=\"1\" class=\"dataframe\">\n",
              "  <thead>\n",
              "    <tr style=\"text-align: right;\">\n",
              "      <th></th>\n",
              "      <th>UF</th>\n",
              "      <th>Evolucao</th>\n",
              "      <th>Quantidade</th>\n",
              "      <th>Por1000Hab</th>\n",
              "    </tr>\n",
              "  </thead>\n",
              "  <tbody>\n",
              "    <tr>\n",
              "      <th>0</th>\n",
              "      <td>AC</td>\n",
              "      <td>1</td>\n",
              "      <td>4008</td>\n",
              "      <td>4.419568</td>\n",
              "    </tr>\n",
              "    <tr>\n",
              "      <th>1</th>\n",
              "      <td>AC</td>\n",
              "      <td>2</td>\n",
              "      <td>1849</td>\n",
              "      <td>2.038867</td>\n",
              "    </tr>\n",
              "    <tr>\n",
              "      <th>2</th>\n",
              "      <td>AC</td>\n",
              "      <td>3</td>\n",
              "      <td>76</td>\n",
              "      <td>0.083804</td>\n",
              "    </tr>\n",
              "    <tr>\n",
              "      <th>3</th>\n",
              "      <td>AL</td>\n",
              "      <td>1</td>\n",
              "      <td>15258</td>\n",
              "      <td>4.533851</td>\n",
              "    </tr>\n",
              "    <tr>\n",
              "      <th>4</th>\n",
              "      <td>AL</td>\n",
              "      <td>2</td>\n",
              "      <td>5432</td>\n",
              "      <td>1.614096</td>\n",
              "    </tr>\n",
              "  </tbody>\n",
              "</table>\n",
              "</div>\n",
              "      <button class=\"colab-df-convert\" onclick=\"convertToInteractive('df-5684f1c4-0d1f-4aae-b26b-b04246385370')\"\n",
              "              title=\"Convert this dataframe to an interactive table.\"\n",
              "              style=\"display:none;\">\n",
              "        \n",
              "  <svg xmlns=\"http://www.w3.org/2000/svg\" height=\"24px\"viewBox=\"0 0 24 24\"\n",
              "       width=\"24px\">\n",
              "    <path d=\"M0 0h24v24H0V0z\" fill=\"none\"/>\n",
              "    <path d=\"M18.56 5.44l.94 2.06.94-2.06 2.06-.94-2.06-.94-.94-2.06-.94 2.06-2.06.94zm-11 1L8.5 8.5l.94-2.06 2.06-.94-2.06-.94L8.5 2.5l-.94 2.06-2.06.94zm10 10l.94 2.06.94-2.06 2.06-.94-2.06-.94-.94-2.06-.94 2.06-2.06.94z\"/><path d=\"M17.41 7.96l-1.37-1.37c-.4-.4-.92-.59-1.43-.59-.52 0-1.04.2-1.43.59L10.3 9.45l-7.72 7.72c-.78.78-.78 2.05 0 2.83L4 21.41c.39.39.9.59 1.41.59.51 0 1.02-.2 1.41-.59l7.78-7.78 2.81-2.81c.8-.78.8-2.07 0-2.86zM5.41 20L4 18.59l7.72-7.72 1.47 1.35L5.41 20z\"/>\n",
              "  </svg>\n",
              "      </button>\n",
              "      \n",
              "  <style>\n",
              "    .colab-df-container {\n",
              "      display:flex;\n",
              "      flex-wrap:wrap;\n",
              "      gap: 12px;\n",
              "    }\n",
              "\n",
              "    .colab-df-convert {\n",
              "      background-color: #E8F0FE;\n",
              "      border: none;\n",
              "      border-radius: 50%;\n",
              "      cursor: pointer;\n",
              "      display: none;\n",
              "      fill: #1967D2;\n",
              "      height: 32px;\n",
              "      padding: 0 0 0 0;\n",
              "      width: 32px;\n",
              "    }\n",
              "\n",
              "    .colab-df-convert:hover {\n",
              "      background-color: #E2EBFA;\n",
              "      box-shadow: 0px 1px 2px rgba(60, 64, 67, 0.3), 0px 1px 3px 1px rgba(60, 64, 67, 0.15);\n",
              "      fill: #174EA6;\n",
              "    }\n",
              "\n",
              "    [theme=dark] .colab-df-convert {\n",
              "      background-color: #3B4455;\n",
              "      fill: #D2E3FC;\n",
              "    }\n",
              "\n",
              "    [theme=dark] .colab-df-convert:hover {\n",
              "      background-color: #434B5C;\n",
              "      box-shadow: 0px 1px 3px 1px rgba(0, 0, 0, 0.15);\n",
              "      filter: drop-shadow(0px 1px 2px rgba(0, 0, 0, 0.3));\n",
              "      fill: #FFFFFF;\n",
              "    }\n",
              "  </style>\n",
              "\n",
              "      <script>\n",
              "        const buttonEl =\n",
              "          document.querySelector('#df-5684f1c4-0d1f-4aae-b26b-b04246385370 button.colab-df-convert');\n",
              "        buttonEl.style.display =\n",
              "          google.colab.kernel.accessAllowed ? 'block' : 'none';\n",
              "\n",
              "        async function convertToInteractive(key) {\n",
              "          const element = document.querySelector('#df-5684f1c4-0d1f-4aae-b26b-b04246385370');\n",
              "          const dataTable =\n",
              "            await google.colab.kernel.invokeFunction('convertToInteractive',\n",
              "                                                     [key], {});\n",
              "          if (!dataTable) return;\n",
              "\n",
              "          const docLinkHtml = 'Like what you see? Visit the ' +\n",
              "            '<a target=\"_blank\" href=https://colab.research.google.com/notebooks/data_table.ipynb>data table notebook</a>'\n",
              "            + ' to learn more about interactive tables.';\n",
              "          element.innerHTML = '';\n",
              "          dataTable['output_type'] = 'display_data';\n",
              "          await google.colab.output.renderOutput(dataTable, element);\n",
              "          const docLink = document.createElement('div');\n",
              "          docLink.innerHTML = docLinkHtml;\n",
              "          element.appendChild(docLink);\n",
              "        }\n",
              "      </script>\n",
              "    </div>\n",
              "  </div>\n",
              "  "
            ]
          },
          "metadata": {},
          "execution_count": 41
        }
      ]
    },
    {
      "cell_type": "code",
      "source": [
        "# df_evolucao.to_csv('/content/PJI410_evolucao.csv', index=False)"
      ],
      "metadata": {
        "id": "uxLrxTBcpQeS"
      },
      "execution_count": null,
      "outputs": []
    },
    {
      "cell_type": "markdown",
      "source": [
        "## Evoluções por semana de primeiros sintomas"
      ],
      "metadata": {
        "id": "roumAcnqth-Y"
      }
    },
    {
      "cell_type": "code",
      "source": [
        "df_evolucao_prisin = df[['DT_SIN_PRI', 'EVOLUCAO']][df['EVOLUCAO'].isin(EVOLUCOES.keys())].value_counts().sort_index().reset_index()\n",
        "df_evolucao_prisin.columns = ['Data', 'Evolucao', 'Quantidade']\n",
        "\n",
        "for i, ev in df_evolucao_prisin.iterrows():\n",
        "    df_evolucao_prisin.loc[i, 'Segunda-feira'] = ev['Data'] - np.timedelta64(ev['Data'].dayofweek, 'D')\n",
        "\n",
        "df_evolucao_prisin = df_evolucao_prisin[['Segunda-feira', 'Evolucao', 'Quantidade']].groupby(by=['Segunda-feira', 'Evolucao']).sum().sort_index().reset_index()"
      ],
      "metadata": {
        "id": "1eA_Lh1Ttjke"
      },
      "execution_count": null,
      "outputs": []
    },
    {
      "cell_type": "code",
      "source": [
        "df_evolucao_prisin[:5]"
      ],
      "metadata": {
        "colab": {
          "base_uri": "https://localhost:8080/",
          "height": 206
        },
        "id": "sPrGrg0ZkrWR",
        "outputId": "91654819-a92d-4681-cd40-d7113ab70ca7"
      },
      "execution_count": null,
      "outputs": [
        {
          "output_type": "execute_result",
          "data": {
            "text/plain": [
              "  Segunda-feira  Evolucao  Quantidade\n",
              "0    2020-12-28         1        3287\n",
              "1    2020-12-28         2        1435\n",
              "2    2020-12-28         3          94\n",
              "3    2021-01-04         1       23355\n",
              "4    2021-01-04         2       10256"
            ],
            "text/html": [
              "\n",
              "  <div id=\"df-6ef52546-e8bc-4276-b1be-81aea9345b56\">\n",
              "    <div class=\"colab-df-container\">\n",
              "      <div>\n",
              "<style scoped>\n",
              "    .dataframe tbody tr th:only-of-type {\n",
              "        vertical-align: middle;\n",
              "    }\n",
              "\n",
              "    .dataframe tbody tr th {\n",
              "        vertical-align: top;\n",
              "    }\n",
              "\n",
              "    .dataframe thead th {\n",
              "        text-align: right;\n",
              "    }\n",
              "</style>\n",
              "<table border=\"1\" class=\"dataframe\">\n",
              "  <thead>\n",
              "    <tr style=\"text-align: right;\">\n",
              "      <th></th>\n",
              "      <th>Segunda-feira</th>\n",
              "      <th>Evolucao</th>\n",
              "      <th>Quantidade</th>\n",
              "    </tr>\n",
              "  </thead>\n",
              "  <tbody>\n",
              "    <tr>\n",
              "      <th>0</th>\n",
              "      <td>2020-12-28</td>\n",
              "      <td>1</td>\n",
              "      <td>3287</td>\n",
              "    </tr>\n",
              "    <tr>\n",
              "      <th>1</th>\n",
              "      <td>2020-12-28</td>\n",
              "      <td>2</td>\n",
              "      <td>1435</td>\n",
              "    </tr>\n",
              "    <tr>\n",
              "      <th>2</th>\n",
              "      <td>2020-12-28</td>\n",
              "      <td>3</td>\n",
              "      <td>94</td>\n",
              "    </tr>\n",
              "    <tr>\n",
              "      <th>3</th>\n",
              "      <td>2021-01-04</td>\n",
              "      <td>1</td>\n",
              "      <td>23355</td>\n",
              "    </tr>\n",
              "    <tr>\n",
              "      <th>4</th>\n",
              "      <td>2021-01-04</td>\n",
              "      <td>2</td>\n",
              "      <td>10256</td>\n",
              "    </tr>\n",
              "  </tbody>\n",
              "</table>\n",
              "</div>\n",
              "      <button class=\"colab-df-convert\" onclick=\"convertToInteractive('df-6ef52546-e8bc-4276-b1be-81aea9345b56')\"\n",
              "              title=\"Convert this dataframe to an interactive table.\"\n",
              "              style=\"display:none;\">\n",
              "        \n",
              "  <svg xmlns=\"http://www.w3.org/2000/svg\" height=\"24px\"viewBox=\"0 0 24 24\"\n",
              "       width=\"24px\">\n",
              "    <path d=\"M0 0h24v24H0V0z\" fill=\"none\"/>\n",
              "    <path d=\"M18.56 5.44l.94 2.06.94-2.06 2.06-.94-2.06-.94-.94-2.06-.94 2.06-2.06.94zm-11 1L8.5 8.5l.94-2.06 2.06-.94-2.06-.94L8.5 2.5l-.94 2.06-2.06.94zm10 10l.94 2.06.94-2.06 2.06-.94-2.06-.94-.94-2.06-.94 2.06-2.06.94z\"/><path d=\"M17.41 7.96l-1.37-1.37c-.4-.4-.92-.59-1.43-.59-.52 0-1.04.2-1.43.59L10.3 9.45l-7.72 7.72c-.78.78-.78 2.05 0 2.83L4 21.41c.39.39.9.59 1.41.59.51 0 1.02-.2 1.41-.59l7.78-7.78 2.81-2.81c.8-.78.8-2.07 0-2.86zM5.41 20L4 18.59l7.72-7.72 1.47 1.35L5.41 20z\"/>\n",
              "  </svg>\n",
              "      </button>\n",
              "      \n",
              "  <style>\n",
              "    .colab-df-container {\n",
              "      display:flex;\n",
              "      flex-wrap:wrap;\n",
              "      gap: 12px;\n",
              "    }\n",
              "\n",
              "    .colab-df-convert {\n",
              "      background-color: #E8F0FE;\n",
              "      border: none;\n",
              "      border-radius: 50%;\n",
              "      cursor: pointer;\n",
              "      display: none;\n",
              "      fill: #1967D2;\n",
              "      height: 32px;\n",
              "      padding: 0 0 0 0;\n",
              "      width: 32px;\n",
              "    }\n",
              "\n",
              "    .colab-df-convert:hover {\n",
              "      background-color: #E2EBFA;\n",
              "      box-shadow: 0px 1px 2px rgba(60, 64, 67, 0.3), 0px 1px 3px 1px rgba(60, 64, 67, 0.15);\n",
              "      fill: #174EA6;\n",
              "    }\n",
              "\n",
              "    [theme=dark] .colab-df-convert {\n",
              "      background-color: #3B4455;\n",
              "      fill: #D2E3FC;\n",
              "    }\n",
              "\n",
              "    [theme=dark] .colab-df-convert:hover {\n",
              "      background-color: #434B5C;\n",
              "      box-shadow: 0px 1px 3px 1px rgba(0, 0, 0, 0.15);\n",
              "      filter: drop-shadow(0px 1px 2px rgba(0, 0, 0, 0.3));\n",
              "      fill: #FFFFFF;\n",
              "    }\n",
              "  </style>\n",
              "\n",
              "      <script>\n",
              "        const buttonEl =\n",
              "          document.querySelector('#df-6ef52546-e8bc-4276-b1be-81aea9345b56 button.colab-df-convert');\n",
              "        buttonEl.style.display =\n",
              "          google.colab.kernel.accessAllowed ? 'block' : 'none';\n",
              "\n",
              "        async function convertToInteractive(key) {\n",
              "          const element = document.querySelector('#df-6ef52546-e8bc-4276-b1be-81aea9345b56');\n",
              "          const dataTable =\n",
              "            await google.colab.kernel.invokeFunction('convertToInteractive',\n",
              "                                                     [key], {});\n",
              "          if (!dataTable) return;\n",
              "\n",
              "          const docLinkHtml = 'Like what you see? Visit the ' +\n",
              "            '<a target=\"_blank\" href=https://colab.research.google.com/notebooks/data_table.ipynb>data table notebook</a>'\n",
              "            + ' to learn more about interactive tables.';\n",
              "          element.innerHTML = '';\n",
              "          dataTable['output_type'] = 'display_data';\n",
              "          await google.colab.output.renderOutput(dataTable, element);\n",
              "          const docLink = document.createElement('div');\n",
              "          docLink.innerHTML = docLinkHtml;\n",
              "          element.appendChild(docLink);\n",
              "        }\n",
              "      </script>\n",
              "    </div>\n",
              "  </div>\n",
              "  "
            ]
          },
          "metadata": {},
          "execution_count": 44
        }
      ]
    },
    {
      "cell_type": "code",
      "source": [
        "# df_evolucao_prisin.to_csv('/content/PJI410_evolucao_prisin.csv', index=False)"
      ],
      "metadata": {
        "id": "gUsr7tBHpV4v"
      },
      "execution_count": null,
      "outputs": []
    },
    {
      "cell_type": "markdown",
      "source": [
        "## Diagnósticos finais"
      ],
      "metadata": {
        "id": "97nsrldX4lkm"
      }
    },
    {
      "cell_type": "code",
      "source": [
        "df_diagnostico = df[['EVOLUCAO', 'CLASSI_FIN']][df['EVOLUCAO'].isin(EVOLUCOES.keys())].value_counts().sort_index().reset_index()\n",
        "df_diagnostico.columns = ['Evolucao', 'Classificacao', 'Quantidade']"
      ],
      "metadata": {
        "id": "s6Fe9vRl4rM-"
      },
      "execution_count": null,
      "outputs": []
    },
    {
      "cell_type": "code",
      "source": [
        "df_diagnostico[:5]"
      ],
      "metadata": {
        "colab": {
          "base_uri": "https://localhost:8080/",
          "height": 206
        },
        "outputId": "43919cfb-e563-40f6-a341-90da4bfeec56",
        "id": "xp3kdkCL6Jb4"
      },
      "execution_count": null,
      "outputs": [
        {
          "output_type": "execute_result",
          "data": {
            "text/plain": [
              "   Evolucao  Classificacao  Quantidade\n",
              "0         1              1       19389\n",
              "1         1              2       48574\n",
              "2         1              3        6435\n",
              "3         1              4      471166\n",
              "4         1              5      892609"
            ],
            "text/html": [
              "\n",
              "  <div id=\"df-9eae4645-5f18-4028-9022-ac57aa7f999b\">\n",
              "    <div class=\"colab-df-container\">\n",
              "      <div>\n",
              "<style scoped>\n",
              "    .dataframe tbody tr th:only-of-type {\n",
              "        vertical-align: middle;\n",
              "    }\n",
              "\n",
              "    .dataframe tbody tr th {\n",
              "        vertical-align: top;\n",
              "    }\n",
              "\n",
              "    .dataframe thead th {\n",
              "        text-align: right;\n",
              "    }\n",
              "</style>\n",
              "<table border=\"1\" class=\"dataframe\">\n",
              "  <thead>\n",
              "    <tr style=\"text-align: right;\">\n",
              "      <th></th>\n",
              "      <th>Evolucao</th>\n",
              "      <th>Classificacao</th>\n",
              "      <th>Quantidade</th>\n",
              "    </tr>\n",
              "  </thead>\n",
              "  <tbody>\n",
              "    <tr>\n",
              "      <th>0</th>\n",
              "      <td>1</td>\n",
              "      <td>1</td>\n",
              "      <td>19389</td>\n",
              "    </tr>\n",
              "    <tr>\n",
              "      <th>1</th>\n",
              "      <td>1</td>\n",
              "      <td>2</td>\n",
              "      <td>48574</td>\n",
              "    </tr>\n",
              "    <tr>\n",
              "      <th>2</th>\n",
              "      <td>1</td>\n",
              "      <td>3</td>\n",
              "      <td>6435</td>\n",
              "    </tr>\n",
              "    <tr>\n",
              "      <th>3</th>\n",
              "      <td>1</td>\n",
              "      <td>4</td>\n",
              "      <td>471166</td>\n",
              "    </tr>\n",
              "    <tr>\n",
              "      <th>4</th>\n",
              "      <td>1</td>\n",
              "      <td>5</td>\n",
              "      <td>892609</td>\n",
              "    </tr>\n",
              "  </tbody>\n",
              "</table>\n",
              "</div>\n",
              "      <button class=\"colab-df-convert\" onclick=\"convertToInteractive('df-9eae4645-5f18-4028-9022-ac57aa7f999b')\"\n",
              "              title=\"Convert this dataframe to an interactive table.\"\n",
              "              style=\"display:none;\">\n",
              "        \n",
              "  <svg xmlns=\"http://www.w3.org/2000/svg\" height=\"24px\"viewBox=\"0 0 24 24\"\n",
              "       width=\"24px\">\n",
              "    <path d=\"M0 0h24v24H0V0z\" fill=\"none\"/>\n",
              "    <path d=\"M18.56 5.44l.94 2.06.94-2.06 2.06-.94-2.06-.94-.94-2.06-.94 2.06-2.06.94zm-11 1L8.5 8.5l.94-2.06 2.06-.94-2.06-.94L8.5 2.5l-.94 2.06-2.06.94zm10 10l.94 2.06.94-2.06 2.06-.94-2.06-.94-.94-2.06-.94 2.06-2.06.94z\"/><path d=\"M17.41 7.96l-1.37-1.37c-.4-.4-.92-.59-1.43-.59-.52 0-1.04.2-1.43.59L10.3 9.45l-7.72 7.72c-.78.78-.78 2.05 0 2.83L4 21.41c.39.39.9.59 1.41.59.51 0 1.02-.2 1.41-.59l7.78-7.78 2.81-2.81c.8-.78.8-2.07 0-2.86zM5.41 20L4 18.59l7.72-7.72 1.47 1.35L5.41 20z\"/>\n",
              "  </svg>\n",
              "      </button>\n",
              "      \n",
              "  <style>\n",
              "    .colab-df-container {\n",
              "      display:flex;\n",
              "      flex-wrap:wrap;\n",
              "      gap: 12px;\n",
              "    }\n",
              "\n",
              "    .colab-df-convert {\n",
              "      background-color: #E8F0FE;\n",
              "      border: none;\n",
              "      border-radius: 50%;\n",
              "      cursor: pointer;\n",
              "      display: none;\n",
              "      fill: #1967D2;\n",
              "      height: 32px;\n",
              "      padding: 0 0 0 0;\n",
              "      width: 32px;\n",
              "    }\n",
              "\n",
              "    .colab-df-convert:hover {\n",
              "      background-color: #E2EBFA;\n",
              "      box-shadow: 0px 1px 2px rgba(60, 64, 67, 0.3), 0px 1px 3px 1px rgba(60, 64, 67, 0.15);\n",
              "      fill: #174EA6;\n",
              "    }\n",
              "\n",
              "    [theme=dark] .colab-df-convert {\n",
              "      background-color: #3B4455;\n",
              "      fill: #D2E3FC;\n",
              "    }\n",
              "\n",
              "    [theme=dark] .colab-df-convert:hover {\n",
              "      background-color: #434B5C;\n",
              "      box-shadow: 0px 1px 3px 1px rgba(0, 0, 0, 0.15);\n",
              "      filter: drop-shadow(0px 1px 2px rgba(0, 0, 0, 0.3));\n",
              "      fill: #FFFFFF;\n",
              "    }\n",
              "  </style>\n",
              "\n",
              "      <script>\n",
              "        const buttonEl =\n",
              "          document.querySelector('#df-9eae4645-5f18-4028-9022-ac57aa7f999b button.colab-df-convert');\n",
              "        buttonEl.style.display =\n",
              "          google.colab.kernel.accessAllowed ? 'block' : 'none';\n",
              "\n",
              "        async function convertToInteractive(key) {\n",
              "          const element = document.querySelector('#df-9eae4645-5f18-4028-9022-ac57aa7f999b');\n",
              "          const dataTable =\n",
              "            await google.colab.kernel.invokeFunction('convertToInteractive',\n",
              "                                                     [key], {});\n",
              "          if (!dataTable) return;\n",
              "\n",
              "          const docLinkHtml = 'Like what you see? Visit the ' +\n",
              "            '<a target=\"_blank\" href=https://colab.research.google.com/notebooks/data_table.ipynb>data table notebook</a>'\n",
              "            + ' to learn more about interactive tables.';\n",
              "          element.innerHTML = '';\n",
              "          dataTable['output_type'] = 'display_data';\n",
              "          await google.colab.output.renderOutput(dataTable, element);\n",
              "          const docLink = document.createElement('div');\n",
              "          docLink.innerHTML = docLinkHtml;\n",
              "          element.appendChild(docLink);\n",
              "        }\n",
              "      </script>\n",
              "    </div>\n",
              "  </div>\n",
              "  "
            ]
          },
          "metadata": {},
          "execution_count": 47
        }
      ]
    },
    {
      "cell_type": "code",
      "source": [
        "# df_diagnostico.to_csv('/content/PJI410_diagnostico.csv', index=False)"
      ],
      "metadata": {
        "id": "8i90mxtU6Jb4"
      },
      "execution_count": null,
      "outputs": []
    },
    {
      "cell_type": "markdown",
      "source": [
        "## Óbitos por COVID-19"
      ],
      "metadata": {
        "id": "iM338ebYhz4Z"
      }
    },
    {
      "cell_type": "code",
      "source": [
        "df_obitos_covid = df[['SG_UF_NOT']][(df['EVOLUCAO'] == 2) & (df['CLASSI_FIN'] == 5)].value_counts().sort_index().reset_index()\n",
        "df_obitos_covid.columns = ['UF', 'Quantidade']\n",
        "df_obitos_covid['Por1000Hab'] = None\n",
        "\n",
        "for _, uf in df_populacao.iterrows():\n",
        "    for i, oc in df_obitos_covid[df_obitos_covid['UF'] == uf['UF']].iterrows():\n",
        "        df_obitos_covid.loc[i, 'Por1000Hab'] = oc['Quantidade'] / (uf['Populacao'] / 1000)"
      ],
      "metadata": {
        "id": "492kXNCihqxs"
      },
      "execution_count": null,
      "outputs": []
    },
    {
      "cell_type": "code",
      "source": [
        "df_obitos_covid[:5]"
      ],
      "metadata": {
        "colab": {
          "base_uri": "https://localhost:8080/",
          "height": 206
        },
        "id": "l5HIaHOakvZ3",
        "outputId": "a8064027-26a2-46b0-eb82-db71d261e975"
      },
      "execution_count": null,
      "outputs": [
        {
          "output_type": "execute_result",
          "data": {
            "text/plain": [
              "   UF  Quantidade Por1000Hab\n",
              "0  AC        1114   1.228393\n",
              "1  AL        4121   1.224538\n",
              "2  AM        7194   1.684779\n",
              "3  AP        1042   1.187311\n",
              "4  BA       16043   1.070584"
            ],
            "text/html": [
              "\n",
              "  <div id=\"df-3dda7ae4-2d8e-4920-a6fe-d0f6e114d94a\">\n",
              "    <div class=\"colab-df-container\">\n",
              "      <div>\n",
              "<style scoped>\n",
              "    .dataframe tbody tr th:only-of-type {\n",
              "        vertical-align: middle;\n",
              "    }\n",
              "\n",
              "    .dataframe tbody tr th {\n",
              "        vertical-align: top;\n",
              "    }\n",
              "\n",
              "    .dataframe thead th {\n",
              "        text-align: right;\n",
              "    }\n",
              "</style>\n",
              "<table border=\"1\" class=\"dataframe\">\n",
              "  <thead>\n",
              "    <tr style=\"text-align: right;\">\n",
              "      <th></th>\n",
              "      <th>UF</th>\n",
              "      <th>Quantidade</th>\n",
              "      <th>Por1000Hab</th>\n",
              "    </tr>\n",
              "  </thead>\n",
              "  <tbody>\n",
              "    <tr>\n",
              "      <th>0</th>\n",
              "      <td>AC</td>\n",
              "      <td>1114</td>\n",
              "      <td>1.228393</td>\n",
              "    </tr>\n",
              "    <tr>\n",
              "      <th>1</th>\n",
              "      <td>AL</td>\n",
              "      <td>4121</td>\n",
              "      <td>1.224538</td>\n",
              "    </tr>\n",
              "    <tr>\n",
              "      <th>2</th>\n",
              "      <td>AM</td>\n",
              "      <td>7194</td>\n",
              "      <td>1.684779</td>\n",
              "    </tr>\n",
              "    <tr>\n",
              "      <th>3</th>\n",
              "      <td>AP</td>\n",
              "      <td>1042</td>\n",
              "      <td>1.187311</td>\n",
              "    </tr>\n",
              "    <tr>\n",
              "      <th>4</th>\n",
              "      <td>BA</td>\n",
              "      <td>16043</td>\n",
              "      <td>1.070584</td>\n",
              "    </tr>\n",
              "  </tbody>\n",
              "</table>\n",
              "</div>\n",
              "      <button class=\"colab-df-convert\" onclick=\"convertToInteractive('df-3dda7ae4-2d8e-4920-a6fe-d0f6e114d94a')\"\n",
              "              title=\"Convert this dataframe to an interactive table.\"\n",
              "              style=\"display:none;\">\n",
              "        \n",
              "  <svg xmlns=\"http://www.w3.org/2000/svg\" height=\"24px\"viewBox=\"0 0 24 24\"\n",
              "       width=\"24px\">\n",
              "    <path d=\"M0 0h24v24H0V0z\" fill=\"none\"/>\n",
              "    <path d=\"M18.56 5.44l.94 2.06.94-2.06 2.06-.94-2.06-.94-.94-2.06-.94 2.06-2.06.94zm-11 1L8.5 8.5l.94-2.06 2.06-.94-2.06-.94L8.5 2.5l-.94 2.06-2.06.94zm10 10l.94 2.06.94-2.06 2.06-.94-2.06-.94-.94-2.06-.94 2.06-2.06.94z\"/><path d=\"M17.41 7.96l-1.37-1.37c-.4-.4-.92-.59-1.43-.59-.52 0-1.04.2-1.43.59L10.3 9.45l-7.72 7.72c-.78.78-.78 2.05 0 2.83L4 21.41c.39.39.9.59 1.41.59.51 0 1.02-.2 1.41-.59l7.78-7.78 2.81-2.81c.8-.78.8-2.07 0-2.86zM5.41 20L4 18.59l7.72-7.72 1.47 1.35L5.41 20z\"/>\n",
              "  </svg>\n",
              "      </button>\n",
              "      \n",
              "  <style>\n",
              "    .colab-df-container {\n",
              "      display:flex;\n",
              "      flex-wrap:wrap;\n",
              "      gap: 12px;\n",
              "    }\n",
              "\n",
              "    .colab-df-convert {\n",
              "      background-color: #E8F0FE;\n",
              "      border: none;\n",
              "      border-radius: 50%;\n",
              "      cursor: pointer;\n",
              "      display: none;\n",
              "      fill: #1967D2;\n",
              "      height: 32px;\n",
              "      padding: 0 0 0 0;\n",
              "      width: 32px;\n",
              "    }\n",
              "\n",
              "    .colab-df-convert:hover {\n",
              "      background-color: #E2EBFA;\n",
              "      box-shadow: 0px 1px 2px rgba(60, 64, 67, 0.3), 0px 1px 3px 1px rgba(60, 64, 67, 0.15);\n",
              "      fill: #174EA6;\n",
              "    }\n",
              "\n",
              "    [theme=dark] .colab-df-convert {\n",
              "      background-color: #3B4455;\n",
              "      fill: #D2E3FC;\n",
              "    }\n",
              "\n",
              "    [theme=dark] .colab-df-convert:hover {\n",
              "      background-color: #434B5C;\n",
              "      box-shadow: 0px 1px 3px 1px rgba(0, 0, 0, 0.15);\n",
              "      filter: drop-shadow(0px 1px 2px rgba(0, 0, 0, 0.3));\n",
              "      fill: #FFFFFF;\n",
              "    }\n",
              "  </style>\n",
              "\n",
              "      <script>\n",
              "        const buttonEl =\n",
              "          document.querySelector('#df-3dda7ae4-2d8e-4920-a6fe-d0f6e114d94a button.colab-df-convert');\n",
              "        buttonEl.style.display =\n",
              "          google.colab.kernel.accessAllowed ? 'block' : 'none';\n",
              "\n",
              "        async function convertToInteractive(key) {\n",
              "          const element = document.querySelector('#df-3dda7ae4-2d8e-4920-a6fe-d0f6e114d94a');\n",
              "          const dataTable =\n",
              "            await google.colab.kernel.invokeFunction('convertToInteractive',\n",
              "                                                     [key], {});\n",
              "          if (!dataTable) return;\n",
              "\n",
              "          const docLinkHtml = 'Like what you see? Visit the ' +\n",
              "            '<a target=\"_blank\" href=https://colab.research.google.com/notebooks/data_table.ipynb>data table notebook</a>'\n",
              "            + ' to learn more about interactive tables.';\n",
              "          element.innerHTML = '';\n",
              "          dataTable['output_type'] = 'display_data';\n",
              "          await google.colab.output.renderOutput(dataTable, element);\n",
              "          const docLink = document.createElement('div');\n",
              "          docLink.innerHTML = docLinkHtml;\n",
              "          element.appendChild(docLink);\n",
              "        }\n",
              "      </script>\n",
              "    </div>\n",
              "  </div>\n",
              "  "
            ]
          },
          "metadata": {},
          "execution_count": 50
        }
      ]
    },
    {
      "cell_type": "code",
      "source": [
        "# df_obitos_covid.to_csv('/content/PJI410_obitos_covid.csv', index=False)"
      ],
      "metadata": {
        "id": "VPX7zjhEpaQM"
      },
      "execution_count": null,
      "outputs": []
    },
    {
      "cell_type": "markdown",
      "source": [
        "## Diferença média de dias entre primeiros sintomas e notificação"
      ],
      "metadata": {
        "id": "zK0yv98jkvw4"
      }
    },
    {
      "cell_type": "code",
      "source": [
        "df_demora = df[['DT_SIN_PRI', 'DT_NOTIFIC']].sort_values(by=['DT_SIN_PRI', 'DT_NOTIFIC']).copy().reset_index(drop=True)\n",
        "df_demora['Dias'] = ((df_demora['DT_NOTIFIC'] - df_demora['DT_SIN_PRI']) / np.timedelta64(1, 'D')).astype(int)\n",
        "df_demora.drop(['DT_NOTIFIC'], axis=1, inplace=True)\n",
        "df_demora = df_demora.groupby(by=['DT_SIN_PRI']).mean().reset_index()\n",
        "\n",
        "for i, de in df_demora.iterrows():\n",
        "    df_demora.loc[i, 'Segunda-feira'] = de['DT_SIN_PRI'] - np.timedelta64(de['DT_SIN_PRI'].dayofweek, 'D')\n",
        "\n",
        "df_demora.drop(['DT_SIN_PRI'], axis=1, inplace=True)\n",
        "df_demora = df_demora.groupby(by=['Segunda-feira']).mean().reset_index()"
      ],
      "metadata": {
        "id": "zDxJ2QfMKCfp"
      },
      "execution_count": null,
      "outputs": []
    },
    {
      "cell_type": "code",
      "source": [
        "df_demora[:5]"
      ],
      "metadata": {
        "colab": {
          "base_uri": "https://localhost:8080/",
          "height": 206
        },
        "id": "bjcSRuxJkxya",
        "outputId": "1e5b2f0b-8133-49b6-e876-8f1607daeaaf"
      },
      "execution_count": null,
      "outputs": [
        {
          "output_type": "execute_result",
          "data": {
            "text/plain": [
              "  Segunda-feira       Dias\n",
              "0    2020-12-28  12.900377\n",
              "1    2021-01-04  12.203469\n",
              "2    2021-01-11  12.746379\n",
              "3    2021-01-18  12.594892\n",
              "4    2021-01-25  13.966771"
            ],
            "text/html": [
              "\n",
              "  <div id=\"df-82259aca-4644-42b7-8337-6e8ca0f3408a\">\n",
              "    <div class=\"colab-df-container\">\n",
              "      <div>\n",
              "<style scoped>\n",
              "    .dataframe tbody tr th:only-of-type {\n",
              "        vertical-align: middle;\n",
              "    }\n",
              "\n",
              "    .dataframe tbody tr th {\n",
              "        vertical-align: top;\n",
              "    }\n",
              "\n",
              "    .dataframe thead th {\n",
              "        text-align: right;\n",
              "    }\n",
              "</style>\n",
              "<table border=\"1\" class=\"dataframe\">\n",
              "  <thead>\n",
              "    <tr style=\"text-align: right;\">\n",
              "      <th></th>\n",
              "      <th>Segunda-feira</th>\n",
              "      <th>Dias</th>\n",
              "    </tr>\n",
              "  </thead>\n",
              "  <tbody>\n",
              "    <tr>\n",
              "      <th>0</th>\n",
              "      <td>2020-12-28</td>\n",
              "      <td>12.900377</td>\n",
              "    </tr>\n",
              "    <tr>\n",
              "      <th>1</th>\n",
              "      <td>2021-01-04</td>\n",
              "      <td>12.203469</td>\n",
              "    </tr>\n",
              "    <tr>\n",
              "      <th>2</th>\n",
              "      <td>2021-01-11</td>\n",
              "      <td>12.746379</td>\n",
              "    </tr>\n",
              "    <tr>\n",
              "      <th>3</th>\n",
              "      <td>2021-01-18</td>\n",
              "      <td>12.594892</td>\n",
              "    </tr>\n",
              "    <tr>\n",
              "      <th>4</th>\n",
              "      <td>2021-01-25</td>\n",
              "      <td>13.966771</td>\n",
              "    </tr>\n",
              "  </tbody>\n",
              "</table>\n",
              "</div>\n",
              "      <button class=\"colab-df-convert\" onclick=\"convertToInteractive('df-82259aca-4644-42b7-8337-6e8ca0f3408a')\"\n",
              "              title=\"Convert this dataframe to an interactive table.\"\n",
              "              style=\"display:none;\">\n",
              "        \n",
              "  <svg xmlns=\"http://www.w3.org/2000/svg\" height=\"24px\"viewBox=\"0 0 24 24\"\n",
              "       width=\"24px\">\n",
              "    <path d=\"M0 0h24v24H0V0z\" fill=\"none\"/>\n",
              "    <path d=\"M18.56 5.44l.94 2.06.94-2.06 2.06-.94-2.06-.94-.94-2.06-.94 2.06-2.06.94zm-11 1L8.5 8.5l.94-2.06 2.06-.94-2.06-.94L8.5 2.5l-.94 2.06-2.06.94zm10 10l.94 2.06.94-2.06 2.06-.94-2.06-.94-.94-2.06-.94 2.06-2.06.94z\"/><path d=\"M17.41 7.96l-1.37-1.37c-.4-.4-.92-.59-1.43-.59-.52 0-1.04.2-1.43.59L10.3 9.45l-7.72 7.72c-.78.78-.78 2.05 0 2.83L4 21.41c.39.39.9.59 1.41.59.51 0 1.02-.2 1.41-.59l7.78-7.78 2.81-2.81c.8-.78.8-2.07 0-2.86zM5.41 20L4 18.59l7.72-7.72 1.47 1.35L5.41 20z\"/>\n",
              "  </svg>\n",
              "      </button>\n",
              "      \n",
              "  <style>\n",
              "    .colab-df-container {\n",
              "      display:flex;\n",
              "      flex-wrap:wrap;\n",
              "      gap: 12px;\n",
              "    }\n",
              "\n",
              "    .colab-df-convert {\n",
              "      background-color: #E8F0FE;\n",
              "      border: none;\n",
              "      border-radius: 50%;\n",
              "      cursor: pointer;\n",
              "      display: none;\n",
              "      fill: #1967D2;\n",
              "      height: 32px;\n",
              "      padding: 0 0 0 0;\n",
              "      width: 32px;\n",
              "    }\n",
              "\n",
              "    .colab-df-convert:hover {\n",
              "      background-color: #E2EBFA;\n",
              "      box-shadow: 0px 1px 2px rgba(60, 64, 67, 0.3), 0px 1px 3px 1px rgba(60, 64, 67, 0.15);\n",
              "      fill: #174EA6;\n",
              "    }\n",
              "\n",
              "    [theme=dark] .colab-df-convert {\n",
              "      background-color: #3B4455;\n",
              "      fill: #D2E3FC;\n",
              "    }\n",
              "\n",
              "    [theme=dark] .colab-df-convert:hover {\n",
              "      background-color: #434B5C;\n",
              "      box-shadow: 0px 1px 3px 1px rgba(0, 0, 0, 0.15);\n",
              "      filter: drop-shadow(0px 1px 2px rgba(0, 0, 0, 0.3));\n",
              "      fill: #FFFFFF;\n",
              "    }\n",
              "  </style>\n",
              "\n",
              "      <script>\n",
              "        const buttonEl =\n",
              "          document.querySelector('#df-82259aca-4644-42b7-8337-6e8ca0f3408a button.colab-df-convert');\n",
              "        buttonEl.style.display =\n",
              "          google.colab.kernel.accessAllowed ? 'block' : 'none';\n",
              "\n",
              "        async function convertToInteractive(key) {\n",
              "          const element = document.querySelector('#df-82259aca-4644-42b7-8337-6e8ca0f3408a');\n",
              "          const dataTable =\n",
              "            await google.colab.kernel.invokeFunction('convertToInteractive',\n",
              "                                                     [key], {});\n",
              "          if (!dataTable) return;\n",
              "\n",
              "          const docLinkHtml = 'Like what you see? Visit the ' +\n",
              "            '<a target=\"_blank\" href=https://colab.research.google.com/notebooks/data_table.ipynb>data table notebook</a>'\n",
              "            + ' to learn more about interactive tables.';\n",
              "          element.innerHTML = '';\n",
              "          dataTable['output_type'] = 'display_data';\n",
              "          await google.colab.output.renderOutput(dataTable, element);\n",
              "          const docLink = document.createElement('div');\n",
              "          docLink.innerHTML = docLinkHtml;\n",
              "          element.appendChild(docLink);\n",
              "        }\n",
              "      </script>\n",
              "    </div>\n",
              "  </div>\n",
              "  "
            ]
          },
          "metadata": {},
          "execution_count": 53
        }
      ]
    },
    {
      "cell_type": "code",
      "source": [
        "# df_demora.to_csv('/content/PJI410_demora.csv', index=False)"
      ],
      "metadata": {
        "id": "n6Q_GkT8piFZ"
      },
      "execution_count": null,
      "outputs": []
    },
    {
      "cell_type": "markdown",
      "source": [
        "## Média de notificações por semana por raça"
      ],
      "metadata": {
        "id": "PCGCkWaukXne"
      }
    },
    {
      "cell_type": "code",
      "source": [
        "df_raca = df[['DT_NOTIFIC', 'CS_RACA']][df['CS_RACA'].isin(RACAS.keys())].value_counts().sort_index().reset_index()\n",
        "df_raca.columns = ['Data', 'Raca', 'Quantidade']\n",
        "\n",
        "for i, da in df_raca.iterrows():\n",
        "    df_raca.loc[i, 'Segunda-feira'] = da['Data'] - np.timedelta64(da['Data'].dayofweek, 'D')\n",
        "\n",
        "df_raca.drop(['Data'], axis=1, inplace=True)\n",
        "df_raca = df_raca.groupby(by=['Segunda-feira', 'Raca']).mean().reset_index()"
      ],
      "metadata": {
        "id": "0F8Xuu4gkXne"
      },
      "execution_count": null,
      "outputs": []
    },
    {
      "cell_type": "code",
      "source": [
        "df_raca[:5]"
      ],
      "metadata": {
        "colab": {
          "base_uri": "https://localhost:8080/",
          "height": 206
        },
        "id": "ZbcI4vGGk0MP",
        "outputId": "c93aa106-0195-4c29-8e2e-268e46d25c01"
      },
      "execution_count": null,
      "outputs": [
        {
          "output_type": "execute_result",
          "data": {
            "text/plain": [
              "  Segunda-feira  Raca  Quantidade\n",
              "0    2020-12-28     1   77.000000\n",
              "1    2020-12-28     2    7.000000\n",
              "2    2020-12-28     3    2.000000\n",
              "3    2020-12-28     4   69.000000\n",
              "4    2021-01-04     1  606.714286"
            ],
            "text/html": [
              "\n",
              "  <div id=\"df-7e11634e-762f-45de-8f25-c9ec3f46a13d\">\n",
              "    <div class=\"colab-df-container\">\n",
              "      <div>\n",
              "<style scoped>\n",
              "    .dataframe tbody tr th:only-of-type {\n",
              "        vertical-align: middle;\n",
              "    }\n",
              "\n",
              "    .dataframe tbody tr th {\n",
              "        vertical-align: top;\n",
              "    }\n",
              "\n",
              "    .dataframe thead th {\n",
              "        text-align: right;\n",
              "    }\n",
              "</style>\n",
              "<table border=\"1\" class=\"dataframe\">\n",
              "  <thead>\n",
              "    <tr style=\"text-align: right;\">\n",
              "      <th></th>\n",
              "      <th>Segunda-feira</th>\n",
              "      <th>Raca</th>\n",
              "      <th>Quantidade</th>\n",
              "    </tr>\n",
              "  </thead>\n",
              "  <tbody>\n",
              "    <tr>\n",
              "      <th>0</th>\n",
              "      <td>2020-12-28</td>\n",
              "      <td>1</td>\n",
              "      <td>77.000000</td>\n",
              "    </tr>\n",
              "    <tr>\n",
              "      <th>1</th>\n",
              "      <td>2020-12-28</td>\n",
              "      <td>2</td>\n",
              "      <td>7.000000</td>\n",
              "    </tr>\n",
              "    <tr>\n",
              "      <th>2</th>\n",
              "      <td>2020-12-28</td>\n",
              "      <td>3</td>\n",
              "      <td>2.000000</td>\n",
              "    </tr>\n",
              "    <tr>\n",
              "      <th>3</th>\n",
              "      <td>2020-12-28</td>\n",
              "      <td>4</td>\n",
              "      <td>69.000000</td>\n",
              "    </tr>\n",
              "    <tr>\n",
              "      <th>4</th>\n",
              "      <td>2021-01-04</td>\n",
              "      <td>1</td>\n",
              "      <td>606.714286</td>\n",
              "    </tr>\n",
              "  </tbody>\n",
              "</table>\n",
              "</div>\n",
              "      <button class=\"colab-df-convert\" onclick=\"convertToInteractive('df-7e11634e-762f-45de-8f25-c9ec3f46a13d')\"\n",
              "              title=\"Convert this dataframe to an interactive table.\"\n",
              "              style=\"display:none;\">\n",
              "        \n",
              "  <svg xmlns=\"http://www.w3.org/2000/svg\" height=\"24px\"viewBox=\"0 0 24 24\"\n",
              "       width=\"24px\">\n",
              "    <path d=\"M0 0h24v24H0V0z\" fill=\"none\"/>\n",
              "    <path d=\"M18.56 5.44l.94 2.06.94-2.06 2.06-.94-2.06-.94-.94-2.06-.94 2.06-2.06.94zm-11 1L8.5 8.5l.94-2.06 2.06-.94-2.06-.94L8.5 2.5l-.94 2.06-2.06.94zm10 10l.94 2.06.94-2.06 2.06-.94-2.06-.94-.94-2.06-.94 2.06-2.06.94z\"/><path d=\"M17.41 7.96l-1.37-1.37c-.4-.4-.92-.59-1.43-.59-.52 0-1.04.2-1.43.59L10.3 9.45l-7.72 7.72c-.78.78-.78 2.05 0 2.83L4 21.41c.39.39.9.59 1.41.59.51 0 1.02-.2 1.41-.59l7.78-7.78 2.81-2.81c.8-.78.8-2.07 0-2.86zM5.41 20L4 18.59l7.72-7.72 1.47 1.35L5.41 20z\"/>\n",
              "  </svg>\n",
              "      </button>\n",
              "      \n",
              "  <style>\n",
              "    .colab-df-container {\n",
              "      display:flex;\n",
              "      flex-wrap:wrap;\n",
              "      gap: 12px;\n",
              "    }\n",
              "\n",
              "    .colab-df-convert {\n",
              "      background-color: #E8F0FE;\n",
              "      border: none;\n",
              "      border-radius: 50%;\n",
              "      cursor: pointer;\n",
              "      display: none;\n",
              "      fill: #1967D2;\n",
              "      height: 32px;\n",
              "      padding: 0 0 0 0;\n",
              "      width: 32px;\n",
              "    }\n",
              "\n",
              "    .colab-df-convert:hover {\n",
              "      background-color: #E2EBFA;\n",
              "      box-shadow: 0px 1px 2px rgba(60, 64, 67, 0.3), 0px 1px 3px 1px rgba(60, 64, 67, 0.15);\n",
              "      fill: #174EA6;\n",
              "    }\n",
              "\n",
              "    [theme=dark] .colab-df-convert {\n",
              "      background-color: #3B4455;\n",
              "      fill: #D2E3FC;\n",
              "    }\n",
              "\n",
              "    [theme=dark] .colab-df-convert:hover {\n",
              "      background-color: #434B5C;\n",
              "      box-shadow: 0px 1px 3px 1px rgba(0, 0, 0, 0.15);\n",
              "      filter: drop-shadow(0px 1px 2px rgba(0, 0, 0, 0.3));\n",
              "      fill: #FFFFFF;\n",
              "    }\n",
              "  </style>\n",
              "\n",
              "      <script>\n",
              "        const buttonEl =\n",
              "          document.querySelector('#df-7e11634e-762f-45de-8f25-c9ec3f46a13d button.colab-df-convert');\n",
              "        buttonEl.style.display =\n",
              "          google.colab.kernel.accessAllowed ? 'block' : 'none';\n",
              "\n",
              "        async function convertToInteractive(key) {\n",
              "          const element = document.querySelector('#df-7e11634e-762f-45de-8f25-c9ec3f46a13d');\n",
              "          const dataTable =\n",
              "            await google.colab.kernel.invokeFunction('convertToInteractive',\n",
              "                                                     [key], {});\n",
              "          if (!dataTable) return;\n",
              "\n",
              "          const docLinkHtml = 'Like what you see? Visit the ' +\n",
              "            '<a target=\"_blank\" href=https://colab.research.google.com/notebooks/data_table.ipynb>data table notebook</a>'\n",
              "            + ' to learn more about interactive tables.';\n",
              "          element.innerHTML = '';\n",
              "          dataTable['output_type'] = 'display_data';\n",
              "          await google.colab.output.renderOutput(dataTable, element);\n",
              "          const docLink = document.createElement('div');\n",
              "          docLink.innerHTML = docLinkHtml;\n",
              "          element.appendChild(docLink);\n",
              "        }\n",
              "      </script>\n",
              "    </div>\n",
              "  </div>\n",
              "  "
            ]
          },
          "metadata": {},
          "execution_count": 56
        }
      ]
    },
    {
      "cell_type": "code",
      "source": [
        "# df_raca.to_csv('/content/PJI410_raca.csv', index=False)"
      ],
      "metadata": {
        "id": "c5aKh3ANpm30"
      },
      "execution_count": null,
      "outputs": []
    },
    {
      "cell_type": "markdown",
      "source": [
        "## Média de notificações por semana por escolaridade"
      ],
      "metadata": {
        "id": "Jmib0yo030Cn"
      }
    },
    {
      "cell_type": "code",
      "source": [
        "df_escolaridade = df[['DT_NOTIFIC', 'CS_ESCOL_N']][df['CS_ESCOL_N'].isin(ESCOLARIDADES.keys())].value_counts().sort_index().reset_index()\n",
        "df_escolaridade.columns = ['Data', 'Escolaridade', 'Quantidade']\n",
        "\n",
        "for i, da in df_escolaridade.iterrows():\n",
        "    df_escolaridade.loc[i, 'Segunda-feira'] = da['Data'] - np.timedelta64(da['Data'].dayofweek, 'D')\n",
        "\n",
        "df_escolaridade.drop(['Data'], axis=1, inplace=True)\n",
        "df_escolaridade = df_escolaridade.groupby(by=['Segunda-feira', 'Escolaridade']).mean().reset_index()"
      ],
      "metadata": {
        "id": "r2p51Toh30Ct"
      },
      "execution_count": null,
      "outputs": []
    },
    {
      "cell_type": "code",
      "source": [
        "df_escolaridade[:5]"
      ],
      "metadata": {
        "colab": {
          "base_uri": "https://localhost:8080/",
          "height": 206
        },
        "id": "eVG7sQHkk2Ld",
        "outputId": "e7bd0518-98f4-438c-88c4-fa1ca44c9981"
      },
      "execution_count": null,
      "outputs": [
        {
          "output_type": "execute_result",
          "data": {
            "text/plain": [
              "  Segunda-feira  Escolaridade  Quantidade\n",
              "0    2020-12-28             0         6.0\n",
              "1    2020-12-28             1        18.0\n",
              "2    2020-12-28             2        11.0\n",
              "3    2020-12-28             3        17.0\n",
              "4    2020-12-28             4         4.0"
            ],
            "text/html": [
              "\n",
              "  <div id=\"df-57816aee-70d5-4e56-b0e2-6f4b23116bfe\">\n",
              "    <div class=\"colab-df-container\">\n",
              "      <div>\n",
              "<style scoped>\n",
              "    .dataframe tbody tr th:only-of-type {\n",
              "        vertical-align: middle;\n",
              "    }\n",
              "\n",
              "    .dataframe tbody tr th {\n",
              "        vertical-align: top;\n",
              "    }\n",
              "\n",
              "    .dataframe thead th {\n",
              "        text-align: right;\n",
              "    }\n",
              "</style>\n",
              "<table border=\"1\" class=\"dataframe\">\n",
              "  <thead>\n",
              "    <tr style=\"text-align: right;\">\n",
              "      <th></th>\n",
              "      <th>Segunda-feira</th>\n",
              "      <th>Escolaridade</th>\n",
              "      <th>Quantidade</th>\n",
              "    </tr>\n",
              "  </thead>\n",
              "  <tbody>\n",
              "    <tr>\n",
              "      <th>0</th>\n",
              "      <td>2020-12-28</td>\n",
              "      <td>0</td>\n",
              "      <td>6.0</td>\n",
              "    </tr>\n",
              "    <tr>\n",
              "      <th>1</th>\n",
              "      <td>2020-12-28</td>\n",
              "      <td>1</td>\n",
              "      <td>18.0</td>\n",
              "    </tr>\n",
              "    <tr>\n",
              "      <th>2</th>\n",
              "      <td>2020-12-28</td>\n",
              "      <td>2</td>\n",
              "      <td>11.0</td>\n",
              "    </tr>\n",
              "    <tr>\n",
              "      <th>3</th>\n",
              "      <td>2020-12-28</td>\n",
              "      <td>3</td>\n",
              "      <td>17.0</td>\n",
              "    </tr>\n",
              "    <tr>\n",
              "      <th>4</th>\n",
              "      <td>2020-12-28</td>\n",
              "      <td>4</td>\n",
              "      <td>4.0</td>\n",
              "    </tr>\n",
              "  </tbody>\n",
              "</table>\n",
              "</div>\n",
              "      <button class=\"colab-df-convert\" onclick=\"convertToInteractive('df-57816aee-70d5-4e56-b0e2-6f4b23116bfe')\"\n",
              "              title=\"Convert this dataframe to an interactive table.\"\n",
              "              style=\"display:none;\">\n",
              "        \n",
              "  <svg xmlns=\"http://www.w3.org/2000/svg\" height=\"24px\"viewBox=\"0 0 24 24\"\n",
              "       width=\"24px\">\n",
              "    <path d=\"M0 0h24v24H0V0z\" fill=\"none\"/>\n",
              "    <path d=\"M18.56 5.44l.94 2.06.94-2.06 2.06-.94-2.06-.94-.94-2.06-.94 2.06-2.06.94zm-11 1L8.5 8.5l.94-2.06 2.06-.94-2.06-.94L8.5 2.5l-.94 2.06-2.06.94zm10 10l.94 2.06.94-2.06 2.06-.94-2.06-.94-.94-2.06-.94 2.06-2.06.94z\"/><path d=\"M17.41 7.96l-1.37-1.37c-.4-.4-.92-.59-1.43-.59-.52 0-1.04.2-1.43.59L10.3 9.45l-7.72 7.72c-.78.78-.78 2.05 0 2.83L4 21.41c.39.39.9.59 1.41.59.51 0 1.02-.2 1.41-.59l7.78-7.78 2.81-2.81c.8-.78.8-2.07 0-2.86zM5.41 20L4 18.59l7.72-7.72 1.47 1.35L5.41 20z\"/>\n",
              "  </svg>\n",
              "      </button>\n",
              "      \n",
              "  <style>\n",
              "    .colab-df-container {\n",
              "      display:flex;\n",
              "      flex-wrap:wrap;\n",
              "      gap: 12px;\n",
              "    }\n",
              "\n",
              "    .colab-df-convert {\n",
              "      background-color: #E8F0FE;\n",
              "      border: none;\n",
              "      border-radius: 50%;\n",
              "      cursor: pointer;\n",
              "      display: none;\n",
              "      fill: #1967D2;\n",
              "      height: 32px;\n",
              "      padding: 0 0 0 0;\n",
              "      width: 32px;\n",
              "    }\n",
              "\n",
              "    .colab-df-convert:hover {\n",
              "      background-color: #E2EBFA;\n",
              "      box-shadow: 0px 1px 2px rgba(60, 64, 67, 0.3), 0px 1px 3px 1px rgba(60, 64, 67, 0.15);\n",
              "      fill: #174EA6;\n",
              "    }\n",
              "\n",
              "    [theme=dark] .colab-df-convert {\n",
              "      background-color: #3B4455;\n",
              "      fill: #D2E3FC;\n",
              "    }\n",
              "\n",
              "    [theme=dark] .colab-df-convert:hover {\n",
              "      background-color: #434B5C;\n",
              "      box-shadow: 0px 1px 3px 1px rgba(0, 0, 0, 0.15);\n",
              "      filter: drop-shadow(0px 1px 2px rgba(0, 0, 0, 0.3));\n",
              "      fill: #FFFFFF;\n",
              "    }\n",
              "  </style>\n",
              "\n",
              "      <script>\n",
              "        const buttonEl =\n",
              "          document.querySelector('#df-57816aee-70d5-4e56-b0e2-6f4b23116bfe button.colab-df-convert');\n",
              "        buttonEl.style.display =\n",
              "          google.colab.kernel.accessAllowed ? 'block' : 'none';\n",
              "\n",
              "        async function convertToInteractive(key) {\n",
              "          const element = document.querySelector('#df-57816aee-70d5-4e56-b0e2-6f4b23116bfe');\n",
              "          const dataTable =\n",
              "            await google.colab.kernel.invokeFunction('convertToInteractive',\n",
              "                                                     [key], {});\n",
              "          if (!dataTable) return;\n",
              "\n",
              "          const docLinkHtml = 'Like what you see? Visit the ' +\n",
              "            '<a target=\"_blank\" href=https://colab.research.google.com/notebooks/data_table.ipynb>data table notebook</a>'\n",
              "            + ' to learn more about interactive tables.';\n",
              "          element.innerHTML = '';\n",
              "          dataTable['output_type'] = 'display_data';\n",
              "          await google.colab.output.renderOutput(dataTable, element);\n",
              "          const docLink = document.createElement('div');\n",
              "          docLink.innerHTML = docLinkHtml;\n",
              "          element.appendChild(docLink);\n",
              "        }\n",
              "      </script>\n",
              "    </div>\n",
              "  </div>\n",
              "  "
            ]
          },
          "metadata": {},
          "execution_count": 59
        }
      ]
    },
    {
      "cell_type": "code",
      "source": [
        "# df_escolaridade.to_csv('/content/PJI410_escolaridade.csv', index=False)"
      ],
      "metadata": {
        "id": "9Fia-J32pqtd"
      },
      "execution_count": null,
      "outputs": []
    },
    {
      "cell_type": "markdown",
      "source": [
        "## Média de notificações por semana por zona"
      ],
      "metadata": {
        "id": "Ua5Y9y4m30Gg"
      }
    },
    {
      "cell_type": "code",
      "source": [
        "df_zona = df[['DT_NOTIFIC', 'CS_ZONA']][df['CS_ZONA'].isin(ZONAS.keys())].value_counts().sort_index().reset_index()\n",
        "df_zona.columns = ['Data', 'Zona', 'Quantidade']\n",
        "\n",
        "for i, da in df_zona.iterrows():\n",
        "    df_zona.loc[i, 'Segunda-feira'] = da['Data'] - np.timedelta64(da['Data'].dayofweek, 'D')\n",
        "\n",
        "df_zona.drop(['Data'], axis=1, inplace=True)\n",
        "df_zona = df_zona.groupby(by=['Segunda-feira', 'Zona']).mean().reset_index()"
      ],
      "metadata": {
        "id": "EZ1kEZBq30Gg"
      },
      "execution_count": null,
      "outputs": []
    },
    {
      "cell_type": "code",
      "source": [
        "df_zona[:5]"
      ],
      "metadata": {
        "colab": {
          "base_uri": "https://localhost:8080/",
          "height": 206
        },
        "id": "WGM1kWxsk5BL",
        "outputId": "d8374ac3-cadb-4f9f-fd19-2b7d991fbeea"
      },
      "execution_count": null,
      "outputs": [
        {
          "output_type": "execute_result",
          "data": {
            "text/plain": [
              "  Segunda-feira  Zona   Quantidade\n",
              "0    2020-12-28     1   150.000000\n",
              "1    2020-12-28     2     5.000000\n",
              "2    2021-01-04     1  1209.571429\n",
              "3    2021-01-04     2    72.571429\n",
              "4    2021-01-04     3     6.571429"
            ],
            "text/html": [
              "\n",
              "  <div id=\"df-15592aa4-6c01-4890-9c20-7ecc860f81de\">\n",
              "    <div class=\"colab-df-container\">\n",
              "      <div>\n",
              "<style scoped>\n",
              "    .dataframe tbody tr th:only-of-type {\n",
              "        vertical-align: middle;\n",
              "    }\n",
              "\n",
              "    .dataframe tbody tr th {\n",
              "        vertical-align: top;\n",
              "    }\n",
              "\n",
              "    .dataframe thead th {\n",
              "        text-align: right;\n",
              "    }\n",
              "</style>\n",
              "<table border=\"1\" class=\"dataframe\">\n",
              "  <thead>\n",
              "    <tr style=\"text-align: right;\">\n",
              "      <th></th>\n",
              "      <th>Segunda-feira</th>\n",
              "      <th>Zona</th>\n",
              "      <th>Quantidade</th>\n",
              "    </tr>\n",
              "  </thead>\n",
              "  <tbody>\n",
              "    <tr>\n",
              "      <th>0</th>\n",
              "      <td>2020-12-28</td>\n",
              "      <td>1</td>\n",
              "      <td>150.000000</td>\n",
              "    </tr>\n",
              "    <tr>\n",
              "      <th>1</th>\n",
              "      <td>2020-12-28</td>\n",
              "      <td>2</td>\n",
              "      <td>5.000000</td>\n",
              "    </tr>\n",
              "    <tr>\n",
              "      <th>2</th>\n",
              "      <td>2021-01-04</td>\n",
              "      <td>1</td>\n",
              "      <td>1209.571429</td>\n",
              "    </tr>\n",
              "    <tr>\n",
              "      <th>3</th>\n",
              "      <td>2021-01-04</td>\n",
              "      <td>2</td>\n",
              "      <td>72.571429</td>\n",
              "    </tr>\n",
              "    <tr>\n",
              "      <th>4</th>\n",
              "      <td>2021-01-04</td>\n",
              "      <td>3</td>\n",
              "      <td>6.571429</td>\n",
              "    </tr>\n",
              "  </tbody>\n",
              "</table>\n",
              "</div>\n",
              "      <button class=\"colab-df-convert\" onclick=\"convertToInteractive('df-15592aa4-6c01-4890-9c20-7ecc860f81de')\"\n",
              "              title=\"Convert this dataframe to an interactive table.\"\n",
              "              style=\"display:none;\">\n",
              "        \n",
              "  <svg xmlns=\"http://www.w3.org/2000/svg\" height=\"24px\"viewBox=\"0 0 24 24\"\n",
              "       width=\"24px\">\n",
              "    <path d=\"M0 0h24v24H0V0z\" fill=\"none\"/>\n",
              "    <path d=\"M18.56 5.44l.94 2.06.94-2.06 2.06-.94-2.06-.94-.94-2.06-.94 2.06-2.06.94zm-11 1L8.5 8.5l.94-2.06 2.06-.94-2.06-.94L8.5 2.5l-.94 2.06-2.06.94zm10 10l.94 2.06.94-2.06 2.06-.94-2.06-.94-.94-2.06-.94 2.06-2.06.94z\"/><path d=\"M17.41 7.96l-1.37-1.37c-.4-.4-.92-.59-1.43-.59-.52 0-1.04.2-1.43.59L10.3 9.45l-7.72 7.72c-.78.78-.78 2.05 0 2.83L4 21.41c.39.39.9.59 1.41.59.51 0 1.02-.2 1.41-.59l7.78-7.78 2.81-2.81c.8-.78.8-2.07 0-2.86zM5.41 20L4 18.59l7.72-7.72 1.47 1.35L5.41 20z\"/>\n",
              "  </svg>\n",
              "      </button>\n",
              "      \n",
              "  <style>\n",
              "    .colab-df-container {\n",
              "      display:flex;\n",
              "      flex-wrap:wrap;\n",
              "      gap: 12px;\n",
              "    }\n",
              "\n",
              "    .colab-df-convert {\n",
              "      background-color: #E8F0FE;\n",
              "      border: none;\n",
              "      border-radius: 50%;\n",
              "      cursor: pointer;\n",
              "      display: none;\n",
              "      fill: #1967D2;\n",
              "      height: 32px;\n",
              "      padding: 0 0 0 0;\n",
              "      width: 32px;\n",
              "    }\n",
              "\n",
              "    .colab-df-convert:hover {\n",
              "      background-color: #E2EBFA;\n",
              "      box-shadow: 0px 1px 2px rgba(60, 64, 67, 0.3), 0px 1px 3px 1px rgba(60, 64, 67, 0.15);\n",
              "      fill: #174EA6;\n",
              "    }\n",
              "\n",
              "    [theme=dark] .colab-df-convert {\n",
              "      background-color: #3B4455;\n",
              "      fill: #D2E3FC;\n",
              "    }\n",
              "\n",
              "    [theme=dark] .colab-df-convert:hover {\n",
              "      background-color: #434B5C;\n",
              "      box-shadow: 0px 1px 3px 1px rgba(0, 0, 0, 0.15);\n",
              "      filter: drop-shadow(0px 1px 2px rgba(0, 0, 0, 0.3));\n",
              "      fill: #FFFFFF;\n",
              "    }\n",
              "  </style>\n",
              "\n",
              "      <script>\n",
              "        const buttonEl =\n",
              "          document.querySelector('#df-15592aa4-6c01-4890-9c20-7ecc860f81de button.colab-df-convert');\n",
              "        buttonEl.style.display =\n",
              "          google.colab.kernel.accessAllowed ? 'block' : 'none';\n",
              "\n",
              "        async function convertToInteractive(key) {\n",
              "          const element = document.querySelector('#df-15592aa4-6c01-4890-9c20-7ecc860f81de');\n",
              "          const dataTable =\n",
              "            await google.colab.kernel.invokeFunction('convertToInteractive',\n",
              "                                                     [key], {});\n",
              "          if (!dataTable) return;\n",
              "\n",
              "          const docLinkHtml = 'Like what you see? Visit the ' +\n",
              "            '<a target=\"_blank\" href=https://colab.research.google.com/notebooks/data_table.ipynb>data table notebook</a>'\n",
              "            + ' to learn more about interactive tables.';\n",
              "          element.innerHTML = '';\n",
              "          dataTable['output_type'] = 'display_data';\n",
              "          await google.colab.output.renderOutput(dataTable, element);\n",
              "          const docLink = document.createElement('div');\n",
              "          docLink.innerHTML = docLinkHtml;\n",
              "          element.appendChild(docLink);\n",
              "        }\n",
              "      </script>\n",
              "    </div>\n",
              "  </div>\n",
              "  "
            ]
          },
          "metadata": {},
          "execution_count": 62
        }
      ]
    },
    {
      "cell_type": "code",
      "source": [
        "# df_zona.to_csv('/content/PJI410_zona.csv', index=False)"
      ],
      "metadata": {
        "id": "z3UnVXYapxCk"
      },
      "execution_count": null,
      "outputs": []
    },
    {
      "cell_type": "markdown",
      "source": [
        "## Média de dias hospitalizado ou internado em UTI"
      ],
      "metadata": {
        "id": "AdQoYCUtHFBx"
      }
    },
    {
      "cell_type": "code",
      "source": [
        "# Pacientes que foram internados em UTI mas é ignorado se foram hospitalizados.\n",
        "\n",
        "df[['HOSPITAL', 'UTI']][(df['UTI'] == 1) & (df['HOSPITAL'] != 1)].value_counts()"
      ],
      "metadata": {
        "colab": {
          "base_uri": "https://localhost:8080/"
        },
        "id": "4HwleUCzJkUR",
        "outputId": "4a21f78f-430b-48fe-a013-a79ff91880ce"
      },
      "execution_count": null,
      "outputs": [
        {
          "output_type": "execute_result",
          "data": {
            "text/plain": [
              "HOSPITAL  UTI\n",
              "9         1      5089\n",
              "dtype: int64"
            ]
          },
          "metadata": {},
          "execution_count": 64
        }
      ]
    },
    {
      "cell_type": "code",
      "source": [
        "# Hospitalizados com data de internação e data de evolução (alta ou óbito).\n",
        "df_internacao = df[['DT_NOTIFIC', 'DT_INTERNA', 'DT_EVOLUCA']][(df['HOSPITAL'] == 1) & (~df['DT_INTERNA'].isna()) & (~df['DT_EVOLUCA'].isna())].sort_values(by=['DT_NOTIFIC', 'DT_INTERNA', 'DT_EVOLUCA']).copy().reset_index(drop=True)\n",
        "\n",
        "# Quantidade de dias hospitalizado. É adicionado um dia, pois tanto o dia de internação quanto o dia de evolução devem ser considerados.\n",
        "df_internacao['Dias'] = (((df_internacao['DT_EVOLUCA'] - df_internacao['DT_INTERNA']) / np.timedelta64(1, 'D')) + 1).astype(int)\n",
        "\n",
        "df_internacao.drop(['DT_INTERNA', 'DT_EVOLUCA'], axis=1, inplace=True)\n",
        "df_internacao = df_internacao.groupby(by=['DT_NOTIFIC']).mean().reset_index()\n",
        "\n",
        "for i, ho in df_internacao.iterrows():\n",
        "    df_internacao.loc[i, 'Segunda-feira'] = ho['DT_NOTIFIC'] - np.timedelta64(ho['DT_NOTIFIC'].dayofweek, 'D')\n",
        "\n",
        "df_internacao.drop(['DT_NOTIFIC'], axis=1, inplace=True)\n",
        "df_internacao = df_internacao.groupby(by=['Segunda-feira']).mean().reset_index()"
      ],
      "metadata": {
        "id": "6tCYVoobHcGR"
      },
      "execution_count": null,
      "outputs": []
    },
    {
      "cell_type": "code",
      "source": [
        "df_internacao[:5]"
      ],
      "metadata": {
        "colab": {
          "base_uri": "https://localhost:8080/",
          "height": 206
        },
        "id": "n3dpRk3Bk8oY",
        "outputId": "b8fae10e-d484-420a-d7f5-0e62a6e9565e"
      },
      "execution_count": null,
      "outputs": [
        {
          "output_type": "execute_result",
          "data": {
            "text/plain": [
              "  Segunda-feira       Dias\n",
              "0    2020-12-28  15.147887\n",
              "1    2021-01-04  13.302114\n",
              "2    2021-01-11  12.902365\n",
              "3    2021-01-18  12.967976\n",
              "4    2021-01-25  12.575461"
            ],
            "text/html": [
              "\n",
              "  <div id=\"df-796af2a6-fcf3-4459-9bb4-ff01b5f443bc\">\n",
              "    <div class=\"colab-df-container\">\n",
              "      <div>\n",
              "<style scoped>\n",
              "    .dataframe tbody tr th:only-of-type {\n",
              "        vertical-align: middle;\n",
              "    }\n",
              "\n",
              "    .dataframe tbody tr th {\n",
              "        vertical-align: top;\n",
              "    }\n",
              "\n",
              "    .dataframe thead th {\n",
              "        text-align: right;\n",
              "    }\n",
              "</style>\n",
              "<table border=\"1\" class=\"dataframe\">\n",
              "  <thead>\n",
              "    <tr style=\"text-align: right;\">\n",
              "      <th></th>\n",
              "      <th>Segunda-feira</th>\n",
              "      <th>Dias</th>\n",
              "    </tr>\n",
              "  </thead>\n",
              "  <tbody>\n",
              "    <tr>\n",
              "      <th>0</th>\n",
              "      <td>2020-12-28</td>\n",
              "      <td>15.147887</td>\n",
              "    </tr>\n",
              "    <tr>\n",
              "      <th>1</th>\n",
              "      <td>2021-01-04</td>\n",
              "      <td>13.302114</td>\n",
              "    </tr>\n",
              "    <tr>\n",
              "      <th>2</th>\n",
              "      <td>2021-01-11</td>\n",
              "      <td>12.902365</td>\n",
              "    </tr>\n",
              "    <tr>\n",
              "      <th>3</th>\n",
              "      <td>2021-01-18</td>\n",
              "      <td>12.967976</td>\n",
              "    </tr>\n",
              "    <tr>\n",
              "      <th>4</th>\n",
              "      <td>2021-01-25</td>\n",
              "      <td>12.575461</td>\n",
              "    </tr>\n",
              "  </tbody>\n",
              "</table>\n",
              "</div>\n",
              "      <button class=\"colab-df-convert\" onclick=\"convertToInteractive('df-796af2a6-fcf3-4459-9bb4-ff01b5f443bc')\"\n",
              "              title=\"Convert this dataframe to an interactive table.\"\n",
              "              style=\"display:none;\">\n",
              "        \n",
              "  <svg xmlns=\"http://www.w3.org/2000/svg\" height=\"24px\"viewBox=\"0 0 24 24\"\n",
              "       width=\"24px\">\n",
              "    <path d=\"M0 0h24v24H0V0z\" fill=\"none\"/>\n",
              "    <path d=\"M18.56 5.44l.94 2.06.94-2.06 2.06-.94-2.06-.94-.94-2.06-.94 2.06-2.06.94zm-11 1L8.5 8.5l.94-2.06 2.06-.94-2.06-.94L8.5 2.5l-.94 2.06-2.06.94zm10 10l.94 2.06.94-2.06 2.06-.94-2.06-.94-.94-2.06-.94 2.06-2.06.94z\"/><path d=\"M17.41 7.96l-1.37-1.37c-.4-.4-.92-.59-1.43-.59-.52 0-1.04.2-1.43.59L10.3 9.45l-7.72 7.72c-.78.78-.78 2.05 0 2.83L4 21.41c.39.39.9.59 1.41.59.51 0 1.02-.2 1.41-.59l7.78-7.78 2.81-2.81c.8-.78.8-2.07 0-2.86zM5.41 20L4 18.59l7.72-7.72 1.47 1.35L5.41 20z\"/>\n",
              "  </svg>\n",
              "      </button>\n",
              "      \n",
              "  <style>\n",
              "    .colab-df-container {\n",
              "      display:flex;\n",
              "      flex-wrap:wrap;\n",
              "      gap: 12px;\n",
              "    }\n",
              "\n",
              "    .colab-df-convert {\n",
              "      background-color: #E8F0FE;\n",
              "      border: none;\n",
              "      border-radius: 50%;\n",
              "      cursor: pointer;\n",
              "      display: none;\n",
              "      fill: #1967D2;\n",
              "      height: 32px;\n",
              "      padding: 0 0 0 0;\n",
              "      width: 32px;\n",
              "    }\n",
              "\n",
              "    .colab-df-convert:hover {\n",
              "      background-color: #E2EBFA;\n",
              "      box-shadow: 0px 1px 2px rgba(60, 64, 67, 0.3), 0px 1px 3px 1px rgba(60, 64, 67, 0.15);\n",
              "      fill: #174EA6;\n",
              "    }\n",
              "\n",
              "    [theme=dark] .colab-df-convert {\n",
              "      background-color: #3B4455;\n",
              "      fill: #D2E3FC;\n",
              "    }\n",
              "\n",
              "    [theme=dark] .colab-df-convert:hover {\n",
              "      background-color: #434B5C;\n",
              "      box-shadow: 0px 1px 3px 1px rgba(0, 0, 0, 0.15);\n",
              "      filter: drop-shadow(0px 1px 2px rgba(0, 0, 0, 0.3));\n",
              "      fill: #FFFFFF;\n",
              "    }\n",
              "  </style>\n",
              "\n",
              "      <script>\n",
              "        const buttonEl =\n",
              "          document.querySelector('#df-796af2a6-fcf3-4459-9bb4-ff01b5f443bc button.colab-df-convert');\n",
              "        buttonEl.style.display =\n",
              "          google.colab.kernel.accessAllowed ? 'block' : 'none';\n",
              "\n",
              "        async function convertToInteractive(key) {\n",
              "          const element = document.querySelector('#df-796af2a6-fcf3-4459-9bb4-ff01b5f443bc');\n",
              "          const dataTable =\n",
              "            await google.colab.kernel.invokeFunction('convertToInteractive',\n",
              "                                                     [key], {});\n",
              "          if (!dataTable) return;\n",
              "\n",
              "          const docLinkHtml = 'Like what you see? Visit the ' +\n",
              "            '<a target=\"_blank\" href=https://colab.research.google.com/notebooks/data_table.ipynb>data table notebook</a>'\n",
              "            + ' to learn more about interactive tables.';\n",
              "          element.innerHTML = '';\n",
              "          dataTable['output_type'] = 'display_data';\n",
              "          await google.colab.output.renderOutput(dataTable, element);\n",
              "          const docLink = document.createElement('div');\n",
              "          docLink.innerHTML = docLinkHtml;\n",
              "          element.appendChild(docLink);\n",
              "        }\n",
              "      </script>\n",
              "    </div>\n",
              "  </div>\n",
              "  "
            ]
          },
          "metadata": {},
          "execution_count": 66
        }
      ]
    },
    {
      "cell_type": "code",
      "source": [
        "# df_internacao.to_csv('/content/PJI410_internacao.csv', index=False)"
      ],
      "metadata": {
        "id": "ocNyju5Tp-LI"
      },
      "execution_count": null,
      "outputs": []
    },
    {
      "cell_type": "code",
      "source": [
        "# Internados em UTI com data de entrada e data de saída.\n",
        "df_uti = df[['DT_NOTIFIC', 'DT_ENTUTI', 'DT_SAIDUTI']][(df['HOSPITAL'] == 1) & (~df['DT_ENTUTI'].isna()) & (~df['DT_SAIDUTI'].isna())].sort_values(by=['DT_NOTIFIC', 'DT_ENTUTI', 'DT_SAIDUTI']).copy().reset_index(drop=True)\n",
        "\n",
        "# Quantidade de dias internado. É adicionado um dia, pois tanto o dia de entrada quanto o dia de saída devem ser considerados.\n",
        "df_uti['Dias'] = (((df_uti['DT_SAIDUTI'] - df_uti['DT_ENTUTI']) / np.timedelta64(1, 'D')) + 1).astype(int)\n",
        "\n",
        "df_uti.drop(['DT_ENTUTI', 'DT_SAIDUTI'], axis=1, inplace=True)\n",
        "df_uti = df_uti.groupby(by=['DT_NOTIFIC']).mean().reset_index()\n",
        "\n",
        "for i, ho in df_uti.iterrows():\n",
        "    df_uti.loc[i, 'Segunda-feira'] = ho['DT_NOTIFIC'] - np.timedelta64(ho['DT_NOTIFIC'].dayofweek, 'D')\n",
        "\n",
        "df_uti.drop(['DT_NOTIFIC'], axis=1, inplace=True)\n",
        "df_uti = df_uti.groupby(by=['Segunda-feira']).mean().reset_index()"
      ],
      "metadata": {
        "id": "-ULsjE3lNZJQ"
      },
      "execution_count": null,
      "outputs": []
    },
    {
      "cell_type": "code",
      "source": [
        "df_uti[:5]"
      ],
      "metadata": {
        "colab": {
          "base_uri": "https://localhost:8080/",
          "height": 206
        },
        "id": "zj5FhIqtk-x_",
        "outputId": "a69fb227-eb7c-487e-bbb0-c067f3473525"
      },
      "execution_count": null,
      "outputs": [
        {
          "output_type": "execute_result",
          "data": {
            "text/plain": [
              "  Segunda-feira       Dias\n",
              "0    2020-12-28  15.080000\n",
              "1    2021-01-04  11.184934\n",
              "2    2021-01-11  12.420353\n",
              "3    2021-01-18  12.459092\n",
              "4    2021-01-25  12.208975"
            ],
            "text/html": [
              "\n",
              "  <div id=\"df-e1827425-6cbe-4d2f-b884-2ae6629f6df5\">\n",
              "    <div class=\"colab-df-container\">\n",
              "      <div>\n",
              "<style scoped>\n",
              "    .dataframe tbody tr th:only-of-type {\n",
              "        vertical-align: middle;\n",
              "    }\n",
              "\n",
              "    .dataframe tbody tr th {\n",
              "        vertical-align: top;\n",
              "    }\n",
              "\n",
              "    .dataframe thead th {\n",
              "        text-align: right;\n",
              "    }\n",
              "</style>\n",
              "<table border=\"1\" class=\"dataframe\">\n",
              "  <thead>\n",
              "    <tr style=\"text-align: right;\">\n",
              "      <th></th>\n",
              "      <th>Segunda-feira</th>\n",
              "      <th>Dias</th>\n",
              "    </tr>\n",
              "  </thead>\n",
              "  <tbody>\n",
              "    <tr>\n",
              "      <th>0</th>\n",
              "      <td>2020-12-28</td>\n",
              "      <td>15.080000</td>\n",
              "    </tr>\n",
              "    <tr>\n",
              "      <th>1</th>\n",
              "      <td>2021-01-04</td>\n",
              "      <td>11.184934</td>\n",
              "    </tr>\n",
              "    <tr>\n",
              "      <th>2</th>\n",
              "      <td>2021-01-11</td>\n",
              "      <td>12.420353</td>\n",
              "    </tr>\n",
              "    <tr>\n",
              "      <th>3</th>\n",
              "      <td>2021-01-18</td>\n",
              "      <td>12.459092</td>\n",
              "    </tr>\n",
              "    <tr>\n",
              "      <th>4</th>\n",
              "      <td>2021-01-25</td>\n",
              "      <td>12.208975</td>\n",
              "    </tr>\n",
              "  </tbody>\n",
              "</table>\n",
              "</div>\n",
              "      <button class=\"colab-df-convert\" onclick=\"convertToInteractive('df-e1827425-6cbe-4d2f-b884-2ae6629f6df5')\"\n",
              "              title=\"Convert this dataframe to an interactive table.\"\n",
              "              style=\"display:none;\">\n",
              "        \n",
              "  <svg xmlns=\"http://www.w3.org/2000/svg\" height=\"24px\"viewBox=\"0 0 24 24\"\n",
              "       width=\"24px\">\n",
              "    <path d=\"M0 0h24v24H0V0z\" fill=\"none\"/>\n",
              "    <path d=\"M18.56 5.44l.94 2.06.94-2.06 2.06-.94-2.06-.94-.94-2.06-.94 2.06-2.06.94zm-11 1L8.5 8.5l.94-2.06 2.06-.94-2.06-.94L8.5 2.5l-.94 2.06-2.06.94zm10 10l.94 2.06.94-2.06 2.06-.94-2.06-.94-.94-2.06-.94 2.06-2.06.94z\"/><path d=\"M17.41 7.96l-1.37-1.37c-.4-.4-.92-.59-1.43-.59-.52 0-1.04.2-1.43.59L10.3 9.45l-7.72 7.72c-.78.78-.78 2.05 0 2.83L4 21.41c.39.39.9.59 1.41.59.51 0 1.02-.2 1.41-.59l7.78-7.78 2.81-2.81c.8-.78.8-2.07 0-2.86zM5.41 20L4 18.59l7.72-7.72 1.47 1.35L5.41 20z\"/>\n",
              "  </svg>\n",
              "      </button>\n",
              "      \n",
              "  <style>\n",
              "    .colab-df-container {\n",
              "      display:flex;\n",
              "      flex-wrap:wrap;\n",
              "      gap: 12px;\n",
              "    }\n",
              "\n",
              "    .colab-df-convert {\n",
              "      background-color: #E8F0FE;\n",
              "      border: none;\n",
              "      border-radius: 50%;\n",
              "      cursor: pointer;\n",
              "      display: none;\n",
              "      fill: #1967D2;\n",
              "      height: 32px;\n",
              "      padding: 0 0 0 0;\n",
              "      width: 32px;\n",
              "    }\n",
              "\n",
              "    .colab-df-convert:hover {\n",
              "      background-color: #E2EBFA;\n",
              "      box-shadow: 0px 1px 2px rgba(60, 64, 67, 0.3), 0px 1px 3px 1px rgba(60, 64, 67, 0.15);\n",
              "      fill: #174EA6;\n",
              "    }\n",
              "\n",
              "    [theme=dark] .colab-df-convert {\n",
              "      background-color: #3B4455;\n",
              "      fill: #D2E3FC;\n",
              "    }\n",
              "\n",
              "    [theme=dark] .colab-df-convert:hover {\n",
              "      background-color: #434B5C;\n",
              "      box-shadow: 0px 1px 3px 1px rgba(0, 0, 0, 0.15);\n",
              "      filter: drop-shadow(0px 1px 2px rgba(0, 0, 0, 0.3));\n",
              "      fill: #FFFFFF;\n",
              "    }\n",
              "  </style>\n",
              "\n",
              "      <script>\n",
              "        const buttonEl =\n",
              "          document.querySelector('#df-e1827425-6cbe-4d2f-b884-2ae6629f6df5 button.colab-df-convert');\n",
              "        buttonEl.style.display =\n",
              "          google.colab.kernel.accessAllowed ? 'block' : 'none';\n",
              "\n",
              "        async function convertToInteractive(key) {\n",
              "          const element = document.querySelector('#df-e1827425-6cbe-4d2f-b884-2ae6629f6df5');\n",
              "          const dataTable =\n",
              "            await google.colab.kernel.invokeFunction('convertToInteractive',\n",
              "                                                     [key], {});\n",
              "          if (!dataTable) return;\n",
              "\n",
              "          const docLinkHtml = 'Like what you see? Visit the ' +\n",
              "            '<a target=\"_blank\" href=https://colab.research.google.com/notebooks/data_table.ipynb>data table notebook</a>'\n",
              "            + ' to learn more about interactive tables.';\n",
              "          element.innerHTML = '';\n",
              "          dataTable['output_type'] = 'display_data';\n",
              "          await google.colab.output.renderOutput(dataTable, element);\n",
              "          const docLink = document.createElement('div');\n",
              "          docLink.innerHTML = docLinkHtml;\n",
              "          element.appendChild(docLink);\n",
              "        }\n",
              "      </script>\n",
              "    </div>\n",
              "  </div>\n",
              "  "
            ]
          },
          "metadata": {},
          "execution_count": 69
        }
      ]
    },
    {
      "cell_type": "code",
      "source": [
        "# df_uti.to_csv('/content/PJI410_uti.csv', index=False)"
      ],
      "metadata": {
        "id": "jWkuoJZyqEoc"
      },
      "execution_count": null,
      "outputs": []
    },
    {
      "cell_type": "markdown",
      "source": [
        "## Classificação sobre sintomas e fatores de risco, com EVOLUCAO como atributo alvo"
      ],
      "metadata": {
        "id": "S_VF5ZkVgCNV"
      }
    },
    {
      "cell_type": "code",
      "source": [
        "campos  = ['FEBRE', 'TOSSE', 'GARGANTA', 'DISPNEIA', 'DESC_RESP', 'SATURACAO', 'DIARREIA', 'VOMITO',\n",
        "           'DOR_ABD', 'FADIGA', 'PERD_OLFT', 'PERD_PALA', 'OUTRO_SIN', 'PUERPERA', 'CARDIOPATI',\n",
        "           'HEMATOLOGI', 'SIND_DOWN', 'HEPATICA', 'ASMA', 'DIABETES', 'NEUROLOGIC', 'PNEUMOPATI',\n",
        "           'IMUNODEPRE', 'RENAL', 'OBESIDADE', 'OUT_MORBI', 'EVOLUCAO']\n",
        "\n",
        "filtros = [df[c].isin([1, 2]) for c in campos]  # Lista de filtros.\n",
        "filtro  = np.vstack(filtros).all(axis=0)        # Combina os resultados dos filtros em um único array."
      ],
      "metadata": {
        "id": "uS2GPMxQfXBm"
      },
      "execution_count": null,
      "outputs": []
    },
    {
      "cell_type": "code",
      "source": [
        "df_sintomas = df[campos][filtro].replace({2: 0}).astype('int').reset_index(drop=True)"
      ],
      "metadata": {
        "id": "MEHGZz0tfXBm"
      },
      "execution_count": null,
      "outputs": []
    },
    {
      "cell_type": "code",
      "source": [
        "with pd.option_context('display.max_columns', None):\n",
        "    display(df_sintomas[:10])"
      ],
      "metadata": {
        "colab": {
          "base_uri": "https://localhost:8080/",
          "height": 427
        },
        "id": "QXNESAj1lL-O",
        "outputId": "5ab5447d-851d-49c8-f923-3956e1807746"
      },
      "execution_count": null,
      "outputs": [
        {
          "output_type": "display_data",
          "data": {
            "text/plain": [
              "   FEBRE  TOSSE  GARGANTA  DISPNEIA  DESC_RESP  SATURACAO  DIARREIA  VOMITO  \\\n",
              "0      0      0         0         1          1          0         0       0   \n",
              "1      1      1         0         1          1          1         0       0   \n",
              "2      0      0         0         0          0          1         1       0   \n",
              "3      0      0         0         0          0          1         0       1   \n",
              "4      0      1         0         0          0          0         0       0   \n",
              "5      0      0         0         1          1          1         0       0   \n",
              "6      0      1         0         0          0          0         0       0   \n",
              "7      0      1         1         1          1          1         1       0   \n",
              "8      1      1         1         1          0          1         0       1   \n",
              "9      1      1         0         0          0          0         1       0   \n",
              "\n",
              "   DOR_ABD  FADIGA  PERD_OLFT  PERD_PALA  OUTRO_SIN  FATOR_RISC  PUERPERA  \\\n",
              "0        0       0          0          0          0           1         0   \n",
              "1        0       0          0          0          0           1         0   \n",
              "2        0       0          0          0          0           1         0   \n",
              "3        0       0          0          0          1           1         0   \n",
              "4        0       0          1          0          1           1         0   \n",
              "5        0       0          0          0          0           1         0   \n",
              "6        0       0          0          0          0           1         0   \n",
              "7        0       1          0          1          1           1         0   \n",
              "8        0       0          0          0          1           1         0   \n",
              "9        0       0          0          0          0           1         0   \n",
              "\n",
              "   CARDIOPATI  HEMATOLOGI  SIND_DOWN  HEPATICA  ASMA  DIABETES  NEUROLOGIC  \\\n",
              "0           1           0          0         0     0         0           1   \n",
              "1           0           0          0         0     1         0           0   \n",
              "2           1           0          0         0     0         1           0   \n",
              "3           0           0          0         0     0         0           0   \n",
              "4           0           0          0         0     0         0           0   \n",
              "5           0           0          0         0     0         0           0   \n",
              "6           0           0          0         0     0         0           0   \n",
              "7           1           0          0         0     0         0           0   \n",
              "8           1           0          0         0     0         0           0   \n",
              "9           0           0          0         0     0         1           0   \n",
              "\n",
              "   PNEUMOPATI  IMUNODEPRE  RENAL  OBESIDADE  OUT_MORBI  EVOLUCAO  \n",
              "0           0           0      0          0          0         1  \n",
              "1           0           0      0          0          0         1  \n",
              "2           0           0      0          0          0         1  \n",
              "3           0           0      0          0          1         1  \n",
              "4           0           0      0          0          1         1  \n",
              "5           0           0      0          0          1         1  \n",
              "6           0           0      1          0          0         0  \n",
              "7           0           0      0          1          1         1  \n",
              "8           0           0      0          1          1         1  \n",
              "9           0           0      0          0          0         1  "
            ],
            "text/html": [
              "\n",
              "  <div id=\"df-06f27fb6-b9e8-4b6d-bc2d-ce6b3b123cf9\">\n",
              "    <div class=\"colab-df-container\">\n",
              "      <div>\n",
              "<style scoped>\n",
              "    .dataframe tbody tr th:only-of-type {\n",
              "        vertical-align: middle;\n",
              "    }\n",
              "\n",
              "    .dataframe tbody tr th {\n",
              "        vertical-align: top;\n",
              "    }\n",
              "\n",
              "    .dataframe thead th {\n",
              "        text-align: right;\n",
              "    }\n",
              "</style>\n",
              "<table border=\"1\" class=\"dataframe\">\n",
              "  <thead>\n",
              "    <tr style=\"text-align: right;\">\n",
              "      <th></th>\n",
              "      <th>FEBRE</th>\n",
              "      <th>TOSSE</th>\n",
              "      <th>GARGANTA</th>\n",
              "      <th>DISPNEIA</th>\n",
              "      <th>DESC_RESP</th>\n",
              "      <th>SATURACAO</th>\n",
              "      <th>DIARREIA</th>\n",
              "      <th>VOMITO</th>\n",
              "      <th>DOR_ABD</th>\n",
              "      <th>FADIGA</th>\n",
              "      <th>PERD_OLFT</th>\n",
              "      <th>PERD_PALA</th>\n",
              "      <th>OUTRO_SIN</th>\n",
              "      <th>FATOR_RISC</th>\n",
              "      <th>PUERPERA</th>\n",
              "      <th>CARDIOPATI</th>\n",
              "      <th>HEMATOLOGI</th>\n",
              "      <th>SIND_DOWN</th>\n",
              "      <th>HEPATICA</th>\n",
              "      <th>ASMA</th>\n",
              "      <th>DIABETES</th>\n",
              "      <th>NEUROLOGIC</th>\n",
              "      <th>PNEUMOPATI</th>\n",
              "      <th>IMUNODEPRE</th>\n",
              "      <th>RENAL</th>\n",
              "      <th>OBESIDADE</th>\n",
              "      <th>OUT_MORBI</th>\n",
              "      <th>EVOLUCAO</th>\n",
              "    </tr>\n",
              "  </thead>\n",
              "  <tbody>\n",
              "    <tr>\n",
              "      <th>0</th>\n",
              "      <td>0</td>\n",
              "      <td>0</td>\n",
              "      <td>0</td>\n",
              "      <td>1</td>\n",
              "      <td>1</td>\n",
              "      <td>0</td>\n",
              "      <td>0</td>\n",
              "      <td>0</td>\n",
              "      <td>0</td>\n",
              "      <td>0</td>\n",
              "      <td>0</td>\n",
              "      <td>0</td>\n",
              "      <td>0</td>\n",
              "      <td>1</td>\n",
              "      <td>0</td>\n",
              "      <td>1</td>\n",
              "      <td>0</td>\n",
              "      <td>0</td>\n",
              "      <td>0</td>\n",
              "      <td>0</td>\n",
              "      <td>0</td>\n",
              "      <td>1</td>\n",
              "      <td>0</td>\n",
              "      <td>0</td>\n",
              "      <td>0</td>\n",
              "      <td>0</td>\n",
              "      <td>0</td>\n",
              "      <td>1</td>\n",
              "    </tr>\n",
              "    <tr>\n",
              "      <th>1</th>\n",
              "      <td>1</td>\n",
              "      <td>1</td>\n",
              "      <td>0</td>\n",
              "      <td>1</td>\n",
              "      <td>1</td>\n",
              "      <td>1</td>\n",
              "      <td>0</td>\n",
              "      <td>0</td>\n",
              "      <td>0</td>\n",
              "      <td>0</td>\n",
              "      <td>0</td>\n",
              "      <td>0</td>\n",
              "      <td>0</td>\n",
              "      <td>1</td>\n",
              "      <td>0</td>\n",
              "      <td>0</td>\n",
              "      <td>0</td>\n",
              "      <td>0</td>\n",
              "      <td>0</td>\n",
              "      <td>1</td>\n",
              "      <td>0</td>\n",
              "      <td>0</td>\n",
              "      <td>0</td>\n",
              "      <td>0</td>\n",
              "      <td>0</td>\n",
              "      <td>0</td>\n",
              "      <td>0</td>\n",
              "      <td>1</td>\n",
              "    </tr>\n",
              "    <tr>\n",
              "      <th>2</th>\n",
              "      <td>0</td>\n",
              "      <td>0</td>\n",
              "      <td>0</td>\n",
              "      <td>0</td>\n",
              "      <td>0</td>\n",
              "      <td>1</td>\n",
              "      <td>1</td>\n",
              "      <td>0</td>\n",
              "      <td>0</td>\n",
              "      <td>0</td>\n",
              "      <td>0</td>\n",
              "      <td>0</td>\n",
              "      <td>0</td>\n",
              "      <td>1</td>\n",
              "      <td>0</td>\n",
              "      <td>1</td>\n",
              "      <td>0</td>\n",
              "      <td>0</td>\n",
              "      <td>0</td>\n",
              "      <td>0</td>\n",
              "      <td>1</td>\n",
              "      <td>0</td>\n",
              "      <td>0</td>\n",
              "      <td>0</td>\n",
              "      <td>0</td>\n",
              "      <td>0</td>\n",
              "      <td>0</td>\n",
              "      <td>1</td>\n",
              "    </tr>\n",
              "    <tr>\n",
              "      <th>3</th>\n",
              "      <td>0</td>\n",
              "      <td>0</td>\n",
              "      <td>0</td>\n",
              "      <td>0</td>\n",
              "      <td>0</td>\n",
              "      <td>1</td>\n",
              "      <td>0</td>\n",
              "      <td>1</td>\n",
              "      <td>0</td>\n",
              "      <td>0</td>\n",
              "      <td>0</td>\n",
              "      <td>0</td>\n",
              "      <td>1</td>\n",
              "      <td>1</td>\n",
              "      <td>0</td>\n",
              "      <td>0</td>\n",
              "      <td>0</td>\n",
              "      <td>0</td>\n",
              "      <td>0</td>\n",
              "      <td>0</td>\n",
              "      <td>0</td>\n",
              "      <td>0</td>\n",
              "      <td>0</td>\n",
              "      <td>0</td>\n",
              "      <td>0</td>\n",
              "      <td>0</td>\n",
              "      <td>1</td>\n",
              "      <td>1</td>\n",
              "    </tr>\n",
              "    <tr>\n",
              "      <th>4</th>\n",
              "      <td>0</td>\n",
              "      <td>1</td>\n",
              "      <td>0</td>\n",
              "      <td>0</td>\n",
              "      <td>0</td>\n",
              "      <td>0</td>\n",
              "      <td>0</td>\n",
              "      <td>0</td>\n",
              "      <td>0</td>\n",
              "      <td>0</td>\n",
              "      <td>1</td>\n",
              "      <td>0</td>\n",
              "      <td>1</td>\n",
              "      <td>1</td>\n",
              "      <td>0</td>\n",
              "      <td>0</td>\n",
              "      <td>0</td>\n",
              "      <td>0</td>\n",
              "      <td>0</td>\n",
              "      <td>0</td>\n",
              "      <td>0</td>\n",
              "      <td>0</td>\n",
              "      <td>0</td>\n",
              "      <td>0</td>\n",
              "      <td>0</td>\n",
              "      <td>0</td>\n",
              "      <td>1</td>\n",
              "      <td>1</td>\n",
              "    </tr>\n",
              "    <tr>\n",
              "      <th>5</th>\n",
              "      <td>0</td>\n",
              "      <td>0</td>\n",
              "      <td>0</td>\n",
              "      <td>1</td>\n",
              "      <td>1</td>\n",
              "      <td>1</td>\n",
              "      <td>0</td>\n",
              "      <td>0</td>\n",
              "      <td>0</td>\n",
              "      <td>0</td>\n",
              "      <td>0</td>\n",
              "      <td>0</td>\n",
              "      <td>0</td>\n",
              "      <td>1</td>\n",
              "      <td>0</td>\n",
              "      <td>0</td>\n",
              "      <td>0</td>\n",
              "      <td>0</td>\n",
              "      <td>0</td>\n",
              "      <td>0</td>\n",
              "      <td>0</td>\n",
              "      <td>0</td>\n",
              "      <td>0</td>\n",
              "      <td>0</td>\n",
              "      <td>0</td>\n",
              "      <td>0</td>\n",
              "      <td>1</td>\n",
              "      <td>1</td>\n",
              "    </tr>\n",
              "    <tr>\n",
              "      <th>6</th>\n",
              "      <td>0</td>\n",
              "      <td>1</td>\n",
              "      <td>0</td>\n",
              "      <td>0</td>\n",
              "      <td>0</td>\n",
              "      <td>0</td>\n",
              "      <td>0</td>\n",
              "      <td>0</td>\n",
              "      <td>0</td>\n",
              "      <td>0</td>\n",
              "      <td>0</td>\n",
              "      <td>0</td>\n",
              "      <td>0</td>\n",
              "      <td>1</td>\n",
              "      <td>0</td>\n",
              "      <td>0</td>\n",
              "      <td>0</td>\n",
              "      <td>0</td>\n",
              "      <td>0</td>\n",
              "      <td>0</td>\n",
              "      <td>0</td>\n",
              "      <td>0</td>\n",
              "      <td>0</td>\n",
              "      <td>0</td>\n",
              "      <td>1</td>\n",
              "      <td>0</td>\n",
              "      <td>0</td>\n",
              "      <td>0</td>\n",
              "    </tr>\n",
              "    <tr>\n",
              "      <th>7</th>\n",
              "      <td>0</td>\n",
              "      <td>1</td>\n",
              "      <td>1</td>\n",
              "      <td>1</td>\n",
              "      <td>1</td>\n",
              "      <td>1</td>\n",
              "      <td>1</td>\n",
              "      <td>0</td>\n",
              "      <td>0</td>\n",
              "      <td>1</td>\n",
              "      <td>0</td>\n",
              "      <td>1</td>\n",
              "      <td>1</td>\n",
              "      <td>1</td>\n",
              "      <td>0</td>\n",
              "      <td>1</td>\n",
              "      <td>0</td>\n",
              "      <td>0</td>\n",
              "      <td>0</td>\n",
              "      <td>0</td>\n",
              "      <td>0</td>\n",
              "      <td>0</td>\n",
              "      <td>0</td>\n",
              "      <td>0</td>\n",
              "      <td>0</td>\n",
              "      <td>1</td>\n",
              "      <td>1</td>\n",
              "      <td>1</td>\n",
              "    </tr>\n",
              "    <tr>\n",
              "      <th>8</th>\n",
              "      <td>1</td>\n",
              "      <td>1</td>\n",
              "      <td>1</td>\n",
              "      <td>1</td>\n",
              "      <td>0</td>\n",
              "      <td>1</td>\n",
              "      <td>0</td>\n",
              "      <td>1</td>\n",
              "      <td>0</td>\n",
              "      <td>0</td>\n",
              "      <td>0</td>\n",
              "      <td>0</td>\n",
              "      <td>1</td>\n",
              "      <td>1</td>\n",
              "      <td>0</td>\n",
              "      <td>1</td>\n",
              "      <td>0</td>\n",
              "      <td>0</td>\n",
              "      <td>0</td>\n",
              "      <td>0</td>\n",
              "      <td>0</td>\n",
              "      <td>0</td>\n",
              "      <td>0</td>\n",
              "      <td>0</td>\n",
              "      <td>0</td>\n",
              "      <td>1</td>\n",
              "      <td>1</td>\n",
              "      <td>1</td>\n",
              "    </tr>\n",
              "    <tr>\n",
              "      <th>9</th>\n",
              "      <td>1</td>\n",
              "      <td>1</td>\n",
              "      <td>0</td>\n",
              "      <td>0</td>\n",
              "      <td>0</td>\n",
              "      <td>0</td>\n",
              "      <td>1</td>\n",
              "      <td>0</td>\n",
              "      <td>0</td>\n",
              "      <td>0</td>\n",
              "      <td>0</td>\n",
              "      <td>0</td>\n",
              "      <td>0</td>\n",
              "      <td>1</td>\n",
              "      <td>0</td>\n",
              "      <td>0</td>\n",
              "      <td>0</td>\n",
              "      <td>0</td>\n",
              "      <td>0</td>\n",
              "      <td>0</td>\n",
              "      <td>1</td>\n",
              "      <td>0</td>\n",
              "      <td>0</td>\n",
              "      <td>0</td>\n",
              "      <td>0</td>\n",
              "      <td>0</td>\n",
              "      <td>0</td>\n",
              "      <td>1</td>\n",
              "    </tr>\n",
              "  </tbody>\n",
              "</table>\n",
              "</div>\n",
              "      <button class=\"colab-df-convert\" onclick=\"convertToInteractive('df-06f27fb6-b9e8-4b6d-bc2d-ce6b3b123cf9')\"\n",
              "              title=\"Convert this dataframe to an interactive table.\"\n",
              "              style=\"display:none;\">\n",
              "        \n",
              "  <svg xmlns=\"http://www.w3.org/2000/svg\" height=\"24px\"viewBox=\"0 0 24 24\"\n",
              "       width=\"24px\">\n",
              "    <path d=\"M0 0h24v24H0V0z\" fill=\"none\"/>\n",
              "    <path d=\"M18.56 5.44l.94 2.06.94-2.06 2.06-.94-2.06-.94-.94-2.06-.94 2.06-2.06.94zm-11 1L8.5 8.5l.94-2.06 2.06-.94-2.06-.94L8.5 2.5l-.94 2.06-2.06.94zm10 10l.94 2.06.94-2.06 2.06-.94-2.06-.94-.94-2.06-.94 2.06-2.06.94z\"/><path d=\"M17.41 7.96l-1.37-1.37c-.4-.4-.92-.59-1.43-.59-.52 0-1.04.2-1.43.59L10.3 9.45l-7.72 7.72c-.78.78-.78 2.05 0 2.83L4 21.41c.39.39.9.59 1.41.59.51 0 1.02-.2 1.41-.59l7.78-7.78 2.81-2.81c.8-.78.8-2.07 0-2.86zM5.41 20L4 18.59l7.72-7.72 1.47 1.35L5.41 20z\"/>\n",
              "  </svg>\n",
              "      </button>\n",
              "      \n",
              "  <style>\n",
              "    .colab-df-container {\n",
              "      display:flex;\n",
              "      flex-wrap:wrap;\n",
              "      gap: 12px;\n",
              "    }\n",
              "\n",
              "    .colab-df-convert {\n",
              "      background-color: #E8F0FE;\n",
              "      border: none;\n",
              "      border-radius: 50%;\n",
              "      cursor: pointer;\n",
              "      display: none;\n",
              "      fill: #1967D2;\n",
              "      height: 32px;\n",
              "      padding: 0 0 0 0;\n",
              "      width: 32px;\n",
              "    }\n",
              "\n",
              "    .colab-df-convert:hover {\n",
              "      background-color: #E2EBFA;\n",
              "      box-shadow: 0px 1px 2px rgba(60, 64, 67, 0.3), 0px 1px 3px 1px rgba(60, 64, 67, 0.15);\n",
              "      fill: #174EA6;\n",
              "    }\n",
              "\n",
              "    [theme=dark] .colab-df-convert {\n",
              "      background-color: #3B4455;\n",
              "      fill: #D2E3FC;\n",
              "    }\n",
              "\n",
              "    [theme=dark] .colab-df-convert:hover {\n",
              "      background-color: #434B5C;\n",
              "      box-shadow: 0px 1px 3px 1px rgba(0, 0, 0, 0.15);\n",
              "      filter: drop-shadow(0px 1px 2px rgba(0, 0, 0, 0.3));\n",
              "      fill: #FFFFFF;\n",
              "    }\n",
              "  </style>\n",
              "\n",
              "      <script>\n",
              "        const buttonEl =\n",
              "          document.querySelector('#df-06f27fb6-b9e8-4b6d-bc2d-ce6b3b123cf9 button.colab-df-convert');\n",
              "        buttonEl.style.display =\n",
              "          google.colab.kernel.accessAllowed ? 'block' : 'none';\n",
              "\n",
              "        async function convertToInteractive(key) {\n",
              "          const element = document.querySelector('#df-06f27fb6-b9e8-4b6d-bc2d-ce6b3b123cf9');\n",
              "          const dataTable =\n",
              "            await google.colab.kernel.invokeFunction('convertToInteractive',\n",
              "                                                     [key], {});\n",
              "          if (!dataTable) return;\n",
              "\n",
              "          const docLinkHtml = 'Like what you see? Visit the ' +\n",
              "            '<a target=\"_blank\" href=https://colab.research.google.com/notebooks/data_table.ipynb>data table notebook</a>'\n",
              "            + ' to learn more about interactive tables.';\n",
              "          element.innerHTML = '';\n",
              "          dataTable['output_type'] = 'display_data';\n",
              "          await google.colab.output.renderOutput(dataTable, element);\n",
              "          const docLink = document.createElement('div');\n",
              "          docLink.innerHTML = docLinkHtml;\n",
              "          element.appendChild(docLink);\n",
              "        }\n",
              "      </script>\n",
              "    </div>\n",
              "  </div>\n",
              "  "
            ]
          },
          "metadata": {}
        }
      ]
    },
    {
      "cell_type": "code",
      "source": [
        "# df_sintomas.to_csv('/content/PJI410_sintomas.zip', index=False)"
      ],
      "metadata": {
        "id": "rRptGsyOqJyN"
      },
      "execution_count": null,
      "outputs": []
    },
    {
      "cell_type": "markdown",
      "source": [
        "## Classificação sobre sintomas e fatores de risco, com CLASSI_FIN = 5 como atributo alvo"
      ],
      "metadata": {
        "id": "UwBO1RYcpFaR"
      }
    },
    {
      "cell_type": "code",
      "source": [
        "campos = ['FEBRE', 'TOSSE', 'GARGANTA', 'DISPNEIA', 'DESC_RESP', 'SATURACAO', 'DIARREIA', 'VOMITO',\n",
        "          'DOR_ABD', 'FADIGA', 'PERD_OLFT', 'PERD_PALA', 'OUTRO_SIN', 'FATOR_RISC', 'PUERPERA',\n",
        "          'CARDIOPATI', 'HEMATOLOGI', 'SIND_DOWN', 'HEPATICA', 'ASMA', 'DIABETES', 'NEUROLOGIC',\n",
        "          'PNEUMOPATI', 'IMUNODEPRE', 'RENAL', 'OBESIDADE', 'OUT_MORBI', 'CLASSI_FIN']\n",
        "\n",
        "filtros = [df[c].isin([1, 2]) for c in campos[:-1]]\n",
        "filtros.append(df['CLASSI_FIN'].isin(DIAGNOSTICOS.keys()))\n",
        "\n",
        "filtro = np.vstack(filtros).all(axis=0)"
      ],
      "metadata": {
        "id": "ilptIrvrpFaR"
      },
      "execution_count": null,
      "outputs": []
    },
    {
      "cell_type": "code",
      "source": [
        "df_sintomas_covid = df[campos][filtro].replace({2: 0}).astype('int').reset_index(drop=True)\n",
        "df_sintomas_covid['CLASSI_FIN'].replace({1: 0, 3: 0, 4: 0, 5: 1}, inplace=True)\n",
        "df_sintomas_covid.rename(columns={'CLASSI_FIN': 'COVID'}, inplace=True)"
      ],
      "metadata": {
        "id": "ffh91r0upFaR"
      },
      "execution_count": null,
      "outputs": []
    },
    {
      "cell_type": "code",
      "source": [
        "with pd.option_context('display.max_columns', None):\n",
        "    display(df_sintomas_covid[:10])"
      ],
      "metadata": {
        "colab": {
          "base_uri": "https://localhost:8080/",
          "height": 427
        },
        "outputId": "d27c2aff-16c9-42e2-a3c2-5e88b52b09ed",
        "id": "hXKXrtSKpFaR"
      },
      "execution_count": null,
      "outputs": [
        {
          "output_type": "display_data",
          "data": {
            "text/plain": [
              "   FEBRE  TOSSE  GARGANTA  DISPNEIA  DESC_RESP  SATURACAO  DIARREIA  VOMITO  \\\n",
              "0      0      0         0         1          1          0         0       0   \n",
              "1      1      1         0         1          1          1         0       0   \n",
              "2      0      0         0         0          0          1         1       0   \n",
              "3      0      0         0         0          0          1         0       1   \n",
              "4      0      1         0         0          0          0         0       0   \n",
              "5      0      0         0         1          1          1         0       0   \n",
              "6      0      1         0         0          0          0         0       0   \n",
              "7      0      1         1         1          1          1         1       0   \n",
              "8      1      1         1         1          0          1         0       1   \n",
              "9      1      1         0         0          0          0         1       0   \n",
              "\n",
              "   DOR_ABD  FADIGA  PERD_OLFT  PERD_PALA  OUTRO_SIN  FATOR_RISC  PUERPERA  \\\n",
              "0        0       0          0          0          0           1         0   \n",
              "1        0       0          0          0          0           1         0   \n",
              "2        0       0          0          0          0           1         0   \n",
              "3        0       0          0          0          1           1         0   \n",
              "4        0       0          1          0          1           1         0   \n",
              "5        0       0          0          0          0           1         0   \n",
              "6        0       0          0          0          0           1         0   \n",
              "7        0       1          0          1          1           1         0   \n",
              "8        0       0          0          0          1           1         0   \n",
              "9        0       0          0          0          0           1         0   \n",
              "\n",
              "   CARDIOPATI  HEMATOLOGI  SIND_DOWN  HEPATICA  ASMA  DIABETES  NEUROLOGIC  \\\n",
              "0           1           0          0         0     0         0           1   \n",
              "1           0           0          0         0     1         0           0   \n",
              "2           1           0          0         0     0         1           0   \n",
              "3           0           0          0         0     0         0           0   \n",
              "4           0           0          0         0     0         0           0   \n",
              "5           0           0          0         0     0         0           0   \n",
              "6           0           0          0         0     0         0           0   \n",
              "7           1           0          0         0     0         0           0   \n",
              "8           1           0          0         0     0         0           0   \n",
              "9           0           0          0         0     0         1           0   \n",
              "\n",
              "   PNEUMOPATI  IMUNODEPRE  RENAL  OBESIDADE  OUT_MORBI  COVID  \n",
              "0           0           0      0          0          0      0  \n",
              "1           0           0      0          0          0      0  \n",
              "2           0           0      0          0          0      0  \n",
              "3           0           0      0          0          1      0  \n",
              "4           0           0      0          0          1      0  \n",
              "5           0           0      0          0          1      1  \n",
              "6           0           0      1          0          0      1  \n",
              "7           0           0      0          1          1      1  \n",
              "8           0           0      0          1          1      1  \n",
              "9           0           0      0          0          0      0  "
            ],
            "text/html": [
              "\n",
              "  <div id=\"df-946c76f6-89a5-4f08-9e42-8ca0cafb6820\">\n",
              "    <div class=\"colab-df-container\">\n",
              "      <div>\n",
              "<style scoped>\n",
              "    .dataframe tbody tr th:only-of-type {\n",
              "        vertical-align: middle;\n",
              "    }\n",
              "\n",
              "    .dataframe tbody tr th {\n",
              "        vertical-align: top;\n",
              "    }\n",
              "\n",
              "    .dataframe thead th {\n",
              "        text-align: right;\n",
              "    }\n",
              "</style>\n",
              "<table border=\"1\" class=\"dataframe\">\n",
              "  <thead>\n",
              "    <tr style=\"text-align: right;\">\n",
              "      <th></th>\n",
              "      <th>FEBRE</th>\n",
              "      <th>TOSSE</th>\n",
              "      <th>GARGANTA</th>\n",
              "      <th>DISPNEIA</th>\n",
              "      <th>DESC_RESP</th>\n",
              "      <th>SATURACAO</th>\n",
              "      <th>DIARREIA</th>\n",
              "      <th>VOMITO</th>\n",
              "      <th>DOR_ABD</th>\n",
              "      <th>FADIGA</th>\n",
              "      <th>PERD_OLFT</th>\n",
              "      <th>PERD_PALA</th>\n",
              "      <th>OUTRO_SIN</th>\n",
              "      <th>FATOR_RISC</th>\n",
              "      <th>PUERPERA</th>\n",
              "      <th>CARDIOPATI</th>\n",
              "      <th>HEMATOLOGI</th>\n",
              "      <th>SIND_DOWN</th>\n",
              "      <th>HEPATICA</th>\n",
              "      <th>ASMA</th>\n",
              "      <th>DIABETES</th>\n",
              "      <th>NEUROLOGIC</th>\n",
              "      <th>PNEUMOPATI</th>\n",
              "      <th>IMUNODEPRE</th>\n",
              "      <th>RENAL</th>\n",
              "      <th>OBESIDADE</th>\n",
              "      <th>OUT_MORBI</th>\n",
              "      <th>COVID</th>\n",
              "    </tr>\n",
              "  </thead>\n",
              "  <tbody>\n",
              "    <tr>\n",
              "      <th>0</th>\n",
              "      <td>0</td>\n",
              "      <td>0</td>\n",
              "      <td>0</td>\n",
              "      <td>1</td>\n",
              "      <td>1</td>\n",
              "      <td>0</td>\n",
              "      <td>0</td>\n",
              "      <td>0</td>\n",
              "      <td>0</td>\n",
              "      <td>0</td>\n",
              "      <td>0</td>\n",
              "      <td>0</td>\n",
              "      <td>0</td>\n",
              "      <td>1</td>\n",
              "      <td>0</td>\n",
              "      <td>1</td>\n",
              "      <td>0</td>\n",
              "      <td>0</td>\n",
              "      <td>0</td>\n",
              "      <td>0</td>\n",
              "      <td>0</td>\n",
              "      <td>1</td>\n",
              "      <td>0</td>\n",
              "      <td>0</td>\n",
              "      <td>0</td>\n",
              "      <td>0</td>\n",
              "      <td>0</td>\n",
              "      <td>0</td>\n",
              "    </tr>\n",
              "    <tr>\n",
              "      <th>1</th>\n",
              "      <td>1</td>\n",
              "      <td>1</td>\n",
              "      <td>0</td>\n",
              "      <td>1</td>\n",
              "      <td>1</td>\n",
              "      <td>1</td>\n",
              "      <td>0</td>\n",
              "      <td>0</td>\n",
              "      <td>0</td>\n",
              "      <td>0</td>\n",
              "      <td>0</td>\n",
              "      <td>0</td>\n",
              "      <td>0</td>\n",
              "      <td>1</td>\n",
              "      <td>0</td>\n",
              "      <td>0</td>\n",
              "      <td>0</td>\n",
              "      <td>0</td>\n",
              "      <td>0</td>\n",
              "      <td>1</td>\n",
              "      <td>0</td>\n",
              "      <td>0</td>\n",
              "      <td>0</td>\n",
              "      <td>0</td>\n",
              "      <td>0</td>\n",
              "      <td>0</td>\n",
              "      <td>0</td>\n",
              "      <td>0</td>\n",
              "    </tr>\n",
              "    <tr>\n",
              "      <th>2</th>\n",
              "      <td>0</td>\n",
              "      <td>0</td>\n",
              "      <td>0</td>\n",
              "      <td>0</td>\n",
              "      <td>0</td>\n",
              "      <td>1</td>\n",
              "      <td>1</td>\n",
              "      <td>0</td>\n",
              "      <td>0</td>\n",
              "      <td>0</td>\n",
              "      <td>0</td>\n",
              "      <td>0</td>\n",
              "      <td>0</td>\n",
              "      <td>1</td>\n",
              "      <td>0</td>\n",
              "      <td>1</td>\n",
              "      <td>0</td>\n",
              "      <td>0</td>\n",
              "      <td>0</td>\n",
              "      <td>0</td>\n",
              "      <td>1</td>\n",
              "      <td>0</td>\n",
              "      <td>0</td>\n",
              "      <td>0</td>\n",
              "      <td>0</td>\n",
              "      <td>0</td>\n",
              "      <td>0</td>\n",
              "      <td>0</td>\n",
              "    </tr>\n",
              "    <tr>\n",
              "      <th>3</th>\n",
              "      <td>0</td>\n",
              "      <td>0</td>\n",
              "      <td>0</td>\n",
              "      <td>0</td>\n",
              "      <td>0</td>\n",
              "      <td>1</td>\n",
              "      <td>0</td>\n",
              "      <td>1</td>\n",
              "      <td>0</td>\n",
              "      <td>0</td>\n",
              "      <td>0</td>\n",
              "      <td>0</td>\n",
              "      <td>1</td>\n",
              "      <td>1</td>\n",
              "      <td>0</td>\n",
              "      <td>0</td>\n",
              "      <td>0</td>\n",
              "      <td>0</td>\n",
              "      <td>0</td>\n",
              "      <td>0</td>\n",
              "      <td>0</td>\n",
              "      <td>0</td>\n",
              "      <td>0</td>\n",
              "      <td>0</td>\n",
              "      <td>0</td>\n",
              "      <td>0</td>\n",
              "      <td>1</td>\n",
              "      <td>0</td>\n",
              "    </tr>\n",
              "    <tr>\n",
              "      <th>4</th>\n",
              "      <td>0</td>\n",
              "      <td>1</td>\n",
              "      <td>0</td>\n",
              "      <td>0</td>\n",
              "      <td>0</td>\n",
              "      <td>0</td>\n",
              "      <td>0</td>\n",
              "      <td>0</td>\n",
              "      <td>0</td>\n",
              "      <td>0</td>\n",
              "      <td>1</td>\n",
              "      <td>0</td>\n",
              "      <td>1</td>\n",
              "      <td>1</td>\n",
              "      <td>0</td>\n",
              "      <td>0</td>\n",
              "      <td>0</td>\n",
              "      <td>0</td>\n",
              "      <td>0</td>\n",
              "      <td>0</td>\n",
              "      <td>0</td>\n",
              "      <td>0</td>\n",
              "      <td>0</td>\n",
              "      <td>0</td>\n",
              "      <td>0</td>\n",
              "      <td>0</td>\n",
              "      <td>1</td>\n",
              "      <td>0</td>\n",
              "    </tr>\n",
              "    <tr>\n",
              "      <th>5</th>\n",
              "      <td>0</td>\n",
              "      <td>0</td>\n",
              "      <td>0</td>\n",
              "      <td>1</td>\n",
              "      <td>1</td>\n",
              "      <td>1</td>\n",
              "      <td>0</td>\n",
              "      <td>0</td>\n",
              "      <td>0</td>\n",
              "      <td>0</td>\n",
              "      <td>0</td>\n",
              "      <td>0</td>\n",
              "      <td>0</td>\n",
              "      <td>1</td>\n",
              "      <td>0</td>\n",
              "      <td>0</td>\n",
              "      <td>0</td>\n",
              "      <td>0</td>\n",
              "      <td>0</td>\n",
              "      <td>0</td>\n",
              "      <td>0</td>\n",
              "      <td>0</td>\n",
              "      <td>0</td>\n",
              "      <td>0</td>\n",
              "      <td>0</td>\n",
              "      <td>0</td>\n",
              "      <td>1</td>\n",
              "      <td>1</td>\n",
              "    </tr>\n",
              "    <tr>\n",
              "      <th>6</th>\n",
              "      <td>0</td>\n",
              "      <td>1</td>\n",
              "      <td>0</td>\n",
              "      <td>0</td>\n",
              "      <td>0</td>\n",
              "      <td>0</td>\n",
              "      <td>0</td>\n",
              "      <td>0</td>\n",
              "      <td>0</td>\n",
              "      <td>0</td>\n",
              "      <td>0</td>\n",
              "      <td>0</td>\n",
              "      <td>0</td>\n",
              "      <td>1</td>\n",
              "      <td>0</td>\n",
              "      <td>0</td>\n",
              "      <td>0</td>\n",
              "      <td>0</td>\n",
              "      <td>0</td>\n",
              "      <td>0</td>\n",
              "      <td>0</td>\n",
              "      <td>0</td>\n",
              "      <td>0</td>\n",
              "      <td>0</td>\n",
              "      <td>1</td>\n",
              "      <td>0</td>\n",
              "      <td>0</td>\n",
              "      <td>1</td>\n",
              "    </tr>\n",
              "    <tr>\n",
              "      <th>7</th>\n",
              "      <td>0</td>\n",
              "      <td>1</td>\n",
              "      <td>1</td>\n",
              "      <td>1</td>\n",
              "      <td>1</td>\n",
              "      <td>1</td>\n",
              "      <td>1</td>\n",
              "      <td>0</td>\n",
              "      <td>0</td>\n",
              "      <td>1</td>\n",
              "      <td>0</td>\n",
              "      <td>1</td>\n",
              "      <td>1</td>\n",
              "      <td>1</td>\n",
              "      <td>0</td>\n",
              "      <td>1</td>\n",
              "      <td>0</td>\n",
              "      <td>0</td>\n",
              "      <td>0</td>\n",
              "      <td>0</td>\n",
              "      <td>0</td>\n",
              "      <td>0</td>\n",
              "      <td>0</td>\n",
              "      <td>0</td>\n",
              "      <td>0</td>\n",
              "      <td>1</td>\n",
              "      <td>1</td>\n",
              "      <td>1</td>\n",
              "    </tr>\n",
              "    <tr>\n",
              "      <th>8</th>\n",
              "      <td>1</td>\n",
              "      <td>1</td>\n",
              "      <td>1</td>\n",
              "      <td>1</td>\n",
              "      <td>0</td>\n",
              "      <td>1</td>\n",
              "      <td>0</td>\n",
              "      <td>1</td>\n",
              "      <td>0</td>\n",
              "      <td>0</td>\n",
              "      <td>0</td>\n",
              "      <td>0</td>\n",
              "      <td>1</td>\n",
              "      <td>1</td>\n",
              "      <td>0</td>\n",
              "      <td>1</td>\n",
              "      <td>0</td>\n",
              "      <td>0</td>\n",
              "      <td>0</td>\n",
              "      <td>0</td>\n",
              "      <td>0</td>\n",
              "      <td>0</td>\n",
              "      <td>0</td>\n",
              "      <td>0</td>\n",
              "      <td>0</td>\n",
              "      <td>1</td>\n",
              "      <td>1</td>\n",
              "      <td>1</td>\n",
              "    </tr>\n",
              "    <tr>\n",
              "      <th>9</th>\n",
              "      <td>1</td>\n",
              "      <td>1</td>\n",
              "      <td>0</td>\n",
              "      <td>0</td>\n",
              "      <td>0</td>\n",
              "      <td>0</td>\n",
              "      <td>1</td>\n",
              "      <td>0</td>\n",
              "      <td>0</td>\n",
              "      <td>0</td>\n",
              "      <td>0</td>\n",
              "      <td>0</td>\n",
              "      <td>0</td>\n",
              "      <td>1</td>\n",
              "      <td>0</td>\n",
              "      <td>0</td>\n",
              "      <td>0</td>\n",
              "      <td>0</td>\n",
              "      <td>0</td>\n",
              "      <td>0</td>\n",
              "      <td>1</td>\n",
              "      <td>0</td>\n",
              "      <td>0</td>\n",
              "      <td>0</td>\n",
              "      <td>0</td>\n",
              "      <td>0</td>\n",
              "      <td>0</td>\n",
              "      <td>0</td>\n",
              "    </tr>\n",
              "  </tbody>\n",
              "</table>\n",
              "</div>\n",
              "      <button class=\"colab-df-convert\" onclick=\"convertToInteractive('df-946c76f6-89a5-4f08-9e42-8ca0cafb6820')\"\n",
              "              title=\"Convert this dataframe to an interactive table.\"\n",
              "              style=\"display:none;\">\n",
              "        \n",
              "  <svg xmlns=\"http://www.w3.org/2000/svg\" height=\"24px\"viewBox=\"0 0 24 24\"\n",
              "       width=\"24px\">\n",
              "    <path d=\"M0 0h24v24H0V0z\" fill=\"none\"/>\n",
              "    <path d=\"M18.56 5.44l.94 2.06.94-2.06 2.06-.94-2.06-.94-.94-2.06-.94 2.06-2.06.94zm-11 1L8.5 8.5l.94-2.06 2.06-.94-2.06-.94L8.5 2.5l-.94 2.06-2.06.94zm10 10l.94 2.06.94-2.06 2.06-.94-2.06-.94-.94-2.06-.94 2.06-2.06.94z\"/><path d=\"M17.41 7.96l-1.37-1.37c-.4-.4-.92-.59-1.43-.59-.52 0-1.04.2-1.43.59L10.3 9.45l-7.72 7.72c-.78.78-.78 2.05 0 2.83L4 21.41c.39.39.9.59 1.41.59.51 0 1.02-.2 1.41-.59l7.78-7.78 2.81-2.81c.8-.78.8-2.07 0-2.86zM5.41 20L4 18.59l7.72-7.72 1.47 1.35L5.41 20z\"/>\n",
              "  </svg>\n",
              "      </button>\n",
              "      \n",
              "  <style>\n",
              "    .colab-df-container {\n",
              "      display:flex;\n",
              "      flex-wrap:wrap;\n",
              "      gap: 12px;\n",
              "    }\n",
              "\n",
              "    .colab-df-convert {\n",
              "      background-color: #E8F0FE;\n",
              "      border: none;\n",
              "      border-radius: 50%;\n",
              "      cursor: pointer;\n",
              "      display: none;\n",
              "      fill: #1967D2;\n",
              "      height: 32px;\n",
              "      padding: 0 0 0 0;\n",
              "      width: 32px;\n",
              "    }\n",
              "\n",
              "    .colab-df-convert:hover {\n",
              "      background-color: #E2EBFA;\n",
              "      box-shadow: 0px 1px 2px rgba(60, 64, 67, 0.3), 0px 1px 3px 1px rgba(60, 64, 67, 0.15);\n",
              "      fill: #174EA6;\n",
              "    }\n",
              "\n",
              "    [theme=dark] .colab-df-convert {\n",
              "      background-color: #3B4455;\n",
              "      fill: #D2E3FC;\n",
              "    }\n",
              "\n",
              "    [theme=dark] .colab-df-convert:hover {\n",
              "      background-color: #434B5C;\n",
              "      box-shadow: 0px 1px 3px 1px rgba(0, 0, 0, 0.15);\n",
              "      filter: drop-shadow(0px 1px 2px rgba(0, 0, 0, 0.3));\n",
              "      fill: #FFFFFF;\n",
              "    }\n",
              "  </style>\n",
              "\n",
              "      <script>\n",
              "        const buttonEl =\n",
              "          document.querySelector('#df-946c76f6-89a5-4f08-9e42-8ca0cafb6820 button.colab-df-convert');\n",
              "        buttonEl.style.display =\n",
              "          google.colab.kernel.accessAllowed ? 'block' : 'none';\n",
              "\n",
              "        async function convertToInteractive(key) {\n",
              "          const element = document.querySelector('#df-946c76f6-89a5-4f08-9e42-8ca0cafb6820');\n",
              "          const dataTable =\n",
              "            await google.colab.kernel.invokeFunction('convertToInteractive',\n",
              "                                                     [key], {});\n",
              "          if (!dataTable) return;\n",
              "\n",
              "          const docLinkHtml = 'Like what you see? Visit the ' +\n",
              "            '<a target=\"_blank\" href=https://colab.research.google.com/notebooks/data_table.ipynb>data table notebook</a>'\n",
              "            + ' to learn more about interactive tables.';\n",
              "          element.innerHTML = '';\n",
              "          dataTable['output_type'] = 'display_data';\n",
              "          await google.colab.output.renderOutput(dataTable, element);\n",
              "          const docLink = document.createElement('div');\n",
              "          docLink.innerHTML = docLinkHtml;\n",
              "          element.appendChild(docLink);\n",
              "        }\n",
              "      </script>\n",
              "    </div>\n",
              "  </div>\n",
              "  "
            ]
          },
          "metadata": {}
        }
      ]
    },
    {
      "cell_type": "code",
      "source": [
        "# df_sintomas_covid.to_csv('/content/PJI410_sintomas_covid.zip', index=False)"
      ],
      "metadata": {
        "id": "ugWcgNI4szJP"
      },
      "execution_count": null,
      "outputs": []
    },
    {
      "cell_type": "markdown",
      "source": [
        "## Quantidade de notificações por semana por unidade"
      ],
      "metadata": {
        "id": "EtrDV5Q1pBYV"
      }
    },
    {
      "cell_type": "code",
      "source": [
        "# %%time\n",
        "\n",
        "# df_notificacoes_por_unidade = df[['DT_NOTIFIC', 'SG_UF_NOT', 'CO_MUN_NOT', 'CO_UNI_NOT']].value_counts().sort_index().reset_index()\n",
        "# df_notificacoes_por_unidade.columns = ['Data', 'UF', 'Municipio', 'Unidade', 'Quantidade']\n",
        "\n",
        "# for i, nu in df_notificacoes_por_unidade.iterrows():\n",
        "#     df_notificacoes_por_unidade.loc[i, 'Segunda-feira'] = nu['Data'] - np.timedelta64(nu['Data'].dayofweek, 'D')\n",
        "\n",
        "# df_notificacoes_por_unidade.drop(['Data'], axis=1, inplace=True)\n",
        "# df_notificacoes_por_unidade = df_notificacoes_por_unidade.groupby(by=['Segunda-feira', 'UF', 'Municipio', 'Unidade']).sum().reset_index()"
      ],
      "metadata": {
        "colab": {
          "base_uri": "https://localhost:8080/"
        },
        "id": "-8q_zLyWpIR3",
        "outputId": "3ad3d3c9-f100-4d1e-d4ad-802387e2f418"
      },
      "execution_count": null,
      "outputs": [
        {
          "output_type": "stream",
          "name": "stdout",
          "text": [
            "CPU times: user 1h 4min 7s, sys: 14.8 s, total: 1h 4min 21s\n",
            "Wall time: 1h 4min 24s\n"
          ]
        }
      ]
    },
    {
      "cell_type": "code",
      "source": [
        "# df_notificacoes_por_unidade.to_csv('/content/PJI410_notificacoes_por_unidade.zip', index=False)"
      ],
      "metadata": {
        "id": "O2jNI7NcoLsR"
      },
      "execution_count": null,
      "outputs": []
    },
    {
      "cell_type": "markdown",
      "source": [
        "## Quantidade de notificações por semana por município"
      ],
      "metadata": {
        "id": "fkK_EGxNL1pT"
      }
    },
    {
      "cell_type": "code",
      "source": [
        "%%time\n",
        "\n",
        "df_notificacoes_por_municipio = df[['DT_NOTIFIC', 'SG_UF_NOT', 'CO_MUN_NOT']].value_counts().sort_index().reset_index()\n",
        "df_notificacoes_por_municipio.columns = ['Data', 'UF_Codigo', 'Municipio_Codigo', 'Quantidade']\n",
        "\n",
        "for i, nm in df_notificacoes_por_municipio.iterrows():\n",
        "    df_notificacoes_por_municipio.loc[i, 'Segunda-feira']  = nm['Data'] - np.timedelta64(nm['Data'].dayofweek, 'D')\n",
        "    df_notificacoes_por_municipio.loc[i, 'UF_Nome']        = df_populacao['Nome'][df_populacao['UF'] == nm['UF_Codigo']].values[0]\n",
        "    df_notificacoes_por_municipio.loc[i, 'Municipio_Nome'] = df_municipios['Municipio'][df_municipios['Codigo'] == nm['Municipio_Codigo']].values[0]\n",
        "\n",
        "df_notificacoes_por_municipio.drop(['Data'], axis=1, inplace=True)\n",
        "df_notificacoes_por_municipio = df_notificacoes_por_municipio.groupby(by=['Segunda-feira', 'UF_Codigo', 'UF_Nome', 'Municipio_Codigo', 'Municipio_Nome']).sum().reset_index()"
      ],
      "metadata": {
        "colab": {
          "base_uri": "https://localhost:8080/"
        },
        "outputId": "fa1361db-47cf-4d61-8c61-9ced1cc9bfb0",
        "id": "IuDuoMSdL1pU"
      },
      "execution_count": 52,
      "outputs": [
        {
          "output_type": "stream",
          "name": "stdout",
          "text": [
            "CPU times: user 6min 52s, sys: 5.17 s, total: 6min 58s\n",
            "Wall time: 6min 56s\n"
          ]
        }
      ]
    },
    {
      "cell_type": "code",
      "source": [
        "df_notificacoes_por_municipio[:5]"
      ],
      "metadata": {
        "colab": {
          "base_uri": "https://localhost:8080/",
          "height": 206
        },
        "id": "e5sesHNcO7mb",
        "outputId": "aa6c0a3c-eeb6-48cd-898d-9fd2c1aadc32"
      },
      "execution_count": 53,
      "outputs": [
        {
          "output_type": "execute_result",
          "data": {
            "text/plain": [
              "  Segunda-feira UF_Codigo   UF_Nome  Municipio_Codigo   Municipio_Nome  \\\n",
              "0    2020-12-28        AL   Alagoas            270915  TEOTONIO VILELA   \n",
              "1    2020-12-28        AM  Amazonas            130260           MANAUS   \n",
              "2    2020-12-28        AM  Amazonas            130290            MAUES   \n",
              "3    2020-12-28        BA     Bahia            290130          ANDARAI   \n",
              "4    2020-12-28        BA     Bahia            290630      CANAVIEIRAS   \n",
              "\n",
              "   Quantidade  \n",
              "0           1  \n",
              "1           4  \n",
              "2           1  \n",
              "3           1  \n",
              "4           1  "
            ],
            "text/html": [
              "\n",
              "  <div id=\"df-be553996-d0c7-46c6-97f0-4229df9d64b2\">\n",
              "    <div class=\"colab-df-container\">\n",
              "      <div>\n",
              "<style scoped>\n",
              "    .dataframe tbody tr th:only-of-type {\n",
              "        vertical-align: middle;\n",
              "    }\n",
              "\n",
              "    .dataframe tbody tr th {\n",
              "        vertical-align: top;\n",
              "    }\n",
              "\n",
              "    .dataframe thead th {\n",
              "        text-align: right;\n",
              "    }\n",
              "</style>\n",
              "<table border=\"1\" class=\"dataframe\">\n",
              "  <thead>\n",
              "    <tr style=\"text-align: right;\">\n",
              "      <th></th>\n",
              "      <th>Segunda-feira</th>\n",
              "      <th>UF_Codigo</th>\n",
              "      <th>UF_Nome</th>\n",
              "      <th>Municipio_Codigo</th>\n",
              "      <th>Municipio_Nome</th>\n",
              "      <th>Quantidade</th>\n",
              "    </tr>\n",
              "  </thead>\n",
              "  <tbody>\n",
              "    <tr>\n",
              "      <th>0</th>\n",
              "      <td>2020-12-28</td>\n",
              "      <td>AL</td>\n",
              "      <td>Alagoas</td>\n",
              "      <td>270915</td>\n",
              "      <td>TEOTONIO VILELA</td>\n",
              "      <td>1</td>\n",
              "    </tr>\n",
              "    <tr>\n",
              "      <th>1</th>\n",
              "      <td>2020-12-28</td>\n",
              "      <td>AM</td>\n",
              "      <td>Amazonas</td>\n",
              "      <td>130260</td>\n",
              "      <td>MANAUS</td>\n",
              "      <td>4</td>\n",
              "    </tr>\n",
              "    <tr>\n",
              "      <th>2</th>\n",
              "      <td>2020-12-28</td>\n",
              "      <td>AM</td>\n",
              "      <td>Amazonas</td>\n",
              "      <td>130290</td>\n",
              "      <td>MAUES</td>\n",
              "      <td>1</td>\n",
              "    </tr>\n",
              "    <tr>\n",
              "      <th>3</th>\n",
              "      <td>2020-12-28</td>\n",
              "      <td>BA</td>\n",
              "      <td>Bahia</td>\n",
              "      <td>290130</td>\n",
              "      <td>ANDARAI</td>\n",
              "      <td>1</td>\n",
              "    </tr>\n",
              "    <tr>\n",
              "      <th>4</th>\n",
              "      <td>2020-12-28</td>\n",
              "      <td>BA</td>\n",
              "      <td>Bahia</td>\n",
              "      <td>290630</td>\n",
              "      <td>CANAVIEIRAS</td>\n",
              "      <td>1</td>\n",
              "    </tr>\n",
              "  </tbody>\n",
              "</table>\n",
              "</div>\n",
              "      <button class=\"colab-df-convert\" onclick=\"convertToInteractive('df-be553996-d0c7-46c6-97f0-4229df9d64b2')\"\n",
              "              title=\"Convert this dataframe to an interactive table.\"\n",
              "              style=\"display:none;\">\n",
              "        \n",
              "  <svg xmlns=\"http://www.w3.org/2000/svg\" height=\"24px\"viewBox=\"0 0 24 24\"\n",
              "       width=\"24px\">\n",
              "    <path d=\"M0 0h24v24H0V0z\" fill=\"none\"/>\n",
              "    <path d=\"M18.56 5.44l.94 2.06.94-2.06 2.06-.94-2.06-.94-.94-2.06-.94 2.06-2.06.94zm-11 1L8.5 8.5l.94-2.06 2.06-.94-2.06-.94L8.5 2.5l-.94 2.06-2.06.94zm10 10l.94 2.06.94-2.06 2.06-.94-2.06-.94-.94-2.06-.94 2.06-2.06.94z\"/><path d=\"M17.41 7.96l-1.37-1.37c-.4-.4-.92-.59-1.43-.59-.52 0-1.04.2-1.43.59L10.3 9.45l-7.72 7.72c-.78.78-.78 2.05 0 2.83L4 21.41c.39.39.9.59 1.41.59.51 0 1.02-.2 1.41-.59l7.78-7.78 2.81-2.81c.8-.78.8-2.07 0-2.86zM5.41 20L4 18.59l7.72-7.72 1.47 1.35L5.41 20z\"/>\n",
              "  </svg>\n",
              "      </button>\n",
              "      \n",
              "  <style>\n",
              "    .colab-df-container {\n",
              "      display:flex;\n",
              "      flex-wrap:wrap;\n",
              "      gap: 12px;\n",
              "    }\n",
              "\n",
              "    .colab-df-convert {\n",
              "      background-color: #E8F0FE;\n",
              "      border: none;\n",
              "      border-radius: 50%;\n",
              "      cursor: pointer;\n",
              "      display: none;\n",
              "      fill: #1967D2;\n",
              "      height: 32px;\n",
              "      padding: 0 0 0 0;\n",
              "      width: 32px;\n",
              "    }\n",
              "\n",
              "    .colab-df-convert:hover {\n",
              "      background-color: #E2EBFA;\n",
              "      box-shadow: 0px 1px 2px rgba(60, 64, 67, 0.3), 0px 1px 3px 1px rgba(60, 64, 67, 0.15);\n",
              "      fill: #174EA6;\n",
              "    }\n",
              "\n",
              "    [theme=dark] .colab-df-convert {\n",
              "      background-color: #3B4455;\n",
              "      fill: #D2E3FC;\n",
              "    }\n",
              "\n",
              "    [theme=dark] .colab-df-convert:hover {\n",
              "      background-color: #434B5C;\n",
              "      box-shadow: 0px 1px 3px 1px rgba(0, 0, 0, 0.15);\n",
              "      filter: drop-shadow(0px 1px 2px rgba(0, 0, 0, 0.3));\n",
              "      fill: #FFFFFF;\n",
              "    }\n",
              "  </style>\n",
              "\n",
              "      <script>\n",
              "        const buttonEl =\n",
              "          document.querySelector('#df-be553996-d0c7-46c6-97f0-4229df9d64b2 button.colab-df-convert');\n",
              "        buttonEl.style.display =\n",
              "          google.colab.kernel.accessAllowed ? 'block' : 'none';\n",
              "\n",
              "        async function convertToInteractive(key) {\n",
              "          const element = document.querySelector('#df-be553996-d0c7-46c6-97f0-4229df9d64b2');\n",
              "          const dataTable =\n",
              "            await google.colab.kernel.invokeFunction('convertToInteractive',\n",
              "                                                     [key], {});\n",
              "          if (!dataTable) return;\n",
              "\n",
              "          const docLinkHtml = 'Like what you see? Visit the ' +\n",
              "            '<a target=\"_blank\" href=https://colab.research.google.com/notebooks/data_table.ipynb>data table notebook</a>'\n",
              "            + ' to learn more about interactive tables.';\n",
              "          element.innerHTML = '';\n",
              "          dataTable['output_type'] = 'display_data';\n",
              "          await google.colab.output.renderOutput(dataTable, element);\n",
              "          const docLink = document.createElement('div');\n",
              "          docLink.innerHTML = docLinkHtml;\n",
              "          element.appendChild(docLink);\n",
              "        }\n",
              "      </script>\n",
              "    </div>\n",
              "  </div>\n",
              "  "
            ]
          },
          "metadata": {},
          "execution_count": 53
        }
      ]
    },
    {
      "cell_type": "code",
      "source": [
        "# df_notificacoes_por_municipio.to_csv('/content/PJI410_notificacoes_por_municipio.csv', index=False)"
      ],
      "metadata": {
        "id": "rJ5EGCWPL1pU"
      },
      "execution_count": 55,
      "outputs": []
    },
    {
      "cell_type": "markdown",
      "source": [
        "## Quantidade de notificações por dia da semana"
      ],
      "metadata": {
        "id": "ilb3eqmF5bLG"
      }
    },
    {
      "cell_type": "code",
      "source": [
        "dias = {0: 'Segunda', 1: 'Terça', 2: 'Quarta', 3: 'Quinta', 4: 'Sexta', 5: 'Sábado', 6: 'Domingo'}\n",
        "\n",
        "df['DT_NOTIFIC'].groupby(df['DT_NOTIFIC'].dt.weekday).count().rename(index=dias)"
      ],
      "metadata": {
        "colab": {
          "base_uri": "https://localhost:8080/"
        },
        "id": "0ENy-mnw5d_r",
        "outputId": "58478ae1-f423-4008-8a10-5114ab4b1f0e"
      },
      "execution_count": null,
      "outputs": [
        {
          "output_type": "execute_result",
          "data": {
            "text/plain": [
              "DT_NOTIFIC\n",
              "Segunda    445374\n",
              "Terça      378247\n",
              "Quarta     365005\n",
              "Quinta     354834\n",
              "Sexta      336280\n",
              "Sábado     204138\n",
              "Domingo    193962\n",
              "Name: DT_NOTIFIC, dtype: int64"
            ]
          },
          "metadata": {},
          "execution_count": 55
        }
      ]
    },
    {
      "cell_type": "markdown",
      "source": [
        "## Presença de sintomas em notificações por semana"
      ],
      "metadata": {
        "id": "ZGdasxqTpU6b"
      }
    },
    {
      "cell_type": "code",
      "source": [
        "campos = ['DT_NOTIFIC', 'FEBRE', 'TOSSE', 'GARGANTA', 'DISPNEIA', 'DESC_RESP', 'SATURACAO',\n",
        "          'DIARREIA', 'VOMITO', 'DOR_ABD', 'FADIGA', 'PERD_OLFT', 'PERD_PALA', 'OUTRO_SIN']\n",
        "\n",
        "filtros = [df[c].isin([1, 2]) for c in campos[1:]]\n",
        "\n",
        "filtro = np.vstack(filtros).all(axis=0)\n",
        "\n",
        "df_sintomas_semana = df[campos][filtro].reset_index(drop=True)\n",
        "\n",
        "df_sintomas_semana[campos[1:]] = df_sintomas_semana[campos[1:]].replace({2: 0}).astype('int')\n",
        "\n",
        "df_sintomas_semana = df_sintomas_semana.groupby(['DT_NOTIFIC']).sum().reset_index()\n",
        "\n",
        "df_sintomas_semana['QUANTIDADE'] = list(df['DT_NOTIFIC'][df['DT_NOTIFIC'].isin(df_sintomas_semana['DT_NOTIFIC'])].value_counts().sort_index())\n",
        "\n",
        "for i, ss in df_sintomas_semana.iterrows():\n",
        "    df_sintomas_semana.loc[i, 'Segunda-feira'] = ss['DT_NOTIFIC'] - np.timedelta64(ss['DT_NOTIFIC'].dayofweek, 'D')\n",
        "\n",
        "df_sintomas_semana.drop(['DT_NOTIFIC'], axis=1, inplace=True)\n",
        "\n",
        "df_sintomas_semana = df_sintomas_semana.groupby(by=['Segunda-feira']).sum().reset_index()\n",
        "\n",
        "for campo in campos[1:]:\n",
        "    df_sintomas_semana[campo] = df_sintomas_semana[campo] / df_sintomas_semana['QUANTIDADE']\n",
        "\n",
        "df_sintomas_semana.drop(['QUANTIDADE'], axis=1, inplace=True)\n",
        "\n",
        "campos = ['Segunda-feira', 'Febre', 'Tosse', 'Dor de Garganta', 'Dispneia', 'Desconforto Respiratório', 'Saturação O2 < 95%',\n",
        "          'Diarreia', 'Vômito', 'Dor Abdominal', 'Fadiga', 'Perda do Olfato', 'Perda do Paladar', 'Outros Sintomas']\n",
        "\n",
        "df_sintomas_semana.columns = campos\n",
        "\n",
        "df_sintomas_semana = df_sintomas_semana.melt(id_vars='Segunda-feira', var_name='Sintoma', value_name='Presença')\n",
        "\n",
        "df_sintomas_semana['Sintoma'] = pd.Categorical(df_sintomas_semana['Sintoma'], campos[1:])\n",
        "\n",
        "df_sintomas_semana = df_sintomas_semana.sort_values(['Segunda-feira', 'Sintoma']).reset_index(drop=True)"
      ],
      "metadata": {
        "id": "39QnkyAhpb1a"
      },
      "execution_count": null,
      "outputs": []
    },
    {
      "cell_type": "code",
      "source": [
        "df_sintomas_semana[:5]"
      ],
      "metadata": {
        "colab": {
          "base_uri": "https://localhost:8080/",
          "height": 206
        },
        "id": "D2TAuyfCxHn7",
        "outputId": "cbdb78d9-da0f-4bab-9d22-8a187c65ddc1"
      },
      "execution_count": null,
      "outputs": [
        {
          "output_type": "execute_result",
          "data": {
            "text/plain": [
              "  Segunda-feira                   Sintoma  Presença\n",
              "0    2020-12-28                     Febre  0.172973\n",
              "1    2020-12-28                     Tosse  0.227027\n",
              "2    2020-12-28           Dor de Garganta  0.054054\n",
              "3    2020-12-28                  Dispneia  0.264865\n",
              "4    2020-12-28  Desconforto Respiratório  0.254054"
            ],
            "text/html": [
              "\n",
              "  <div id=\"df-4281ec9c-e473-4c9b-b286-4044f2461003\">\n",
              "    <div class=\"colab-df-container\">\n",
              "      <div>\n",
              "<style scoped>\n",
              "    .dataframe tbody tr th:only-of-type {\n",
              "        vertical-align: middle;\n",
              "    }\n",
              "\n",
              "    .dataframe tbody tr th {\n",
              "        vertical-align: top;\n",
              "    }\n",
              "\n",
              "    .dataframe thead th {\n",
              "        text-align: right;\n",
              "    }\n",
              "</style>\n",
              "<table border=\"1\" class=\"dataframe\">\n",
              "  <thead>\n",
              "    <tr style=\"text-align: right;\">\n",
              "      <th></th>\n",
              "      <th>Segunda-feira</th>\n",
              "      <th>Sintoma</th>\n",
              "      <th>Presença</th>\n",
              "    </tr>\n",
              "  </thead>\n",
              "  <tbody>\n",
              "    <tr>\n",
              "      <th>0</th>\n",
              "      <td>2020-12-28</td>\n",
              "      <td>Febre</td>\n",
              "      <td>0.172973</td>\n",
              "    </tr>\n",
              "    <tr>\n",
              "      <th>1</th>\n",
              "      <td>2020-12-28</td>\n",
              "      <td>Tosse</td>\n",
              "      <td>0.227027</td>\n",
              "    </tr>\n",
              "    <tr>\n",
              "      <th>2</th>\n",
              "      <td>2020-12-28</td>\n",
              "      <td>Dor de Garganta</td>\n",
              "      <td>0.054054</td>\n",
              "    </tr>\n",
              "    <tr>\n",
              "      <th>3</th>\n",
              "      <td>2020-12-28</td>\n",
              "      <td>Dispneia</td>\n",
              "      <td>0.264865</td>\n",
              "    </tr>\n",
              "    <tr>\n",
              "      <th>4</th>\n",
              "      <td>2020-12-28</td>\n",
              "      <td>Desconforto Respiratório</td>\n",
              "      <td>0.254054</td>\n",
              "    </tr>\n",
              "  </tbody>\n",
              "</table>\n",
              "</div>\n",
              "      <button class=\"colab-df-convert\" onclick=\"convertToInteractive('df-4281ec9c-e473-4c9b-b286-4044f2461003')\"\n",
              "              title=\"Convert this dataframe to an interactive table.\"\n",
              "              style=\"display:none;\">\n",
              "        \n",
              "  <svg xmlns=\"http://www.w3.org/2000/svg\" height=\"24px\"viewBox=\"0 0 24 24\"\n",
              "       width=\"24px\">\n",
              "    <path d=\"M0 0h24v24H0V0z\" fill=\"none\"/>\n",
              "    <path d=\"M18.56 5.44l.94 2.06.94-2.06 2.06-.94-2.06-.94-.94-2.06-.94 2.06-2.06.94zm-11 1L8.5 8.5l.94-2.06 2.06-.94-2.06-.94L8.5 2.5l-.94 2.06-2.06.94zm10 10l.94 2.06.94-2.06 2.06-.94-2.06-.94-.94-2.06-.94 2.06-2.06.94z\"/><path d=\"M17.41 7.96l-1.37-1.37c-.4-.4-.92-.59-1.43-.59-.52 0-1.04.2-1.43.59L10.3 9.45l-7.72 7.72c-.78.78-.78 2.05 0 2.83L4 21.41c.39.39.9.59 1.41.59.51 0 1.02-.2 1.41-.59l7.78-7.78 2.81-2.81c.8-.78.8-2.07 0-2.86zM5.41 20L4 18.59l7.72-7.72 1.47 1.35L5.41 20z\"/>\n",
              "  </svg>\n",
              "      </button>\n",
              "      \n",
              "  <style>\n",
              "    .colab-df-container {\n",
              "      display:flex;\n",
              "      flex-wrap:wrap;\n",
              "      gap: 12px;\n",
              "    }\n",
              "\n",
              "    .colab-df-convert {\n",
              "      background-color: #E8F0FE;\n",
              "      border: none;\n",
              "      border-radius: 50%;\n",
              "      cursor: pointer;\n",
              "      display: none;\n",
              "      fill: #1967D2;\n",
              "      height: 32px;\n",
              "      padding: 0 0 0 0;\n",
              "      width: 32px;\n",
              "    }\n",
              "\n",
              "    .colab-df-convert:hover {\n",
              "      background-color: #E2EBFA;\n",
              "      box-shadow: 0px 1px 2px rgba(60, 64, 67, 0.3), 0px 1px 3px 1px rgba(60, 64, 67, 0.15);\n",
              "      fill: #174EA6;\n",
              "    }\n",
              "\n",
              "    [theme=dark] .colab-df-convert {\n",
              "      background-color: #3B4455;\n",
              "      fill: #D2E3FC;\n",
              "    }\n",
              "\n",
              "    [theme=dark] .colab-df-convert:hover {\n",
              "      background-color: #434B5C;\n",
              "      box-shadow: 0px 1px 3px 1px rgba(0, 0, 0, 0.15);\n",
              "      filter: drop-shadow(0px 1px 2px rgba(0, 0, 0, 0.3));\n",
              "      fill: #FFFFFF;\n",
              "    }\n",
              "  </style>\n",
              "\n",
              "      <script>\n",
              "        const buttonEl =\n",
              "          document.querySelector('#df-4281ec9c-e473-4c9b-b286-4044f2461003 button.colab-df-convert');\n",
              "        buttonEl.style.display =\n",
              "          google.colab.kernel.accessAllowed ? 'block' : 'none';\n",
              "\n",
              "        async function convertToInteractive(key) {\n",
              "          const element = document.querySelector('#df-4281ec9c-e473-4c9b-b286-4044f2461003');\n",
              "          const dataTable =\n",
              "            await google.colab.kernel.invokeFunction('convertToInteractive',\n",
              "                                                     [key], {});\n",
              "          if (!dataTable) return;\n",
              "\n",
              "          const docLinkHtml = 'Like what you see? Visit the ' +\n",
              "            '<a target=\"_blank\" href=https://colab.research.google.com/notebooks/data_table.ipynb>data table notebook</a>'\n",
              "            + ' to learn more about interactive tables.';\n",
              "          element.innerHTML = '';\n",
              "          dataTable['output_type'] = 'display_data';\n",
              "          await google.colab.output.renderOutput(dataTable, element);\n",
              "          const docLink = document.createElement('div');\n",
              "          docLink.innerHTML = docLinkHtml;\n",
              "          element.appendChild(docLink);\n",
              "        }\n",
              "      </script>\n",
              "    </div>\n",
              "  </div>\n",
              "  "
            ]
          },
          "metadata": {},
          "execution_count": 60
        }
      ]
    },
    {
      "cell_type": "code",
      "source": [
        "# df_sintomas_semana.to_csv('/content/PJI410_sintomas_semana.csv', index=False)"
      ],
      "metadata": {
        "id": "PGLFVidAzrY_"
      },
      "execution_count": null,
      "outputs": []
    },
    {
      "cell_type": "markdown",
      "source": [
        "## Anotações"
      ],
      "metadata": {
        "id": "N6ja7DZGgTv_"
      }
    },
    {
      "cell_type": "code",
      "source": [
        "# Campos relativos à vacina contra COVID-19.\n",
        "\n",
        "campos = ['VACINA_COV', 'FNT_IN_COV',\n",
        "          'DOSE_1_COV', 'FAB_COV_1', 'LOTE_1_COV',\n",
        "          'DOSE_2_COV', 'FAB_COV_2', 'LOTE_2_COV',\n",
        "          'DOSE_REF', 'FAB_COVREF', 'LOTE_REF',\n",
        "          'DOSE_2REF', 'FAB_COVRF2', 'LOTE_REF2']\n",
        "\n",
        "df[campos].info(show_counts=True)"
      ],
      "metadata": {
        "id": "wYl2QuyOJ_V9"
      },
      "execution_count": null,
      "outputs": []
    },
    {
      "cell_type": "code",
      "source": [
        "# PCR_RESUL - Resultado do teste de RT-PCR / outro método por Biologia Molecular.\n",
        "# 1 - Detectável\n",
        "# 2 - Não detectável\n",
        "# 3 - Inconclusivo\n",
        "# 4 - Não realizado\n",
        "# 5 - Aguardando resultado\n",
        "# 9 - Ignorado\n",
        "\n",
        "df['PCR_RESUL'].value_counts(dropna=False).sort_index()"
      ],
      "metadata": {
        "colab": {
          "base_uri": "https://localhost:8080/"
        },
        "id": "I7xMxQzXRSBy",
        "outputId": "8900ff22-6d2c-47c7-a511-e6131ea55e8d"
      },
      "execution_count": null,
      "outputs": [
        {
          "output_type": "execute_result",
          "data": {
            "text/plain": [
              "1      932142\n",
              "2      523253\n",
              "3        4037\n",
              "4      221199\n",
              "5      337159\n",
              "9      260050\n",
              "NaN         0\n",
              "Name: PCR_RESUL, dtype: Int64"
            ]
          },
          "metadata": {},
          "execution_count": 80
        }
      ]
    },
    {
      "cell_type": "code",
      "source": [
        "# RES_AN - Resultado do Teste Antigênico\n",
        "\n",
        "# 1 - Positivo\n",
        "# 2 - Negativo\n",
        "# 3 - Inconclusivo\n",
        "# 4 - Não realizado\n",
        "# 5 - Aguardando resultado\n",
        "# 9 - Ignorado\n",
        "\n",
        "df['RES_AN'].value_counts(dropna=False).sort_index()"
      ],
      "metadata": {
        "colab": {
          "base_uri": "https://localhost:8080/"
        },
        "id": "j_W5uY0dRR05",
        "outputId": "6e9505e6-c54d-4ea0-9dae-1c0be60f4aea"
      },
      "execution_count": null,
      "outputs": [
        {
          "output_type": "execute_result",
          "data": {
            "text/plain": [
              "1      414000\n",
              "2      190225\n",
              "3         307\n",
              "4      418919\n",
              "5      925238\n",
              "9      329151\n",
              "NaN         0\n",
              "Name: RES_AN, dtype: Int64"
            ]
          },
          "metadata": {},
          "execution_count": 81
        }
      ]
    },
    {
      "cell_type": "code",
      "source": [
        "with pd.option_context('display.max_seq_items', None):\n",
        "    display(df.columns)"
      ],
      "metadata": {
        "colab": {
          "base_uri": "https://localhost:8080/",
          "height": 451
        },
        "id": "re1plZNlTzVI",
        "outputId": "2162aec6-10e5-4afd-8303-c5a026d27815"
      },
      "execution_count": 44,
      "outputs": [
        {
          "output_type": "display_data",
          "data": {
            "text/plain": [
              "Index(['DT_NOTIFIC', 'SEM_NOT', 'DT_SIN_PRI', 'SEM_PRI', 'SG_UF_NOT',\n",
              "       'CO_REGIONA', 'CO_MUN_NOT', 'CO_UNI_NOT', 'CS_SEXO', 'DT_NASC',\n",
              "       'CS_GESTANT', 'CS_RACA', 'CS_ESCOL_N', 'SG_UF', 'CO_RG_RESI',\n",
              "       'CO_MUN_RES', 'CS_ZONA', 'FEBRE', 'TOSSE', 'GARGANTA', 'DISPNEIA',\n",
              "       'DESC_RESP', 'SATURACAO', 'DIARREIA', 'VOMITO', 'OUTRO_SIN', 'PUERPERA',\n",
              "       'FATOR_RISC', 'CARDIOPATI', 'HEMATOLOGI', 'SIND_DOWN', 'HEPATICA',\n",
              "       'ASMA', 'DIABETES', 'NEUROLOGIC', 'PNEUMOPATI', 'IMUNODEPRE', 'RENAL',\n",
              "       'OBESIDADE', 'OBES_IMC', 'OUT_MORBI', 'VACINA', 'DT_UT_DOSE', 'MAE_VAC',\n",
              "       'DT_VAC_MAE', 'M_AMAMENTA', 'DT_DOSEUNI', 'DT_1_DOSE', 'DT_2_DOSE',\n",
              "       'HOSPITAL', 'DT_INTERNA', 'SG_UF_INTE', 'CO_RG_INTE', 'CO_MU_INTE',\n",
              "       'UTI', 'DT_ENTUTI', 'DT_SAIDUTI', 'SUPORT_VEN', 'RAIOX_RES', 'DT_RAIOX',\n",
              "       'AMOSTRA', 'DT_COLETA', 'TP_AMOSTRA', 'PCR_RESUL', 'DT_PCR',\n",
              "       'POS_PCRFLU', 'TP_FLU_PCR', 'PCR_FLUASU', 'PCR_FLUBLI', 'POS_PCROUT',\n",
              "       'PCR_VSR', 'PCR_PARA1', 'PCR_PARA2', 'PCR_PARA3', 'PCR_PARA4',\n",
              "       'PCR_ADENO', 'PCR_METAP', 'PCR_BOCA', 'PCR_RINO', 'PCR_OUTRO',\n",
              "       'CLASSI_FIN', 'CRITERIO', 'EVOLUCAO', 'DT_EVOLUCA', 'DT_ENCERRA',\n",
              "       'DT_DIGITA', 'PCR_SARS2', 'PAC_COCBO', 'DOR_ABD', 'FADIGA', 'PERD_OLFT',\n",
              "       'PERD_PALA', 'TOMO_RES', 'DT_TOMO', 'TP_TES_AN', 'DT_RES_AN', 'RES_AN',\n",
              "       'POS_AN_FLU', 'TP_FLU_AN', 'POS_AN_OUT', 'AN_SARS2', 'AN_VSR',\n",
              "       'AN_PARA1', 'AN_PARA2', 'AN_PARA3', 'AN_ADENO', 'AN_OUTRO', 'TP_AM_SOR',\n",
              "       'DT_CO_SOR', 'TP_SOR', 'DT_RES', 'VACINA_COV', 'DOSE_1_COV',\n",
              "       'DOSE_2_COV', 'DOSE_REF', 'FAB_COV_1', 'FAB_COV_2', 'FAB_COVREF',\n",
              "       'LOTE_REF', 'LOTE_1_COV', 'LOTE_2_COV', 'FNT_IN_COV', 'DOSE_2REF',\n",
              "       'FAB_COVRF2', 'LOTE_REF2'],\n",
              "      dtype='object')"
            ]
          },
          "metadata": {}
        }
      ]
    },
    {
      "cell_type": "code",
      "source": [],
      "metadata": {
        "id": "G4PxTXNWjF6z"
      },
      "execution_count": null,
      "outputs": []
    }
  ]
}