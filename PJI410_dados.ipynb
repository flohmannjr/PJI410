{
  "nbformat": 4,
  "nbformat_minor": 0,
  "metadata": {
    "colab": {
      "provenance": [],
      "toc_visible": true,
      "authorship_tag": "ABX9TyOpcHnwIK68TDWWL0R8rrX0",
      "include_colab_link": true
    },
    "kernelspec": {
      "name": "python3",
      "display_name": "Python 3"
    },
    "language_info": {
      "name": "python"
    }
  },
  "cells": [
    {
      "cell_type": "markdown",
      "metadata": {
        "id": "view-in-github",
        "colab_type": "text"
      },
      "source": [
        "<a href=\"https://colab.research.google.com/github/flohmannjr/PJI410/blob/main/PJI410_dados.ipynb\" target=\"_parent\"><img src=\"https://colab.research.google.com/assets/colab-badge.svg\" alt=\"Open In Colab\"/></a>"
      ]
    },
    {
      "cell_type": "markdown",
      "source": [
        "# PJI410 - Dados"
      ],
      "metadata": {
        "id": "VUPtUvAWbxeu"
      }
    },
    {
      "cell_type": "markdown",
      "source": [
        "## SRAG 2021 a 2023 - Banco de Dados de Síndrome Respiratória Aguda Grave\n",
        "\n",
        "Dados atualizados até 3 de Maio de 2023\n",
        "\n",
        "https://opendatasus.saude.gov.br/dataset/srag-2021-a-2023"
      ],
      "metadata": {
        "id": "x7bokBNab7im"
      }
    },
    {
      "cell_type": "markdown",
      "source": [
        "# Importações"
      ],
      "metadata": {
        "id": "DgRQ-_fzmM9O"
      }
    },
    {
      "cell_type": "code",
      "source": [
        "import numpy as np\n",
        "import pandas as pd"
      ],
      "metadata": {
        "id": "BqxVW09d-Dx6"
      },
      "execution_count": 1,
      "outputs": []
    },
    {
      "cell_type": "markdown",
      "source": [
        "# Configurações"
      ],
      "metadata": {
        "id": "AYZyXKAo-GcL"
      }
    },
    {
      "cell_type": "code",
      "source": [
        "DIAGNOSTICOS = {1: 'SRAG por Influenza',\n",
        "                2: 'SRAG por outro vírus respiratório',\n",
        "                3: 'SRAG por outro agente etiológico',\n",
        "                4: 'SRAG não especificado',\n",
        "                5: 'SRAG por COVID-19'}\n",
        "\n",
        "ESCOLARIDADES = {0: 'Sem escolaridade / Analfabeto',\n",
        "                 1: 'Fundamental 1º ciclo (1ª a 5ª série)',\n",
        "                 2: 'Fundamental 2º ciclo (6ª a 9ª série)',\n",
        "                 3: 'Médio (1º ao 3º ano)',\n",
        "                 4: 'Superior'}\n",
        "\n",
        "EVOLUCOES = {1: 'Cura',\n",
        "             2: 'Óbito',\n",
        "             3: 'Óbito por outras causas'}\n",
        "\n",
        "RACAS = {1: 'Branca',\n",
        "         2: 'Preta',\n",
        "         3: 'Amarela',\n",
        "         4: 'Parda',\n",
        "         5: 'Indígena'}\n",
        "\n",
        "SEXOS = {1: 'Masculino',\n",
        "         2: 'Feminino'}\n",
        "\n",
        "ZONAS = {1: 'Urbana',\n",
        "         2: 'Rural',\n",
        "         3: 'Periurbana'}"
      ],
      "metadata": {
        "id": "S9v6zYN--JGK"
      },
      "execution_count": 2,
      "outputs": []
    },
    {
      "cell_type": "markdown",
      "source": [
        "# Dados"
      ],
      "metadata": {
        "id": "zQgNUcYQdK23"
      }
    },
    {
      "cell_type": "code",
      "source": [
        "!wget https://raw.githubusercontent.com/flohmannjr/PJI410/main/dados/openDataSUS.7z.001\n",
        "!wget https://raw.githubusercontent.com/flohmannjr/PJI410/main/dados/openDataSUS.7z.002\n",
        "!wget https://raw.githubusercontent.com/flohmannjr/PJI410/main/dados/openDataSUS.7z.003\n",
        "!wget https://raw.githubusercontent.com/flohmannjr/PJI410/main/dados/openDataSUS.7z.004\n",
        "\n",
        "!7z e /content/openDataSUS.7z.001"
      ],
      "metadata": {
        "id": "ObOYja4G-5sa",
        "colab": {
          "base_uri": "https://localhost:8080/"
        },
        "outputId": "c6e4f6ac-1e82-422a-dd91-79e279d2d292"
      },
      "execution_count": 3,
      "outputs": [
        {
          "output_type": "stream",
          "name": "stdout",
          "text": [
            "--2023-05-18 17:53:25--  https://raw.githubusercontent.com/flohmannjr/PJI410/main/dados/openDataSUS.7z.001\n",
            "Resolving raw.githubusercontent.com (raw.githubusercontent.com)... 185.199.108.133, 185.199.109.133, 185.199.110.133, ...\n",
            "Connecting to raw.githubusercontent.com (raw.githubusercontent.com)|185.199.108.133|:443... connected.\n",
            "HTTP request sent, awaiting response... 200 OK\n",
            "Length: 25165824 (24M) [application/octet-stream]\n",
            "Saving to: ‘openDataSUS.7z.001’\n",
            "\n",
            "openDataSUS.7z.001  100%[===================>]  24.00M  74.2MB/s    in 0.3s    \n",
            "\n",
            "2023-05-18 17:53:26 (74.2 MB/s) - ‘openDataSUS.7z.001’ saved [25165824/25165824]\n",
            "\n",
            "--2023-05-18 17:53:27--  https://raw.githubusercontent.com/flohmannjr/PJI410/main/dados/openDataSUS.7z.002\n",
            "Resolving raw.githubusercontent.com (raw.githubusercontent.com)... 185.199.108.133, 185.199.109.133, 185.199.110.133, ...\n",
            "Connecting to raw.githubusercontent.com (raw.githubusercontent.com)|185.199.108.133|:443... connected.\n",
            "HTTP request sent, awaiting response... 200 OK\n",
            "Length: 25165824 (24M) [application/octet-stream]\n",
            "Saving to: ‘openDataSUS.7z.002’\n",
            "\n",
            "openDataSUS.7z.002  100%[===================>]  24.00M  70.1MB/s    in 0.3s    \n",
            "\n",
            "2023-05-18 17:53:28 (70.1 MB/s) - ‘openDataSUS.7z.002’ saved [25165824/25165824]\n",
            "\n",
            "--2023-05-18 17:53:28--  https://raw.githubusercontent.com/flohmannjr/PJI410/main/dados/openDataSUS.7z.003\n",
            "Resolving raw.githubusercontent.com (raw.githubusercontent.com)... 185.199.111.133, 185.199.110.133, 185.199.109.133, ...\n",
            "Connecting to raw.githubusercontent.com (raw.githubusercontent.com)|185.199.111.133|:443... connected.\n",
            "HTTP request sent, awaiting response... 200 OK\n",
            "Length: 25165824 (24M) [application/octet-stream]\n",
            "Saving to: ‘openDataSUS.7z.003’\n",
            "\n",
            "openDataSUS.7z.003  100%[===================>]  24.00M   127MB/s    in 0.2s    \n",
            "\n",
            "2023-05-18 17:53:29 (127 MB/s) - ‘openDataSUS.7z.003’ saved [25165824/25165824]\n",
            "\n",
            "--2023-05-18 17:53:30--  https://raw.githubusercontent.com/flohmannjr/PJI410/main/dados/openDataSUS.7z.004\n",
            "Resolving raw.githubusercontent.com (raw.githubusercontent.com)... 185.199.108.133, 185.199.109.133, 185.199.110.133, ...\n",
            "Connecting to raw.githubusercontent.com (raw.githubusercontent.com)|185.199.108.133|:443... connected.\n",
            "HTTP request sent, awaiting response... 200 OK\n",
            "Length: 14559054 (14M) [application/octet-stream]\n",
            "Saving to: ‘openDataSUS.7z.004’\n",
            "\n",
            "openDataSUS.7z.004  100%[===================>]  13.88M  68.3MB/s    in 0.2s    \n",
            "\n",
            "2023-05-18 17:53:30 (68.3 MB/s) - ‘openDataSUS.7z.004’ saved [14559054/14559054]\n",
            "\n",
            "\n",
            "7-Zip [64] 16.02 : Copyright (c) 1999-2016 Igor Pavlov : 2016-05-21\n",
            "p7zip Version 16.02 (locale=en_US.UTF-8,Utf16=on,HugeFiles=on,64 bits,2 CPUs Intel(R) Xeon(R) CPU @ 2.20GHz (406F0),ASM,AES-NI)\n",
            "\n",
            "Scanning the drive for archives:\n",
            "  0M Scan /content/\b\b\b\b\b\b\b\b\b\b\b\b\b\b\b\b\b\b\b                   \b\b\b\b\b\b\b\b\b\b\b\b\b\b\b\b\b\b\b1 file, 25165824 bytes (24 MiB)\n",
            "\n",
            "Extracting archive: /content/openDataSUS.7z.001\n",
            "  0% 1 Open\b\b\b\b\b\b\b\b\b\b\b           \b\b\b\b\b\b\b\b\b\b\b--\n",
            "Path = /content/openDataSUS.7z.001\n",
            "Type = Split\n",
            "Physical Size = 25165824\n",
            "Volumes = 4\n",
            "Total Physical Size = 90056526\n",
            "----\n",
            "Path = openDataSUS.7z\n",
            "Size = 90056526\n",
            "--\n",
            "Path = openDataSUS.7z\n",
            "Type = 7z\n",
            "Physical Size = 90056526\n",
            "Headers Size = 220\n",
            "Method = LZMA:27\n",
            "Solid = +\n",
            "Blocks = 1\n",
            "\n",
            "  0%\b\b\b\b    \b\b\b\b  0% - INFLUD21-01-05-2023.csv\b\b\b\b\b\b\b\b\b\b\b\b\b\b\b\b\b\b\b\b\b\b\b\b\b\b\b\b\b\b                              \b\b\b\b\b\b\b\b\b\b\b\b\b\b\b\b\b\b\b\b\b\b\b\b\b\b\b\b\b\b  1% - INFLUD21-01-05-2023.csv\b\b\b\b\b\b\b\b\b\b\b\b\b\b\b\b\b\b\b\b\b\b\b\b\b\b\b\b\b\b                              \b\b\b\b\b\b\b\b\b\b\b\b\b\b\b\b\b\b\b\b\b\b\b\b\b\b\b\b\b\b  2% - INFLUD21-01-05-2023.csv\b\b\b\b\b\b\b\b\b\b\b\b\b\b\b\b\b\b\b\b\b\b\b\b\b\b\b\b\b\b                              \b\b\b\b\b\b\b\b\b\b\b\b\b\b\b\b\b\b\b\b\b\b\b\b\b\b\b\b\b\b  3% - INFLUD21-01-05-2023.csv\b\b\b\b\b\b\b\b\b\b\b\b\b\b\b\b\b\b\b\b\b\b\b\b\b\b\b\b\b\b                              \b\b\b\b\b\b\b\b\b\b\b\b\b\b\b\b\b\b\b\b\b\b\b\b\b\b\b\b\b\b  4% - INFLUD21-01-05-2023.csv\b\b\b\b\b\b\b\b\b\b\b\b\b\b\b\b\b\b\b\b\b\b\b\b\b\b\b\b\b\b                              \b\b\b\b\b\b\b\b\b\b\b\b\b\b\b\b\b\b\b\b\b\b\b\b\b\b\b\b\b\b  5% - INFLUD21-01-05-2023.csv\b\b\b\b\b\b\b\b\b\b\b\b\b\b\b\b\b\b\b\b\b\b\b\b\b\b\b\b\b\b                              \b\b\b\b\b\b\b\b\b\b\b\b\b\b\b\b\b\b\b\b\b\b\b\b\b\b\b\b\b\b  6% - INFLUD21-01-05-2023.csv\b\b\b\b\b\b\b\b\b\b\b\b\b\b\b\b\b\b\b\b\b\b\b\b\b\b\b\b\b\b                              \b\b\b\b\b\b\b\b\b\b\b\b\b\b\b\b\b\b\b\b\b\b\b\b\b\b\b\b\b\b  7% - INFLUD21-01-05-2023.csv\b\b\b\b\b\b\b\b\b\b\b\b\b\b\b\b\b\b\b\b\b\b\b\b\b\b\b\b\b\b                              \b\b\b\b\b\b\b\b\b\b\b\b\b\b\b\b\b\b\b\b\b\b\b\b\b\b\b\b\b\b  8% - INFLUD21-01-05-2023.csv\b\b\b\b\b\b\b\b\b\b\b\b\b\b\b\b\b\b\b\b\b\b\b\b\b\b\b\b\b\b                              \b\b\b\b\b\b\b\b\b\b\b\b\b\b\b\b\b\b\b\b\b\b\b\b\b\b\b\b\b\b  9% - INFLUD21-01-05-2023.csv\b\b\b\b\b\b\b\b\b\b\b\b\b\b\b\b\b\b\b\b\b\b\b\b\b\b\b\b\b\b                              \b\b\b\b\b\b\b\b\b\b\b\b\b\b\b\b\b\b\b\b\b\b\b\b\b\b\b\b\b\b 10% - INFLUD21-01-05-2023.csv\b\b\b\b\b\b\b\b\b\b\b\b\b\b\b\b\b\b\b\b\b\b\b\b\b\b\b\b\b\b                              \b\b\b\b\b\b\b\b\b\b\b\b\b\b\b\b\b\b\b\b\b\b\b\b\b\b\b\b\b\b 11% - INFLUD21-01-05-2023.csv\b\b\b\b\b\b\b\b\b\b\b\b\b\b\b\b\b\b\b\b\b\b\b\b\b\b\b\b\b\b                              \b\b\b\b\b\b\b\b\b\b\b\b\b\b\b\b\b\b\b\b\b\b\b\b\b\b\b\b\b\b 12% - INFLUD21-01-05-2023.csv\b\b\b\b\b\b\b\b\b\b\b\b\b\b\b\b\b\b\b\b\b\b\b\b\b\b\b\b\b\b                              \b\b\b\b\b\b\b\b\b\b\b\b\b\b\b\b\b\b\b\b\b\b\b\b\b\b\b\b\b\b 13% - INFLUD21-01-05-2023.csv\b\b\b\b\b\b\b\b\b\b\b\b\b\b\b\b\b\b\b\b\b\b\b\b\b\b\b\b\b\b                              \b\b\b\b\b\b\b\b\b\b\b\b\b\b\b\b\b\b\b\b\b\b\b\b\b\b\b\b\b\b 14% - INFLUD21-01-05-2023.csv\b\b\b\b\b\b\b\b\b\b\b\b\b\b\b\b\b\b\b\b\b\b\b\b\b\b\b\b\b\b                              \b\b\b\b\b\b\b\b\b\b\b\b\b\b\b\b\b\b\b\b\b\b\b\b\b\b\b\b\b\b 15% - INFLUD21-01-05-2023.csv\b\b\b\b\b\b\b\b\b\b\b\b\b\b\b\b\b\b\b\b\b\b\b\b\b\b\b\b\b\b                              \b\b\b\b\b\b\b\b\b\b\b\b\b\b\b\b\b\b\b\b\b\b\b\b\b\b\b\b\b\b 16% - INFLUD21-01-05-2023.csv\b\b\b\b\b\b\b\b\b\b\b\b\b\b\b\b\b\b\b\b\b\b\b\b\b\b\b\b\b\b                              \b\b\b\b\b\b\b\b\b\b\b\b\b\b\b\b\b\b\b\b\b\b\b\b\b\b\b\b\b\b 17% - INFLUD21-01-05-2023.csv\b\b\b\b\b\b\b\b\b\b\b\b\b\b\b\b\b\b\b\b\b\b\b\b\b\b\b\b\b\b                              \b\b\b\b\b\b\b\b\b\b\b\b\b\b\b\b\b\b\b\b\b\b\b\b\b\b\b\b\b\b 18% - INFLUD21-01-05-2023.csv\b\b\b\b\b\b\b\b\b\b\b\b\b\b\b\b\b\b\b\b\b\b\b\b\b\b\b\b\b\b                              \b\b\b\b\b\b\b\b\b\b\b\b\b\b\b\b\b\b\b\b\b\b\b\b\b\b\b\b\b\b 19% - INFLUD21-01-05-2023.csv\b\b\b\b\b\b\b\b\b\b\b\b\b\b\b\b\b\b\b\b\b\b\b\b\b\b\b\b\b\b                              \b\b\b\b\b\b\b\b\b\b\b\b\b\b\b\b\b\b\b\b\b\b\b\b\b\b\b\b\b\b 21% - INFLUD21-01-05-2023.csv\b\b\b\b\b\b\b\b\b\b\b\b\b\b\b\b\b\b\b\b\b\b\b\b\b\b\b\b\b\b                              \b\b\b\b\b\b\b\b\b\b\b\b\b\b\b\b\b\b\b\b\b\b\b\b\b\b\b\b\b\b 23% - INFLUD21-01-05-2023.csv\b\b\b\b\b\b\b\b\b\b\b\b\b\b\b\b\b\b\b\b\b\b\b\b\b\b\b\b\b\b                              \b\b\b\b\b\b\b\b\b\b\b\b\b\b\b\b\b\b\b\b\b\b\b\b\b\b\b\b\b\b 25% - INFLUD21-01-05-2023.csv\b\b\b\b\b\b\b\b\b\b\b\b\b\b\b\b\b\b\b\b\b\b\b\b\b\b\b\b\b\b                              \b\b\b\b\b\b\b\b\b\b\b\b\b\b\b\b\b\b\b\b\b\b\b\b\b\b\b\b\b\b 26% - INFLUD21-01-05-2023.csv\b\b\b\b\b\b\b\b\b\b\b\b\b\b\b\b\b\b\b\b\b\b\b\b\b\b\b\b\b\b                              \b\b\b\b\b\b\b\b\b\b\b\b\b\b\b\b\b\b\b\b\b\b\b\b\b\b\b\b\b\b 28% - INFLUD21-01-05-2023.csv\b\b\b\b\b\b\b\b\b\b\b\b\b\b\b\b\b\b\b\b\b\b\b\b\b\b\b\b\b\b                              \b\b\b\b\b\b\b\b\b\b\b\b\b\b\b\b\b\b\b\b\b\b\b\b\b\b\b\b\b\b 30% - INFLUD21-01-05-2023.csv\b\b\b\b\b\b\b\b\b\b\b\b\b\b\b\b\b\b\b\b\b\b\b\b\b\b\b\b\b\b                              \b\b\b\b\b\b\b\b\b\b\b\b\b\b\b\b\b\b\b\b\b\b\b\b\b\b\b\b\b\b 32% - INFLUD21-01-05-2023.csv\b\b\b\b\b\b\b\b\b\b\b\b\b\b\b\b\b\b\b\b\b\b\b\b\b\b\b\b\b\b                              \b\b\b\b\b\b\b\b\b\b\b\b\b\b\b\b\b\b\b\b\b\b\b\b\b\b\b\b\b\b 34% - INFLUD21-01-05-2023.csv\b\b\b\b\b\b\b\b\b\b\b\b\b\b\b\b\b\b\b\b\b\b\b\b\b\b\b\b\b\b                              \b\b\b\b\b\b\b\b\b\b\b\b\b\b\b\b\b\b\b\b\b\b\b\b\b\b\b\b\b\b 36% - INFLUD21-01-05-2023.csv\b\b\b\b\b\b\b\b\b\b\b\b\b\b\b\b\b\b\b\b\b\b\b\b\b\b\b\b\b\b                              \b\b\b\b\b\b\b\b\b\b\b\b\b\b\b\b\b\b\b\b\b\b\b\b\b\b\b\b\b\b 38% - INFLUD21-01-05-2023.csv\b\b\b\b\b\b\b\b\b\b\b\b\b\b\b\b\b\b\b\b\b\b\b\b\b\b\b\b\b\b                              \b\b\b\b\b\b\b\b\b\b\b\b\b\b\b\b\b\b\b\b\b\b\b\b\b\b\b\b\b\b 39% - INFLUD21-01-05-2023.csv\b\b\b\b\b\b\b\b\b\b\b\b\b\b\b\b\b\b\b\b\b\b\b\b\b\b\b\b\b\b                              \b\b\b\b\b\b\b\b\b\b\b\b\b\b\b\b\b\b\b\b\b\b\b\b\b\b\b\b\b\b 41% - INFLUD21-01-05-2023.csv\b\b\b\b\b\b\b\b\b\b\b\b\b\b\b\b\b\b\b\b\b\b\b\b\b\b\b\b\b\b                              \b\b\b\b\b\b\b\b\b\b\b\b\b\b\b\b\b\b\b\b\b\b\b\b\b\b\b\b\b\b 42% - INFLUD21-01-05-2023.csv\b\b\b\b\b\b\b\b\b\b\b\b\b\b\b\b\b\b\b\b\b\b\b\b\b\b\b\b\b\b                              \b\b\b\b\b\b\b\b\b\b\b\b\b\b\b\b\b\b\b\b\b\b\b\b\b\b\b\b\b\b 44% - INFLUD21-01-05-2023.csv\b\b\b\b\b\b\b\b\b\b\b\b\b\b\b\b\b\b\b\b\b\b\b\b\b\b\b\b\b\b                              \b\b\b\b\b\b\b\b\b\b\b\b\b\b\b\b\b\b\b\b\b\b\b\b\b\b\b\b\b\b 45% - INFLUD21-01-05-2023.csv\b\b\b\b\b\b\b\b\b\b\b\b\b\b\b\b\b\b\b\b\b\b\b\b\b\b\b\b\b\b                              \b\b\b\b\b\b\b\b\b\b\b\b\b\b\b\b\b\b\b\b\b\b\b\b\b\b\b\b\b\b 47% - INFLUD21-01-05-2023.csv\b\b\b\b\b\b\b\b\b\b\b\b\b\b\b\b\b\b\b\b\b\b\b\b\b\b\b\b\b\b                              \b\b\b\b\b\b\b\b\b\b\b\b\b\b\b\b\b\b\b\b\b\b\b\b\b\b\b\b\b\b 49% - INFLUD21-01-05-2023.csv\b\b\b\b\b\b\b\b\b\b\b\b\b\b\b\b\b\b\b\b\b\b\b\b\b\b\b\b\b\b                              \b\b\b\b\b\b\b\b\b\b\b\b\b\b\b\b\b\b\b\b\b\b\b\b\b\b\b\b\b\b 51% - INFLUD21-01-05-2023.csv\b\b\b\b\b\b\b\b\b\b\b\b\b\b\b\b\b\b\b\b\b\b\b\b\b\b\b\b\b\b                              \b\b\b\b\b\b\b\b\b\b\b\b\b\b\b\b\b\b\b\b\b\b\b\b\b\b\b\b\b\b 53% - INFLUD21-01-05-2023.csv\b\b\b\b\b\b\b\b\b\b\b\b\b\b\b\b\b\b\b\b\b\b\b\b\b\b\b\b\b\b                              \b\b\b\b\b\b\b\b\b\b\b\b\b\b\b\b\b\b\b\b\b\b\b\b\b\b\b\b\b\b 54% - INFLUD21-01-05-2023.csv\b\b\b\b\b\b\b\b\b\b\b\b\b\b\b\b\b\b\b\b\b\b\b\b\b\b\b\b\b\b                              \b\b\b\b\b\b\b\b\b\b\b\b\b\b\b\b\b\b\b\b\b\b\b\b\b\b\b\b\b\b 56% - INFLUD21-01-05-2023.csv\b\b\b\b\b\b\b\b\b\b\b\b\b\b\b\b\b\b\b\b\b\b\b\b\b\b\b\b\b\b                              \b\b\b\b\b\b\b\b\b\b\b\b\b\b\b\b\b\b\b\b\b\b\b\b\b\b\b\b\b\b 58% - INFLUD21-01-05-2023.csv\b\b\b\b\b\b\b\b\b\b\b\b\b\b\b\b\b\b\b\b\b\b\b\b\b\b\b\b\b\b                              \b\b\b\b\b\b\b\b\b\b\b\b\b\b\b\b\b\b\b\b\b\b\b\b\b\b\b\b\b\b 60% - INFLUD21-01-05-2023.csv\b\b\b\b\b\b\b\b\b\b\b\b\b\b\b\b\b\b\b\b\b\b\b\b\b\b\b\b\b\b                              \b\b\b\b\b\b\b\b\b\b\b\b\b\b\b\b\b\b\b\b\b\b\b\b\b\b\b\b\b\b 62% - INFLUD21-01-05-2023.csv\b\b\b\b\b\b\b\b\b\b\b\b\b\b\b\b\b\b\b\b\b\b\b\b\b\b\b\b\b\b                              \b\b\b\b\b\b\b\b\b\b\b\b\b\b\b\b\b\b\b\b\b\b\b\b\b\b\b\b\b\b 64% - INFLUD21-01-05-2023.csv\b\b\b\b\b\b\b\b\b\b\b\b\b\b\b\b\b\b\b\b\b\b\b\b\b\b\b\b\b\b                              \b\b\b\b\b\b\b\b\b\b\b\b\b\b\b\b\b\b\b\b\b\b\b\b\b\b\b\b\b\b 65% - INFLUD21-01-05-2023.csv\b\b\b\b\b\b\b\b\b\b\b\b\b\b\b\b\b\b\b\b\b\b\b\b\b\b\b\b\b\b                              \b\b\b\b\b\b\b\b\b\b\b\b\b\b\b\b\b\b\b\b\b\b\b\b\b\b\b\b\b\b 67% - INFLUD21-01-05-2023.csv\b\b\b\b\b\b\b\b\b\b\b\b\b\b\b\b\b\b\b\b\b\b\b\b\b\b\b\b\b\b                              \b\b\b\b\b\b\b\b\b\b\b\b\b\b\b\b\b\b\b\b\b\b\b\b\b\b\b\b\b\b 68% - INFLUD21-01-05-2023.csv\b\b\b\b\b\b\b\b\b\b\b\b\b\b\b\b\b\b\b\b\b\b\b\b\b\b\b\b\b\b                              \b\b\b\b\b\b\b\b\b\b\b\b\b\b\b\b\b\b\b\b\b\b\b\b\b\b\b\b\b\b 70% - INFLUD21-01-05-2023.csv\b\b\b\b\b\b\b\b\b\b\b\b\b\b\b\b\b\b\b\b\b\b\b\b\b\b\b\b\b\b                              \b\b\b\b\b\b\b\b\b\b\b\b\b\b\b\b\b\b\b\b\b\b\b\b\b\b\b\b\b\b 71% 1 - INFLUD22-03-04-2023.csv\b\b\b\b\b\b\b\b\b\b\b\b\b\b\b\b\b\b\b\b\b\b\b\b\b\b\b\b\b\b\b\b                                \b\b\b\b\b\b\b\b\b\b\b\b\b\b\b\b\b\b\b\b\b\b\b\b\b\b\b\b\b\b\b\b 73% 1 - INFLUD22-03-04-2023.csv\b\b\b\b\b\b\b\b\b\b\b\b\b\b\b\b\b\b\b\b\b\b\b\b\b\b\b\b\b\b\b\b                                \b\b\b\b\b\b\b\b\b\b\b\b\b\b\b\b\b\b\b\b\b\b\b\b\b\b\b\b\b\b\b\b 74% 1 - INFLUD22-03-04-2023.csv\b\b\b\b\b\b\b\b\b\b\b\b\b\b\b\b\b\b\b\b\b\b\b\b\b\b\b\b\b\b\b\b                                \b\b\b\b\b\b\b\b\b\b\b\b\b\b\b\b\b\b\b\b\b\b\b\b\b\b\b\b\b\b\b\b 75% 1 - INFLUD22-03-04-2023.csv\b\b\b\b\b\b\b\b\b\b\b\b\b\b\b\b\b\b\b\b\b\b\b\b\b\b\b\b\b\b\b\b                                \b\b\b\b\b\b\b\b\b\b\b\b\b\b\b\b\b\b\b\b\b\b\b\b\b\b\b\b\b\b\b\b 77% 1 - INFLUD22-03-04-2023.csv\b\b\b\b\b\b\b\b\b\b\b\b\b\b\b\b\b\b\b\b\b\b\b\b\b\b\b\b\b\b\b\b                                \b\b\b\b\b\b\b\b\b\b\b\b\b\b\b\b\b\b\b\b\b\b\b\b\b\b\b\b\b\b\b\b 78% 1 - INFLUD22-03-04-2023.csv\b\b\b\b\b\b\b\b\b\b\b\b\b\b\b\b\b\b\b\b\b\b\b\b\b\b\b\b\b\b\b\b                                \b\b\b\b\b\b\b\b\b\b\b\b\b\b\b\b\b\b\b\b\b\b\b\b\b\b\b\b\b\b\b\b 80% 1 - INFLUD22-03-04-2023.csv\b\b\b\b\b\b\b\b\b\b\b\b\b\b\b\b\b\b\b\b\b\b\b\b\b\b\b\b\b\b\b\b                                \b\b\b\b\b\b\b\b\b\b\b\b\b\b\b\b\b\b\b\b\b\b\b\b\b\b\b\b\b\b\b\b 81% 1 - INFLUD22-03-04-2023.csv\b\b\b\b\b\b\b\b\b\b\b\b\b\b\b\b\b\b\b\b\b\b\b\b\b\b\b\b\b\b\b\b                                \b\b\b\b\b\b\b\b\b\b\b\b\b\b\b\b\b\b\b\b\b\b\b\b\b\b\b\b\b\b\b\b 82% 1 - INFLUD22-03-04-2023.csv\b\b\b\b\b\b\b\b\b\b\b\b\b\b\b\b\b\b\b\b\b\b\b\b\b\b\b\b\b\b\b\b                                \b\b\b\b\b\b\b\b\b\b\b\b\b\b\b\b\b\b\b\b\b\b\b\b\b\b\b\b\b\b\b\b 83% 1 - INFLUD22-03-04-2023.csv\b\b\b\b\b\b\b\b\b\b\b\b\b\b\b\b\b\b\b\b\b\b\b\b\b\b\b\b\b\b\b\b                                \b\b\b\b\b\b\b\b\b\b\b\b\b\b\b\b\b\b\b\b\b\b\b\b\b\b\b\b\b\b\b\b 84% 1 - INFLUD22-03-04-2023.csv\b\b\b\b\b\b\b\b\b\b\b\b\b\b\b\b\b\b\b\b\b\b\b\b\b\b\b\b\b\b\b\b                                \b\b\b\b\b\b\b\b\b\b\b\b\b\b\b\b\b\b\b\b\b\b\b\b\b\b\b\b\b\b\b\b 86% 1 - INFLUD22-03-04-2023.csv\b\b\b\b\b\b\b\b\b\b\b\b\b\b\b\b\b\b\b\b\b\b\b\b\b\b\b\b\b\b\b\b                                \b\b\b\b\b\b\b\b\b\b\b\b\b\b\b\b\b\b\b\b\b\b\b\b\b\b\b\b\b\b\b\b 87% 1 - INFLUD22-03-04-2023.csv\b\b\b\b\b\b\b\b\b\b\b\b\b\b\b\b\b\b\b\b\b\b\b\b\b\b\b\b\b\b\b\b                                \b\b\b\b\b\b\b\b\b\b\b\b\b\b\b\b\b\b\b\b\b\b\b\b\b\b\b\b\b\b\b\b 89% 1 - INFLUD22-03-04-2023.csv\b\b\b\b\b\b\b\b\b\b\b\b\b\b\b\b\b\b\b\b\b\b\b\b\b\b\b\b\b\b\b\b                                \b\b\b\b\b\b\b\b\b\b\b\b\b\b\b\b\b\b\b\b\b\b\b\b\b\b\b\b\b\b\b\b 91% 1 - INFLUD22-03-04-2023.csv\b\b\b\b\b\b\b\b\b\b\b\b\b\b\b\b\b\b\b\b\b\b\b\b\b\b\b\b\b\b\b\b                                \b\b\b\b\b\b\b\b\b\b\b\b\b\b\b\b\b\b\b\b\b\b\b\b\b\b\b\b\b\b\b\b 93% 1 - INFLUD22-03-04-2023.csv\b\b\b\b\b\b\b\b\b\b\b\b\b\b\b\b\b\b\b\b\b\b\b\b\b\b\b\b\b\b\b\b                                \b\b\b\b\b\b\b\b\b\b\b\b\b\b\b\b\b\b\b\b\b\b\b\b\b\b\b\b\b\b\b\b 95% 1 - INFLUD22-03-04-2023.csv\b\b\b\b\b\b\b\b\b\b\b\b\b\b\b\b\b\b\b\b\b\b\b\b\b\b\b\b\b\b\b\b                                \b\b\b\b\b\b\b\b\b\b\b\b\b\b\b\b\b\b\b\b\b\b\b\b\b\b\b\b\b\b\b\b 96% 2 - INFLUD23-03-04-2023.csv\b\b\b\b\b\b\b\b\b\b\b\b\b\b\b\b\b\b\b\b\b\b\b\b\b\b\b\b\b\b\b\b                                \b\b\b\b\b\b\b\b\b\b\b\b\b\b\b\b\b\b\b\b\b\b\b\b\b\b\b\b\b\b\b\b 99% 2 - INFLUD23-03-04-2023.csv\b\b\b\b\b\b\b\b\b\b\b\b\b\b\b\b\b\b\b\b\b\b\b\b\b\b\b\b\b\b\b\b                                \b\b\b\b\b\b\b\b\b\b\b\b\b\b\b\b\b\b\b\b\b\b\b\b\b\b\b\b\b\b\b\bEverything is Ok\n",
            "\n",
            "Files: 3\n",
            "Size:       1446240542\n",
            "Compressed: 90056526\n"
          ]
        }
      ]
    },
    {
      "cell_type": "code",
      "source": [
        "dtypes = {'AMOSTRA': 'Int32', 'ANTIVIRAL': 'Int32', 'AN_ADENO': 'Int32', 'AN_OUTRO': 'Int32', 'AN_PARA1': 'Int32',\n",
        "          'AN_PARA2': 'Int32', 'AN_PARA3': 'Int32', 'AN_SARS2': 'Int32', 'AN_VSR': 'Int32', 'ASMA': 'Int32',\n",
        "          'AVE_SUINO': 'Int32', 'CARDIOPATI': 'Int32', 'CLASSI_FIN': 'Int32', 'CLASSI_OUT': 'string',\n",
        "          'COD_IDADE': 'string', 'CO_MUN_NOT': 'Int32', 'CO_MUN_RES': 'Int32', 'CO_MU_INTE': 'Int32',\n",
        "          'CO_PAIS': 'Int32', 'CO_PS_VGM': 'string', 'CO_REGIONA': 'Int32', 'CO_RG_INTE': 'Int32',\n",
        "          'CO_RG_RESI': 'Int32', 'CO_UNI_NOT': 'Int32', 'CRITERIO': 'Int32', 'CS_ESCOL_N': 'Int32',\n",
        "          'CS_GESTANT': 'Int32', 'CS_RACA': 'Int32', 'CS_SEXO': 'string', 'CS_ZONA': 'Int32',\n",
        "          'DESC_RESP': 'Int32', 'DIABETES': 'Int32', 'DIARREIA': 'Int32', 'DISPNEIA': 'Int32',\n",
        "          'DOR_ABD': 'Int32', 'DOSE_1_COV': 'string', 'DOSE_2_COV': 'string', 'DOSE_REF': 'string',\n",
        "          'DS_AN_OUT': 'string', 'DS_PCR_OUT': 'string', 'DT_1_DOSE': 'string', 'DT_2_DOSE': 'string',\n",
        "          'DT_ANTIVIR': 'string', 'DT_COLETA': 'string', 'DT_CO_SOR': 'string', 'DT_DIGITA': 'string',\n",
        "          'DT_DOSEUNI': 'string', 'DT_ENCERRA': 'string', 'DT_ENTUTI': 'string', 'DT_EVOLUCA': 'string',\n",
        "          'DT_INTERNA': 'string', 'DT_NASC': 'string', 'DT_NOTIFIC': 'string', 'DT_PCR': 'string',\n",
        "          'DT_RAIOX': 'string', 'DT_RES': 'string', 'DT_RES_AN': 'string', 'DT_RT_VGM': 'string',\n",
        "          'DT_SAIDUTI': 'string', 'DT_SIN_PRI': 'string', 'DT_TOMO': 'string', 'DT_UT_DOSE': 'string',\n",
        "          'DT_VAC_MAE': 'string', 'DT_VGM': 'string', 'ESTRANG': 'Int32', 'EVOLUCAO': 'Int32',\n",
        "          'FAB_COVREF': 'string', 'FAB_COV_1': 'string', 'FAB_COV_2': 'string', 'FADIGA': 'Int32',\n",
        "          'FATOR_RISC': 'Int32', 'FEBRE': 'Int32', 'FLUASU_OUT': 'string', 'FLUBLI_OUT': 'string',\n",
        "          'FNT_IN_COV': 'Int32', 'GARGANTA': 'Int32', 'HEMATOLOGI': 'Int32', 'HEPATICA': 'Int32',\n",
        "          'HISTO_VGM': 'string', 'HOSPITAL': 'Int32', 'ID_MN_INTE': 'string', 'ID_MN_RESI': 'string',\n",
        "          'ID_MUNICIP': 'string', 'ID_PAIS': 'string', 'ID_REGIONA': 'string', 'ID_RG_INTE': 'string',\n",
        "          'ID_RG_RESI': 'string', 'ID_UNIDADE': 'string', 'IMUNODEPRE': 'Int32', 'LAB_PR_COV': 'string',\n",
        "          'LOTE_1_COV': 'string', 'LOTE_2_COV': 'string', 'LOTE_REF': 'string', 'LO_PS_VGM': 'string',\n",
        "          'MAE_VAC': 'Int32', 'MORB_DESC': 'string', 'M_AMAMENTA': 'Int32', 'NEUROLOGIC': 'Int32',\n",
        "          'NOSOCOMIAL': 'Int32', 'NU_IDADE_N': 'Int32', 'OBESIDADE': 'Int32', 'OBES_IMC': 'string',\n",
        "          'OUTRO_DES': 'string', 'OUTRO_SIN': 'Int32', 'OUT_AMOST': 'string', 'OUT_ANIM': 'string',\n",
        "          'OUT_ANTIV': 'string', 'OUT_MORBI': 'Int32', 'OUT_SOR': 'string', 'PAC_COCBO': 'string',\n",
        "          'PAC_DSCBO': 'string', 'PAIS_VGM': 'string', 'PCR_ADENO': 'Int32', 'PCR_BOCA': 'Int32',\n",
        "          'PCR_FLUASU': 'Int32', 'PCR_FLUBLI': 'Int32', 'PCR_METAP': 'Int32', 'PCR_OUTRO': 'Int32',\n",
        "          'PCR_PARA1': 'Int32', 'PCR_PARA2': 'Int32', 'PCR_PARA3': 'Int32', 'PCR_PARA4': 'Int32',\n",
        "          'PCR_RESUL': 'Int32', 'PCR_RINO': 'Int32', 'PCR_SARS2': 'Int32', 'PCR_VSR': 'Int32',\n",
        "          'PERD_OLFT': 'Int32', 'PERD_PALA': 'Int32', 'PNEUMOPATI': 'Int32', 'POS_AN_FLU': 'Int32',\n",
        "          'POS_AN_OUT': 'Int32', 'POS_PCRFLU': 'Int32', 'POS_PCROUT': 'Int32', 'PUERPERA': 'Int32',\n",
        "          'RAIOX_OUT': 'string', 'RAIOX_RES': 'Int32', 'RENAL': 'Int32', 'RES_AN': 'Int32', 'RES_IGA': 'Int32',\n",
        "          'RES_IGG': 'Int32', 'RES_IGM': 'Int32', 'SATURACAO': 'Int32', 'SEM_NOT': 'Int32', 'SEM_PRI': 'Int32',\n",
        "          'SG_UF': 'string', 'SG_UF_INTE': 'string', 'SG_UF_NOT': 'string', 'SIND_DOWN': 'Int32',\n",
        "          'SOR_OUT': 'string', 'SUPORT_VEN': 'Int32', 'SURTO_SG': 'string', 'TOMO_OUT': 'string',\n",
        "          'TOMO_RES': 'Int32', 'TOSSE': 'Int32', 'TP_AMOSTRA': 'Int32', 'TP_AM_SOR': 'Int32',\n",
        "          'TP_ANTIVIR': 'Int32', 'TP_FLU_AN': 'Int32', 'TP_FLU_PCR': 'Int32', 'TP_IDADE': 'Int32',\n",
        "          'TP_SOR': 'Int32', 'TP_TES_AN': 'Int32', 'UTI': 'Int32', 'VACINA': 'Int32', 'VACINA_COV': 'Int32',\n",
        "          'VOMITO': 'Int32'}\n",
        "\n",
        "ausentes2021 = {'DOSE_2REF': 'string', 'FAB_COVRF2': 'string', 'LOTE_REF2': 'string',\n",
        "                'TRAT_COV': 'Int32', 'TIPO_TRAT': 'Int32', 'OUT_TRAT': 'string', 'DT_TRT_COV': 'string'}\n",
        "\n",
        "datas = ['DOSE_1_COV', 'DOSE_2REF', 'DOSE_2_COV', 'DOSE_REF', 'DT_1_DOSE', 'DT_2_DOSE', 'DT_ANTIVIR', 'DT_COLETA',\n",
        "         'DT_CO_SOR', 'DT_DIGITA', 'DT_DOSEUNI', 'DT_ENCERRA', 'DT_ENTUTI', 'DT_EVOLUCA', 'DT_INTERNA', 'DT_NASC',\n",
        "         'DT_NOTIFIC', 'DT_PCR', 'DT_RAIOX', 'DT_RES', 'DT_RES_AN', 'DT_RT_VGM', 'DT_SAIDUTI', 'DT_SIN_PRI',\n",
        "         'DT_TOMO', 'DT_TRT_COV', 'DT_UT_DOSE', 'DT_VAC_MAE', 'DT_VGM']"
      ],
      "metadata": {
        "id": "uPnSUswJawan"
      },
      "execution_count": 4,
      "outputs": []
    },
    {
      "cell_type": "code",
      "source": [
        "%%time\n",
        "\n",
        "df = pd.read_csv('/content/INFLUD21-01-05-2023.csv', sep=';', dtype=dtypes)"
      ],
      "metadata": {
        "id": "glhrVI-zTA6M",
        "colab": {
          "base_uri": "https://localhost:8080/"
        },
        "outputId": "f0d2a11b-a0fb-4afb-a6c8-38ba8b35d4c2"
      },
      "execution_count": 5,
      "outputs": [
        {
          "output_type": "stream",
          "name": "stdout",
          "text": [
            "CPU times: user 2min 5s, sys: 5.04 s, total: 2min 10s\n",
            "Wall time: 2min 12s\n"
          ]
        }
      ]
    },
    {
      "cell_type": "code",
      "source": [
        "df[list(ausentes2021.keys())] = [None] * len(ausentes2021)\n",
        "\n",
        "dtypes.update(ausentes2021)"
      ],
      "metadata": {
        "id": "c_ieQXXwxNpJ"
      },
      "execution_count": 6,
      "outputs": []
    },
    {
      "cell_type": "code",
      "source": [
        "%%time\n",
        "\n",
        "df = pd.concat([df, pd.read_csv('/content/INFLUD22-03-04-2023.csv', sep=';', dtype=dtypes)])\n",
        "df = pd.concat([df, pd.read_csv('/content/INFLUD23-03-04-2023.csv', sep=';', dtype=dtypes)])"
      ],
      "metadata": {
        "id": "lXFAZSK100rS",
        "colab": {
          "base_uri": "https://localhost:8080/"
        },
        "outputId": "796af961-5b43-411d-b264-933bdae95c8d"
      },
      "execution_count": 7,
      "outputs": [
        {
          "output_type": "stream",
          "name": "stdout",
          "text": [
            "CPU times: user 1min 29s, sys: 4.01 s, total: 1min 33s\n",
            "Wall time: 1min 34s\n"
          ]
        }
      ]
    },
    {
      "cell_type": "code",
      "source": [
        "%%time\n",
        "\n",
        "for campo in datas:\n",
        "    df[campo] = pd.to_datetime(df[campo], format='%d/%m/%Y', errors='coerce')"
      ],
      "metadata": {
        "id": "SqYHfWTVuIpN",
        "colab": {
          "base_uri": "https://localhost:8080/"
        },
        "outputId": "2cd3718d-91bc-4d5e-ccfa-7f0f10f191a8"
      },
      "execution_count": 8,
      "outputs": [
        {
          "output_type": "stream",
          "name": "stdout",
          "text": [
            "CPU times: user 35.1 s, sys: 221 ms, total: 35.4 s\n",
            "Wall time: 35.4 s\n"
          ]
        }
      ]
    },
    {
      "cell_type": "code",
      "source": [
        "df.info()"
      ],
      "metadata": {
        "id": "bxq101V5T9SN",
        "colab": {
          "base_uri": "https://localhost:8080/"
        },
        "outputId": "4fb394c1-1091-4e25-f010-6c02c8e3240d"
      },
      "execution_count": 9,
      "outputs": [
        {
          "output_type": "stream",
          "name": "stdout",
          "text": [
            "<class 'pandas.core.frame.DataFrame'>\n",
            "Int64Index: 2350255 entries, 0 to 61488\n",
            "Columns: 173 entries, DT_NOTIFIC to DT_TRT_COV\n",
            "dtypes: Int32(99), datetime64[ns](29), string(45)\n",
            "memory usage: 2.4 GB\n"
          ]
        }
      ]
    },
    {
      "cell_type": "markdown",
      "source": [
        "## Pré-processamento"
      ],
      "metadata": {
        "id": "NtsrHCuk5siO"
      }
    },
    {
      "cell_type": "markdown",
      "source": [
        "### Remover notificações após 31 de Março de 2023"
      ],
      "metadata": {
        "id": "R4nZOb5492_J"
      }
    },
    {
      "cell_type": "code",
      "source": [
        "df.drop(df[df['DT_NOTIFIC'] > '2023-03-31'].index, inplace=True)"
      ],
      "metadata": {
        "id": "525dG1Zh9sbO"
      },
      "execution_count": 10,
      "outputs": []
    },
    {
      "cell_type": "markdown",
      "source": [
        "### Contagem"
      ],
      "metadata": {
        "id": "-5BJToo4bnSJ"
      }
    },
    {
      "cell_type": "code",
      "source": [
        "# Campos descritos no dicionário de dados.\n",
        "\n",
        "dicionario = ['NU_NOTIFIC', 'DT_NOTIFIC', 'SEM_NOT', 'DT_SIN_PRI', 'SEM_PRI', 'SG_UF_NOT', 'ID_MUNICIP', 'CO_MUN_NOT',\n",
        "              'ID_REGIONA', 'CO_REGIONA', 'ID_UNIDADE', 'CO_UNI_NOT', 'TEM_CPF', 'NU_CPF', 'ESTRANG', 'NU_CNS',\n",
        "              'NM_PACIENT', 'CS_SEXO', 'DT_NASC', 'NU_IDADE_N', 'TP_IDADE', 'CS_GESTANT', 'CS_RACA', 'CS_ETINIA',\n",
        "              'POV_CT', 'TP_POV_CT', 'CS_ESCOL_N', 'PAC_COCBO', 'PAC_DSCBO', 'NM_MAE_PAC', 'NU_CEP', 'SG_UF',\n",
        "              'ID_RG_RESI', 'CO_RG_RESI', 'ID_MN_RESI', 'CO_MUN_RES', 'NM_BAIRRO', 'NM_LOGRADO', 'NU_NUMERO',\n",
        "              'NM_COMPLEM', 'NU_DDD_TEL', 'NU_TELEFON', 'CS_ZONA', 'ID_PAIS', 'CO_PAIS', 'NOSOCOMIAL', 'AVE_SUINO',\n",
        "              'OUT_ANIM', 'FEBRE', 'TOSSE', 'GARGANTA', 'DISPNEIA', 'DESC_RESP', 'SATURACAO', 'DIARREIA', 'VOMITO',\n",
        "              'DOR_ABD', 'FADIGA', 'PERD_OLFT', 'PERD_PALA', 'OUTRO_SIN', 'OUTRO_DES', 'FATOR_RISC', 'PUERPERA',\n",
        "              'CARDIOPATI', 'HEMATOLOGI', 'SIND_DOWN', 'HEPATICA', 'ASMA', 'DIABETES', 'NEUROLOGIC', 'PNEUMOPATI',\n",
        "              'IMUNODEPRE', 'RENAL', 'OBESIDADE', 'OBES_IMC', 'OUT_MORBI', 'MORB_DESC', 'VACINA_COV', 'DOSE_1_COV',\n",
        "              'DOSE_2_COV', 'DOSE_REF', 'DOSE_2REF', 'FAB_COV1', 'FAB_COV2', 'FAB_COVRF', 'FAB_COVRF2', 'LOTE_1_COV',\n",
        "              'LOTE_2_COV', 'LOTE_REF', 'LOTE_REF2', 'FNT_IN_COV', 'VACINA', 'DT_UT_DOSE', 'MAE_VAC', 'DT_VAC_MAE',\n",
        "              'M_AMAMENTA', 'DT_DOSEUNI', 'DT_1_DOSE', 'DT_2_DOSE', 'ANTIVIRAL', 'TP_ANTIVIR', 'OUT_ANTIV',\n",
        "              'DT_ANTIVIR', 'TRAT_COV', 'TIPO_TRAT', 'OUT_TRAT', 'DT_TRT_COV', 'HOSPITAL', 'DT_INTERNA', 'SG_UF_INTE',\n",
        "              'ID_RG_INTE', 'CO_RG_INTE', 'ID_MN_INTE', 'CO_MU_INTE', 'ID_UN_INTE', 'CO_UN_INTE', 'UTI', 'DT_ENTUTI',\n",
        "              'DT_SAIDUTI', 'SUPORT_VEN', 'RAIOX_RES', 'RAIOX_OUT', 'DT_RAIOX', 'TOMO_RES', 'TOMO_OUT', 'DT_TOMO',\n",
        "              'AMOSTRA', 'DT_COLETA', 'TP_AMOSTRA', 'OUT_AMOST', 'REQUI_GAL', 'TP_TES_AN', 'DT_RES_AN', 'RES_AN',\n",
        "              'LAB_AN', 'CO_LAB_AN', 'POS_AN_FLU', 'TP_FLU_AN', 'POS_AN_OUT', 'AN_SARS2', 'AN_VSR', 'AN_PARA1',\n",
        "              'AN_PARA2', 'AN_PARA3', 'AN_ADENO', 'AN_OUTRO', 'DS_AN_OUT', 'PCR_RESUL', 'DT_PCR', 'POS_PCRFLU',\n",
        "              'TP_FLU_PCR', 'PCR_FLUASU', 'FLUASU_OUT', 'PCR_FLUBLI', 'FLUBLI_OUT', 'POS_PCROUT', 'PCR_SARS2',\n",
        "              'PCR_VSR', 'PCR_PARA1', 'PCR_PARA2', 'PCR_PARA3', 'PCR_PARA4', 'PCR_ADENO', 'PCR_METAP', 'PCR_BOCA',\n",
        "              'PCR_RINO', 'PCR_OUTRO', 'DS_PCR_OUT', 'LAB_PCR', 'CO_LAB_PCR', 'TP_AM_SOR', 'SOR_OUT', 'DT_CO_SOR',\n",
        "              'TP_SOR', 'OUT_SOR', 'SOR_OUT', 'RES_IGG', 'RES_IGM', 'RES_IGA', 'DT_RES', 'CLASSI_FIN', 'CLASSI_OUT',\n",
        "              'CRITERIO', 'EVOLUCAO', 'DT_EVOLUCA', 'DT_ENCERRA', 'NU_DO', 'OBSERVA', 'NOME_PROF', 'REG_PROF',\n",
        "              'DT_DIGITA']"
      ],
      "metadata": {
        "id": "S9y0Fj2AlauY"
      },
      "execution_count": 11,
      "outputs": []
    },
    {
      "cell_type": "code",
      "source": [
        "# # Campos descritos no dicionário de dados, mas inexistentes nas fontes.\n",
        "# # 'FAB_COV_1', 'FAB_COV_2', 'FAB_COVREF' (nas fontes) = 'FAB_COV1', 'FAB_COV2', 'FAB_COVRF' (no dicionário)\n",
        "\n",
        "# inexistentes_csv = list(dicionario - dtypes.keys())\n",
        "\n",
        "# inexistentes_csv"
      ],
      "metadata": {
        "id": "ITugNNvmr1RS"
      },
      "execution_count": 12,
      "outputs": []
    },
    {
      "cell_type": "code",
      "source": [
        "# Campos sem entrada no dicionário.\n",
        "# 'FAB_COV_1', 'FAB_COV_2', 'FAB_COVREF' (nas fontes) = 'FAB_COV1', 'FAB_COV2', 'FAB_COVRF' (no dicionário)\n",
        "\n",
        "inexistentes_dic = list((dtypes.keys() - dicionario) - set(['FAB_COV_1', 'FAB_COV_2', 'FAB_COVREF']))\n",
        "\n",
        "# df[inexistentes_dic].info(show_counts=True)"
      ],
      "metadata": {
        "id": "l9Vrg62gdQqf"
      },
      "execution_count": 13,
      "outputs": []
    },
    {
      "cell_type": "code",
      "source": [
        "# Campos de notificação e primeiros sintomas.\n",
        "\n",
        "campos = ['DT_NOTIFIC', 'SEM_NOT', 'SG_UF_NOT', 'DT_SIN_PRI', 'SEM_PRI']\n",
        "\n",
        "df[campos].info(show_counts=True)"
      ],
      "metadata": {
        "id": "6zQkIncCZ50L",
        "colab": {
          "base_uri": "https://localhost:8080/"
        },
        "outputId": "a6bc69db-df4d-4e03-eb03-2899cd1bc1d8"
      },
      "execution_count": 14,
      "outputs": [
        {
          "output_type": "stream",
          "name": "stdout",
          "text": [
            "<class 'pandas.core.frame.DataFrame'>\n",
            "Int64Index: 2348597 entries, 0 to 61486\n",
            "Data columns (total 5 columns):\n",
            " #   Column      Non-Null Count    Dtype         \n",
            "---  ------      --------------    -----         \n",
            " 0   DT_NOTIFIC  2348597 non-null  datetime64[ns]\n",
            " 1   SEM_NOT     2348597 non-null  Int32         \n",
            " 2   SG_UF_NOT   2348597 non-null  string        \n",
            " 3   DT_SIN_PRI  2348597 non-null  datetime64[ns]\n",
            " 4   SEM_PRI     2348597 non-null  Int32         \n",
            "dtypes: Int32(2), datetime64[ns](2), string(1)\n",
            "memory usage: 94.1 MB\n"
          ]
        }
      ]
    },
    {
      "cell_type": "code",
      "source": [
        "# Campos relativos a internação.\n",
        "\n",
        "campos = ['HOSPITAL', 'DT_INTERNA', 'SG_UF_INTE',\n",
        "          'CO_RG_INTE', 'ID_RG_INTE', 'CO_MU_INTE', 'ID_MN_INTE']\n",
        "\n",
        "df[campos].info(show_counts=True)"
      ],
      "metadata": {
        "id": "1y2KhTe1rK6U",
        "colab": {
          "base_uri": "https://localhost:8080/"
        },
        "outputId": "3855c685-bbb6-47a2-872f-cf8481d5532d"
      },
      "execution_count": 15,
      "outputs": [
        {
          "output_type": "stream",
          "name": "stdout",
          "text": [
            "<class 'pandas.core.frame.DataFrame'>\n",
            "Int64Index: 2348597 entries, 0 to 61486\n",
            "Data columns (total 7 columns):\n",
            " #   Column      Non-Null Count    Dtype         \n",
            "---  ------      --------------    -----         \n",
            " 0   HOSPITAL    2282390 non-null  Int32         \n",
            " 1   DT_INTERNA  2194611 non-null  datetime64[ns]\n",
            " 2   SG_UF_INTE  2274230 non-null  string        \n",
            " 3   CO_RG_INTE  1832350 non-null  Int32         \n",
            " 4   ID_RG_INTE  1832350 non-null  string        \n",
            " 5   CO_MU_INTE  2198584 non-null  Int32         \n",
            " 6   ID_MN_INTE  2198584 non-null  string        \n",
            "dtypes: Int32(3), datetime64[ns](1), string(3)\n",
            "memory usage: 123.2 MB\n"
          ]
        }
      ]
    },
    {
      "cell_type": "code",
      "source": [
        "# Campos relativos à vacina contra COVID-19.\n",
        "\n",
        "campos = ['VACINA_COV', 'FNT_IN_COV',\n",
        "          'DOSE_1_COV', 'FAB_COV_1', 'LOTE_1_COV',\n",
        "          'DOSE_2_COV', 'FAB_COV_2', 'LOTE_2_COV',\n",
        "          'DOSE_REF', 'FAB_COVREF', 'LOTE_REF',\n",
        "          'DOSE_2REF', 'FAB_COVRF2', 'LOTE_REF2']\n",
        "\n",
        "df[campos].info(show_counts=True)"
      ],
      "metadata": {
        "colab": {
          "base_uri": "https://localhost:8080/"
        },
        "id": "jBCyrr270k_t",
        "outputId": "c8c1bab6-869e-416c-ba4a-ba74c18a032e"
      },
      "execution_count": 16,
      "outputs": [
        {
          "output_type": "stream",
          "name": "stdout",
          "text": [
            "<class 'pandas.core.frame.DataFrame'>\n",
            "Int64Index: 2348597 entries, 0 to 61486\n",
            "Data columns (total 14 columns):\n",
            " #   Column      Non-Null Count    Dtype         \n",
            "---  ------      --------------    -----         \n",
            " 0   VACINA_COV  1905526 non-null  Int32         \n",
            " 1   FNT_IN_COV  1907117 non-null  Int32         \n",
            " 2   DOSE_1_COV  707186 non-null   datetime64[ns]\n",
            " 3   FAB_COV_1   708096 non-null   string        \n",
            " 4   LOTE_1_COV  613286 non-null   string        \n",
            " 5   DOSE_2_COV  565624 non-null   datetime64[ns]\n",
            " 6   FAB_COV_2   330898 non-null   string        \n",
            " 7   LOTE_2_COV  514189 non-null   string        \n",
            " 8   DOSE_REF    209388 non-null   datetime64[ns]\n",
            " 9   FAB_COVREF  208630 non-null   string        \n",
            " 10  LOTE_REF    207447 non-null   string        \n",
            " 11  DOSE_2REF   39175 non-null    datetime64[ns]\n",
            " 12  FAB_COVRF2  40336 non-null    string        \n",
            " 13  LOTE_REF2   40402 non-null    string        \n",
            "dtypes: Int32(2), datetime64[ns](4), string(8)\n",
            "memory usage: 255.3 MB\n"
          ]
        }
      ]
    },
    {
      "cell_type": "code",
      "source": [
        "# Campos \"marcado pelo usuário\" ou vazio.\n",
        "\n",
        "NAN0 = ['AN_ADENO', 'AN_OUTRO', 'AN_PARA1', 'AN_PARA2', 'AN_PARA3', 'AN_SARS2', 'AN_VSR',\n",
        "        'PCR_ADENO', 'PCR_BOCA', 'PCR_METAP', 'PCR_OUTRO', 'PCR_PARA1', 'PCR_PARA2',\n",
        "        'PCR_PARA3', 'PCR_PARA4', 'PCR_RINO', 'PCR_SARS2', 'PCR_VSR']\n",
        "\n",
        "df[NAN0].info(show_counts=True)"
      ],
      "metadata": {
        "colab": {
          "base_uri": "https://localhost:8080/"
        },
        "id": "ov8hnN5pal4F",
        "outputId": "7c3adf29-1e23-41f4-ff38-65ca99d957a0"
      },
      "execution_count": 17,
      "outputs": [
        {
          "output_type": "stream",
          "name": "stdout",
          "text": [
            "<class 'pandas.core.frame.DataFrame'>\n",
            "Int64Index: 2348597 entries, 0 to 61486\n",
            "Data columns (total 18 columns):\n",
            " #   Column     Non-Null Count   Dtype\n",
            "---  ------     --------------   -----\n",
            " 0   AN_ADENO   168 non-null     Int32\n",
            " 1   AN_OUTRO   1491 non-null    Int32\n",
            " 2   AN_PARA1   78 non-null      Int32\n",
            " 3   AN_PARA2   26 non-null      Int32\n",
            " 4   AN_PARA3   163 non-null     Int32\n",
            " 5   AN_SARS2   336291 non-null  Int32\n",
            " 6   AN_VSR     8073 non-null    Int32\n",
            " 7   PCR_ADENO  4786 non-null    Int32\n",
            " 8   PCR_BOCA   2053 non-null    Int32\n",
            " 9   PCR_METAP  2869 non-null    Int32\n",
            " 10  PCR_OUTRO  2507 non-null    Int32\n",
            " 11  PCR_PARA1  595 non-null     Int32\n",
            " 12  PCR_PARA2  279 non-null     Int32\n",
            " 13  PCR_PARA3  1918 non-null    Int32\n",
            " 14  PCR_PARA4  607 non-null     Int32\n",
            " 15  PCR_RINO   15444 non-null   Int32\n",
            " 16  PCR_SARS2  804955 non-null  Int32\n",
            " 17  PCR_VSR    30974 non-null   Int32\n",
            "dtypes: Int32(18)\n",
            "memory usage: 219.5 MB\n"
          ]
        }
      ]
    },
    {
      "cell_type": "code",
      "source": [
        "# Campos relativos a origem e país.\n",
        "\n",
        "campos = ['ESTRANG', 'ID_PAIS', 'CO_PAIS']\n",
        "\n",
        "display(df[campos].info(show_counts=True))"
      ],
      "metadata": {
        "id": "IxCPcL8q6XDx",
        "colab": {
          "base_uri": "https://localhost:8080/",
          "height": 208
        },
        "outputId": "30158850-87ec-418c-edc9-f9c9a83f9195"
      },
      "execution_count": 18,
      "outputs": [
        {
          "output_type": "stream",
          "name": "stdout",
          "text": [
            "<class 'pandas.core.frame.DataFrame'>\n",
            "Int64Index: 2348597 entries, 0 to 61486\n",
            "Data columns (total 3 columns):\n",
            " #   Column   Non-Null Count    Dtype \n",
            "---  ------   --------------    ----- \n",
            " 0   ESTRANG  1835220 non-null  Int32 \n",
            " 1   ID_PAIS  2348597 non-null  string\n",
            " 2   CO_PAIS  2348597 non-null  Int32 \n",
            "dtypes: Int32(2), string(1)\n",
            "memory usage: 58.2 MB\n"
          ]
        },
        {
          "output_type": "display_data",
          "data": {
            "text/plain": [
              "None"
            ]
          },
          "metadata": {}
        }
      ]
    },
    {
      "cell_type": "code",
      "source": [
        "# Campos tipo 'Outro'.\n",
        "\n",
        "outros = ['CLASSI_OUT', 'DS_AN_OUT', 'DS_PCR_OUT', 'FLUASU_OUT', 'FLUBLI_OUT',\n",
        "          'MORB_DESC', 'OUTRO_DES', 'OUT_AMOST', 'OUT_ANIM', 'OUT_ANTIV',\n",
        "          'OUT_SOR', 'OUT_TRAT', 'RAIOX_OUT', 'SOR_OUT', 'TOMO_OUT']\n",
        "\n",
        "# df[outros].info(show_counts=True)"
      ],
      "metadata": {
        "id": "GPRu4PZM0JkG"
      },
      "execution_count": 19,
      "outputs": []
    },
    {
      "cell_type": "code",
      "source": [
        "# \"Resultado da Sorologia para SARS-CoV-2.\" ???\n",
        "\n",
        "sorologia = ['RES_IGG', 'RES_IGM', 'RES_IGA']\n",
        "\n",
        "display(df[sorologia].info(show_counts=True))\n",
        "# print()\n",
        "\n",
        "# for campo in sorologia:\n",
        "#     display(df[campo].value_counts(dropna=False).sort_index())\n",
        "#     print()"
      ],
      "metadata": {
        "id": "3ohPZkoRHiJz",
        "colab": {
          "base_uri": "https://localhost:8080/",
          "height": 208
        },
        "outputId": "f5b01b0d-95e6-47f8-f45c-68c0f0ae2b23"
      },
      "execution_count": 20,
      "outputs": [
        {
          "output_type": "stream",
          "name": "stdout",
          "text": [
            "<class 'pandas.core.frame.DataFrame'>\n",
            "Int64Index: 2348597 entries, 0 to 61486\n",
            "Data columns (total 3 columns):\n",
            " #   Column   Non-Null Count   Dtype\n",
            "---  ------   --------------   -----\n",
            " 0   RES_IGG  260106 non-null  Int32\n",
            " 1   RES_IGM  263009 non-null  Int32\n",
            " 2   RES_IGA  206289 non-null  Int32\n",
            "dtypes: Int32(3)\n",
            "memory usage: 51.5 MB\n"
          ]
        },
        {
          "output_type": "display_data",
          "data": {
            "text/plain": [
              "None"
            ]
          },
          "metadata": {}
        }
      ]
    },
    {
      "cell_type": "code",
      "source": [
        "# Quantidade de registros com sexo diferente de Masculino ou Feminino.\n",
        "\n",
        "(~df['CS_SEXO'].isin(['M', 'F'])).sum()"
      ],
      "metadata": {
        "id": "sbOtVLWpxG3y",
        "colab": {
          "base_uri": "https://localhost:8080/"
        },
        "outputId": "b9e00caf-79f0-44c6-9d2d-63012f84079a"
      },
      "execution_count": 21,
      "outputs": [
        {
          "output_type": "execute_result",
          "data": {
            "text/plain": [
              "371"
            ]
          },
          "metadata": {},
          "execution_count": 21
        }
      ]
    },
    {
      "cell_type": "code",
      "source": [
        "# Quantidade de registros sem data de nascimento.\n",
        "\n",
        "df['DT_NASC'].isna().sum()"
      ],
      "metadata": {
        "id": "XZK4AD3AbQBK",
        "colab": {
          "base_uri": "https://localhost:8080/"
        },
        "outputId": "1f7d8634-53e5-4c94-a5df-0fd171d9fbb5"
      },
      "execution_count": 22,
      "outputs": [
        {
          "output_type": "execute_result",
          "data": {
            "text/plain": [
              "1389"
            ]
          },
          "metadata": {},
          "execution_count": 22
        }
      ]
    },
    {
      "cell_type": "code",
      "source": [
        "# Quantidade de registros sem unidade federativa.\n",
        "\n",
        "df['SG_UF'].isna().sum()"
      ],
      "metadata": {
        "id": "EHoAOSZ-eYxS",
        "colab": {
          "base_uri": "https://localhost:8080/"
        },
        "outputId": "7a49d65b-2e7c-4586-987a-22b9ff54d766"
      },
      "execution_count": 23,
      "outputs": [
        {
          "output_type": "execute_result",
          "data": {
            "text/plain": [
              "401"
            ]
          },
          "metadata": {},
          "execution_count": 23
        }
      ]
    },
    {
      "cell_type": "code",
      "source": [
        "# # Quantidade de registros com ano de nascimento inferior a 1923, por ano.\n",
        "\n",
        "# with pd.option_context('display.max_rows', None): \n",
        "#     display(df['DT_NASC'][df['DT_NASC'].dt.year < 1923].dt.year.value_counts().sort_index())"
      ],
      "metadata": {
        "id": "K0Ut2v_8I8Ea"
      },
      "execution_count": 24,
      "outputs": []
    },
    {
      "cell_type": "code",
      "source": [
        "# Quantidade total de registros com ano de nascimento inferior a 1923.\n",
        "\n",
        "(df['DT_NASC'].dt.year < 1923).sum()"
      ],
      "metadata": {
        "id": "IPpjBoxpbMb1",
        "colab": {
          "base_uri": "https://localhost:8080/"
        },
        "outputId": "e0bd28a5-b6d9-4618-afa9-4e1de613b8f0"
      },
      "execution_count": 25,
      "outputs": [
        {
          "output_type": "execute_result",
          "data": {
            "text/plain": [
              "6190"
            ]
          },
          "metadata": {},
          "execution_count": 25
        }
      ]
    },
    {
      "cell_type": "code",
      "source": [
        "# Quantidade de registros com unidade federativa onde está localizada a unidade que realizou a notificação diferente da internação do paciente.\n",
        "\n",
        "df['SG_UF_NOT'][df['SG_UF_NOT'] != df['SG_UF_INTE']].count()"
      ],
      "metadata": {
        "colab": {
          "base_uri": "https://localhost:8080/"
        },
        "id": "gFxhCXYuMq6-",
        "outputId": "0df79f76-feac-4380-fb2f-56b3b9d27656"
      },
      "execution_count": 26,
      "outputs": [
        {
          "output_type": "execute_result",
          "data": {
            "text/plain": [
              "510"
            ]
          },
          "metadata": {},
          "execution_count": 26
        }
      ]
    },
    {
      "cell_type": "code",
      "source": [
        "# Quantidade de registros com regional de saúde onde está localizada a unidade que realizou a notificação diferente da internação do paciente.\n",
        "\n",
        "df['CO_REGIONA'][df['CO_REGIONA'] != df['CO_RG_INTE']].count()"
      ],
      "metadata": {
        "colab": {
          "base_uri": "https://localhost:8080/"
        },
        "id": "_wBKP6GbOFf6",
        "outputId": "046245af-f216-43d9-efc1-afd0640c5529"
      },
      "execution_count": 27,
      "outputs": [
        {
          "output_type": "execute_result",
          "data": {
            "text/plain": [
              "4079"
            ]
          },
          "metadata": {},
          "execution_count": 27
        }
      ]
    },
    {
      "cell_type": "code",
      "source": [
        "# Quantidade de registros com município onde está localizada a unidade que realizou a notificação diferente da internação do paciente.\n",
        "\n",
        "df['CO_MUN_NOT'][df['CO_MUN_NOT'] != df['CO_MU_INTE']].count()"
      ],
      "metadata": {
        "colab": {
          "base_uri": "https://localhost:8080/"
        },
        "id": "9f8jVT_oOFOC",
        "outputId": "75020ed1-c2ed-4559-8361-66731949a4f6"
      },
      "execution_count": 28,
      "outputs": [
        {
          "output_type": "execute_result",
          "data": {
            "text/plain": [
              "15258"
            ]
          },
          "metadata": {},
          "execution_count": 28
        }
      ]
    },
    {
      "cell_type": "markdown",
      "source": [
        "### Correção"
      ],
      "metadata": {
        "id": "aVdrMtkscupa"
      }
    },
    {
      "cell_type": "code",
      "source": [
        "%%time\n",
        "\n",
        "# Campos \"marcado pelo usuário\" com valores NaN para 0.\n",
        "for campo in NAN0:\n",
        "    df[campo].fillna(0, inplace=True)\n",
        "\n",
        "# Campo CLASSI_FIN com valores NaN para 4-SRAG não especificado\n",
        "df['CLASSI_FIN'].fillna(4, inplace=True)\n",
        "\n",
        "# Campo CS_SEXO para numérico, como dicionário de dados.\n",
        "df['CS_SEXO'].replace({'M': '1', 'F': '2', 'I': '9'}, inplace=True)\n",
        "df['CS_SEXO'] = df['CS_SEXO'].astype('Int32')\n",
        "\n",
        "# Campos com valores NaN para 9-Ignorado.\n",
        "NAN9 = ['AMOSTRA', 'ANTIVIRAL', 'ASMA', 'AVE_SUINO', 'CARDIOPATI', 'CRITERIO', 'CS_ESCOL_N', 'CS_RACA', 'CS_ZONA', 'DESC_RESP', 'DIABETES',\n",
        "        'DIARREIA', 'DISPNEIA', 'DOR_ABD', 'EVOLUCAO', 'FADIGA', 'FATOR_RISC', 'FEBRE', 'FNT_IN_COV', 'GARGANTA', 'HEMATOLOGI', 'HEPATICA',\n",
        "        'HOSPITAL', 'IMUNODEPRE', 'MAE_VAC', 'M_AMAMENTA', 'NEUROLOGIC', 'NOSOCOMIAL', 'OBESIDADE', 'OUTRO_SIN', 'OUT_MORBI', 'PCR_FLUASU',\n",
        "        'PCR_FLUBLI', 'PCR_RESUL', 'PERD_OLFT', 'PERD_PALA', 'PNEUMOPATI', 'POS_AN_FLU', 'POS_AN_OUT', 'POS_PCRFLU', 'POS_PCROUT', 'PUERPERA',\n",
        "        'RAIOX_RES', 'RENAL', 'RES_AN', 'SATURACAO', 'SIND_DOWN', 'SUPORT_VEN', 'TIPO_TRAT', 'TOMO_RES', 'TOSSE', 'TP_AMOSTRA', 'TP_AM_SOR',\n",
        "        'TP_ANTIVIR', 'TP_FLU_AN', 'TP_FLU_PCR', 'TP_SOR', 'TP_TES_AN', 'TRAT_COV', 'UTI', 'VACINA', 'VACINA_COV', 'VOMITO']\n",
        "\n",
        "for campo in NAN9:\n",
        "    df[campo].fillna(9, inplace=True)\n",
        "\n",
        "# Campo OBES_IMC para decimal.\n",
        "df['OBES_IMC'][df['OBES_IMC'].str.contains(',', regex=False)] = df['OBES_IMC'][df['OBES_IMC'].str.contains(',', regex=False)].str.replace(',', '.')\n",
        "df['OBES_IMC'] = df['OBES_IMC'].astype('Float32')\n",
        "\n",
        "# Campos PAC_COCBO com valores 'XXX' para None.\n",
        "df['PAC_COCBO'].replace({'XXX': None}, inplace=True)\n",
        "\n",
        "# Campos PAC_DSCBO com valores 'NAO INFORMADO' para None.\n",
        "df['PAC_DSCBO'].replace({'NAO INFORMADO': None}, inplace=True)"
      ],
      "metadata": {
        "id": "81mXJPCacwJr",
        "colab": {
          "base_uri": "https://localhost:8080/"
        },
        "outputId": "12b19ab8-2605-48e4-91e9-1b3edc46efec"
      },
      "execution_count": 29,
      "outputs": [
        {
          "output_type": "stream",
          "name": "stdout",
          "text": [
            "CPU times: user 4.79 s, sys: 12 ms, total: 4.8 s\n",
            "Wall time: 4.83 s\n"
          ]
        }
      ]
    },
    {
      "cell_type": "markdown",
      "source": [
        "### Desmembramento"
      ],
      "metadata": {
        "id": "U8oB0ncpnzII"
      }
    },
    {
      "cell_type": "code",
      "source": [
        "%%time\n",
        "\n",
        "# DataFrame de ocupações, com códigos e descrições.\n",
        "\n",
        "ocupacoes = ['PAC_COCBO', 'PAC_DSCBO']\n",
        "\n",
        "df_ocupacoes = df[ocupacoes][~df[ocupacoes].duplicated()].dropna().sort_values(by='PAC_COCBO').reset_index(drop=True)\n",
        "df_ocupacoes.columns = ['Codigo', 'Ocupacao']\n",
        "\n",
        "# df_ocupacoes.to_csv('/content/PJI410_ocupacoes.csv', index=False)\n",
        "\n",
        "\n",
        "# DataFrame de unidades, com códigos e descrições.\n",
        "\n",
        "unidades = ['CO_UNI_NOT', 'ID_UNIDADE']\n",
        "\n",
        "df_unidades = df[unidades][~df[unidades].duplicated()].dropna().sort_values(by='CO_UNI_NOT').reset_index(drop=True)\n",
        "df_unidades.columns = ['Codigo', 'Unidade']\n",
        "\n",
        "# df_unidades.to_csv('/content/PJI410_unidades.csv', index=False)\n",
        "\n",
        "\n",
        "# DataFrame de municípios, com códigos e descrições.\n",
        "\n",
        "df_municipios = pd.concat([df[['CO_MUN_NOT', 'ID_MUNICIP']].set_axis(['CO_MUNICIP', 'ID_MUNICIP'], axis=1),\n",
        "                           df[['CO_MUN_RES', 'ID_MN_RESI']].set_axis(['CO_MUNICIP', 'ID_MUNICIP'], axis=1),\n",
        "                           df[['CO_MU_INTE', 'ID_MN_INTE']].set_axis(['CO_MUNICIP', 'ID_MUNICIP'], axis=1)])\n",
        "\n",
        "df_municipios = df_municipios[~df_municipios.duplicated()].dropna().sort_values(by='CO_MUNICIP').reset_index(drop=True)\n",
        "df_municipios.columns = ['Codigo', 'Municipio']\n",
        "\n",
        "# df_municipios.to_csv('/content/PJI410_municipios.csv', index=False)\n",
        "\n",
        "\n",
        "# DataFrame de regionais, com códigos e descrições.\n",
        "\n",
        "df_regionais = pd.concat([df[['CO_REGIONA', 'ID_REGIONA']],\n",
        "                          df[['CO_RG_RESI', 'ID_RG_RESI']].set_axis(['CO_REGIONA', 'ID_REGIONA'], axis=1),\n",
        "                          df[['CO_RG_INTE', 'ID_RG_INTE']].set_axis(['CO_REGIONA', 'ID_REGIONA'], axis=1)])\n",
        "\n",
        "df_regionais = df_regionais[~df_regionais.duplicated()].dropna().sort_values(by='CO_REGIONA').reset_index(drop=True)\n",
        "df_regionais.columns = ['Codigo', 'Regional']\n",
        "\n",
        "# df_regionais.to_csv('/content/PJI410_regionais.csv', index=False)"
      ],
      "metadata": {
        "id": "pLv_JY1_2GYG",
        "colab": {
          "base_uri": "https://localhost:8080/"
        },
        "outputId": "35d4ab0e-f7cd-4f5c-9dd8-d7c41b0c5698"
      },
      "execution_count": 30,
      "outputs": [
        {
          "output_type": "stream",
          "name": "stdout",
          "text": [
            "CPU times: user 5.72 s, sys: 28.9 ms, total: 5.75 s\n",
            "Wall time: 5.78 s\n"
          ]
        }
      ]
    },
    {
      "cell_type": "markdown",
      "source": [
        "### Limpeza"
      ],
      "metadata": {
        "id": "8FXJZTX-bk0O"
      }
    },
    {
      "cell_type": "code",
      "source": [
        "%%time\n",
        "\n",
        "# Remover registros com sexo diferente de 1-Masculino ou 2-Feminino.\n",
        "df.drop(df[~df['CS_SEXO'].isin([1, 2])].index, inplace=True)\n",
        "\n",
        "# Remover registros sem data de nascimento ou unidade federativa.\n",
        "df.dropna(subset=['DT_NASC', 'SG_UF'], inplace=True)\n",
        "\n",
        "# Remover registros com ano de nascimento inferior a 1923.\n",
        "df.drop(df[df['DT_NASC'].dt.year < 1923].index, inplace=True)\n",
        "\n",
        "# Remover registros de pacientes estrangeiros.\n",
        "df.drop(df[df['ESTRANG'] == 1].index, inplace=True)\n",
        "\n",
        "# Remover campos relativos à idade. (Temos a data de nascimento.)\n",
        "df.drop(['NU_IDADE_N', 'TP_IDADE'], axis=1, inplace=True)\n",
        "\n",
        "# Remover campos relativos ao país de origem. (Ao remover registros de pacientes estrangeiros ou sem unidade federativa, ficamos com apenas um valor nestes campos.)\n",
        "df.drop(['ESTRANG', 'ID_PAIS', 'CO_PAIS'], axis=1, inplace=True)\n",
        "\n",
        "# Remover campos de descrição dos dados desmembrados.\n",
        "df.drop(['PAC_DSCBO', 'ID_UNIDADE', 'ID_MUNICIP', 'ID_MN_RESI', 'ID_MN_INTE', 'ID_REGIONA', 'ID_RG_RESI', 'ID_RG_INTE'], axis=1, inplace=True)\n",
        "\n",
        "# Remover campos sem entrada no dicionário.\n",
        "df.drop(inexistentes_dic, axis=1, inplace=True)\n",
        "\n",
        "# Remover campos sobre resultado da sorologia para SARS-CoV-2. (O dicionário não contém a descrição dos valores.)\n",
        "df.drop(sorologia, axis=1, inplace=True)\n",
        "\n",
        "# Remover campos tipo 'Outro'. (Sem utilidade para macro-análises.)\n",
        "df.drop(outros, axis=1, inplace=True)\n",
        "\n",
        "# Remover campos de com somente 3% de dados válidos.\n",
        "df.drop(['NOSOCOMIAL', 'AVE_SUINO', 'ANTIVIRAL', 'TP_ANTIVIR', 'DT_ANTIVIR', 'TRAT_COV', 'TIPO_TRAT', 'DT_TRT_COV'], axis=1, inplace=True)\n",
        "\n",
        "# Remover campos vazios.\n",
        "df.dropna(how='all', axis=1, inplace=True)"
      ],
      "metadata": {
        "id": "HHODyCm7F7b_",
        "colab": {
          "base_uri": "https://localhost:8080/"
        },
        "outputId": "4621ab66-9913-4729-d1aa-8703c8b852c2"
      },
      "execution_count": 31,
      "outputs": [
        {
          "output_type": "stream",
          "name": "stdout",
          "text": [
            "CPU times: user 28.9 s, sys: 2.27 s, total: 31.2 s\n",
            "Wall time: 32 s\n"
          ]
        }
      ]
    },
    {
      "cell_type": "code",
      "source": [
        "df.info()"
      ],
      "metadata": {
        "colab": {
          "base_uri": "https://localhost:8080/"
        },
        "id": "GffTwh-1FQD4",
        "outputId": "10b5b82c-5117-4f91-8512-fe89643f9387"
      },
      "execution_count": 32,
      "outputs": [
        {
          "output_type": "stream",
          "name": "stdout",
          "text": [
            "<class 'pandas.core.frame.DataFrame'>\n",
            "Int64Index: 2314397 entries, 0 to 61486\n",
            "Columns: 125 entries, DT_NOTIFIC to LOTE_REF2\n",
            "dtypes: Float32(1), Int32(87), datetime64[ns](25), object(1), string(11)\n",
            "memory usage: 1.6+ GB\n"
          ]
        }
      ]
    },
    {
      "cell_type": "code",
      "source": [
        "# df.to_csv('/content/PJI410_preprocessados.csv', index=False)"
      ],
      "metadata": {
        "id": "g-N8wuthg5OA"
      },
      "execution_count": 33,
      "outputs": []
    },
    {
      "cell_type": "markdown",
      "source": [
        "## População estimada em 2021\n",
        "\n",
        "https://www.ibge.gov.br/cidades-e-estados"
      ],
      "metadata": {
        "id": "1cpHhZuxUrl9"
      }
    },
    {
      "cell_type": "code",
      "source": [
        "%%time\n",
        "\n",
        "df_populacao = pd.read_csv('https://raw.githubusercontent.com/flohmannjr/PJI410/main/dados/populacao_estimada_2021.csv')\n",
        "\n",
        "df_populacao['Notificacoes']  = df['SG_UF_NOT'].value_counts().sort_index().to_list()\n",
        "df_populacao['NotPor1000Hab'] = df_populacao['Notificacoes'] / (df_populacao['Populacao'] / 1000)\n",
        "df_populacao['NotMasculino']  = df['SG_UF_NOT'][df['CS_SEXO'] == 1].value_counts().sort_index().to_list()\n",
        "df_populacao['NotFeminino']   = df['SG_UF_NOT'][df['CS_SEXO'] == 2].value_counts().sort_index().to_list()"
      ],
      "metadata": {
        "id": "9xV5Vx3JUyKA",
        "colab": {
          "base_uri": "https://localhost:8080/"
        },
        "outputId": "fd6235e8-5c81-479a-8735-691498d895f5"
      },
      "execution_count": 34,
      "outputs": [
        {
          "output_type": "stream",
          "name": "stdout",
          "text": [
            "CPU times: user 473 ms, sys: 823 µs, total: 474 ms\n",
            "Wall time: 649 ms\n"
          ]
        }
      ]
    },
    {
      "cell_type": "code",
      "source": [
        "df_populacao[:5]"
      ],
      "metadata": {
        "colab": {
          "base_uri": "https://localhost:8080/",
          "height": 206
        },
        "id": "Ho8BOLEueeoV",
        "outputId": "4d454d58-b78f-4acf-954c-ee7623b1771e"
      },
      "execution_count": 35,
      "outputs": [
        {
          "output_type": "execute_result",
          "data": {
            "text/plain": [
              "   UF      Nome  Populacao  Notificacoes  NotPor1000Hab  NotMasculino  \\\n",
              "0  AC      Acre     906876          6649       7.331763          3568   \n",
              "1  AL   Alagoas    3365351         24797       7.368325         12893   \n",
              "2  AM  Amazonas    4269995         31607       7.402116         16650   \n",
              "3  AP     Amapá     877613          5579       6.357016          3033   \n",
              "4  BA     Bahia   14985284         85864       5.729888         46261   \n",
              "\n",
              "   NotFeminino  \n",
              "0         3081  \n",
              "1        11904  \n",
              "2        14957  \n",
              "3         2546  \n",
              "4        39603  "
            ],
            "text/html": [
              "\n",
              "  <div id=\"df-170d5351-5aed-4457-baf5-b5f2cc1b6bb5\">\n",
              "    <div class=\"colab-df-container\">\n",
              "      <div>\n",
              "<style scoped>\n",
              "    .dataframe tbody tr th:only-of-type {\n",
              "        vertical-align: middle;\n",
              "    }\n",
              "\n",
              "    .dataframe tbody tr th {\n",
              "        vertical-align: top;\n",
              "    }\n",
              "\n",
              "    .dataframe thead th {\n",
              "        text-align: right;\n",
              "    }\n",
              "</style>\n",
              "<table border=\"1\" class=\"dataframe\">\n",
              "  <thead>\n",
              "    <tr style=\"text-align: right;\">\n",
              "      <th></th>\n",
              "      <th>UF</th>\n",
              "      <th>Nome</th>\n",
              "      <th>Populacao</th>\n",
              "      <th>Notificacoes</th>\n",
              "      <th>NotPor1000Hab</th>\n",
              "      <th>NotMasculino</th>\n",
              "      <th>NotFeminino</th>\n",
              "    </tr>\n",
              "  </thead>\n",
              "  <tbody>\n",
              "    <tr>\n",
              "      <th>0</th>\n",
              "      <td>AC</td>\n",
              "      <td>Acre</td>\n",
              "      <td>906876</td>\n",
              "      <td>6649</td>\n",
              "      <td>7.331763</td>\n",
              "      <td>3568</td>\n",
              "      <td>3081</td>\n",
              "    </tr>\n",
              "    <tr>\n",
              "      <th>1</th>\n",
              "      <td>AL</td>\n",
              "      <td>Alagoas</td>\n",
              "      <td>3365351</td>\n",
              "      <td>24797</td>\n",
              "      <td>7.368325</td>\n",
              "      <td>12893</td>\n",
              "      <td>11904</td>\n",
              "    </tr>\n",
              "    <tr>\n",
              "      <th>2</th>\n",
              "      <td>AM</td>\n",
              "      <td>Amazonas</td>\n",
              "      <td>4269995</td>\n",
              "      <td>31607</td>\n",
              "      <td>7.402116</td>\n",
              "      <td>16650</td>\n",
              "      <td>14957</td>\n",
              "    </tr>\n",
              "    <tr>\n",
              "      <th>3</th>\n",
              "      <td>AP</td>\n",
              "      <td>Amapá</td>\n",
              "      <td>877613</td>\n",
              "      <td>5579</td>\n",
              "      <td>6.357016</td>\n",
              "      <td>3033</td>\n",
              "      <td>2546</td>\n",
              "    </tr>\n",
              "    <tr>\n",
              "      <th>4</th>\n",
              "      <td>BA</td>\n",
              "      <td>Bahia</td>\n",
              "      <td>14985284</td>\n",
              "      <td>85864</td>\n",
              "      <td>5.729888</td>\n",
              "      <td>46261</td>\n",
              "      <td>39603</td>\n",
              "    </tr>\n",
              "  </tbody>\n",
              "</table>\n",
              "</div>\n",
              "      <button class=\"colab-df-convert\" onclick=\"convertToInteractive('df-170d5351-5aed-4457-baf5-b5f2cc1b6bb5')\"\n",
              "              title=\"Convert this dataframe to an interactive table.\"\n",
              "              style=\"display:none;\">\n",
              "        \n",
              "  <svg xmlns=\"http://www.w3.org/2000/svg\" height=\"24px\"viewBox=\"0 0 24 24\"\n",
              "       width=\"24px\">\n",
              "    <path d=\"M0 0h24v24H0V0z\" fill=\"none\"/>\n",
              "    <path d=\"M18.56 5.44l.94 2.06.94-2.06 2.06-.94-2.06-.94-.94-2.06-.94 2.06-2.06.94zm-11 1L8.5 8.5l.94-2.06 2.06-.94-2.06-.94L8.5 2.5l-.94 2.06-2.06.94zm10 10l.94 2.06.94-2.06 2.06-.94-2.06-.94-.94-2.06-.94 2.06-2.06.94z\"/><path d=\"M17.41 7.96l-1.37-1.37c-.4-.4-.92-.59-1.43-.59-.52 0-1.04.2-1.43.59L10.3 9.45l-7.72 7.72c-.78.78-.78 2.05 0 2.83L4 21.41c.39.39.9.59 1.41.59.51 0 1.02-.2 1.41-.59l7.78-7.78 2.81-2.81c.8-.78.8-2.07 0-2.86zM5.41 20L4 18.59l7.72-7.72 1.47 1.35L5.41 20z\"/>\n",
              "  </svg>\n",
              "      </button>\n",
              "      \n",
              "  <style>\n",
              "    .colab-df-container {\n",
              "      display:flex;\n",
              "      flex-wrap:wrap;\n",
              "      gap: 12px;\n",
              "    }\n",
              "\n",
              "    .colab-df-convert {\n",
              "      background-color: #E8F0FE;\n",
              "      border: none;\n",
              "      border-radius: 50%;\n",
              "      cursor: pointer;\n",
              "      display: none;\n",
              "      fill: #1967D2;\n",
              "      height: 32px;\n",
              "      padding: 0 0 0 0;\n",
              "      width: 32px;\n",
              "    }\n",
              "\n",
              "    .colab-df-convert:hover {\n",
              "      background-color: #E2EBFA;\n",
              "      box-shadow: 0px 1px 2px rgba(60, 64, 67, 0.3), 0px 1px 3px 1px rgba(60, 64, 67, 0.15);\n",
              "      fill: #174EA6;\n",
              "    }\n",
              "\n",
              "    [theme=dark] .colab-df-convert {\n",
              "      background-color: #3B4455;\n",
              "      fill: #D2E3FC;\n",
              "    }\n",
              "\n",
              "    [theme=dark] .colab-df-convert:hover {\n",
              "      background-color: #434B5C;\n",
              "      box-shadow: 0px 1px 3px 1px rgba(0, 0, 0, 0.15);\n",
              "      filter: drop-shadow(0px 1px 2px rgba(0, 0, 0, 0.3));\n",
              "      fill: #FFFFFF;\n",
              "    }\n",
              "  </style>\n",
              "\n",
              "      <script>\n",
              "        const buttonEl =\n",
              "          document.querySelector('#df-170d5351-5aed-4457-baf5-b5f2cc1b6bb5 button.colab-df-convert');\n",
              "        buttonEl.style.display =\n",
              "          google.colab.kernel.accessAllowed ? 'block' : 'none';\n",
              "\n",
              "        async function convertToInteractive(key) {\n",
              "          const element = document.querySelector('#df-170d5351-5aed-4457-baf5-b5f2cc1b6bb5');\n",
              "          const dataTable =\n",
              "            await google.colab.kernel.invokeFunction('convertToInteractive',\n",
              "                                                     [key], {});\n",
              "          if (!dataTable) return;\n",
              "\n",
              "          const docLinkHtml = 'Like what you see? Visit the ' +\n",
              "            '<a target=\"_blank\" href=https://colab.research.google.com/notebooks/data_table.ipynb>data table notebook</a>'\n",
              "            + ' to learn more about interactive tables.';\n",
              "          element.innerHTML = '';\n",
              "          dataTable['output_type'] = 'display_data';\n",
              "          await google.colab.output.renderOutput(dataTable, element);\n",
              "          const docLink = document.createElement('div');\n",
              "          docLink.innerHTML = docLinkHtml;\n",
              "          element.appendChild(docLink);\n",
              "        }\n",
              "      </script>\n",
              "    </div>\n",
              "  </div>\n",
              "  "
            ]
          },
          "metadata": {},
          "execution_count": 35
        }
      ]
    },
    {
      "cell_type": "code",
      "source": [
        "df_populacao.to_csv('/content/PJI410_populacao.csv', index=False)"
      ],
      "metadata": {
        "id": "JmEKjPUDfQx_"
      },
      "execution_count": 36,
      "outputs": []
    },
    {
      "cell_type": "markdown",
      "source": [
        "## Evoluções"
      ],
      "metadata": {
        "id": "tfQ3oyVGgNzR"
      }
    },
    {
      "cell_type": "code",
      "source": [
        "%%time\n",
        "\n",
        "df_evolucao = df[['SG_UF_NOT', 'EVOLUCAO']][df['EVOLUCAO'].isin(EVOLUCOES.keys())].value_counts().sort_index().reset_index()\n",
        "df_evolucao.columns = ['UF', 'Evolucao', 'Quantidade']\n",
        "df_evolucao['Por1000Hab'] = None\n",
        "\n",
        "for _, uf in df_populacao.iterrows():\n",
        "    for i, ev in df_evolucao[df_evolucao['UF'] == uf['UF']].iterrows():\n",
        "        df_evolucao.loc[i, 'Por1000Hab'] = ev['Quantidade'] / (uf['Populacao'] / 1000)"
      ],
      "metadata": {
        "id": "XnnCk2-JhpfF",
        "colab": {
          "base_uri": "https://localhost:8080/"
        },
        "outputId": "0df54d74-931c-43e0-f197-1f94bffbd896"
      },
      "execution_count": 37,
      "outputs": [
        {
          "output_type": "stream",
          "name": "stdout",
          "text": [
            "CPU times: user 515 ms, sys: 0 ns, total: 515 ms\n",
            "Wall time: 518 ms\n"
          ]
        }
      ]
    },
    {
      "cell_type": "code",
      "source": [
        "df_evolucao[:5]"
      ],
      "metadata": {
        "colab": {
          "base_uri": "https://localhost:8080/",
          "height": 206
        },
        "id": "Ei6AFZ4FkpGp",
        "outputId": "170b4a9f-0aff-4cd4-9cc7-3cfdb7614d63"
      },
      "execution_count": 38,
      "outputs": [
        {
          "output_type": "execute_result",
          "data": {
            "text/plain": [
              "   UF  Evolucao  Quantidade Por1000Hab\n",
              "0  AC         1        4242   4.677596\n",
              "1  AC         2        1887    2.08077\n",
              "2  AC         3          79   0.087112\n",
              "3  AL         1       14621   4.344569\n",
              "4  AL         2        5327   1.582896"
            ],
            "text/html": [
              "\n",
              "  <div id=\"df-738725a1-4bd2-48ac-9b9b-c3d872e47b17\">\n",
              "    <div class=\"colab-df-container\">\n",
              "      <div>\n",
              "<style scoped>\n",
              "    .dataframe tbody tr th:only-of-type {\n",
              "        vertical-align: middle;\n",
              "    }\n",
              "\n",
              "    .dataframe tbody tr th {\n",
              "        vertical-align: top;\n",
              "    }\n",
              "\n",
              "    .dataframe thead th {\n",
              "        text-align: right;\n",
              "    }\n",
              "</style>\n",
              "<table border=\"1\" class=\"dataframe\">\n",
              "  <thead>\n",
              "    <tr style=\"text-align: right;\">\n",
              "      <th></th>\n",
              "      <th>UF</th>\n",
              "      <th>Evolucao</th>\n",
              "      <th>Quantidade</th>\n",
              "      <th>Por1000Hab</th>\n",
              "    </tr>\n",
              "  </thead>\n",
              "  <tbody>\n",
              "    <tr>\n",
              "      <th>0</th>\n",
              "      <td>AC</td>\n",
              "      <td>1</td>\n",
              "      <td>4242</td>\n",
              "      <td>4.677596</td>\n",
              "    </tr>\n",
              "    <tr>\n",
              "      <th>1</th>\n",
              "      <td>AC</td>\n",
              "      <td>2</td>\n",
              "      <td>1887</td>\n",
              "      <td>2.08077</td>\n",
              "    </tr>\n",
              "    <tr>\n",
              "      <th>2</th>\n",
              "      <td>AC</td>\n",
              "      <td>3</td>\n",
              "      <td>79</td>\n",
              "      <td>0.087112</td>\n",
              "    </tr>\n",
              "    <tr>\n",
              "      <th>3</th>\n",
              "      <td>AL</td>\n",
              "      <td>1</td>\n",
              "      <td>14621</td>\n",
              "      <td>4.344569</td>\n",
              "    </tr>\n",
              "    <tr>\n",
              "      <th>4</th>\n",
              "      <td>AL</td>\n",
              "      <td>2</td>\n",
              "      <td>5327</td>\n",
              "      <td>1.582896</td>\n",
              "    </tr>\n",
              "  </tbody>\n",
              "</table>\n",
              "</div>\n",
              "      <button class=\"colab-df-convert\" onclick=\"convertToInteractive('df-738725a1-4bd2-48ac-9b9b-c3d872e47b17')\"\n",
              "              title=\"Convert this dataframe to an interactive table.\"\n",
              "              style=\"display:none;\">\n",
              "        \n",
              "  <svg xmlns=\"http://www.w3.org/2000/svg\" height=\"24px\"viewBox=\"0 0 24 24\"\n",
              "       width=\"24px\">\n",
              "    <path d=\"M0 0h24v24H0V0z\" fill=\"none\"/>\n",
              "    <path d=\"M18.56 5.44l.94 2.06.94-2.06 2.06-.94-2.06-.94-.94-2.06-.94 2.06-2.06.94zm-11 1L8.5 8.5l.94-2.06 2.06-.94-2.06-.94L8.5 2.5l-.94 2.06-2.06.94zm10 10l.94 2.06.94-2.06 2.06-.94-2.06-.94-.94-2.06-.94 2.06-2.06.94z\"/><path d=\"M17.41 7.96l-1.37-1.37c-.4-.4-.92-.59-1.43-.59-.52 0-1.04.2-1.43.59L10.3 9.45l-7.72 7.72c-.78.78-.78 2.05 0 2.83L4 21.41c.39.39.9.59 1.41.59.51 0 1.02-.2 1.41-.59l7.78-7.78 2.81-2.81c.8-.78.8-2.07 0-2.86zM5.41 20L4 18.59l7.72-7.72 1.47 1.35L5.41 20z\"/>\n",
              "  </svg>\n",
              "      </button>\n",
              "      \n",
              "  <style>\n",
              "    .colab-df-container {\n",
              "      display:flex;\n",
              "      flex-wrap:wrap;\n",
              "      gap: 12px;\n",
              "    }\n",
              "\n",
              "    .colab-df-convert {\n",
              "      background-color: #E8F0FE;\n",
              "      border: none;\n",
              "      border-radius: 50%;\n",
              "      cursor: pointer;\n",
              "      display: none;\n",
              "      fill: #1967D2;\n",
              "      height: 32px;\n",
              "      padding: 0 0 0 0;\n",
              "      width: 32px;\n",
              "    }\n",
              "\n",
              "    .colab-df-convert:hover {\n",
              "      background-color: #E2EBFA;\n",
              "      box-shadow: 0px 1px 2px rgba(60, 64, 67, 0.3), 0px 1px 3px 1px rgba(60, 64, 67, 0.15);\n",
              "      fill: #174EA6;\n",
              "    }\n",
              "\n",
              "    [theme=dark] .colab-df-convert {\n",
              "      background-color: #3B4455;\n",
              "      fill: #D2E3FC;\n",
              "    }\n",
              "\n",
              "    [theme=dark] .colab-df-convert:hover {\n",
              "      background-color: #434B5C;\n",
              "      box-shadow: 0px 1px 3px 1px rgba(0, 0, 0, 0.15);\n",
              "      filter: drop-shadow(0px 1px 2px rgba(0, 0, 0, 0.3));\n",
              "      fill: #FFFFFF;\n",
              "    }\n",
              "  </style>\n",
              "\n",
              "      <script>\n",
              "        const buttonEl =\n",
              "          document.querySelector('#df-738725a1-4bd2-48ac-9b9b-c3d872e47b17 button.colab-df-convert');\n",
              "        buttonEl.style.display =\n",
              "          google.colab.kernel.accessAllowed ? 'block' : 'none';\n",
              "\n",
              "        async function convertToInteractive(key) {\n",
              "          const element = document.querySelector('#df-738725a1-4bd2-48ac-9b9b-c3d872e47b17');\n",
              "          const dataTable =\n",
              "            await google.colab.kernel.invokeFunction('convertToInteractive',\n",
              "                                                     [key], {});\n",
              "          if (!dataTable) return;\n",
              "\n",
              "          const docLinkHtml = 'Like what you see? Visit the ' +\n",
              "            '<a target=\"_blank\" href=https://colab.research.google.com/notebooks/data_table.ipynb>data table notebook</a>'\n",
              "            + ' to learn more about interactive tables.';\n",
              "          element.innerHTML = '';\n",
              "          dataTable['output_type'] = 'display_data';\n",
              "          await google.colab.output.renderOutput(dataTable, element);\n",
              "          const docLink = document.createElement('div');\n",
              "          docLink.innerHTML = docLinkHtml;\n",
              "          element.appendChild(docLink);\n",
              "        }\n",
              "      </script>\n",
              "    </div>\n",
              "  </div>\n",
              "  "
            ]
          },
          "metadata": {},
          "execution_count": 38
        }
      ]
    },
    {
      "cell_type": "code",
      "source": [
        "df_evolucao.to_csv('/content/PJI410_evolucao.csv', index=False)"
      ],
      "metadata": {
        "id": "uxLrxTBcpQeS"
      },
      "execution_count": 39,
      "outputs": []
    },
    {
      "cell_type": "markdown",
      "source": [
        "## Evoluções por semana de primeiros sintomas"
      ],
      "metadata": {
        "id": "roumAcnqth-Y"
      }
    },
    {
      "cell_type": "code",
      "source": [
        "%%time\n",
        "\n",
        "df_evolucao_prisin = df[['DT_SIN_PRI', 'EVOLUCAO']][df['EVOLUCAO'].isin(EVOLUCOES.keys())].value_counts().sort_index().reset_index()\n",
        "df_evolucao_prisin.columns = ['Data', 'Evolucao', 'Quantidade']\n",
        "\n",
        "for i, ev in df_evolucao_prisin.iterrows():\n",
        "    df_evolucao_prisin.loc[i, 'Segunda-feira'] = ev['Data'] - np.timedelta64(ev['Data'].dayofweek, 'D')\n",
        "\n",
        "df_evolucao_prisin = df_evolucao_prisin[['Segunda-feira', 'Evolucao', 'Quantidade']].groupby(by=['Segunda-feira', 'Evolucao']).sum().sort_index().reset_index()"
      ],
      "metadata": {
        "id": "1eA_Lh1Ttjke",
        "colab": {
          "base_uri": "https://localhost:8080/"
        },
        "outputId": "1e565967-8fca-4d44-a320-1b4973af90f9"
      },
      "execution_count": 40,
      "outputs": [
        {
          "output_type": "stream",
          "name": "stdout",
          "text": [
            "CPU times: user 1.05 s, sys: 5.48 ms, total: 1.05 s\n",
            "Wall time: 1.09 s\n"
          ]
        }
      ]
    },
    {
      "cell_type": "code",
      "source": [
        "df_evolucao_prisin[:5]"
      ],
      "metadata": {
        "colab": {
          "base_uri": "https://localhost:8080/",
          "height": 206
        },
        "id": "sPrGrg0ZkrWR",
        "outputId": "85b60e8f-10f9-400a-df26-ede959c667d1"
      },
      "execution_count": 41,
      "outputs": [
        {
          "output_type": "execute_result",
          "data": {
            "text/plain": [
              "  Segunda-feira  Evolucao  Quantidade\n",
              "0    2020-12-28         1        3285\n",
              "1    2020-12-28         2        1433\n",
              "2    2020-12-28         3          93\n",
              "3    2021-01-04         1       23356\n",
              "4    2021-01-04         2       10260"
            ],
            "text/html": [
              "\n",
              "  <div id=\"df-20f17342-18ee-4ebc-aca3-4684394bf721\">\n",
              "    <div class=\"colab-df-container\">\n",
              "      <div>\n",
              "<style scoped>\n",
              "    .dataframe tbody tr th:only-of-type {\n",
              "        vertical-align: middle;\n",
              "    }\n",
              "\n",
              "    .dataframe tbody tr th {\n",
              "        vertical-align: top;\n",
              "    }\n",
              "\n",
              "    .dataframe thead th {\n",
              "        text-align: right;\n",
              "    }\n",
              "</style>\n",
              "<table border=\"1\" class=\"dataframe\">\n",
              "  <thead>\n",
              "    <tr style=\"text-align: right;\">\n",
              "      <th></th>\n",
              "      <th>Segunda-feira</th>\n",
              "      <th>Evolucao</th>\n",
              "      <th>Quantidade</th>\n",
              "    </tr>\n",
              "  </thead>\n",
              "  <tbody>\n",
              "    <tr>\n",
              "      <th>0</th>\n",
              "      <td>2020-12-28</td>\n",
              "      <td>1</td>\n",
              "      <td>3285</td>\n",
              "    </tr>\n",
              "    <tr>\n",
              "      <th>1</th>\n",
              "      <td>2020-12-28</td>\n",
              "      <td>2</td>\n",
              "      <td>1433</td>\n",
              "    </tr>\n",
              "    <tr>\n",
              "      <th>2</th>\n",
              "      <td>2020-12-28</td>\n",
              "      <td>3</td>\n",
              "      <td>93</td>\n",
              "    </tr>\n",
              "    <tr>\n",
              "      <th>3</th>\n",
              "      <td>2021-01-04</td>\n",
              "      <td>1</td>\n",
              "      <td>23356</td>\n",
              "    </tr>\n",
              "    <tr>\n",
              "      <th>4</th>\n",
              "      <td>2021-01-04</td>\n",
              "      <td>2</td>\n",
              "      <td>10260</td>\n",
              "    </tr>\n",
              "  </tbody>\n",
              "</table>\n",
              "</div>\n",
              "      <button class=\"colab-df-convert\" onclick=\"convertToInteractive('df-20f17342-18ee-4ebc-aca3-4684394bf721')\"\n",
              "              title=\"Convert this dataframe to an interactive table.\"\n",
              "              style=\"display:none;\">\n",
              "        \n",
              "  <svg xmlns=\"http://www.w3.org/2000/svg\" height=\"24px\"viewBox=\"0 0 24 24\"\n",
              "       width=\"24px\">\n",
              "    <path d=\"M0 0h24v24H0V0z\" fill=\"none\"/>\n",
              "    <path d=\"M18.56 5.44l.94 2.06.94-2.06 2.06-.94-2.06-.94-.94-2.06-.94 2.06-2.06.94zm-11 1L8.5 8.5l.94-2.06 2.06-.94-2.06-.94L8.5 2.5l-.94 2.06-2.06.94zm10 10l.94 2.06.94-2.06 2.06-.94-2.06-.94-.94-2.06-.94 2.06-2.06.94z\"/><path d=\"M17.41 7.96l-1.37-1.37c-.4-.4-.92-.59-1.43-.59-.52 0-1.04.2-1.43.59L10.3 9.45l-7.72 7.72c-.78.78-.78 2.05 0 2.83L4 21.41c.39.39.9.59 1.41.59.51 0 1.02-.2 1.41-.59l7.78-7.78 2.81-2.81c.8-.78.8-2.07 0-2.86zM5.41 20L4 18.59l7.72-7.72 1.47 1.35L5.41 20z\"/>\n",
              "  </svg>\n",
              "      </button>\n",
              "      \n",
              "  <style>\n",
              "    .colab-df-container {\n",
              "      display:flex;\n",
              "      flex-wrap:wrap;\n",
              "      gap: 12px;\n",
              "    }\n",
              "\n",
              "    .colab-df-convert {\n",
              "      background-color: #E8F0FE;\n",
              "      border: none;\n",
              "      border-radius: 50%;\n",
              "      cursor: pointer;\n",
              "      display: none;\n",
              "      fill: #1967D2;\n",
              "      height: 32px;\n",
              "      padding: 0 0 0 0;\n",
              "      width: 32px;\n",
              "    }\n",
              "\n",
              "    .colab-df-convert:hover {\n",
              "      background-color: #E2EBFA;\n",
              "      box-shadow: 0px 1px 2px rgba(60, 64, 67, 0.3), 0px 1px 3px 1px rgba(60, 64, 67, 0.15);\n",
              "      fill: #174EA6;\n",
              "    }\n",
              "\n",
              "    [theme=dark] .colab-df-convert {\n",
              "      background-color: #3B4455;\n",
              "      fill: #D2E3FC;\n",
              "    }\n",
              "\n",
              "    [theme=dark] .colab-df-convert:hover {\n",
              "      background-color: #434B5C;\n",
              "      box-shadow: 0px 1px 3px 1px rgba(0, 0, 0, 0.15);\n",
              "      filter: drop-shadow(0px 1px 2px rgba(0, 0, 0, 0.3));\n",
              "      fill: #FFFFFF;\n",
              "    }\n",
              "  </style>\n",
              "\n",
              "      <script>\n",
              "        const buttonEl =\n",
              "          document.querySelector('#df-20f17342-18ee-4ebc-aca3-4684394bf721 button.colab-df-convert');\n",
              "        buttonEl.style.display =\n",
              "          google.colab.kernel.accessAllowed ? 'block' : 'none';\n",
              "\n",
              "        async function convertToInteractive(key) {\n",
              "          const element = document.querySelector('#df-20f17342-18ee-4ebc-aca3-4684394bf721');\n",
              "          const dataTable =\n",
              "            await google.colab.kernel.invokeFunction('convertToInteractive',\n",
              "                                                     [key], {});\n",
              "          if (!dataTable) return;\n",
              "\n",
              "          const docLinkHtml = 'Like what you see? Visit the ' +\n",
              "            '<a target=\"_blank\" href=https://colab.research.google.com/notebooks/data_table.ipynb>data table notebook</a>'\n",
              "            + ' to learn more about interactive tables.';\n",
              "          element.innerHTML = '';\n",
              "          dataTable['output_type'] = 'display_data';\n",
              "          await google.colab.output.renderOutput(dataTable, element);\n",
              "          const docLink = document.createElement('div');\n",
              "          docLink.innerHTML = docLinkHtml;\n",
              "          element.appendChild(docLink);\n",
              "        }\n",
              "      </script>\n",
              "    </div>\n",
              "  </div>\n",
              "  "
            ]
          },
          "metadata": {},
          "execution_count": 41
        }
      ]
    },
    {
      "cell_type": "code",
      "source": [
        "df_evolucao_prisin.to_csv('/content/PJI410_evolucao_prisin.csv', index=False)"
      ],
      "metadata": {
        "id": "gUsr7tBHpV4v"
      },
      "execution_count": 42,
      "outputs": []
    },
    {
      "cell_type": "markdown",
      "source": [
        "## Diagnósticos finais"
      ],
      "metadata": {
        "id": "97nsrldX4lkm"
      }
    },
    {
      "cell_type": "code",
      "source": [
        "%%time\n",
        "\n",
        "df_diagnostico = df[['EVOLUCAO', 'CLASSI_FIN']][df['EVOLUCAO'].isin(EVOLUCOES.keys())].value_counts().sort_index().reset_index()\n",
        "df_diagnostico.columns = ['Evolucao', 'Classificacao', 'Quantidade']"
      ],
      "metadata": {
        "id": "s6Fe9vRl4rM-",
        "colab": {
          "base_uri": "https://localhost:8080/"
        },
        "outputId": "9e295bec-2259-41ed-f7a3-de093e59eb82"
      },
      "execution_count": 43,
      "outputs": [
        {
          "output_type": "stream",
          "name": "stdout",
          "text": [
            "CPU times: user 248 ms, sys: 0 ns, total: 248 ms\n",
            "Wall time: 263 ms\n"
          ]
        }
      ]
    },
    {
      "cell_type": "code",
      "source": [
        "df_diagnostico[:5]"
      ],
      "metadata": {
        "colab": {
          "base_uri": "https://localhost:8080/",
          "height": 206
        },
        "outputId": "eea3b8a3-df8c-4c3f-ce22-f595f21b146f",
        "id": "xp3kdkCL6Jb4"
      },
      "execution_count": 44,
      "outputs": [
        {
          "output_type": "execute_result",
          "data": {
            "text/plain": [
              "   Evolucao  Classificacao  Quantidade\n",
              "0         1              1       20544\n",
              "1         1              2       53053\n",
              "2         1              3        6655\n",
              "3         1              4      488757\n",
              "4         1              5      900844"
            ],
            "text/html": [
              "\n",
              "  <div id=\"df-c87128f7-1307-41ad-b207-b67186a15e3c\">\n",
              "    <div class=\"colab-df-container\">\n",
              "      <div>\n",
              "<style scoped>\n",
              "    .dataframe tbody tr th:only-of-type {\n",
              "        vertical-align: middle;\n",
              "    }\n",
              "\n",
              "    .dataframe tbody tr th {\n",
              "        vertical-align: top;\n",
              "    }\n",
              "\n",
              "    .dataframe thead th {\n",
              "        text-align: right;\n",
              "    }\n",
              "</style>\n",
              "<table border=\"1\" class=\"dataframe\">\n",
              "  <thead>\n",
              "    <tr style=\"text-align: right;\">\n",
              "      <th></th>\n",
              "      <th>Evolucao</th>\n",
              "      <th>Classificacao</th>\n",
              "      <th>Quantidade</th>\n",
              "    </tr>\n",
              "  </thead>\n",
              "  <tbody>\n",
              "    <tr>\n",
              "      <th>0</th>\n",
              "      <td>1</td>\n",
              "      <td>1</td>\n",
              "      <td>20544</td>\n",
              "    </tr>\n",
              "    <tr>\n",
              "      <th>1</th>\n",
              "      <td>1</td>\n",
              "      <td>2</td>\n",
              "      <td>53053</td>\n",
              "    </tr>\n",
              "    <tr>\n",
              "      <th>2</th>\n",
              "      <td>1</td>\n",
              "      <td>3</td>\n",
              "      <td>6655</td>\n",
              "    </tr>\n",
              "    <tr>\n",
              "      <th>3</th>\n",
              "      <td>1</td>\n",
              "      <td>4</td>\n",
              "      <td>488757</td>\n",
              "    </tr>\n",
              "    <tr>\n",
              "      <th>4</th>\n",
              "      <td>1</td>\n",
              "      <td>5</td>\n",
              "      <td>900844</td>\n",
              "    </tr>\n",
              "  </tbody>\n",
              "</table>\n",
              "</div>\n",
              "      <button class=\"colab-df-convert\" onclick=\"convertToInteractive('df-c87128f7-1307-41ad-b207-b67186a15e3c')\"\n",
              "              title=\"Convert this dataframe to an interactive table.\"\n",
              "              style=\"display:none;\">\n",
              "        \n",
              "  <svg xmlns=\"http://www.w3.org/2000/svg\" height=\"24px\"viewBox=\"0 0 24 24\"\n",
              "       width=\"24px\">\n",
              "    <path d=\"M0 0h24v24H0V0z\" fill=\"none\"/>\n",
              "    <path d=\"M18.56 5.44l.94 2.06.94-2.06 2.06-.94-2.06-.94-.94-2.06-.94 2.06-2.06.94zm-11 1L8.5 8.5l.94-2.06 2.06-.94-2.06-.94L8.5 2.5l-.94 2.06-2.06.94zm10 10l.94 2.06.94-2.06 2.06-.94-2.06-.94-.94-2.06-.94 2.06-2.06.94z\"/><path d=\"M17.41 7.96l-1.37-1.37c-.4-.4-.92-.59-1.43-.59-.52 0-1.04.2-1.43.59L10.3 9.45l-7.72 7.72c-.78.78-.78 2.05 0 2.83L4 21.41c.39.39.9.59 1.41.59.51 0 1.02-.2 1.41-.59l7.78-7.78 2.81-2.81c.8-.78.8-2.07 0-2.86zM5.41 20L4 18.59l7.72-7.72 1.47 1.35L5.41 20z\"/>\n",
              "  </svg>\n",
              "      </button>\n",
              "      \n",
              "  <style>\n",
              "    .colab-df-container {\n",
              "      display:flex;\n",
              "      flex-wrap:wrap;\n",
              "      gap: 12px;\n",
              "    }\n",
              "\n",
              "    .colab-df-convert {\n",
              "      background-color: #E8F0FE;\n",
              "      border: none;\n",
              "      border-radius: 50%;\n",
              "      cursor: pointer;\n",
              "      display: none;\n",
              "      fill: #1967D2;\n",
              "      height: 32px;\n",
              "      padding: 0 0 0 0;\n",
              "      width: 32px;\n",
              "    }\n",
              "\n",
              "    .colab-df-convert:hover {\n",
              "      background-color: #E2EBFA;\n",
              "      box-shadow: 0px 1px 2px rgba(60, 64, 67, 0.3), 0px 1px 3px 1px rgba(60, 64, 67, 0.15);\n",
              "      fill: #174EA6;\n",
              "    }\n",
              "\n",
              "    [theme=dark] .colab-df-convert {\n",
              "      background-color: #3B4455;\n",
              "      fill: #D2E3FC;\n",
              "    }\n",
              "\n",
              "    [theme=dark] .colab-df-convert:hover {\n",
              "      background-color: #434B5C;\n",
              "      box-shadow: 0px 1px 3px 1px rgba(0, 0, 0, 0.15);\n",
              "      filter: drop-shadow(0px 1px 2px rgba(0, 0, 0, 0.3));\n",
              "      fill: #FFFFFF;\n",
              "    }\n",
              "  </style>\n",
              "\n",
              "      <script>\n",
              "        const buttonEl =\n",
              "          document.querySelector('#df-c87128f7-1307-41ad-b207-b67186a15e3c button.colab-df-convert');\n",
              "        buttonEl.style.display =\n",
              "          google.colab.kernel.accessAllowed ? 'block' : 'none';\n",
              "\n",
              "        async function convertToInteractive(key) {\n",
              "          const element = document.querySelector('#df-c87128f7-1307-41ad-b207-b67186a15e3c');\n",
              "          const dataTable =\n",
              "            await google.colab.kernel.invokeFunction('convertToInteractive',\n",
              "                                                     [key], {});\n",
              "          if (!dataTable) return;\n",
              "\n",
              "          const docLinkHtml = 'Like what you see? Visit the ' +\n",
              "            '<a target=\"_blank\" href=https://colab.research.google.com/notebooks/data_table.ipynb>data table notebook</a>'\n",
              "            + ' to learn more about interactive tables.';\n",
              "          element.innerHTML = '';\n",
              "          dataTable['output_type'] = 'display_data';\n",
              "          await google.colab.output.renderOutput(dataTable, element);\n",
              "          const docLink = document.createElement('div');\n",
              "          docLink.innerHTML = docLinkHtml;\n",
              "          element.appendChild(docLink);\n",
              "        }\n",
              "      </script>\n",
              "    </div>\n",
              "  </div>\n",
              "  "
            ]
          },
          "metadata": {},
          "execution_count": 44
        }
      ]
    },
    {
      "cell_type": "code",
      "source": [
        "df_diagnostico.to_csv('/content/PJI410_diagnostico.csv', index=False)"
      ],
      "metadata": {
        "id": "8i90mxtU6Jb4"
      },
      "execution_count": 45,
      "outputs": []
    },
    {
      "cell_type": "markdown",
      "source": [
        "## Óbitos por COVID-19"
      ],
      "metadata": {
        "id": "iM338ebYhz4Z"
      }
    },
    {
      "cell_type": "code",
      "source": [
        "%%time\n",
        "\n",
        "df_obitos_covid = df[['SG_UF_NOT']][(df['EVOLUCAO'] == 2) & (df['CLASSI_FIN'] == 5)].value_counts().sort_index().reset_index()\n",
        "df_obitos_covid.columns = ['UF', 'Quantidade']\n",
        "df_obitos_covid['Por1000Hab'] = None\n",
        "\n",
        "for _, uf in df_populacao.iterrows():\n",
        "    for i, oc in df_obitos_covid[df_obitos_covid['UF'] == uf['UF']].iterrows():\n",
        "        df_obitos_covid.loc[i, 'Por1000Hab'] = oc['Quantidade'] / (uf['Populacao'] / 1000)"
      ],
      "metadata": {
        "id": "492kXNCihqxs",
        "colab": {
          "base_uri": "https://localhost:8080/"
        },
        "outputId": "3384122f-01dc-4889-cb14-07c3830440e3"
      },
      "execution_count": 46,
      "outputs": [
        {
          "output_type": "stream",
          "name": "stdout",
          "text": [
            "CPU times: user 190 ms, sys: 685 µs, total: 191 ms\n",
            "Wall time: 213 ms\n"
          ]
        }
      ]
    },
    {
      "cell_type": "code",
      "source": [
        "df_obitos_covid[:5]"
      ],
      "metadata": {
        "colab": {
          "base_uri": "https://localhost:8080/",
          "height": 206
        },
        "id": "l5HIaHOakvZ3",
        "outputId": "347ec313-cb7e-4bc5-f56e-959ce0bc2cc4"
      },
      "execution_count": 47,
      "outputs": [
        {
          "output_type": "execute_result",
          "data": {
            "text/plain": [
              "   UF  Quantidade Por1000Hab\n",
              "0  AC        1120   1.235009\n",
              "1  AL        4021   1.194823\n",
              "2  AM        7204   1.687121\n",
              "3  AP        1047   1.193009\n",
              "4  BA       16066   1.072118"
            ],
            "text/html": [
              "\n",
              "  <div id=\"df-0b24eb67-9ddf-4278-beb2-54fd025009c8\">\n",
              "    <div class=\"colab-df-container\">\n",
              "      <div>\n",
              "<style scoped>\n",
              "    .dataframe tbody tr th:only-of-type {\n",
              "        vertical-align: middle;\n",
              "    }\n",
              "\n",
              "    .dataframe tbody tr th {\n",
              "        vertical-align: top;\n",
              "    }\n",
              "\n",
              "    .dataframe thead th {\n",
              "        text-align: right;\n",
              "    }\n",
              "</style>\n",
              "<table border=\"1\" class=\"dataframe\">\n",
              "  <thead>\n",
              "    <tr style=\"text-align: right;\">\n",
              "      <th></th>\n",
              "      <th>UF</th>\n",
              "      <th>Quantidade</th>\n",
              "      <th>Por1000Hab</th>\n",
              "    </tr>\n",
              "  </thead>\n",
              "  <tbody>\n",
              "    <tr>\n",
              "      <th>0</th>\n",
              "      <td>AC</td>\n",
              "      <td>1120</td>\n",
              "      <td>1.235009</td>\n",
              "    </tr>\n",
              "    <tr>\n",
              "      <th>1</th>\n",
              "      <td>AL</td>\n",
              "      <td>4021</td>\n",
              "      <td>1.194823</td>\n",
              "    </tr>\n",
              "    <tr>\n",
              "      <th>2</th>\n",
              "      <td>AM</td>\n",
              "      <td>7204</td>\n",
              "      <td>1.687121</td>\n",
              "    </tr>\n",
              "    <tr>\n",
              "      <th>3</th>\n",
              "      <td>AP</td>\n",
              "      <td>1047</td>\n",
              "      <td>1.193009</td>\n",
              "    </tr>\n",
              "    <tr>\n",
              "      <th>4</th>\n",
              "      <td>BA</td>\n",
              "      <td>16066</td>\n",
              "      <td>1.072118</td>\n",
              "    </tr>\n",
              "  </tbody>\n",
              "</table>\n",
              "</div>\n",
              "      <button class=\"colab-df-convert\" onclick=\"convertToInteractive('df-0b24eb67-9ddf-4278-beb2-54fd025009c8')\"\n",
              "              title=\"Convert this dataframe to an interactive table.\"\n",
              "              style=\"display:none;\">\n",
              "        \n",
              "  <svg xmlns=\"http://www.w3.org/2000/svg\" height=\"24px\"viewBox=\"0 0 24 24\"\n",
              "       width=\"24px\">\n",
              "    <path d=\"M0 0h24v24H0V0z\" fill=\"none\"/>\n",
              "    <path d=\"M18.56 5.44l.94 2.06.94-2.06 2.06-.94-2.06-.94-.94-2.06-.94 2.06-2.06.94zm-11 1L8.5 8.5l.94-2.06 2.06-.94-2.06-.94L8.5 2.5l-.94 2.06-2.06.94zm10 10l.94 2.06.94-2.06 2.06-.94-2.06-.94-.94-2.06-.94 2.06-2.06.94z\"/><path d=\"M17.41 7.96l-1.37-1.37c-.4-.4-.92-.59-1.43-.59-.52 0-1.04.2-1.43.59L10.3 9.45l-7.72 7.72c-.78.78-.78 2.05 0 2.83L4 21.41c.39.39.9.59 1.41.59.51 0 1.02-.2 1.41-.59l7.78-7.78 2.81-2.81c.8-.78.8-2.07 0-2.86zM5.41 20L4 18.59l7.72-7.72 1.47 1.35L5.41 20z\"/>\n",
              "  </svg>\n",
              "      </button>\n",
              "      \n",
              "  <style>\n",
              "    .colab-df-container {\n",
              "      display:flex;\n",
              "      flex-wrap:wrap;\n",
              "      gap: 12px;\n",
              "    }\n",
              "\n",
              "    .colab-df-convert {\n",
              "      background-color: #E8F0FE;\n",
              "      border: none;\n",
              "      border-radius: 50%;\n",
              "      cursor: pointer;\n",
              "      display: none;\n",
              "      fill: #1967D2;\n",
              "      height: 32px;\n",
              "      padding: 0 0 0 0;\n",
              "      width: 32px;\n",
              "    }\n",
              "\n",
              "    .colab-df-convert:hover {\n",
              "      background-color: #E2EBFA;\n",
              "      box-shadow: 0px 1px 2px rgba(60, 64, 67, 0.3), 0px 1px 3px 1px rgba(60, 64, 67, 0.15);\n",
              "      fill: #174EA6;\n",
              "    }\n",
              "\n",
              "    [theme=dark] .colab-df-convert {\n",
              "      background-color: #3B4455;\n",
              "      fill: #D2E3FC;\n",
              "    }\n",
              "\n",
              "    [theme=dark] .colab-df-convert:hover {\n",
              "      background-color: #434B5C;\n",
              "      box-shadow: 0px 1px 3px 1px rgba(0, 0, 0, 0.15);\n",
              "      filter: drop-shadow(0px 1px 2px rgba(0, 0, 0, 0.3));\n",
              "      fill: #FFFFFF;\n",
              "    }\n",
              "  </style>\n",
              "\n",
              "      <script>\n",
              "        const buttonEl =\n",
              "          document.querySelector('#df-0b24eb67-9ddf-4278-beb2-54fd025009c8 button.colab-df-convert');\n",
              "        buttonEl.style.display =\n",
              "          google.colab.kernel.accessAllowed ? 'block' : 'none';\n",
              "\n",
              "        async function convertToInteractive(key) {\n",
              "          const element = document.querySelector('#df-0b24eb67-9ddf-4278-beb2-54fd025009c8');\n",
              "          const dataTable =\n",
              "            await google.colab.kernel.invokeFunction('convertToInteractive',\n",
              "                                                     [key], {});\n",
              "          if (!dataTable) return;\n",
              "\n",
              "          const docLinkHtml = 'Like what you see? Visit the ' +\n",
              "            '<a target=\"_blank\" href=https://colab.research.google.com/notebooks/data_table.ipynb>data table notebook</a>'\n",
              "            + ' to learn more about interactive tables.';\n",
              "          element.innerHTML = '';\n",
              "          dataTable['output_type'] = 'display_data';\n",
              "          await google.colab.output.renderOutput(dataTable, element);\n",
              "          const docLink = document.createElement('div');\n",
              "          docLink.innerHTML = docLinkHtml;\n",
              "          element.appendChild(docLink);\n",
              "        }\n",
              "      </script>\n",
              "    </div>\n",
              "  </div>\n",
              "  "
            ]
          },
          "metadata": {},
          "execution_count": 47
        }
      ]
    },
    {
      "cell_type": "code",
      "source": [
        "df_obitos_covid.to_csv('/content/PJI410_obitos_covid.csv', index=False)"
      ],
      "metadata": {
        "id": "VPX7zjhEpaQM"
      },
      "execution_count": 48,
      "outputs": []
    },
    {
      "cell_type": "markdown",
      "source": [
        "## Diferença média de dias entre primeiros sintomas e notificação"
      ],
      "metadata": {
        "id": "zK0yv98jkvw4"
      }
    },
    {
      "cell_type": "code",
      "source": [
        "%%time\n",
        "\n",
        "df_demora = df[['DT_SIN_PRI', 'DT_NOTIFIC']].sort_values(by=['DT_SIN_PRI', 'DT_NOTIFIC']).copy().reset_index(drop=True)\n",
        "df_demora['Dias'] = ((df_demora['DT_NOTIFIC'] - df_demora['DT_SIN_PRI']) / np.timedelta64(1, 'D')).astype(int)\n",
        "df_demora.drop(['DT_NOTIFIC'], axis=1, inplace=True)\n",
        "df_demora = df_demora.groupby(by=['DT_SIN_PRI']).mean().reset_index()\n",
        "\n",
        "for i, de in df_demora.iterrows():\n",
        "    df_demora.loc[i, 'Segunda-feira'] = de['DT_SIN_PRI'] - np.timedelta64(de['DT_SIN_PRI'].dayofweek, 'D')\n",
        "\n",
        "df_demora.drop(['DT_SIN_PRI'], axis=1, inplace=True)\n",
        "df_demora = df_demora.groupby(by=['Segunda-feira']).mean().reset_index()"
      ],
      "metadata": {
        "id": "zDxJ2QfMKCfp",
        "colab": {
          "base_uri": "https://localhost:8080/"
        },
        "outputId": "cc55d8e0-a927-4ba6-bd25-da36052f7bbb"
      },
      "execution_count": 49,
      "outputs": [
        {
          "output_type": "stream",
          "name": "stdout",
          "text": [
            "CPU times: user 892 ms, sys: 7.49 ms, total: 900 ms\n",
            "Wall time: 958 ms\n"
          ]
        }
      ]
    },
    {
      "cell_type": "code",
      "source": [
        "df_demora[:5]"
      ],
      "metadata": {
        "colab": {
          "base_uri": "https://localhost:8080/",
          "height": 206
        },
        "id": "bjcSRuxJkxya",
        "outputId": "8f689b66-3316-4adb-bad3-ad611c78d600"
      },
      "execution_count": 50,
      "outputs": [
        {
          "output_type": "execute_result",
          "data": {
            "text/plain": [
              "  Segunda-feira       Dias\n",
              "0    2020-12-28  12.895810\n",
              "1    2021-01-04  12.172168\n",
              "2    2021-01-11  12.744625\n",
              "3    2021-01-18  12.643144\n",
              "4    2021-01-25  13.973033"
            ],
            "text/html": [
              "\n",
              "  <div id=\"df-16453f7b-186a-4c7b-b0ec-84cfc026dc6e\">\n",
              "    <div class=\"colab-df-container\">\n",
              "      <div>\n",
              "<style scoped>\n",
              "    .dataframe tbody tr th:only-of-type {\n",
              "        vertical-align: middle;\n",
              "    }\n",
              "\n",
              "    .dataframe tbody tr th {\n",
              "        vertical-align: top;\n",
              "    }\n",
              "\n",
              "    .dataframe thead th {\n",
              "        text-align: right;\n",
              "    }\n",
              "</style>\n",
              "<table border=\"1\" class=\"dataframe\">\n",
              "  <thead>\n",
              "    <tr style=\"text-align: right;\">\n",
              "      <th></th>\n",
              "      <th>Segunda-feira</th>\n",
              "      <th>Dias</th>\n",
              "    </tr>\n",
              "  </thead>\n",
              "  <tbody>\n",
              "    <tr>\n",
              "      <th>0</th>\n",
              "      <td>2020-12-28</td>\n",
              "      <td>12.895810</td>\n",
              "    </tr>\n",
              "    <tr>\n",
              "      <th>1</th>\n",
              "      <td>2021-01-04</td>\n",
              "      <td>12.172168</td>\n",
              "    </tr>\n",
              "    <tr>\n",
              "      <th>2</th>\n",
              "      <td>2021-01-11</td>\n",
              "      <td>12.744625</td>\n",
              "    </tr>\n",
              "    <tr>\n",
              "      <th>3</th>\n",
              "      <td>2021-01-18</td>\n",
              "      <td>12.643144</td>\n",
              "    </tr>\n",
              "    <tr>\n",
              "      <th>4</th>\n",
              "      <td>2021-01-25</td>\n",
              "      <td>13.973033</td>\n",
              "    </tr>\n",
              "  </tbody>\n",
              "</table>\n",
              "</div>\n",
              "      <button class=\"colab-df-convert\" onclick=\"convertToInteractive('df-16453f7b-186a-4c7b-b0ec-84cfc026dc6e')\"\n",
              "              title=\"Convert this dataframe to an interactive table.\"\n",
              "              style=\"display:none;\">\n",
              "        \n",
              "  <svg xmlns=\"http://www.w3.org/2000/svg\" height=\"24px\"viewBox=\"0 0 24 24\"\n",
              "       width=\"24px\">\n",
              "    <path d=\"M0 0h24v24H0V0z\" fill=\"none\"/>\n",
              "    <path d=\"M18.56 5.44l.94 2.06.94-2.06 2.06-.94-2.06-.94-.94-2.06-.94 2.06-2.06.94zm-11 1L8.5 8.5l.94-2.06 2.06-.94-2.06-.94L8.5 2.5l-.94 2.06-2.06.94zm10 10l.94 2.06.94-2.06 2.06-.94-2.06-.94-.94-2.06-.94 2.06-2.06.94z\"/><path d=\"M17.41 7.96l-1.37-1.37c-.4-.4-.92-.59-1.43-.59-.52 0-1.04.2-1.43.59L10.3 9.45l-7.72 7.72c-.78.78-.78 2.05 0 2.83L4 21.41c.39.39.9.59 1.41.59.51 0 1.02-.2 1.41-.59l7.78-7.78 2.81-2.81c.8-.78.8-2.07 0-2.86zM5.41 20L4 18.59l7.72-7.72 1.47 1.35L5.41 20z\"/>\n",
              "  </svg>\n",
              "      </button>\n",
              "      \n",
              "  <style>\n",
              "    .colab-df-container {\n",
              "      display:flex;\n",
              "      flex-wrap:wrap;\n",
              "      gap: 12px;\n",
              "    }\n",
              "\n",
              "    .colab-df-convert {\n",
              "      background-color: #E8F0FE;\n",
              "      border: none;\n",
              "      border-radius: 50%;\n",
              "      cursor: pointer;\n",
              "      display: none;\n",
              "      fill: #1967D2;\n",
              "      height: 32px;\n",
              "      padding: 0 0 0 0;\n",
              "      width: 32px;\n",
              "    }\n",
              "\n",
              "    .colab-df-convert:hover {\n",
              "      background-color: #E2EBFA;\n",
              "      box-shadow: 0px 1px 2px rgba(60, 64, 67, 0.3), 0px 1px 3px 1px rgba(60, 64, 67, 0.15);\n",
              "      fill: #174EA6;\n",
              "    }\n",
              "\n",
              "    [theme=dark] .colab-df-convert {\n",
              "      background-color: #3B4455;\n",
              "      fill: #D2E3FC;\n",
              "    }\n",
              "\n",
              "    [theme=dark] .colab-df-convert:hover {\n",
              "      background-color: #434B5C;\n",
              "      box-shadow: 0px 1px 3px 1px rgba(0, 0, 0, 0.15);\n",
              "      filter: drop-shadow(0px 1px 2px rgba(0, 0, 0, 0.3));\n",
              "      fill: #FFFFFF;\n",
              "    }\n",
              "  </style>\n",
              "\n",
              "      <script>\n",
              "        const buttonEl =\n",
              "          document.querySelector('#df-16453f7b-186a-4c7b-b0ec-84cfc026dc6e button.colab-df-convert');\n",
              "        buttonEl.style.display =\n",
              "          google.colab.kernel.accessAllowed ? 'block' : 'none';\n",
              "\n",
              "        async function convertToInteractive(key) {\n",
              "          const element = document.querySelector('#df-16453f7b-186a-4c7b-b0ec-84cfc026dc6e');\n",
              "          const dataTable =\n",
              "            await google.colab.kernel.invokeFunction('convertToInteractive',\n",
              "                                                     [key], {});\n",
              "          if (!dataTable) return;\n",
              "\n",
              "          const docLinkHtml = 'Like what you see? Visit the ' +\n",
              "            '<a target=\"_blank\" href=https://colab.research.google.com/notebooks/data_table.ipynb>data table notebook</a>'\n",
              "            + ' to learn more about interactive tables.';\n",
              "          element.innerHTML = '';\n",
              "          dataTable['output_type'] = 'display_data';\n",
              "          await google.colab.output.renderOutput(dataTable, element);\n",
              "          const docLink = document.createElement('div');\n",
              "          docLink.innerHTML = docLinkHtml;\n",
              "          element.appendChild(docLink);\n",
              "        }\n",
              "      </script>\n",
              "    </div>\n",
              "  </div>\n",
              "  "
            ]
          },
          "metadata": {},
          "execution_count": 50
        }
      ]
    },
    {
      "cell_type": "code",
      "source": [
        "df_demora.to_csv('/content/PJI410_demora.csv', index=False)"
      ],
      "metadata": {
        "id": "n6Q_GkT8piFZ"
      },
      "execution_count": 51,
      "outputs": []
    },
    {
      "cell_type": "markdown",
      "source": [
        "## Média de notificações por semana por raça"
      ],
      "metadata": {
        "id": "PCGCkWaukXne"
      }
    },
    {
      "cell_type": "code",
      "source": [
        "%%time\n",
        "\n",
        "df_raca = df[['DT_NOTIFIC', 'CS_RACA']][df['CS_RACA'].isin(RACAS.keys())].value_counts().sort_index().reset_index()\n",
        "df_raca.columns = ['Data', 'Raca', 'Quantidade']\n",
        "\n",
        "for i, da in df_raca.iterrows():\n",
        "    df_raca.loc[i, 'Segunda-feira'] = da['Data'] - np.timedelta64(da['Data'].dayofweek, 'D')\n",
        "\n",
        "df_raca.drop(['Data'], axis=1, inplace=True)\n",
        "df_raca = df_raca.groupby(by=['Segunda-feira', 'Raca']).mean().reset_index()"
      ],
      "metadata": {
        "id": "0F8Xuu4gkXne",
        "colab": {
          "base_uri": "https://localhost:8080/"
        },
        "outputId": "e9b0eeae-1537-4a97-f10c-4710ed83a807"
      },
      "execution_count": 52,
      "outputs": [
        {
          "output_type": "stream",
          "name": "stdout",
          "text": [
            "CPU times: user 1.04 s, sys: 1.74 ms, total: 1.04 s\n",
            "Wall time: 1.04 s\n"
          ]
        }
      ]
    },
    {
      "cell_type": "code",
      "source": [
        "df_raca[:5]"
      ],
      "metadata": {
        "colab": {
          "base_uri": "https://localhost:8080/",
          "height": 206
        },
        "id": "ZbcI4vGGk0MP",
        "outputId": "07ddd71d-47cc-464b-e511-a86d1ef90f96"
      },
      "execution_count": 53,
      "outputs": [
        {
          "output_type": "execute_result",
          "data": {
            "text/plain": [
              "  Segunda-feira  Raca  Quantidade\n",
              "0    2020-12-28     1   76.000000\n",
              "1    2020-12-28     2    7.000000\n",
              "2    2020-12-28     3    2.000000\n",
              "3    2020-12-28     4   69.000000\n",
              "4    2021-01-04     1  607.285714"
            ],
            "text/html": [
              "\n",
              "  <div id=\"df-668bade1-e8ac-40d9-bcf3-796ffb74c4c9\">\n",
              "    <div class=\"colab-df-container\">\n",
              "      <div>\n",
              "<style scoped>\n",
              "    .dataframe tbody tr th:only-of-type {\n",
              "        vertical-align: middle;\n",
              "    }\n",
              "\n",
              "    .dataframe tbody tr th {\n",
              "        vertical-align: top;\n",
              "    }\n",
              "\n",
              "    .dataframe thead th {\n",
              "        text-align: right;\n",
              "    }\n",
              "</style>\n",
              "<table border=\"1\" class=\"dataframe\">\n",
              "  <thead>\n",
              "    <tr style=\"text-align: right;\">\n",
              "      <th></th>\n",
              "      <th>Segunda-feira</th>\n",
              "      <th>Raca</th>\n",
              "      <th>Quantidade</th>\n",
              "    </tr>\n",
              "  </thead>\n",
              "  <tbody>\n",
              "    <tr>\n",
              "      <th>0</th>\n",
              "      <td>2020-12-28</td>\n",
              "      <td>1</td>\n",
              "      <td>76.000000</td>\n",
              "    </tr>\n",
              "    <tr>\n",
              "      <th>1</th>\n",
              "      <td>2020-12-28</td>\n",
              "      <td>2</td>\n",
              "      <td>7.000000</td>\n",
              "    </tr>\n",
              "    <tr>\n",
              "      <th>2</th>\n",
              "      <td>2020-12-28</td>\n",
              "      <td>3</td>\n",
              "      <td>2.000000</td>\n",
              "    </tr>\n",
              "    <tr>\n",
              "      <th>3</th>\n",
              "      <td>2020-12-28</td>\n",
              "      <td>4</td>\n",
              "      <td>69.000000</td>\n",
              "    </tr>\n",
              "    <tr>\n",
              "      <th>4</th>\n",
              "      <td>2021-01-04</td>\n",
              "      <td>1</td>\n",
              "      <td>607.285714</td>\n",
              "    </tr>\n",
              "  </tbody>\n",
              "</table>\n",
              "</div>\n",
              "      <button class=\"colab-df-convert\" onclick=\"convertToInteractive('df-668bade1-e8ac-40d9-bcf3-796ffb74c4c9')\"\n",
              "              title=\"Convert this dataframe to an interactive table.\"\n",
              "              style=\"display:none;\">\n",
              "        \n",
              "  <svg xmlns=\"http://www.w3.org/2000/svg\" height=\"24px\"viewBox=\"0 0 24 24\"\n",
              "       width=\"24px\">\n",
              "    <path d=\"M0 0h24v24H0V0z\" fill=\"none\"/>\n",
              "    <path d=\"M18.56 5.44l.94 2.06.94-2.06 2.06-.94-2.06-.94-.94-2.06-.94 2.06-2.06.94zm-11 1L8.5 8.5l.94-2.06 2.06-.94-2.06-.94L8.5 2.5l-.94 2.06-2.06.94zm10 10l.94 2.06.94-2.06 2.06-.94-2.06-.94-.94-2.06-.94 2.06-2.06.94z\"/><path d=\"M17.41 7.96l-1.37-1.37c-.4-.4-.92-.59-1.43-.59-.52 0-1.04.2-1.43.59L10.3 9.45l-7.72 7.72c-.78.78-.78 2.05 0 2.83L4 21.41c.39.39.9.59 1.41.59.51 0 1.02-.2 1.41-.59l7.78-7.78 2.81-2.81c.8-.78.8-2.07 0-2.86zM5.41 20L4 18.59l7.72-7.72 1.47 1.35L5.41 20z\"/>\n",
              "  </svg>\n",
              "      </button>\n",
              "      \n",
              "  <style>\n",
              "    .colab-df-container {\n",
              "      display:flex;\n",
              "      flex-wrap:wrap;\n",
              "      gap: 12px;\n",
              "    }\n",
              "\n",
              "    .colab-df-convert {\n",
              "      background-color: #E8F0FE;\n",
              "      border: none;\n",
              "      border-radius: 50%;\n",
              "      cursor: pointer;\n",
              "      display: none;\n",
              "      fill: #1967D2;\n",
              "      height: 32px;\n",
              "      padding: 0 0 0 0;\n",
              "      width: 32px;\n",
              "    }\n",
              "\n",
              "    .colab-df-convert:hover {\n",
              "      background-color: #E2EBFA;\n",
              "      box-shadow: 0px 1px 2px rgba(60, 64, 67, 0.3), 0px 1px 3px 1px rgba(60, 64, 67, 0.15);\n",
              "      fill: #174EA6;\n",
              "    }\n",
              "\n",
              "    [theme=dark] .colab-df-convert {\n",
              "      background-color: #3B4455;\n",
              "      fill: #D2E3FC;\n",
              "    }\n",
              "\n",
              "    [theme=dark] .colab-df-convert:hover {\n",
              "      background-color: #434B5C;\n",
              "      box-shadow: 0px 1px 3px 1px rgba(0, 0, 0, 0.15);\n",
              "      filter: drop-shadow(0px 1px 2px rgba(0, 0, 0, 0.3));\n",
              "      fill: #FFFFFF;\n",
              "    }\n",
              "  </style>\n",
              "\n",
              "      <script>\n",
              "        const buttonEl =\n",
              "          document.querySelector('#df-668bade1-e8ac-40d9-bcf3-796ffb74c4c9 button.colab-df-convert');\n",
              "        buttonEl.style.display =\n",
              "          google.colab.kernel.accessAllowed ? 'block' : 'none';\n",
              "\n",
              "        async function convertToInteractive(key) {\n",
              "          const element = document.querySelector('#df-668bade1-e8ac-40d9-bcf3-796ffb74c4c9');\n",
              "          const dataTable =\n",
              "            await google.colab.kernel.invokeFunction('convertToInteractive',\n",
              "                                                     [key], {});\n",
              "          if (!dataTable) return;\n",
              "\n",
              "          const docLinkHtml = 'Like what you see? Visit the ' +\n",
              "            '<a target=\"_blank\" href=https://colab.research.google.com/notebooks/data_table.ipynb>data table notebook</a>'\n",
              "            + ' to learn more about interactive tables.';\n",
              "          element.innerHTML = '';\n",
              "          dataTable['output_type'] = 'display_data';\n",
              "          await google.colab.output.renderOutput(dataTable, element);\n",
              "          const docLink = document.createElement('div');\n",
              "          docLink.innerHTML = docLinkHtml;\n",
              "          element.appendChild(docLink);\n",
              "        }\n",
              "      </script>\n",
              "    </div>\n",
              "  </div>\n",
              "  "
            ]
          },
          "metadata": {},
          "execution_count": 53
        }
      ]
    },
    {
      "cell_type": "code",
      "source": [
        "df_raca.to_csv('/content/PJI410_raca.csv', index=False)"
      ],
      "metadata": {
        "id": "c5aKh3ANpm30"
      },
      "execution_count": 54,
      "outputs": []
    },
    {
      "cell_type": "markdown",
      "source": [
        "## Média de notificações por semana por escolaridade"
      ],
      "metadata": {
        "id": "Jmib0yo030Cn"
      }
    },
    {
      "cell_type": "code",
      "source": [
        "%%time\n",
        "\n",
        "df_escolaridade = df[['DT_NOTIFIC', 'CS_ESCOL_N']][df['CS_ESCOL_N'].isin(ESCOLARIDADES.keys())].value_counts().sort_index().reset_index()\n",
        "df_escolaridade.columns = ['Data', 'Escolaridade', 'Quantidade']\n",
        "\n",
        "for i, da in df_escolaridade.iterrows():\n",
        "    df_escolaridade.loc[i, 'Segunda-feira'] = da['Data'] - np.timedelta64(da['Data'].dayofweek, 'D')\n",
        "\n",
        "df_escolaridade.drop(['Data'], axis=1, inplace=True)\n",
        "df_escolaridade = df_escolaridade.groupby(by=['Segunda-feira', 'Escolaridade']).mean().reset_index()"
      ],
      "metadata": {
        "id": "r2p51Toh30Ct",
        "colab": {
          "base_uri": "https://localhost:8080/"
        },
        "outputId": "b8de0658-6aa8-453e-d38d-d494a0ea41fc"
      },
      "execution_count": 55,
      "outputs": [
        {
          "output_type": "stream",
          "name": "stdout",
          "text": [
            "CPU times: user 961 ms, sys: 4.72 ms, total: 965 ms\n",
            "Wall time: 970 ms\n"
          ]
        }
      ]
    },
    {
      "cell_type": "code",
      "source": [
        "df_escolaridade[:5]"
      ],
      "metadata": {
        "colab": {
          "base_uri": "https://localhost:8080/",
          "height": 206
        },
        "id": "eVG7sQHkk2Ld",
        "outputId": "33df6411-4514-42f8-a0f7-ad115d819ede"
      },
      "execution_count": 56,
      "outputs": [
        {
          "output_type": "execute_result",
          "data": {
            "text/plain": [
              "  Segunda-feira  Escolaridade  Quantidade\n",
              "0    2020-12-28             0         6.0\n",
              "1    2020-12-28             1        18.0\n",
              "2    2020-12-28             2        11.0\n",
              "3    2020-12-28             3        17.0\n",
              "4    2020-12-28             4         4.0"
            ],
            "text/html": [
              "\n",
              "  <div id=\"df-78f3c25f-6bb8-48df-8f44-10ade9f3eda0\">\n",
              "    <div class=\"colab-df-container\">\n",
              "      <div>\n",
              "<style scoped>\n",
              "    .dataframe tbody tr th:only-of-type {\n",
              "        vertical-align: middle;\n",
              "    }\n",
              "\n",
              "    .dataframe tbody tr th {\n",
              "        vertical-align: top;\n",
              "    }\n",
              "\n",
              "    .dataframe thead th {\n",
              "        text-align: right;\n",
              "    }\n",
              "</style>\n",
              "<table border=\"1\" class=\"dataframe\">\n",
              "  <thead>\n",
              "    <tr style=\"text-align: right;\">\n",
              "      <th></th>\n",
              "      <th>Segunda-feira</th>\n",
              "      <th>Escolaridade</th>\n",
              "      <th>Quantidade</th>\n",
              "    </tr>\n",
              "  </thead>\n",
              "  <tbody>\n",
              "    <tr>\n",
              "      <th>0</th>\n",
              "      <td>2020-12-28</td>\n",
              "      <td>0</td>\n",
              "      <td>6.0</td>\n",
              "    </tr>\n",
              "    <tr>\n",
              "      <th>1</th>\n",
              "      <td>2020-12-28</td>\n",
              "      <td>1</td>\n",
              "      <td>18.0</td>\n",
              "    </tr>\n",
              "    <tr>\n",
              "      <th>2</th>\n",
              "      <td>2020-12-28</td>\n",
              "      <td>2</td>\n",
              "      <td>11.0</td>\n",
              "    </tr>\n",
              "    <tr>\n",
              "      <th>3</th>\n",
              "      <td>2020-12-28</td>\n",
              "      <td>3</td>\n",
              "      <td>17.0</td>\n",
              "    </tr>\n",
              "    <tr>\n",
              "      <th>4</th>\n",
              "      <td>2020-12-28</td>\n",
              "      <td>4</td>\n",
              "      <td>4.0</td>\n",
              "    </tr>\n",
              "  </tbody>\n",
              "</table>\n",
              "</div>\n",
              "      <button class=\"colab-df-convert\" onclick=\"convertToInteractive('df-78f3c25f-6bb8-48df-8f44-10ade9f3eda0')\"\n",
              "              title=\"Convert this dataframe to an interactive table.\"\n",
              "              style=\"display:none;\">\n",
              "        \n",
              "  <svg xmlns=\"http://www.w3.org/2000/svg\" height=\"24px\"viewBox=\"0 0 24 24\"\n",
              "       width=\"24px\">\n",
              "    <path d=\"M0 0h24v24H0V0z\" fill=\"none\"/>\n",
              "    <path d=\"M18.56 5.44l.94 2.06.94-2.06 2.06-.94-2.06-.94-.94-2.06-.94 2.06-2.06.94zm-11 1L8.5 8.5l.94-2.06 2.06-.94-2.06-.94L8.5 2.5l-.94 2.06-2.06.94zm10 10l.94 2.06.94-2.06 2.06-.94-2.06-.94-.94-2.06-.94 2.06-2.06.94z\"/><path d=\"M17.41 7.96l-1.37-1.37c-.4-.4-.92-.59-1.43-.59-.52 0-1.04.2-1.43.59L10.3 9.45l-7.72 7.72c-.78.78-.78 2.05 0 2.83L4 21.41c.39.39.9.59 1.41.59.51 0 1.02-.2 1.41-.59l7.78-7.78 2.81-2.81c.8-.78.8-2.07 0-2.86zM5.41 20L4 18.59l7.72-7.72 1.47 1.35L5.41 20z\"/>\n",
              "  </svg>\n",
              "      </button>\n",
              "      \n",
              "  <style>\n",
              "    .colab-df-container {\n",
              "      display:flex;\n",
              "      flex-wrap:wrap;\n",
              "      gap: 12px;\n",
              "    }\n",
              "\n",
              "    .colab-df-convert {\n",
              "      background-color: #E8F0FE;\n",
              "      border: none;\n",
              "      border-radius: 50%;\n",
              "      cursor: pointer;\n",
              "      display: none;\n",
              "      fill: #1967D2;\n",
              "      height: 32px;\n",
              "      padding: 0 0 0 0;\n",
              "      width: 32px;\n",
              "    }\n",
              "\n",
              "    .colab-df-convert:hover {\n",
              "      background-color: #E2EBFA;\n",
              "      box-shadow: 0px 1px 2px rgba(60, 64, 67, 0.3), 0px 1px 3px 1px rgba(60, 64, 67, 0.15);\n",
              "      fill: #174EA6;\n",
              "    }\n",
              "\n",
              "    [theme=dark] .colab-df-convert {\n",
              "      background-color: #3B4455;\n",
              "      fill: #D2E3FC;\n",
              "    }\n",
              "\n",
              "    [theme=dark] .colab-df-convert:hover {\n",
              "      background-color: #434B5C;\n",
              "      box-shadow: 0px 1px 3px 1px rgba(0, 0, 0, 0.15);\n",
              "      filter: drop-shadow(0px 1px 2px rgba(0, 0, 0, 0.3));\n",
              "      fill: #FFFFFF;\n",
              "    }\n",
              "  </style>\n",
              "\n",
              "      <script>\n",
              "        const buttonEl =\n",
              "          document.querySelector('#df-78f3c25f-6bb8-48df-8f44-10ade9f3eda0 button.colab-df-convert');\n",
              "        buttonEl.style.display =\n",
              "          google.colab.kernel.accessAllowed ? 'block' : 'none';\n",
              "\n",
              "        async function convertToInteractive(key) {\n",
              "          const element = document.querySelector('#df-78f3c25f-6bb8-48df-8f44-10ade9f3eda0');\n",
              "          const dataTable =\n",
              "            await google.colab.kernel.invokeFunction('convertToInteractive',\n",
              "                                                     [key], {});\n",
              "          if (!dataTable) return;\n",
              "\n",
              "          const docLinkHtml = 'Like what you see? Visit the ' +\n",
              "            '<a target=\"_blank\" href=https://colab.research.google.com/notebooks/data_table.ipynb>data table notebook</a>'\n",
              "            + ' to learn more about interactive tables.';\n",
              "          element.innerHTML = '';\n",
              "          dataTable['output_type'] = 'display_data';\n",
              "          await google.colab.output.renderOutput(dataTable, element);\n",
              "          const docLink = document.createElement('div');\n",
              "          docLink.innerHTML = docLinkHtml;\n",
              "          element.appendChild(docLink);\n",
              "        }\n",
              "      </script>\n",
              "    </div>\n",
              "  </div>\n",
              "  "
            ]
          },
          "metadata": {},
          "execution_count": 56
        }
      ]
    },
    {
      "cell_type": "code",
      "source": [
        "df_escolaridade.to_csv('/content/PJI410_escolaridade.csv', index=False)"
      ],
      "metadata": {
        "id": "9Fia-J32pqtd"
      },
      "execution_count": 57,
      "outputs": []
    },
    {
      "cell_type": "markdown",
      "source": [
        "## Média de notificações por semana por zona"
      ],
      "metadata": {
        "id": "Ua5Y9y4m30Gg"
      }
    },
    {
      "cell_type": "code",
      "source": [
        "%%time\n",
        "\n",
        "df_zona = df[['DT_NOTIFIC', 'CS_ZONA']][df['CS_ZONA'].isin(ZONAS.keys())].value_counts().sort_index().reset_index()\n",
        "df_zona.columns = ['Data', 'Zona', 'Quantidade']\n",
        "\n",
        "for i, da in df_zona.iterrows():\n",
        "    df_zona.loc[i, 'Segunda-feira'] = da['Data'] - np.timedelta64(da['Data'].dayofweek, 'D')\n",
        "\n",
        "df_zona.drop(['Data'], axis=1, inplace=True)\n",
        "df_zona = df_zona.groupby(by=['Segunda-feira', 'Zona']).mean().reset_index()"
      ],
      "metadata": {
        "id": "EZ1kEZBq30Gg",
        "colab": {
          "base_uri": "https://localhost:8080/"
        },
        "outputId": "339b7586-f087-4b65-f6e7-fab9a7065974"
      },
      "execution_count": 58,
      "outputs": [
        {
          "output_type": "stream",
          "name": "stdout",
          "text": [
            "CPU times: user 706 ms, sys: 2.68 ms, total: 709 ms\n",
            "Wall time: 716 ms\n"
          ]
        }
      ]
    },
    {
      "cell_type": "code",
      "source": [
        "df_zona[:5]"
      ],
      "metadata": {
        "colab": {
          "base_uri": "https://localhost:8080/",
          "height": 206
        },
        "id": "WGM1kWxsk5BL",
        "outputId": "67988289-083f-4fce-ba64-8c2d59e5e05d"
      },
      "execution_count": 59,
      "outputs": [
        {
          "output_type": "execute_result",
          "data": {
            "text/plain": [
              "  Segunda-feira  Zona   Quantidade\n",
              "0    2020-12-28     1   150.000000\n",
              "1    2020-12-28     2     5.000000\n",
              "2    2021-01-04     1  1210.428571\n",
              "3    2021-01-04     2    72.000000\n",
              "4    2021-01-04     3     6.571429"
            ],
            "text/html": [
              "\n",
              "  <div id=\"df-582ae4a8-56cd-4c4c-afcc-976aae4b38d7\">\n",
              "    <div class=\"colab-df-container\">\n",
              "      <div>\n",
              "<style scoped>\n",
              "    .dataframe tbody tr th:only-of-type {\n",
              "        vertical-align: middle;\n",
              "    }\n",
              "\n",
              "    .dataframe tbody tr th {\n",
              "        vertical-align: top;\n",
              "    }\n",
              "\n",
              "    .dataframe thead th {\n",
              "        text-align: right;\n",
              "    }\n",
              "</style>\n",
              "<table border=\"1\" class=\"dataframe\">\n",
              "  <thead>\n",
              "    <tr style=\"text-align: right;\">\n",
              "      <th></th>\n",
              "      <th>Segunda-feira</th>\n",
              "      <th>Zona</th>\n",
              "      <th>Quantidade</th>\n",
              "    </tr>\n",
              "  </thead>\n",
              "  <tbody>\n",
              "    <tr>\n",
              "      <th>0</th>\n",
              "      <td>2020-12-28</td>\n",
              "      <td>1</td>\n",
              "      <td>150.000000</td>\n",
              "    </tr>\n",
              "    <tr>\n",
              "      <th>1</th>\n",
              "      <td>2020-12-28</td>\n",
              "      <td>2</td>\n",
              "      <td>5.000000</td>\n",
              "    </tr>\n",
              "    <tr>\n",
              "      <th>2</th>\n",
              "      <td>2021-01-04</td>\n",
              "      <td>1</td>\n",
              "      <td>1210.428571</td>\n",
              "    </tr>\n",
              "    <tr>\n",
              "      <th>3</th>\n",
              "      <td>2021-01-04</td>\n",
              "      <td>2</td>\n",
              "      <td>72.000000</td>\n",
              "    </tr>\n",
              "    <tr>\n",
              "      <th>4</th>\n",
              "      <td>2021-01-04</td>\n",
              "      <td>3</td>\n",
              "      <td>6.571429</td>\n",
              "    </tr>\n",
              "  </tbody>\n",
              "</table>\n",
              "</div>\n",
              "      <button class=\"colab-df-convert\" onclick=\"convertToInteractive('df-582ae4a8-56cd-4c4c-afcc-976aae4b38d7')\"\n",
              "              title=\"Convert this dataframe to an interactive table.\"\n",
              "              style=\"display:none;\">\n",
              "        \n",
              "  <svg xmlns=\"http://www.w3.org/2000/svg\" height=\"24px\"viewBox=\"0 0 24 24\"\n",
              "       width=\"24px\">\n",
              "    <path d=\"M0 0h24v24H0V0z\" fill=\"none\"/>\n",
              "    <path d=\"M18.56 5.44l.94 2.06.94-2.06 2.06-.94-2.06-.94-.94-2.06-.94 2.06-2.06.94zm-11 1L8.5 8.5l.94-2.06 2.06-.94-2.06-.94L8.5 2.5l-.94 2.06-2.06.94zm10 10l.94 2.06.94-2.06 2.06-.94-2.06-.94-.94-2.06-.94 2.06-2.06.94z\"/><path d=\"M17.41 7.96l-1.37-1.37c-.4-.4-.92-.59-1.43-.59-.52 0-1.04.2-1.43.59L10.3 9.45l-7.72 7.72c-.78.78-.78 2.05 0 2.83L4 21.41c.39.39.9.59 1.41.59.51 0 1.02-.2 1.41-.59l7.78-7.78 2.81-2.81c.8-.78.8-2.07 0-2.86zM5.41 20L4 18.59l7.72-7.72 1.47 1.35L5.41 20z\"/>\n",
              "  </svg>\n",
              "      </button>\n",
              "      \n",
              "  <style>\n",
              "    .colab-df-container {\n",
              "      display:flex;\n",
              "      flex-wrap:wrap;\n",
              "      gap: 12px;\n",
              "    }\n",
              "\n",
              "    .colab-df-convert {\n",
              "      background-color: #E8F0FE;\n",
              "      border: none;\n",
              "      border-radius: 50%;\n",
              "      cursor: pointer;\n",
              "      display: none;\n",
              "      fill: #1967D2;\n",
              "      height: 32px;\n",
              "      padding: 0 0 0 0;\n",
              "      width: 32px;\n",
              "    }\n",
              "\n",
              "    .colab-df-convert:hover {\n",
              "      background-color: #E2EBFA;\n",
              "      box-shadow: 0px 1px 2px rgba(60, 64, 67, 0.3), 0px 1px 3px 1px rgba(60, 64, 67, 0.15);\n",
              "      fill: #174EA6;\n",
              "    }\n",
              "\n",
              "    [theme=dark] .colab-df-convert {\n",
              "      background-color: #3B4455;\n",
              "      fill: #D2E3FC;\n",
              "    }\n",
              "\n",
              "    [theme=dark] .colab-df-convert:hover {\n",
              "      background-color: #434B5C;\n",
              "      box-shadow: 0px 1px 3px 1px rgba(0, 0, 0, 0.15);\n",
              "      filter: drop-shadow(0px 1px 2px rgba(0, 0, 0, 0.3));\n",
              "      fill: #FFFFFF;\n",
              "    }\n",
              "  </style>\n",
              "\n",
              "      <script>\n",
              "        const buttonEl =\n",
              "          document.querySelector('#df-582ae4a8-56cd-4c4c-afcc-976aae4b38d7 button.colab-df-convert');\n",
              "        buttonEl.style.display =\n",
              "          google.colab.kernel.accessAllowed ? 'block' : 'none';\n",
              "\n",
              "        async function convertToInteractive(key) {\n",
              "          const element = document.querySelector('#df-582ae4a8-56cd-4c4c-afcc-976aae4b38d7');\n",
              "          const dataTable =\n",
              "            await google.colab.kernel.invokeFunction('convertToInteractive',\n",
              "                                                     [key], {});\n",
              "          if (!dataTable) return;\n",
              "\n",
              "          const docLinkHtml = 'Like what you see? Visit the ' +\n",
              "            '<a target=\"_blank\" href=https://colab.research.google.com/notebooks/data_table.ipynb>data table notebook</a>'\n",
              "            + ' to learn more about interactive tables.';\n",
              "          element.innerHTML = '';\n",
              "          dataTable['output_type'] = 'display_data';\n",
              "          await google.colab.output.renderOutput(dataTable, element);\n",
              "          const docLink = document.createElement('div');\n",
              "          docLink.innerHTML = docLinkHtml;\n",
              "          element.appendChild(docLink);\n",
              "        }\n",
              "      </script>\n",
              "    </div>\n",
              "  </div>\n",
              "  "
            ]
          },
          "metadata": {},
          "execution_count": 59
        }
      ]
    },
    {
      "cell_type": "code",
      "source": [
        "df_zona.to_csv('/content/PJI410_zona.csv', index=False)"
      ],
      "metadata": {
        "id": "z3UnVXYapxCk"
      },
      "execution_count": 60,
      "outputs": []
    },
    {
      "cell_type": "markdown",
      "source": [
        "## Média de dias hospitalizado ou internado em UTI"
      ],
      "metadata": {
        "id": "AdQoYCUtHFBx"
      }
    },
    {
      "cell_type": "code",
      "source": [
        "# Pacientes que foram internados em UTI mas é ignorado se foram hospitalizados.\n",
        "\n",
        "df[['HOSPITAL', 'UTI']][(df['UTI'] == 1) & (df['HOSPITAL'] != 1)].value_counts()"
      ],
      "metadata": {
        "colab": {
          "base_uri": "https://localhost:8080/"
        },
        "id": "4HwleUCzJkUR",
        "outputId": "a23ce7a1-eca1-4126-9722-ab50d57ad9a9"
      },
      "execution_count": 61,
      "outputs": [
        {
          "output_type": "execute_result",
          "data": {
            "text/plain": [
              "HOSPITAL  UTI\n",
              "9         1      5379\n",
              "dtype: int64"
            ]
          },
          "metadata": {},
          "execution_count": 61
        }
      ]
    },
    {
      "cell_type": "code",
      "source": [
        "%%time\n",
        "\n",
        "# Hospitalizados com data de internação e data de evolução (alta ou óbito).\n",
        "df_internacao = df[['DT_NOTIFIC', 'DT_INTERNA', 'DT_EVOLUCA']][(df['HOSPITAL'] == 1) & (~df['DT_INTERNA'].isna()) & (~df['DT_EVOLUCA'].isna())].sort_values(by=['DT_NOTIFIC', 'DT_INTERNA', 'DT_EVOLUCA']).copy().reset_index(drop=True)\n",
        "\n",
        "# Quantidade de dias hospitalizado. É adicionado um dia, pois tanto o dia de internação quanto o dia de evolução devem ser considerados.\n",
        "df_internacao['Dias'] = (((df_internacao['DT_EVOLUCA'] - df_internacao['DT_INTERNA']) / np.timedelta64(1, 'D')) + 1).astype(int)\n",
        "\n",
        "df_internacao.drop(['DT_INTERNA', 'DT_EVOLUCA'], axis=1, inplace=True)\n",
        "df_internacao = df_internacao.groupby(by=['DT_NOTIFIC']).mean().reset_index()\n",
        "\n",
        "for i, ho in df_internacao.iterrows():\n",
        "    df_internacao.loc[i, 'Segunda-feira'] = ho['DT_NOTIFIC'] - np.timedelta64(ho['DT_NOTIFIC'].dayofweek, 'D')\n",
        "\n",
        "df_internacao.drop(['DT_NOTIFIC'], axis=1, inplace=True)\n",
        "df_internacao = df_internacao.groupby(by=['Segunda-feira']).mean().reset_index()"
      ],
      "metadata": {
        "id": "6tCYVoobHcGR",
        "colab": {
          "base_uri": "https://localhost:8080/"
        },
        "outputId": "984b0fb1-29d0-4a1f-b044-8328db8eb2b6"
      },
      "execution_count": 62,
      "outputs": [
        {
          "output_type": "stream",
          "name": "stdout",
          "text": [
            "CPU times: user 731 ms, sys: 811 µs, total: 732 ms\n",
            "Wall time: 734 ms\n"
          ]
        }
      ]
    },
    {
      "cell_type": "code",
      "source": [
        "df_internacao[:5]"
      ],
      "metadata": {
        "colab": {
          "base_uri": "https://localhost:8080/",
          "height": 206
        },
        "id": "n3dpRk3Bk8oY",
        "outputId": "36c5df93-2b90-48b6-b7be-e25c6c149cee"
      },
      "execution_count": 63,
      "outputs": [
        {
          "output_type": "execute_result",
          "data": {
            "text/plain": [
              "  Segunda-feira       Dias\n",
              "0    2020-12-28  15.140845\n",
              "1    2021-01-04  13.343776\n",
              "2    2021-01-11  12.943433\n",
              "3    2021-01-18  13.009689\n",
              "4    2021-01-25  12.605600"
            ],
            "text/html": [
              "\n",
              "  <div id=\"df-ba9f23b7-9e34-4dc6-ba8b-3fea564a5f52\">\n",
              "    <div class=\"colab-df-container\">\n",
              "      <div>\n",
              "<style scoped>\n",
              "    .dataframe tbody tr th:only-of-type {\n",
              "        vertical-align: middle;\n",
              "    }\n",
              "\n",
              "    .dataframe tbody tr th {\n",
              "        vertical-align: top;\n",
              "    }\n",
              "\n",
              "    .dataframe thead th {\n",
              "        text-align: right;\n",
              "    }\n",
              "</style>\n",
              "<table border=\"1\" class=\"dataframe\">\n",
              "  <thead>\n",
              "    <tr style=\"text-align: right;\">\n",
              "      <th></th>\n",
              "      <th>Segunda-feira</th>\n",
              "      <th>Dias</th>\n",
              "    </tr>\n",
              "  </thead>\n",
              "  <tbody>\n",
              "    <tr>\n",
              "      <th>0</th>\n",
              "      <td>2020-12-28</td>\n",
              "      <td>15.140845</td>\n",
              "    </tr>\n",
              "    <tr>\n",
              "      <th>1</th>\n",
              "      <td>2021-01-04</td>\n",
              "      <td>13.343776</td>\n",
              "    </tr>\n",
              "    <tr>\n",
              "      <th>2</th>\n",
              "      <td>2021-01-11</td>\n",
              "      <td>12.943433</td>\n",
              "    </tr>\n",
              "    <tr>\n",
              "      <th>3</th>\n",
              "      <td>2021-01-18</td>\n",
              "      <td>13.009689</td>\n",
              "    </tr>\n",
              "    <tr>\n",
              "      <th>4</th>\n",
              "      <td>2021-01-25</td>\n",
              "      <td>12.605600</td>\n",
              "    </tr>\n",
              "  </tbody>\n",
              "</table>\n",
              "</div>\n",
              "      <button class=\"colab-df-convert\" onclick=\"convertToInteractive('df-ba9f23b7-9e34-4dc6-ba8b-3fea564a5f52')\"\n",
              "              title=\"Convert this dataframe to an interactive table.\"\n",
              "              style=\"display:none;\">\n",
              "        \n",
              "  <svg xmlns=\"http://www.w3.org/2000/svg\" height=\"24px\"viewBox=\"0 0 24 24\"\n",
              "       width=\"24px\">\n",
              "    <path d=\"M0 0h24v24H0V0z\" fill=\"none\"/>\n",
              "    <path d=\"M18.56 5.44l.94 2.06.94-2.06 2.06-.94-2.06-.94-.94-2.06-.94 2.06-2.06.94zm-11 1L8.5 8.5l.94-2.06 2.06-.94-2.06-.94L8.5 2.5l-.94 2.06-2.06.94zm10 10l.94 2.06.94-2.06 2.06-.94-2.06-.94-.94-2.06-.94 2.06-2.06.94z\"/><path d=\"M17.41 7.96l-1.37-1.37c-.4-.4-.92-.59-1.43-.59-.52 0-1.04.2-1.43.59L10.3 9.45l-7.72 7.72c-.78.78-.78 2.05 0 2.83L4 21.41c.39.39.9.59 1.41.59.51 0 1.02-.2 1.41-.59l7.78-7.78 2.81-2.81c.8-.78.8-2.07 0-2.86zM5.41 20L4 18.59l7.72-7.72 1.47 1.35L5.41 20z\"/>\n",
              "  </svg>\n",
              "      </button>\n",
              "      \n",
              "  <style>\n",
              "    .colab-df-container {\n",
              "      display:flex;\n",
              "      flex-wrap:wrap;\n",
              "      gap: 12px;\n",
              "    }\n",
              "\n",
              "    .colab-df-convert {\n",
              "      background-color: #E8F0FE;\n",
              "      border: none;\n",
              "      border-radius: 50%;\n",
              "      cursor: pointer;\n",
              "      display: none;\n",
              "      fill: #1967D2;\n",
              "      height: 32px;\n",
              "      padding: 0 0 0 0;\n",
              "      width: 32px;\n",
              "    }\n",
              "\n",
              "    .colab-df-convert:hover {\n",
              "      background-color: #E2EBFA;\n",
              "      box-shadow: 0px 1px 2px rgba(60, 64, 67, 0.3), 0px 1px 3px 1px rgba(60, 64, 67, 0.15);\n",
              "      fill: #174EA6;\n",
              "    }\n",
              "\n",
              "    [theme=dark] .colab-df-convert {\n",
              "      background-color: #3B4455;\n",
              "      fill: #D2E3FC;\n",
              "    }\n",
              "\n",
              "    [theme=dark] .colab-df-convert:hover {\n",
              "      background-color: #434B5C;\n",
              "      box-shadow: 0px 1px 3px 1px rgba(0, 0, 0, 0.15);\n",
              "      filter: drop-shadow(0px 1px 2px rgba(0, 0, 0, 0.3));\n",
              "      fill: #FFFFFF;\n",
              "    }\n",
              "  </style>\n",
              "\n",
              "      <script>\n",
              "        const buttonEl =\n",
              "          document.querySelector('#df-ba9f23b7-9e34-4dc6-ba8b-3fea564a5f52 button.colab-df-convert');\n",
              "        buttonEl.style.display =\n",
              "          google.colab.kernel.accessAllowed ? 'block' : 'none';\n",
              "\n",
              "        async function convertToInteractive(key) {\n",
              "          const element = document.querySelector('#df-ba9f23b7-9e34-4dc6-ba8b-3fea564a5f52');\n",
              "          const dataTable =\n",
              "            await google.colab.kernel.invokeFunction('convertToInteractive',\n",
              "                                                     [key], {});\n",
              "          if (!dataTable) return;\n",
              "\n",
              "          const docLinkHtml = 'Like what you see? Visit the ' +\n",
              "            '<a target=\"_blank\" href=https://colab.research.google.com/notebooks/data_table.ipynb>data table notebook</a>'\n",
              "            + ' to learn more about interactive tables.';\n",
              "          element.innerHTML = '';\n",
              "          dataTable['output_type'] = 'display_data';\n",
              "          await google.colab.output.renderOutput(dataTable, element);\n",
              "          const docLink = document.createElement('div');\n",
              "          docLink.innerHTML = docLinkHtml;\n",
              "          element.appendChild(docLink);\n",
              "        }\n",
              "      </script>\n",
              "    </div>\n",
              "  </div>\n",
              "  "
            ]
          },
          "metadata": {},
          "execution_count": 63
        }
      ]
    },
    {
      "cell_type": "code",
      "source": [
        "df_internacao.to_csv('/content/PJI410_internacao.csv', index=False)"
      ],
      "metadata": {
        "id": "ocNyju5Tp-LI"
      },
      "execution_count": 64,
      "outputs": []
    },
    {
      "cell_type": "code",
      "source": [
        "%%time\n",
        "\n",
        "# Internados em UTI com data de entrada e data de saída.\n",
        "df_uti = df[['DT_NOTIFIC', 'DT_ENTUTI', 'DT_SAIDUTI']][(df['HOSPITAL'] == 1) & (~df['DT_ENTUTI'].isna()) & (~df['DT_SAIDUTI'].isna())].sort_values(by=['DT_NOTIFIC', 'DT_ENTUTI', 'DT_SAIDUTI']).copy().reset_index(drop=True)\n",
        "\n",
        "# Quantidade de dias internado. É adicionado um dia, pois tanto o dia de entrada quanto o dia de saída devem ser considerados.\n",
        "df_uti['Dias'] = (((df_uti['DT_SAIDUTI'] - df_uti['DT_ENTUTI']) / np.timedelta64(1, 'D')) + 1).astype(int)\n",
        "\n",
        "df_uti.drop(['DT_ENTUTI', 'DT_SAIDUTI'], axis=1, inplace=True)\n",
        "df_uti = df_uti.groupby(by=['DT_NOTIFIC']).mean().reset_index()\n",
        "\n",
        "for i, ho in df_uti.iterrows():\n",
        "    df_uti.loc[i, 'Segunda-feira'] = ho['DT_NOTIFIC'] - np.timedelta64(ho['DT_NOTIFIC'].dayofweek, 'D')\n",
        "\n",
        "df_uti.drop(['DT_NOTIFIC'], axis=1, inplace=True)\n",
        "df_uti = df_uti.groupby(by=['Segunda-feira']).mean().reset_index()"
      ],
      "metadata": {
        "id": "-ULsjE3lNZJQ",
        "colab": {
          "base_uri": "https://localhost:8080/"
        },
        "outputId": "597f735a-f687-4137-9871-1a2b128c4cbc"
      },
      "execution_count": 65,
      "outputs": [
        {
          "output_type": "stream",
          "name": "stdout",
          "text": [
            "CPU times: user 331 ms, sys: 0 ns, total: 331 ms\n",
            "Wall time: 332 ms\n"
          ]
        }
      ]
    },
    {
      "cell_type": "code",
      "source": [
        "df_uti[:5]"
      ],
      "metadata": {
        "colab": {
          "base_uri": "https://localhost:8080/",
          "height": 206
        },
        "id": "zj5FhIqtk-x_",
        "outputId": "bfa0906d-c3fd-462d-b2ef-f2d4bde03575"
      },
      "execution_count": 66,
      "outputs": [
        {
          "output_type": "execute_result",
          "data": {
            "text/plain": [
              "  Segunda-feira       Dias\n",
              "0    2020-12-28  15.080000\n",
              "1    2021-01-04  11.030828\n",
              "2    2021-01-11  12.468667\n",
              "3    2021-01-18  12.454994\n",
              "4    2021-01-25  12.238010"
            ],
            "text/html": [
              "\n",
              "  <div id=\"df-12f4d9fe-4150-4a5e-9a48-241c0787ce90\">\n",
              "    <div class=\"colab-df-container\">\n",
              "      <div>\n",
              "<style scoped>\n",
              "    .dataframe tbody tr th:only-of-type {\n",
              "        vertical-align: middle;\n",
              "    }\n",
              "\n",
              "    .dataframe tbody tr th {\n",
              "        vertical-align: top;\n",
              "    }\n",
              "\n",
              "    .dataframe thead th {\n",
              "        text-align: right;\n",
              "    }\n",
              "</style>\n",
              "<table border=\"1\" class=\"dataframe\">\n",
              "  <thead>\n",
              "    <tr style=\"text-align: right;\">\n",
              "      <th></th>\n",
              "      <th>Segunda-feira</th>\n",
              "      <th>Dias</th>\n",
              "    </tr>\n",
              "  </thead>\n",
              "  <tbody>\n",
              "    <tr>\n",
              "      <th>0</th>\n",
              "      <td>2020-12-28</td>\n",
              "      <td>15.080000</td>\n",
              "    </tr>\n",
              "    <tr>\n",
              "      <th>1</th>\n",
              "      <td>2021-01-04</td>\n",
              "      <td>11.030828</td>\n",
              "    </tr>\n",
              "    <tr>\n",
              "      <th>2</th>\n",
              "      <td>2021-01-11</td>\n",
              "      <td>12.468667</td>\n",
              "    </tr>\n",
              "    <tr>\n",
              "      <th>3</th>\n",
              "      <td>2021-01-18</td>\n",
              "      <td>12.454994</td>\n",
              "    </tr>\n",
              "    <tr>\n",
              "      <th>4</th>\n",
              "      <td>2021-01-25</td>\n",
              "      <td>12.238010</td>\n",
              "    </tr>\n",
              "  </tbody>\n",
              "</table>\n",
              "</div>\n",
              "      <button class=\"colab-df-convert\" onclick=\"convertToInteractive('df-12f4d9fe-4150-4a5e-9a48-241c0787ce90')\"\n",
              "              title=\"Convert this dataframe to an interactive table.\"\n",
              "              style=\"display:none;\">\n",
              "        \n",
              "  <svg xmlns=\"http://www.w3.org/2000/svg\" height=\"24px\"viewBox=\"0 0 24 24\"\n",
              "       width=\"24px\">\n",
              "    <path d=\"M0 0h24v24H0V0z\" fill=\"none\"/>\n",
              "    <path d=\"M18.56 5.44l.94 2.06.94-2.06 2.06-.94-2.06-.94-.94-2.06-.94 2.06-2.06.94zm-11 1L8.5 8.5l.94-2.06 2.06-.94-2.06-.94L8.5 2.5l-.94 2.06-2.06.94zm10 10l.94 2.06.94-2.06 2.06-.94-2.06-.94-.94-2.06-.94 2.06-2.06.94z\"/><path d=\"M17.41 7.96l-1.37-1.37c-.4-.4-.92-.59-1.43-.59-.52 0-1.04.2-1.43.59L10.3 9.45l-7.72 7.72c-.78.78-.78 2.05 0 2.83L4 21.41c.39.39.9.59 1.41.59.51 0 1.02-.2 1.41-.59l7.78-7.78 2.81-2.81c.8-.78.8-2.07 0-2.86zM5.41 20L4 18.59l7.72-7.72 1.47 1.35L5.41 20z\"/>\n",
              "  </svg>\n",
              "      </button>\n",
              "      \n",
              "  <style>\n",
              "    .colab-df-container {\n",
              "      display:flex;\n",
              "      flex-wrap:wrap;\n",
              "      gap: 12px;\n",
              "    }\n",
              "\n",
              "    .colab-df-convert {\n",
              "      background-color: #E8F0FE;\n",
              "      border: none;\n",
              "      border-radius: 50%;\n",
              "      cursor: pointer;\n",
              "      display: none;\n",
              "      fill: #1967D2;\n",
              "      height: 32px;\n",
              "      padding: 0 0 0 0;\n",
              "      width: 32px;\n",
              "    }\n",
              "\n",
              "    .colab-df-convert:hover {\n",
              "      background-color: #E2EBFA;\n",
              "      box-shadow: 0px 1px 2px rgba(60, 64, 67, 0.3), 0px 1px 3px 1px rgba(60, 64, 67, 0.15);\n",
              "      fill: #174EA6;\n",
              "    }\n",
              "\n",
              "    [theme=dark] .colab-df-convert {\n",
              "      background-color: #3B4455;\n",
              "      fill: #D2E3FC;\n",
              "    }\n",
              "\n",
              "    [theme=dark] .colab-df-convert:hover {\n",
              "      background-color: #434B5C;\n",
              "      box-shadow: 0px 1px 3px 1px rgba(0, 0, 0, 0.15);\n",
              "      filter: drop-shadow(0px 1px 2px rgba(0, 0, 0, 0.3));\n",
              "      fill: #FFFFFF;\n",
              "    }\n",
              "  </style>\n",
              "\n",
              "      <script>\n",
              "        const buttonEl =\n",
              "          document.querySelector('#df-12f4d9fe-4150-4a5e-9a48-241c0787ce90 button.colab-df-convert');\n",
              "        buttonEl.style.display =\n",
              "          google.colab.kernel.accessAllowed ? 'block' : 'none';\n",
              "\n",
              "        async function convertToInteractive(key) {\n",
              "          const element = document.querySelector('#df-12f4d9fe-4150-4a5e-9a48-241c0787ce90');\n",
              "          const dataTable =\n",
              "            await google.colab.kernel.invokeFunction('convertToInteractive',\n",
              "                                                     [key], {});\n",
              "          if (!dataTable) return;\n",
              "\n",
              "          const docLinkHtml = 'Like what you see? Visit the ' +\n",
              "            '<a target=\"_blank\" href=https://colab.research.google.com/notebooks/data_table.ipynb>data table notebook</a>'\n",
              "            + ' to learn more about interactive tables.';\n",
              "          element.innerHTML = '';\n",
              "          dataTable['output_type'] = 'display_data';\n",
              "          await google.colab.output.renderOutput(dataTable, element);\n",
              "          const docLink = document.createElement('div');\n",
              "          docLink.innerHTML = docLinkHtml;\n",
              "          element.appendChild(docLink);\n",
              "        }\n",
              "      </script>\n",
              "    </div>\n",
              "  </div>\n",
              "  "
            ]
          },
          "metadata": {},
          "execution_count": 66
        }
      ]
    },
    {
      "cell_type": "code",
      "source": [
        "df_uti.to_csv('/content/PJI410_uti.csv', index=False)"
      ],
      "metadata": {
        "id": "jWkuoJZyqEoc"
      },
      "execution_count": 67,
      "outputs": []
    },
    {
      "cell_type": "markdown",
      "source": [
        "## Classificação sobre sintomas e fatores de risco, com EVOLUCAO como atributo alvo"
      ],
      "metadata": {
        "id": "S_VF5ZkVgCNV"
      }
    },
    {
      "cell_type": "code",
      "source": [
        "%%time\n",
        "\n",
        "campos  = ['FEBRE', 'TOSSE', 'GARGANTA', 'DISPNEIA', 'DESC_RESP', 'SATURACAO', 'DIARREIA', 'VOMITO',\n",
        "           'DOR_ABD', 'FADIGA', 'PERD_OLFT', 'PERD_PALA', 'OUTRO_SIN', 'PUERPERA', 'CARDIOPATI',\n",
        "           'HEMATOLOGI', 'SIND_DOWN', 'HEPATICA', 'ASMA', 'DIABETES', 'NEUROLOGIC', 'PNEUMOPATI',\n",
        "           'IMUNODEPRE', 'RENAL', 'OBESIDADE', 'OUT_MORBI', 'EVOLUCAO']\n",
        "\n",
        "filtros = [df[c].isin([1, 2]) for c in campos]  # Lista de filtros.\n",
        "filtro  = np.vstack(filtros).all(axis=0)        # Combina os resultados dos filtros em um único array.\n",
        "\n",
        "df_sintomas = df[campos][filtro].replace({2: 0}).astype('int').reset_index(drop=True)"
      ],
      "metadata": {
        "id": "uS2GPMxQfXBm",
        "colab": {
          "base_uri": "https://localhost:8080/"
        },
        "outputId": "52f5980e-04a7-44c9-990a-9303b9f30896"
      },
      "execution_count": 68,
      "outputs": [
        {
          "output_type": "stream",
          "name": "stdout",
          "text": [
            "CPU times: user 2.37 s, sys: 703 ms, total: 3.07 s\n",
            "Wall time: 3.08 s\n"
          ]
        }
      ]
    },
    {
      "cell_type": "code",
      "source": [
        "with pd.option_context('display.max_columns', None):\n",
        "    display(df_sintomas[:5])"
      ],
      "metadata": {
        "colab": {
          "base_uri": "https://localhost:8080/",
          "height": 270
        },
        "id": "QXNESAj1lL-O",
        "outputId": "d8ce550b-8046-48fe-c065-3aaf34676f7a"
      },
      "execution_count": 69,
      "outputs": [
        {
          "output_type": "display_data",
          "data": {
            "text/plain": [
              "   FEBRE  TOSSE  GARGANTA  DISPNEIA  DESC_RESP  SATURACAO  DIARREIA  VOMITO  \\\n",
              "0      1      1         1         1          1          1         0       0   \n",
              "1      1      1         0         1          1          1         0       0   \n",
              "2      1      1         0         1          0          0         0       1   \n",
              "3      0      1         0         1          0          1         0       0   \n",
              "4      0      0         0         1          1          1         0       0   \n",
              "\n",
              "   DOR_ABD  FADIGA  PERD_OLFT  PERD_PALA  OUTRO_SIN  PUERPERA  CARDIOPATI  \\\n",
              "0        0       1          0          0          1         0           1   \n",
              "1        0       0          0          0          0         0           1   \n",
              "2        1       1          0          0          1         0           0   \n",
              "3        0       0          0          0          0         0           1   \n",
              "4        0       0          0          0          1         0           0   \n",
              "\n",
              "   HEMATOLOGI  SIND_DOWN  HEPATICA  ASMA  DIABETES  NEUROLOGIC  PNEUMOPATI  \\\n",
              "0           0          0         0     0         0           0           0   \n",
              "1           0          0         0     0         0           0           0   \n",
              "2           0          0         0     0         0           0           0   \n",
              "3           0          0         0     0         1           1           0   \n",
              "4           0          0         0     0         0           0           0   \n",
              "\n",
              "   IMUNODEPRE  RENAL  OBESIDADE  OUT_MORBI  EVOLUCAO  \n",
              "0           0      0          0          1         0  \n",
              "1           0      0          0          0         1  \n",
              "2           0      0          0          1         1  \n",
              "3           0      0          0          0         0  \n",
              "4           0      0          0          1         1  "
            ],
            "text/html": [
              "\n",
              "  <div id=\"df-1d619932-b646-4738-82b4-d833eb2dfdd6\">\n",
              "    <div class=\"colab-df-container\">\n",
              "      <div>\n",
              "<style scoped>\n",
              "    .dataframe tbody tr th:only-of-type {\n",
              "        vertical-align: middle;\n",
              "    }\n",
              "\n",
              "    .dataframe tbody tr th {\n",
              "        vertical-align: top;\n",
              "    }\n",
              "\n",
              "    .dataframe thead th {\n",
              "        text-align: right;\n",
              "    }\n",
              "</style>\n",
              "<table border=\"1\" class=\"dataframe\">\n",
              "  <thead>\n",
              "    <tr style=\"text-align: right;\">\n",
              "      <th></th>\n",
              "      <th>FEBRE</th>\n",
              "      <th>TOSSE</th>\n",
              "      <th>GARGANTA</th>\n",
              "      <th>DISPNEIA</th>\n",
              "      <th>DESC_RESP</th>\n",
              "      <th>SATURACAO</th>\n",
              "      <th>DIARREIA</th>\n",
              "      <th>VOMITO</th>\n",
              "      <th>DOR_ABD</th>\n",
              "      <th>FADIGA</th>\n",
              "      <th>PERD_OLFT</th>\n",
              "      <th>PERD_PALA</th>\n",
              "      <th>OUTRO_SIN</th>\n",
              "      <th>PUERPERA</th>\n",
              "      <th>CARDIOPATI</th>\n",
              "      <th>HEMATOLOGI</th>\n",
              "      <th>SIND_DOWN</th>\n",
              "      <th>HEPATICA</th>\n",
              "      <th>ASMA</th>\n",
              "      <th>DIABETES</th>\n",
              "      <th>NEUROLOGIC</th>\n",
              "      <th>PNEUMOPATI</th>\n",
              "      <th>IMUNODEPRE</th>\n",
              "      <th>RENAL</th>\n",
              "      <th>OBESIDADE</th>\n",
              "      <th>OUT_MORBI</th>\n",
              "      <th>EVOLUCAO</th>\n",
              "    </tr>\n",
              "  </thead>\n",
              "  <tbody>\n",
              "    <tr>\n",
              "      <th>0</th>\n",
              "      <td>1</td>\n",
              "      <td>1</td>\n",
              "      <td>1</td>\n",
              "      <td>1</td>\n",
              "      <td>1</td>\n",
              "      <td>1</td>\n",
              "      <td>0</td>\n",
              "      <td>0</td>\n",
              "      <td>0</td>\n",
              "      <td>1</td>\n",
              "      <td>0</td>\n",
              "      <td>0</td>\n",
              "      <td>1</td>\n",
              "      <td>0</td>\n",
              "      <td>1</td>\n",
              "      <td>0</td>\n",
              "      <td>0</td>\n",
              "      <td>0</td>\n",
              "      <td>0</td>\n",
              "      <td>0</td>\n",
              "      <td>0</td>\n",
              "      <td>0</td>\n",
              "      <td>0</td>\n",
              "      <td>0</td>\n",
              "      <td>0</td>\n",
              "      <td>1</td>\n",
              "      <td>0</td>\n",
              "    </tr>\n",
              "    <tr>\n",
              "      <th>1</th>\n",
              "      <td>1</td>\n",
              "      <td>1</td>\n",
              "      <td>0</td>\n",
              "      <td>1</td>\n",
              "      <td>1</td>\n",
              "      <td>1</td>\n",
              "      <td>0</td>\n",
              "      <td>0</td>\n",
              "      <td>0</td>\n",
              "      <td>0</td>\n",
              "      <td>0</td>\n",
              "      <td>0</td>\n",
              "      <td>0</td>\n",
              "      <td>0</td>\n",
              "      <td>1</td>\n",
              "      <td>0</td>\n",
              "      <td>0</td>\n",
              "      <td>0</td>\n",
              "      <td>0</td>\n",
              "      <td>0</td>\n",
              "      <td>0</td>\n",
              "      <td>0</td>\n",
              "      <td>0</td>\n",
              "      <td>0</td>\n",
              "      <td>0</td>\n",
              "      <td>0</td>\n",
              "      <td>1</td>\n",
              "    </tr>\n",
              "    <tr>\n",
              "      <th>2</th>\n",
              "      <td>1</td>\n",
              "      <td>1</td>\n",
              "      <td>0</td>\n",
              "      <td>1</td>\n",
              "      <td>0</td>\n",
              "      <td>0</td>\n",
              "      <td>0</td>\n",
              "      <td>1</td>\n",
              "      <td>1</td>\n",
              "      <td>1</td>\n",
              "      <td>0</td>\n",
              "      <td>0</td>\n",
              "      <td>1</td>\n",
              "      <td>0</td>\n",
              "      <td>0</td>\n",
              "      <td>0</td>\n",
              "      <td>0</td>\n",
              "      <td>0</td>\n",
              "      <td>0</td>\n",
              "      <td>0</td>\n",
              "      <td>0</td>\n",
              "      <td>0</td>\n",
              "      <td>0</td>\n",
              "      <td>0</td>\n",
              "      <td>0</td>\n",
              "      <td>1</td>\n",
              "      <td>1</td>\n",
              "    </tr>\n",
              "    <tr>\n",
              "      <th>3</th>\n",
              "      <td>0</td>\n",
              "      <td>1</td>\n",
              "      <td>0</td>\n",
              "      <td>1</td>\n",
              "      <td>0</td>\n",
              "      <td>1</td>\n",
              "      <td>0</td>\n",
              "      <td>0</td>\n",
              "      <td>0</td>\n",
              "      <td>0</td>\n",
              "      <td>0</td>\n",
              "      <td>0</td>\n",
              "      <td>0</td>\n",
              "      <td>0</td>\n",
              "      <td>1</td>\n",
              "      <td>0</td>\n",
              "      <td>0</td>\n",
              "      <td>0</td>\n",
              "      <td>0</td>\n",
              "      <td>1</td>\n",
              "      <td>1</td>\n",
              "      <td>0</td>\n",
              "      <td>0</td>\n",
              "      <td>0</td>\n",
              "      <td>0</td>\n",
              "      <td>0</td>\n",
              "      <td>0</td>\n",
              "    </tr>\n",
              "    <tr>\n",
              "      <th>4</th>\n",
              "      <td>0</td>\n",
              "      <td>0</td>\n",
              "      <td>0</td>\n",
              "      <td>1</td>\n",
              "      <td>1</td>\n",
              "      <td>1</td>\n",
              "      <td>0</td>\n",
              "      <td>0</td>\n",
              "      <td>0</td>\n",
              "      <td>0</td>\n",
              "      <td>0</td>\n",
              "      <td>0</td>\n",
              "      <td>1</td>\n",
              "      <td>0</td>\n",
              "      <td>0</td>\n",
              "      <td>0</td>\n",
              "      <td>0</td>\n",
              "      <td>0</td>\n",
              "      <td>0</td>\n",
              "      <td>0</td>\n",
              "      <td>0</td>\n",
              "      <td>0</td>\n",
              "      <td>0</td>\n",
              "      <td>0</td>\n",
              "      <td>0</td>\n",
              "      <td>1</td>\n",
              "      <td>1</td>\n",
              "    </tr>\n",
              "  </tbody>\n",
              "</table>\n",
              "</div>\n",
              "      <button class=\"colab-df-convert\" onclick=\"convertToInteractive('df-1d619932-b646-4738-82b4-d833eb2dfdd6')\"\n",
              "              title=\"Convert this dataframe to an interactive table.\"\n",
              "              style=\"display:none;\">\n",
              "        \n",
              "  <svg xmlns=\"http://www.w3.org/2000/svg\" height=\"24px\"viewBox=\"0 0 24 24\"\n",
              "       width=\"24px\">\n",
              "    <path d=\"M0 0h24v24H0V0z\" fill=\"none\"/>\n",
              "    <path d=\"M18.56 5.44l.94 2.06.94-2.06 2.06-.94-2.06-.94-.94-2.06-.94 2.06-2.06.94zm-11 1L8.5 8.5l.94-2.06 2.06-.94-2.06-.94L8.5 2.5l-.94 2.06-2.06.94zm10 10l.94 2.06.94-2.06 2.06-.94-2.06-.94-.94-2.06-.94 2.06-2.06.94z\"/><path d=\"M17.41 7.96l-1.37-1.37c-.4-.4-.92-.59-1.43-.59-.52 0-1.04.2-1.43.59L10.3 9.45l-7.72 7.72c-.78.78-.78 2.05 0 2.83L4 21.41c.39.39.9.59 1.41.59.51 0 1.02-.2 1.41-.59l7.78-7.78 2.81-2.81c.8-.78.8-2.07 0-2.86zM5.41 20L4 18.59l7.72-7.72 1.47 1.35L5.41 20z\"/>\n",
              "  </svg>\n",
              "      </button>\n",
              "      \n",
              "  <style>\n",
              "    .colab-df-container {\n",
              "      display:flex;\n",
              "      flex-wrap:wrap;\n",
              "      gap: 12px;\n",
              "    }\n",
              "\n",
              "    .colab-df-convert {\n",
              "      background-color: #E8F0FE;\n",
              "      border: none;\n",
              "      border-radius: 50%;\n",
              "      cursor: pointer;\n",
              "      display: none;\n",
              "      fill: #1967D2;\n",
              "      height: 32px;\n",
              "      padding: 0 0 0 0;\n",
              "      width: 32px;\n",
              "    }\n",
              "\n",
              "    .colab-df-convert:hover {\n",
              "      background-color: #E2EBFA;\n",
              "      box-shadow: 0px 1px 2px rgba(60, 64, 67, 0.3), 0px 1px 3px 1px rgba(60, 64, 67, 0.15);\n",
              "      fill: #174EA6;\n",
              "    }\n",
              "\n",
              "    [theme=dark] .colab-df-convert {\n",
              "      background-color: #3B4455;\n",
              "      fill: #D2E3FC;\n",
              "    }\n",
              "\n",
              "    [theme=dark] .colab-df-convert:hover {\n",
              "      background-color: #434B5C;\n",
              "      box-shadow: 0px 1px 3px 1px rgba(0, 0, 0, 0.15);\n",
              "      filter: drop-shadow(0px 1px 2px rgba(0, 0, 0, 0.3));\n",
              "      fill: #FFFFFF;\n",
              "    }\n",
              "  </style>\n",
              "\n",
              "      <script>\n",
              "        const buttonEl =\n",
              "          document.querySelector('#df-1d619932-b646-4738-82b4-d833eb2dfdd6 button.colab-df-convert');\n",
              "        buttonEl.style.display =\n",
              "          google.colab.kernel.accessAllowed ? 'block' : 'none';\n",
              "\n",
              "        async function convertToInteractive(key) {\n",
              "          const element = document.querySelector('#df-1d619932-b646-4738-82b4-d833eb2dfdd6');\n",
              "          const dataTable =\n",
              "            await google.colab.kernel.invokeFunction('convertToInteractive',\n",
              "                                                     [key], {});\n",
              "          if (!dataTable) return;\n",
              "\n",
              "          const docLinkHtml = 'Like what you see? Visit the ' +\n",
              "            '<a target=\"_blank\" href=https://colab.research.google.com/notebooks/data_table.ipynb>data table notebook</a>'\n",
              "            + ' to learn more about interactive tables.';\n",
              "          element.innerHTML = '';\n",
              "          dataTable['output_type'] = 'display_data';\n",
              "          await google.colab.output.renderOutput(dataTable, element);\n",
              "          const docLink = document.createElement('div');\n",
              "          docLink.innerHTML = docLinkHtml;\n",
              "          element.appendChild(docLink);\n",
              "        }\n",
              "      </script>\n",
              "    </div>\n",
              "  </div>\n",
              "  "
            ]
          },
          "metadata": {}
        }
      ]
    },
    {
      "cell_type": "code",
      "source": [
        "df_sintomas.to_csv('/content/PJI410_sintomas.zip', index=False)"
      ],
      "metadata": {
        "id": "rRptGsyOqJyN"
      },
      "execution_count": 70,
      "outputs": []
    },
    {
      "cell_type": "markdown",
      "source": [
        "## Classificação sobre sintomas e fatores de risco, com CLASSI_FIN = 5 como atributo alvo"
      ],
      "metadata": {
        "id": "UwBO1RYcpFaR"
      }
    },
    {
      "cell_type": "code",
      "source": [
        "# %%time\n",
        "\n",
        "# campos = ['FEBRE', 'TOSSE', 'GARGANTA', 'DISPNEIA', 'DESC_RESP', 'SATURACAO', 'DIARREIA', 'VOMITO',\n",
        "#           'DOR_ABD', 'FADIGA', 'PERD_OLFT', 'PERD_PALA', 'OUTRO_SIN', 'FATOR_RISC', 'PUERPERA',\n",
        "#           'CARDIOPATI', 'HEMATOLOGI', 'SIND_DOWN', 'HEPATICA', 'ASMA', 'DIABETES', 'NEUROLOGIC',\n",
        "#           'PNEUMOPATI', 'IMUNODEPRE', 'RENAL', 'OBESIDADE', 'OUT_MORBI', 'CLASSI_FIN']\n",
        "\n",
        "# filtros = [df[c].isin([1, 2]) for c in campos[:-1]]\n",
        "# filtros.append(df['CLASSI_FIN'].isin(DIAGNOSTICOS.keys()))\n",
        "\n",
        "# filtro = np.vstack(filtros).all(axis=0)\n",
        "\n",
        "# df_sintomas_covid = df[campos][filtro].replace({2: 0}).astype('int').reset_index(drop=True)\n",
        "# df_sintomas_covid['CLASSI_FIN'].replace({1: 0, 3: 0, 4: 0, 5: 1}, inplace=True)\n",
        "# df_sintomas_covid.rename(columns={'CLASSI_FIN': 'COVID'}, inplace=True)"
      ],
      "metadata": {
        "id": "ilptIrvrpFaR"
      },
      "execution_count": 71,
      "outputs": []
    },
    {
      "cell_type": "code",
      "source": [
        "# with pd.option_context('display.max_columns', None):\n",
        "#     display(df_sintomas_covid[:5])"
      ],
      "metadata": {
        "id": "hXKXrtSKpFaR"
      },
      "execution_count": 72,
      "outputs": []
    },
    {
      "cell_type": "code",
      "source": [
        "# df_sintomas_covid.to_csv('/content/PJI410_sintomas_covid.zip', index=False)"
      ],
      "metadata": {
        "id": "ugWcgNI4szJP"
      },
      "execution_count": 73,
      "outputs": []
    },
    {
      "cell_type": "markdown",
      "source": [
        "## Quantidade de notificações por semana por unidade"
      ],
      "metadata": {
        "id": "EtrDV5Q1pBYV"
      }
    },
    {
      "cell_type": "code",
      "source": [
        "# %%time\n",
        "\n",
        "# df_notificacoes_por_unidade = df[['DT_NOTIFIC', 'SG_UF_NOT', 'CO_MUN_NOT', 'CO_UNI_NOT']].value_counts().sort_index().reset_index()\n",
        "# df_notificacoes_por_unidade.columns = ['Data', 'UF', 'Municipio', 'Unidade', 'Quantidade']\n",
        "\n",
        "# for i, nu in df_notificacoes_por_unidade.iterrows():\n",
        "#     df_notificacoes_por_unidade.loc[i, 'Segunda-feira'] = nu['Data'] - np.timedelta64(nu['Data'].dayofweek, 'D')\n",
        "\n",
        "# df_notificacoes_por_unidade.drop(['Data'], axis=1, inplace=True)\n",
        "# df_notificacoes_por_unidade = df_notificacoes_por_unidade.groupby(by=['Segunda-feira', 'UF', 'Municipio', 'Unidade']).sum().reset_index()"
      ],
      "metadata": {
        "id": "-8q_zLyWpIR3"
      },
      "execution_count": 74,
      "outputs": []
    },
    {
      "cell_type": "code",
      "source": [
        "# df_notificacoes_por_unidade[:5]"
      ],
      "metadata": {
        "id": "OaM_0XQHalWR"
      },
      "execution_count": 75,
      "outputs": []
    },
    {
      "cell_type": "code",
      "source": [
        "# df_notificacoes_por_unidade.to_csv('/content/PJI410_notificacoes_por_unidade.zip', index=False)"
      ],
      "metadata": {
        "id": "O2jNI7NcoLsR"
      },
      "execution_count": 76,
      "outputs": []
    },
    {
      "cell_type": "markdown",
      "source": [
        "## Quantidade de notificações por semana por município"
      ],
      "metadata": {
        "id": "fkK_EGxNL1pT"
      }
    },
    {
      "cell_type": "code",
      "source": [
        "%%time\n",
        "\n",
        "df_notificacoes_por_municipio = df[['DT_NOTIFIC', 'SG_UF_NOT', 'CO_MUN_NOT']].value_counts().sort_index().reset_index()\n",
        "df_notificacoes_por_municipio.columns = ['Data', 'UF_Codigo', 'Municipio_Codigo', 'Quantidade']\n",
        "\n",
        "for i, nm in df_notificacoes_por_municipio.iterrows():\n",
        "    df_notificacoes_por_municipio.loc[i, 'Segunda-feira']  = nm['Data'] - np.timedelta64(nm['Data'].dayofweek, 'D')\n",
        "    df_notificacoes_por_municipio.loc[i, 'UF_Nome']        = df_populacao['Nome'][df_populacao['UF'] == nm['UF_Codigo']].values[0]\n",
        "    df_notificacoes_por_municipio.loc[i, 'Municipio_Nome'] = df_municipios['Municipio'][df_municipios['Codigo'] == nm['Municipio_Codigo']].values[0]\n",
        "\n",
        "df_notificacoes_por_municipio.drop(['Data'], axis=1, inplace=True)\n",
        "df_notificacoes_por_municipio = df_notificacoes_por_municipio.groupby(by=['Segunda-feira', 'UF_Codigo', 'UF_Nome', 'Municipio_Codigo', 'Municipio_Nome']).sum().reset_index()"
      ],
      "metadata": {
        "colab": {
          "base_uri": "https://localhost:8080/"
        },
        "outputId": "27d492f7-3518-43ef-c4b8-e621569e071e",
        "id": "IuDuoMSdL1pU"
      },
      "execution_count": 77,
      "outputs": [
        {
          "output_type": "stream",
          "name": "stdout",
          "text": [
            "CPU times: user 7min 24s, sys: 2.25 s, total: 7min 27s\n",
            "Wall time: 7min 32s\n"
          ]
        }
      ]
    },
    {
      "cell_type": "code",
      "source": [
        "df_notificacoes_por_municipio[:5]"
      ],
      "metadata": {
        "colab": {
          "base_uri": "https://localhost:8080/",
          "height": 206
        },
        "id": "e5sesHNcO7mb",
        "outputId": "01ba1206-0697-4cef-b2b6-10bd07bb2bf6"
      },
      "execution_count": 78,
      "outputs": [
        {
          "output_type": "execute_result",
          "data": {
            "text/plain": [
              "  Segunda-feira UF_Codigo   UF_Nome  Municipio_Codigo   Municipio_Nome  \\\n",
              "0    2020-12-28        AL   Alagoas            270915  TEOTONIO VILELA   \n",
              "1    2020-12-28        AM  Amazonas            130260           MANAUS   \n",
              "2    2020-12-28        AM  Amazonas            130290            MAUES   \n",
              "3    2020-12-28        BA     Bahia            290130          ANDARAI   \n",
              "4    2020-12-28        BA     Bahia            290630      CANAVIEIRAS   \n",
              "\n",
              "   Quantidade  \n",
              "0           1  \n",
              "1           4  \n",
              "2           1  \n",
              "3           1  \n",
              "4           1  "
            ],
            "text/html": [
              "\n",
              "  <div id=\"df-ebb3ea8d-aac8-4254-be9f-ec73a0f323bd\">\n",
              "    <div class=\"colab-df-container\">\n",
              "      <div>\n",
              "<style scoped>\n",
              "    .dataframe tbody tr th:only-of-type {\n",
              "        vertical-align: middle;\n",
              "    }\n",
              "\n",
              "    .dataframe tbody tr th {\n",
              "        vertical-align: top;\n",
              "    }\n",
              "\n",
              "    .dataframe thead th {\n",
              "        text-align: right;\n",
              "    }\n",
              "</style>\n",
              "<table border=\"1\" class=\"dataframe\">\n",
              "  <thead>\n",
              "    <tr style=\"text-align: right;\">\n",
              "      <th></th>\n",
              "      <th>Segunda-feira</th>\n",
              "      <th>UF_Codigo</th>\n",
              "      <th>UF_Nome</th>\n",
              "      <th>Municipio_Codigo</th>\n",
              "      <th>Municipio_Nome</th>\n",
              "      <th>Quantidade</th>\n",
              "    </tr>\n",
              "  </thead>\n",
              "  <tbody>\n",
              "    <tr>\n",
              "      <th>0</th>\n",
              "      <td>2020-12-28</td>\n",
              "      <td>AL</td>\n",
              "      <td>Alagoas</td>\n",
              "      <td>270915</td>\n",
              "      <td>TEOTONIO VILELA</td>\n",
              "      <td>1</td>\n",
              "    </tr>\n",
              "    <tr>\n",
              "      <th>1</th>\n",
              "      <td>2020-12-28</td>\n",
              "      <td>AM</td>\n",
              "      <td>Amazonas</td>\n",
              "      <td>130260</td>\n",
              "      <td>MANAUS</td>\n",
              "      <td>4</td>\n",
              "    </tr>\n",
              "    <tr>\n",
              "      <th>2</th>\n",
              "      <td>2020-12-28</td>\n",
              "      <td>AM</td>\n",
              "      <td>Amazonas</td>\n",
              "      <td>130290</td>\n",
              "      <td>MAUES</td>\n",
              "      <td>1</td>\n",
              "    </tr>\n",
              "    <tr>\n",
              "      <th>3</th>\n",
              "      <td>2020-12-28</td>\n",
              "      <td>BA</td>\n",
              "      <td>Bahia</td>\n",
              "      <td>290130</td>\n",
              "      <td>ANDARAI</td>\n",
              "      <td>1</td>\n",
              "    </tr>\n",
              "    <tr>\n",
              "      <th>4</th>\n",
              "      <td>2020-12-28</td>\n",
              "      <td>BA</td>\n",
              "      <td>Bahia</td>\n",
              "      <td>290630</td>\n",
              "      <td>CANAVIEIRAS</td>\n",
              "      <td>1</td>\n",
              "    </tr>\n",
              "  </tbody>\n",
              "</table>\n",
              "</div>\n",
              "      <button class=\"colab-df-convert\" onclick=\"convertToInteractive('df-ebb3ea8d-aac8-4254-be9f-ec73a0f323bd')\"\n",
              "              title=\"Convert this dataframe to an interactive table.\"\n",
              "              style=\"display:none;\">\n",
              "        \n",
              "  <svg xmlns=\"http://www.w3.org/2000/svg\" height=\"24px\"viewBox=\"0 0 24 24\"\n",
              "       width=\"24px\">\n",
              "    <path d=\"M0 0h24v24H0V0z\" fill=\"none\"/>\n",
              "    <path d=\"M18.56 5.44l.94 2.06.94-2.06 2.06-.94-2.06-.94-.94-2.06-.94 2.06-2.06.94zm-11 1L8.5 8.5l.94-2.06 2.06-.94-2.06-.94L8.5 2.5l-.94 2.06-2.06.94zm10 10l.94 2.06.94-2.06 2.06-.94-2.06-.94-.94-2.06-.94 2.06-2.06.94z\"/><path d=\"M17.41 7.96l-1.37-1.37c-.4-.4-.92-.59-1.43-.59-.52 0-1.04.2-1.43.59L10.3 9.45l-7.72 7.72c-.78.78-.78 2.05 0 2.83L4 21.41c.39.39.9.59 1.41.59.51 0 1.02-.2 1.41-.59l7.78-7.78 2.81-2.81c.8-.78.8-2.07 0-2.86zM5.41 20L4 18.59l7.72-7.72 1.47 1.35L5.41 20z\"/>\n",
              "  </svg>\n",
              "      </button>\n",
              "      \n",
              "  <style>\n",
              "    .colab-df-container {\n",
              "      display:flex;\n",
              "      flex-wrap:wrap;\n",
              "      gap: 12px;\n",
              "    }\n",
              "\n",
              "    .colab-df-convert {\n",
              "      background-color: #E8F0FE;\n",
              "      border: none;\n",
              "      border-radius: 50%;\n",
              "      cursor: pointer;\n",
              "      display: none;\n",
              "      fill: #1967D2;\n",
              "      height: 32px;\n",
              "      padding: 0 0 0 0;\n",
              "      width: 32px;\n",
              "    }\n",
              "\n",
              "    .colab-df-convert:hover {\n",
              "      background-color: #E2EBFA;\n",
              "      box-shadow: 0px 1px 2px rgba(60, 64, 67, 0.3), 0px 1px 3px 1px rgba(60, 64, 67, 0.15);\n",
              "      fill: #174EA6;\n",
              "    }\n",
              "\n",
              "    [theme=dark] .colab-df-convert {\n",
              "      background-color: #3B4455;\n",
              "      fill: #D2E3FC;\n",
              "    }\n",
              "\n",
              "    [theme=dark] .colab-df-convert:hover {\n",
              "      background-color: #434B5C;\n",
              "      box-shadow: 0px 1px 3px 1px rgba(0, 0, 0, 0.15);\n",
              "      filter: drop-shadow(0px 1px 2px rgba(0, 0, 0, 0.3));\n",
              "      fill: #FFFFFF;\n",
              "    }\n",
              "  </style>\n",
              "\n",
              "      <script>\n",
              "        const buttonEl =\n",
              "          document.querySelector('#df-ebb3ea8d-aac8-4254-be9f-ec73a0f323bd button.colab-df-convert');\n",
              "        buttonEl.style.display =\n",
              "          google.colab.kernel.accessAllowed ? 'block' : 'none';\n",
              "\n",
              "        async function convertToInteractive(key) {\n",
              "          const element = document.querySelector('#df-ebb3ea8d-aac8-4254-be9f-ec73a0f323bd');\n",
              "          const dataTable =\n",
              "            await google.colab.kernel.invokeFunction('convertToInteractive',\n",
              "                                                     [key], {});\n",
              "          if (!dataTable) return;\n",
              "\n",
              "          const docLinkHtml = 'Like what you see? Visit the ' +\n",
              "            '<a target=\"_blank\" href=https://colab.research.google.com/notebooks/data_table.ipynb>data table notebook</a>'\n",
              "            + ' to learn more about interactive tables.';\n",
              "          element.innerHTML = '';\n",
              "          dataTable['output_type'] = 'display_data';\n",
              "          await google.colab.output.renderOutput(dataTable, element);\n",
              "          const docLink = document.createElement('div');\n",
              "          docLink.innerHTML = docLinkHtml;\n",
              "          element.appendChild(docLink);\n",
              "        }\n",
              "      </script>\n",
              "    </div>\n",
              "  </div>\n",
              "  "
            ]
          },
          "metadata": {},
          "execution_count": 78
        }
      ]
    },
    {
      "cell_type": "code",
      "source": [
        "df_notificacoes_por_municipio.to_csv('/content/PJI410_notificacoes_por_municipio.csv', index=False)"
      ],
      "metadata": {
        "id": "rJ5EGCWPL1pU"
      },
      "execution_count": 79,
      "outputs": []
    },
    {
      "cell_type": "markdown",
      "source": [
        "## Quantidade de notificações por dia da semana"
      ],
      "metadata": {
        "id": "ilb3eqmF5bLG"
      }
    },
    {
      "cell_type": "code",
      "source": [
        "dias = {0: 'Segunda', 1: 'Terça', 2: 'Quarta', 3: 'Quinta', 4: 'Sexta', 5: 'Sábado', 6: 'Domingo'}\n",
        "\n",
        "df['DT_NOTIFIC'].groupby(df['DT_NOTIFIC'].dt.weekday).count().rename(index=dias)"
      ],
      "metadata": {
        "colab": {
          "base_uri": "https://localhost:8080/"
        },
        "id": "0ENy-mnw5d_r",
        "outputId": "34049431-e141-4d00-d4f2-b925b262883a"
      },
      "execution_count": 80,
      "outputs": [
        {
          "output_type": "execute_result",
          "data": {
            "text/plain": [
              "DT_NOTIFIC\n",
              "Segunda    452400\n",
              "Terça      384286\n",
              "Quarta     371284\n",
              "Quinta     361236\n",
              "Sexta      342166\n",
              "Sábado     206547\n",
              "Domingo    196478\n",
              "Name: DT_NOTIFIC, dtype: int64"
            ]
          },
          "metadata": {},
          "execution_count": 80
        }
      ]
    },
    {
      "cell_type": "markdown",
      "source": [
        "## Presença de sintomas em notificações por semana"
      ],
      "metadata": {
        "id": "ZGdasxqTpU6b"
      }
    },
    {
      "cell_type": "code",
      "source": [
        "%%time\n",
        "\n",
        "campos = ['DT_NOTIFIC', 'FEBRE', 'TOSSE', 'GARGANTA', 'DISPNEIA', 'DESC_RESP', 'SATURACAO',\n",
        "          'DIARREIA', 'VOMITO', 'DOR_ABD', 'FADIGA', 'PERD_OLFT', 'PERD_PALA', 'OUTRO_SIN']\n",
        "\n",
        "filtros = [df[c].isin([1, 2]) for c in campos[1:]]\n",
        "\n",
        "filtro = np.vstack(filtros).all(axis=0)\n",
        "\n",
        "df_sintomas_semana = df[campos][filtro].reset_index(drop=True)\n",
        "\n",
        "df_sintomas_semana[campos[1:]] = df_sintomas_semana[campos[1:]].replace({2: 0}).astype('int')\n",
        "\n",
        "df_sintomas_semana = df_sintomas_semana.groupby(['DT_NOTIFIC']).sum().reset_index()\n",
        "\n",
        "df_sintomas_semana['QUANTIDADE'] = list(df['DT_NOTIFIC'][df['DT_NOTIFIC'].isin(df_sintomas_semana['DT_NOTIFIC'])].value_counts().sort_index())\n",
        "\n",
        "for i, ss in df_sintomas_semana.iterrows():\n",
        "    df_sintomas_semana.loc[i, 'Segunda-feira'] = ss['DT_NOTIFIC'] - np.timedelta64(ss['DT_NOTIFIC'].dayofweek, 'D')\n",
        "\n",
        "df_sintomas_semana.drop(['DT_NOTIFIC'], axis=1, inplace=True)\n",
        "\n",
        "df_sintomas_semana = df_sintomas_semana.groupby(by=['Segunda-feira']).sum().reset_index()\n",
        "\n",
        "for campo in campos[1:]:\n",
        "    df_sintomas_semana[campo] = df_sintomas_semana[campo] / df_sintomas_semana['QUANTIDADE']\n",
        "\n",
        "df_sintomas_semana.drop(['QUANTIDADE'], axis=1, inplace=True)\n",
        "\n",
        "campos = ['Segunda-feira', 'Febre', 'Tosse', 'Dor de Garganta', 'Dispneia', 'Desconforto Respiratório', 'Saturação O2 < 95%',\n",
        "          'Diarreia', 'Vômito', 'Dor Abdominal', 'Fadiga', 'Perda do Olfato', 'Perda do Paladar', 'Outros Sintomas']\n",
        "\n",
        "df_sintomas_semana.columns = campos\n",
        "\n",
        "df_sintomas_semana = df_sintomas_semana.melt(id_vars='Segunda-feira', var_name='Sintoma', value_name='Presença')\n",
        "\n",
        "df_sintomas_semana['Sintoma'] = pd.Categorical(df_sintomas_semana['Sintoma'], campos[1:])\n",
        "\n",
        "df_sintomas_semana = df_sintomas_semana.sort_values(['Segunda-feira', 'Sintoma']).reset_index(drop=True)"
      ],
      "metadata": {
        "id": "39QnkyAhpb1a",
        "colab": {
          "base_uri": "https://localhost:8080/"
        },
        "outputId": "c221aa33-f021-4b57-e962-304ecf38371c"
      },
      "execution_count": 81,
      "outputs": [
        {
          "output_type": "stream",
          "name": "stdout",
          "text": [
            "CPU times: user 1.71 s, sys: 3.91 ms, total: 1.71 s\n",
            "Wall time: 1.71 s\n"
          ]
        }
      ]
    },
    {
      "cell_type": "code",
      "source": [
        "df_sintomas_semana[:5]"
      ],
      "metadata": {
        "colab": {
          "base_uri": "https://localhost:8080/",
          "height": 206
        },
        "id": "D2TAuyfCxHn7",
        "outputId": "6fcd2874-3f4e-4fbd-f01a-83e95fbbf6c3"
      },
      "execution_count": 82,
      "outputs": [
        {
          "output_type": "execute_result",
          "data": {
            "text/plain": [
              "  Segunda-feira                   Sintoma  Presença\n",
              "0    2020-12-28                     Febre  0.172973\n",
              "1    2020-12-28                     Tosse  0.227027\n",
              "2    2020-12-28           Dor de Garganta  0.054054\n",
              "3    2020-12-28                  Dispneia  0.259459\n",
              "4    2020-12-28  Desconforto Respiratório  0.248649"
            ],
            "text/html": [
              "\n",
              "  <div id=\"df-0caef1b8-3f16-4432-88bc-0b9097e2a905\">\n",
              "    <div class=\"colab-df-container\">\n",
              "      <div>\n",
              "<style scoped>\n",
              "    .dataframe tbody tr th:only-of-type {\n",
              "        vertical-align: middle;\n",
              "    }\n",
              "\n",
              "    .dataframe tbody tr th {\n",
              "        vertical-align: top;\n",
              "    }\n",
              "\n",
              "    .dataframe thead th {\n",
              "        text-align: right;\n",
              "    }\n",
              "</style>\n",
              "<table border=\"1\" class=\"dataframe\">\n",
              "  <thead>\n",
              "    <tr style=\"text-align: right;\">\n",
              "      <th></th>\n",
              "      <th>Segunda-feira</th>\n",
              "      <th>Sintoma</th>\n",
              "      <th>Presença</th>\n",
              "    </tr>\n",
              "  </thead>\n",
              "  <tbody>\n",
              "    <tr>\n",
              "      <th>0</th>\n",
              "      <td>2020-12-28</td>\n",
              "      <td>Febre</td>\n",
              "      <td>0.172973</td>\n",
              "    </tr>\n",
              "    <tr>\n",
              "      <th>1</th>\n",
              "      <td>2020-12-28</td>\n",
              "      <td>Tosse</td>\n",
              "      <td>0.227027</td>\n",
              "    </tr>\n",
              "    <tr>\n",
              "      <th>2</th>\n",
              "      <td>2020-12-28</td>\n",
              "      <td>Dor de Garganta</td>\n",
              "      <td>0.054054</td>\n",
              "    </tr>\n",
              "    <tr>\n",
              "      <th>3</th>\n",
              "      <td>2020-12-28</td>\n",
              "      <td>Dispneia</td>\n",
              "      <td>0.259459</td>\n",
              "    </tr>\n",
              "    <tr>\n",
              "      <th>4</th>\n",
              "      <td>2020-12-28</td>\n",
              "      <td>Desconforto Respiratório</td>\n",
              "      <td>0.248649</td>\n",
              "    </tr>\n",
              "  </tbody>\n",
              "</table>\n",
              "</div>\n",
              "      <button class=\"colab-df-convert\" onclick=\"convertToInteractive('df-0caef1b8-3f16-4432-88bc-0b9097e2a905')\"\n",
              "              title=\"Convert this dataframe to an interactive table.\"\n",
              "              style=\"display:none;\">\n",
              "        \n",
              "  <svg xmlns=\"http://www.w3.org/2000/svg\" height=\"24px\"viewBox=\"0 0 24 24\"\n",
              "       width=\"24px\">\n",
              "    <path d=\"M0 0h24v24H0V0z\" fill=\"none\"/>\n",
              "    <path d=\"M18.56 5.44l.94 2.06.94-2.06 2.06-.94-2.06-.94-.94-2.06-.94 2.06-2.06.94zm-11 1L8.5 8.5l.94-2.06 2.06-.94-2.06-.94L8.5 2.5l-.94 2.06-2.06.94zm10 10l.94 2.06.94-2.06 2.06-.94-2.06-.94-.94-2.06-.94 2.06-2.06.94z\"/><path d=\"M17.41 7.96l-1.37-1.37c-.4-.4-.92-.59-1.43-.59-.52 0-1.04.2-1.43.59L10.3 9.45l-7.72 7.72c-.78.78-.78 2.05 0 2.83L4 21.41c.39.39.9.59 1.41.59.51 0 1.02-.2 1.41-.59l7.78-7.78 2.81-2.81c.8-.78.8-2.07 0-2.86zM5.41 20L4 18.59l7.72-7.72 1.47 1.35L5.41 20z\"/>\n",
              "  </svg>\n",
              "      </button>\n",
              "      \n",
              "  <style>\n",
              "    .colab-df-container {\n",
              "      display:flex;\n",
              "      flex-wrap:wrap;\n",
              "      gap: 12px;\n",
              "    }\n",
              "\n",
              "    .colab-df-convert {\n",
              "      background-color: #E8F0FE;\n",
              "      border: none;\n",
              "      border-radius: 50%;\n",
              "      cursor: pointer;\n",
              "      display: none;\n",
              "      fill: #1967D2;\n",
              "      height: 32px;\n",
              "      padding: 0 0 0 0;\n",
              "      width: 32px;\n",
              "    }\n",
              "\n",
              "    .colab-df-convert:hover {\n",
              "      background-color: #E2EBFA;\n",
              "      box-shadow: 0px 1px 2px rgba(60, 64, 67, 0.3), 0px 1px 3px 1px rgba(60, 64, 67, 0.15);\n",
              "      fill: #174EA6;\n",
              "    }\n",
              "\n",
              "    [theme=dark] .colab-df-convert {\n",
              "      background-color: #3B4455;\n",
              "      fill: #D2E3FC;\n",
              "    }\n",
              "\n",
              "    [theme=dark] .colab-df-convert:hover {\n",
              "      background-color: #434B5C;\n",
              "      box-shadow: 0px 1px 3px 1px rgba(0, 0, 0, 0.15);\n",
              "      filter: drop-shadow(0px 1px 2px rgba(0, 0, 0, 0.3));\n",
              "      fill: #FFFFFF;\n",
              "    }\n",
              "  </style>\n",
              "\n",
              "      <script>\n",
              "        const buttonEl =\n",
              "          document.querySelector('#df-0caef1b8-3f16-4432-88bc-0b9097e2a905 button.colab-df-convert');\n",
              "        buttonEl.style.display =\n",
              "          google.colab.kernel.accessAllowed ? 'block' : 'none';\n",
              "\n",
              "        async function convertToInteractive(key) {\n",
              "          const element = document.querySelector('#df-0caef1b8-3f16-4432-88bc-0b9097e2a905');\n",
              "          const dataTable =\n",
              "            await google.colab.kernel.invokeFunction('convertToInteractive',\n",
              "                                                     [key], {});\n",
              "          if (!dataTable) return;\n",
              "\n",
              "          const docLinkHtml = 'Like what you see? Visit the ' +\n",
              "            '<a target=\"_blank\" href=https://colab.research.google.com/notebooks/data_table.ipynb>data table notebook</a>'\n",
              "            + ' to learn more about interactive tables.';\n",
              "          element.innerHTML = '';\n",
              "          dataTable['output_type'] = 'display_data';\n",
              "          await google.colab.output.renderOutput(dataTable, element);\n",
              "          const docLink = document.createElement('div');\n",
              "          docLink.innerHTML = docLinkHtml;\n",
              "          element.appendChild(docLink);\n",
              "        }\n",
              "      </script>\n",
              "    </div>\n",
              "  </div>\n",
              "  "
            ]
          },
          "metadata": {},
          "execution_count": 82
        }
      ]
    },
    {
      "cell_type": "code",
      "source": [
        "df_sintomas_semana.to_csv('/content/PJI410_sintomas_semana.csv', index=False)"
      ],
      "metadata": {
        "id": "PGLFVidAzrY_"
      },
      "execution_count": 83,
      "outputs": []
    },
    {
      "cell_type": "markdown",
      "source": [
        "## Proporção de curas por óbitos por COVID-19"
      ],
      "metadata": {
        "id": "VHPs9Q9FkkqS"
      }
    },
    {
      "cell_type": "code",
      "source": [
        "%%time\n",
        "\n",
        "df_cura_obito = df[['DT_NOTIFIC', 'EVOLUCAO']][(df['EVOLUCAO'].isin([1, 2])) & (df['CLASSI_FIN'] == 5)].value_counts().sort_index().reset_index()\n",
        "df_cura_obito.columns = ['Data', 'Evolucao', 'Quantidade']\n",
        "\n",
        "for i, co in df_cura_obito.iterrows():\n",
        "    df_cura_obito.loc[i, 'Segunda-feira'] = co['Data'] - np.timedelta64(co['Data'].dayofweek, 'D')\n",
        "\n",
        "df_cura_obito.drop(['Data'], axis=1, inplace=True)\n",
        "\n",
        "df_cura_obito = df_cura_obito.groupby(by=['Segunda-feira', 'Evolucao']).sum()\n",
        "df_cura_obito = df_cura_obito.pivot_table(index='Segunda-feira', columns='Evolucao', values='Quantidade').reset_index()\n",
        "\n",
        "df_cura_obito['Proporcao'] = df_cura_obito[1] / df_cura_obito[2]\n",
        "\n",
        "df_cura_obito.drop([1, 2], axis=1, inplace=True)"
      ],
      "metadata": {
        "id": "asDPBHYik0uT",
        "colab": {
          "base_uri": "https://localhost:8080/"
        },
        "outputId": "6a70c8eb-6ab7-406e-a9fd-33b2d7be25df"
      },
      "execution_count": 84,
      "outputs": [
        {
          "output_type": "stream",
          "name": "stdout",
          "text": [
            "CPU times: user 495 ms, sys: 177 µs, total: 495 ms\n",
            "Wall time: 493 ms\n"
          ]
        }
      ]
    },
    {
      "cell_type": "code",
      "source": [
        "df_cura_obito[:5]"
      ],
      "metadata": {
        "colab": {
          "base_uri": "https://localhost:8080/",
          "height": 206
        },
        "id": "vUQtagN9p8sR",
        "outputId": "c4fcd86a-4b85-4fbe-fbf8-b891e07d74ab"
      },
      "execution_count": 85,
      "outputs": [
        {
          "output_type": "execute_result",
          "data": {
            "text/plain": [
              "Evolucao Segunda-feira  Proporcao\n",
              "0           2020-12-28   0.833333\n",
              "1           2021-01-04   1.421175\n",
              "2           2021-01-11   1.926578\n",
              "3           2021-01-18   2.060171\n",
              "4           2021-01-25   2.040395"
            ],
            "text/html": [
              "\n",
              "  <div id=\"df-ae2fbe42-1536-4e1d-a829-6a39f74b25bc\">\n",
              "    <div class=\"colab-df-container\">\n",
              "      <div>\n",
              "<style scoped>\n",
              "    .dataframe tbody tr th:only-of-type {\n",
              "        vertical-align: middle;\n",
              "    }\n",
              "\n",
              "    .dataframe tbody tr th {\n",
              "        vertical-align: top;\n",
              "    }\n",
              "\n",
              "    .dataframe thead th {\n",
              "        text-align: right;\n",
              "    }\n",
              "</style>\n",
              "<table border=\"1\" class=\"dataframe\">\n",
              "  <thead>\n",
              "    <tr style=\"text-align: right;\">\n",
              "      <th>Evolucao</th>\n",
              "      <th>Segunda-feira</th>\n",
              "      <th>Proporcao</th>\n",
              "    </tr>\n",
              "  </thead>\n",
              "  <tbody>\n",
              "    <tr>\n",
              "      <th>0</th>\n",
              "      <td>2020-12-28</td>\n",
              "      <td>0.833333</td>\n",
              "    </tr>\n",
              "    <tr>\n",
              "      <th>1</th>\n",
              "      <td>2021-01-04</td>\n",
              "      <td>1.421175</td>\n",
              "    </tr>\n",
              "    <tr>\n",
              "      <th>2</th>\n",
              "      <td>2021-01-11</td>\n",
              "      <td>1.926578</td>\n",
              "    </tr>\n",
              "    <tr>\n",
              "      <th>3</th>\n",
              "      <td>2021-01-18</td>\n",
              "      <td>2.060171</td>\n",
              "    </tr>\n",
              "    <tr>\n",
              "      <th>4</th>\n",
              "      <td>2021-01-25</td>\n",
              "      <td>2.040395</td>\n",
              "    </tr>\n",
              "  </tbody>\n",
              "</table>\n",
              "</div>\n",
              "      <button class=\"colab-df-convert\" onclick=\"convertToInteractive('df-ae2fbe42-1536-4e1d-a829-6a39f74b25bc')\"\n",
              "              title=\"Convert this dataframe to an interactive table.\"\n",
              "              style=\"display:none;\">\n",
              "        \n",
              "  <svg xmlns=\"http://www.w3.org/2000/svg\" height=\"24px\"viewBox=\"0 0 24 24\"\n",
              "       width=\"24px\">\n",
              "    <path d=\"M0 0h24v24H0V0z\" fill=\"none\"/>\n",
              "    <path d=\"M18.56 5.44l.94 2.06.94-2.06 2.06-.94-2.06-.94-.94-2.06-.94 2.06-2.06.94zm-11 1L8.5 8.5l.94-2.06 2.06-.94-2.06-.94L8.5 2.5l-.94 2.06-2.06.94zm10 10l.94 2.06.94-2.06 2.06-.94-2.06-.94-.94-2.06-.94 2.06-2.06.94z\"/><path d=\"M17.41 7.96l-1.37-1.37c-.4-.4-.92-.59-1.43-.59-.52 0-1.04.2-1.43.59L10.3 9.45l-7.72 7.72c-.78.78-.78 2.05 0 2.83L4 21.41c.39.39.9.59 1.41.59.51 0 1.02-.2 1.41-.59l7.78-7.78 2.81-2.81c.8-.78.8-2.07 0-2.86zM5.41 20L4 18.59l7.72-7.72 1.47 1.35L5.41 20z\"/>\n",
              "  </svg>\n",
              "      </button>\n",
              "      \n",
              "  <style>\n",
              "    .colab-df-container {\n",
              "      display:flex;\n",
              "      flex-wrap:wrap;\n",
              "      gap: 12px;\n",
              "    }\n",
              "\n",
              "    .colab-df-convert {\n",
              "      background-color: #E8F0FE;\n",
              "      border: none;\n",
              "      border-radius: 50%;\n",
              "      cursor: pointer;\n",
              "      display: none;\n",
              "      fill: #1967D2;\n",
              "      height: 32px;\n",
              "      padding: 0 0 0 0;\n",
              "      width: 32px;\n",
              "    }\n",
              "\n",
              "    .colab-df-convert:hover {\n",
              "      background-color: #E2EBFA;\n",
              "      box-shadow: 0px 1px 2px rgba(60, 64, 67, 0.3), 0px 1px 3px 1px rgba(60, 64, 67, 0.15);\n",
              "      fill: #174EA6;\n",
              "    }\n",
              "\n",
              "    [theme=dark] .colab-df-convert {\n",
              "      background-color: #3B4455;\n",
              "      fill: #D2E3FC;\n",
              "    }\n",
              "\n",
              "    [theme=dark] .colab-df-convert:hover {\n",
              "      background-color: #434B5C;\n",
              "      box-shadow: 0px 1px 3px 1px rgba(0, 0, 0, 0.15);\n",
              "      filter: drop-shadow(0px 1px 2px rgba(0, 0, 0, 0.3));\n",
              "      fill: #FFFFFF;\n",
              "    }\n",
              "  </style>\n",
              "\n",
              "      <script>\n",
              "        const buttonEl =\n",
              "          document.querySelector('#df-ae2fbe42-1536-4e1d-a829-6a39f74b25bc button.colab-df-convert');\n",
              "        buttonEl.style.display =\n",
              "          google.colab.kernel.accessAllowed ? 'block' : 'none';\n",
              "\n",
              "        async function convertToInteractive(key) {\n",
              "          const element = document.querySelector('#df-ae2fbe42-1536-4e1d-a829-6a39f74b25bc');\n",
              "          const dataTable =\n",
              "            await google.colab.kernel.invokeFunction('convertToInteractive',\n",
              "                                                     [key], {});\n",
              "          if (!dataTable) return;\n",
              "\n",
              "          const docLinkHtml = 'Like what you see? Visit the ' +\n",
              "            '<a target=\"_blank\" href=https://colab.research.google.com/notebooks/data_table.ipynb>data table notebook</a>'\n",
              "            + ' to learn more about interactive tables.';\n",
              "          element.innerHTML = '';\n",
              "          dataTable['output_type'] = 'display_data';\n",
              "          await google.colab.output.renderOutput(dataTable, element);\n",
              "          const docLink = document.createElement('div');\n",
              "          docLink.innerHTML = docLinkHtml;\n",
              "          element.appendChild(docLink);\n",
              "        }\n",
              "      </script>\n",
              "    </div>\n",
              "  </div>\n",
              "  "
            ]
          },
          "metadata": {},
          "execution_count": 85
        }
      ]
    },
    {
      "cell_type": "code",
      "source": [
        "df_cura_obito.to_csv('/content/PJI410_cura_obito.csv', index=False)"
      ],
      "metadata": {
        "id": "-J2MaUClp8lh"
      },
      "execution_count": 86,
      "outputs": []
    },
    {
      "cell_type": "markdown",
      "source": [
        "## Locais"
      ],
      "metadata": {
        "id": "F4ABhpnF9b5x"
      }
    },
    {
      "cell_type": "code",
      "source": [
        "# %%time\n",
        "\n",
        "# df_locais = df[['SG_UF_NOT', 'CO_MUN_NOT']].drop_duplicates().sort_values(by=['SG_UF_NOT', 'CO_MUN_NOT']).reset_index(drop=True)\n",
        "# df_locais.columns = ['UF_Codigo', 'Municipio_Codigo']\n",
        "\n",
        "# for i, lo in df_locais.iterrows():\n",
        "#     df_locais.loc[i, 'UF_Nome']        = df_populacao['Nome'][df_populacao['UF'] == lo['UF_Codigo']].values[0]\n",
        "#     df_locais.loc[i, 'Municipio_Nome'] = df_municipios['Municipio'][df_municipios['Codigo'] == lo['Municipio_Codigo']].values[0]\n",
        "\n",
        "# df_locais = df_locais.reindex(columns=['UF_Codigo', 'UF_Nome', 'Municipio_Codigo', 'Municipio_Nome'])"
      ],
      "metadata": {
        "id": "ty3bIFJY9b5x"
      },
      "execution_count": 87,
      "outputs": []
    },
    {
      "cell_type": "code",
      "source": [
        "# df_locais[:5]"
      ],
      "metadata": {
        "id": "G6gmN1eljS4c"
      },
      "execution_count": 88,
      "outputs": []
    },
    {
      "cell_type": "code",
      "source": [
        "# df_locais.to_csv('/content/PJI410_locais.csv', index=False)"
      ],
      "metadata": {
        "id": "bcIJG1oI9dA8"
      },
      "execution_count": 89,
      "outputs": []
    },
    {
      "cell_type": "markdown",
      "source": [
        "## Diferença média de dias entre primeiros sintomas e notificação por município"
      ],
      "metadata": {
        "id": "J-RcdfwECDSK"
      }
    },
    {
      "cell_type": "code",
      "source": [
        "# %%time\n",
        "\n",
        "# df_demora_por_municipio = df[['DT_SIN_PRI', 'DT_NOTIFIC', 'SG_UF_NOT', 'CO_MUN_NOT']].sort_values(by=['DT_SIN_PRI', 'DT_NOTIFIC', 'SG_UF_NOT', 'CO_MUN_NOT']).copy().reset_index(drop=True)\n",
        "# df_demora_por_municipio['Dias'] = ((df_demora_por_municipio['DT_NOTIFIC'] - df_demora_por_municipio['DT_SIN_PRI']) / np.timedelta64(1, 'D')).astype(int)\n",
        "# df_demora_por_municipio.drop(['DT_NOTIFIC'], axis=1, inplace=True)\n",
        "# df_demora_por_municipio = df_demora_por_municipio.groupby(by=['DT_SIN_PRI', 'SG_UF_NOT', 'CO_MUN_NOT']).mean().reset_index()\n",
        "\n",
        "# for i, de in df_demora_por_municipio.iterrows():\n",
        "#     df_demora_por_municipio.loc[i, 'Segunda-feira'] = de['DT_SIN_PRI'] - np.timedelta64(de['DT_SIN_PRI'].dayofweek, 'D')\n",
        "\n",
        "# df_demora_por_municipio.drop(['DT_SIN_PRI'], axis=1, inplace=True)\n",
        "# df_demora_por_municipio = df_demora_por_municipio.groupby(by=['Segunda-feira', 'SG_UF_NOT', 'CO_MUN_NOT']).mean().reset_index()\n",
        "# df_demora_por_municipio.columns = ['Segunda-feira', 'UF_Codigo', 'Municipio_Codigo', 'Dias']"
      ],
      "metadata": {
        "id": "M5eFaHzHCDSL"
      },
      "execution_count": 90,
      "outputs": []
    },
    {
      "cell_type": "code",
      "source": [
        "# df_demora_por_municipio[:5]"
      ],
      "metadata": {
        "id": "hiZLDx9kjVb6"
      },
      "execution_count": 91,
      "outputs": []
    },
    {
      "cell_type": "code",
      "source": [
        "# df_demora_por_municipio.to_csv('/content/PJI410_demora_por_municipio.csv', index=False)"
      ],
      "metadata": {
        "id": "lwJwIt84CDSL"
      },
      "execution_count": 92,
      "outputs": []
    },
    {
      "cell_type": "markdown",
      "source": [
        "## Evoluções por semana de primeiros sintomas por município"
      ],
      "metadata": {
        "id": "PSaeytZGD4Ty"
      }
    },
    {
      "cell_type": "code",
      "source": [
        "# %%time\n",
        "\n",
        "# df_evolucao_prisin_por_municipio = df[['DT_SIN_PRI', 'SG_UF_NOT', 'CO_MUN_NOT', 'EVOLUCAO']][df['EVOLUCAO'].isin(EVOLUCOES.keys())].value_counts().sort_index().reset_index()\n",
        "# df_evolucao_prisin_por_municipio.columns = ['Data', 'UF_Codigo', 'Municipio_Codigo', 'Evolucao', 'Quantidade']\n",
        "\n",
        "# for i, ev in df_evolucao_prisin_por_municipio.iterrows():\n",
        "#     df_evolucao_prisin_por_municipio.loc[i, 'Segunda-feira'] = ev['Data'] - np.timedelta64(ev['Data'].dayofweek, 'D')\n",
        "\n",
        "# df_evolucao_prisin_por_municipio.drop(['Data'], axis=1, inplace=True)\n",
        "# df_evolucao_prisin_por_municipio = df_evolucao_prisin_por_municipio.groupby(by=['Segunda-feira', 'UF_Codigo', 'Municipio_Codigo', 'Evolucao']).sum().sort_index().reset_index()"
      ],
      "metadata": {
        "id": "afpJXy-xD4Tz"
      },
      "execution_count": 93,
      "outputs": []
    },
    {
      "cell_type": "code",
      "source": [
        "# df_evolucao_prisin_por_municipio[:5]"
      ],
      "metadata": {
        "id": "TKHPKf-PjX-X"
      },
      "execution_count": 94,
      "outputs": []
    },
    {
      "cell_type": "code",
      "source": [
        "# df_evolucao_prisin_por_municipio.to_csv('/content/PJI410_evolucao_prisin_por_municipio.csv', index=False)"
      ],
      "metadata": {
        "id": "Oh1xEYftD4Tz"
      },
      "execution_count": 95,
      "outputs": []
    },
    {
      "cell_type": "markdown",
      "source": [
        "## Presença de sintomas em notificações por semana por município"
      ],
      "metadata": {
        "id": "fmceNki5GK1r"
      }
    },
    {
      "cell_type": "code",
      "source": [
        "# %%time\n",
        "\n",
        "# campos = ['DT_NOTIFIC', 'SG_UF_NOT', 'CO_MUN_NOT',\n",
        "#           'FEBRE', 'TOSSE', 'GARGANTA', 'DISPNEIA', 'DESC_RESP', 'SATURACAO', 'DIARREIA',\n",
        "#           'VOMITO', 'DOR_ABD', 'FADIGA', 'PERD_OLFT', 'PERD_PALA', 'OUTRO_SIN']\n",
        "\n",
        "# filtros = [df[c].isin([1, 2]) for c in campos[3:]]\n",
        "\n",
        "# filtro = np.vstack(filtros).all(axis=0)\n",
        "\n",
        "# df_sintomas_semana_por_municipio = df[campos][filtro].reset_index(drop=True)\n",
        "\n",
        "# df_sintomas_semana_por_municipio[campos[3:]] = df_sintomas_semana_por_municipio[campos[3:]].replace({2: 0}).astype('int')\n",
        "\n",
        "# df_sintomas_semana_por_municipio = df_sintomas_semana_por_municipio.groupby(campos[:3]).sum().reset_index()\n",
        "\n",
        "# df_sintomas_semana_por_municipio['QUANTIDADE'] = list(df[campos[:3]][df.set_index(campos[:3]).index.isin(df_sintomas_semana_por_municipio.set_index(campos[:3]).index)].value_counts().sort_index())\n",
        "\n",
        "# for i, ss in df_sintomas_semana_por_municipio.iterrows():\n",
        "#     df_sintomas_semana_por_municipio.loc[i, 'Segunda-feira'] = ss['DT_NOTIFIC'] - np.timedelta64(ss['DT_NOTIFIC'].dayofweek, 'D')\n",
        "\n",
        "# df_sintomas_semana_por_municipio.drop(['DT_NOTIFIC'], axis=1, inplace=True)\n",
        "\n",
        "# df_sintomas_semana_por_municipio = df_sintomas_semana_por_municipio.groupby(by=['Segunda-feira', 'SG_UF_NOT', 'CO_MUN_NOT']).sum().reset_index()\n",
        "\n",
        "# for campo in campos[3:]:\n",
        "#     df_sintomas_semana_por_municipio[campo] = df_sintomas_semana_por_municipio[campo] / df_sintomas_semana_por_municipio['QUANTIDADE']\n",
        "\n",
        "# df_sintomas_semana_por_municipio.drop(['QUANTIDADE'], axis=1, inplace=True)\n",
        "\n",
        "# campos = ['Segunda-feira', 'UF_Codigo', 'Municipio_Codigo', 'Febre', 'Tosse', 'Dor de Garganta', 'Dispneia', 'Desconforto Respiratório',\n",
        "#           'Saturação O2 < 95%', 'Diarreia', 'Vômito', 'Dor Abdominal', 'Fadiga', 'Perda do Olfato', 'Perda do Paladar', 'Outros Sintomas']\n",
        "\n",
        "# df_sintomas_semana_por_municipio.columns = campos\n",
        "\n",
        "# df_sintomas_semana_por_municipio = df_sintomas_semana_por_municipio.melt(id_vars=['Segunda-feira', 'UF_Codigo', 'Municipio_Codigo'], var_name='Sintoma', value_name='Presença')\n",
        "\n",
        "# df_sintomas_semana_por_municipio['Sintoma'] = pd.Categorical(df_sintomas_semana_por_municipio['Sintoma'], campos[3:])\n",
        "\n",
        "# df_sintomas_semana_por_municipio = df_sintomas_semana_por_municipio.sort_values(['Segunda-feira', 'UF_Codigo', 'Municipio_Codigo', 'Sintoma']).reset_index(drop=True)"
      ],
      "metadata": {
        "id": "amAETq-QGK1r"
      },
      "execution_count": 96,
      "outputs": []
    },
    {
      "cell_type": "code",
      "source": [
        "# df_sintomas_semana_por_municipio[:5]"
      ],
      "metadata": {
        "id": "NxN_G3Baja3c"
      },
      "execution_count": 97,
      "outputs": []
    },
    {
      "cell_type": "code",
      "source": [
        "# df_sintomas_semana_por_municipio.to_csv('/content/PJI410_sintomas_semana_por_municipio.zip', index=False)"
      ],
      "metadata": {
        "id": "hApSsNyrGK1s"
      },
      "execution_count": 98,
      "outputs": []
    },
    {
      "cell_type": "markdown",
      "source": [
        "## Proporção de curas por óbitos por COVID-19 por município"
      ],
      "metadata": {
        "id": "A8RiMFsuOt02"
      }
    },
    {
      "cell_type": "code",
      "source": [
        "# %%time\n",
        "\n",
        "# df_cura_obito_por_municipio = df[['DT_NOTIFIC', 'SG_UF_NOT', 'CO_MUN_NOT', 'EVOLUCAO']][(df['EVOLUCAO'].isin([1, 2])) & (df['CLASSI_FIN'] == 5)].value_counts().sort_index().reset_index()\n",
        "# df_cura_obito_por_municipio.columns = ['Data', 'UF_Codigo', 'Municipio_Codigo', 'Evolucao', 'Quantidade']\n",
        "\n",
        "# for i, co in df_cura_obito_por_municipio.iterrows():\n",
        "#     df_cura_obito_por_municipio.loc[i, 'Segunda-feira'] = co['Data'] - np.timedelta64(co['Data'].dayofweek, 'D')\n",
        "\n",
        "# df_cura_obito_por_municipio.drop(['Data'], axis=1, inplace=True)\n",
        "\n",
        "# df_cura_obito_por_municipio = df_cura_obito_por_municipio.groupby(by=['Segunda-feira', 'UF_Codigo', 'Municipio_Codigo', 'Evolucao']).sum()\n",
        "# df_cura_obito_por_municipio = df_cura_obito_por_municipio.pivot_table(index=['Segunda-feira', 'UF_Codigo', 'Municipio_Codigo'], columns='Evolucao', values='Quantidade').reset_index()\n",
        "\n",
        "# df_cura_obito_por_municipio = df_cura_obito_por_municipio.fillna(0)\n",
        "\n",
        "# for i, co in df_cura_obito_por_municipio.iterrows():\n",
        "#     df_cura_obito_por_municipio.loc[i, 'Proporcao'] = (co[1] / co[2]) if (co[2] != 0) else co[1]\n",
        "\n",
        "# df_cura_obito_por_municipio.drop([1, 2], axis=1, inplace=True)"
      ],
      "metadata": {
        "id": "9_LhJiEOOt02"
      },
      "execution_count": 99,
      "outputs": []
    },
    {
      "cell_type": "code",
      "source": [
        "# df_cura_obito_por_municipio[:5]"
      ],
      "metadata": {
        "id": "CRQW_juDjdbD"
      },
      "execution_count": 100,
      "outputs": []
    },
    {
      "cell_type": "code",
      "source": [
        "# df_cura_obito_por_municipio.to_csv('/content/PJI410_cura_obito_por_municipio.csv', index=False)"
      ],
      "metadata": {
        "id": "Ow4qRTWhOt03"
      },
      "execution_count": 101,
      "outputs": []
    },
    {
      "cell_type": "markdown",
      "source": [
        "## Anotações"
      ],
      "metadata": {
        "id": "N6ja7DZGgTv_"
      }
    },
    {
      "cell_type": "code",
      "source": [
        "# # Campos relativos à vacina contra COVID-19.\n",
        "\n",
        "# campos = ['VACINA_COV', 'FNT_IN_COV',\n",
        "#           'DOSE_1_COV', 'FAB_COV_1', 'LOTE_1_COV',\n",
        "#           'DOSE_2_COV', 'FAB_COV_2', 'LOTE_2_COV',\n",
        "#           'DOSE_REF', 'FAB_COVREF', 'LOTE_REF',\n",
        "#           'DOSE_2REF', 'FAB_COVRF2', 'LOTE_REF2']\n",
        "\n",
        "# df[campos].info(show_counts=True)"
      ],
      "metadata": {
        "id": "wYl2QuyOJ_V9"
      },
      "execution_count": 102,
      "outputs": []
    },
    {
      "cell_type": "code",
      "source": [
        "# PCR_RESUL - Resultado do teste de RT-PCR / outro método por Biologia Molecular.\n",
        "# 1 - Detectável\n",
        "# 2 - Não detectável\n",
        "# 3 - Inconclusivo\n",
        "# 4 - Não realizado\n",
        "# 5 - Aguardando resultado\n",
        "# 9 - Ignorado\n",
        "\n",
        "# df['PCR_RESUL'].value_counts(dropna=False).sort_index()"
      ],
      "metadata": {
        "id": "I7xMxQzXRSBy"
      },
      "execution_count": 103,
      "outputs": []
    },
    {
      "cell_type": "code",
      "source": [
        "# RES_AN - Resultado do Teste Antigênico\n",
        "\n",
        "# 1 - Positivo\n",
        "# 2 - Negativo\n",
        "# 3 - Inconclusivo\n",
        "# 4 - Não realizado\n",
        "# 5 - Aguardando resultado\n",
        "# 9 - Ignorado\n",
        "\n",
        "# df['RES_AN'].value_counts(dropna=False).sort_index()"
      ],
      "metadata": {
        "id": "j_W5uY0dRR05"
      },
      "execution_count": 104,
      "outputs": []
    },
    {
      "cell_type": "code",
      "source": [
        "with pd.option_context('display.max_seq_items', None):\n",
        "    display(df.columns)"
      ],
      "metadata": {
        "colab": {
          "base_uri": "https://localhost:8080/",
          "height": 451
        },
        "id": "re1plZNlTzVI",
        "outputId": "168d8b36-8d40-4bcc-ac46-75d1813b0ce9"
      },
      "execution_count": 105,
      "outputs": [
        {
          "output_type": "display_data",
          "data": {
            "text/plain": [
              "Index(['DT_NOTIFIC', 'SEM_NOT', 'DT_SIN_PRI', 'SEM_PRI', 'SG_UF_NOT',\n",
              "       'CO_REGIONA', 'CO_MUN_NOT', 'CO_UNI_NOT', 'CS_SEXO', 'DT_NASC',\n",
              "       'CS_GESTANT', 'CS_RACA', 'CS_ESCOL_N', 'SG_UF', 'CO_RG_RESI',\n",
              "       'CO_MUN_RES', 'CS_ZONA', 'FEBRE', 'TOSSE', 'GARGANTA', 'DISPNEIA',\n",
              "       'DESC_RESP', 'SATURACAO', 'DIARREIA', 'VOMITO', 'OUTRO_SIN', 'PUERPERA',\n",
              "       'FATOR_RISC', 'CARDIOPATI', 'HEMATOLOGI', 'SIND_DOWN', 'HEPATICA',\n",
              "       'ASMA', 'DIABETES', 'NEUROLOGIC', 'PNEUMOPATI', 'IMUNODEPRE', 'RENAL',\n",
              "       'OBESIDADE', 'OBES_IMC', 'OUT_MORBI', 'VACINA', 'DT_UT_DOSE', 'MAE_VAC',\n",
              "       'DT_VAC_MAE', 'M_AMAMENTA', 'DT_DOSEUNI', 'DT_1_DOSE', 'DT_2_DOSE',\n",
              "       'HOSPITAL', 'DT_INTERNA', 'SG_UF_INTE', 'CO_RG_INTE', 'CO_MU_INTE',\n",
              "       'UTI', 'DT_ENTUTI', 'DT_SAIDUTI', 'SUPORT_VEN', 'RAIOX_RES', 'DT_RAIOX',\n",
              "       'AMOSTRA', 'DT_COLETA', 'TP_AMOSTRA', 'PCR_RESUL', 'DT_PCR',\n",
              "       'POS_PCRFLU', 'TP_FLU_PCR', 'PCR_FLUASU', 'PCR_FLUBLI', 'POS_PCROUT',\n",
              "       'PCR_VSR', 'PCR_PARA1', 'PCR_PARA2', 'PCR_PARA3', 'PCR_PARA4',\n",
              "       'PCR_ADENO', 'PCR_METAP', 'PCR_BOCA', 'PCR_RINO', 'PCR_OUTRO',\n",
              "       'CLASSI_FIN', 'CRITERIO', 'EVOLUCAO', 'DT_EVOLUCA', 'DT_ENCERRA',\n",
              "       'DT_DIGITA', 'PCR_SARS2', 'PAC_COCBO', 'DOR_ABD', 'FADIGA', 'PERD_OLFT',\n",
              "       'PERD_PALA', 'TOMO_RES', 'DT_TOMO', 'TP_TES_AN', 'DT_RES_AN', 'RES_AN',\n",
              "       'POS_AN_FLU', 'TP_FLU_AN', 'POS_AN_OUT', 'AN_SARS2', 'AN_VSR',\n",
              "       'AN_PARA1', 'AN_PARA2', 'AN_PARA3', 'AN_ADENO', 'AN_OUTRO', 'TP_AM_SOR',\n",
              "       'DT_CO_SOR', 'TP_SOR', 'DT_RES', 'VACINA_COV', 'DOSE_1_COV',\n",
              "       'DOSE_2_COV', 'DOSE_REF', 'FAB_COV_1', 'FAB_COV_2', 'FAB_COVREF',\n",
              "       'LOTE_REF', 'LOTE_1_COV', 'LOTE_2_COV', 'FNT_IN_COV', 'DOSE_2REF',\n",
              "       'FAB_COVRF2', 'LOTE_REF2'],\n",
              "      dtype='object')"
            ]
          },
          "metadata": {}
        }
      ]
    },
    {
      "cell_type": "code",
      "source": [],
      "metadata": {
        "id": "G4PxTXNWjF6z"
      },
      "execution_count": 105,
      "outputs": []
    }
  ]
}