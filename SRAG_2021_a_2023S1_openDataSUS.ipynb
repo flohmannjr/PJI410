{
  "nbformat": 4,
  "nbformat_minor": 0,
  "metadata": {
    "colab": {
      "provenance": [],
      "toc_visible": true,
      "authorship_tag": "ABX9TyP+7JIZ9AN+qm0UKmKB/dYH",
      "include_colab_link": true
    },
    "kernelspec": {
      "name": "python3",
      "display_name": "Python 3"
    },
    "language_info": {
      "name": "python"
    }
  },
  "cells": [
    {
      "cell_type": "markdown",
      "metadata": {
        "id": "view-in-github",
        "colab_type": "text"
      },
      "source": [
        "<a href=\"https://colab.research.google.com/github/flohmannjr/PJI410/blob/main/SRAG_2021_a_2023S1_openDataSUS.ipynb\" target=\"_parent\"><img src=\"https://colab.research.google.com/assets/colab-badge.svg\" alt=\"Open In Colab\"/></a>"
      ]
    },
    {
      "cell_type": "markdown",
      "source": [
        "# SRAG 2021 a 2023 - Banco de Dados de Síndrome Respiratória Aguda Grave\n",
        "\n",
        "Dados atualizados até 22 de Fevereiro de 2023\n",
        "\n",
        "https://opendatasus.saude.gov.br/dataset/srag-2021-a-2023"
      ],
      "metadata": {
        "id": "G_wRy8rZ9c4M"
      }
    },
    {
      "cell_type": "markdown",
      "source": [
        "# Importações"
      ],
      "metadata": {
        "id": "g2TgIvCl96Zy"
      }
    },
    {
      "cell_type": "code",
      "source": [
        "import numpy as np\n",
        "import pandas as pd\n",
        "\n",
        "import matplotlib.pyplot as plt\n",
        "import seaborn as sns\n",
        "\n",
        "import datetime"
      ],
      "metadata": {
        "id": "BqxVW09d-Dx6"
      },
      "execution_count": 1,
      "outputs": []
    },
    {
      "cell_type": "markdown",
      "source": [
        "# Configurações"
      ],
      "metadata": {
        "id": "AYZyXKAo-GcL"
      }
    },
    {
      "cell_type": "code",
      "source": [
        "plt.rcParams['figure.figsize'] = [8, 5]\n",
        "plt.rcParams['figure.dpi'] = 100\n",
        "\n",
        "plt.style.use('seaborn-darkgrid')\n",
        "\n",
        "SEED     = 2001088 + 2001247 + 2003061 + 2008193 + 2008620 + 2008880\n",
        "COLORMAP = 'summer_r'"
      ],
      "metadata": {
        "id": "S9v6zYN--JGK"
      },
      "execution_count": 2,
      "outputs": []
    },
    {
      "cell_type": "markdown",
      "source": [
        "# Dados"
      ],
      "metadata": {
        "id": "ULNywAux-OT0"
      }
    },
    {
      "cell_type": "code",
      "source": [
        "!wget https://raw.githubusercontent.com/flohmannjr/PJI410/main/openDataSUS.7z.001\n",
        "!wget https://raw.githubusercontent.com/flohmannjr/PJI410/main/openDataSUS.7z.002\n",
        "!wget https://raw.githubusercontent.com/flohmannjr/PJI410/main/openDataSUS.7z.003\n",
        "!wget https://raw.githubusercontent.com/flohmannjr/PJI410/main/openDataSUS.7z.004\n",
        "\n",
        "!7z e /content/openDataSUS.7z.001"
      ],
      "metadata": {
        "colab": {
          "base_uri": "https://localhost:8080/"
        },
        "id": "ObOYja4G-5sa",
        "outputId": "1efafeb8-3ed0-47bf-a281-a310684a9afe"
      },
      "execution_count": 3,
      "outputs": [
        {
          "output_type": "stream",
          "name": "stdout",
          "text": [
            "--2023-02-23 22:32:57--  https://raw.githubusercontent.com/flohmannjr/PJI410/main/openDataSUS.7z.001\n",
            "Resolving raw.githubusercontent.com (raw.githubusercontent.com)... 185.199.108.133, 185.199.109.133, 185.199.110.133, ...\n",
            "Connecting to raw.githubusercontent.com (raw.githubusercontent.com)|185.199.108.133|:443... connected.\n",
            "HTTP request sent, awaiting response... 200 OK\n",
            "Length: 25165824 (24M) [application/octet-stream]\n",
            "Saving to: ‘openDataSUS.7z.001’\n",
            "\n",
            "openDataSUS.7z.001  100%[===================>]  24.00M   134MB/s    in 0.2s    \n",
            "\n",
            "2023-02-23 22:32:57 (134 MB/s) - ‘openDataSUS.7z.001’ saved [25165824/25165824]\n",
            "\n",
            "--2023-02-23 22:32:58--  https://raw.githubusercontent.com/flohmannjr/PJI410/main/openDataSUS.7z.002\n",
            "Resolving raw.githubusercontent.com (raw.githubusercontent.com)... 185.199.108.133, 185.199.109.133, 185.199.110.133, ...\n",
            "Connecting to raw.githubusercontent.com (raw.githubusercontent.com)|185.199.108.133|:443... connected.\n",
            "HTTP request sent, awaiting response... 200 OK\n",
            "Length: 25165824 (24M) [application/octet-stream]\n",
            "Saving to: ‘openDataSUS.7z.002’\n",
            "\n",
            "openDataSUS.7z.002  100%[===================>]  24.00M   133MB/s    in 0.2s    \n",
            "\n",
            "2023-02-23 22:32:58 (133 MB/s) - ‘openDataSUS.7z.002’ saved [25165824/25165824]\n",
            "\n",
            "--2023-02-23 22:32:58--  https://raw.githubusercontent.com/flohmannjr/PJI410/main/openDataSUS.7z.003\n",
            "Resolving raw.githubusercontent.com (raw.githubusercontent.com)... 185.199.109.133, 185.199.108.133, 185.199.110.133, ...\n",
            "Connecting to raw.githubusercontent.com (raw.githubusercontent.com)|185.199.109.133|:443... connected.\n",
            "HTTP request sent, awaiting response... 200 OK\n",
            "Length: 25165824 (24M) [application/octet-stream]\n",
            "Saving to: ‘openDataSUS.7z.003’\n",
            "\n",
            "openDataSUS.7z.003  100%[===================>]  24.00M   104MB/s    in 0.2s    \n",
            "\n",
            "2023-02-23 22:32:59 (104 MB/s) - ‘openDataSUS.7z.003’ saved [25165824/25165824]\n",
            "\n",
            "--2023-02-23 22:32:59--  https://raw.githubusercontent.com/flohmannjr/PJI410/main/openDataSUS.7z.004\n",
            "Resolving raw.githubusercontent.com (raw.githubusercontent.com)... 185.199.108.133, 185.199.109.133, 185.199.110.133, ...\n",
            "Connecting to raw.githubusercontent.com (raw.githubusercontent.com)|185.199.108.133|:443... connected.\n",
            "HTTP request sent, awaiting response... 200 OK\n",
            "Length: 12897105 (12M) [application/octet-stream]\n",
            "Saving to: ‘openDataSUS.7z.004’\n",
            "\n",
            "openDataSUS.7z.004  100%[===================>]  12.30M  72.4MB/s    in 0.2s    \n",
            "\n",
            "2023-02-23 22:33:00 (72.4 MB/s) - ‘openDataSUS.7z.004’ saved [12897105/12897105]\n",
            "\n",
            "\n",
            "7-Zip [64] 16.02 : Copyright (c) 1999-2016 Igor Pavlov : 2016-05-21\n",
            "p7zip Version 16.02 (locale=en_US.UTF-8,Utf16=on,HugeFiles=on,64 bits,2 CPUs AMD EPYC 7B12 (830F10),ASM,AES-NI)\n",
            "\n",
            "Scanning the drive for archives:\n",
            "  0M Scan /content/\b\b\b\b\b\b\b\b\b\b\b\b\b\b\b\b\b\b\b                   \b\b\b\b\b\b\b\b\b\b\b\b\b\b\b\b\b\b\b1 file, 25165824 bytes (24 MiB)\n",
            "\n",
            "Extracting archive: /content/openDataSUS.7z.001\n",
            "  0% 1 Open\b\b\b\b\b\b\b\b\b\b\b           \b\b\b\b\b\b\b\b\b\b\b--\n",
            "Path = /content/openDataSUS.7z.001\n",
            "Type = Split\n",
            "Physical Size = 25165824\n",
            "Volumes = 4\n",
            "Total Physical Size = 88394577\n",
            "----\n",
            "Path = openDataSUS.7z\n",
            "Size = 88394577\n",
            "--\n",
            "Path = openDataSUS.7z\n",
            "Type = 7z\n",
            "Physical Size = 88394577\n",
            "Headers Size = 218\n",
            "Method = LZMA:27\n",
            "Solid = +\n",
            "Blocks = 1\n",
            "\n",
            "  0%\b\b\b\b    \b\b\b\b  0% - INFLUD21-20-02-2023.csv\b\b\b\b\b\b\b\b\b\b\b\b\b\b\b\b\b\b\b\b\b\b\b\b\b\b\b\b\b\b                              \b\b\b\b\b\b\b\b\b\b\b\b\b\b\b\b\b\b\b\b\b\b\b\b\b\b\b\b\b\b  2% - INFLUD21-20-02-2023.csv\b\b\b\b\b\b\b\b\b\b\b\b\b\b\b\b\b\b\b\b\b\b\b\b\b\b\b\b\b\b                              \b\b\b\b\b\b\b\b\b\b\b\b\b\b\b\b\b\b\b\b\b\b\b\b\b\b\b\b\b\b  3% - INFLUD21-20-02-2023.csv\b\b\b\b\b\b\b\b\b\b\b\b\b\b\b\b\b\b\b\b\b\b\b\b\b\b\b\b\b\b                              \b\b\b\b\b\b\b\b\b\b\b\b\b\b\b\b\b\b\b\b\b\b\b\b\b\b\b\b\b\b  4% - INFLUD21-20-02-2023.csv\b\b\b\b\b\b\b\b\b\b\b\b\b\b\b\b\b\b\b\b\b\b\b\b\b\b\b\b\b\b                              \b\b\b\b\b\b\b\b\b\b\b\b\b\b\b\b\b\b\b\b\b\b\b\b\b\b\b\b\b\b  5% - INFLUD21-20-02-2023.csv\b\b\b\b\b\b\b\b\b\b\b\b\b\b\b\b\b\b\b\b\b\b\b\b\b\b\b\b\b\b                              \b\b\b\b\b\b\b\b\b\b\b\b\b\b\b\b\b\b\b\b\b\b\b\b\b\b\b\b\b\b  6% - INFLUD21-20-02-2023.csv\b\b\b\b\b\b\b\b\b\b\b\b\b\b\b\b\b\b\b\b\b\b\b\b\b\b\b\b\b\b                              \b\b\b\b\b\b\b\b\b\b\b\b\b\b\b\b\b\b\b\b\b\b\b\b\b\b\b\b\b\b  8% - INFLUD21-20-02-2023.csv\b\b\b\b\b\b\b\b\b\b\b\b\b\b\b\b\b\b\b\b\b\b\b\b\b\b\b\b\b\b                              \b\b\b\b\b\b\b\b\b\b\b\b\b\b\b\b\b\b\b\b\b\b\b\b\b\b\b\b\b\b  9% - INFLUD21-20-02-2023.csv\b\b\b\b\b\b\b\b\b\b\b\b\b\b\b\b\b\b\b\b\b\b\b\b\b\b\b\b\b\b                              \b\b\b\b\b\b\b\b\b\b\b\b\b\b\b\b\b\b\b\b\b\b\b\b\b\b\b\b\b\b 11% - INFLUD21-20-02-2023.csv\b\b\b\b\b\b\b\b\b\b\b\b\b\b\b\b\b\b\b\b\b\b\b\b\b\b\b\b\b\b                              \b\b\b\b\b\b\b\b\b\b\b\b\b\b\b\b\b\b\b\b\b\b\b\b\b\b\b\b\b\b 13% - INFLUD21-20-02-2023.csv\b\b\b\b\b\b\b\b\b\b\b\b\b\b\b\b\b\b\b\b\b\b\b\b\b\b\b\b\b\b                              \b\b\b\b\b\b\b\b\b\b\b\b\b\b\b\b\b\b\b\b\b\b\b\b\b\b\b\b\b\b 14% - INFLUD21-20-02-2023.csv\b\b\b\b\b\b\b\b\b\b\b\b\b\b\b\b\b\b\b\b\b\b\b\b\b\b\b\b\b\b                              \b\b\b\b\b\b\b\b\b\b\b\b\b\b\b\b\b\b\b\b\b\b\b\b\b\b\b\b\b\b 15% - INFLUD21-20-02-2023.csv\b\b\b\b\b\b\b\b\b\b\b\b\b\b\b\b\b\b\b\b\b\b\b\b\b\b\b\b\b\b                              \b\b\b\b\b\b\b\b\b\b\b\b\b\b\b\b\b\b\b\b\b\b\b\b\b\b\b\b\b\b 17% - INFLUD21-20-02-2023.csv\b\b\b\b\b\b\b\b\b\b\b\b\b\b\b\b\b\b\b\b\b\b\b\b\b\b\b\b\b\b                              \b\b\b\b\b\b\b\b\b\b\b\b\b\b\b\b\b\b\b\b\b\b\b\b\b\b\b\b\b\b 19% - INFLUD21-20-02-2023.csv\b\b\b\b\b\b\b\b\b\b\b\b\b\b\b\b\b\b\b\b\b\b\b\b\b\b\b\b\b\b                              \b\b\b\b\b\b\b\b\b\b\b\b\b\b\b\b\b\b\b\b\b\b\b\b\b\b\b\b\b\b 21% - INFLUD21-20-02-2023.csv\b\b\b\b\b\b\b\b\b\b\b\b\b\b\b\b\b\b\b\b\b\b\b\b\b\b\b\b\b\b                              \b\b\b\b\b\b\b\b\b\b\b\b\b\b\b\b\b\b\b\b\b\b\b\b\b\b\b\b\b\b 22% - INFLUD21-20-02-2023.csv\b\b\b\b\b\b\b\b\b\b\b\b\b\b\b\b\b\b\b\b\b\b\b\b\b\b\b\b\b\b                              \b\b\b\b\b\b\b\b\b\b\b\b\b\b\b\b\b\b\b\b\b\b\b\b\b\b\b\b\b\b 24% - INFLUD21-20-02-2023.csv\b\b\b\b\b\b\b\b\b\b\b\b\b\b\b\b\b\b\b\b\b\b\b\b\b\b\b\b\b\b                              \b\b\b\b\b\b\b\b\b\b\b\b\b\b\b\b\b\b\b\b\b\b\b\b\b\b\b\b\b\b 25% - INFLUD21-20-02-2023.csv\b\b\b\b\b\b\b\b\b\b\b\b\b\b\b\b\b\b\b\b\b\b\b\b\b\b\b\b\b\b                              \b\b\b\b\b\b\b\b\b\b\b\b\b\b\b\b\b\b\b\b\b\b\b\b\b\b\b\b\b\b 26% - INFLUD21-20-02-2023.csv\b\b\b\b\b\b\b\b\b\b\b\b\b\b\b\b\b\b\b\b\b\b\b\b\b\b\b\b\b\b                              \b\b\b\b\b\b\b\b\b\b\b\b\b\b\b\b\b\b\b\b\b\b\b\b\b\b\b\b\b\b 27% - INFLUD21-20-02-2023.csv\b\b\b\b\b\b\b\b\b\b\b\b\b\b\b\b\b\b\b\b\b\b\b\b\b\b\b\b\b\b                              \b\b\b\b\b\b\b\b\b\b\b\b\b\b\b\b\b\b\b\b\b\b\b\b\b\b\b\b\b\b 28% - INFLUD21-20-02-2023.csv\b\b\b\b\b\b\b\b\b\b\b\b\b\b\b\b\b\b\b\b\b\b\b\b\b\b\b\b\b\b                              \b\b\b\b\b\b\b\b\b\b\b\b\b\b\b\b\b\b\b\b\b\b\b\b\b\b\b\b\b\b 29% - INFLUD21-20-02-2023.csv\b\b\b\b\b\b\b\b\b\b\b\b\b\b\b\b\b\b\b\b\b\b\b\b\b\b\b\b\b\b                              \b\b\b\b\b\b\b\b\b\b\b\b\b\b\b\b\b\b\b\b\b\b\b\b\b\b\b\b\b\b 31% - INFLUD21-20-02-2023.csv\b\b\b\b\b\b\b\b\b\b\b\b\b\b\b\b\b\b\b\b\b\b\b\b\b\b\b\b\b\b                              \b\b\b\b\b\b\b\b\b\b\b\b\b\b\b\b\b\b\b\b\b\b\b\b\b\b\b\b\b\b 33% - INFLUD21-20-02-2023.csv\b\b\b\b\b\b\b\b\b\b\b\b\b\b\b\b\b\b\b\b\b\b\b\b\b\b\b\b\b\b                              \b\b\b\b\b\b\b\b\b\b\b\b\b\b\b\b\b\b\b\b\b\b\b\b\b\b\b\b\b\b 35% - INFLUD21-20-02-2023.csv\b\b\b\b\b\b\b\b\b\b\b\b\b\b\b\b\b\b\b\b\b\b\b\b\b\b\b\b\b\b                              \b\b\b\b\b\b\b\b\b\b\b\b\b\b\b\b\b\b\b\b\b\b\b\b\b\b\b\b\b\b 36% - INFLUD21-20-02-2023.csv\b\b\b\b\b\b\b\b\b\b\b\b\b\b\b\b\b\b\b\b\b\b\b\b\b\b\b\b\b\b                              \b\b\b\b\b\b\b\b\b\b\b\b\b\b\b\b\b\b\b\b\b\b\b\b\b\b\b\b\b\b 37% - INFLUD21-20-02-2023.csv\b\b\b\b\b\b\b\b\b\b\b\b\b\b\b\b\b\b\b\b\b\b\b\b\b\b\b\b\b\b                              \b\b\b\b\b\b\b\b\b\b\b\b\b\b\b\b\b\b\b\b\b\b\b\b\b\b\b\b\b\b 38% - INFLUD21-20-02-2023.csv\b\b\b\b\b\b\b\b\b\b\b\b\b\b\b\b\b\b\b\b\b\b\b\b\b\b\b\b\b\b                              \b\b\b\b\b\b\b\b\b\b\b\b\b\b\b\b\b\b\b\b\b\b\b\b\b\b\b\b\b\b 39% - INFLUD21-20-02-2023.csv\b\b\b\b\b\b\b\b\b\b\b\b\b\b\b\b\b\b\b\b\b\b\b\b\b\b\b\b\b\b                              \b\b\b\b\b\b\b\b\b\b\b\b\b\b\b\b\b\b\b\b\b\b\b\b\b\b\b\b\b\b 40% - INFLUD21-20-02-2023.csv\b\b\b\b\b\b\b\b\b\b\b\b\b\b\b\b\b\b\b\b\b\b\b\b\b\b\b\b\b\b                              \b\b\b\b\b\b\b\b\b\b\b\b\b\b\b\b\b\b\b\b\b\b\b\b\b\b\b\b\b\b 41% - INFLUD21-20-02-2023.csv\b\b\b\b\b\b\b\b\b\b\b\b\b\b\b\b\b\b\b\b\b\b\b\b\b\b\b\b\b\b                              \b\b\b\b\b\b\b\b\b\b\b\b\b\b\b\b\b\b\b\b\b\b\b\b\b\b\b\b\b\b 43% - INFLUD21-20-02-2023.csv\b\b\b\b\b\b\b\b\b\b\b\b\b\b\b\b\b\b\b\b\b\b\b\b\b\b\b\b\b\b                              \b\b\b\b\b\b\b\b\b\b\b\b\b\b\b\b\b\b\b\b\b\b\b\b\b\b\b\b\b\b 44% - INFLUD21-20-02-2023.csv\b\b\b\b\b\b\b\b\b\b\b\b\b\b\b\b\b\b\b\b\b\b\b\b\b\b\b\b\b\b                              \b\b\b\b\b\b\b\b\b\b\b\b\b\b\b\b\b\b\b\b\b\b\b\b\b\b\b\b\b\b 45% - INFLUD21-20-02-2023.csv\b\b\b\b\b\b\b\b\b\b\b\b\b\b\b\b\b\b\b\b\b\b\b\b\b\b\b\b\b\b                              \b\b\b\b\b\b\b\b\b\b\b\b\b\b\b\b\b\b\b\b\b\b\b\b\b\b\b\b\b\b 46% - INFLUD21-20-02-2023.csv\b\b\b\b\b\b\b\b\b\b\b\b\b\b\b\b\b\b\b\b\b\b\b\b\b\b\b\b\b\b                              \b\b\b\b\b\b\b\b\b\b\b\b\b\b\b\b\b\b\b\b\b\b\b\b\b\b\b\b\b\b 47% - INFLUD21-20-02-2023.csv\b\b\b\b\b\b\b\b\b\b\b\b\b\b\b\b\b\b\b\b\b\b\b\b\b\b\b\b\b\b                              \b\b\b\b\b\b\b\b\b\b\b\b\b\b\b\b\b\b\b\b\b\b\b\b\b\b\b\b\b\b 48% - INFLUD21-20-02-2023.csv\b\b\b\b\b\b\b\b\b\b\b\b\b\b\b\b\b\b\b\b\b\b\b\b\b\b\b\b\b\b                              \b\b\b\b\b\b\b\b\b\b\b\b\b\b\b\b\b\b\b\b\b\b\b\b\b\b\b\b\b\b 49% - INFLUD21-20-02-2023.csv\b\b\b\b\b\b\b\b\b\b\b\b\b\b\b\b\b\b\b\b\b\b\b\b\b\b\b\b\b\b                              \b\b\b\b\b\b\b\b\b\b\b\b\b\b\b\b\b\b\b\b\b\b\b\b\b\b\b\b\b\b 51% - INFLUD21-20-02-2023.csv\b\b\b\b\b\b\b\b\b\b\b\b\b\b\b\b\b\b\b\b\b\b\b\b\b\b\b\b\b\b                              \b\b\b\b\b\b\b\b\b\b\b\b\b\b\b\b\b\b\b\b\b\b\b\b\b\b\b\b\b\b 52% - INFLUD21-20-02-2023.csv\b\b\b\b\b\b\b\b\b\b\b\b\b\b\b\b\b\b\b\b\b\b\b\b\b\b\b\b\b\b                              \b\b\b\b\b\b\b\b\b\b\b\b\b\b\b\b\b\b\b\b\b\b\b\b\b\b\b\b\b\b 53% - INFLUD21-20-02-2023.csv\b\b\b\b\b\b\b\b\b\b\b\b\b\b\b\b\b\b\b\b\b\b\b\b\b\b\b\b\b\b                              \b\b\b\b\b\b\b\b\b\b\b\b\b\b\b\b\b\b\b\b\b\b\b\b\b\b\b\b\b\b 54% - INFLUD21-20-02-2023.csv\b\b\b\b\b\b\b\b\b\b\b\b\b\b\b\b\b\b\b\b\b\b\b\b\b\b\b\b\b\b                              \b\b\b\b\b\b\b\b\b\b\b\b\b\b\b\b\b\b\b\b\b\b\b\b\b\b\b\b\b\b 55% - INFLUD21-20-02-2023.csv\b\b\b\b\b\b\b\b\b\b\b\b\b\b\b\b\b\b\b\b\b\b\b\b\b\b\b\b\b\b                              \b\b\b\b\b\b\b\b\b\b\b\b\b\b\b\b\b\b\b\b\b\b\b\b\b\b\b\b\b\b 56% - INFLUD21-20-02-2023.csv\b\b\b\b\b\b\b\b\b\b\b\b\b\b\b\b\b\b\b\b\b\b\b\b\b\b\b\b\b\b                              \b\b\b\b\b\b\b\b\b\b\b\b\b\b\b\b\b\b\b\b\b\b\b\b\b\b\b\b\b\b 57% - INFLUD21-20-02-2023.csv\b\b\b\b\b\b\b\b\b\b\b\b\b\b\b\b\b\b\b\b\b\b\b\b\b\b\b\b\b\b                              \b\b\b\b\b\b\b\b\b\b\b\b\b\b\b\b\b\b\b\b\b\b\b\b\b\b\b\b\b\b 58% - INFLUD21-20-02-2023.csv\b\b\b\b\b\b\b\b\b\b\b\b\b\b\b\b\b\b\b\b\b\b\b\b\b\b\b\b\b\b                              \b\b\b\b\b\b\b\b\b\b\b\b\b\b\b\b\b\b\b\b\b\b\b\b\b\b\b\b\b\b 59% - INFLUD21-20-02-2023.csv\b\b\b\b\b\b\b\b\b\b\b\b\b\b\b\b\b\b\b\b\b\b\b\b\b\b\b\b\b\b                              \b\b\b\b\b\b\b\b\b\b\b\b\b\b\b\b\b\b\b\b\b\b\b\b\b\b\b\b\b\b 61% - INFLUD21-20-02-2023.csv\b\b\b\b\b\b\b\b\b\b\b\b\b\b\b\b\b\b\b\b\b\b\b\b\b\b\b\b\b\b                              \b\b\b\b\b\b\b\b\b\b\b\b\b\b\b\b\b\b\b\b\b\b\b\b\b\b\b\b\b\b 62% - INFLUD21-20-02-2023.csv\b\b\b\b\b\b\b\b\b\b\b\b\b\b\b\b\b\b\b\b\b\b\b\b\b\b\b\b\b\b                              \b\b\b\b\b\b\b\b\b\b\b\b\b\b\b\b\b\b\b\b\b\b\b\b\b\b\b\b\b\b 63% - INFLUD21-20-02-2023.csv\b\b\b\b\b\b\b\b\b\b\b\b\b\b\b\b\b\b\b\b\b\b\b\b\b\b\b\b\b\b                              \b\b\b\b\b\b\b\b\b\b\b\b\b\b\b\b\b\b\b\b\b\b\b\b\b\b\b\b\b\b 64% - INFLUD21-20-02-2023.csv\b\b\b\b\b\b\b\b\b\b\b\b\b\b\b\b\b\b\b\b\b\b\b\b\b\b\b\b\b\b                              \b\b\b\b\b\b\b\b\b\b\b\b\b\b\b\b\b\b\b\b\b\b\b\b\b\b\b\b\b\b 65% - INFLUD21-20-02-2023.csv\b\b\b\b\b\b\b\b\b\b\b\b\b\b\b\b\b\b\b\b\b\b\b\b\b\b\b\b\b\b                              \b\b\b\b\b\b\b\b\b\b\b\b\b\b\b\b\b\b\b\b\b\b\b\b\b\b\b\b\b\b 66% - INFLUD21-20-02-2023.csv\b\b\b\b\b\b\b\b\b\b\b\b\b\b\b\b\b\b\b\b\b\b\b\b\b\b\b\b\b\b                              \b\b\b\b\b\b\b\b\b\b\b\b\b\b\b\b\b\b\b\b\b\b\b\b\b\b\b\b\b\b 67% - INFLUD21-20-02-2023.csv\b\b\b\b\b\b\b\b\b\b\b\b\b\b\b\b\b\b\b\b\b\b\b\b\b\b\b\b\b\b                              \b\b\b\b\b\b\b\b\b\b\b\b\b\b\b\b\b\b\b\b\b\b\b\b\b\b\b\b\b\b 68% - INFLUD21-20-02-2023.csv\b\b\b\b\b\b\b\b\b\b\b\b\b\b\b\b\b\b\b\b\b\b\b\b\b\b\b\b\b\b                              \b\b\b\b\b\b\b\b\b\b\b\b\b\b\b\b\b\b\b\b\b\b\b\b\b\b\b\b\b\b 70% - INFLUD21-20-02-2023.csv\b\b\b\b\b\b\b\b\b\b\b\b\b\b\b\b\b\b\b\b\b\b\b\b\b\b\b\b\b\b                              \b\b\b\b\b\b\b\b\b\b\b\b\b\b\b\b\b\b\b\b\b\b\b\b\b\b\b\b\b\b 71% - INFLUD21-20-02-2023.csv\b\b\b\b\b\b\b\b\b\b\b\b\b\b\b\b\b\b\b\b\b\b\b\b\b\b\b\b\b\b                              \b\b\b\b\b\b\b\b\b\b\b\b\b\b\b\b\b\b\b\b\b\b\b\b\b\b\b\b\b\b 72% - INFLUD21-20-02-2023.csv\b\b\b\b\b\b\b\b\b\b\b\b\b\b\b\b\b\b\b\b\b\b\b\b\b\b\b\b\b\b                              \b\b\b\b\b\b\b\b\b\b\b\b\b\b\b\b\b\b\b\b\b\b\b\b\b\b\b\b\b\b 73% 1 - INFLUD22-13-02-2023.csv\b\b\b\b\b\b\b\b\b\b\b\b\b\b\b\b\b\b\b\b\b\b\b\b\b\b\b\b\b\b\b\b                                \b\b\b\b\b\b\b\b\b\b\b\b\b\b\b\b\b\b\b\b\b\b\b\b\b\b\b\b\b\b\b\b 74% 1 - INFLUD22-13-02-2023.csv\b\b\b\b\b\b\b\b\b\b\b\b\b\b\b\b\b\b\b\b\b\b\b\b\b\b\b\b\b\b\b\b                                \b\b\b\b\b\b\b\b\b\b\b\b\b\b\b\b\b\b\b\b\b\b\b\b\b\b\b\b\b\b\b\b 75% 1 - INFLUD22-13-02-2023.csv\b\b\b\b\b\b\b\b\b\b\b\b\b\b\b\b\b\b\b\b\b\b\b\b\b\b\b\b\b\b\b\b                                \b\b\b\b\b\b\b\b\b\b\b\b\b\b\b\b\b\b\b\b\b\b\b\b\b\b\b\b\b\b\b\b 77% 1 - INFLUD22-13-02-2023.csv\b\b\b\b\b\b\b\b\b\b\b\b\b\b\b\b\b\b\b\b\b\b\b\b\b\b\b\b\b\b\b\b                                \b\b\b\b\b\b\b\b\b\b\b\b\b\b\b\b\b\b\b\b\b\b\b\b\b\b\b\b\b\b\b\b 78% 1 - INFLUD22-13-02-2023.csv\b\b\b\b\b\b\b\b\b\b\b\b\b\b\b\b\b\b\b\b\b\b\b\b\b\b\b\b\b\b\b\b                                \b\b\b\b\b\b\b\b\b\b\b\b\b\b\b\b\b\b\b\b\b\b\b\b\b\b\b\b\b\b\b\b 79% 1 - INFLUD22-13-02-2023.csv\b\b\b\b\b\b\b\b\b\b\b\b\b\b\b\b\b\b\b\b\b\b\b\b\b\b\b\b\b\b\b\b                                \b\b\b\b\b\b\b\b\b\b\b\b\b\b\b\b\b\b\b\b\b\b\b\b\b\b\b\b\b\b\b\b 81% 1 - INFLUD22-13-02-2023.csv\b\b\b\b\b\b\b\b\b\b\b\b\b\b\b\b\b\b\b\b\b\b\b\b\b\b\b\b\b\b\b\b                                \b\b\b\b\b\b\b\b\b\b\b\b\b\b\b\b\b\b\b\b\b\b\b\b\b\b\b\b\b\b\b\b 83% 1 - INFLUD22-13-02-2023.csv\b\b\b\b\b\b\b\b\b\b\b\b\b\b\b\b\b\b\b\b\b\b\b\b\b\b\b\b\b\b\b\b                                \b\b\b\b\b\b\b\b\b\b\b\b\b\b\b\b\b\b\b\b\b\b\b\b\b\b\b\b\b\b\b\b 84% 1 - INFLUD22-13-02-2023.csv\b\b\b\b\b\b\b\b\b\b\b\b\b\b\b\b\b\b\b\b\b\b\b\b\b\b\b\b\b\b\b\b                                \b\b\b\b\b\b\b\b\b\b\b\b\b\b\b\b\b\b\b\b\b\b\b\b\b\b\b\b\b\b\b\b 86% 1 - INFLUD22-13-02-2023.csv\b\b\b\b\b\b\b\b\b\b\b\b\b\b\b\b\b\b\b\b\b\b\b\b\b\b\b\b\b\b\b\b                                \b\b\b\b\b\b\b\b\b\b\b\b\b\b\b\b\b\b\b\b\b\b\b\b\b\b\b\b\b\b\b\b 89% 1 - INFLUD22-13-02-2023.csv\b\b\b\b\b\b\b\b\b\b\b\b\b\b\b\b\b\b\b\b\b\b\b\b\b\b\b\b\b\b\b\b                                \b\b\b\b\b\b\b\b\b\b\b\b\b\b\b\b\b\b\b\b\b\b\b\b\b\b\b\b\b\b\b\b 90% 1 - INFLUD22-13-02-2023.csv\b\b\b\b\b\b\b\b\b\b\b\b\b\b\b\b\b\b\b\b\b\b\b\b\b\b\b\b\b\b\b\b                                \b\b\b\b\b\b\b\b\b\b\b\b\b\b\b\b\b\b\b\b\b\b\b\b\b\b\b\b\b\b\b\b 92% 1 - INFLUD22-13-02-2023.csv\b\b\b\b\b\b\b\b\b\b\b\b\b\b\b\b\b\b\b\b\b\b\b\b\b\b\b\b\b\b\b\b                                \b\b\b\b\b\b\b\b\b\b\b\b\b\b\b\b\b\b\b\b\b\b\b\b\b\b\b\b\b\b\b\b 94% 1 - INFLUD22-13-02-2023.csv\b\b\b\b\b\b\b\b\b\b\b\b\b\b\b\b\b\b\b\b\b\b\b\b\b\b\b\b\b\b\b\b                                \b\b\b\b\b\b\b\b\b\b\b\b\b\b\b\b\b\b\b\b\b\b\b\b\b\b\b\b\b\b\b\b 97% 1 - INFLUD22-13-02-2023.csv\b\b\b\b\b\b\b\b\b\b\b\b\b\b\b\b\b\b\b\b\b\b\b\b\b\b\b\b\b\b\b\b                                \b\b\b\b\b\b\b\b\b\b\b\b\b\b\b\b\b\b\b\b\b\b\b\b\b\b\b\b\b\b\b\b 99% 2 - INFLUD23-13-02-2023.csv\b\b\b\b\b\b\b\b\b\b\b\b\b\b\b\b\b\b\b\b\b\b\b\b\b\b\b\b\b\b\b\b                                \b\b\b\b\b\b\b\b\b\b\b\b\b\b\b\b\b\b\b\b\b\b\b\b\b\b\b\b\b\b\b\bEverything is Ok\n",
            "\n",
            "Files: 3\n",
            "Size:       1417625450\n",
            "Compressed: 88394577\n"
          ]
        }
      ]
    },
    {
      "cell_type": "code",
      "source": [
        "CAMPOS = {'DT_NOTIFIC': 'string', 'SEM_NOT': 'Int32', 'DT_SIN_PRI': 'string', 'SEM_PRI': 'Int32', 'SG_UF_NOT': 'string', 'ID_REGIONA': 'string', 'CO_REGIONA': 'Int32',\n",
        "          'ID_MUNICIP': 'string', 'CO_MUN_NOT': 'Int32', 'ID_UNIDADE': 'string', 'CO_UNI_NOT': 'Int32', 'CS_SEXO': 'string', 'DT_NASC': 'string', 'NU_IDADE_N': 'Int32',\n",
        "          'TP_IDADE': 'Int32', 'COD_IDADE': 'string', 'CS_GESTANT': 'Int32', 'CS_RACA': 'Int32', 'CS_ESCOL_N': 'Int32', 'ID_PAIS': 'string', 'CO_PAIS': 'Int32',\n",
        "          'SG_UF': 'string', 'ID_RG_RESI': 'string', 'CO_RG_RESI': 'Int32', 'ID_MN_RESI': 'string', 'CO_MUN_RES': 'Int32', 'CS_ZONA': 'Int32', 'SURTO_SG': 'string',\n",
        "          'NOSOCOMIAL': 'Int32', 'AVE_SUINO': 'Int32', 'FEBRE': 'Int32', 'TOSSE': 'Int32', 'GARGANTA': 'Int32', 'DISPNEIA': 'Int32', 'DESC_RESP': 'Int32', 'SATURACAO': 'Int32',\n",
        "          'DIARREIA': 'Int32', 'VOMITO': 'Int32', 'OUTRO_SIN': 'Int32', 'OUTRO_DES': 'string', 'PUERPERA': 'Int32', 'FATOR_RISC': 'Int32', 'CARDIOPATI': 'Int32',\n",
        "          'HEMATOLOGI': 'Int32', 'SIND_DOWN': 'Int32', 'HEPATICA': 'Int32', 'ASMA': 'Int32', 'DIABETES': 'Int32', 'NEUROLOGIC': 'Int32', 'PNEUMOPATI': 'Int32',\n",
        "          'IMUNODEPRE': 'Int32', 'RENAL': 'Int32', 'OBESIDADE': 'Int32', 'OBES_IMC': 'string', 'OUT_MORBI': 'Int32', 'MORB_DESC': 'string', 'VACINA': 'Int32',\n",
        "          'DT_UT_DOSE': 'string', 'MAE_VAC': 'Int32', 'DT_VAC_MAE': 'string', 'M_AMAMENTA': 'Int32', 'DT_DOSEUNI': 'string', 'DT_1_DOSE': 'string', 'DT_2_DOSE': 'string',\n",
        "          'ANTIVIRAL': 'Int32', 'TP_ANTIVIR': 'Int32', 'OUT_ANTIV': 'string', 'DT_ANTIVIR': 'string', 'HOSPITAL': 'Int32', 'DT_INTERNA': 'string', 'SG_UF_INTE': 'string',\n",
        "          'ID_RG_INTE': 'string', 'CO_RG_INTE': 'Int32', 'ID_MN_INTE': 'string', 'CO_MU_INTE': 'Int32', 'UTI': 'Int32', 'DT_ENTUTI': 'string', 'DT_SAIDUTI': 'string',\n",
        "          'SUPORT_VEN': 'Int32', 'RAIOX_RES': 'Int32', 'RAIOX_OUT': 'string', 'DT_RAIOX': 'string', 'AMOSTRA': 'Int32', 'DT_COLETA': 'string', 'TP_AMOSTRA': 'Int32',\n",
        "          'OUT_AMOST': 'string', 'PCR_RESUL': 'Int32', 'DT_PCR': 'string', 'POS_PCRFLU': 'Int32', 'TP_FLU_PCR': 'Int32', 'PCR_FLUASU': 'Int32', 'FLUASU_OUT': 'string',\n",
        "          'PCR_FLUBLI': 'Int32', 'FLUBLI_OUT': 'string', 'POS_PCROUT': 'Int32', 'PCR_VSR': 'Int32', 'PCR_PARA1': 'Int32', 'PCR_PARA2': 'Int32', 'PCR_PARA3': 'Int32',\n",
        "          'PCR_PARA4': 'Int32', 'PCR_ADENO': 'Int32', 'PCR_METAP': 'Int32', 'PCR_BOCA': 'Int32', 'PCR_RINO': 'Int32', 'PCR_OUTRO': 'Int32', 'DS_PCR_OUT': 'string',\n",
        "          'CLASSI_FIN': 'Int32', 'CLASSI_OUT': 'string', 'CRITERIO': 'Int32', 'EVOLUCAO': 'Int32', 'DT_EVOLUCA': 'string', 'DT_ENCERRA': 'string', 'DT_DIGITA': 'string',\n",
        "          'HISTO_VGM': 'string', 'PAIS_VGM': 'string', 'CO_PS_VGM': 'string', 'LO_PS_VGM': 'string', 'DT_VGM': 'string', 'DT_RT_VGM': 'string', 'PCR_SARS2': 'Int32',\n",
        "          'PAC_COCBO': 'string', 'PAC_DSCBO': 'string', 'OUT_ANIM': 'string', 'DOR_ABD': 'Int32', 'FADIGA': 'Int32', 'PERD_OLFT': 'Int32', 'PERD_PALA': 'Int32',\n",
        "          'TOMO_RES': 'Int32', 'TOMO_OUT': 'string', 'DT_TOMO': 'string', 'TP_TES_AN': 'Int32', 'DT_RES_AN': 'string', 'RES_AN': 'Int32', 'POS_AN_FLU': 'string',\n",
        "          'TP_FLU_AN': 'string', 'POS_AN_OUT': 'Int32', 'AN_SARS2': 'Int32', 'AN_VSR': 'Int32', 'AN_PARA1': 'Int32', 'AN_PARA2': 'Int32', 'AN_PARA3': 'Int32',\n",
        "          'AN_ADENO': 'Int32', 'AN_OUTRO': 'Int32', 'DS_AN_OUT': 'string', 'TP_AM_SOR': 'Int32', 'SOR_OUT': 'string', 'DT_CO_SOR': 'string', 'TP_SOR': 'Int32',\n",
        "          'OUT_SOR': 'string', 'DT_RES': 'string', 'RES_IGG': 'Int32', 'RES_IGM': 'Int32', 'RES_IGA': 'Int32', 'ESTRANG': 'Int32', 'VACINA_COV': 'Int32',\n",
        "          'DOSE_1_COV': 'string', 'DOSE_2_COV': 'string', 'DOSE_REF': 'string', 'FAB_COV_1': 'string', 'FAB_COV_2': 'string', 'FAB_COVREF': 'string', 'LAB_PR_COV': 'string',\n",
        "          'LOTE_1_COV': 'string', 'LOTE_2_COV': 'string', 'LOTE_REF': 'string', 'FNT_IN_COV': 'Int32', 'DOSE_2REF': 'string', 'FAB_COVRF2': 'string', 'LOTE_REF2': 'string',\n",
        "          'TRAT_COV': 'Int32', 'TIPO_TRAT': 'Int32', 'OUT_TRAT': 'string', 'DT_TRT_COV': 'string'}\n",
        "\n",
        "# AUSENTES = df_23.columns[~df_23.columns.isin(df_21.columns)]\n",
        "AUSENTES = ['DOSE_2REF', 'FAB_COVRF2', 'LOTE_REF2', 'TRAT_COV', 'TIPO_TRAT', 'OUT_TRAT', 'DT_TRT_COV']\n",
        "\n",
        "DATAS = ['DT_NOTIFIC', 'DT_SIN_PRI', 'DT_NASC', 'DT_UT_DOSE', 'DT_VAC_MAE', 'DT_DOSEUNI', 'DT_1_DOSE', 'DT_2_DOSE', 'DT_ANTIVIR', 'DT_INTERNA', 'DT_ENTUTI', 'DT_SAIDUTI',\n",
        "         'DT_RAIOX', 'DT_COLETA', 'DT_PCR', 'DT_EVOLUCA', 'DT_ENCERRA', 'DT_DIGITA', 'DT_VGM', 'DT_RT_VGM', 'DT_TOMO', 'DT_RES_AN', 'DT_CO_SOR', 'DT_RES', 'DT_TRT_COV']"
      ],
      "metadata": {
        "id": "uPnSUswJawan"
      },
      "execution_count": 4,
      "outputs": []
    },
    {
      "cell_type": "code",
      "source": [
        "df_srag = pd.read_csv('INFLUD21-20-02-2023.csv', sep=';', dtype=dict(list(CAMPOS.items())[:-7]))"
      ],
      "metadata": {
        "id": "glhrVI-zTA6M"
      },
      "execution_count": 5,
      "outputs": []
    },
    {
      "cell_type": "code",
      "source": [
        "df_srag[AUSENTES] = [None] * len(AUSENTES)"
      ],
      "metadata": {
        "colab": {
          "base_uri": "https://localhost:8080/"
        },
        "id": "c_ieQXXwxNpJ",
        "outputId": "4fc10338-4310-4214-eb5f-bbdacfb8b096"
      },
      "execution_count": 6,
      "outputs": [
        {
          "output_type": "stream",
          "name": "stderr",
          "text": [
            "/usr/local/lib/python3.8/dist-packages/pandas/core/frame.py:3678: PerformanceWarning: DataFrame is highly fragmented.  This is usually the result of calling `frame.insert` many times, which has poor performance.  Consider joining all columns at once using pd.concat(axis=1) instead.  To get a de-fragmented frame, use `newframe = frame.copy()`\n",
            "  self[col] = igetitem(value, i)\n"
          ]
        }
      ]
    },
    {
      "cell_type": "code",
      "source": [
        "df_srag = pd.concat([df_srag, pd.read_csv('INFLUD22-13-02-2023.csv', sep=';', dtype=CAMPOS)])\n",
        "df_srag = pd.concat([df_srag, pd.read_csv('INFLUD23-13-02-2023.csv', sep=';', dtype=CAMPOS)])"
      ],
      "metadata": {
        "id": "lXFAZSK100rS"
      },
      "execution_count": 7,
      "outputs": []
    },
    {
      "cell_type": "code",
      "source": [
        "for campo in DATAS:\n",
        "    df_srag[campo] = pd.to_datetime(df_srag[campo], format='%d/%m/%Y', errors='coerce')"
      ],
      "metadata": {
        "id": "SqYHfWTVuIpN"
      },
      "execution_count": 8,
      "outputs": []
    },
    {
      "cell_type": "code",
      "source": [
        "df_srag.info()"
      ],
      "metadata": {
        "colab": {
          "base_uri": "https://localhost:8080/"
        },
        "id": "bxq101V5T9SN",
        "outputId": "c3f0c128-224d-4211-822f-24d3d4f7a16f"
      },
      "execution_count": 9,
      "outputs": [
        {
          "output_type": "stream",
          "name": "stdout",
          "text": [
            "<class 'pandas.core.frame.DataFrame'>\n",
            "Int64Index: 2310360 entries, 0 to 22642\n",
            "Columns: 173 entries, DT_NOTIFIC to DT_TRT_COV\n",
            "dtypes: Int32(97), datetime64[ns](25), string(51)\n",
            "memory usage: 2.4 GB\n"
          ]
        }
      ]
    },
    {
      "cell_type": "code",
      "source": [
        "df_srag.info(max_cols=180, null_counts=True)"
      ],
      "metadata": {
        "colab": {
          "base_uri": "https://localhost:8080/"
        },
        "id": "2fnbQ7M2Z_wZ",
        "outputId": "c6bc3fbd-f49b-4412-8678-e2e6d7dffdde"
      },
      "execution_count": 10,
      "outputs": [
        {
          "output_type": "stream",
          "name": "stderr",
          "text": [
            "<ipython-input-10-0c5653319908>:1: FutureWarning: null_counts is deprecated. Use show_counts instead\n",
            "  df_srag.info(max_cols=180, null_counts=True)\n"
          ]
        },
        {
          "output_type": "stream",
          "name": "stdout",
          "text": [
            "<class 'pandas.core.frame.DataFrame'>\n",
            "Int64Index: 2310360 entries, 0 to 22642\n",
            "Data columns (total 173 columns):\n",
            " #    Column      Non-Null Count    Dtype         \n",
            "---   ------      --------------    -----         \n",
            " 0    DT_NOTIFIC  2310360 non-null  datetime64[ns]\n",
            " 1    SEM_NOT     2310360 non-null  Int32         \n",
            " 2    DT_SIN_PRI  2310360 non-null  datetime64[ns]\n",
            " 3    SEM_PRI     2310360 non-null  Int32         \n",
            " 4    SG_UF_NOT   2310360 non-null  string        \n",
            " 5    ID_REGIONA  2050155 non-null  string        \n",
            " 6    CO_REGIONA  2050155 non-null  Int32         \n",
            " 7    ID_MUNICIP  2310360 non-null  string        \n",
            " 8    CO_MUN_NOT  2310360 non-null  Int32         \n",
            " 9    ID_UNIDADE  2310360 non-null  string        \n",
            " 10   CO_UNI_NOT  2310360 non-null  Int32         \n",
            " 11   CS_SEXO     2310360 non-null  string        \n",
            " 12   DT_NASC     2308970 non-null  datetime64[ns]\n",
            " 13   NU_IDADE_N  2310360 non-null  Int32         \n",
            " 14   TP_IDADE    2310360 non-null  Int32         \n",
            " 15   COD_IDADE   2310360 non-null  string        \n",
            " 16   CS_GESTANT  2310360 non-null  Int32         \n",
            " 17   CS_RACA     2310360 non-null  Int32         \n",
            " 18   CS_ESCOL_N  1480432 non-null  Int32         \n",
            " 19   ID_PAIS     2310360 non-null  string        \n",
            " 20   CO_PAIS     2310360 non-null  Int32         \n",
            " 21   SG_UF       2309962 non-null  string        \n",
            " 22   ID_RG_RESI  2055967 non-null  string        \n",
            " 23   CO_RG_RESI  2055967 non-null  Int32         \n",
            " 24   ID_MN_RESI  2309962 non-null  string        \n",
            " 25   CO_MUN_RES  2309962 non-null  Int32         \n",
            " 26   CS_ZONA     2055870 non-null  Int32         \n",
            " 27   SURTO_SG    137119 non-null   string        \n",
            " 28   NOSOCOMIAL  1923398 non-null  Int32         \n",
            " 29   AVE_SUINO   1889851 non-null  Int32         \n",
            " 30   FEBRE       1884683 non-null  Int32         \n",
            " 31   TOSSE       1993872 non-null  Int32         \n",
            " 32   GARGANTA    1585804 non-null  Int32         \n",
            " 33   DISPNEIA    1982165 non-null  Int32         \n",
            " 34   DESC_RESP   1827487 non-null  Int32         \n",
            " 35   SATURACAO   1893358 non-null  Int32         \n",
            " 36   DIARREIA    1550540 non-null  Int32         \n",
            " 37   VOMITO      1536288 non-null  Int32         \n",
            " 38   OUTRO_SIN   1581867 non-null  Int32         \n",
            " 39   OUTRO_DES   694988 non-null   string        \n",
            " 40   PUERPERA    772161 non-null   Int32         \n",
            " 41   FATOR_RISC  2310360 non-null  Int32         \n",
            " 42   CARDIOPATI  1008859 non-null  Int32         \n",
            " 43   HEMATOLOGI  773808 non-null   Int32         \n",
            " 44   SIND_DOWN   771031 non-null   Int32         \n",
            " 45   HEPATICA    770855 non-null   Int32         \n",
            " 46   ASMA        793109 non-null   Int32         \n",
            " 47   DIABETES    934379 non-null   Int32         \n",
            " 48   NEUROLOGIC  797311 non-null   Int32         \n",
            " 49   PNEUMOPATI  796300 non-null   Int32         \n",
            " 50   IMUNODEPRE  783518 non-null   Int32         \n",
            " 51   RENAL       788302 non-null   Int32         \n",
            " 52   OBESIDADE   816159 non-null   Int32         \n",
            " 53   OBES_IMC    23894 non-null    string        \n",
            " 54   OUT_MORBI   956829 non-null   Int32         \n",
            " 55   MORB_DESC   552988 non-null   string        \n",
            " 56   VACINA      1589720 non-null  Int32         \n",
            " 57   DT_UT_DOSE  92107 non-null    datetime64[ns]\n",
            " 58   MAE_VAC     32552 non-null    Int32         \n",
            " 59   DT_VAC_MAE  1186 non-null     datetime64[ns]\n",
            " 60   M_AMAMENTA  27327 non-null    Int32         \n",
            " 61   DT_DOSEUNI  236 non-null      datetime64[ns]\n",
            " 62   DT_1_DOSE   239 non-null      datetime64[ns]\n",
            " 63   DT_2_DOSE   189 non-null      datetime64[ns]\n",
            " 64   ANTIVIRAL   1878583 non-null  Int32         \n",
            " 65   TP_ANTIVIR  58521 non-null    Int32         \n",
            " 66   OUT_ANTIV   6815 non-null     string        \n",
            " 67   DT_ANTIVIR  51194 non-null    datetime64[ns]\n",
            " 68   HOSPITAL    2245036 non-null  Int32         \n",
            " 69   DT_INTERNA  2157993 non-null  datetime64[ns]\n",
            " 70   SG_UF_INTE  2239369 non-null  string        \n",
            " 71   ID_RG_INTE  1800956 non-null  string        \n",
            " 72   CO_RG_INTE  1800956 non-null  Int32         \n",
            " 73   ID_MN_INTE  2163407 non-null  string        \n",
            " 74   CO_MU_INTE  2163407 non-null  Int32         \n",
            " 75   UTI         1987433 non-null  Int32         \n",
            " 76   DT_ENTUTI   637296 non-null   datetime64[ns]\n",
            " 77   DT_SAIDUTI  383907 non-null   datetime64[ns]\n",
            " 78   SUPORT_VEN  1983169 non-null  Int32         \n",
            " 79   RAIOX_RES   1337038 non-null  Int32         \n",
            " 80   RAIOX_OUT   78938 non-null    string        \n",
            " 81   DT_RAIOX    468513 non-null   datetime64[ns]\n",
            " 82   AMOSTRA     2199668 non-null  Int32         \n",
            " 83   DT_COLETA   2097590 non-null  datetime64[ns]\n",
            " 84   TP_AMOSTRA  2061185 non-null  Int32         \n",
            " 85   OUT_AMOST   186145 non-null   string        \n",
            " 86   PCR_RESUL   2053853 non-null  Int32         \n",
            " 87   DT_PCR      1481952 non-null  datetime64[ns]\n",
            " 88   POS_PCRFLU  581443 non-null   Int32         \n",
            " 89   TP_FLU_PCR  17935 non-null    Int32         \n",
            " 90   PCR_FLUASU  17646 non-null    Int32         \n",
            " 91   FLUASU_OUT  267 non-null      string        \n",
            " 92   PCR_FLUBLI  162 non-null      Int32         \n",
            " 93   FLUBLI_OUT  12 non-null       string        \n",
            " 94   POS_PCROUT  862607 non-null   Int32         \n",
            " 95   PCR_VSR     28086 non-null    Int32         \n",
            " 96   PCR_PARA1   549 non-null      Int32         \n",
            " 97   PCR_PARA2   261 non-null      Int32         \n",
            " 98   PCR_PARA3   1877 non-null     Int32         \n",
            " 99   PCR_PARA4   597 non-null      Int32         \n",
            " 100  PCR_ADENO   4630 non-null     Int32         \n",
            " 101  PCR_METAP   2743 non-null     Int32         \n",
            " 102  PCR_BOCA    2038 non-null     Int32         \n",
            " 103  PCR_RINO    13955 non-null    Int32         \n",
            " 104  PCR_OUTRO   2382 non-null     Int32         \n",
            " 105  DS_PCR_OUT  2116 non-null     string        \n",
            " 106  CLASSI_FIN  2187566 non-null  Int32         \n",
            " 107  CLASSI_OUT  4994 non-null     string        \n",
            " 108  CRITERIO    2131971 non-null  Int32         \n",
            " 109  EVOLUCAO    2082476 non-null  Int32         \n",
            " 110  DT_EVOLUCA  1940601 non-null  datetime64[ns]\n",
            " 111  DT_ENCERRA  2088432 non-null  datetime64[ns]\n",
            " 112  DT_DIGITA   2310360 non-null  datetime64[ns]\n",
            " 113  HISTO_VGM   2310360 non-null  string        \n",
            " 114  PAIS_VGM    62 non-null       string        \n",
            " 115  CO_PS_VGM   62 non-null       string        \n",
            " 116  LO_PS_VGM   42 non-null       string        \n",
            " 117  DT_VGM      54 non-null       datetime64[ns]\n",
            " 118  DT_RT_VGM   54 non-null       datetime64[ns]\n",
            " 119  PCR_SARS2   798935 non-null   Int32         \n",
            " 120  PAC_COCBO   51578 non-null    string        \n",
            " 121  PAC_DSCBO   51578 non-null    string        \n",
            " 122  OUT_ANIM    2019 non-null     string        \n",
            " 123  DOR_ABD     1505891 non-null  Int32         \n",
            " 124  FADIGA      1592975 non-null  Int32         \n",
            " 125  PERD_OLFT   1514023 non-null  Int32         \n",
            " 126  PERD_PALA   1512929 non-null  Int32         \n",
            " 127  TOMO_RES    1458742 non-null  Int32         \n",
            " 128  TOMO_OUT    62783 non-null    string        \n",
            " 129  DT_TOMO     739725 non-null   datetime64[ns]\n",
            " 130  TP_TES_AN   617944 non-null   Int32         \n",
            " 131  DT_RES_AN   631670 non-null   datetime64[ns]\n",
            " 132  RES_AN      1991520 non-null  Int32         \n",
            " 133  POS_AN_FLU  261790 non-null   string        \n",
            " 134  TP_FLU_AN   6610 non-null     string        \n",
            " 135  POS_AN_OUT  348787 non-null   Int32         \n",
            " 136  AN_SARS2    330875 non-null   Int32         \n",
            " 137  AN_VSR      6953 non-null     Int32         \n",
            " 138  AN_PARA1    72 non-null       Int32         \n",
            " 139  AN_PARA2    23 non-null       Int32         \n",
            " 140  AN_PARA3    157 non-null      Int32         \n",
            " 141  AN_ADENO    166 non-null      Int32         \n",
            " 142  AN_OUTRO    1429 non-null     Int32         \n",
            " 143  DS_AN_OUT   1299 non-null     string        \n",
            " 144  TP_AM_SOR   156148 non-null   Int32         \n",
            " 145  SOR_OUT     22896 non-null    string        \n",
            " 146  DT_CO_SOR   126146 non-null   datetime64[ns]\n",
            " 147  TP_SOR      133545 non-null   Int32         \n",
            " 148  OUT_SOR     11350 non-null    string        \n",
            " 149  DT_RES      134667 non-null   datetime64[ns]\n",
            " 150  RES_IGG     256592 non-null   Int32         \n",
            " 151  RES_IGM     259464 non-null   Int32         \n",
            " 152  RES_IGA     202793 non-null   Int32         \n",
            " 153  ESTRANG     1798643 non-null  Int32         \n",
            " 154  VACINA_COV  1863466 non-null  Int32         \n",
            " 155  DOSE_1_COV  684459 non-null   string        \n",
            " 156  DOSE_2_COV  544803 non-null   string        \n",
            " 157  DOSE_REF    194420 non-null   string        \n",
            " 158  FAB_COV_1   685394 non-null   string        \n",
            " 159  FAB_COV_2   308176 non-null   string        \n",
            " 160  FAB_COVREF  193697 non-null   string        \n",
            " 161  LOTE_REF    192595 non-null   string        \n",
            " 162  LAB_PR_COV  685394 non-null   string        \n",
            " 163  LOTE_1_COV  590153 non-null   string        \n",
            " 164  LOTE_2_COV  493157 non-null   string        \n",
            " 165  FNT_IN_COV  1865057 non-null  Int32         \n",
            " 166  DOSE_2REF   31824 non-null    string        \n",
            " 167  FAB_COVRF2  33122 non-null    string        \n",
            " 168  LOTE_REF2   33170 non-null    string        \n",
            " 169  TRAT_COV    109209 non-null   Int32         \n",
            " 170  TIPO_TRAT   1164 non-null     Int32         \n",
            " 171  OUT_TRAT    709 non-null      string        \n",
            " 172  DT_TRT_COV  0 non-null        datetime64[ns]\n",
            "dtypes: Int32(97), datetime64[ns](25), string(51)\n",
            "memory usage: 2.4 GB\n"
          ]
        }
      ]
    },
    {
      "cell_type": "code",
      "source": [],
      "metadata": {
        "id": "IzqYX51RWn5Y"
      },
      "execution_count": 10,
      "outputs": []
    }
  ]
}