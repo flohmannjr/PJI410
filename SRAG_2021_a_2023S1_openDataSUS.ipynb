{
  "nbformat": 4,
  "nbformat_minor": 0,
  "metadata": {
    "colab": {
      "provenance": [],
      "toc_visible": true,
      "authorship_tag": "ABX9TyMr0gD3FVuZYwAOBSnzBvDc",
      "include_colab_link": true
    },
    "kernelspec": {
      "name": "python3",
      "display_name": "Python 3"
    },
    "language_info": {
      "name": "python"
    }
  },
  "cells": [
    {
      "cell_type": "markdown",
      "metadata": {
        "id": "view-in-github",
        "colab_type": "text"
      },
      "source": [
        "<a href=\"https://colab.research.google.com/github/flohmannjr/PJI410/blob/main/SRAG_2021_a_2023S1_openDataSUS.ipynb\" target=\"_parent\"><img src=\"https://colab.research.google.com/assets/colab-badge.svg\" alt=\"Open In Colab\"/></a>"
      ]
    },
    {
      "cell_type": "markdown",
      "source": [
        "# SRAG 2021 a 2023 - Banco de Dados de Síndrome Respiratória Aguda Grave\n",
        "\n",
        "Dados atualizados até 22 de Fevereiro de 2023\n",
        "\n",
        "https://opendatasus.saude.gov.br/dataset/srag-2021-a-2023"
      ],
      "metadata": {
        "id": "G_wRy8rZ9c4M"
      }
    },
    {
      "cell_type": "markdown",
      "source": [
        "# Importações"
      ],
      "metadata": {
        "id": "g2TgIvCl96Zy"
      }
    },
    {
      "cell_type": "code",
      "source": [
        "import numpy as np\n",
        "import pandas as pd\n",
        "\n",
        "import matplotlib.pyplot as plt\n",
        "import seaborn as sns"
      ],
      "metadata": {
        "id": "BqxVW09d-Dx6"
      },
      "execution_count": 1,
      "outputs": []
    },
    {
      "cell_type": "markdown",
      "source": [
        "# Configurações"
      ],
      "metadata": {
        "id": "AYZyXKAo-GcL"
      }
    },
    {
      "cell_type": "code",
      "source": [
        "plt.rcParams['figure.figsize'] = [8, 5]\n",
        "plt.rcParams['figure.dpi'] = 100\n",
        "\n",
        "plt.style.use('seaborn-darkgrid')\n",
        "\n",
        "SEED     = 2001088 + 2001247 + 2003061 + 2008193 + 2008620 + 2008880\n",
        "COLORMAP = 'summer_r'"
      ],
      "metadata": {
        "id": "S9v6zYN--JGK"
      },
      "execution_count": 2,
      "outputs": []
    },
    {
      "cell_type": "markdown",
      "source": [
        "# Dados"
      ],
      "metadata": {
        "id": "ULNywAux-OT0"
      }
    },
    {
      "cell_type": "code",
      "source": [
        "!wget https://raw.githubusercontent.com/flohmannjr/PJI410/main/openDataSUS.7z.001\n",
        "!wget https://raw.githubusercontent.com/flohmannjr/PJI410/main/openDataSUS.7z.002\n",
        "!wget https://raw.githubusercontent.com/flohmannjr/PJI410/main/openDataSUS.7z.003\n",
        "!wget https://raw.githubusercontent.com/flohmannjr/PJI410/main/openDataSUS.7z.004\n",
        "\n",
        "!7z e /content/openDataSUS.7z.001"
      ],
      "metadata": {
        "colab": {
          "base_uri": "https://localhost:8080/"
        },
        "id": "ObOYja4G-5sa",
        "outputId": "2a494272-ad36-4752-964b-ef0d8fd1d806"
      },
      "execution_count": 3,
      "outputs": [
        {
          "output_type": "stream",
          "name": "stdout",
          "text": [
            "--2023-02-24 12:11:06--  https://raw.githubusercontent.com/flohmannjr/PJI410/main/openDataSUS.7z.001\n",
            "Resolving raw.githubusercontent.com (raw.githubusercontent.com)... 185.199.109.133, 185.199.108.133, 185.199.110.133, ...\n",
            "Connecting to raw.githubusercontent.com (raw.githubusercontent.com)|185.199.109.133|:443... connected.\n",
            "HTTP request sent, awaiting response... 200 OK\n",
            "Length: 25165824 (24M) [application/octet-stream]\n",
            "Saving to: ‘openDataSUS.7z.001’\n",
            "\n",
            "openDataSUS.7z.001  100%[===================>]  24.00M  87.3MB/s    in 0.3s    \n",
            "\n",
            "2023-02-24 12:11:08 (87.3 MB/s) - ‘openDataSUS.7z.001’ saved [25165824/25165824]\n",
            "\n",
            "--2023-02-24 12:11:08--  https://raw.githubusercontent.com/flohmannjr/PJI410/main/openDataSUS.7z.002\n",
            "Resolving raw.githubusercontent.com (raw.githubusercontent.com)... 185.199.110.133, 185.199.111.133, 185.199.108.133, ...\n",
            "Connecting to raw.githubusercontent.com (raw.githubusercontent.com)|185.199.110.133|:443... connected.\n",
            "HTTP request sent, awaiting response... 200 OK\n",
            "Length: 25165824 (24M) [application/octet-stream]\n",
            "Saving to: ‘openDataSUS.7z.002’\n",
            "\n",
            "openDataSUS.7z.002  100%[===================>]  24.00M   133MB/s    in 0.2s    \n",
            "\n",
            "2023-02-24 12:11:10 (133 MB/s) - ‘openDataSUS.7z.002’ saved [25165824/25165824]\n",
            "\n",
            "--2023-02-24 12:11:10--  https://raw.githubusercontent.com/flohmannjr/PJI410/main/openDataSUS.7z.003\n",
            "Resolving raw.githubusercontent.com (raw.githubusercontent.com)... 185.199.110.133, 185.199.108.133, 185.199.109.133, ...\n",
            "Connecting to raw.githubusercontent.com (raw.githubusercontent.com)|185.199.110.133|:443... connected.\n",
            "HTTP request sent, awaiting response... 200 OK\n",
            "Length: 25165824 (24M) [application/octet-stream]\n",
            "Saving to: ‘openDataSUS.7z.003’\n",
            "\n",
            "openDataSUS.7z.003  100%[===================>]  24.00M  75.0MB/s    in 0.3s    \n",
            "\n",
            "2023-02-24 12:11:13 (75.0 MB/s) - ‘openDataSUS.7z.003’ saved [25165824/25165824]\n",
            "\n",
            "--2023-02-24 12:11:13--  https://raw.githubusercontent.com/flohmannjr/PJI410/main/openDataSUS.7z.004\n",
            "Resolving raw.githubusercontent.com (raw.githubusercontent.com)... 185.199.108.133, 185.199.109.133, 185.199.110.133, ...\n",
            "Connecting to raw.githubusercontent.com (raw.githubusercontent.com)|185.199.108.133|:443... connected.\n",
            "HTTP request sent, awaiting response... 200 OK\n",
            "Length: 12897105 (12M) [application/octet-stream]\n",
            "Saving to: ‘openDataSUS.7z.004’\n",
            "\n",
            "openDataSUS.7z.004  100%[===================>]  12.30M  63.6MB/s    in 0.2s    \n",
            "\n",
            "2023-02-24 12:11:14 (63.6 MB/s) - ‘openDataSUS.7z.004’ saved [12897105/12897105]\n",
            "\n",
            "\n",
            "7-Zip [64] 16.02 : Copyright (c) 1999-2016 Igor Pavlov : 2016-05-21\n",
            "p7zip Version 16.02 (locale=en_US.UTF-8,Utf16=on,HugeFiles=on,64 bits,2 CPUs Intel(R) Xeon(R) CPU @ 2.20GHz (406F0),ASM,AES-NI)\n",
            "\n",
            "Scanning the drive for archives:\n",
            "  0M Scan /content/\b\b\b\b\b\b\b\b\b\b\b\b\b\b\b\b\b\b\b                   \b\b\b\b\b\b\b\b\b\b\b\b\b\b\b\b\b\b\b1 file, 25165824 bytes (24 MiB)\n",
            "\n",
            "Extracting archive: /content/openDataSUS.7z.001\n",
            "  0% 1 Open\b\b\b\b\b\b\b\b\b\b\b           \b\b\b\b\b\b\b\b\b\b\b--\n",
            "Path = /content/openDataSUS.7z.001\n",
            "Type = Split\n",
            "Physical Size = 25165824\n",
            "Volumes = 4\n",
            "Total Physical Size = 88394577\n",
            "----\n",
            "Path = openDataSUS.7z\n",
            "Size = 88394577\n",
            "--\n",
            "Path = openDataSUS.7z\n",
            "Type = 7z\n",
            "Physical Size = 88394577\n",
            "Headers Size = 218\n",
            "Method = LZMA:27\n",
            "Solid = +\n",
            "Blocks = 1\n",
            "\n",
            "  0%\b\b\b\b    \b\b\b\b  0% - INFLUD21-20-02-2023.csv\b\b\b\b\b\b\b\b\b\b\b\b\b\b\b\b\b\b\b\b\b\b\b\b\b\b\b\b\b\b                              \b\b\b\b\b\b\b\b\b\b\b\b\b\b\b\b\b\b\b\b\b\b\b\b\b\b\b\b\b\b  2% - INFLUD21-20-02-2023.csv\b\b\b\b\b\b\b\b\b\b\b\b\b\b\b\b\b\b\b\b\b\b\b\b\b\b\b\b\b\b                              \b\b\b\b\b\b\b\b\b\b\b\b\b\b\b\b\b\b\b\b\b\b\b\b\b\b\b\b\b\b  3% - INFLUD21-20-02-2023.csv\b\b\b\b\b\b\b\b\b\b\b\b\b\b\b\b\b\b\b\b\b\b\b\b\b\b\b\b\b\b                              \b\b\b\b\b\b\b\b\b\b\b\b\b\b\b\b\b\b\b\b\b\b\b\b\b\b\b\b\b\b  4% - INFLUD21-20-02-2023.csv\b\b\b\b\b\b\b\b\b\b\b\b\b\b\b\b\b\b\b\b\b\b\b\b\b\b\b\b\b\b                              \b\b\b\b\b\b\b\b\b\b\b\b\b\b\b\b\b\b\b\b\b\b\b\b\b\b\b\b\b\b  5% - INFLUD21-20-02-2023.csv\b\b\b\b\b\b\b\b\b\b\b\b\b\b\b\b\b\b\b\b\b\b\b\b\b\b\b\b\b\b                              \b\b\b\b\b\b\b\b\b\b\b\b\b\b\b\b\b\b\b\b\b\b\b\b\b\b\b\b\b\b  6% - INFLUD21-20-02-2023.csv\b\b\b\b\b\b\b\b\b\b\b\b\b\b\b\b\b\b\b\b\b\b\b\b\b\b\b\b\b\b                              \b\b\b\b\b\b\b\b\b\b\b\b\b\b\b\b\b\b\b\b\b\b\b\b\b\b\b\b\b\b  7% - INFLUD21-20-02-2023.csv\b\b\b\b\b\b\b\b\b\b\b\b\b\b\b\b\b\b\b\b\b\b\b\b\b\b\b\b\b\b                              \b\b\b\b\b\b\b\b\b\b\b\b\b\b\b\b\b\b\b\b\b\b\b\b\b\b\b\b\b\b  8% - INFLUD21-20-02-2023.csv\b\b\b\b\b\b\b\b\b\b\b\b\b\b\b\b\b\b\b\b\b\b\b\b\b\b\b\b\b\b                              \b\b\b\b\b\b\b\b\b\b\b\b\b\b\b\b\b\b\b\b\b\b\b\b\b\b\b\b\b\b  9% - INFLUD21-20-02-2023.csv\b\b\b\b\b\b\b\b\b\b\b\b\b\b\b\b\b\b\b\b\b\b\b\b\b\b\b\b\b\b                              \b\b\b\b\b\b\b\b\b\b\b\b\b\b\b\b\b\b\b\b\b\b\b\b\b\b\b\b\b\b 10% - INFLUD21-20-02-2023.csv\b\b\b\b\b\b\b\b\b\b\b\b\b\b\b\b\b\b\b\b\b\b\b\b\b\b\b\b\b\b                              \b\b\b\b\b\b\b\b\b\b\b\b\b\b\b\b\b\b\b\b\b\b\b\b\b\b\b\b\b\b 11% - INFLUD21-20-02-2023.csv\b\b\b\b\b\b\b\b\b\b\b\b\b\b\b\b\b\b\b\b\b\b\b\b\b\b\b\b\b\b                              \b\b\b\b\b\b\b\b\b\b\b\b\b\b\b\b\b\b\b\b\b\b\b\b\b\b\b\b\b\b 12% - INFLUD21-20-02-2023.csv\b\b\b\b\b\b\b\b\b\b\b\b\b\b\b\b\b\b\b\b\b\b\b\b\b\b\b\b\b\b                              \b\b\b\b\b\b\b\b\b\b\b\b\b\b\b\b\b\b\b\b\b\b\b\b\b\b\b\b\b\b 13% - INFLUD21-20-02-2023.csv\b\b\b\b\b\b\b\b\b\b\b\b\b\b\b\b\b\b\b\b\b\b\b\b\b\b\b\b\b\b                              \b\b\b\b\b\b\b\b\b\b\b\b\b\b\b\b\b\b\b\b\b\b\b\b\b\b\b\b\b\b 15% - INFLUD21-20-02-2023.csv\b\b\b\b\b\b\b\b\b\b\b\b\b\b\b\b\b\b\b\b\b\b\b\b\b\b\b\b\b\b                              \b\b\b\b\b\b\b\b\b\b\b\b\b\b\b\b\b\b\b\b\b\b\b\b\b\b\b\b\b\b 16% - INFLUD21-20-02-2023.csv\b\b\b\b\b\b\b\b\b\b\b\b\b\b\b\b\b\b\b\b\b\b\b\b\b\b\b\b\b\b                              \b\b\b\b\b\b\b\b\b\b\b\b\b\b\b\b\b\b\b\b\b\b\b\b\b\b\b\b\b\b 17% - INFLUD21-20-02-2023.csv\b\b\b\b\b\b\b\b\b\b\b\b\b\b\b\b\b\b\b\b\b\b\b\b\b\b\b\b\b\b                              \b\b\b\b\b\b\b\b\b\b\b\b\b\b\b\b\b\b\b\b\b\b\b\b\b\b\b\b\b\b 18% - INFLUD21-20-02-2023.csv\b\b\b\b\b\b\b\b\b\b\b\b\b\b\b\b\b\b\b\b\b\b\b\b\b\b\b\b\b\b                              \b\b\b\b\b\b\b\b\b\b\b\b\b\b\b\b\b\b\b\b\b\b\b\b\b\b\b\b\b\b 19% - INFLUD21-20-02-2023.csv\b\b\b\b\b\b\b\b\b\b\b\b\b\b\b\b\b\b\b\b\b\b\b\b\b\b\b\b\b\b                              \b\b\b\b\b\b\b\b\b\b\b\b\b\b\b\b\b\b\b\b\b\b\b\b\b\b\b\b\b\b 20% - INFLUD21-20-02-2023.csv\b\b\b\b\b\b\b\b\b\b\b\b\b\b\b\b\b\b\b\b\b\b\b\b\b\b\b\b\b\b                              \b\b\b\b\b\b\b\b\b\b\b\b\b\b\b\b\b\b\b\b\b\b\b\b\b\b\b\b\b\b 21% - INFLUD21-20-02-2023.csv\b\b\b\b\b\b\b\b\b\b\b\b\b\b\b\b\b\b\b\b\b\b\b\b\b\b\b\b\b\b                              \b\b\b\b\b\b\b\b\b\b\b\b\b\b\b\b\b\b\b\b\b\b\b\b\b\b\b\b\b\b 22% - INFLUD21-20-02-2023.csv\b\b\b\b\b\b\b\b\b\b\b\b\b\b\b\b\b\b\b\b\b\b\b\b\b\b\b\b\b\b                              \b\b\b\b\b\b\b\b\b\b\b\b\b\b\b\b\b\b\b\b\b\b\b\b\b\b\b\b\b\b 23% - INFLUD21-20-02-2023.csv\b\b\b\b\b\b\b\b\b\b\b\b\b\b\b\b\b\b\b\b\b\b\b\b\b\b\b\b\b\b                              \b\b\b\b\b\b\b\b\b\b\b\b\b\b\b\b\b\b\b\b\b\b\b\b\b\b\b\b\b\b 24% - INFLUD21-20-02-2023.csv\b\b\b\b\b\b\b\b\b\b\b\b\b\b\b\b\b\b\b\b\b\b\b\b\b\b\b\b\b\b                              \b\b\b\b\b\b\b\b\b\b\b\b\b\b\b\b\b\b\b\b\b\b\b\b\b\b\b\b\b\b 25% - INFLUD21-20-02-2023.csv\b\b\b\b\b\b\b\b\b\b\b\b\b\b\b\b\b\b\b\b\b\b\b\b\b\b\b\b\b\b                              \b\b\b\b\b\b\b\b\b\b\b\b\b\b\b\b\b\b\b\b\b\b\b\b\b\b\b\b\b\b 26% - INFLUD21-20-02-2023.csv\b\b\b\b\b\b\b\b\b\b\b\b\b\b\b\b\b\b\b\b\b\b\b\b\b\b\b\b\b\b                              \b\b\b\b\b\b\b\b\b\b\b\b\b\b\b\b\b\b\b\b\b\b\b\b\b\b\b\b\b\b 27% - INFLUD21-20-02-2023.csv\b\b\b\b\b\b\b\b\b\b\b\b\b\b\b\b\b\b\b\b\b\b\b\b\b\b\b\b\b\b                              \b\b\b\b\b\b\b\b\b\b\b\b\b\b\b\b\b\b\b\b\b\b\b\b\b\b\b\b\b\b 28% - INFLUD21-20-02-2023.csv\b\b\b\b\b\b\b\b\b\b\b\b\b\b\b\b\b\b\b\b\b\b\b\b\b\b\b\b\b\b                              \b\b\b\b\b\b\b\b\b\b\b\b\b\b\b\b\b\b\b\b\b\b\b\b\b\b\b\b\b\b 29% - INFLUD21-20-02-2023.csv\b\b\b\b\b\b\b\b\b\b\b\b\b\b\b\b\b\b\b\b\b\b\b\b\b\b\b\b\b\b                              \b\b\b\b\b\b\b\b\b\b\b\b\b\b\b\b\b\b\b\b\b\b\b\b\b\b\b\b\b\b 30% - INFLUD21-20-02-2023.csv\b\b\b\b\b\b\b\b\b\b\b\b\b\b\b\b\b\b\b\b\b\b\b\b\b\b\b\b\b\b                              \b\b\b\b\b\b\b\b\b\b\b\b\b\b\b\b\b\b\b\b\b\b\b\b\b\b\b\b\b\b 31% - INFLUD21-20-02-2023.csv\b\b\b\b\b\b\b\b\b\b\b\b\b\b\b\b\b\b\b\b\b\b\b\b\b\b\b\b\b\b                              \b\b\b\b\b\b\b\b\b\b\b\b\b\b\b\b\b\b\b\b\b\b\b\b\b\b\b\b\b\b 32% - INFLUD21-20-02-2023.csv\b\b\b\b\b\b\b\b\b\b\b\b\b\b\b\b\b\b\b\b\b\b\b\b\b\b\b\b\b\b                              \b\b\b\b\b\b\b\b\b\b\b\b\b\b\b\b\b\b\b\b\b\b\b\b\b\b\b\b\b\b 33% - INFLUD21-20-02-2023.csv\b\b\b\b\b\b\b\b\b\b\b\b\b\b\b\b\b\b\b\b\b\b\b\b\b\b\b\b\b\b                              \b\b\b\b\b\b\b\b\b\b\b\b\b\b\b\b\b\b\b\b\b\b\b\b\b\b\b\b\b\b 34% - INFLUD21-20-02-2023.csv\b\b\b\b\b\b\b\b\b\b\b\b\b\b\b\b\b\b\b\b\b\b\b\b\b\b\b\b\b\b                              \b\b\b\b\b\b\b\b\b\b\b\b\b\b\b\b\b\b\b\b\b\b\b\b\b\b\b\b\b\b 35% - INFLUD21-20-02-2023.csv\b\b\b\b\b\b\b\b\b\b\b\b\b\b\b\b\b\b\b\b\b\b\b\b\b\b\b\b\b\b                              \b\b\b\b\b\b\b\b\b\b\b\b\b\b\b\b\b\b\b\b\b\b\b\b\b\b\b\b\b\b 36% - INFLUD21-20-02-2023.csv\b\b\b\b\b\b\b\b\b\b\b\b\b\b\b\b\b\b\b\b\b\b\b\b\b\b\b\b\b\b                              \b\b\b\b\b\b\b\b\b\b\b\b\b\b\b\b\b\b\b\b\b\b\b\b\b\b\b\b\b\b 37% - INFLUD21-20-02-2023.csv\b\b\b\b\b\b\b\b\b\b\b\b\b\b\b\b\b\b\b\b\b\b\b\b\b\b\b\b\b\b                              \b\b\b\b\b\b\b\b\b\b\b\b\b\b\b\b\b\b\b\b\b\b\b\b\b\b\b\b\b\b 38% - INFLUD21-20-02-2023.csv\b\b\b\b\b\b\b\b\b\b\b\b\b\b\b\b\b\b\b\b\b\b\b\b\b\b\b\b\b\b                              \b\b\b\b\b\b\b\b\b\b\b\b\b\b\b\b\b\b\b\b\b\b\b\b\b\b\b\b\b\b 39% - INFLUD21-20-02-2023.csv\b\b\b\b\b\b\b\b\b\b\b\b\b\b\b\b\b\b\b\b\b\b\b\b\b\b\b\b\b\b                              \b\b\b\b\b\b\b\b\b\b\b\b\b\b\b\b\b\b\b\b\b\b\b\b\b\b\b\b\b\b 40% - INFLUD21-20-02-2023.csv\b\b\b\b\b\b\b\b\b\b\b\b\b\b\b\b\b\b\b\b\b\b\b\b\b\b\b\b\b\b                              \b\b\b\b\b\b\b\b\b\b\b\b\b\b\b\b\b\b\b\b\b\b\b\b\b\b\b\b\b\b 41% - INFLUD21-20-02-2023.csv\b\b\b\b\b\b\b\b\b\b\b\b\b\b\b\b\b\b\b\b\b\b\b\b\b\b\b\b\b\b                              \b\b\b\b\b\b\b\b\b\b\b\b\b\b\b\b\b\b\b\b\b\b\b\b\b\b\b\b\b\b 42% - INFLUD21-20-02-2023.csv\b\b\b\b\b\b\b\b\b\b\b\b\b\b\b\b\b\b\b\b\b\b\b\b\b\b\b\b\b\b                              \b\b\b\b\b\b\b\b\b\b\b\b\b\b\b\b\b\b\b\b\b\b\b\b\b\b\b\b\b\b 43% - INFLUD21-20-02-2023.csv\b\b\b\b\b\b\b\b\b\b\b\b\b\b\b\b\b\b\b\b\b\b\b\b\b\b\b\b\b\b                              \b\b\b\b\b\b\b\b\b\b\b\b\b\b\b\b\b\b\b\b\b\b\b\b\b\b\b\b\b\b 44% - INFLUD21-20-02-2023.csv\b\b\b\b\b\b\b\b\b\b\b\b\b\b\b\b\b\b\b\b\b\b\b\b\b\b\b\b\b\b                              \b\b\b\b\b\b\b\b\b\b\b\b\b\b\b\b\b\b\b\b\b\b\b\b\b\b\b\b\b\b 45% - INFLUD21-20-02-2023.csv\b\b\b\b\b\b\b\b\b\b\b\b\b\b\b\b\b\b\b\b\b\b\b\b\b\b\b\b\b\b                              \b\b\b\b\b\b\b\b\b\b\b\b\b\b\b\b\b\b\b\b\b\b\b\b\b\b\b\b\b\b 46% - INFLUD21-20-02-2023.csv\b\b\b\b\b\b\b\b\b\b\b\b\b\b\b\b\b\b\b\b\b\b\b\b\b\b\b\b\b\b                              \b\b\b\b\b\b\b\b\b\b\b\b\b\b\b\b\b\b\b\b\b\b\b\b\b\b\b\b\b\b 47% - INFLUD21-20-02-2023.csv\b\b\b\b\b\b\b\b\b\b\b\b\b\b\b\b\b\b\b\b\b\b\b\b\b\b\b\b\b\b                              \b\b\b\b\b\b\b\b\b\b\b\b\b\b\b\b\b\b\b\b\b\b\b\b\b\b\b\b\b\b 48% - INFLUD21-20-02-2023.csv\b\b\b\b\b\b\b\b\b\b\b\b\b\b\b\b\b\b\b\b\b\b\b\b\b\b\b\b\b\b                              \b\b\b\b\b\b\b\b\b\b\b\b\b\b\b\b\b\b\b\b\b\b\b\b\b\b\b\b\b\b 50% - INFLUD21-20-02-2023.csv\b\b\b\b\b\b\b\b\b\b\b\b\b\b\b\b\b\b\b\b\b\b\b\b\b\b\b\b\b\b                              \b\b\b\b\b\b\b\b\b\b\b\b\b\b\b\b\b\b\b\b\b\b\b\b\b\b\b\b\b\b 51% - INFLUD21-20-02-2023.csv\b\b\b\b\b\b\b\b\b\b\b\b\b\b\b\b\b\b\b\b\b\b\b\b\b\b\b\b\b\b                              \b\b\b\b\b\b\b\b\b\b\b\b\b\b\b\b\b\b\b\b\b\b\b\b\b\b\b\b\b\b 52% - INFLUD21-20-02-2023.csv\b\b\b\b\b\b\b\b\b\b\b\b\b\b\b\b\b\b\b\b\b\b\b\b\b\b\b\b\b\b                              \b\b\b\b\b\b\b\b\b\b\b\b\b\b\b\b\b\b\b\b\b\b\b\b\b\b\b\b\b\b 53% - INFLUD21-20-02-2023.csv\b\b\b\b\b\b\b\b\b\b\b\b\b\b\b\b\b\b\b\b\b\b\b\b\b\b\b\b\b\b                              \b\b\b\b\b\b\b\b\b\b\b\b\b\b\b\b\b\b\b\b\b\b\b\b\b\b\b\b\b\b 54% - INFLUD21-20-02-2023.csv\b\b\b\b\b\b\b\b\b\b\b\b\b\b\b\b\b\b\b\b\b\b\b\b\b\b\b\b\b\b                              \b\b\b\b\b\b\b\b\b\b\b\b\b\b\b\b\b\b\b\b\b\b\b\b\b\b\b\b\b\b 55% - INFLUD21-20-02-2023.csv\b\b\b\b\b\b\b\b\b\b\b\b\b\b\b\b\b\b\b\b\b\b\b\b\b\b\b\b\b\b                              \b\b\b\b\b\b\b\b\b\b\b\b\b\b\b\b\b\b\b\b\b\b\b\b\b\b\b\b\b\b 56% - INFLUD21-20-02-2023.csv\b\b\b\b\b\b\b\b\b\b\b\b\b\b\b\b\b\b\b\b\b\b\b\b\b\b\b\b\b\b                              \b\b\b\b\b\b\b\b\b\b\b\b\b\b\b\b\b\b\b\b\b\b\b\b\b\b\b\b\b\b 57% - INFLUD21-20-02-2023.csv\b\b\b\b\b\b\b\b\b\b\b\b\b\b\b\b\b\b\b\b\b\b\b\b\b\b\b\b\b\b                              \b\b\b\b\b\b\b\b\b\b\b\b\b\b\b\b\b\b\b\b\b\b\b\b\b\b\b\b\b\b 58% - INFLUD21-20-02-2023.csv\b\b\b\b\b\b\b\b\b\b\b\b\b\b\b\b\b\b\b\b\b\b\b\b\b\b\b\b\b\b                              \b\b\b\b\b\b\b\b\b\b\b\b\b\b\b\b\b\b\b\b\b\b\b\b\b\b\b\b\b\b 59% - INFLUD21-20-02-2023.csv\b\b\b\b\b\b\b\b\b\b\b\b\b\b\b\b\b\b\b\b\b\b\b\b\b\b\b\b\b\b                              \b\b\b\b\b\b\b\b\b\b\b\b\b\b\b\b\b\b\b\b\b\b\b\b\b\b\b\b\b\b 60% - INFLUD21-20-02-2023.csv\b\b\b\b\b\b\b\b\b\b\b\b\b\b\b\b\b\b\b\b\b\b\b\b\b\b\b\b\b\b                              \b\b\b\b\b\b\b\b\b\b\b\b\b\b\b\b\b\b\b\b\b\b\b\b\b\b\b\b\b\b 61% - INFLUD21-20-02-2023.csv\b\b\b\b\b\b\b\b\b\b\b\b\b\b\b\b\b\b\b\b\b\b\b\b\b\b\b\b\b\b                              \b\b\b\b\b\b\b\b\b\b\b\b\b\b\b\b\b\b\b\b\b\b\b\b\b\b\b\b\b\b 62% - INFLUD21-20-02-2023.csv\b\b\b\b\b\b\b\b\b\b\b\b\b\b\b\b\b\b\b\b\b\b\b\b\b\b\b\b\b\b                              \b\b\b\b\b\b\b\b\b\b\b\b\b\b\b\b\b\b\b\b\b\b\b\b\b\b\b\b\b\b 63% - INFLUD21-20-02-2023.csv\b\b\b\b\b\b\b\b\b\b\b\b\b\b\b\b\b\b\b\b\b\b\b\b\b\b\b\b\b\b                              \b\b\b\b\b\b\b\b\b\b\b\b\b\b\b\b\b\b\b\b\b\b\b\b\b\b\b\b\b\b 64% - INFLUD21-20-02-2023.csv\b\b\b\b\b\b\b\b\b\b\b\b\b\b\b\b\b\b\b\b\b\b\b\b\b\b\b\b\b\b                              \b\b\b\b\b\b\b\b\b\b\b\b\b\b\b\b\b\b\b\b\b\b\b\b\b\b\b\b\b\b 65% - INFLUD21-20-02-2023.csv\b\b\b\b\b\b\b\b\b\b\b\b\b\b\b\b\b\b\b\b\b\b\b\b\b\b\b\b\b\b                              \b\b\b\b\b\b\b\b\b\b\b\b\b\b\b\b\b\b\b\b\b\b\b\b\b\b\b\b\b\b 66% - INFLUD21-20-02-2023.csv\b\b\b\b\b\b\b\b\b\b\b\b\b\b\b\b\b\b\b\b\b\b\b\b\b\b\b\b\b\b                              \b\b\b\b\b\b\b\b\b\b\b\b\b\b\b\b\b\b\b\b\b\b\b\b\b\b\b\b\b\b 67% - INFLUD21-20-02-2023.csv\b\b\b\b\b\b\b\b\b\b\b\b\b\b\b\b\b\b\b\b\b\b\b\b\b\b\b\b\b\b                              \b\b\b\b\b\b\b\b\b\b\b\b\b\b\b\b\b\b\b\b\b\b\b\b\b\b\b\b\b\b 69% - INFLUD21-20-02-2023.csv\b\b\b\b\b\b\b\b\b\b\b\b\b\b\b\b\b\b\b\b\b\b\b\b\b\b\b\b\b\b                              \b\b\b\b\b\b\b\b\b\b\b\b\b\b\b\b\b\b\b\b\b\b\b\b\b\b\b\b\b\b 70% - INFLUD21-20-02-2023.csv\b\b\b\b\b\b\b\b\b\b\b\b\b\b\b\b\b\b\b\b\b\b\b\b\b\b\b\b\b\b                              \b\b\b\b\b\b\b\b\b\b\b\b\b\b\b\b\b\b\b\b\b\b\b\b\b\b\b\b\b\b 71% - INFLUD21-20-02-2023.csv\b\b\b\b\b\b\b\b\b\b\b\b\b\b\b\b\b\b\b\b\b\b\b\b\b\b\b\b\b\b                              \b\b\b\b\b\b\b\b\b\b\b\b\b\b\b\b\b\b\b\b\b\b\b\b\b\b\b\b\b\b 73% 1 - INFLUD22-13-02-2023.csv\b\b\b\b\b\b\b\b\b\b\b\b\b\b\b\b\b\b\b\b\b\b\b\b\b\b\b\b\b\b\b\b                                \b\b\b\b\b\b\b\b\b\b\b\b\b\b\b\b\b\b\b\b\b\b\b\b\b\b\b\b\b\b\b\b 75% 1 - INFLUD22-13-02-2023.csv\b\b\b\b\b\b\b\b\b\b\b\b\b\b\b\b\b\b\b\b\b\b\b\b\b\b\b\b\b\b\b\b                                \b\b\b\b\b\b\b\b\b\b\b\b\b\b\b\b\b\b\b\b\b\b\b\b\b\b\b\b\b\b\b\b 77% 1 - INFLUD22-13-02-2023.csv\b\b\b\b\b\b\b\b\b\b\b\b\b\b\b\b\b\b\b\b\b\b\b\b\b\b\b\b\b\b\b\b                                \b\b\b\b\b\b\b\b\b\b\b\b\b\b\b\b\b\b\b\b\b\b\b\b\b\b\b\b\b\b\b\b 79% 1 - INFLUD22-13-02-2023.csv\b\b\b\b\b\b\b\b\b\b\b\b\b\b\b\b\b\b\b\b\b\b\b\b\b\b\b\b\b\b\b\b                                \b\b\b\b\b\b\b\b\b\b\b\b\b\b\b\b\b\b\b\b\b\b\b\b\b\b\b\b\b\b\b\b 81% 1 - INFLUD22-13-02-2023.csv\b\b\b\b\b\b\b\b\b\b\b\b\b\b\b\b\b\b\b\b\b\b\b\b\b\b\b\b\b\b\b\b                                \b\b\b\b\b\b\b\b\b\b\b\b\b\b\b\b\b\b\b\b\b\b\b\b\b\b\b\b\b\b\b\b 83% 1 - INFLUD22-13-02-2023.csv\b\b\b\b\b\b\b\b\b\b\b\b\b\b\b\b\b\b\b\b\b\b\b\b\b\b\b\b\b\b\b\b                                \b\b\b\b\b\b\b\b\b\b\b\b\b\b\b\b\b\b\b\b\b\b\b\b\b\b\b\b\b\b\b\b 85% 1 - INFLUD22-13-02-2023.csv\b\b\b\b\b\b\b\b\b\b\b\b\b\b\b\b\b\b\b\b\b\b\b\b\b\b\b\b\b\b\b\b                                \b\b\b\b\b\b\b\b\b\b\b\b\b\b\b\b\b\b\b\b\b\b\b\b\b\b\b\b\b\b\b\b 86% 1 - INFLUD22-13-02-2023.csv\b\b\b\b\b\b\b\b\b\b\b\b\b\b\b\b\b\b\b\b\b\b\b\b\b\b\b\b\b\b\b\b                                \b\b\b\b\b\b\b\b\b\b\b\b\b\b\b\b\b\b\b\b\b\b\b\b\b\b\b\b\b\b\b\b 88% 1 - INFLUD22-13-02-2023.csv\b\b\b\b\b\b\b\b\b\b\b\b\b\b\b\b\b\b\b\b\b\b\b\b\b\b\b\b\b\b\b\b                                \b\b\b\b\b\b\b\b\b\b\b\b\b\b\b\b\b\b\b\b\b\b\b\b\b\b\b\b\b\b\b\b 90% 1 - INFLUD22-13-02-2023.csv\b\b\b\b\b\b\b\b\b\b\b\b\b\b\b\b\b\b\b\b\b\b\b\b\b\b\b\b\b\b\b\b                                \b\b\b\b\b\b\b\b\b\b\b\b\b\b\b\b\b\b\b\b\b\b\b\b\b\b\b\b\b\b\b\b 92% 1 - INFLUD22-13-02-2023.csv\b\b\b\b\b\b\b\b\b\b\b\b\b\b\b\b\b\b\b\b\b\b\b\b\b\b\b\b\b\b\b\b                                \b\b\b\b\b\b\b\b\b\b\b\b\b\b\b\b\b\b\b\b\b\b\b\b\b\b\b\b\b\b\b\b 94% 1 - INFLUD22-13-02-2023.csv\b\b\b\b\b\b\b\b\b\b\b\b\b\b\b\b\b\b\b\b\b\b\b\b\b\b\b\b\b\b\b\b                                \b\b\b\b\b\b\b\b\b\b\b\b\b\b\b\b\b\b\b\b\b\b\b\b\b\b\b\b\b\b\b\b 95% 1 - INFLUD22-13-02-2023.csv\b\b\b\b\b\b\b\b\b\b\b\b\b\b\b\b\b\b\b\b\b\b\b\b\b\b\b\b\b\b\b\b                                \b\b\b\b\b\b\b\b\b\b\b\b\b\b\b\b\b\b\b\b\b\b\b\b\b\b\b\b\b\b\b\b 97% 1 - INFLUD22-13-02-2023.csv\b\b\b\b\b\b\b\b\b\b\b\b\b\b\b\b\b\b\b\b\b\b\b\b\b\b\b\b\b\b\b\b                                \b\b\b\b\b\b\b\b\b\b\b\b\b\b\b\b\b\b\b\b\b\b\b\b\b\b\b\b\b\b\b\b 99% 2 - INFLUD23-13-02-2023.csv\b\b\b\b\b\b\b\b\b\b\b\b\b\b\b\b\b\b\b\b\b\b\b\b\b\b\b\b\b\b\b\b                                \b\b\b\b\b\b\b\b\b\b\b\b\b\b\b\b\b\b\b\b\b\b\b\b\b\b\b\b\b\b\b\bEverything is Ok\n",
            "\n",
            "Files: 3\n",
            "Size:       1417625450\n",
            "Compressed: 88394577\n"
          ]
        }
      ]
    },
    {
      "cell_type": "code",
      "source": [
        "CAMPOS = {'DT_NOTIFIC': 'string', 'SEM_NOT': 'Int32', 'DT_SIN_PRI': 'string', 'SEM_PRI': 'Int32', 'SG_UF_NOT': 'string', 'ID_REGIONA': 'string', 'CO_REGIONA': 'Int32',\n",
        "          'ID_MUNICIP': 'string', 'CO_MUN_NOT': 'Int32', 'ID_UNIDADE': 'string', 'CO_UNI_NOT': 'Int32', 'CS_SEXO': 'string', 'DT_NASC': 'string', 'NU_IDADE_N': 'Int32',\n",
        "          'TP_IDADE': 'Int32', 'COD_IDADE': 'string', 'CS_GESTANT': 'Int32', 'CS_RACA': 'Int32', 'CS_ESCOL_N': 'Int32', 'ID_PAIS': 'string', 'CO_PAIS': 'Int32',\n",
        "          'SG_UF': 'string', 'ID_RG_RESI': 'string', 'CO_RG_RESI': 'Int32', 'ID_MN_RESI': 'string', 'CO_MUN_RES': 'Int32', 'CS_ZONA': 'Int32', 'SURTO_SG': 'string',\n",
        "          'NOSOCOMIAL': 'Int32', 'AVE_SUINO': 'Int32', 'FEBRE': 'Int32', 'TOSSE': 'Int32', 'GARGANTA': 'Int32', 'DISPNEIA': 'Int32', 'DESC_RESP': 'Int32', 'SATURACAO': 'Int32',\n",
        "          'DIARREIA': 'Int32', 'VOMITO': 'Int32', 'OUTRO_SIN': 'Int32', 'OUTRO_DES': 'string', 'PUERPERA': 'Int32', 'FATOR_RISC': 'Int32', 'CARDIOPATI': 'Int32',\n",
        "          'HEMATOLOGI': 'Int32', 'SIND_DOWN': 'Int32', 'HEPATICA': 'Int32', 'ASMA': 'Int32', 'DIABETES': 'Int32', 'NEUROLOGIC': 'Int32', 'PNEUMOPATI': 'Int32',\n",
        "          'IMUNODEPRE': 'Int32', 'RENAL': 'Int32', 'OBESIDADE': 'Int32', 'OBES_IMC': 'string', 'OUT_MORBI': 'Int32', 'MORB_DESC': 'string', 'VACINA': 'Int32',\n",
        "          'DT_UT_DOSE': 'string', 'MAE_VAC': 'Int32', 'DT_VAC_MAE': 'string', 'M_AMAMENTA': 'Int32', 'DT_DOSEUNI': 'string', 'DT_1_DOSE': 'string', 'DT_2_DOSE': 'string',\n",
        "          'ANTIVIRAL': 'Int32', 'TP_ANTIVIR': 'Int32', 'OUT_ANTIV': 'string', 'DT_ANTIVIR': 'string', 'HOSPITAL': 'Int32', 'DT_INTERNA': 'string', 'SG_UF_INTE': 'string',\n",
        "          'ID_RG_INTE': 'string', 'CO_RG_INTE': 'Int32', 'ID_MN_INTE': 'string', 'CO_MU_INTE': 'Int32', 'UTI': 'Int32', 'DT_ENTUTI': 'string', 'DT_SAIDUTI': 'string',\n",
        "          'SUPORT_VEN': 'Int32', 'RAIOX_RES': 'Int32', 'RAIOX_OUT': 'string', 'DT_RAIOX': 'string', 'AMOSTRA': 'Int32', 'DT_COLETA': 'string', 'TP_AMOSTRA': 'Int32',\n",
        "          'OUT_AMOST': 'string', 'PCR_RESUL': 'Int32', 'DT_PCR': 'string', 'POS_PCRFLU': 'Int32', 'TP_FLU_PCR': 'Int32', 'PCR_FLUASU': 'Int32', 'FLUASU_OUT': 'string',\n",
        "          'PCR_FLUBLI': 'Int32', 'FLUBLI_OUT': 'string', 'POS_PCROUT': 'Int32', 'PCR_VSR': 'Int32', 'PCR_PARA1': 'Int32', 'PCR_PARA2': 'Int32', 'PCR_PARA3': 'Int32',\n",
        "          'PCR_PARA4': 'Int32', 'PCR_ADENO': 'Int32', 'PCR_METAP': 'Int32', 'PCR_BOCA': 'Int32', 'PCR_RINO': 'Int32', 'PCR_OUTRO': 'Int32', 'DS_PCR_OUT': 'string',\n",
        "          'CLASSI_FIN': 'Int32', 'CLASSI_OUT': 'string', 'CRITERIO': 'Int32', 'EVOLUCAO': 'Int32', 'DT_EVOLUCA': 'string', 'DT_ENCERRA': 'string', 'DT_DIGITA': 'string',\n",
        "          'HISTO_VGM': 'string', 'PAIS_VGM': 'string', 'CO_PS_VGM': 'string', 'LO_PS_VGM': 'string', 'DT_VGM': 'string', 'DT_RT_VGM': 'string', 'PCR_SARS2': 'Int32',\n",
        "          'PAC_COCBO': 'string', 'PAC_DSCBO': 'string', 'OUT_ANIM': 'string', 'DOR_ABD': 'Int32', 'FADIGA': 'Int32', 'PERD_OLFT': 'Int32', 'PERD_PALA': 'Int32',\n",
        "          'TOMO_RES': 'Int32', 'TOMO_OUT': 'string', 'DT_TOMO': 'string', 'TP_TES_AN': 'Int32', 'DT_RES_AN': 'string', 'RES_AN': 'Int32', 'POS_AN_FLU': 'Int32',\n",
        "          'TP_FLU_AN': 'Int32', 'POS_AN_OUT': 'Int32', 'AN_SARS2': 'Int32', 'AN_VSR': 'Int32', 'AN_PARA1': 'Int32', 'AN_PARA2': 'Int32', 'AN_PARA3': 'Int32',\n",
        "          'AN_ADENO': 'Int32', 'AN_OUTRO': 'Int32', 'DS_AN_OUT': 'string', 'TP_AM_SOR': 'Int32', 'SOR_OUT': 'string', 'DT_CO_SOR': 'string', 'TP_SOR': 'Int32',\n",
        "          'OUT_SOR': 'string', 'DT_RES': 'string', 'RES_IGG': 'Int32', 'RES_IGM': 'Int32', 'RES_IGA': 'Int32', 'ESTRANG': 'Int32', 'VACINA_COV': 'Int32',\n",
        "          'DOSE_1_COV': 'string', 'DOSE_2_COV': 'string', 'DOSE_REF': 'string', 'FAB_COV_1': 'string', 'FAB_COV_2': 'string', 'FAB_COVREF': 'string', 'LAB_PR_COV': 'string',\n",
        "          'LOTE_1_COV': 'string', 'LOTE_2_COV': 'string', 'LOTE_REF': 'string', 'FNT_IN_COV': 'Int32', 'DOSE_2REF': 'string', 'FAB_COVRF2': 'string', 'LOTE_REF2': 'string',\n",
        "          'TRAT_COV': 'Int32', 'TIPO_TRAT': 'Int32', 'OUT_TRAT': 'string', 'DT_TRT_COV': 'string'}\n",
        "\n",
        "# AUSENTES = df_23.columns[~df_23.columns.isin(df_21.columns)]\n",
        "AUSENTES = ['DOSE_2REF', 'FAB_COVRF2', 'LOTE_REF2', 'TRAT_COV', 'TIPO_TRAT', 'OUT_TRAT', 'DT_TRT_COV']\n",
        "\n",
        "DATAS = ['DT_NOTIFIC', 'DT_SIN_PRI', 'DT_NASC', 'DT_UT_DOSE', 'DT_VAC_MAE', 'DT_DOSEUNI', 'DT_1_DOSE', 'DT_2_DOSE', 'DT_ANTIVIR', 'DT_INTERNA',\n",
        "         'DT_ENTUTI', 'DT_SAIDUTI', 'DT_RAIOX', 'DT_COLETA', 'DT_PCR', 'DT_EVOLUCA', 'DT_ENCERRA', 'DT_DIGITA', 'DT_VGM', 'DT_RT_VGM', 'DT_TOMO',\n",
        "         'DT_RES_AN', 'DT_CO_SOR', 'DT_RES', 'DOSE_1_COV', 'DOSE_2_COV', 'DOSE_REF', 'DOSE_2REF', 'DT_TRT_COV']"
      ],
      "metadata": {
        "id": "uPnSUswJawan"
      },
      "execution_count": 4,
      "outputs": []
    },
    {
      "cell_type": "code",
      "source": [
        "df = pd.read_csv('INFLUD21-20-02-2023.csv', sep=';', dtype=dict(list(CAMPOS.items())[:-7]))"
      ],
      "metadata": {
        "id": "glhrVI-zTA6M"
      },
      "execution_count": 5,
      "outputs": []
    },
    {
      "cell_type": "code",
      "source": [
        "df[AUSENTES] = [None] * len(AUSENTES)"
      ],
      "metadata": {
        "colab": {
          "base_uri": "https://localhost:8080/"
        },
        "id": "c_ieQXXwxNpJ",
        "outputId": "55370925-45c6-4c9b-b206-9218fb2451a8"
      },
      "execution_count": 6,
      "outputs": [
        {
          "output_type": "stream",
          "name": "stderr",
          "text": [
            "/usr/local/lib/python3.8/dist-packages/pandas/core/frame.py:3678: PerformanceWarning: DataFrame is highly fragmented.  This is usually the result of calling `frame.insert` many times, which has poor performance.  Consider joining all columns at once using pd.concat(axis=1) instead.  To get a de-fragmented frame, use `newframe = frame.copy()`\n",
            "  self[col] = igetitem(value, i)\n"
          ]
        }
      ]
    },
    {
      "cell_type": "code",
      "source": [
        "df = pd.concat([df, pd.read_csv('INFLUD22-13-02-2023.csv', sep=';', dtype=CAMPOS)])\n",
        "df = pd.concat([df, pd.read_csv('INFLUD23-13-02-2023.csv', sep=';', dtype=CAMPOS)])"
      ],
      "metadata": {
        "id": "lXFAZSK100rS"
      },
      "execution_count": 7,
      "outputs": []
    },
    {
      "cell_type": "code",
      "source": [
        "for campo in DATAS:\n",
        "    df[campo] = pd.to_datetime(df[campo], format='%d/%m/%Y', errors='coerce')"
      ],
      "metadata": {
        "id": "SqYHfWTVuIpN"
      },
      "execution_count": 8,
      "outputs": []
    },
    {
      "cell_type": "code",
      "source": [
        "df.info()"
      ],
      "metadata": {
        "colab": {
          "base_uri": "https://localhost:8080/"
        },
        "id": "bxq101V5T9SN",
        "outputId": "7b00303c-a287-41f7-e024-cb3fe6a5078d"
      },
      "execution_count": 9,
      "outputs": [
        {
          "output_type": "stream",
          "name": "stdout",
          "text": [
            "<class 'pandas.core.frame.DataFrame'>\n",
            "Int64Index: 2310360 entries, 0 to 22642\n",
            "Columns: 173 entries, DT_NOTIFIC to DT_TRT_COV\n",
            "dtypes: Int32(99), datetime64[ns](29), string(45)\n",
            "memory usage: 2.4 GB\n"
          ]
        }
      ]
    },
    {
      "cell_type": "code",
      "source": [
        "# df.info(max_cols=180, show_counts=True)"
      ],
      "metadata": {
        "id": "2fnbQ7M2Z_wZ"
      },
      "execution_count": 10,
      "outputs": []
    },
    {
      "cell_type": "markdown",
      "source": [
        "## Pré-processamento"
      ],
      "metadata": {
        "id": "NtsrHCuk5siO"
      }
    },
    {
      "cell_type": "code",
      "source": [
        "# with pd.option_context('display.max_columns', None): \n",
        "#     display(df[DATAS[:-1]].describe(datetime_is_numeric=True))"
      ],
      "metadata": {
        "id": "1DyjFNnc80gS"
      },
      "execution_count": 11,
      "outputs": []
    },
    {
      "cell_type": "code",
      "source": [
        "# with pd.option_context('display.max_rows', 5, 'display.max_columns', None): \n",
        "#     display(df[df['DT_NASC'].isna()])"
      ],
      "metadata": {
        "id": "WkbkMGyB8iLE"
      },
      "execution_count": 12,
      "outputs": []
    },
    {
      "cell_type": "code",
      "source": [
        "# with pd.option_context('display.max_rows', None): \n",
        "#     display(df['DT_NASC'].dt.year.value_counts().sort_index())"
      ],
      "metadata": {
        "id": "3eRqhsziIhgC"
      },
      "execution_count": 13,
      "outputs": []
    },
    {
      "cell_type": "code",
      "source": [
        "# INEXISTENTES = ['TEM_CPF', 'NU_CPF', 'NU_CNS', 'NM_PACIENT', 'TP_POV_CT', 'NM_MAE_PAC', 'NM_BAIRRO', 'NM_LOGRADO', 'NU_NUMERO', 'NM_COMPLEM',\n",
        "#                 'NU_DDD_TEL', 'NU_TELEFON', 'FAB_COV1', 'FAB_COV2', 'FAB_COVRF', 'ID_UN_INTE', 'CO_UN_INTE', 'REQUI_GAL', 'LAB_AN', 'CO_LAB_AN',\n",
        "#                 'LAB_PCR', 'CO_LAB_PCR', 'NU_DO', 'OBSERVA', 'NOME_PROF', 'REG_PROF', 'CS_ETINIA', 'POV_CT', 'NU_CEP']"
      ],
      "metadata": {
        "id": "IUKvxkyUX7pv"
      },
      "execution_count": null,
      "outputs": []
    },
    {
      "cell_type": "code",
      "source": [
        "CAMPOS = ['NU_IDADE_N', 'TP_IDADE', 'ID_UNIDADE', 'CO_UNI_NOT', 'OUT_ANIM', 'OUTRO_DES', 'OBES_IMC', 'MORB_DESC', 'FAB_COVRF2',\n",
        "          'LOTE_1_COV', 'LOTE_2_COV', 'LOTE_REF', 'LOTE_REF2', 'OUT_ANTIV', 'OUT_TRAT', 'RAIOX_OUT', 'TOMO_OUT', 'OUT_AMOST',\n",
        "          'DS_AN_OUT', 'FLUASU_OUT', 'FLUBLI_OUT', 'DS_PCR_OUT', 'SOR_OUT', 'OUT_SOR', 'SOR_OUT', 'CLASSI_OUT',\n",
        "          'ID_MUNICIP', 'CO_MUN_NOT', 'ID_REGIONA', 'CO_REGIONA', 'PAC_COCBO', 'PAC_DSCBO', 'ID_RG_RESI', 'CO_RG_RESI',\n",
        "          'ID_MN_RESI', 'CO_MUN_RES', 'ID_RG_INTE', 'CO_RG_INTE', 'ID_MN_INTE', 'CO_MU_INTE']"
      ],
      "metadata": {
        "id": "naDtay9yMege"
      },
      "execution_count": 28,
      "outputs": []
    },
    {
      "cell_type": "code",
      "source": [
        "df[CAMPOS].info(show_counts=True)"
      ],
      "metadata": {
        "colab": {
          "base_uri": "https://localhost:8080/"
        },
        "id": "J9lxTzESMegk",
        "outputId": "47747379-917f-4249-a4a0-753adce6f2d8"
      },
      "execution_count": 29,
      "outputs": [
        {
          "output_type": "stream",
          "name": "stdout",
          "text": [
            "<class 'pandas.core.frame.DataFrame'>\n",
            "Int64Index: 2310360 entries, 0 to 22642\n",
            "Data columns (total 40 columns):\n",
            " #   Column      Non-Null Count    Dtype \n",
            "---  ------      --------------    ----- \n",
            " 0   NU_IDADE_N  2310360 non-null  Int32 \n",
            " 1   TP_IDADE    2310360 non-null  Int32 \n",
            " 2   ID_UNIDADE  2310360 non-null  string\n",
            " 3   CO_UNI_NOT  2310360 non-null  Int32 \n",
            " 4   OUT_ANIM    2019 non-null     string\n",
            " 5   OUTRO_DES   694988 non-null   string\n",
            " 6   OBES_IMC    23894 non-null    string\n",
            " 7   MORB_DESC   552988 non-null   string\n",
            " 8   FAB_COVRF2  33122 non-null    string\n",
            " 9   LOTE_1_COV  590153 non-null   string\n",
            " 10  LOTE_2_COV  493157 non-null   string\n",
            " 11  LOTE_REF    192595 non-null   string\n",
            " 12  LOTE_REF2   33170 non-null    string\n",
            " 13  OUT_ANTIV   6815 non-null     string\n",
            " 14  OUT_TRAT    709 non-null      string\n",
            " 15  RAIOX_OUT   78938 non-null    string\n",
            " 16  TOMO_OUT    62783 non-null    string\n",
            " 17  OUT_AMOST   186145 non-null   string\n",
            " 18  DS_AN_OUT   1299 non-null     string\n",
            " 19  FLUASU_OUT  267 non-null      string\n",
            " 20  FLUBLI_OUT  12 non-null       string\n",
            " 21  DS_PCR_OUT  2116 non-null     string\n",
            " 22  SOR_OUT     22896 non-null    string\n",
            " 23  OUT_SOR     11350 non-null    string\n",
            " 24  SOR_OUT     22896 non-null    string\n",
            " 25  CLASSI_OUT  4994 non-null     string\n",
            " 26  ID_MUNICIP  2310360 non-null  string\n",
            " 27  CO_MUN_NOT  2310360 non-null  Int32 \n",
            " 28  ID_REGIONA  2050155 non-null  string\n",
            " 29  CO_REGIONA  2050155 non-null  Int32 \n",
            " 30  PAC_COCBO   51578 non-null    string\n",
            " 31  PAC_DSCBO   51578 non-null    string\n",
            " 32  ID_RG_RESI  2055967 non-null  string\n",
            " 33  CO_RG_RESI  2055967 non-null  Int32 \n",
            " 34  ID_MN_RESI  2309962 non-null  string\n",
            " 35  CO_MUN_RES  2309962 non-null  Int32 \n",
            " 36  ID_RG_INTE  1800956 non-null  string\n",
            " 37  CO_RG_INTE  1800956 non-null  Int32 \n",
            " 38  ID_MN_INTE  2163407 non-null  string\n",
            " 39  CO_MU_INTE  2163407 non-null  Int32 \n",
            "dtypes: Int32(9), string(31)\n",
            "memory usage: 663.2 MB\n"
          ]
        }
      ]
    },
    {
      "cell_type": "code",
      "source": [
        "CAMPOS = ['CS_GESTANT', 'SG_UF_INTE', 'RES_IGG', 'RES_IGM', 'RES_IGA']"
      ],
      "metadata": {
        "id": "3ohPZkoRHiJz"
      },
      "execution_count": 40,
      "outputs": []
    },
    {
      "cell_type": "code",
      "source": [
        "df[CAMPOS].info(show_counts=True)"
      ],
      "metadata": {
        "id": "7hR_RvgPHeSf",
        "colab": {
          "base_uri": "https://localhost:8080/"
        },
        "outputId": "8d3def0b-2a8a-4f10-adb1-d1ad89c4d0a1"
      },
      "execution_count": 41,
      "outputs": [
        {
          "output_type": "stream",
          "name": "stdout",
          "text": [
            "<class 'pandas.core.frame.DataFrame'>\n",
            "Int64Index: 2310360 entries, 0 to 22642\n",
            "Data columns (total 5 columns):\n",
            " #   Column      Non-Null Count    Dtype \n",
            "---  ------      --------------    ----- \n",
            " 0   CS_GESTANT  2310360 non-null  Int32 \n",
            " 1   SG_UF_INTE  2239369 non-null  string\n",
            " 2   RES_IGG     256592 non-null   Int32 \n",
            " 3   RES_IGM     259464 non-null   Int32 \n",
            " 4   RES_IGA     202793 non-null   Int32 \n",
            "dtypes: Int32(4), string(1)\n",
            "memory usage: 79.3 MB\n"
          ]
        }
      ]
    },
    {
      "cell_type": "code",
      "source": [
        "with pd.option_context('display.max_rows', None): \n",
        "    for campo in CAMPOS:\n",
        "        display(df[campo].value_counts(dropna=False).sort_index())\n",
        "        print()"
      ],
      "metadata": {
        "id": "BCxjKl1eBW7P",
        "colab": {
          "base_uri": "https://localhost:8080/",
          "height": 1000
        },
        "outputId": "534a0611-0e23-47e5-ba06-c8b963daddcc"
      },
      "execution_count": 42,
      "outputs": [
        {
          "output_type": "display_data",
          "data": {
            "text/plain": [
              "0          378\n",
              "1         2511\n",
              "2         5809\n",
              "3        14226\n",
              "4         1216\n",
              "5       694357\n",
              "6      1498864\n",
              "9        92999\n",
              "NaN          0\n",
              "Name: CS_GESTANT, dtype: Int64"
            ]
          },
          "metadata": {}
        },
        {
          "output_type": "stream",
          "name": "stdout",
          "text": [
            "\n"
          ]
        },
        {
          "output_type": "display_data",
          "data": {
            "text/plain": [
              "AC       6190\n",
              "AL      25035\n",
              "AM      30790\n",
              "AP       5336\n",
              "BA      81904\n",
              "CE      92094\n",
              "DF      49562\n",
              "ES      17048\n",
              "GO      75496\n",
              "MA      23973\n",
              "MG     273612\n",
              "MS      43029\n",
              "MT      29289\n",
              "PA      45021\n",
              "PB      32590\n",
              "PE      74124\n",
              "PI      20526\n",
              "PR     191573\n",
              "RJ     176191\n",
              "RN      20755\n",
              "RO      16882\n",
              "RR       4149\n",
              "RS     128840\n",
              "SC      90859\n",
              "SE      23334\n",
              "SP     645394\n",
              "TO      15773\n",
              "NaN     70991\n",
              "Name: SG_UF_INTE, dtype: Int64"
            ]
          },
          "metadata": {}
        },
        {
          "output_type": "stream",
          "name": "stdout",
          "text": [
            "\n"
          ]
        },
        {
          "output_type": "display_data",
          "data": {
            "text/plain": [
              "1        66689\n",
              "2        42115\n",
              "3          230\n",
              "4       142326\n",
              "5          401\n",
              "9         4831\n",
              "NaN    2053768\n",
              "Name: RES_IGG, dtype: Int64"
            ]
          },
          "metadata": {}
        },
        {
          "output_type": "stream",
          "name": "stdout",
          "text": [
            "\n"
          ]
        },
        {
          "output_type": "display_data",
          "data": {
            "text/plain": [
              "1        72106\n",
              "2        41409\n",
              "3          281\n",
              "4       140601\n",
              "5          429\n",
              "9         4638\n",
              "NaN    2050896\n",
              "Name: RES_IGM, dtype: Int64"
            ]
          },
          "metadata": {}
        },
        {
          "output_type": "stream",
          "name": "stdout",
          "text": [
            "\n"
          ]
        },
        {
          "output_type": "display_data",
          "data": {
            "text/plain": [
              "1         6174\n",
              "2         4952\n",
              "3          409\n",
              "4       182458\n",
              "5          586\n",
              "9         8214\n",
              "NaN    2107567\n",
              "Name: RES_IGA, dtype: Int64"
            ]
          },
          "metadata": {}
        },
        {
          "output_type": "stream",
          "name": "stdout",
          "text": [
            "\n"
          ]
        }
      ]
    },
    {
      "cell_type": "markdown",
      "source": [
        "### Correção"
      ],
      "metadata": {
        "id": "aVdrMtkscupa"
      }
    },
    {
      "cell_type": "code",
      "source": [
        "# Campo CLASSI_FIN com valores NaN para 4-SRAG não especificado\n",
        "df['CLASSI_FIN'].fillna(4, inplace=True)\n",
        "\n",
        "# Campo CS_SEXO para numérico, como dicionário de dados.\n",
        "df['CS_SEXO'].replace({'M': 1, 'F': 2, 'I': 9}, inplace=True)\n",
        "df['CS_SEXO'] = df['CS_SEXO'].astype('Int32')\n",
        "\n",
        "# Campo ESTRANG com valores NaN para 2-Não\n",
        "df['ESTRANG'].fillna(2, inplace=True)\n",
        "\n",
        "# Campos com valores NaN para 9-Ignorado\n",
        "NAN9 = ['AMOSTRA', 'ANTIVIRAL', 'ASMA', 'AVE_SUINO', 'CARDIOPATI', 'CRITERIO', 'CS_ESCOL_N', 'CS_RACA', 'CS_ZONA', 'DESC_RESP', 'DIABETES',\n",
        "        'DIARREIA', 'DISPNEIA', 'DOR_ABD', 'EVOLUCAO', 'FADIGA', 'FATOR_RISC', 'FEBRE', 'FNT_IN_COV', 'GARGANTA', 'HEMATOLOGI', 'HEPATICA',\n",
        "        'HOSPITAL', 'IMUNODEPRE', 'MAE_VAC', 'M_AMAMENTA', 'NEUROLOGIC', 'NOSOCOMIAL', 'OBESIDADE', 'OUTRO_SIN', 'OUT_MORBI', 'PCR_FLUASU',\n",
        "        'PCR_FLUBLI', 'PCR_RESUL', 'PERD_OLFT', 'PERD_PALA', 'PNEUMOPATI', 'POS_AN_FLU', 'POS_AN_OUT', 'POS_PCRFLU', 'POS_PCROUT', 'PUERPERA',\n",
        "        'RAIOX_RES', 'RENAL', 'RES_AN', 'SATURACAO', 'SIND_DOWN', 'SUPORT_VEN', 'TIPO_TRAT', 'TOMO_RES', 'TOSSE', 'TP_AMOSTRA', 'TP_AM_SOR',\n",
        "        'TP_ANTIVIR', 'TP_FLU_AN', 'TP_FLU_PCR', 'TP_SOR', 'TP_TES_AN', 'TRAT_COV', 'UTI', 'VACINA', 'VACINA_COV', 'VOMITO']\n",
        "\n",
        "for campo in NAN9:\n",
        "    df[campo].fillna(9, inplace=True)"
      ],
      "metadata": {
        "id": "81mXJPCacwJr"
      },
      "execution_count": 20,
      "outputs": []
    },
    {
      "cell_type": "markdown",
      "source": [
        "### Contagem"
      ],
      "metadata": {
        "id": "-5BJToo4bnSJ"
      }
    },
    {
      "cell_type": "code",
      "source": [
        "CAMPOS = ['DT_NOTIFIC', 'SEM_NOT', 'DT_SIN_PRI', 'SEM_PRI', 'SG_UF_NOT', 'ID_PAIS', 'CO_PAIS']"
      ],
      "metadata": {
        "id": "6zQkIncCZ50L"
      },
      "execution_count": 38,
      "outputs": []
    },
    {
      "cell_type": "code",
      "source": [
        "df[CAMPOS].info(show_counts=True)"
      ],
      "metadata": {
        "colab": {
          "base_uri": "https://localhost:8080/"
        },
        "outputId": "017626e1-9037-4715-a9e9-aa9fa7429ecc",
        "id": "Guzcg2a0Z50S"
      },
      "execution_count": 39,
      "outputs": [
        {
          "output_type": "stream",
          "name": "stdout",
          "text": [
            "<class 'pandas.core.frame.DataFrame'>\n",
            "Int64Index: 2310360 entries, 0 to 22642\n",
            "Data columns (total 7 columns):\n",
            " #   Column      Non-Null Count    Dtype         \n",
            "---  ------      --------------    -----         \n",
            " 0   DT_NOTIFIC  2310360 non-null  datetime64[ns]\n",
            " 1   SEM_NOT     2310360 non-null  Int32         \n",
            " 2   DT_SIN_PRI  2310360 non-null  datetime64[ns]\n",
            " 3   SEM_PRI     2310360 non-null  Int32         \n",
            " 4   SG_UF_NOT   2310360 non-null  string        \n",
            " 5   ID_PAIS     2310360 non-null  string        \n",
            " 6   CO_PAIS     2310360 non-null  Int32         \n",
            "dtypes: Int32(3), datetime64[ns](2), string(2)\n",
            "memory usage: 121.2 MB\n"
          ]
        }
      ]
    },
    {
      "cell_type": "code",
      "source": [
        "df[DATAS[:-1]].info(show_counts=True)"
      ],
      "metadata": {
        "colab": {
          "base_uri": "https://localhost:8080/"
        },
        "id": "PbGrXffhQ_op",
        "outputId": "2513c757-ea5b-4dd2-b965-ee4c957fa5c6"
      },
      "execution_count": 32,
      "outputs": [
        {
          "output_type": "stream",
          "name": "stdout",
          "text": [
            "<class 'pandas.core.frame.DataFrame'>\n",
            "Int64Index: 2310360 entries, 0 to 22642\n",
            "Data columns (total 28 columns):\n",
            " #   Column      Non-Null Count    Dtype         \n",
            "---  ------      --------------    -----         \n",
            " 0   DT_NOTIFIC  2310360 non-null  datetime64[ns]\n",
            " 1   DT_SIN_PRI  2310360 non-null  datetime64[ns]\n",
            " 2   DT_NASC     2308970 non-null  datetime64[ns]\n",
            " 3   DT_UT_DOSE  92107 non-null    datetime64[ns]\n",
            " 4   DT_VAC_MAE  1186 non-null     datetime64[ns]\n",
            " 5   DT_DOSEUNI  236 non-null      datetime64[ns]\n",
            " 6   DT_1_DOSE   239 non-null      datetime64[ns]\n",
            " 7   DT_2_DOSE   189 non-null      datetime64[ns]\n",
            " 8   DT_ANTIVIR  51194 non-null    datetime64[ns]\n",
            " 9   DT_INTERNA  2157993 non-null  datetime64[ns]\n",
            " 10  DT_ENTUTI   637296 non-null   datetime64[ns]\n",
            " 11  DT_SAIDUTI  383907 non-null   datetime64[ns]\n",
            " 12  DT_RAIOX    468513 non-null   datetime64[ns]\n",
            " 13  DT_COLETA   2097590 non-null  datetime64[ns]\n",
            " 14  DT_PCR      1481952 non-null  datetime64[ns]\n",
            " 15  DT_EVOLUCA  1940601 non-null  datetime64[ns]\n",
            " 16  DT_ENCERRA  2088432 non-null  datetime64[ns]\n",
            " 17  DT_DIGITA   2310360 non-null  datetime64[ns]\n",
            " 18  DT_VGM      54 non-null       datetime64[ns]\n",
            " 19  DT_RT_VGM   54 non-null       datetime64[ns]\n",
            " 20  DT_TOMO     739725 non-null   datetime64[ns]\n",
            " 21  DT_RES_AN   631670 non-null   datetime64[ns]\n",
            " 22  DT_CO_SOR   126146 non-null   datetime64[ns]\n",
            " 23  DT_RES      134667 non-null   datetime64[ns]\n",
            " 24  DOSE_1_COV  684415 non-null   datetime64[ns]\n",
            " 25  DOSE_2_COV  544751 non-null   datetime64[ns]\n",
            " 26  DOSE_REF    194419 non-null   datetime64[ns]\n",
            " 27  DOSE_2REF   31824 non-null    datetime64[ns]\n",
            "dtypes: datetime64[ns](28)\n",
            "memory usage: 511.2 MB\n"
          ]
        }
      ]
    },
    {
      "cell_type": "code",
      "source": [
        "# Quantidade de registros com sexo diferente de 1-Masculino ou 2-Feminino.\n",
        "(~df['CS_SEXO'].isin([1, 2])).sum()"
      ],
      "metadata": {
        "colab": {
          "base_uri": "https://localhost:8080/"
        },
        "id": "sbOtVLWpxG3y",
        "outputId": "79e11c6d-6f41-4284-f96d-3b2c14f0248a"
      },
      "execution_count": 21,
      "outputs": [
        {
          "output_type": "execute_result",
          "data": {
            "text/plain": [
              "376"
            ]
          },
          "metadata": {},
          "execution_count": 21
        }
      ]
    },
    {
      "cell_type": "code",
      "source": [
        "# Quantidade de registros sem data de nascimento.\n",
        "df['DT_NASC'].isna().sum()"
      ],
      "metadata": {
        "colab": {
          "base_uri": "https://localhost:8080/"
        },
        "id": "XZK4AD3AbQBK",
        "outputId": "56a62815-6f4f-4ee6-b5c9-80258f153eb1"
      },
      "execution_count": 22,
      "outputs": [
        {
          "output_type": "execute_result",
          "data": {
            "text/plain": [
              "1390"
            ]
          },
          "metadata": {},
          "execution_count": 22
        }
      ]
    },
    {
      "cell_type": "code",
      "source": [
        "# # Quantidade de registros com ano de nascimento inferior a 1923, por ano.\n",
        "# with pd.option_context('display.max_rows', None): \n",
        "#     display(df['DT_NASC'][df['DT_NASC'].dt.year < 1923].dt.year.value_counts().sort_index())"
      ],
      "metadata": {
        "id": "K0Ut2v_8I8Ea"
      },
      "execution_count": null,
      "outputs": []
    },
    {
      "cell_type": "code",
      "source": [
        "# Quantidade total de registros com ano de nascimento inferior a 1923.\n",
        "(df['DT_NASC'].dt.year < 1923).sum()"
      ],
      "metadata": {
        "colab": {
          "base_uri": "https://localhost:8080/"
        },
        "id": "IPpjBoxpbMb1",
        "outputId": "5ff19c70-ee9e-487e-8dd5-cc8f099ee5d4"
      },
      "execution_count": 24,
      "outputs": [
        {
          "output_type": "execute_result",
          "data": {
            "text/plain": [
              "6137"
            ]
          },
          "metadata": {},
          "execution_count": 24
        }
      ]
    },
    {
      "cell_type": "code",
      "source": [
        "# Quantidade de registros sem unidade federativa.\n",
        "df['SG_UF'].isna().sum()"
      ],
      "metadata": {
        "colab": {
          "base_uri": "https://localhost:8080/"
        },
        "id": "EHoAOSZ-eYxS",
        "outputId": "b22e115c-bcf8-4cdb-dbae-dd2835fb1f2c"
      },
      "execution_count": 25,
      "outputs": [
        {
          "output_type": "execute_result",
          "data": {
            "text/plain": [
              "398"
            ]
          },
          "metadata": {},
          "execution_count": 25
        }
      ]
    },
    {
      "cell_type": "markdown",
      "source": [
        "### Limpeza"
      ],
      "metadata": {
        "id": "8FXJZTX-bk0O"
      }
    },
    {
      "cell_type": "code",
      "source": [
        "# Remover colunas vazias.\n",
        "df.dropna(how='all', axis=1, inplace=True)\n",
        "\n",
        "# Remover registros com sexo diferente de 1-Masculino ou 2-Feminino.\n",
        "df.drop(df[~df['CS_SEXO'].isin([1, 2])].index, inplace=True)\n",
        "\n",
        "# Remover registros sem data de nascimento ou unidade federativa.\n",
        "df.dropna(subset=['DT_NASC', 'SG_UF'], inplace=True)\n",
        "\n",
        "# Remover registros com ano de nascimento inferior a 1923.\n",
        "df.drop(df[df['DT_NASC'].dt.year < 1923].index, inplace=True)"
      ],
      "metadata": {
        "id": "HHODyCm7F7b_"
      },
      "execution_count": 26,
      "outputs": []
    },
    {
      "cell_type": "code",
      "source": [],
      "metadata": {
        "id": "0ERgZpZwx1ga"
      },
      "execution_count": 26,
      "outputs": []
    }
  ]
}