{
  "nbformat": 4,
  "nbformat_minor": 0,
  "metadata": {
    "colab": {
      "provenance": [],
      "toc_visible": true,
      "authorship_tag": "ABX9TyNG6j0TcUPm+84GFy/9PvGM",
      "include_colab_link": true
    },
    "kernelspec": {
      "name": "python3",
      "display_name": "Python 3"
    },
    "language_info": {
      "name": "python"
    },
    "accelerator": "GPU",
    "gpuClass": "standard"
  },
  "cells": [
    {
      "cell_type": "markdown",
      "metadata": {
        "id": "view-in-github",
        "colab_type": "text"
      },
      "source": [
        "<a href=\"https://colab.research.google.com/github/flohmannjr/PJI410/blob/main/PJI410_modelo_futuro.ipynb\" target=\"_parent\"><img src=\"https://colab.research.google.com/assets/colab-badge.svg\" alt=\"Open In Colab\"/></a>"
      ]
    },
    {
      "cell_type": "markdown",
      "source": [
        "# PJI410 - Modelo futuro"
      ],
      "metadata": {
        "id": "wUIPYAF1iz_J"
      }
    },
    {
      "cell_type": "markdown",
      "metadata": {
        "id": "g2TgIvCl96Zy"
      },
      "source": [
        "# Importações"
      ]
    },
    {
      "cell_type": "code",
      "source": [
        "import numpy as np\n",
        "import pandas as pd\n",
        "\n",
        "import matplotlib.pyplot as plt\n",
        "import seaborn as sns\n",
        "\n",
        "import os, random\n",
        "\n",
        "import tensorflow as tf\n",
        "\n",
        "from tensorflow.keras import Sequential\n",
        "from tensorflow.keras.callbacks import ReduceLROnPlateau\n",
        "from tensorflow.keras.layers import Dense\n",
        "from tensorflow.keras.models import load_model\n",
        "from tensorflow.keras.optimizers import Adam\n",
        "\n",
        "from absl import logging as absl_logging"
      ],
      "metadata": {
        "id": "O3CSgTJQkFbq"
      },
      "execution_count": 1,
      "outputs": []
    },
    {
      "cell_type": "markdown",
      "metadata": {
        "id": "AYZyXKAo-GcL"
      },
      "source": [
        "# Configurações"
      ]
    },
    {
      "cell_type": "code",
      "execution_count": 2,
      "metadata": {
        "id": "S9v6zYN--JGK"
      },
      "outputs": [],
      "source": [
        "plt.rcParams['figure.figsize'] = [8, 5]\n",
        "plt.rcParams['figure.dpi']     = 100\n",
        "\n",
        "# plt.style.use('seaborn-v0_8-darkgrid')\n",
        "sns.set_style(\"darkgrid\")\n",
        "\n",
        "SEMENTE = 2001088 + 2001247 + 2003061 + 2005493 + 2008193 + 2008620 + 2008880\n",
        "\n",
        "JANELA_TAMANHO        = 6\n",
        "HORIZONTE_TAMANHO     = 1\n",
        "QUANTIDADE_INTERVALOS = 8\n",
        "\n",
        "LOTE_TAMANHO = 32\n",
        "\n",
        "# CAMADAS = 4\n",
        "\n",
        "# CAMADA_UNIDADES      = 64\n",
        "CAMADA_INICIALIZADOR = 'he_uniform'\n",
        "CAMADA_ATIVACAO      = 'relu'\n",
        "\n",
        "PROFUNDO_POTENCIA_INICIAL = 5\n",
        "PROFUNDO_POTENCIA_FINAL   = 13  # Não incluída\n",
        "PROFUNDO_REPETICAO        = 2\n",
        "PROFUNDO_CONSOLIDACAO     = 32\n",
        "\n",
        "SAIDA_ATIVACAO = 'linear'\n",
        "\n",
        "PERDA       = 'mae'\n",
        "OTIMIZADOR  = Adam\n",
        "APRENDIZADO = 0.001\n",
        "METRICAS    = ['mae', 'mse']\n",
        "\n",
        "ITERACOES = 1000\n",
        "\n",
        "CAMINHO_MARCOS = 'marcos'\n",
        "\n",
        "# Define o nível de log Abseil para 'ERROR'.\n",
        "# https://abseil.io/docs/python/guides/logging\n",
        "absl_logging.set_verbosity(absl_logging.ERROR)"
      ]
    },
    {
      "cell_type": "markdown",
      "source": [
        "## Funções"
      ],
      "metadata": {
        "id": "DENypnHNmZbh"
      }
    },
    {
      "cell_type": "code",
      "source": [
        "!wget https://raw.githubusercontent.com/flohmannjr/PJI410/main/PJI410_funcoes_auxiliares.py"
      ],
      "metadata": {
        "colab": {
          "base_uri": "https://localhost:8080/"
        },
        "id": "XRvowR-Kmaej",
        "outputId": "e8dad719-97e1-4caa-f4b0-6d26d3c84353"
      },
      "execution_count": 3,
      "outputs": [
        {
          "output_type": "stream",
          "name": "stdout",
          "text": [
            "--2023-03-22 20:08:21--  https://raw.githubusercontent.com/flohmannjr/PJI410/main/PJI410_funcoes_auxiliares.py\n",
            "Resolving raw.githubusercontent.com (raw.githubusercontent.com)... 185.199.110.133, 185.199.109.133, 185.199.111.133, ...\n",
            "Connecting to raw.githubusercontent.com (raw.githubusercontent.com)|185.199.110.133|:443... connected.\n",
            "HTTP request sent, awaiting response... 200 OK\n",
            "Length: 7246 (7.1K) [text/plain]\n",
            "Saving to: ‘PJI410_funcoes_auxiliares.py’\n",
            "\n",
            "PJI410_funcoes_auxi 100%[===================>]   7.08K  --.-KB/s    in 0s      \n",
            "\n",
            "2023-03-22 20:08:21 (89.2 MB/s) - ‘PJI410_funcoes_auxiliares.py’ saved [7246/7246]\n",
            "\n"
          ]
        }
      ]
    },
    {
      "cell_type": "code",
      "source": [
        "from PJI410_funcoes_auxiliares import criar_janelas, criar_marco_modelo, gerar_previsoes_futuro, grafico_series, metricas_modelo, separar_janelas_treino_teste, set_global_determinism"
      ],
      "metadata": {
        "id": "juJp84VuqdKJ"
      },
      "execution_count": 4,
      "outputs": []
    },
    {
      "cell_type": "markdown",
      "metadata": {
        "id": "kXYglCsFkSaE"
      },
      "source": [
        "# Dados"
      ]
    },
    {
      "cell_type": "code",
      "execution_count": 5,
      "metadata": {
        "id": "lHqo9nUOknm4"
      },
      "outputs": [],
      "source": [
        "df = pd.read_csv('https://raw.githubusercontent.com/flohmannjr/PJI410/main/dados/PJI410_notificacoes_por_municipio.csv', parse_dates=['Segunda-feira'])\n",
        "\n",
        "dados = df[['Segunda-feira', 'Quantidade']].groupby(by=['Segunda-feira']).sum().sort_index().reset_index()\n",
        "dados = dados['Quantidade'].to_numpy().astype('float32')"
      ]
    },
    {
      "cell_type": "markdown",
      "source": [
        "# Modelo"
      ],
      "metadata": {
        "id": "2gh9zh1sQ_y0"
      }
    },
    {
      "cell_type": "code",
      "source": [
        "%%time\n",
        "\n",
        "set_global_determinism(seed=SEMENTE)\n",
        "\n",
        "janelas, horizontes = criar_janelas(dados, JANELA_TAMANHO, HORIZONTE_TAMANHO)\n",
        "\n",
        "janelas_treino, janelas_teste, horizontes_treino, horizontes_teste = separar_janelas_treino_teste(janelas, horizontes, tamanho_teste=0.2)\n",
        "\n",
        "modelo_nome = 'modelo_futuro'\n",
        "\n",
        "modelo_futuro = Sequential(name=modelo_nome)\n",
        "\n",
        "for potencia in range(PROFUNDO_POTENCIA_INICIAL, PROFUNDO_POTENCIA_FINAL):\n",
        "    unidades = 2 ** potencia\n",
        "    [modelo_futuro.add(Dense(units=unidades, kernel_initializer=CAMADA_INICIALIZADOR, activation=CAMADA_ATIVACAO, name=f'camada_oculta_{unidades}_{r}')) for r in range(PROFUNDO_REPETICAO)]\n",
        "\n",
        "modelo_futuro.add(Dense(units=PROFUNDO_CONSOLIDACAO, activation=CAMADA_ATIVACAO, name='camada_consolidacao'))\n",
        "modelo_futuro.add(Dense(units=HORIZONTE_TAMANHO, activation=SAIDA_ATIVACAO, name='camada_saida'))\n",
        "\n",
        "modelo_futuro.compile(loss=PERDA, optimizer=OTIMIZADOR(learning_rate=APRENDIZADO), metrics=METRICAS)\n",
        "\n",
        "modelo_futuro.fit(x=janelas_treino,\n",
        "                  y=horizontes_treino,\n",
        "                  epochs=ITERACOES,\n",
        "                  batch_size=LOTE_TAMANHO,\n",
        "                  validation_data=(janelas_teste, horizontes_teste),\n",
        "                  callbacks=[ReduceLROnPlateau(monitor='val_loss', patience=100, verbose=0),\n",
        "                             criar_marco_modelo(modelo_nome, caminho=CAMINHO_MARCOS)],\n",
        "                  verbose=0)\n",
        "\n",
        "modelo_futuro = load_model(os.path.join(CAMINHO_MARCOS, modelo_nome))\n",
        "\n",
        "previsoes = modelo_futuro.predict(janelas_teste, verbose=0)\n",
        "metricas  = metricas_modelo(horizontes_teste[:, -1], y_previsao=previsoes[:, -1])\n",
        "\n",
        "print(metricas)"
      ],
      "metadata": {
        "colab": {
          "base_uri": "https://localhost:8080/"
        },
        "id": "JdnsiZwun0jS",
        "outputId": "f927fa32-9b16-4e66-a079-eb4134e6c367"
      },
      "execution_count": 6,
      "outputs": [
        {
          "output_type": "stream",
          "name": "stdout",
          "text": [
            "{'Mean Absolute Error': 516.5684, 'Root Mean Squared Error': 757.40094, 'Mean Absolute Percentage Error': 0.1261943}\n",
            "CPU times: user 1min 25s, sys: 8.33 s, total: 1min 34s\n",
            "Wall time: 1min 48s\n"
          ]
        }
      ]
    },
    {
      "cell_type": "code",
      "source": [
        "modelo_futuro.summary()"
      ],
      "metadata": {
        "colab": {
          "base_uri": "https://localhost:8080/"
        },
        "id": "OHAm1NDODflL",
        "outputId": "a157ff9f-8d95-4006-d3c4-f497911b5b96"
      },
      "execution_count": 7,
      "outputs": [
        {
          "output_type": "stream",
          "name": "stdout",
          "text": [
            "Model: \"modelo_futuro\"\n",
            "_________________________________________________________________\n",
            " Layer (type)                Output Shape              Param #   \n",
            "=================================================================\n",
            " camada_oculta_32_0 (Dense)  (None, 32)                224       \n",
            "                                                                 \n",
            " camada_oculta_32_1 (Dense)  (None, 32)                1056      \n",
            "                                                                 \n",
            " camada_oculta_64_0 (Dense)  (None, 64)                2112      \n",
            "                                                                 \n",
            " camada_oculta_64_1 (Dense)  (None, 64)                4160      \n",
            "                                                                 \n",
            " camada_oculta_128_0 (Dense)  (None, 128)              8320      \n",
            "                                                                 \n",
            " camada_oculta_128_1 (Dense)  (None, 128)              16512     \n",
            "                                                                 \n",
            " camada_oculta_256_0 (Dense)  (None, 256)              33024     \n",
            "                                                                 \n",
            " camada_oculta_256_1 (Dense)  (None, 256)              65792     \n",
            "                                                                 \n",
            " camada_oculta_512_0 (Dense)  (None, 512)              131584    \n",
            "                                                                 \n",
            " camada_oculta_512_1 (Dense)  (None, 512)              262656    \n",
            "                                                                 \n",
            " camada_oculta_1024_0 (Dense  (None, 1024)             525312    \n",
            " )                                                               \n",
            "                                                                 \n",
            " camada_oculta_1024_1 (Dense  (None, 1024)             1049600   \n",
            " )                                                               \n",
            "                                                                 \n",
            " camada_oculta_2048_0 (Dense  (None, 2048)             2099200   \n",
            " )                                                               \n",
            "                                                                 \n",
            " camada_oculta_2048_1 (Dense  (None, 2048)             4196352   \n",
            " )                                                               \n",
            "                                                                 \n",
            " camada_oculta_4096_0 (Dense  (None, 4096)             8392704   \n",
            " )                                                               \n",
            "                                                                 \n",
            " camada_oculta_4096_1 (Dense  (None, 4096)             16781312  \n",
            " )                                                               \n",
            "                                                                 \n",
            " camada_consolidacao (Dense)  (None, 32)               131104    \n",
            "                                                                 \n",
            " camada_saida (Dense)        (None, 1)                 33        \n",
            "                                                                 \n",
            "=================================================================\n",
            "Total params: 33,701,057\n",
            "Trainable params: 33,701,057\n",
            "Non-trainable params: 0\n",
            "_________________________________________________________________\n"
          ]
        }
      ]
    },
    {
      "cell_type": "markdown",
      "source": [
        "## Testes"
      ],
      "metadata": {
        "id": "-vSVQjX3m7i0"
      }
    },
    {
      "cell_type": "code",
      "source": [
        "dados = []\n",
        "local = ''\n",
        "\n",
        "while(len(dados) <= 16):\n",
        "\n",
        "    uf_codigo, uf_nome, mu_codigo, mu_nome = df[['UF_Codigo', 'UF_Nome', 'Municipio_Codigo', 'Municipio_Nome']].sample().values[0]\n",
        "\n",
        "    if(random.getrandbits(1)):\n",
        "        filtro = df['UF_Codigo'] == uf_codigo\n",
        "        local  = f\" {uf_codigo} - {uf_nome}\"\n",
        "    else:\n",
        "        filtro = df['Municipio_Codigo'] == mu_codigo\n",
        "        local  = f\"\\n{mu_codigo} - {mu_nome} ({uf_codigo})\"\n",
        "\n",
        "    dados = df[['Segunda-feira', 'Quantidade']][filtro].groupby(by=['Segunda-feira']).sum().sort_index().reset_index()"
      ],
      "metadata": {
        "id": "qt0WdjYAiBoE"
      },
      "execution_count": 38,
      "outputs": []
    },
    {
      "cell_type": "code",
      "source": [
        "X_train = dados[:-QUANTIDADE_INTERVALOS]['Segunda-feira'].to_numpy()\n",
        "y_train = dados[:-QUANTIDADE_INTERVALOS]['Quantidade'].to_numpy()\n",
        "\n",
        "X_test = dados[-QUANTIDADE_INTERVALOS:]['Segunda-feira'].to_numpy()\n",
        "y_test = dados[-QUANTIDADE_INTERVALOS:]['Quantidade'].to_numpy()\n",
        "\n",
        "y_pred = gerar_previsoes_futuro(modelo_futuro, y_train, QUANTIDADE_INTERVALOS, JANELA_TAMANHO)\n",
        "\n",
        "# Inclui o último valor de treino no teste e na previsão, para o gráfico não parecer quebrado.\n",
        "X_test = np.insert(X_test, 0, X_train[-1])\n",
        "y_test = np.insert(y_test, 0, y_train[-1])\n",
        "y_pred = np.insert(y_pred, 0, y_train[-1])"
      ],
      "metadata": {
        "id": "NdlexxSNK6vV"
      },
      "execution_count": 39,
      "outputs": []
    },
    {
      "cell_type": "code",
      "source": [
        "grafico_series(X_treino=X_train, y_treino=y_train,\n",
        "               X_teste=X_test, y_teste=y_test,\n",
        "               X_previsao=X_test, y_previsao=y_pred,\n",
        "               inicio=-24, local=local)"
      ],
      "metadata": {
        "colab": {
          "base_uri": "https://localhost:8080/",
          "height": 486
        },
        "id": "sMkz0YZlKxTD",
        "outputId": "9836631a-71d9-4372-8d81-8281d08253bc"
      },
      "execution_count": 40,
      "outputs": [
        {
          "output_type": "display_data",
          "data": {
            "text/plain": [
              "<Figure size 800x500 with 1 Axes>"
            ],
            "image/png": "[encoded data removed]"
          },
          "metadata": {}
        }
      ]
    },
    {
      "cell_type": "code",
      "source": [],
      "metadata": {
        "id": "onTWvcCkjrxJ"
      },
      "execution_count": 40,
      "outputs": []
    }
  ]
}