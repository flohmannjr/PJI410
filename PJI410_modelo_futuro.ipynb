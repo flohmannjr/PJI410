{
  "nbformat": 4,
  "nbformat_minor": 0,
  "metadata": {
    "colab": {
      "provenance": [],
      "toc_visible": true,
      "authorship_tag": "ABX9TyN9GN0mRUbJnV8YY2lmk7kW",
      "include_colab_link": true
    },
    "kernelspec": {
      "name": "python3",
      "display_name": "Python 3"
    },
    "language_info": {
      "name": "python"
    },
    "accelerator": "GPU",
    "gpuClass": "standard"
  },
  "cells": [
    {
      "cell_type": "markdown",
      "metadata": {
        "id": "view-in-github",
        "colab_type": "text"
      },
      "source": [
        "<a href=\"https://colab.research.google.com/github/flohmannjr/PJI410/blob/main/PJI410_modelo_futuro.ipynb\" target=\"_parent\"><img src=\"https://colab.research.google.com/assets/colab-badge.svg\" alt=\"Open In Colab\"/></a>"
      ]
    },
    {
      "cell_type": "markdown",
      "source": [
        "# PJI410 - Modelo futuro"
      ],
      "metadata": {
        "id": "wUIPYAF1iz_J"
      }
    },
    {
      "cell_type": "markdown",
      "metadata": {
        "id": "g2TgIvCl96Zy"
      },
      "source": [
        "# Importações"
      ]
    },
    {
      "cell_type": "code",
      "source": [
        "import numpy as np\n",
        "import pandas as pd\n",
        "\n",
        "import matplotlib.pyplot as plt\n",
        "\n",
        "import os, random\n",
        "\n",
        "import tensorflow as tf\n",
        "\n",
        "from tensorflow.keras import Sequential\n",
        "from tensorflow.keras.callbacks import ReduceLROnPlateau\n",
        "from tensorflow.keras.layers import Dense\n",
        "from tensorflow.keras.models import load_model\n",
        "from tensorflow.keras.optimizers import Adam\n",
        "\n",
        "from absl import logging as absl_logging"
      ],
      "metadata": {
        "id": "O3CSgTJQkFbq"
      },
      "execution_count": 1,
      "outputs": []
    },
    {
      "cell_type": "markdown",
      "metadata": {
        "id": "AYZyXKAo-GcL"
      },
      "source": [
        "# Configurações"
      ]
    },
    {
      "cell_type": "code",
      "execution_count": 2,
      "metadata": {
        "id": "S9v6zYN--JGK"
      },
      "outputs": [],
      "source": [
        "plt.rcParams['figure.figsize'] = [8, 5]\n",
        "plt.rcParams['figure.dpi'] = 100\n",
        "\n",
        "plt.style.use('seaborn-v0_8-darkgrid')\n",
        "\n",
        "SEMENTE = 2001088 + 2001247 + 2003061 + 2005493 + 2008193 + 2008620 + 2008880\n",
        "\n",
        "PALETA = 'summer_r'\n",
        "\n",
        "LINHA_ESPESSURA = 1\n",
        "\n",
        "LOTE_TAMANHO = 32\n",
        "\n",
        "# CAMADAS = 4\n",
        "\n",
        "# CAMADA_UNIDADES      = 64\n",
        "CAMADA_INICIALIZADOR = 'he_uniform'\n",
        "CAMADA_ATIVACAO      = 'relu'\n",
        "\n",
        "PROFUNDO_POTENCIA_INICIAL = 5\n",
        "PROFUNDO_POTENCIA_FINAL   = 9  # Não incluída\n",
        "PROFUNDO_REPETICAO        = 2\n",
        "PROFUNDO_CONSOLIDACAO     = 32\n",
        "\n",
        "SAIDA_ATIVACAO = 'linear'\n",
        "\n",
        "PERDA       = 'mae'\n",
        "OTIMIZADOR  = Adam\n",
        "APRENDIZADO = 0.001\n",
        "METRICAS    = ['mae', 'mse']\n",
        "\n",
        "ITERACOES = 1000\n",
        "\n",
        "CAMINHO_MARCOS = 'marcos'\n",
        "\n",
        "# Define o nível de log Abseil para 'ERROR'.\n",
        "# https://abseil.io/docs/python/guides/logging\n",
        "absl_logging.set_verbosity(absl_logging.ERROR)"
      ]
    },
    {
      "cell_type": "markdown",
      "source": [
        "## Funções"
      ],
      "metadata": {
        "id": "DENypnHNmZbh"
      }
    },
    {
      "cell_type": "code",
      "source": [
        "!wget https://raw.githubusercontent.com/flohmannjr/PJI410/main/PJI410_funcoes_auxiliares.py"
      ],
      "metadata": {
        "colab": {
          "base_uri": "https://localhost:8080/"
        },
        "id": "XRvowR-Kmaej",
        "outputId": "bded915c-38da-402f-e0c7-237482fa5da9"
      },
      "execution_count": 3,
      "outputs": [
        {
          "output_type": "stream",
          "name": "stdout",
          "text": [
            "--2023-03-19 14:49:16--  https://raw.githubusercontent.com/flohmannjr/PJI410/main/PJI410_funcoes_auxiliares.py\n",
            "Resolving raw.githubusercontent.com (raw.githubusercontent.com)... 185.199.108.133, 185.199.109.133, 185.199.111.133, ...\n",
            "Connecting to raw.githubusercontent.com (raw.githubusercontent.com)|185.199.108.133|:443... connected.\n",
            "HTTP request sent, awaiting response... 200 OK\n",
            "Length: 7246 (7.1K) [text/plain]\n",
            "Saving to: ‘PJI410_funcoes_auxiliares.py.2’\n",
            "\n",
            "\r          PJI410_fu   0%[                    ]       0  --.-KB/s               \rPJI410_funcoes_auxi 100%[===================>]   7.08K  --.-KB/s    in 0s      \n",
            "\n",
            "2023-03-19 14:49:16 (59.7 MB/s) - ‘PJI410_funcoes_auxiliares.py.2’ saved [7246/7246]\n",
            "\n"
          ]
        }
      ]
    },
    {
      "cell_type": "code",
      "source": [
        "from PJI410_funcoes_auxiliares import criar_janelas, criar_marco_modelo, gerar_previsoes_futuro, grafico_series, metricas_modelo, separar_janelas_treino_teste, set_global_determinism"
      ],
      "metadata": {
        "id": "juJp84VuqdKJ"
      },
      "execution_count": 4,
      "outputs": []
    },
    {
      "cell_type": "markdown",
      "metadata": {
        "id": "kXYglCsFkSaE"
      },
      "source": [
        "# Dados"
      ]
    },
    {
      "cell_type": "code",
      "execution_count": 5,
      "metadata": {
        "id": "lHqo9nUOknm4"
      },
      "outputs": [],
      "source": [
        "df_populacao  = pd.read_csv('https://raw.githubusercontent.com/flohmannjr/PJI410/main/dados/PJI410_populacao.csv')\n",
        "df_municipios = pd.read_csv('https://raw.githubusercontent.com/flohmannjr/PJI410/main/dados/PJI410_municipios.csv')\n",
        "df_unidades   = pd.read_csv('https://raw.githubusercontent.com/flohmannjr/PJI410/main/dados/PJI410_unidades.csv')\n",
        "\n",
        "df_notificacoes_por_unidade = pd.read_csv('https://raw.githubusercontent.com/flohmannjr/PJI410/main/dados/PJI410_notificacoes_por_unidade.zip', parse_dates=['Segunda-feira'])\n",
        "df_notificacoes_por_unidade = df_notificacoes_por_unidade[['UF', 'Municipio', 'Unidade', 'Segunda-feira', 'Quantidade']]\n",
        "df_notificacoes_por_unidade = df_notificacoes_por_unidade.sort_values(by=['UF', 'Municipio', 'Unidade', 'Segunda-feira']).reset_index(drop=True)\n",
        "\n",
        "df_notificacoes_por_municipio = df_notificacoes_por_unidade[['UF', 'Municipio', 'Segunda-feira', 'Quantidade']].groupby(by=['UF', 'Municipio', 'Segunda-feira']).sum()\n",
        "df_notificacoes_por_municipio = df_notificacoes_por_municipio.sort_index().reset_index()\n",
        "\n",
        "df_notificacoes_por_uf = df_notificacoes_por_unidade[['UF', 'Segunda-feira', 'Quantidade']].groupby(by=['UF', 'Segunda-feira']).sum()\n",
        "df_notificacoes_por_uf = df_notificacoes_por_uf.sort_index().reset_index()\n",
        "\n",
        "df_notificacoes_por_semana = df_notificacoes_por_unidade[['Segunda-feira', 'Quantidade']].groupby(by=['Segunda-feira']).sum()\n",
        "df_notificacoes_por_semana = df_notificacoes_por_semana.sort_index().reset_index()\n",
        "\n",
        "quantidades = df_notificacoes_por_semana['Quantidade'].to_numpy().astype('float32')"
      ]
    },
    {
      "cell_type": "code",
      "execution_count": 6,
      "metadata": {
        "id": "A2Mh1F34Y3Fk"
      },
      "outputs": [],
      "source": [
        "# q_treino = int(len(dados) * 0.8)\n",
        "\n",
        "# X_train = dados[:q_treino]['Segunda-feira'].to_numpy()\n",
        "# y_train = dados[:q_treino]['Quantidade'].to_numpy()\n",
        "\n",
        "# X_test = dados[q_treino:]['Segunda-feira'].to_numpy()\n",
        "# y_test = dados[q_treino:]['Quantidade'].to_numpy()"
      ]
    },
    {
      "cell_type": "markdown",
      "source": [
        "# Modelo"
      ],
      "metadata": {
        "id": "2gh9zh1sQ_y0"
      }
    },
    {
      "cell_type": "code",
      "source": [
        "janela_tamanho = 7\n",
        "horizonte_tamanho = 1\n",
        "quantidade_intervalos = 8\n",
        "\n",
        "janelas, horizontes = criar_janelas(quantidades, janela_tamanho, horizonte_tamanho)\n",
        "\n",
        "janelas_treino, janelas_teste, horizontes_treino, horizontes_teste = separar_janelas_treino_teste(janelas, horizontes, tamanho_teste=0.1)"
      ],
      "metadata": {
        "id": "ey3i2MQZYY_N"
      },
      "execution_count": 7,
      "outputs": []
    },
    {
      "cell_type": "code",
      "source": [
        "%%time\n",
        "\n",
        "set_global_determinism(seed=SEMENTE)\n",
        "\n",
        "modelo_nome = 'modelo_futuro'\n",
        "\n",
        "modelo_futuro = Sequential(name=modelo_nome)\n",
        "\n",
        "for potencia in range(PROFUNDO_POTENCIA_INICIAL, PROFUNDO_POTENCIA_FINAL):\n",
        "    unidades = 2 ** potencia\n",
        "    [modelo_futuro.add(Dense(units=unidades, kernel_initializer=CAMADA_INICIALIZADOR, activation=CAMADA_ATIVACAO, name=f'camada_oculta_{unidades}_{r}')) for r in range(PROFUNDO_REPETICAO)]\n",
        "\n",
        "modelo_futuro.add(Dense(units=PROFUNDO_CONSOLIDACAO, activation=CAMADA_ATIVACAO, name='camada_consolidacao'))\n",
        "modelo_futuro.add(Dense(units=horizonte_tamanho, activation=SAIDA_ATIVACAO, name='camada_saida'))\n",
        "\n",
        "modelo_futuro.compile(loss=PERDA, optimizer=OTIMIZADOR(learning_rate=APRENDIZADO), metrics=METRICAS)\n",
        "\n",
        "modelo_futuro.fit(x=janelas_treino,\n",
        "                  y=horizontes_treino,\n",
        "                  epochs=ITERACOES,\n",
        "                  batch_size=LOTE_TAMANHO,\n",
        "                  validation_data=(janelas_teste, horizontes_teste),\n",
        "                  callbacks=[ReduceLROnPlateau(monitor='val_loss', patience=100, verbose=0),\n",
        "                             criar_marco_modelo(modelo_nome, caminho=CAMINHO_MARCOS)],\n",
        "                  verbose=0)\n",
        "\n",
        "modelo_futuro = load_model(os.path.join(CAMINHO_MARCOS, modelo_nome))\n",
        "\n",
        "previsoes = modelo_futuro.predict(janelas_teste, verbose=0)\n",
        "metricas  = metricas_modelo(horizontes_teste[:, -1], y_previsao=previsoes[:, -1])\n",
        "print(metricas)"
      ],
      "metadata": {
        "colab": {
          "base_uri": "https://localhost:8080/"
        },
        "id": "JdnsiZwun0jS",
        "outputId": "d5f7cbda-3807-4100-c08b-b76c24bf2cee"
      },
      "execution_count": 8,
      "outputs": [
        {
          "output_type": "stream",
          "name": "stdout",
          "text": [
            "{'Mean Absolute Error': 312.68222, 'Root Mean Squared Error': 460.29498, 'Mean Absolute Percentage Error': 0.113256365}\n",
            "CPU times: user 55.9 s, sys: 3.86 s, total: 59.8 s\n",
            "Wall time: 1min 4s\n"
          ]
        }
      ]
    },
    {
      "cell_type": "code",
      "source": [
        "modelo_futuro.summary()"
      ],
      "metadata": {
        "colab": {
          "base_uri": "https://localhost:8080/"
        },
        "id": "OHAm1NDODflL",
        "outputId": "5a3055e3-020c-42fe-e395-fae18b3e7da9"
      },
      "execution_count": 9,
      "outputs": [
        {
          "output_type": "stream",
          "name": "stdout",
          "text": [
            "Model: \"modelo_futuro\"\n",
            "_________________________________________________________________\n",
            " Layer (type)                Output Shape              Param #   \n",
            "=================================================================\n",
            " camada_oculta_32_0 (Dense)  (None, 32)                256       \n",
            "                                                                 \n",
            " camada_oculta_32_1 (Dense)  (None, 32)                1056      \n",
            "                                                                 \n",
            " camada_oculta_64_0 (Dense)  (None, 64)                2112      \n",
            "                                                                 \n",
            " camada_oculta_64_1 (Dense)  (None, 64)                4160      \n",
            "                                                                 \n",
            " camada_oculta_128_0 (Dense)  (None, 128)              8320      \n",
            "                                                                 \n",
            " camada_oculta_128_1 (Dense)  (None, 128)              16512     \n",
            "                                                                 \n",
            " camada_oculta_256_0 (Dense)  (None, 256)              33024     \n",
            "                                                                 \n",
            " camada_oculta_256_1 (Dense)  (None, 256)              65792     \n",
            "                                                                 \n",
            " camada_consolidacao (Dense)  (None, 32)               8224      \n",
            "                                                                 \n",
            " camada_saida (Dense)        (None, 1)                 33        \n",
            "                                                                 \n",
            "=================================================================\n",
            "Total params: 139,489\n",
            "Trainable params: 139,489\n",
            "Non-trainable params: 0\n",
            "_________________________________________________________________\n"
          ]
        }
      ]
    },
    {
      "cell_type": "markdown",
      "source": [
        "## Testes"
      ],
      "metadata": {
        "id": "-vSVQjX3m7i0"
      }
    },
    {
      "cell_type": "code",
      "source": [
        "# uf_cod  = 'MG'\n",
        "# uf_desc = df_populacao['Nome'][df_populacao['UF'] == uf_cod].values[0]\n",
        "\n",
        "# dados = df_notificacoes_por_uf[df_notificacoes_por_uf['UF'] == uf_cod]\n",
        "# local = f\" {uf_cod} - {uf_desc}\""
      ],
      "metadata": {
        "id": "mVjWfSaELEd6"
      },
      "execution_count": 10,
      "outputs": []
    },
    {
      "cell_type": "code",
      "source": [
        "lo = random.randint(0, 2)\n",
        "dados = []\n",
        "local = ''\n",
        "\n",
        "while(len(dados) <= 16):\n",
        "    if(lo == 0):\n",
        "        uf_cod, uf_desc = df_populacao[['UF', 'Nome']].sample().values[0]\n",
        "        dados = df_notificacoes_por_uf[df_notificacoes_por_uf['UF'] == uf_cod]\n",
        "        local = f\" {uf_cod} - {uf_desc}\"\n",
        "    elif(lo == 1):\n",
        "        mu_cod, mu_desc = df_municipios[['Codigo', 'Municipio']].sample().values[0]\n",
        "        dados = df_notificacoes_por_municipio[df_notificacoes_por_municipio['Municipio'] == mu_cod]\n",
        "\n",
        "        if len(dados) > 0:\n",
        "            local = f\"\\n{mu_cod} - {mu_desc} ({dados['UF'].values[0]})\"\n",
        "    else:\n",
        "        un_cod, un_desc = df_unidades[['Codigo', 'Unidade']].sample().values[0]\n",
        "        dados = df_notificacoes_por_unidade[df_notificacoes_por_unidade['Unidade'] == un_cod]\n",
        "\n",
        "        if len(dados) > 0:\n",
        "            mu_cod, mu_desc = df_municipios[['Codigo', 'Municipio']][df_municipios['Codigo'] == dados['Municipio'].values[0]].values[0]\n",
        "            local = f\"\\n{mu_cod} - {mu_desc} ({dados['UF'].values[0]})\\nUnidade {un_cod} - {un_desc}\""
      ],
      "metadata": {
        "id": "qt0WdjYAiBoE"
      },
      "execution_count": 11,
      "outputs": []
    },
    {
      "cell_type": "code",
      "source": [
        "X_train = dados[:-quantidade_intervalos]['Segunda-feira'].to_numpy()\n",
        "y_train = dados[:-quantidade_intervalos]['Quantidade'].to_numpy()\n",
        "\n",
        "X_test = dados[-quantidade_intervalos:]['Segunda-feira'].to_numpy()\n",
        "y_test = dados[-quantidade_intervalos:]['Quantidade'].to_numpy()\n",
        "\n",
        "y_pred = gerar_previsoes_futuro(modelo_futuro, y_train, quantidade_intervalos, janela_tamanho)\n",
        "\n",
        "# Inclui o último valor de treino no teste e na previsão, para o gráfico não parecer quebrado.\n",
        "X_test = np.insert(X_test, 0, X_train[-1])\n",
        "y_test = np.insert(y_test, 0, y_train[-1])\n",
        "y_pred = np.insert(y_pred, 0, y_train[-1])"
      ],
      "metadata": {
        "id": "NdlexxSNK6vV"
      },
      "execution_count": 12,
      "outputs": []
    },
    {
      "cell_type": "code",
      "source": [
        "grafico_series(X_treino=X_train, y_treino=y_train,\n",
        "               X_teste=X_test, y_teste=y_test,\n",
        "               X_previsao=X_test, y_previsao=y_pred,\n",
        "               inicio=-24, local=local)"
      ],
      "metadata": {
        "colab": {
          "base_uri": "https://localhost:8080/",
          "height": 474
        },
        "id": "sMkz0YZlKxTD",
        "outputId": "2e1c9629-fcfd-4d91-b358-73f227f9fbe5"
      },
      "execution_count": 13,
      "outputs": [
        {
          "output_type": "display_data",
          "data": {
            "text/plain": [
              "<Figure size 800x500 with 1 Axes>"
            ],
            "image/png": "[encoded data removed]"
          },
          "metadata": {}
        }
      ]
    },
    {
      "cell_type": "code",
      "source": [],
      "metadata": {
        "id": "onTWvcCkjrxJ"
      },
      "execution_count": 13,
      "outputs": []
    }
  ]
}