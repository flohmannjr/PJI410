{
  "nbformat": 4,
  "nbformat_minor": 0,
  "metadata": {
    "colab": {
      "provenance": [],
      "toc_visible": true,
      "authorship_tag": "ABX9TyMxKkBfhnMuGVPORhnl4TY7",
      "include_colab_link": true
    },
    "kernelspec": {
      "name": "python3",
      "display_name": "Python 3"
    },
    "language_info": {
      "name": "python"
    }
  },
  "cells": [
    {
      "cell_type": "markdown",
      "metadata": {
        "id": "view-in-github",
        "colab_type": "text"
      },
      "source": [
        "<a href=\"https://colab.research.google.com/github/flohmannjr/PJI410/blob/main/PJI410_modelo_futuro.ipynb\" target=\"_parent\"><img src=\"https://colab.research.google.com/assets/colab-badge.svg\" alt=\"Open In Colab\"/></a>"
      ]
    },
    {
      "cell_type": "markdown",
      "source": [
        "# PJI410 - Modelo futuro"
      ],
      "metadata": {
        "id": "wUIPYAF1iz_J"
      }
    },
    {
      "cell_type": "markdown",
      "metadata": {
        "id": "g2TgIvCl96Zy"
      },
      "source": [
        "# Importações"
      ]
    },
    {
      "cell_type": "code",
      "source": [
        "import numpy as np\n",
        "import pandas as pd\n",
        "\n",
        "import matplotlib.pyplot as plt\n",
        "import seaborn as sns\n",
        "\n",
        "import os, random\n",
        "\n",
        "import tensorflow as tf\n",
        "\n",
        "from tensorflow.data import AUTOTUNE, Dataset\n",
        "from tensorflow.keras import Sequential\n",
        "from tensorflow.keras.layers import Conv1D, Dense, Lambda\n",
        "from tensorflow.keras.optimizers import Adam"
      ],
      "metadata": {
        "id": "O3CSgTJQkFbq"
      },
      "execution_count": 1,
      "outputs": []
    },
    {
      "cell_type": "markdown",
      "metadata": {
        "id": "AYZyXKAo-GcL"
      },
      "source": [
        "# Configurações"
      ]
    },
    {
      "cell_type": "code",
      "execution_count": 2,
      "metadata": {
        "id": "S9v6zYN--JGK"
      },
      "outputs": [],
      "source": [
        "plt.rcParams['figure.figsize'] = [8, 5]\n",
        "plt.rcParams['figure.dpi'] = 100\n",
        "\n",
        "plt.style.use('seaborn-darkgrid')\n",
        "\n",
        "SEMENTE = 2001088 + 2001247 + 2003061 + 2008193 + 2008620 + 2008880\n",
        "\n",
        "PALETA = 'summer_r'\n",
        "CORES  = ['#007F66', '#339966', '#66B266', '#99CC66', '#CCE566']\n",
        "\n",
        "LINHA_ESPESSURA = 1\n",
        "\n",
        "LOTE_TAMANHO = 32\n",
        "\n",
        "CAMADAS = 4\n",
        "\n",
        "CAMADA_UNIDADES      = 64\n",
        "CAMADA_INICIALIZADOR = 'he_uniform'\n",
        "CAMADA_ATIVACAO      = 'relu'\n",
        "\n",
        "# SAIDA_UNIDADES = 1\n",
        "SAIDA_ATIVACAO = 'linear'\n",
        "\n",
        "PERDA       = 'mae'\n",
        "OTIMIZADOR  = Adam\n",
        "APRENDIZADO = 0.001\n",
        "METRICAS    = ['mae', 'mse']\n",
        "\n",
        "ITERACOES = 500"
      ]
    },
    {
      "cell_type": "markdown",
      "source": [
        "## Funções"
      ],
      "metadata": {
        "id": "DENypnHNmZbh"
      }
    },
    {
      "cell_type": "code",
      "source": [
        "!wget https://raw.githubusercontent.com/flohmannjr/PJI410/main/PJI410_funcoes_auxiliares.py"
      ],
      "metadata": {
        "colab": {
          "base_uri": "https://localhost:8080/"
        },
        "id": "XRvowR-Kmaej",
        "outputId": "ed829f4f-db75-487e-86fa-737c7f4afdcc"
      },
      "execution_count": 3,
      "outputs": [
        {
          "output_type": "stream",
          "name": "stdout",
          "text": [
            "--2023-03-09 14:52:47--  https://raw.githubusercontent.com/flohmannjr/PJI410/main/PJI410_funcoes_auxiliares.py\n",
            "Resolving raw.githubusercontent.com (raw.githubusercontent.com)... 185.199.108.133, 185.199.111.133, 185.199.109.133, ...\n",
            "Connecting to raw.githubusercontent.com (raw.githubusercontent.com)|185.199.108.133|:443... connected.\n",
            "HTTP request sent, awaiting response... 200 OK\n",
            "Length: 7189 (7.0K) [text/plain]\n",
            "Saving to: ‘PJI410_funcoes_auxiliares.py’\n",
            "\n",
            "\r          PJI410_fu   0%[                    ]       0  --.-KB/s               \rPJI410_funcoes_auxi 100%[===================>]   7.02K  --.-KB/s    in 0s      \n",
            "\n",
            "2023-03-09 14:52:48 (55.6 MB/s) - ‘PJI410_funcoes_auxiliares.py’ saved [7189/7189]\n",
            "\n"
          ]
        }
      ]
    },
    {
      "cell_type": "code",
      "source": [
        "from PJI410_funcoes_auxiliares import criar_janelas, gerar_previsoes_futuro, grafico_series, set_global_determinism"
      ],
      "metadata": {
        "id": "juJp84VuqdKJ"
      },
      "execution_count": 4,
      "outputs": []
    },
    {
      "cell_type": "markdown",
      "metadata": {
        "id": "kXYglCsFkSaE"
      },
      "source": [
        "# Dados"
      ]
    },
    {
      "cell_type": "code",
      "execution_count": 5,
      "metadata": {
        "id": "lHqo9nUOknm4"
      },
      "outputs": [],
      "source": [
        "df_populacao  = pd.read_csv('https://raw.githubusercontent.com/flohmannjr/PJI410/main/dados/PJI410_populacao.csv')\n",
        "df_municipios = pd.read_csv('https://raw.githubusercontent.com/flohmannjr/PJI410/main/dados/PJI410_municipios.csv')\n",
        "df_unidades   = pd.read_csv('https://raw.githubusercontent.com/flohmannjr/PJI410/main/dados/PJI410_unidades.csv')\n",
        "\n",
        "df_notificacoes_por_unidade = pd.read_csv('https://raw.githubusercontent.com/flohmannjr/PJI410/main/dados/PJI410_notificacoes_por_unidade.zip', parse_dates=['Segunda-feira'])\n",
        "df_notificacoes_por_unidade = df_notificacoes_por_unidade[['UF', 'Municipio', 'Unidade', 'Segunda-feira', 'Quantidade']]\n",
        "df_notificacoes_por_unidade = df_notificacoes_por_unidade.sort_values(by=['UF', 'Municipio', 'Unidade', 'Segunda-feira']).reset_index(drop=True)\n",
        "\n",
        "df_notificacoes_por_municipio = df_notificacoes_por_unidade[['UF', 'Municipio', 'Segunda-feira', 'Quantidade']].groupby(by=['UF', 'Municipio', 'Segunda-feira']).sum()\n",
        "df_notificacoes_por_municipio = df_notificacoes_por_municipio.sort_index().reset_index()\n",
        "\n",
        "df_notificacoes_por_uf = df_notificacoes_por_unidade[['UF', 'Segunda-feira', 'Quantidade']].groupby(by=['UF', 'Segunda-feira']).sum()\n",
        "df_notificacoes_por_uf = df_notificacoes_por_uf.sort_index().reset_index()\n",
        "\n",
        "df_notificacoes_por_semana = df_notificacoes_por_unidade[['Segunda-feira', 'Quantidade']].groupby(by=['Segunda-feira']).sum()\n",
        "df_notificacoes_por_semana = df_notificacoes_por_semana.sort_index().reset_index()"
      ]
    },
    {
      "cell_type": "code",
      "execution_count": 6,
      "metadata": {
        "id": "W2WcaVtJLCLa"
      },
      "outputs": [],
      "source": [
        "dados = df_notificacoes_por_semana\n",
        "q_treino = int(len(dados) * 0.8)\n",
        "\n",
        "quantidades = dados['Quantidade'].to_numpy().astype('float32')"
      ]
    },
    {
      "cell_type": "code",
      "execution_count": 7,
      "metadata": {
        "id": "A2Mh1F34Y3Fk"
      },
      "outputs": [],
      "source": [
        "X_train = dados[:q_treino]['Segunda-feira'].to_numpy()\n",
        "y_train = dados[:q_treino]['Quantidade'].to_numpy()\n",
        "\n",
        "X_test = dados[q_treino:]['Segunda-feira'].to_numpy()\n",
        "y_test = dados[q_treino:]['Quantidade'].to_numpy()"
      ]
    },
    {
      "cell_type": "markdown",
      "source": [
        "# Modelo"
      ],
      "metadata": {
        "id": "2gh9zh1sQ_y0"
      }
    },
    {
      "cell_type": "code",
      "source": [
        "janela_tamanho = 7\n",
        "horizonte_tamanho = 1\n",
        "quantidade_intervalos = 8\n",
        "\n",
        "# quantidades = df_notificacoes_por_uf[['Segunda-feira', 'Quantidade']].groupby(by=['Segunda-feira']).mean()\n",
        "# quantidades = quantidades.sort_index().reset_index()['Quantidade'].to_numpy().astype('float32')\n",
        "\n",
        "janelas, horizontes = criar_janelas(quantidades, janela_tamanho, horizonte_tamanho)\n",
        "\n",
        "dataset_janelas    = Dataset.from_tensor_slices(janelas)\n",
        "dataset_horizontes = Dataset.from_tensor_slices(horizontes)\n",
        "\n",
        "dataset_completo = Dataset.zip((dataset_janelas, dataset_horizontes))\n",
        "dataset_completo = dataset_completo.batch(LOTE_TAMANHO).prefetch(AUTOTUNE)"
      ],
      "metadata": {
        "id": "ey3i2MQZYY_N"
      },
      "execution_count": 8,
      "outputs": []
    },
    {
      "cell_type": "code",
      "source": [
        "%%time\n",
        "\n",
        "set_global_determinism(seed=SEMENTE)\n",
        "\n",
        "modelo_nome = 'modelo_futuro'\n",
        "\n",
        "modelo_futuro = Sequential(name=modelo_nome)\n",
        "\n",
        "modelo_futuro.add(Lambda(lambda x: tf.expand_dims(x, axis=1), name='camada_lambda'))\n",
        "\n",
        "modelo_futuro.add(Conv1D(filters=CAMADA_UNIDADES,\n",
        "                         kernel_size=janela_tamanho,\n",
        "                         kernel_initializer=CAMADA_INICIALIZADOR,\n",
        "                         padding='causal',\n",
        "                         activation=CAMADA_ATIVACAO,\n",
        "                         name='camada_convulacional'))\n",
        "\n",
        "modelo_futuro.add(Dense(units=horizonte_tamanho, activation=SAIDA_ATIVACAO, name='camada_saida'))\n",
        "\n",
        "modelo_futuro.compile(loss=PERDA,\n",
        "                      optimizer=OTIMIZADOR(learning_rate=APRENDIZADO),\n",
        "                      metrics=METRICAS)\n",
        "\n",
        "modelo_futuro.fit(dataset_completo, epochs=ITERACOES, verbose=0)"
      ],
      "metadata": {
        "colab": {
          "base_uri": "https://localhost:8080/"
        },
        "id": "7mZFH9ksZl7N",
        "outputId": "b90693a0-3ee0-49dd-cfdf-ec773f0d6068"
      },
      "execution_count": 9,
      "outputs": [
        {
          "output_type": "stream",
          "name": "stdout",
          "text": [
            "CPU times: user 7.33 s, sys: 356 ms, total: 7.69 s\n",
            "Wall time: 18.2 s\n"
          ]
        },
        {
          "output_type": "execute_result",
          "data": {
            "text/plain": [
              "<keras.callbacks.History at 0x7f3dc39e68b0>"
            ]
          },
          "metadata": {},
          "execution_count": 9
        }
      ]
    },
    {
      "cell_type": "code",
      "source": [
        "# previsoes = gerar_previsoes_futuro(modelo_futuro, quantidades, quantidade_intervalos, janela_tamanho)\n",
        "\n",
        "# df_futuro = pd.DataFrame(pd.date_range(X_test.max(), periods=(quantidade_intervalos + 1), freq='W-MON', closed='right').to_numpy(), columns=['Segunda-feira'])\n",
        "# df_futuro['Quantidade'] = previsoes\n",
        "\n",
        "# display(df_futuro)\n",
        "\n",
        "# grafico_series(X_previsao=df_futuro['Segunda-feira'], y_previsao=df_futuro['Quantidade'])"
      ],
      "metadata": {
        "id": "NUi0XRGni9vJ"
      },
      "execution_count": 10,
      "outputs": []
    },
    {
      "cell_type": "markdown",
      "source": [
        "## Testes"
      ],
      "metadata": {
        "id": "-vSVQjX3m7i0"
      }
    },
    {
      "cell_type": "code",
      "source": [
        "# uf_cod  = 'MG'\n",
        "# uf_desc = df_populacao['Nome'][df_populacao['UF'] == uf_cod].values[0]\n",
        "\n",
        "# dados = df_notificacoes_por_uf[df_notificacoes_por_uf['UF'] == uf_cod]\n",
        "# local = f\"{uf_cod} - {uf_desc}\""
      ],
      "metadata": {
        "id": "mVjWfSaELEd6"
      },
      "execution_count": 11,
      "outputs": []
    },
    {
      "cell_type": "code",
      "source": [
        "lo = random.randint(0, 2)\n",
        "dados = []\n",
        "local = ''\n",
        "\n",
        "while(len(dados) <= 16):\n",
        "    if(lo == 0):\n",
        "        uf_cod, uf_desc = df_populacao[['UF', 'Nome']].sample().values[0]\n",
        "        dados = df_notificacoes_por_uf[df_notificacoes_por_uf['UF'] == uf_cod]\n",
        "        local = f\" {uf_cod} - {uf_desc}\"\n",
        "    elif(lo == 1):\n",
        "        mu_cod, mu_desc = df_municipios[['Codigo', 'Municipio']].sample().values[0]\n",
        "        dados = df_notificacoes_por_municipio[df_notificacoes_por_municipio['Municipio'] == mu_cod]\n",
        "\n",
        "        if len(dados) > 0:\n",
        "            local = f\"\\n{mu_cod} - {mu_desc} ({dados['UF'].values[0]})\"\n",
        "    else:\n",
        "        un_cod, un_desc = df_unidades[['Codigo', 'Unidade']].sample().values[0]\n",
        "        dados = df_notificacoes_por_unidade[df_notificacoes_por_unidade['Unidade'] == un_cod]\n",
        "\n",
        "        if len(dados) > 0:\n",
        "            mu_cod, mu_desc = df_municipios[['Codigo', 'Municipio']][df_municipios['Codigo'] == dados['Municipio'].values[0]].values[0]\n",
        "            local = f\"\\n{mu_cod} - {mu_desc} ({dados['UF'].values[0]})\\nUnidade {un_cod} - {un_desc}\""
      ],
      "metadata": {
        "id": "qt0WdjYAiBoE"
      },
      "execution_count": 44,
      "outputs": []
    },
    {
      "cell_type": "code",
      "source": [
        "X_train = dados[:-quantidade_intervalos]['Segunda-feira'].to_numpy()\n",
        "y_train = dados[:-quantidade_intervalos]['Quantidade'].to_numpy()\n",
        "\n",
        "X_test = dados[-quantidade_intervalos:]['Segunda-feira'].to_numpy()\n",
        "y_test = dados[-quantidade_intervalos:]['Quantidade'].to_numpy()\n",
        "\n",
        "y_pred = gerar_previsoes_futuro(modelo_futuro, y_train, quantidade_intervalos, janela_tamanho)\n",
        "\n",
        "# Inclui o último valor de treino no teste e na previsão, para o gráfico não parecer quebrado.\n",
        "X_test = np.insert(X_test, 0, X_train[-1])\n",
        "y_test = np.insert(y_test, 0, y_train[-1])\n",
        "y_pred = np.insert(y_pred, 0, y_train[-1])"
      ],
      "metadata": {
        "id": "NdlexxSNK6vV"
      },
      "execution_count": 45,
      "outputs": []
    },
    {
      "cell_type": "code",
      "source": [
        "# modelo_futuro, y_train, quantidade_intervalos, janela_tamanho, dados"
      ],
      "metadata": {
        "id": "3OeFgp4roQ6I"
      },
      "execution_count": 46,
      "outputs": []
    },
    {
      "cell_type": "code",
      "source": [
        "grafico_series(X_treino=X_train, y_treino=y_train,\n",
        "               X_teste=X_test, y_teste=y_test,\n",
        "               X_previsao=X_test, y_previsao=y_pred,\n",
        "               inicio=-24, local=local)"
      ],
      "metadata": {
        "colab": {
          "base_uri": "https://localhost:8080/",
          "height": 492
        },
        "id": "sMkz0YZlKxTD",
        "outputId": "30c79af3-a7e2-48a5-c214-2098bf18aada"
      },
      "execution_count": 47,
      "outputs": [
        {
          "output_type": "display_data",
          "data": {
            "text/plain": [
              "<Figure size 800x500 with 1 Axes>"
            ],
            "image/png": "[encoded data removed]"
          },
          "metadata": {}
        }
      ]
    },
    {
      "cell_type": "code",
      "source": [],
      "metadata": {
        "id": "onTWvcCkjrxJ"
      },
      "execution_count": 47,
      "outputs": []
    }
  ]
}