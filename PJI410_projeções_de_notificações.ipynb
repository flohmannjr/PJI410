{
  "nbformat": 4,
  "nbformat_minor": 0,
  "metadata": {
    "colab": {
      "provenance": [],
      "toc_visible": true,
      "authorship_tag": "ABX9TyMzign7LD3g+N6sNv8h0BYu",
      "include_colab_link": true
    },
    "kernelspec": {
      "name": "python3",
      "display_name": "Python 3"
    },
    "language_info": {
      "name": "python"
    },
    "accelerator": "GPU",
    "gpuClass": "standard"
  },
  "cells": [
    {
      "cell_type": "markdown",
      "metadata": {
        "id": "view-in-github",
        "colab_type": "text"
      },
      "source": [
        "<a href=\"https://colab.research.google.com/github/flohmannjr/PJI410/blob/main/PJI410_proje%C3%A7%C3%B5es_de_notifica%C3%A7%C3%B5es.ipynb\" target=\"_parent\"><img src=\"https://colab.research.google.com/assets/colab-badge.svg\" alt=\"Open In Colab\"/></a>"
      ]
    },
    {
      "cell_type": "markdown",
      "metadata": {
        "id": "QF600sHcucrO"
      },
      "source": [
        "# PJI410 - Projeções (time series) de notificações"
      ]
    },
    {
      "cell_type": "markdown",
      "metadata": {
        "id": "g2TgIvCl96Zy"
      },
      "source": [
        "# Importações"
      ]
    },
    {
      "cell_type": "code",
      "execution_count": null,
      "metadata": {
        "id": "BqxVW09d-Dx6"
      },
      "outputs": [],
      "source": [
        "import numpy as np\n",
        "import pandas as pd\n",
        "\n",
        "import matplotlib.pyplot as plt\n",
        "\n",
        "import os\n",
        "\n",
        "import tensorflow as tf\n",
        "\n",
        "from tensorflow.data import AUTOTUNE, Dataset\n",
        "from tensorflow.keras import Model, Sequential\n",
        "from tensorflow.keras.callbacks import EarlyStopping, ReduceLROnPlateau\n",
        "from tensorflow.keras.layers import Add, Bidirectional, Conv1D, Dense, Input, GRU, Lambda, Layer, LSTM, SimpleRNN, Subtract\n",
        "from tensorflow.keras.models import load_model\n",
        "from tensorflow.keras.optimizers import Adam\n",
        "\n",
        "from absl import logging as absl_logging"
      ]
    },
    {
      "cell_type": "markdown",
      "metadata": {
        "id": "AYZyXKAo-GcL"
      },
      "source": [
        "# Configurações"
      ]
    },
    {
      "cell_type": "code",
      "execution_count": null,
      "metadata": {
        "id": "S9v6zYN--JGK"
      },
      "outputs": [],
      "source": [
        "plt.rcParams['figure.figsize'] = [8, 5]\n",
        "plt.rcParams['figure.dpi'] = 100\n",
        "\n",
        "plt.style.use('seaborn-v0_8-darkgrid')\n",
        "\n",
        "SEMENTE = 2001088 + 2001247 + 2003061 + 2005493 + 2008193 + 2008620 + 2008880\n",
        "\n",
        "JANELA_TAMANHO_INICIAL = 5\n",
        "JANELA_TAMANHO_FINAL   = 10  # Não incluído\n",
        "HORIZONTE_TAMANHO      = 1\n",
        "\n",
        "CAMINHO_MARCOS = 'marcos'\n",
        "\n",
        "# Define o nível de log Abseil para 'ERROR'.\n",
        "# https://abseil.io/docs/python/guides/logging\n",
        "absl_logging.set_verbosity(absl_logging.ERROR)"
      ]
    },
    {
      "cell_type": "markdown",
      "metadata": {
        "id": "51wnx_wMyHKo"
      },
      "source": [
        "## Hiperparâmetros"
      ]
    },
    {
      "cell_type": "code",
      "execution_count": null,
      "metadata": {
        "id": "XGPi4hFSyI_-"
      },
      "outputs": [],
      "source": [
        "LOTE_TAMANHO = 32\n",
        "\n",
        "CAMADAS = 4\n",
        "\n",
        "CAMADA_UNIDADES      = 64\n",
        "CAMADA_INICIALIZADOR = 'he_uniform'\n",
        "CAMADA_ATIVACAO      = 'relu'\n",
        "\n",
        "PROFUNDO_POTENCIA_INICIAL = 5\n",
        "PROFUNDO_POTENCIA_FINAL   = 10  # Não incluída\n",
        "PROFUNDO_REPETICAO        = 2\n",
        "PROFUNDO_CONSOLIDACAO     = 32\n",
        "\n",
        "SAIDA_UNIDADES = 1\n",
        "SAIDA_ATIVACAO = 'linear'\n",
        "\n",
        "PERDA       = 'mae'\n",
        "OTIMIZADOR  = Adam\n",
        "APRENDIZADO = 0.001\n",
        "METRICAS    = ['mae', 'mse']\n",
        "\n",
        "ITERACOES = 1000"
      ]
    },
    {
      "cell_type": "markdown",
      "source": [
        "## Funções"
      ],
      "metadata": {
        "id": "DENypnHNmZbh"
      }
    },
    {
      "cell_type": "code",
      "source": [
        "!wget https://raw.githubusercontent.com/flohmannjr/PJI410/main/PJI410_funcoes_auxiliares.py"
      ],
      "metadata": {
        "id": "XRvowR-Kmaej"
      },
      "execution_count": null,
      "outputs": []
    },
    {
      "cell_type": "code",
      "source": [
        "from PJI410_funcoes_auxiliares import criar_janelas, criar_marco_modelo, grafico_series, metricas_modelo, separar_janelas_treino_teste, set_global_determinism"
      ],
      "metadata": {
        "id": "juJp84VuqdKJ"
      },
      "execution_count": null,
      "outputs": []
    },
    {
      "cell_type": "code",
      "source": [
        "def finalizar_modelo(modelo, modelo_nome, janelas_treino, horizontes_treino, janelas_teste, horizontes_teste):\n",
        "\n",
        "    modelo.compile(loss=PERDA,\n",
        "                   optimizer=OTIMIZADOR(learning_rate=APRENDIZADO),\n",
        "                   metrics=METRICAS)\n",
        "\n",
        "    modelo.fit(x=janelas_treino,\n",
        "               y=horizontes_treino,\n",
        "               epochs=ITERACOES,\n",
        "               batch_size=LOTE_TAMANHO,\n",
        "               validation_data=(janelas_teste, horizontes_teste),\n",
        "               callbacks=[ReduceLROnPlateau(monitor='val_loss', patience=100, verbose=0),\n",
        "                          criar_marco_modelo(modelo_nome, caminho=CAMINHO_MARCOS)],\n",
        "               verbose=0)\n",
        "\n",
        "    modelo    = load_model(os.path.join(CAMINHO_MARCOS, modelo_nome))\n",
        "    previsoes = modelo.predict(janelas_teste, verbose=0)\n",
        "    metricas  = metricas_modelo(horizontes_teste[:, -1], y_previsao=previsoes[:, -1])\n",
        "\n",
        "    return modelo, metricas"
      ],
      "metadata": {
        "id": "NDU8_OzQKpsr"
      },
      "execution_count": null,
      "outputs": []
    },
    {
      "cell_type": "markdown",
      "metadata": {
        "id": "kXYglCsFkSaE"
      },
      "source": [
        "# Dados"
      ]
    },
    {
      "cell_type": "code",
      "execution_count": null,
      "metadata": {
        "id": "lHqo9nUOknm4"
      },
      "outputs": [],
      "source": [
        "df_populacao  = pd.read_csv('https://raw.githubusercontent.com/flohmannjr/PJI410/main/dados/PJI410_populacao.csv')\n",
        "df_municipios = pd.read_csv('https://raw.githubusercontent.com/flohmannjr/PJI410/main/dados/PJI410_municipios.csv')\n",
        "df_unidades   = pd.read_csv('https://raw.githubusercontent.com/flohmannjr/PJI410/main/dados/PJI410_unidades.csv')\n",
        "\n",
        "df_notificacoes_por_unidade = pd.read_csv('https://raw.githubusercontent.com/flohmannjr/PJI410/main/dados/PJI410_notificacoes_por_unidade.zip', parse_dates=['Segunda-feira'])\n",
        "df_notificacoes_por_unidade = df_notificacoes_por_unidade[['UF', 'Municipio', 'Unidade', 'Segunda-feira', 'Quantidade']]\n",
        "df_notificacoes_por_unidade = df_notificacoes_por_unidade.sort_values(by=['UF', 'Municipio', 'Unidade', 'Segunda-feira']).reset_index(drop=True)\n",
        "\n",
        "df_notificacoes_por_municipio = df_notificacoes_por_unidade[['UF', 'Municipio', 'Segunda-feira', 'Quantidade']].groupby(by=['UF', 'Municipio', 'Segunda-feira']).sum()\n",
        "df_notificacoes_por_municipio = df_notificacoes_por_municipio.sort_index().reset_index()\n",
        "\n",
        "df_notificacoes_por_uf = df_notificacoes_por_unidade[['UF', 'Segunda-feira', 'Quantidade']].groupby(by=['UF', 'Segunda-feira']).sum()\n",
        "df_notificacoes_por_uf = df_notificacoes_por_uf.sort_index().reset_index()\n",
        "\n",
        "df_notificacoes_por_semana = df_notificacoes_por_unidade[['Segunda-feira', 'Quantidade']].groupby(by=['Segunda-feira']).sum()\n",
        "df_notificacoes_por_semana = df_notificacoes_por_semana.sort_index().reset_index()"
      ]
    },
    {
      "cell_type": "code",
      "execution_count": null,
      "metadata": {
        "id": "W2WcaVtJLCLa"
      },
      "outputs": [],
      "source": [
        "dados = df_notificacoes_por_semana\n",
        "q_treino = int(len(dados) * 0.8)\n",
        "\n",
        "quantidades = dados['Quantidade'].to_numpy().astype('float32')"
      ]
    },
    {
      "cell_type": "code",
      "execution_count": null,
      "metadata": {
        "id": "A2Mh1F34Y3Fk"
      },
      "outputs": [],
      "source": [
        "X_train = dados[:q_treino]['Segunda-feira'].to_numpy()\n",
        "y_train = dados[:q_treino]['Quantidade'].to_numpy()\n",
        "\n",
        "X_test = dados[q_treino:]['Segunda-feira'].to_numpy()\n",
        "y_test = dados[q_treino:]['Quantidade'].to_numpy()"
      ]
    },
    {
      "cell_type": "code",
      "execution_count": null,
      "metadata": {
        "id": "vBxQmpu2li4R"
      },
      "outputs": [],
      "source": [
        "len(quantidades), len(X_train), len(y_train), len(X_test), len(y_test)"
      ]
    },
    {
      "cell_type": "markdown",
      "metadata": {
        "id": "j_Xy_dxH9pDO"
      },
      "source": [
        "# Modelos"
      ]
    },
    {
      "cell_type": "code",
      "execution_count": null,
      "metadata": {
        "id": "OrWWf9_6bSzk"
      },
      "outputs": [],
      "source": [
        "modelos  = [None] * 50\n",
        "metricas = [None] * 50\n",
        "\n",
        "MODELO_NUMERO = 0"
      ]
    },
    {
      "cell_type": "markdown",
      "metadata": {
        "id": "GvFWzT_wLooJ"
      },
      "source": [
        "## Modelo Ingênuo"
      ]
    },
    {
      "cell_type": "markdown",
      "metadata": {
        "id": "zkiJIHZDsu9K"
      },
      "source": [
        "Naïve method: https://otexts.com/fpp3/simple-methods.html#na%C3%AFve-method\n",
        "\n",
        "Para previsões ingênuas, simplesmente definimos todas as previsões como o valor da observação anterior."
      ]
    },
    {
      "cell_type": "code",
      "execution_count": null,
      "metadata": {
        "id": "XWoAwdnd4HkV"
      },
      "outputs": [],
      "source": [
        "y_pred = y_test[:-1]"
      ]
    },
    {
      "cell_type": "code",
      "execution_count": null,
      "metadata": {
        "id": "J9C2MHAAu5vw"
      },
      "outputs": [],
      "source": [
        "grafico_series(X_teste=X_test[1:], y_teste=y_test[1:],\n",
        "               X_previsao=X_test[1:], y_previsao=y_pred)"
      ]
    },
    {
      "cell_type": "code",
      "execution_count": null,
      "metadata": {
        "id": "ukKPlS4Bvetj"
      },
      "outputs": [],
      "source": [
        "metricas[MODELO_NUMERO] = metricas_modelo(y_test[1:], y_pred)\n",
        "\n",
        "print(metricas[MODELO_NUMERO])\n",
        "\n",
        "MODELO_NUMERO += 1"
      ]
    },
    {
      "cell_type": "markdown",
      "metadata": {
        "id": "xBlUiuYyOBqN"
      },
      "source": [
        "## Modelos Densos"
      ]
    },
    {
      "cell_type": "code",
      "execution_count": null,
      "metadata": {
        "id": "wAhNFiPzNp43"
      },
      "outputs": [],
      "source": [
        "%%time\n",
        "\n",
        "set_global_determinism(seed=SEMENTE)\n",
        "\n",
        "for janela_tamanho in range(JANELA_TAMANHO_INICIAL, JANELA_TAMANHO_FINAL):\n",
        "\n",
        "    janelas, horizontes = criar_janelas(quantidades, janela_tamanho, HORIZONTE_TAMANHO)\n",
        "\n",
        "    janelas_treino, janelas_teste, horizontes_treino, horizontes_teste = separar_janelas_treino_teste(janelas, horizontes, tamanho_teste=0.2)\n",
        "\n",
        "    modelo_nome = f'modelo_{MODELO_NUMERO}_denso_{janela_tamanho}j_{HORIZONTE_TAMANHO}h'\n",
        "\n",
        "    modelos[MODELO_NUMERO] = Sequential(name=modelo_nome)\n",
        "\n",
        "    for c in range(CAMADAS):\n",
        "        modelos[MODELO_NUMERO].add(Dense(units=CAMADA_UNIDADES, kernel_initializer=CAMADA_INICIALIZADOR, activation=CAMADA_ATIVACAO, name=f'camada_oculta_{c}'))\n",
        "\n",
        "    modelos[MODELO_NUMERO].add(Dense(units=horizonte_tamanho, activation=SAIDA_ATIVACAO, name='camada_saida'))\n",
        "    \n",
        "    modelos[MODELO_NUMERO], metricas[MODELO_NUMERO] = finalizar_modelo(modelos[MODELO_NUMERO], modelo_nome, janelas_treino, horizontes_treino, janelas_teste, horizontes_teste)\n",
        "\n",
        "    print(modelo_nome)\n",
        "    print(metricas[MODELO_NUMERO])\n",
        "    print()\n",
        "\n",
        "    MODELO_NUMERO += 1"
      ]
    },
    {
      "cell_type": "code",
      "execution_count": null,
      "metadata": {
        "id": "N2O8Z_09Pl-9"
      },
      "outputs": [],
      "source": [
        "# grafico_series(X_teste=X_test[-len(janelas_teste):], y_teste=horizontes_teste[:, -1],\n",
        "#                X_previsao=X_test[-len(janelas_teste):], y_previsao=previsoes[:, -1])"
      ]
    },
    {
      "cell_type": "markdown",
      "metadata": {
        "id": "PEi1-XbzalYA"
      },
      "source": [
        "## Modelos Densos Profundos"
      ]
    },
    {
      "cell_type": "code",
      "execution_count": null,
      "metadata": {
        "id": "qqcQDK2aalYB"
      },
      "outputs": [],
      "source": [
        "%%time\n",
        "\n",
        "set_global_determinism(seed=SEMENTE)\n",
        "\n",
        "for janela_tamanho in range(JANELA_TAMANHO_INICIAL, JANELA_TAMANHO_FINAL):\n",
        "\n",
        "    janelas, horizontes = criar_janelas(quantidades, janela_tamanho, HORIZONTE_TAMANHO)\n",
        "\n",
        "    janelas_treino, janelas_teste, horizontes_treino, horizontes_teste = separar_janelas_treino_teste(janelas, horizontes, tamanho_teste=0.2)\n",
        "\n",
        "    modelo_nome = f'modelo_{MODELO_NUMERO}_denso_profundo_{janela_tamanho}j_{HORIZONTE_TAMANHO}h'\n",
        "\n",
        "    modelos[MODELO_NUMERO] = Sequential(name=modelo_nome)\n",
        "\n",
        "    for potencia in range(PROFUNDO_POTENCIA_INICIAL, PROFUNDO_POTENCIA_FINAL):\n",
        "        unidades = 2 ** potencia\n",
        "        for r in range(PROFUNDO_REPETICAO):\n",
        "            modelos[MODELO_NUMERO].add(Dense(units=unidades, kernel_initializer=CAMADA_INICIALIZADOR, activation=CAMADA_ATIVACAO, name=f'camada_oculta_{unidades}_{r}'))\n",
        "\n",
        "    modelos[MODELO_NUMERO].add(Dense(units=PROFUNDO_CONSOLIDACAO, activation=CAMADA_ATIVACAO, name='camada_consolidacao'))\n",
        "    modelos[MODELO_NUMERO].add(Dense(units=horizonte_tamanho, activation=SAIDA_ATIVACAO, name='camada_saida'))\n",
        "    \n",
        "    modelos[MODELO_NUMERO], metricas[MODELO_NUMERO] = finalizar_modelo(modelos[MODELO_NUMERO], modelo_nome, janelas_treino, horizontes_treino, janelas_teste, horizontes_teste)\n",
        "\n",
        "    print(modelo_nome)\n",
        "    print(metricas[MODELO_NUMERO])\n",
        "    print()\n",
        "\n",
        "    MODELO_NUMERO += 1"
      ]
    },
    {
      "cell_type": "code",
      "execution_count": null,
      "metadata": {
        "id": "Vx3oa29oalYC"
      },
      "outputs": [],
      "source": [
        "# grafico_series(X_teste=X_test[-len(janelas_teste):], y_teste=horizontes_teste[:, -1],\n",
        "#                X_previsao=X_test[-len(janelas_teste):], y_previsao=previsoes[:, -1])"
      ]
    },
    {
      "cell_type": "markdown",
      "metadata": {
        "id": "G5nyHKPZD_iY"
      },
      "source": [
        "## Modelos Convulacionais"
      ]
    },
    {
      "cell_type": "code",
      "execution_count": null,
      "metadata": {
        "id": "NxodBLBzGEb6"
      },
      "outputs": [],
      "source": [
        "%%time\n",
        "\n",
        "set_global_determinism(seed=SEMENTE)\n",
        "\n",
        "for janela_tamanho in range(JANELA_TAMANHO_INICIAL, JANELA_TAMANHO_FINAL):\n",
        "\n",
        "    janelas, horizontes = criar_janelas(quantidades, janela_tamanho, HORIZONTE_TAMANHO)\n",
        "\n",
        "    janelas_treino, janelas_teste, horizontes_treino, horizontes_teste = separar_janelas_treino_teste(janelas, horizontes, tamanho_teste=0.2)\n",
        "\n",
        "    modelo_nome = f'modelo_{MODELO_NUMERO}_convulacional_{janela_tamanho}j_{HORIZONTE_TAMANHO}h'\n",
        "\n",
        "    modelos[MODELO_NUMERO] = Sequential(name=modelo_nome)\n",
        "\n",
        "    modelos[MODELO_NUMERO].add(Lambda(lambda x: tf.expand_dims(x, axis=1), name='camada_lambda'))  # Adiciona uma dimensão aos dados.\n",
        "\n",
        "    modelos[MODELO_NUMERO].add(Conv1D(filters=CAMADA_UNIDADES,\n",
        "                                      kernel_size=janela_tamanho,\n",
        "                                      kernel_initializer=CAMADA_INICIALIZADOR,\n",
        "                                      padding='causal',\n",
        "                                      activation=CAMADA_ATIVACAO,\n",
        "                                      name='camada_convulacional'))\n",
        "\n",
        "    modelos[MODELO_NUMERO].add(Dense(units=horizonte_tamanho, activation=SAIDA_ATIVACAO, name='camada_saida'))\n",
        "    \n",
        "    modelos[MODELO_NUMERO], metricas[MODELO_NUMERO] = finalizar_modelo(modelos[MODELO_NUMERO], modelo_nome, janelas_treino, horizontes_treino, janelas_teste, horizontes_teste)\n",
        "\n",
        "    print(modelo_nome)\n",
        "    print(metricas[MODELO_NUMERO])\n",
        "    print()\n",
        "\n",
        "    MODELO_NUMERO += 1"
      ]
    },
    {
      "cell_type": "code",
      "execution_count": null,
      "metadata": {
        "id": "265LZO9uoEza"
      },
      "outputs": [],
      "source": [
        "# grafico_series(X_teste=X_test[-len(janelas_teste):], y_teste=tf.squeeze(horizontes_teste),\n",
        "#                X_previsao=X_test[-len(janelas_teste):], y_previsao=tf.squeeze(previsoes))"
      ]
    },
    {
      "cell_type": "markdown",
      "metadata": {
        "id": "xM9geLTaH2dc"
      },
      "source": [
        "## Modelos Recorrentes"
      ]
    },
    {
      "cell_type": "code",
      "execution_count": null,
      "metadata": {
        "id": "9quVNwDBH2di"
      },
      "outputs": [],
      "source": [
        "%%time\n",
        "\n",
        "set_global_determinism(seed=SEMENTE)\n",
        "\n",
        "recorrentes = {'rnn_simples': 'SimpleRNN', 'lstm': 'LSTM', 'gru': 'GRU'}\n",
        "\n",
        "for nome, funcao in recorrentes.items():\n",
        "\n",
        "    for janela_tamanho in range(JANELA_TAMANHO_INICIAL, JANELA_TAMANHO_FINAL):\n",
        "\n",
        "        janelas, horizontes = criar_janelas(quantidades, janela_tamanho, HORIZONTE_TAMANHO)\n",
        "\n",
        "        janelas_treino, janelas_teste, horizontes_treino, horizontes_teste = separar_janelas_treino_teste(janelas, horizontes, tamanho_teste=0.2)\n",
        "\n",
        "        modelo_nome = f'modelo_{MODELO_NUMERO}_{nome}_{janela_tamanho}j_{HORIZONTE_TAMANHO}h'\n",
        "\n",
        "        modelos[MODELO_NUMERO] = Sequential(name=modelo_nome)\n",
        "\n",
        "        modelos[MODELO_NUMERO].add(Lambda(lambda x: tf.expand_dims(x, axis=1), name='camada_lambda'))\n",
        "\n",
        "        modelos[MODELO_NUMERO].add(funcao(units=CAMADA_UNIDADES,\n",
        "                                          kernel_initializer=CAMADA_INICIALIZADOR,\n",
        "                                          activation=CAMADA_ATIVACAO,  # Ativação 'relu' no lugar de 'tanh' por motivo de performance.\n",
        "                                          name=f'camada_{nome}'))\n",
        "\n",
        "        modelos[MODELO_NUMERO].add(Dense(units=CAMADA_UNIDADES, activation=CAMADA_ATIVACAO, name='camada_consolidacao'))\n",
        "        modelos[MODELO_NUMERO].add(Dense(units=horizonte_tamanho, activation=SAIDA_ATIVACAO, name='camada_saida'))\n",
        "        \n",
        "        modelos[MODELO_NUMERO], metricas[MODELO_NUMERO] = finalizar_modelo(modelos[MODELO_NUMERO], modelo_nome, janelas_treino, horizontes_treino, janelas_teste, horizontes_teste)\n",
        "\n",
        "        print(modelo_nome)\n",
        "        print(metricas[MODELO_NUMERO])\n",
        "        print()\n",
        "\n",
        "        MODELO_NUMERO += 1"
      ]
    },
    {
      "cell_type": "code",
      "execution_count": null,
      "metadata": {
        "id": "-uJJhvWUH2dj"
      },
      "outputs": [],
      "source": [
        "# grafico_series(X_teste=X_test[-len(janelas_teste):], y_teste=tf.squeeze(horizontes_teste),\n",
        "#                X_previsao=X_test[-len(janelas_teste):], y_previsao=tf.squeeze(previsoes))"
      ]
    },
    {
      "cell_type": "markdown",
      "metadata": {
        "id": "HGhiZ9qYG0QA"
      },
      "source": [
        "## Modelos N-BEATS"
      ]
    },
    {
      "cell_type": "markdown",
      "metadata": {
        "id": "_T4l_rL62_V1"
      },
      "source": [
        "N-BEATS: Neural basis expansion analysis for interpretable time series forecasting https://arxiv.org/abs/1905.10437\n",
        "\n",
        "![nbeats_architecture.png](data:image/png;base64,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)\n",
        "\n",
        "(Do artigo) **Figure 1: Proposed architecture**. The basic building block is a multi-layer Fully Connected (FC) network with ReLU nonlinearities. It predicts basis expansion coefficients both forward, $\\theta^f$ (forecast), and backward, $\\theta^b$ (backcast). Blocks are organized into stacks using doubly residual stacking principle. A stack may have layers with shared $g^b$ and $g^f$. Forecasts are aggregated in hierarchical fashion. This enables building a very deep neural network with interpretable outputs.\n"
      ]
    },
    {
      "cell_type": "markdown",
      "metadata": {
        "id": "e02DZjDKj63J"
      },
      "source": [
        "Making new Layers and Models via subclassing https://www.tensorflow.org/guide/keras/custom_layers_and_models\n",
        "\n",
        "De acordo com o [código fonte](https://github.com/tensorflow/tensorflow/blob/fcc4b966f1265f466e82617020af93670141b009/tensorflow/python/keras/engine/base_layer.py#L308-L316) (em 08.03.2023), os kwargs permitidos pela classe `Layer` são: `input_dim`, `input_shape`, `batch_input_shape`, `batch_size`, `weights`, `activity_regularizer` e `autocast`. Além destes, `Layer` possui os argumentos `trainable`, `name`, `dtype` e `dynamic`."
      ]
    },
    {
      "cell_type": "code",
      "execution_count": null,
      "metadata": {
        "id": "rEVCPe1Ciwdt"
      },
      "outputs": [],
      "source": [
        "# A seção 3 do artigo descreve a arquitetura do modelo.\n",
        "# Para este modelo foi utilizada a arquitetura genérica, descrita na seção 3.3, que não utiliza conhecimentos específicos de séries temporais.\n",
        "\n",
        "class NBeatsBlock(Layer):\n",
        "\n",
        "    def __init__(self,\n",
        "                 input_size: int,\n",
        "                 horizon: int,\n",
        "                 n_neurons: int,\n",
        "                 **kwargs):\n",
        "\n",
        "        super().__init__(**kwargs)\n",
        "\n",
        "        self.input_size = input_size  # Tamanho da entrada.\n",
        "        self.horizon    = horizon     # Tamanho da saída.\n",
        "        self.n_neurons  = n_neurons   # Quantidade de neurônios.\n",
        "\n",
        "        self.theta_size = input_size + horizon  # Tamanho do coeficiente de expansão.\n",
        "\n",
        "        self.hidden      = [Dense(units=n_neurons, activation='relu') for _ in range(4)]  # Camadas densas (FC) ReLU (x4).\n",
        "        self.theta_layer = Dense(units=self.theta_size, activation='linear')              # Camada theta linear, para backcast e forecast.\n",
        "\n",
        "    def call(self, inputs):\n",
        "\n",
        "        x = inputs\n",
        "\n",
        "        for layer in self.hidden:\n",
        "            x = layer(x)\n",
        "\n",
        "        theta = self.theta_layer(x)\n",
        "\n",
        "        backcast = theta[:, :self.input_size]\n",
        "        forecast = theta[:, -self.horizon:]\n",
        "\n",
        "        return backcast, forecast"
      ]
    },
    {
      "cell_type": "code",
      "execution_count": null,
      "metadata": {
        "id": "o6azyZfvXfhH"
      },
      "outputs": [],
      "source": [
        "# Hiperparâmetros (Tabela 18)\n",
        "\n",
        "NBEATS_ITERACOES = 5000\n",
        "NBEATS_NEURONIOS = 512\n",
        "NBEATS_PILHAS    = 30\n",
        "NBEATS_LOTE      = 1024\n",
        "NBEATS_ENTRADA   = janela_tamanho * HORIZONTE_TAMANHO\n",
        "NBEATS_HORIZONTE = HORIZONTE_TAMANHO"
      ]
    },
    {
      "cell_type": "code",
      "execution_count": null,
      "metadata": {
        "id": "B0fJap9kG0QB"
      },
      "outputs": [],
      "source": [
        "%%time\n",
        "\n",
        "set_global_determinism(seed=SEMENTE)\n",
        "\n",
        "for janela_tamanho in range(JANELA_TAMANHO_INICIAL, JANELA_TAMANHO_FINAL):\n",
        "\n",
        "    janelas, horizontes = criar_janelas(quantidades, janela_tamanho, HORIZONTE_TAMANHO)\n",
        "\n",
        "    janelas_treino, janelas_teste, horizontes_treino, horizontes_teste = separar_janelas_treino_teste(janelas, horizontes, tamanho_teste=0.2)\n",
        "\n",
        "    dataset_janelas_treino    = Dataset.from_tensor_slices(janelas_treino)\n",
        "    dataset_janelas_teste     = Dataset.from_tensor_slices(janelas_teste)\n",
        "    dataset_horizontes_treino = Dataset.from_tensor_slices(horizontes_treino)\n",
        "    dataset_horizontes_teste  = Dataset.from_tensor_slices(horizontes_teste)\n",
        "\n",
        "    dataset_treino = Dataset.zip((dataset_janelas_treino, dataset_horizontes_treino))\n",
        "    dataset_teste  = Dataset.zip((dataset_janelas_teste, dataset_horizontes_teste))\n",
        "\n",
        "    dataset_treino = dataset_treino.batch(NBEATS_LOTE).prefetch(AUTOTUNE)\n",
        "    dataset_teste  = dataset_teste.batch(NBEATS_LOTE).prefetch(AUTOTUNE)\n",
        "\n",
        "    modelo_nome = f'modelo_{MODELO_NUMERO}_nbeats_{janela_tamanho}j_{HORIZONTE_TAMANHO}h'\n",
        "\n",
        "    entradas = Input(shape=(NBEATS_ENTRADA), name='camada_entrada')\n",
        "\n",
        "    residuo, previsao = NBeatsBlock(input_size=NBEATS_ENTRADA,\n",
        "                                    horizon=NBEATS_HORIZONTE,\n",
        "                                    n_neurons=NBEATS_NEURONIOS,\n",
        "                                    name='bloco_0')(entradas)\n",
        "\n",
        "    for p in range(1, NBEATS_PILHAS):\n",
        "\n",
        "        residuo_pilha, previsao_pilha = NBeatsBlock(input_size=NBEATS_ENTRADA,\n",
        "                                                    horizon=NBEATS_HORIZONTE,\n",
        "                                                    n_neurons=NBEATS_NEURONIOS,\n",
        "                                                    name=f'bloco_{p}')(residuo)\n",
        "\n",
        "        residuo  = Subtract(name=f\"subtracao_{p}\")([residuo, residuo_pilha])\n",
        "        previsao = Add(name=f\"adicao_{p}\")([previsao, previsao_pilha])\n",
        "\n",
        "    modelos[MODELO_NUMERO] = Model(inputs=entradas, outputs=previsao, name=modelo_nome)\n",
        "    \n",
        "    modelos[MODELO_NUMERO].compile(loss=PERDA,\n",
        "                                   optimizer=OTIMIZADOR(learning_rate=APRENDIZADO),\n",
        "                                   metrics=METRICAS)\n",
        "\n",
        "    modelos[MODELO_NUMERO].fit(dataset_treino,\n",
        "                               epochs=NBEATS_ITERACOES,\n",
        "                               validation_data=dataset_teste,\n",
        "                               callbacks=[EarlyStopping(monitor='val_loss', patience=200, restore_best_weights=True),\n",
        "                                          ReduceLROnPlateau(monitor='val_loss', patience=100, verbose=0),\n",
        "                                          criar_marco_modelo(modelo_nome, caminho=CAMINHO_MARCOS)],\n",
        "                               verbose=0)\n",
        "\n",
        "    modelos[MODELO_NUMERO] = load_model(os.path.join(CAMINHO_MARCOS, modelo_nome))\n",
        "\n",
        "    previsoes = modelos[MODELO_NUMERO].predict(dataset_teste, verbose=0)\n",
        "\n",
        "    metricas[MODELO_NUMERO] = metricas_modelo(tf.squeeze(horizontes_teste), y_previsao=tf.squeeze(previsoes))\n",
        "\n",
        "    print(modelo_nome)\n",
        "    print(metricas[MODELO_NUMERO])\n",
        "    print()\n",
        "\n",
        "    MODELO_NUMERO += 1"
      ]
    },
    {
      "cell_type": "code",
      "execution_count": null,
      "metadata": {
        "id": "0YRtldjaG0QB"
      },
      "outputs": [],
      "source": [
        "# grafico_series(X_teste=X_test[-len(janelas_teste):], y_teste=tf.squeeze(horizontes_teste),\n",
        "#                X_previsao=X_test[-len(janelas_teste):], y_previsao=tf.squeeze(previsoes))"
      ]
    },
    {
      "cell_type": "markdown",
      "metadata": {
        "id": "WPqSJZ6tb3mw"
      },
      "source": [
        "## Comparação dos modelos"
      ]
    },
    {
      "cell_type": "code",
      "execution_count": null,
      "metadata": {
        "id": "gGpdJZvsb69d"
      },
      "outputs": [],
      "source": [
        "df_metricas = pd.DataFrame([m for m in metricas if m is not None])\n",
        "\n",
        "with pd.option_context('display.max_columns', None):\n",
        "    display(df_metricas.T)"
      ]
    },
    {
      "cell_type": "code",
      "execution_count": null,
      "metadata": {
        "id": "fQcZwQVVHGYW"
      },
      "outputs": [],
      "source": [
        "df_metricas['Mean Absolute Error'].sort_values()"
      ]
    },
    {
      "cell_type": "code",
      "source": [],
      "metadata": {
        "id": "0xlrh5oC9Qzq"
      },
      "execution_count": null,
      "outputs": []
    }
  ]
}