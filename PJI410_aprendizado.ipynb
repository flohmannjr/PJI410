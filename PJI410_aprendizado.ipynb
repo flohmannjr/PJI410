{
  "nbformat": 4,
  "nbformat_minor": 0,
  "metadata": {
    "colab": {
      "provenance": [],
      "toc_visible": true,
      "authorship_tag": "ABX9TyPdSVgJ3ZxjySn+bGV44aml",
      "include_colab_link": true
    },
    "kernelspec": {
      "name": "python3",
      "display_name": "Python 3"
    },
    "language_info": {
      "name": "python"
    },
    "gpuClass": "standard",
    "accelerator": "GPU"
  },
  "cells": [
    {
      "cell_type": "markdown",
      "metadata": {
        "id": "view-in-github",
        "colab_type": "text"
      },
      "source": [
        "<a href=\"https://colab.research.google.com/github/flohmannjr/PJI410/blob/main/PJI410_aprendizado.ipynb\" target=\"_parent\"><img src=\"https://colab.research.google.com/assets/colab-badge.svg\" alt=\"Open In Colab\"/></a>"
      ]
    },
    {
      "cell_type": "markdown",
      "source": [
        "# PJI410 - Aprendizado"
      ],
      "metadata": {
        "id": "kuB5gTNYB_IC"
      }
    },
    {
      "cell_type": "markdown",
      "source": [
        "# Importações"
      ],
      "metadata": {
        "id": "g2TgIvCl96Zy"
      }
    },
    {
      "cell_type": "code",
      "source": [
        "import numpy as np\n",
        "import pandas as pd\n",
        "\n",
        "import matplotlib.pyplot as plt\n",
        "import seaborn as sns\n",
        "\n",
        "from sklearn.metrics import classification_report, ConfusionMatrixDisplay\n",
        "from sklearn.model_selection import train_test_split\n",
        "\n",
        "from sklearn.ensemble import AdaBoostClassifier, GradientBoostingClassifier, RandomForestClassifier\n",
        "from sklearn.tree import DecisionTreeClassifier\n",
        "\n",
        "from xgboost import XGBClassifier\n",
        "\n",
        "import tensorflow as tf\n",
        "\n",
        "from tensorflow.data import AUTOTUNE, Dataset\n",
        "from tensorflow.keras import Input, Sequential\n",
        "from tensorflow.keras.layers import Dense\n",
        "from tensorflow.keras.optimizers import Adam\n",
        "\n",
        "# from sklearn.model_selection import GridSearchCV\n",
        "\n",
        "# from sklearn.utils import resample\n",
        "# from imblearn.over_sampling import ADASYN, BorderlineSMOTE, RandomOverSampler, SMOTE"
      ],
      "metadata": {
        "id": "BqxVW09d-Dx6"
      },
      "execution_count": null,
      "outputs": []
    },
    {
      "cell_type": "markdown",
      "source": [
        "# Configurações"
      ],
      "metadata": {
        "id": "AYZyXKAo-GcL"
      }
    },
    {
      "cell_type": "code",
      "source": [
        "plt.rcParams['figure.figsize'] = [8, 5]\n",
        "plt.rcParams['figure.dpi'] = 100\n",
        "\n",
        "plt.style.use('seaborn-darkgrid')\n",
        "\n",
        "SEMENTE = 2001088 + 2001247 + 2003061 + 2008193 + 2008620 + 2008880\n",
        "\n",
        "PALETA = 'summer_r'"
      ],
      "metadata": {
        "id": "S9v6zYN--JGK"
      },
      "execution_count": null,
      "outputs": []
    },
    {
      "cell_type": "markdown",
      "source": [
        "## Hiperparâmetros TensorFlow"
      ],
      "metadata": {
        "id": "Fl2F29EAbb_y"
      }
    },
    {
      "cell_type": "code",
      "source": [
        "LOTE_TAMANHO = 1024\n",
        "\n",
        "CAMADAS = 4\n",
        "\n",
        "CAMADA_UNIDADES      = 50\n",
        "CAMADA_INICIALIZADOR = 'he_uniform'\n",
        "CAMADA_ATIVACAO      = 'relu'\n",
        "\n",
        "SAIDA_UNIDADES = 1\n",
        "SAIDA_ATIVACAO = 'sigmoid'\n",
        "\n",
        "PERDA       = 'binary_crossentropy'\n",
        "OTIMIZADOR  = Adam\n",
        "APRENDIZADO = 0.001\n",
        "METRICAS    = ['accuracy']\n",
        "\n",
        "ITERACOES = 50"
      ],
      "metadata": {
        "id": "klCHEM-EbgNN"
      },
      "execution_count": null,
      "outputs": []
    },
    {
      "cell_type": "markdown",
      "source": [
        "## Funções"
      ],
      "metadata": {
        "id": "Wvjo0SihBjkn"
      }
    },
    {
      "cell_type": "code",
      "source": [
        "def avaliar_previsoes(alvos, previsoes):\n",
        "\n",
        "    print(classification_report(alvos, previsoes))\n",
        "\n",
        "    ConfusionMatrixDisplay.from_predictions(alvos, previsoes, values_format='d', cmap=PALETA)\n",
        "    plt.grid(False)\n",
        "\n",
        "    relatorio = classification_report(alvos, previsoes, output_dict=True)\n",
        "\n",
        "    return {'acuracia': relatorio['accuracy'],\n",
        "            'precisao': relatorio['weighted avg']['precision'],\n",
        "            'revocacao': relatorio['weighted avg']['recall'],\n",
        "            'pontuacao-f1': relatorio['weighted avg']['f1-score']}\n",
        "\n",
        "def obter_conjunto(dados_treino, dados_validacao, q_modelos=10):\n",
        "\n",
        "    conjunto = []\n",
        "\n",
        "    for m in range(q_modelos):\n",
        "\n",
        "        print(f'Modelo {m} de {q_modelos}.')\n",
        "\n",
        "        modelo = Sequential()\n",
        "\n",
        "        [modelo.add(Dense(units=CAMADA_UNIDADES, kernel_initializer=CAMADA_INICIALIZADOR, activation=CAMADA_ATIVACAO)) for _ in range(CAMADAS)]\n",
        "        modelo.add(Dense(units=SAIDA_UNIDADES, activation=SAIDA_ATIVACAO))\n",
        "\n",
        "        modelo.compile(loss=PERDA,\n",
        "                       optimizer=OTIMIZADOR(learning_rate=APRENDIZADO),\n",
        "                       metrics=METRICAS)\n",
        "\n",
        "        modelo.fit(dados_treino,\n",
        "                   epochs=ITERACOES,\n",
        "                   validation_data=dados_validacao,\n",
        "                   verbose=0)\n",
        "        \n",
        "        conjunto.append(modelo)\n",
        "\n",
        "    return conjunto\n",
        "\n",
        "def obter_previsoes(conjunto, dados_validacao):\n",
        "    \n",
        "    previsoes = []\n",
        "\n",
        "    for modelo in conjunto:\n",
        "        previsoes.append(modelo.predict(dados_validacao, verbose=0))\n",
        "    \n",
        "    return tf.constant(tf.squeeze(previsoes))"
      ],
      "metadata": {
        "id": "psppLSx2BlDr"
      },
      "execution_count": null,
      "outputs": []
    },
    {
      "cell_type": "markdown",
      "source": [
        "# Dados"
      ],
      "metadata": {
        "id": "ULNywAux-OT0"
      }
    },
    {
      "cell_type": "code",
      "source": [
        "df_sintomas = pd.read_csv('https://raw.githubusercontent.com/flohmannjr/PJI410/main/dados/PJI410_sintomas.zip')"
      ],
      "metadata": {
        "id": "uS2GPMxQfXBm"
      },
      "execution_count": null,
      "outputs": []
    },
    {
      "cell_type": "markdown",
      "source": [
        "# Aprendizado"
      ],
      "metadata": {
        "id": "PU_5swYIWSMH"
      }
    },
    {
      "cell_type": "markdown",
      "source": [
        "## Classificação sobre sintomas e fatores de risco, com EVOLUCAO como atributo alvo"
      ],
      "metadata": {
        "id": "S_VF5ZkVgCNV"
      }
    },
    {
      "cell_type": "code",
      "source": [
        "avaliacoes = [None] * 10"
      ],
      "metadata": {
        "id": "rVZFS0lKftJc"
      },
      "execution_count": null,
      "outputs": []
    },
    {
      "cell_type": "markdown",
      "source": [
        "### Separação dos dados de treino e teste"
      ],
      "metadata": {
        "id": "naiYdB1IeNfI"
      }
    },
    {
      "cell_type": "code",
      "source": [
        "X = df_sintomas.drop('EVOLUCAO', axis=1)\n",
        "y = df_sintomas['EVOLUCAO']\n",
        "\n",
        "X_train, X_test, y_train, y_test = train_test_split(X, y, test_size=0.1, random_state=SEMENTE)"
      ],
      "metadata": {
        "id": "MEHGZz0tfXBm"
      },
      "execution_count": null,
      "outputs": []
    },
    {
      "cell_type": "markdown",
      "source": [
        "### Reamostragem"
      ],
      "metadata": {
        "id": "r8xQw5OElfFQ"
      }
    },
    {
      "cell_type": "code",
      "source": [
        "# %%time\n",
        "\n",
        "# # resample\n",
        "# treino = pd.concat([X_train, y_train], axis=1)\n",
        "# obito  = treino[treino['EVOLUCAO'] == 0]\n",
        "# cura   = treino[treino['EVOLUCAO'] == 1]\n",
        "# obito  = resample(obito, replace=True, n_samples=len(cura), random_state=SEMENTE)\n",
        "# treino = pd.concat([obito, cura])\n",
        "# X_train, y_train = treino.drop('EVOLUCAO', axis=1), treino['EVOLUCAO']\n",
        "\n",
        "# # RandomOverSampler\n",
        "# X_train, y_train = RandomOverSampler(random_state=SEMENTE).fit_resample(X_train, y_train)\n",
        "\n",
        "# # SMOTE\n",
        "# X_train, y_train = SMOTE().fit_resample(X_train, y_train)\n",
        "\n",
        "# # ADASYN\n",
        "# X_train, y_train = ADASYN().fit_resample(X_train, y_train)\n",
        "\n",
        "# # BorderlineSMOTE\n",
        "# X_train, y_train = BorderlineSMOTE().fit_resample(X_train, y_train)"
      ],
      "metadata": {
        "id": "FQdEP2suq2pW"
      },
      "execution_count": null,
      "outputs": []
    },
    {
      "cell_type": "markdown",
      "source": [
        "### Modelo 0: SKLearn Decision Tree"
      ],
      "metadata": {
        "id": "WyX6R3LJGpeH"
      }
    },
    {
      "cell_type": "code",
      "source": [
        "%%time\n",
        "\n",
        "dtc = DecisionTreeClassifier(criterion='gini', splitter='random', max_features=None, random_state=SEMENTE)\n",
        "\n",
        "dtc.fit(X_train, y_train)\n",
        "\n",
        "y_pred = dtc.predict(X_test)\n",
        "\n",
        "# param_grid = {'param': np.linspace(99, 99, 99, dtype='int'),\n",
        "#               'param': ['value', 'value']}\n",
        "\n",
        "# grid = GridSearchCV(estimator=dtc,\n",
        "#                     param_grid=param_grid,\n",
        "#                     scoring='accuracy',\n",
        "#                     cv=10,\n",
        "#                     verbose=3)\n",
        "\n",
        "# grid.fit(X_train, y_train)\n",
        "\n",
        "# print(grid.best_params_)\n",
        "\n",
        "# y_pred = grid.predict(X_test)"
      ],
      "metadata": {
        "id": "qKXJApCAGpeM"
      },
      "execution_count": null,
      "outputs": []
    },
    {
      "cell_type": "code",
      "source": [
        "avaliacoes[0] = avaliar_previsoes(y_test, y_pred)"
      ],
      "metadata": {
        "id": "cAQiIwj1GpeN"
      },
      "execution_count": null,
      "outputs": []
    },
    {
      "cell_type": "markdown",
      "source": [
        "### Modelo 1: SKLearn Random Forest"
      ],
      "metadata": {
        "id": "kS7phTmQZ8Tz"
      }
    },
    {
      "cell_type": "code",
      "source": [
        "%%time\n",
        "\n",
        "rfc = RandomForestClassifier(n_estimators=50, criterion='gini', bootstrap=True, oob_score=True, warm_start=True, random_state=SEMENTE)\n",
        "\n",
        "rfc.fit(X_train, y_train)\n",
        "\n",
        "y_pred = rfc.predict(X_test)"
      ],
      "metadata": {
        "id": "xMoCmDnjuc8P"
      },
      "execution_count": null,
      "outputs": []
    },
    {
      "cell_type": "code",
      "source": [
        "avaliacoes[1] = avaliar_previsoes(y_test, y_pred)"
      ],
      "metadata": {
        "id": "a0LGhBW8uc8V"
      },
      "execution_count": null,
      "outputs": []
    },
    {
      "cell_type": "markdown",
      "source": [
        "### Modelo 2: SKLearn AdaBoost"
      ],
      "metadata": {
        "id": "M2LDToYjwRur"
      }
    },
    {
      "cell_type": "code",
      "source": [
        "%%time\n",
        "\n",
        "abc = AdaBoostClassifier(n_estimators=50, learning_rate=1.0, algorithm='SAMME.R', random_state=SEMENTE)\n",
        "\n",
        "abc.fit(X_train, y_train)\n",
        "\n",
        "y_pred = abc.predict(X_test)"
      ],
      "metadata": {
        "id": "_FEoQiuEwRur"
      },
      "execution_count": null,
      "outputs": []
    },
    {
      "cell_type": "code",
      "source": [
        "avaliacoes[2] = avaliar_previsoes(y_test, y_pred)"
      ],
      "metadata": {
        "id": "SqdtEDovwRur"
      },
      "execution_count": null,
      "outputs": []
    },
    {
      "cell_type": "markdown",
      "source": [
        "### Modelo 3: SKLearn Gradient Boosting"
      ],
      "metadata": {
        "id": "mV8BeXN8xyhh"
      }
    },
    {
      "cell_type": "code",
      "source": [
        "%%time\n",
        "\n",
        "gbc = GradientBoostingClassifier(loss='log_loss', n_estimators=50, learning_rate=1.0, criterion='friedman_mse', warm_start=True, max_depth=3, random_state=SEMENTE)\n",
        "\n",
        "gbc.fit(X_train, y_train)\n",
        "\n",
        "y_pred = gbc.predict(X_test)"
      ],
      "metadata": {
        "id": "QPFg0c5Nxyhi"
      },
      "execution_count": null,
      "outputs": []
    },
    {
      "cell_type": "code",
      "source": [
        "avaliacoes[3] = avaliar_previsoes(y_test, y_pred)"
      ],
      "metadata": {
        "id": "QzLmxKl0iG9J"
      },
      "execution_count": null,
      "outputs": []
    },
    {
      "cell_type": "markdown",
      "source": [
        "### Modelo 4: XGBoost"
      ],
      "metadata": {
        "id": "tm4WV6Bn8M88"
      }
    },
    {
      "cell_type": "code",
      "source": [
        "%%time\n",
        "\n",
        "xgb = XGBClassifier(n_estimators=50, grow_policy='depthwise', learning_rate=0.5, random_state=SEMENTE)\n",
        "\n",
        "xgb.fit(X_train, y_train)\n",
        "\n",
        "y_pred = xgb.predict(X_test)"
      ],
      "metadata": {
        "id": "TUX9XeDv8M88"
      },
      "execution_count": null,
      "outputs": []
    },
    {
      "cell_type": "code",
      "source": [
        "avaliacoes[4] = avaliar_previsoes(y_test, y_pred)"
      ],
      "metadata": {
        "id": "jivczmdD8M89"
      },
      "execution_count": null,
      "outputs": []
    },
    {
      "cell_type": "markdown",
      "source": [
        "### Datasets"
      ],
      "metadata": {
        "id": "cAEK_MqYGkT2"
      }
    },
    {
      "cell_type": "code",
      "source": [
        "dataset_X_train = Dataset.from_tensor_slices(X_train)\n",
        "dataset_X_test  = Dataset.from_tensor_slices(X_test)\n",
        "dataset_y_train = Dataset.from_tensor_slices(y_train)\n",
        "dataset_y_test  = Dataset.from_tensor_slices(y_test)\n",
        "\n",
        "dataset_train = Dataset.zip((dataset_X_train, dataset_y_train))\n",
        "dataset_test  = Dataset.zip((dataset_X_test, dataset_y_test))\n",
        "\n",
        "dataset_train = dataset_train.batch(LOTE_TAMANHO).prefetch(AUTOTUNE)\n",
        "dataset_test  = dataset_test.batch(LOTE_TAMANHO).prefetch(AUTOTUNE)"
      ],
      "metadata": {
        "id": "ALJycqa-GkT3"
      },
      "execution_count": null,
      "outputs": []
    },
    {
      "cell_type": "markdown",
      "source": [
        "### Modelo 5: TensorFlow Dense"
      ],
      "metadata": {
        "id": "DHKAa93myXoX"
      }
    },
    {
      "cell_type": "code",
      "source": [
        "%%time\n",
        "\n",
        "tf.random.set_seed(SEMENTE)\n",
        "\n",
        "tfd = Sequential()\n",
        "\n",
        "[tfd.add(Dense(units=CAMADA_UNIDADES, kernel_initializer=CAMADA_INICIALIZADOR, activation=CAMADA_ATIVACAO)) for _ in range(CAMADAS)]\n",
        "tfd.add(Dense(units=SAIDA_UNIDADES, activation=SAIDA_ATIVACAO))\n",
        "\n",
        "tfd.compile(loss=PERDA,\n",
        "            optimizer=OTIMIZADOR(learning_rate=APRENDIZADO),\n",
        "            metrics=METRICAS)\n",
        "\n",
        "tfd.fit(dataset_train,\n",
        "        epochs=ITERACOES,\n",
        "        validation_data=dataset_test,\n",
        "        verbose=0)\n",
        "\n",
        "y_pred = tf.round(tfd.predict(dataset_test, verbose=0))"
      ],
      "metadata": {
        "id": "S1ed2gWgyaEL"
      },
      "execution_count": null,
      "outputs": []
    },
    {
      "cell_type": "code",
      "source": [
        "avaliacoes[5] = avaliar_previsoes(y_test, y_pred)"
      ],
      "metadata": {
        "id": "XR3_UAUs6232"
      },
      "execution_count": null,
      "outputs": []
    },
    {
      "cell_type": "markdown",
      "source": [
        "### Modelo 6: TensorFlow Profound"
      ],
      "metadata": {
        "id": "hRFvl4CUQS2q"
      }
    },
    {
      "cell_type": "code",
      "source": [
        "%%time\n",
        "\n",
        "tf.random.set_seed(SEMENTE)\n",
        "\n",
        "tfp = Sequential()\n",
        "\n",
        "[tfp.add(Dense(units=CAMADA_UNIDADES, kernel_initializer=CAMADA_INICIALIZADOR, activation=CAMADA_ATIVACAO)) for _ in range(CAMADAS ** 3)]\n",
        "tfp.add(Dense(units=SAIDA_UNIDADES, activation=SAIDA_ATIVACAO))\n",
        "\n",
        "tfp.compile(loss=PERDA,\n",
        "            optimizer=OTIMIZADOR(learning_rate=APRENDIZADO),\n",
        "            metrics=METRICAS)\n",
        "\n",
        "tfp.fit(dataset_train,\n",
        "        epochs=ITERACOES,\n",
        "        validation_data=dataset_test,\n",
        "        verbose=0)\n",
        "\n",
        "y_pred = tf.round(tfp.predict(dataset_test, verbose=0))"
      ],
      "metadata": {
        "id": "aXDYdJCDQS2r"
      },
      "execution_count": null,
      "outputs": []
    },
    {
      "cell_type": "code",
      "source": [
        "avaliacoes[6] = avaliar_previsoes(y_test, y_pred)"
      ],
      "metadata": {
        "id": "1U6fq_RTXvDm"
      },
      "execution_count": null,
      "outputs": []
    },
    {
      "cell_type": "markdown",
      "source": [
        "### Modelo 7: TensorFlow Ensemble"
      ],
      "metadata": {
        "id": "-PcCzaArbqY2"
      }
    },
    {
      "cell_type": "code",
      "source": [
        "%%time\n",
        "\n",
        "conjunto = obter_conjunto(dados_treino=dataset_train, dados_validacao=dataset_test, q_modelos=5)"
      ],
      "metadata": {
        "id": "UpKEhLxhHch3"
      },
      "execution_count": null,
      "outputs": []
    },
    {
      "cell_type": "code",
      "source": [
        "previsoes = obter_previsoes(conjunto=conjunto, dados_validacao=dataset_test)\n",
        "\n",
        "y_pred = tf.round(tf.reduce_mean(previsoes, axis=0))"
      ],
      "metadata": {
        "id": "VQoN9NnkHk8z"
      },
      "execution_count": null,
      "outputs": []
    },
    {
      "cell_type": "code",
      "source": [
        "avaliacoes[7] = avaliar_previsoes(y_test, y_pred)"
      ],
      "metadata": {
        "id": "zeGsqmXLDHkW"
      },
      "execution_count": null,
      "outputs": []
    },
    {
      "cell_type": "markdown",
      "source": [
        "### Comparação de modelos"
      ],
      "metadata": {
        "id": "CJaHEyWb1HSj"
      }
    },
    {
      "cell_type": "code",
      "source": [
        "comparacao = pd.DataFrame([a for a in avaliacoes if a is not None])\n",
        "comparacao = comparacao.reset_index().melt(id_vars='index').rename(columns=str.title)"
      ],
      "metadata": {
        "id": "0PxQ0STCu1-K"
      },
      "execution_count": null,
      "outputs": []
    },
    {
      "cell_type": "code",
      "source": [
        "sns.barplot(data=comparacao, x='Index', y='Value', hue='Variable', palette=PALETA)\n",
        "\n",
        "plt.ylim(0, 1)\n",
        "\n",
        "plt.title('Medidas de avaliação dos modelos')\n",
        "plt.xlabel('Modelo')\n",
        "plt.ylabel('Valor')\n",
        "\n",
        "plt.legend(loc=(1.02, 0.77), frameon=True, facecolor='white');"
      ],
      "metadata": {
        "id": "_1hTtBITvUky"
      },
      "execution_count": null,
      "outputs": []
    },
    {
      "cell_type": "code",
      "source": [],
      "metadata": {
        "id": "p4_zTovLCIHv"
      },
      "execution_count": null,
      "outputs": []
    }
  ]
}