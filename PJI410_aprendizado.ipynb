{
  "nbformat": 4,
  "nbformat_minor": 0,
  "metadata": {
    "colab": {
      "provenance": [],
      "toc_visible": true,
      "authorship_tag": "ABX9TyMuO84CvjPEyPc3HPs25iTY",
      "include_colab_link": true
    },
    "kernelspec": {
      "name": "python3",
      "display_name": "Python 3"
    },
    "language_info": {
      "name": "python"
    },
    "accelerator": "GPU",
    "gpuClass": "standard"
  },
  "cells": [
    {
      "cell_type": "markdown",
      "metadata": {
        "id": "view-in-github",
        "colab_type": "text"
      },
      "source": [
        "<a href=\"https://colab.research.google.com/github/flohmannjr/PJI410/blob/main/PJI410_aprendizado.ipynb\" target=\"_parent\"><img src=\"https://colab.research.google.com/assets/colab-badge.svg\" alt=\"Open In Colab\"/></a>"
      ]
    },
    {
      "cell_type": "markdown",
      "source": [
        "# PJI410 - Aprendizado"
      ],
      "metadata": {
        "id": "kuB5gTNYB_IC"
      }
    },
    {
      "cell_type": "markdown",
      "source": [
        "# Importações"
      ],
      "metadata": {
        "id": "g2TgIvCl96Zy"
      }
    },
    {
      "cell_type": "code",
      "source": [
        "import pandas as pd\n",
        "\n",
        "import matplotlib.pyplot as plt\n",
        "\n",
        "from sklearn.metrics import classification_report, ConfusionMatrixDisplay\n",
        "from sklearn.model_selection import train_test_split\n",
        "# from sklearn.utils import resample\n",
        "\n",
        "# from sklearn.model_selection import GridSearchCV\n",
        "from sklearn.neighbors import KNeighborsClassifier\n",
        "from sklearn.tree import DecisionTreeClassifier\n",
        "\n",
        "import tensorflow as tf\n",
        "\n",
        "from tensorflow.data import AUTOTUNE, Dataset\n",
        "from tensorflow.keras import Input, Sequential\n",
        "from tensorflow.keras.layers import Dense\n",
        "from tensorflow.keras.optimizers import Adam"
      ],
      "metadata": {
        "id": "BqxVW09d-Dx6"
      },
      "execution_count": 1,
      "outputs": []
    },
    {
      "cell_type": "markdown",
      "source": [
        "# Configurações"
      ],
      "metadata": {
        "id": "AYZyXKAo-GcL"
      }
    },
    {
      "cell_type": "code",
      "source": [
        "plt.rcParams['figure.figsize'] = [8, 5]\n",
        "plt.rcParams['figure.dpi'] = 100\n",
        "\n",
        "plt.style.use('seaborn-darkgrid')\n",
        "\n",
        "SEMENTE  = 2001088 + 2001247 + 2003061 + 2008193 + 2008620 + 2008880\n",
        "\n",
        "PALETA = 'summer_r'"
      ],
      "metadata": {
        "id": "S9v6zYN--JGK"
      },
      "execution_count": 2,
      "outputs": []
    },
    {
      "cell_type": "markdown",
      "source": [
        "## Hiperparâmetros TensorFlow"
      ],
      "metadata": {
        "id": "Fl2F29EAbb_y"
      }
    },
    {
      "cell_type": "code",
      "source": [
        "LOTE_TAMANHO = 1024\n",
        "\n",
        "CAMADAS = 4\n",
        "\n",
        "CAMADA_UNIDADES      = 50\n",
        "CAMADA_INICIALIZADOR = 'he_uniform'\n",
        "CAMADA_ATIVACAO      = 'relu'\n",
        "\n",
        "SAIDA_UNIDADES = 1\n",
        "SAIDA_ATIVACAO = 'sigmoid'\n",
        "\n",
        "PERDA       = 'binary_crossentropy'\n",
        "OTIMIZADOR  = Adam\n",
        "APRENDIZADO = 0.001\n",
        "METRICAS    = ['accuracy']\n",
        "\n",
        "ITERACOES = 50"
      ],
      "metadata": {
        "id": "klCHEM-EbgNN"
      },
      "execution_count": 3,
      "outputs": []
    },
    {
      "cell_type": "markdown",
      "source": [
        "## Funções"
      ],
      "metadata": {
        "id": "Wvjo0SihBjkn"
      }
    },
    {
      "cell_type": "code",
      "source": [
        "def avaliar_previsoes(alvos, previsoes):\n",
        "\n",
        "    print(classification_report(alvos, previsoes))\n",
        "\n",
        "    ConfusionMatrixDisplay.from_predictions(alvos, previsoes, values_format='d', cmap=PALETA)\n",
        "    plt.grid(False)\n",
        "\n",
        "def obter_conjuntos(dados_treino, dados_validacao, q_modelos=10):\n",
        "\n",
        "    conjuntos = []\n",
        "\n",
        "    for m in range(q_modelos):\n",
        "\n",
        "        modelo = Sequential()\n",
        "\n",
        "        [modelo.add(Dense(units=CAMADA_UNIDADES, kernel_initializer=CAMADA_INICIALIZADOR, activation=CAMADA_ATIVACAO)) for _ in range(CAMADAS)]\n",
        "        modelo.add(Dense(units=SAIDA_UNIDADES, activation=SAIDA_ATIVACAO))\n",
        "\n",
        "        modelo.compile(loss=PERDA,\n",
        "                       optimizer=OTIMIZADOR(learning_rate=APRENDIZADO),\n",
        "                       metrics=METRICAS)\n",
        "\n",
        "        modelo.fit(dados_treino,\n",
        "                   epochs=ITERACOES,\n",
        "                   validation_data=dados_validacao,\n",
        "                   verbose=0)\n",
        "        \n",
        "        conjuntos.append(modelo)\n",
        "\n",
        "    return conjuntos\n",
        "\n",
        "def obter_previsoes(conjuntos, dados_validacao):\n",
        "    \n",
        "    previsoes = []\n",
        "\n",
        "    for modelo in conjuntos:\n",
        "        previsoes.append(modelo.predict(dados_validacao, verbose=0))\n",
        "    \n",
        "    return tf.constant(tf.squeeze(previsoes))"
      ],
      "metadata": {
        "id": "psppLSx2BlDr"
      },
      "execution_count": 4,
      "outputs": []
    },
    {
      "cell_type": "markdown",
      "source": [
        "# Dados"
      ],
      "metadata": {
        "id": "ULNywAux-OT0"
      }
    },
    {
      "cell_type": "code",
      "source": [
        "df_sintomas = pd.read_csv('https://raw.githubusercontent.com/flohmannjr/PJI410/main/dados/PJI410_sintomas.zip')"
      ],
      "metadata": {
        "id": "uS2GPMxQfXBm"
      },
      "execution_count": 5,
      "outputs": []
    },
    {
      "cell_type": "markdown",
      "source": [
        "# Aprendizado"
      ],
      "metadata": {
        "id": "PU_5swYIWSMH"
      }
    },
    {
      "cell_type": "markdown",
      "source": [
        "## Classificação sobre sintomas e fatores de risco, com EVOLUCAO como atributo alvo"
      ],
      "metadata": {
        "id": "S_VF5ZkVgCNV"
      }
    },
    {
      "cell_type": "markdown",
      "source": [
        "### Separação dos dados de treino e teste"
      ],
      "metadata": {
        "id": "naiYdB1IeNfI"
      }
    },
    {
      "cell_type": "code",
      "source": [
        "X = df_sintomas.drop('EVOLUCAO', axis=1)\n",
        "y = df_sintomas['EVOLUCAO']\n",
        "\n",
        "X_train, X_test, y_train, y_test = train_test_split(X, y, test_size=0.1, random_state=SEMENTE)"
      ],
      "metadata": {
        "id": "MEHGZz0tfXBm"
      },
      "execution_count": 6,
      "outputs": []
    },
    {
      "cell_type": "code",
      "source": [
        "# # Rabalancear dados de treino aumentando a amostragem da classe menor.\n",
        "\n",
        "# treino = pd.concat([X_train, y_train], axis=1)\n",
        "\n",
        "# obito = treino[treino['EVOLUCAO'] == 0]\n",
        "# cura  = treino[treino['EVOLUCAO'] == 1]\n",
        "\n",
        "# obito = resample(obito, replace=True, n_samples=len(cura), random_state=SEMENTE)\n",
        "\n",
        "# treino = pd.concat([obito, cura])\n",
        "\n",
        "# y_train = treino['EVOLUCAO']\n",
        "# X_train = treino.drop('EVOLUCAO', axis=1)"
      ],
      "metadata": {
        "id": "FQdEP2suq2pW"
      },
      "execution_count": 7,
      "outputs": []
    },
    {
      "cell_type": "markdown",
      "source": [
        "### Modelo 0: SKLearn KNN"
      ],
      "metadata": {
        "id": "WyX6R3LJGpeH"
      }
    },
    {
      "cell_type": "code",
      "source": [
        "%%time\n",
        "\n",
        "knc = KNeighborsClassifier(n_neighbors=100, weights='uniform', algorithm='auto')\n",
        "\n",
        "knc.fit(X_train, y_train)\n",
        "\n",
        "y_pred = knc.predict(X_test)\n",
        "\n",
        "# param_grid = {'n_neighbors': np.linspace(1, 100, 4, dtype='int'),\n",
        "#               'weights': ['uniform', 'distance']}\n",
        "\n",
        "# grid = GridSearchCV(estimator=knc,\n",
        "#                     param_grid=param_grid,\n",
        "#                     scoring='accuracy',\n",
        "#                     cv=10,\n",
        "#                     verbose=3)\n",
        "\n",
        "# grid.fit(X_train, y_train)\n",
        "\n",
        "# print(grid.best_params_)\n",
        "\n",
        "# y_pred = grid.predict(X_test)"
      ],
      "metadata": {
        "colab": {
          "base_uri": "https://localhost:8080/"
        },
        "outputId": "bdf8d24f-99dc-4e46-80c0-9f592524a5de",
        "id": "qKXJApCAGpeM"
      },
      "execution_count": 8,
      "outputs": [
        {
          "output_type": "stream",
          "name": "stdout",
          "text": [
            "CPU times: user 8min 7s, sys: 2min 8s, total: 10min 15s\n",
            "Wall time: 9min 2s\n"
          ]
        }
      ]
    },
    {
      "cell_type": "code",
      "source": [
        "avaliar_previsoes(y_test, y_pred)"
      ],
      "metadata": {
        "colab": {
          "base_uri": "https://localhost:8080/",
          "height": 608
        },
        "outputId": "713dbec1-08f9-4dd1-8ddb-06e067f98377",
        "id": "cAQiIwj1GpeN"
      },
      "execution_count": 9,
      "outputs": [
        {
          "output_type": "stream",
          "name": "stdout",
          "text": [
            "              precision    recall  f1-score   support\n",
            "\n",
            "           0       0.53      0.12      0.20     16796\n",
            "           1       0.70      0.95      0.81     36185\n",
            "\n",
            "    accuracy                           0.69     52981\n",
            "   macro avg       0.61      0.54      0.50     52981\n",
            "weighted avg       0.65      0.69      0.61     52981\n",
            "\n"
          ]
        },
        {
          "output_type": "display_data",
          "data": {
            "text/plain": [
              "<Figure size 800x500 with 2 Axes>"
            ],
            "image/png": "[encoded data removed]"
          },
          "metadata": {}
        }
      ]
    },
    {
      "cell_type": "markdown",
      "source": [
        "### Modelo 1: SKLearn Decision Tree"
      ],
      "metadata": {
        "id": "kS7phTmQZ8Tz"
      }
    },
    {
      "cell_type": "code",
      "source": [
        "%%time\n",
        "\n",
        "dtc = DecisionTreeClassifier(criterion='gini', splitter='random', max_features=None, random_state=SEMENTE)\n",
        "\n",
        "dtc.fit(X_train, y_train)\n",
        "\n",
        "y_pred = dtc.predict(X_test)"
      ],
      "metadata": {
        "id": "xMoCmDnjuc8P",
        "colab": {
          "base_uri": "https://localhost:8080/"
        },
        "outputId": "3b3b8b93-c0c7-4261-9671-bffb00a01517"
      },
      "execution_count": 10,
      "outputs": [
        {
          "output_type": "stream",
          "name": "stdout",
          "text": [
            "CPU times: user 1.87 s, sys: 22 ms, total: 1.89 s\n",
            "Wall time: 1.88 s\n"
          ]
        }
      ]
    },
    {
      "cell_type": "code",
      "source": [
        "avaliar_previsoes(y_test, y_pred)"
      ],
      "metadata": {
        "id": "a0LGhBW8uc8V",
        "colab": {
          "base_uri": "https://localhost:8080/",
          "height": 608
        },
        "outputId": "5abb42ad-0479-4cc3-fa8f-d8e5b68d6f81"
      },
      "execution_count": 11,
      "outputs": [
        {
          "output_type": "stream",
          "name": "stdout",
          "text": [
            "              precision    recall  f1-score   support\n",
            "\n",
            "           0       0.44      0.21      0.28     16796\n",
            "           1       0.70      0.87      0.78     36185\n",
            "\n",
            "    accuracy                           0.66     52981\n",
            "   macro avg       0.57      0.54      0.53     52981\n",
            "weighted avg       0.62      0.66      0.62     52981\n",
            "\n"
          ]
        },
        {
          "output_type": "display_data",
          "data": {
            "text/plain": [
              "<Figure size 800x500 with 2 Axes>"
            ],
            "image/png": "[encoded data removed]"
          },
          "metadata": {}
        }
      ]
    },
    {
      "cell_type": "markdown",
      "source": [
        "### Datasets"
      ],
      "metadata": {
        "id": "cAEK_MqYGkT2"
      }
    },
    {
      "cell_type": "code",
      "source": [
        "dataset_X_train = Dataset.from_tensor_slices(X_train)\n",
        "dataset_X_test  = Dataset.from_tensor_slices(X_test)\n",
        "dataset_y_train = Dataset.from_tensor_slices(y_train)\n",
        "dataset_y_test  = Dataset.from_tensor_slices(y_test)\n",
        "\n",
        "dataset_train = Dataset.zip((dataset_X_train, dataset_y_train))\n",
        "dataset_test  = Dataset.zip((dataset_X_test, dataset_y_test))\n",
        "\n",
        "dataset_train = dataset_train.batch(LOTE_TAMANHO).prefetch(AUTOTUNE)\n",
        "dataset_test  = dataset_test.batch(LOTE_TAMANHO).prefetch(AUTOTUNE)"
      ],
      "metadata": {
        "id": "ALJycqa-GkT3"
      },
      "execution_count": 12,
      "outputs": []
    },
    {
      "cell_type": "markdown",
      "source": [
        "### Modelo 2: TensorFlow Dense"
      ],
      "metadata": {
        "id": "DHKAa93myXoX"
      }
    },
    {
      "cell_type": "code",
      "source": [
        "%%time\n",
        "\n",
        "tf.random.set_seed(SEMENTE)\n",
        "\n",
        "tfd = Sequential()\n",
        "\n",
        "[tfd.add(Dense(units=CAMADA_UNIDADES, kernel_initializer=CAMADA_INICIALIZADOR, activation=CAMADA_ATIVACAO)) for _ in range(CAMADAS)]\n",
        "tfd.add(Dense(units=SAIDA_UNIDADES, activation=SAIDA_ATIVACAO))\n",
        "\n",
        "tfd.compile(loss=PERDA,\n",
        "            optimizer=OTIMIZADOR(learning_rate=APRENDIZADO),\n",
        "            metrics=METRICAS)\n",
        "\n",
        "tfd.fit(dataset_train,\n",
        "        epochs=ITERACOES,\n",
        "        validation_data=dataset_test,\n",
        "        verbose=0)\n",
        "\n",
        "y_pred = tf.round(tfd.predict(dataset_test, verbose=0))"
      ],
      "metadata": {
        "colab": {
          "base_uri": "https://localhost:8080/"
        },
        "id": "S1ed2gWgyaEL",
        "outputId": "4eb64a31-9dff-4873-fefb-9c741f83cdf4"
      },
      "execution_count": 13,
      "outputs": [
        {
          "output_type": "stream",
          "name": "stdout",
          "text": [
            "CPU times: user 3min 36s, sys: 8.78 s, total: 3min 45s\n",
            "Wall time: 2min 22s\n"
          ]
        }
      ]
    },
    {
      "cell_type": "code",
      "source": [
        "avaliar_previsoes(y_test, y_pred)"
      ],
      "metadata": {
        "colab": {
          "base_uri": "https://localhost:8080/",
          "height": 608
        },
        "id": "XR3_UAUs6232",
        "outputId": "45f2db77-29b8-49d0-c709-02b2dec4cf9e"
      },
      "execution_count": 14,
      "outputs": [
        {
          "output_type": "stream",
          "name": "stdout",
          "text": [
            "              precision    recall  f1-score   support\n",
            "\n",
            "           0       0.53      0.13      0.20     16796\n",
            "           1       0.70      0.95      0.81     36185\n",
            "\n",
            "    accuracy                           0.69     52981\n",
            "   macro avg       0.62      0.54      0.51     52981\n",
            "weighted avg       0.65      0.69      0.62     52981\n",
            "\n"
          ]
        },
        {
          "output_type": "display_data",
          "data": {
            "text/plain": [
              "<Figure size 800x500 with 2 Axes>"
            ],
            "image/png": "[encoded data removed]"
          },
          "metadata": {}
        }
      ]
    },
    {
      "cell_type": "markdown",
      "source": [
        "### Modelo 3: TensorFlow Ensemble"
      ],
      "metadata": {
        "id": "-PcCzaArbqY2"
      }
    },
    {
      "cell_type": "code",
      "source": [
        "%%time\n",
        "\n",
        "conjuntos = obter_conjuntos(dados_treino=dataset_train, dados_validacao=dataset_test, q_modelos=10)"
      ],
      "metadata": {
        "colab": {
          "base_uri": "https://localhost:8080/"
        },
        "id": "UpKEhLxhHch3",
        "outputId": "9d978974-bd83-49de-a0be-8da7a315aafa"
      },
      "execution_count": 15,
      "outputs": [
        {
          "output_type": "stream",
          "name": "stdout",
          "text": [
            "CPU times: user 33min 51s, sys: 1min 18s, total: 35min 10s\n",
            "Wall time: 21min 57s\n"
          ]
        }
      ]
    },
    {
      "cell_type": "code",
      "source": [
        "previsoes = obter_previsoes(conjuntos=conjuntos, dados_validacao=dataset_test)\n",
        "\n",
        "y_pred = tf.round(tf.reduce_mean(previsoes, axis=0))"
      ],
      "metadata": {
        "id": "VQoN9NnkHk8z"
      },
      "execution_count": 16,
      "outputs": []
    },
    {
      "cell_type": "code",
      "source": [
        "avaliar_previsoes(y_test, y_pred)"
      ],
      "metadata": {
        "colab": {
          "base_uri": "https://localhost:8080/",
          "height": 608
        },
        "id": "zeGsqmXLDHkW",
        "outputId": "70a74347-f408-4e9f-9a15-a88800151f2e"
      },
      "execution_count": 17,
      "outputs": [
        {
          "output_type": "stream",
          "name": "stdout",
          "text": [
            "              precision    recall  f1-score   support\n",
            "\n",
            "           0       0.55      0.12      0.20     16796\n",
            "           1       0.70      0.95      0.81     36185\n",
            "\n",
            "    accuracy                           0.69     52981\n",
            "   macro avg       0.62      0.54      0.50     52981\n",
            "weighted avg       0.65      0.69      0.61     52981\n",
            "\n"
          ]
        },
        {
          "output_type": "display_data",
          "data": {
            "text/plain": [
              "<Figure size 800x500 with 2 Axes>"
            ],
            "image/png": "[encoded data removed]"
          },
          "metadata": {}
        }
      ]
    },
    {
      "cell_type": "code",
      "source": [],
      "metadata": {
        "id": "p4_zTovLCIHv"
      },
      "execution_count": 17,
      "outputs": []
    }
  ]
}