{
  "nbformat": 4,
  "nbformat_minor": 0,
  "metadata": {
    "colab": {
      "provenance": [],
      "toc_visible": true,
      "authorship_tag": "ABX9TyP+f2yXkzYedSU1ynwDetkh",
      "include_colab_link": true
    },
    "kernelspec": {
      "name": "python3",
      "display_name": "Python 3"
    },
    "language_info": {
      "name": "python"
    },
    "gpuClass": "standard"
  },
  "cells": [
    {
      "cell_type": "markdown",
      "metadata": {
        "id": "view-in-github",
        "colab_type": "text"
      },
      "source": [
        "<a href=\"https://colab.research.google.com/github/flohmannjr/PJI410/blob/main/PJI410_aprendizado.ipynb\" target=\"_parent\"><img src=\"https://colab.research.google.com/assets/colab-badge.svg\" alt=\"Open In Colab\"/></a>"
      ]
    },
    {
      "cell_type": "markdown",
      "source": [
        "# PJI410 - Aprendizado"
      ],
      "metadata": {
        "id": "kuB5gTNYB_IC"
      }
    },
    {
      "cell_type": "markdown",
      "source": [
        "# Importações"
      ],
      "metadata": {
        "id": "g2TgIvCl96Zy"
      }
    },
    {
      "cell_type": "code",
      "source": [
        "import numpy as np\n",
        "import pandas as pd\n",
        "\n",
        "import matplotlib.pyplot as plt\n",
        "import seaborn as sns\n",
        "\n",
        "from sklearn.metrics import classification_report, ConfusionMatrixDisplay\n",
        "from sklearn.model_selection import train_test_split\n",
        "# from sklearn.utils import resample\n",
        "\n",
        "from sklearn.ensemble import AdaBoostClassifier, GradientBoostingClassifier\n",
        "from sklearn.model_selection import GridSearchCV\n",
        "from sklearn.neighbors import KNeighborsClassifier\n",
        "from sklearn.tree import DecisionTreeClassifier\n",
        "\n",
        "import tensorflow as tf\n",
        "\n",
        "from tensorflow.data import AUTOTUNE, Dataset\n",
        "from tensorflow.keras import Input, Sequential\n",
        "from tensorflow.keras.layers import Dense\n",
        "from tensorflow.keras.optimizers import Adam"
      ],
      "metadata": {
        "id": "BqxVW09d-Dx6"
      },
      "execution_count": 10,
      "outputs": []
    },
    {
      "cell_type": "markdown",
      "source": [
        "# Configurações"
      ],
      "metadata": {
        "id": "AYZyXKAo-GcL"
      }
    },
    {
      "cell_type": "code",
      "source": [
        "plt.rcParams['figure.figsize'] = [8, 5]\n",
        "plt.rcParams['figure.dpi'] = 100\n",
        "\n",
        "plt.style.use('seaborn-darkgrid')\n",
        "\n",
        "SEMENTE  = 2001088 + 2001247 + 2003061 + 2008193 + 2008620 + 2008880\n",
        "\n",
        "PALETA = 'summer_r'"
      ],
      "metadata": {
        "id": "S9v6zYN--JGK"
      },
      "execution_count": 2,
      "outputs": []
    },
    {
      "cell_type": "markdown",
      "source": [
        "## Hiperparâmetros TensorFlow"
      ],
      "metadata": {
        "id": "Fl2F29EAbb_y"
      }
    },
    {
      "cell_type": "code",
      "source": [
        "LOTE_TAMANHO = 1024\n",
        "\n",
        "CAMADAS = 4\n",
        "\n",
        "CAMADA_UNIDADES      = 50\n",
        "CAMADA_INICIALIZADOR = 'he_uniform'\n",
        "CAMADA_ATIVACAO      = 'relu'\n",
        "\n",
        "SAIDA_UNIDADES = 1\n",
        "SAIDA_ATIVACAO = 'sigmoid'\n",
        "\n",
        "PERDA       = 'binary_crossentropy'\n",
        "OTIMIZADOR  = Adam\n",
        "APRENDIZADO = 0.001\n",
        "METRICAS    = ['accuracy']\n",
        "\n",
        "ITERACOES = 50"
      ],
      "metadata": {
        "id": "klCHEM-EbgNN"
      },
      "execution_count": 3,
      "outputs": []
    },
    {
      "cell_type": "markdown",
      "source": [
        "## Funções"
      ],
      "metadata": {
        "id": "Wvjo0SihBjkn"
      }
    },
    {
      "cell_type": "code",
      "source": [
        "def avaliar_previsoes(alvos, previsoes):\n",
        "\n",
        "    print(classification_report(alvos, previsoes))\n",
        "\n",
        "    ConfusionMatrixDisplay.from_predictions(alvos, previsoes, values_format='d', cmap=PALETA)\n",
        "    plt.grid(False)\n",
        "\n",
        "    relatorio = classification_report(alvos, previsoes, output_dict=True)\n",
        "\n",
        "    return {'acuracia': relatorio['accuracy'],\n",
        "            'precisao': relatorio['weighted avg']['precision'],\n",
        "            'revocacao': relatorio['weighted avg']['recall'],\n",
        "            'pontuacao-f1': relatorio['weighted avg']['f1-score']}\n",
        "\n",
        "def obter_conjuntos(dados_treino, dados_validacao, q_modelos=10):\n",
        "\n",
        "    conjuntos = []\n",
        "\n",
        "    for m in range(q_modelos):\n",
        "\n",
        "        modelo = Sequential()\n",
        "\n",
        "        [modelo.add(Dense(units=CAMADA_UNIDADES, kernel_initializer=CAMADA_INICIALIZADOR, activation=CAMADA_ATIVACAO)) for _ in range(CAMADAS)]\n",
        "        modelo.add(Dense(units=SAIDA_UNIDADES, activation=SAIDA_ATIVACAO))\n",
        "\n",
        "        modelo.compile(loss=PERDA,\n",
        "                       optimizer=OTIMIZADOR(learning_rate=APRENDIZADO),\n",
        "                       metrics=METRICAS)\n",
        "\n",
        "        modelo.fit(dados_treino,\n",
        "                   epochs=ITERACOES,\n",
        "                   validation_data=dados_validacao,\n",
        "                   verbose=0)\n",
        "        \n",
        "        conjuntos.append(modelo)\n",
        "\n",
        "    return conjuntos\n",
        "\n",
        "def obter_previsoes(conjuntos, dados_validacao):\n",
        "    \n",
        "    previsoes = []\n",
        "\n",
        "    for modelo in conjuntos:\n",
        "        previsoes.append(modelo.predict(dados_validacao, verbose=0))\n",
        "    \n",
        "    return tf.constant(tf.squeeze(previsoes))"
      ],
      "metadata": {
        "id": "psppLSx2BlDr"
      },
      "execution_count": 4,
      "outputs": []
    },
    {
      "cell_type": "markdown",
      "source": [
        "# Dados"
      ],
      "metadata": {
        "id": "ULNywAux-OT0"
      }
    },
    {
      "cell_type": "code",
      "source": [
        "df_sintomas = pd.read_csv('https://raw.githubusercontent.com/flohmannjr/PJI410/main/dados/PJI410_sintomas.zip')"
      ],
      "metadata": {
        "id": "uS2GPMxQfXBm"
      },
      "execution_count": 5,
      "outputs": []
    },
    {
      "cell_type": "markdown",
      "source": [
        "# Aprendizado"
      ],
      "metadata": {
        "id": "PU_5swYIWSMH"
      }
    },
    {
      "cell_type": "markdown",
      "source": [
        "## Classificação sobre sintomas e fatores de risco, com EVOLUCAO como atributo alvo"
      ],
      "metadata": {
        "id": "S_VF5ZkVgCNV"
      }
    },
    {
      "cell_type": "code",
      "source": [
        "avaliacoes = [None] * 10"
      ],
      "metadata": {
        "id": "rVZFS0lKftJc"
      },
      "execution_count": 32,
      "outputs": []
    },
    {
      "cell_type": "markdown",
      "source": [
        "### Separação dos dados de treino e teste"
      ],
      "metadata": {
        "id": "naiYdB1IeNfI"
      }
    },
    {
      "cell_type": "code",
      "source": [
        "X = df_sintomas.drop('EVOLUCAO', axis=1)\n",
        "y = df_sintomas['EVOLUCAO']\n",
        "\n",
        "X_train, X_test, y_train, y_test = train_test_split(X, y, test_size=0.1, random_state=SEMENTE)"
      ],
      "metadata": {
        "id": "MEHGZz0tfXBm"
      },
      "execution_count": 33,
      "outputs": []
    },
    {
      "cell_type": "code",
      "source": [
        "# # Rabalancear dados de treino aumentando a amostragem da classe menor.\n",
        "\n",
        "# treino = pd.concat([X_train, y_train], axis=1)\n",
        "\n",
        "# obito = treino[treino['EVOLUCAO'] == 0]\n",
        "# cura  = treino[treino['EVOLUCAO'] == 1]\n",
        "\n",
        "# obito = resample(obito, replace=True, n_samples=len(cura), random_state=SEMENTE)\n",
        "\n",
        "# treino = pd.concat([obito, cura])\n",
        "\n",
        "# y_train = treino['EVOLUCAO']\n",
        "# X_train = treino.drop('EVOLUCAO', axis=1)"
      ],
      "metadata": {
        "id": "FQdEP2suq2pW"
      },
      "execution_count": 34,
      "outputs": []
    },
    {
      "cell_type": "markdown",
      "source": [
        "### Modelo 0: SKLearn KNN"
      ],
      "metadata": {
        "id": "WyX6R3LJGpeH"
      }
    },
    {
      "cell_type": "code",
      "source": [
        "%%time\n",
        "\n",
        "knc = KNeighborsClassifier(n_neighbors=100, weights='uniform', algorithm='auto')\n",
        "\n",
        "knc.fit(X_train, y_train)\n",
        "\n",
        "y_pred = knc.predict(X_test)\n",
        "\n",
        "# param_grid = {'n_neighbors': np.linspace(1, 100, 4, dtype='int'),\n",
        "#               'weights': ['uniform', 'distance']}\n",
        "\n",
        "# grid = GridSearchCV(estimator=knc,\n",
        "#                     param_grid=param_grid,\n",
        "#                     scoring='accuracy',\n",
        "#                     cv=10,\n",
        "#                     verbose=3)\n",
        "\n",
        "# grid.fit(X_train, y_train)\n",
        "\n",
        "# print(grid.best_params_)\n",
        "\n",
        "# y_pred = grid.predict(X_test)"
      ],
      "metadata": {
        "colab": {
          "base_uri": "https://localhost:8080/"
        },
        "outputId": "2527186c-f26c-48aa-b84e-c42b91fc2236",
        "id": "qKXJApCAGpeM"
      },
      "execution_count": 35,
      "outputs": [
        {
          "output_type": "stream",
          "name": "stdout",
          "text": [
            "CPU times: user 9min 27s, sys: 2min 12s, total: 11min 39s\n",
            "Wall time: 10min 5s\n"
          ]
        }
      ]
    },
    {
      "cell_type": "code",
      "source": [
        "avaliacoes[0] = avaliar_previsoes(y_test, y_pred)"
      ],
      "metadata": {
        "colab": {
          "base_uri": "https://localhost:8080/",
          "height": 608
        },
        "outputId": "1b7bef48-5327-4119-a2ad-b1078c7e9423",
        "id": "cAQiIwj1GpeN"
      },
      "execution_count": 36,
      "outputs": [
        {
          "output_type": "stream",
          "name": "stdout",
          "text": [
            "              precision    recall  f1-score   support\n",
            "\n",
            "           0       0.52      0.11      0.19     16995\n",
            "           1       0.69      0.95      0.80     35986\n",
            "\n",
            "    accuracy                           0.68     52981\n",
            "   macro avg       0.61      0.53      0.50     52981\n",
            "weighted avg       0.64      0.68      0.61     52981\n",
            "\n"
          ]
        },
        {
          "output_type": "display_data",
          "data": {
            "text/plain": [
              "<Figure size 800x500 with 2 Axes>"
            ],
            "image/png": "[encoded data removed]"
          },
          "metadata": {}
        }
      ]
    },
    {
      "cell_type": "markdown",
      "source": [
        "### Modelo 1: SKLearn Decision Tree"
      ],
      "metadata": {
        "id": "kS7phTmQZ8Tz"
      }
    },
    {
      "cell_type": "code",
      "source": [
        "%%time\n",
        "\n",
        "dtc = DecisionTreeClassifier(criterion='gini', splitter='random', max_features=None, random_state=SEMENTE)\n",
        "\n",
        "dtc.fit(X_train, y_train)\n",
        "\n",
        "y_pred = dtc.predict(X_test)"
      ],
      "metadata": {
        "id": "xMoCmDnjuc8P",
        "colab": {
          "base_uri": "https://localhost:8080/"
        },
        "outputId": "8dbb19e0-1497-4798-ba96-d24785e8501b"
      },
      "execution_count": 37,
      "outputs": [
        {
          "output_type": "stream",
          "name": "stdout",
          "text": [
            "CPU times: user 2.26 s, sys: 17.7 ms, total: 2.27 s\n",
            "Wall time: 2.28 s\n"
          ]
        }
      ]
    },
    {
      "cell_type": "code",
      "source": [
        "avaliacoes[1] = avaliar_previsoes(y_test, y_pred)"
      ],
      "metadata": {
        "id": "a0LGhBW8uc8V",
        "colab": {
          "base_uri": "https://localhost:8080/",
          "height": 608
        },
        "outputId": "526455f3-52f7-4fe5-b612-50b4183966ce"
      },
      "execution_count": 38,
      "outputs": [
        {
          "output_type": "stream",
          "name": "stdout",
          "text": [
            "              precision    recall  f1-score   support\n",
            "\n",
            "           0       0.42      0.19      0.27     16995\n",
            "           1       0.70      0.87      0.78     35986\n",
            "\n",
            "    accuracy                           0.66     52981\n",
            "   macro avg       0.56      0.53      0.52     52981\n",
            "weighted avg       0.61      0.66      0.61     52981\n",
            "\n"
          ]
        },
        {
          "output_type": "display_data",
          "data": {
            "text/plain": [
              "<Figure size 800x500 with 2 Axes>"
            ],
            "image/png": "[encoded data removed]"
          },
          "metadata": {}
        }
      ]
    },
    {
      "cell_type": "markdown",
      "source": [
        "### Modelo 2: SKLearn AdaBoost"
      ],
      "metadata": {
        "id": "M2LDToYjwRur"
      }
    },
    {
      "cell_type": "code",
      "source": [
        "%%time\n",
        "\n",
        "abc = AdaBoostClassifier(n_estimators=50, learning_rate=1.0, algorithm='SAMME.R', random_state=SEMENTE)\n",
        "\n",
        "abc.fit(X_train, y_train)\n",
        "\n",
        "y_pred = abc.predict(X_test)"
      ],
      "metadata": {
        "colab": {
          "base_uri": "https://localhost:8080/"
        },
        "outputId": "eee5d5b0-ba01-43b7-daef-25c94dd5ea55",
        "id": "_FEoQiuEwRur"
      },
      "execution_count": 39,
      "outputs": [
        {
          "output_type": "stream",
          "name": "stdout",
          "text": [
            "CPU times: user 16.6 s, sys: 1.12 s, total: 17.7 s\n",
            "Wall time: 17.8 s\n"
          ]
        }
      ]
    },
    {
      "cell_type": "code",
      "source": [
        "avaliacoes[2] = avaliar_previsoes(y_test, y_pred)"
      ],
      "metadata": {
        "colab": {
          "base_uri": "https://localhost:8080/",
          "height": 608
        },
        "outputId": "03566053-439b-49a6-bfb2-f58255a0c99d",
        "id": "SqdtEDovwRur"
      },
      "execution_count": 40,
      "outputs": [
        {
          "output_type": "stream",
          "name": "stdout",
          "text": [
            "              precision    recall  f1-score   support\n",
            "\n",
            "           0       0.53      0.09      0.15     16995\n",
            "           1       0.69      0.96      0.80     35986\n",
            "\n",
            "    accuracy                           0.68     52981\n",
            "   macro avg       0.61      0.53      0.48     52981\n",
            "weighted avg       0.64      0.68      0.60     52981\n",
            "\n"
          ]
        },
        {
          "output_type": "display_data",
          "data": {
            "text/plain": [
              "<Figure size 800x500 with 2 Axes>"
            ],
            "image/png": "[encoded data removed]"
          },
          "metadata": {}
        }
      ]
    },
    {
      "cell_type": "markdown",
      "source": [
        "### Modelo 3: SKLearn Gradient Boosting"
      ],
      "metadata": {
        "id": "mV8BeXN8xyhh"
      }
    },
    {
      "cell_type": "code",
      "source": [
        "%%time\n",
        "\n",
        "gbc = GradientBoostingClassifier(loss='log_loss', n_estimators=50, learning_rate=1.0, criterion='friedman_mse', warm_start=True, max_depth=3, random_state=SEMENTE)\n",
        "\n",
        "gbc.fit(X_train, y_train)\n",
        "\n",
        "y_pred = gbc.predict(X_test)"
      ],
      "metadata": {
        "colab": {
          "base_uri": "https://localhost:8080/"
        },
        "outputId": "8a5fa753-f3a7-4d46-ee8f-d1b8b8ebcdd2",
        "id": "QPFg0c5Nxyhi"
      },
      "execution_count": 41,
      "outputs": [
        {
          "output_type": "stream",
          "name": "stdout",
          "text": [
            "CPU times: user 29.1 s, sys: 43.9 ms, total: 29.1 s\n",
            "Wall time: 29.1 s\n"
          ]
        }
      ]
    },
    {
      "cell_type": "code",
      "source": [
        "avaliacoes[3] = avaliar_previsoes(y_test, y_pred)"
      ],
      "metadata": {
        "colab": {
          "base_uri": "https://localhost:8080/",
          "height": 608
        },
        "id": "QzLmxKl0iG9J",
        "outputId": "846be092-e7c7-4842-f556-d7410fae097e"
      },
      "execution_count": 42,
      "outputs": [
        {
          "output_type": "stream",
          "name": "stdout",
          "text": [
            "              precision    recall  f1-score   support\n",
            "\n",
            "           0       0.54      0.11      0.18     16995\n",
            "           1       0.69      0.96      0.80     35986\n",
            "\n",
            "    accuracy                           0.68     52981\n",
            "   macro avg       0.62      0.53      0.49     52981\n",
            "weighted avg       0.65      0.68      0.60     52981\n",
            "\n"
          ]
        },
        {
          "output_type": "display_data",
          "data": {
            "text/plain": [
              "<Figure size 800x500 with 2 Axes>"
            ],
            "image/png": "[encoded data removed]"
          },
          "metadata": {}
        }
      ]
    },
    {
      "cell_type": "markdown",
      "source": [
        "### Datasets"
      ],
      "metadata": {
        "id": "cAEK_MqYGkT2"
      }
    },
    {
      "cell_type": "code",
      "source": [
        "dataset_X_train = Dataset.from_tensor_slices(X_train)\n",
        "dataset_X_test  = Dataset.from_tensor_slices(X_test)\n",
        "dataset_y_train = Dataset.from_tensor_slices(y_train)\n",
        "dataset_y_test  = Dataset.from_tensor_slices(y_test)\n",
        "\n",
        "dataset_train = Dataset.zip((dataset_X_train, dataset_y_train))\n",
        "dataset_test  = Dataset.zip((dataset_X_test, dataset_y_test))\n",
        "\n",
        "dataset_train = dataset_train.batch(LOTE_TAMANHO).prefetch(AUTOTUNE)\n",
        "dataset_test  = dataset_test.batch(LOTE_TAMANHO).prefetch(AUTOTUNE)"
      ],
      "metadata": {
        "id": "ALJycqa-GkT3"
      },
      "execution_count": 43,
      "outputs": []
    },
    {
      "cell_type": "markdown",
      "source": [
        "### Modelo 4: TensorFlow Dense"
      ],
      "metadata": {
        "id": "DHKAa93myXoX"
      }
    },
    {
      "cell_type": "code",
      "source": [
        "%%time\n",
        "\n",
        "tf.random.set_seed(SEMENTE)\n",
        "\n",
        "tfd = Sequential()\n",
        "\n",
        "[tfd.add(Dense(units=CAMADA_UNIDADES, kernel_initializer=CAMADA_INICIALIZADOR, activation=CAMADA_ATIVACAO)) for _ in range(CAMADAS)]\n",
        "tfd.add(Dense(units=SAIDA_UNIDADES, activation=SAIDA_ATIVACAO))\n",
        "\n",
        "tfd.compile(loss=PERDA,\n",
        "            optimizer=OTIMIZADOR(learning_rate=APRENDIZADO),\n",
        "            metrics=METRICAS)\n",
        "\n",
        "tfd.fit(dataset_train,\n",
        "        epochs=ITERACOES,\n",
        "        validation_data=dataset_test,\n",
        "        verbose=0)\n",
        "\n",
        "y_pred = tf.round(tfd.predict(dataset_test, verbose=0))"
      ],
      "metadata": {
        "colab": {
          "base_uri": "https://localhost:8080/"
        },
        "id": "S1ed2gWgyaEL",
        "outputId": "4cf2faab-80d2-49ac-d9e3-427bbaa3a97a"
      },
      "execution_count": 44,
      "outputs": [
        {
          "output_type": "stream",
          "name": "stdout",
          "text": [
            "CPU times: user 5min 33s, sys: 10.3 s, total: 5min 44s\n",
            "Wall time: 4min 37s\n"
          ]
        }
      ]
    },
    {
      "cell_type": "code",
      "source": [
        "avaliacoes[4] = avaliar_previsoes(y_test, y_pred)"
      ],
      "metadata": {
        "colab": {
          "base_uri": "https://localhost:8080/",
          "height": 608
        },
        "id": "XR3_UAUs6232",
        "outputId": "9275852c-b0b5-4cf8-b399-9d3cea92b9cb"
      },
      "execution_count": 45,
      "outputs": [
        {
          "output_type": "stream",
          "name": "stdout",
          "text": [
            "              precision    recall  f1-score   support\n",
            "\n",
            "           0       0.51      0.14      0.23     16995\n",
            "           1       0.70      0.94      0.80     35986\n",
            "\n",
            "    accuracy                           0.68     52981\n",
            "   macro avg       0.61      0.54      0.51     52981\n",
            "weighted avg       0.64      0.68      0.62     52981\n",
            "\n"
          ]
        },
        {
          "output_type": "display_data",
          "data": {
            "text/plain": [
              "<Figure size 800x500 with 2 Axes>"
            ],
            "image/png": "[encoded data removed]"
          },
          "metadata": {}
        }
      ]
    },
    {
      "cell_type": "markdown",
      "source": [
        "### Modelo 5: TensorFlow Ensemble"
      ],
      "metadata": {
        "id": "-PcCzaArbqY2"
      }
    },
    {
      "cell_type": "code",
      "source": [
        "%%time\n",
        "\n",
        "conjuntos = obter_conjuntos(dados_treino=dataset_train, dados_validacao=dataset_test, q_modelos=10)"
      ],
      "metadata": {
        "colab": {
          "base_uri": "https://localhost:8080/"
        },
        "id": "UpKEhLxhHch3",
        "outputId": "c89c3492-20a1-4cf4-be97-b1416f7378b0"
      },
      "execution_count": 46,
      "outputs": [
        {
          "output_type": "stream",
          "name": "stdout",
          "text": [
            "CPU times: user 55min 45s, sys: 1min 39s, total: 57min 25s\n",
            "Wall time: 43min 56s\n"
          ]
        }
      ]
    },
    {
      "cell_type": "code",
      "source": [
        "previsoes = obter_previsoes(conjuntos=conjuntos, dados_validacao=dataset_test)\n",
        "\n",
        "y_pred = tf.round(tf.reduce_mean(previsoes, axis=0))"
      ],
      "metadata": {
        "id": "VQoN9NnkHk8z"
      },
      "execution_count": 47,
      "outputs": []
    },
    {
      "cell_type": "code",
      "source": [
        "avaliacoes[5] = avaliar_previsoes(y_test, y_pred)"
      ],
      "metadata": {
        "colab": {
          "base_uri": "https://localhost:8080/",
          "height": 608
        },
        "id": "zeGsqmXLDHkW",
        "outputId": "961a2222-c5f1-41c4-d0d7-e80b18dae21f"
      },
      "execution_count": 48,
      "outputs": [
        {
          "output_type": "stream",
          "name": "stdout",
          "text": [
            "              precision    recall  f1-score   support\n",
            "\n",
            "           0       0.53      0.13      0.21     16995\n",
            "           1       0.70      0.94      0.80     35986\n",
            "\n",
            "    accuracy                           0.68     52981\n",
            "   macro avg       0.61      0.54      0.51     52981\n",
            "weighted avg       0.64      0.68      0.61     52981\n",
            "\n"
          ]
        },
        {
          "output_type": "display_data",
          "data": {
            "text/plain": [
              "<Figure size 800x500 with 2 Axes>"
            ],
            "image/png": "[encoded data removed]"
          },
          "metadata": {}
        }
      ]
    },
    {
      "cell_type": "markdown",
      "source": [
        "### Comparação de modelos"
      ],
      "metadata": {
        "id": "CJaHEyWb1HSj"
      }
    },
    {
      "cell_type": "code",
      "source": [
        "comparacao = pd.DataFrame([a for a in avaliacoes if a is not None])\n",
        "comparacao = comparacao.reset_index().melt(id_vars='index').rename(columns=str.title)"
      ],
      "metadata": {
        "id": "0PxQ0STCu1-K"
      },
      "execution_count": 49,
      "outputs": []
    },
    {
      "cell_type": "code",
      "source": [
        "sns.barplot(data=comparacao, x='Index', y='Value', hue='Variable', palette=PALETA)\n",
        "\n",
        "plt.ylim(0, 1)\n",
        "\n",
        "plt.title('Medidas de avaliação dos modelos')\n",
        "plt.xlabel('Modelo')\n",
        "plt.ylabel('Valor')\n",
        "\n",
        "plt.legend(loc=(1.02, 0.76), frameon=True, facecolor='white');"
      ],
      "metadata": {
        "colab": {
          "base_uri": "https://localhost:8080/",
          "height": 473
        },
        "id": "_1hTtBITvUky",
        "outputId": "1a496418-46c2-4395-aad7-37a0dac7d0b7"
      },
      "execution_count": 50,
      "outputs": [
        {
          "output_type": "display_data",
          "data": {
            "text/plain": [
              "<Figure size 800x500 with 1 Axes>"
            ],
            "image/png": "[encoded data removed]"
          },
          "metadata": {}
        }
      ]
    },
    {
      "cell_type": "code",
      "source": [],
      "metadata": {
        "id": "p4_zTovLCIHv"
      },
      "execution_count": 50,
      "outputs": []
    }
  ]
}