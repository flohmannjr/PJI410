{
  "nbformat": 4,
  "nbformat_minor": 0,
  "metadata": {
    "colab": {
      "provenance": [],
      "toc_visible": true,
      "collapsed_sections": [
        "Zd8FBXwqw-Lb"
      ],
      "authorship_tag": "ABX9TyOxfq1IoqK+WdpyOh9KDUmi",
      "include_colab_link": true
    },
    "kernelspec": {
      "name": "python3",
      "display_name": "Python 3"
    },
    "language_info": {
      "name": "python"
    },
    "gpuClass": "standard"
  },
  "cells": [
    {
      "cell_type": "markdown",
      "metadata": {
        "id": "view-in-github",
        "colab_type": "text"
      },
      "source": [
        "<a href=\"https://colab.research.google.com/github/flohmannjr/PJI410/blob/main/PJI410_aprendizado.ipynb\" target=\"_parent\"><img src=\"https://colab.research.google.com/assets/colab-badge.svg\" alt=\"Open In Colab\"/></a>"
      ]
    },
    {
      "cell_type": "markdown",
      "source": [
        "# PJI410 - Aprendizado"
      ],
      "metadata": {
        "id": "kuB5gTNYB_IC"
      }
    },
    {
      "cell_type": "code",
      "source": [
        "# # Instalar pt_BR\n",
        "# !/usr/share/locales/install-language-pack pt_BR\n",
        "# !dpkg-reconfigure locales\n",
        "\n",
        "# import os\n",
        "\n",
        "# # Reiniciar o Python\n",
        "# os.kill(os.getpid(), 9)"
      ],
      "metadata": {
        "id": "Q7hDSPgeGHRD"
      },
      "execution_count": 36,
      "outputs": []
    },
    {
      "cell_type": "markdown",
      "source": [
        "# Importações"
      ],
      "metadata": {
        "id": "g2TgIvCl96Zy"
      }
    },
    {
      "cell_type": "code",
      "source": [
        "import numpy as np\n",
        "import pandas as pd\n",
        "\n",
        "import matplotlib.dates as mdates\n",
        "import matplotlib.pyplot as plt\n",
        "import seaborn as sns\n",
        "\n",
        "import datetime, locale\n",
        "\n",
        "from sklearn.metrics import classification_report, ConfusionMatrixDisplay, mean_absolute_error, mean_absolute_percentage_error, mean_squared_error\n",
        "from sklearn.model_selection import GridSearchCV, train_test_split\n",
        "\n",
        "from sklearn.ensemble import AdaBoostClassifier, GradientBoostingClassifier, RandomForestClassifier\n",
        "from sklearn.tree import DecisionTreeClassifier\n",
        "\n",
        "from xgboost import XGBClassifier\n",
        "\n",
        "import tensorflow as tf\n",
        "\n",
        "from tensorflow.data import AUTOTUNE, Dataset\n",
        "from tensorflow.keras import Sequential\n",
        "from tensorflow.keras.callbacks import EarlyStopping, ReduceLROnPlateau\n",
        "from tensorflow.keras.layers import Dense\n",
        "from tensorflow.keras.optimizers import Adam"
      ],
      "metadata": {
        "id": "BqxVW09d-Dx6"
      },
      "execution_count": 37,
      "outputs": []
    },
    {
      "cell_type": "markdown",
      "source": [
        "# Configurações"
      ],
      "metadata": {
        "id": "AYZyXKAo-GcL"
      }
    },
    {
      "cell_type": "code",
      "source": [
        "plt.rcParams['figure.figsize'] = [8, 5]\n",
        "plt.rcParams['figure.dpi'] = 100\n",
        "\n",
        "plt.style.use('seaborn-darkgrid')\n",
        "\n",
        "# locale.setlocale(locale.LC_ALL, 'pt_BR')\n",
        "\n",
        "SEMENTE = 2001088 + 2001247 + 2003061 + 2008193 + 2008620 + 2008880\n",
        "\n",
        "PALETA = 'summer_r'\n",
        "CORES  = ['#007F66', '#339966', '#66B266', '#99CC66', '#CCE566']\n",
        "\n",
        "# COR_TREINO   = '#663399'\n",
        "# COR_TESTE    = '#345cd3'\n",
        "# COR_PREVISAO = '#f22424'\n",
        "\n",
        "LINHA_ESPESSURA = 1"
      ],
      "metadata": {
        "id": "S9v6zYN--JGK"
      },
      "execution_count": 38,
      "outputs": []
    },
    {
      "cell_type": "markdown",
      "source": [
        "## Funções"
      ],
      "metadata": {
        "id": "Wvjo0SihBjkn"
      }
    },
    {
      "cell_type": "code",
      "source": [
        "def avaliar_previsoes(alvos, previsoes):\n",
        "\n",
        "    print(classification_report(alvos, previsoes))\n",
        "\n",
        "    ConfusionMatrixDisplay.from_predictions(alvos, previsoes, values_format='d', cmap=PALETA)\n",
        "    plt.grid(False)\n",
        "\n",
        "    relatorio = classification_report(alvos, previsoes, output_dict=True)\n",
        "\n",
        "    return {'acuracia': relatorio['accuracy'],\n",
        "            'precisao': relatorio['weighted avg']['precision'],\n",
        "            'revocacao': relatorio['weighted avg']['recall'],\n",
        "            'pontuacao-f1': relatorio['weighted avg']['f1-score']}\n",
        "\n",
        "def obter_conjunto(dados_treino, dados_validacao, q_modelos=10):\n",
        "\n",
        "    conjunto = []\n",
        "\n",
        "    for m in range(q_modelos):\n",
        "\n",
        "        print(f'Modelo {m} de {q_modelos}.')\n",
        "\n",
        "        modelo = Sequential()\n",
        "\n",
        "        [modelo.add(Dense(units=CAMADA_UNIDADES, kernel_initializer=CAMADA_INICIALIZADOR, activation=CAMADA_ATIVACAO)) for _ in range(CAMADAS)]\n",
        "        modelo.add(Dense(units=SAIDA_UNIDADES, activation=SAIDA_ATIVACAO))\n",
        "\n",
        "        modelo.compile(loss=PERDA,\n",
        "                       optimizer=OTIMIZADOR(learning_rate=APRENDIZADO),\n",
        "                       metrics=METRICAS)\n",
        "\n",
        "        modelo.fit(dados_treino,\n",
        "                   epochs=ITERACOES,\n",
        "                   validation_data=dados_validacao,\n",
        "                   verbose=0)\n",
        "        \n",
        "        conjunto.append(modelo)\n",
        "\n",
        "    return conjunto\n",
        "\n",
        "def obter_previsoes(conjunto, dados_validacao):\n",
        "    \n",
        "    previsoes = []\n",
        "\n",
        "    for modelo in conjunto:\n",
        "        previsoes.append(modelo.predict(dados_validacao, verbose=0))\n",
        "    \n",
        "    return tf.constant(tf.squeeze(previsoes))\n",
        "\n",
        "def notificacoes_semanais(dados, local):\n",
        "\n",
        "    ax = sns.lineplot(data=dados, x='Segunda-feira', y='Quantidade', linewidth=LINHA_ESPESSURA, color=CORES[0])\n",
        "\n",
        "    plt.title(f'Notificações semanais para {local}')\n",
        "    plt.xlabel('')\n",
        "    plt.ylabel('Quantidade de Notificações')\n",
        "\n",
        "    plt.xlim([datetime.date(2020, 12, 25), datetime.date(2023, 3, 1)])\n",
        "\n",
        "    ax.xaxis.set_major_locator(mdates.YearLocator())\n",
        "    ax.xaxis.set_minor_locator(mdates.MonthLocator())\n",
        "    ax.xaxis.set_minor_formatter(mdates.DateFormatter('%b'))\n",
        "\n",
        "    for tick in ax.get_xticklabels(which='both'):\n",
        "        tick.set_rotation(90)\n",
        "\n",
        "    plt.grid(visible=True, which='both', axis='both')\n",
        "    plt.show()\n",
        "\n",
        "def criar_janelas(dados, janela_tamanho, horizonte_tamanho, premios=[]):\n",
        "\n",
        "    # Array 2D de 0 a janela_tamanho + horizonte_tamanho.\n",
        "    janela_primaria = np.expand_dims(np.arange(janela_tamanho + horizonte_tamanho), axis=0)\n",
        "\n",
        "    # Array 2D com todas as janelas completas com os índices dos dados.\n",
        "    indices = janela_primaria + np.expand_dims(np.arange(len(dados) - (janela_tamanho + horizonte_tamanho - 1)), axis=0).T\n",
        "\n",
        "    # Dados em formato de janelas com horizontes.\n",
        "    janelas_horizontes = dados[indices]\n",
        "\n",
        "    # Separa os dados em janelas, horizonte.\n",
        "    if len(premios) == 0:\n",
        "        janelas = janelas_horizontes[:, :-horizonte_tamanho]\n",
        "    else:\n",
        "        janelas = np.column_stack((janelas_horizontes[:, :-horizonte_tamanho], premios[indices[:, -(horizonte_tamanho + 1)]]))\n",
        "\n",
        "    horizontes = janelas_horizontes[:, -horizonte_tamanho:]\n",
        "\n",
        "    return janelas, horizontes\n",
        "\n",
        "def separar_janelas_treino_teste(janelas, horizontes, tamanho_teste=0.2):\n",
        "\n",
        "    quantidade_teste = int(len(janelas) * (1 - tamanho_teste))\n",
        "\n",
        "    janelas_treino    = janelas[:quantidade_teste]\n",
        "    janelas_teste     = janelas[quantidade_teste:]\n",
        "    horizontes_treino = horizontes[:quantidade_teste]\n",
        "    horizontes_teste  = horizontes[quantidade_teste:]\n",
        "\n",
        "    return janelas_treino, janelas_teste, horizontes_treino, horizontes_teste\n",
        "\n",
        "def grafico_series(X_treino=[], y_treino=[],\n",
        "                   X_teste=[], y_teste=[],\n",
        "                   X_previsao=[], y_previsao=[],\n",
        "                   inicio=0, fim=None):\n",
        "\n",
        "    base_legenda = 1\n",
        "    semanas = []\n",
        "\n",
        "    if len(X_treino) > 0:\n",
        "        sns.lineplot(x=X_treino[inicio:fim], y=y_treino[inicio:fim], color=CORES[0], linewidth=LINHA_ESPESSURA, label='Treino')\n",
        "        semanas.append(X_treino[inicio:fim])\n",
        "        base_legenda -= 0.06\n",
        "\n",
        "    if len(X_teste) > 0:\n",
        "        sns.lineplot(x=X_teste[inicio:fim], y=y_teste[inicio:fim], color=CORES[2], linewidth=LINHA_ESPESSURA, label='Teste')\n",
        "        semanas.append(X_teste[inicio:fim])\n",
        "        base_legenda -= 0.06\n",
        "\n",
        "    if len(X_previsao) > 0:\n",
        "        sns.lineplot(x=X_previsao[inicio:fim], y=y_previsao[inicio:fim], color=CORES[4], linewidth=LINHA_ESPESSURA, label='Previsão')\n",
        "        semanas.append(X_previsao[inicio:fim])\n",
        "        base_legenda -= 0.06\n",
        "\n",
        "    semanas = np.unique(np.sort(semanas))\n",
        "\n",
        "    plt.title(f'Notificações semanais')\n",
        "    plt.xlabel('')\n",
        "    plt.ylabel('Quantidade de Notificações')\n",
        "\n",
        "    plt.xticks(ticks=semanas, labels=pd.to_datetime(semanas).strftime('%d/%m'), rotation=90)\n",
        "\n",
        "    plt.legend(loc=(1.02, base_legenda), frameon=True, facecolor='white')\n",
        "\n",
        "    plt.show()\n",
        "\n",
        "def metricas_modelo(y_teste, y_previsao):\n",
        "\n",
        "    mae = mean_absolute_error(y_teste, y_previsao)\n",
        "    rmse = np.sqrt(mean_squared_error(y_teste, y_previsao))\n",
        "    mape = mean_absolute_percentage_error(y_teste, y_previsao)\n",
        "\n",
        "    return {'Mean Absolute Error': mae,\n",
        "            'Root Mean Squared Error': rmse,\n",
        "            'Mean Absolute Percentage Error': mape}"
      ],
      "metadata": {
        "id": "psppLSx2BlDr"
      },
      "execution_count": 39,
      "outputs": []
    },
    {
      "cell_type": "markdown",
      "source": [
        "# Aprendizado"
      ],
      "metadata": {
        "id": "PU_5swYIWSMH"
      }
    },
    {
      "cell_type": "markdown",
      "source": [
        "## Classificação de diagnóstico de COVID-19 a partir de sintomas e fatores de risco"
      ],
      "metadata": {
        "id": "S_VF5ZkVgCNV"
      }
    },
    {
      "cell_type": "code",
      "source": [
        "covid_avaliacoes = [None] * 10"
      ],
      "metadata": {
        "id": "tmIIQFYx2bbS"
      },
      "execution_count": 40,
      "outputs": []
    },
    {
      "cell_type": "markdown",
      "source": [
        "### Hiperparâmetros"
      ],
      "metadata": {
        "id": "Fl2F29EAbb_y"
      }
    },
    {
      "cell_type": "code",
      "source": [
        "LOTE_TAMANHO = 2048\n",
        "\n",
        "CAMADAS = 4\n",
        "\n",
        "CAMADA_UNIDADES      = 32\n",
        "CAMADA_INICIALIZADOR = 'he_uniform'\n",
        "CAMADA_ATIVACAO      = 'relu'\n",
        "\n",
        "SAIDA_UNIDADES = 1\n",
        "SAIDA_ATIVACAO = 'sigmoid'\n",
        "\n",
        "PERDA       = 'binary_crossentropy'\n",
        "OTIMIZADOR  = Adam\n",
        "APRENDIZADO = 0.001\n",
        "METRICAS    = ['accuracy']\n",
        "\n",
        "ITERACOES = 50"
      ],
      "metadata": {
        "id": "klCHEM-EbgNN"
      },
      "execution_count": 41,
      "outputs": []
    },
    {
      "cell_type": "markdown",
      "source": [
        "### Dados"
      ],
      "metadata": {
        "id": "ULNywAux-OT0"
      }
    },
    {
      "cell_type": "code",
      "source": [
        "df_sintomas_covid = pd.read_csv('https://raw.githubusercontent.com/flohmannjr/PJI410/main/dados/PJI410_sintomas_covid.zip')"
      ],
      "metadata": {
        "id": "uS2GPMxQfXBm"
      },
      "execution_count": null,
      "outputs": []
    },
    {
      "cell_type": "code",
      "source": [
        "df_sintomas_covid['COVID'].value_counts()"
      ],
      "metadata": {
        "colab": {
          "base_uri": "https://localhost:8080/"
        },
        "id": "lkNDj5fxwnZW",
        "outputId": "b40a743c-9f72-4e37-c5a6-edac90e10b86"
      },
      "execution_count": null,
      "outputs": [
        {
          "output_type": "execute_result",
          "data": {
            "text/plain": [
              "1    388617\n",
              "0    196703\n",
              "Name: COVID, dtype: int64"
            ]
          },
          "metadata": {},
          "execution_count": 7
        }
      ]
    },
    {
      "cell_type": "markdown",
      "source": [
        "#### Separação dos dados de treino e teste"
      ],
      "metadata": {
        "id": "naiYdB1IeNfI"
      }
    },
    {
      "cell_type": "code",
      "source": [
        "X = df_sintomas_covid.drop('COVID', axis=1)\n",
        "y = df_sintomas_covid['COVID']\n",
        "\n",
        "X_train, X_test, y_train, y_test = train_test_split(X, y, test_size=0.1, random_state=SEMENTE)"
      ],
      "metadata": {
        "id": "MEHGZz0tfXBm"
      },
      "execution_count": null,
      "outputs": []
    },
    {
      "cell_type": "markdown",
      "source": [
        "#### Datasets"
      ],
      "metadata": {
        "id": "cAEK_MqYGkT2"
      }
    },
    {
      "cell_type": "code",
      "source": [
        "dataset_X_train = Dataset.from_tensor_slices(X_train)\n",
        "dataset_X_test  = Dataset.from_tensor_slices(X_test)\n",
        "dataset_y_train = Dataset.from_tensor_slices(y_train)\n",
        "dataset_y_test  = Dataset.from_tensor_slices(y_test)\n",
        "\n",
        "dataset_train = Dataset.zip((dataset_X_train, dataset_y_train))\n",
        "dataset_test  = Dataset.zip((dataset_X_test, dataset_y_test))\n",
        "\n",
        "dataset_train = dataset_train.batch(LOTE_TAMANHO).prefetch(AUTOTUNE)\n",
        "dataset_test  = dataset_test.batch(LOTE_TAMANHO).prefetch(AUTOTUNE)"
      ],
      "metadata": {
        "id": "ALJycqa-GkT3"
      },
      "execution_count": null,
      "outputs": []
    },
    {
      "cell_type": "markdown",
      "source": [
        "### Modelo 0: SKLearn Decision Tree"
      ],
      "metadata": {
        "id": "WyX6R3LJGpeH"
      }
    },
    {
      "cell_type": "code",
      "source": [
        "%%time\n",
        "\n",
        "dtc = DecisionTreeClassifier(criterion='gini', splitter='random', max_features=None, random_state=SEMENTE)\n",
        "\n",
        "dtc.fit(X_train, y_train)\n",
        "\n",
        "y_pred = dtc.predict(X_test)\n",
        "\n",
        "# param_grid = {'param': np.linspace(99, 99, 99, dtype='int'),\n",
        "#               'param': ['value', 'value']}\n",
        "\n",
        "# grid = GridSearchCV(estimator=dtc,\n",
        "#                     param_grid=param_grid,\n",
        "#                     scoring='accuracy',\n",
        "#                     cv=10,\n",
        "#                     verbose=3)\n",
        "\n",
        "# grid.fit(X_train, y_train)\n",
        "\n",
        "# print(grid.best_params_)\n",
        "\n",
        "# y_pred = grid.predict(X_test)"
      ],
      "metadata": {
        "colab": {
          "base_uri": "https://localhost:8080/"
        },
        "outputId": "1b3c2e9b-ae34-4c5f-cdf1-bba174b699e0",
        "id": "qKXJApCAGpeM"
      },
      "execution_count": null,
      "outputs": [
        {
          "output_type": "stream",
          "name": "stdout",
          "text": [
            "CPU times: user 2.92 s, sys: 44 ms, total: 2.96 s\n",
            "Wall time: 5.96 s\n"
          ]
        }
      ]
    },
    {
      "cell_type": "code",
      "source": [
        "covid_avaliacoes[0] = avaliar_previsoes(y_test, y_pred)"
      ],
      "metadata": {
        "colab": {
          "base_uri": "https://localhost:8080/",
          "height": 608
        },
        "outputId": "57f2b82d-4b18-45f4-a2a6-94177a35a511",
        "id": "cAQiIwj1GpeN"
      },
      "execution_count": null,
      "outputs": [
        {
          "output_type": "stream",
          "name": "stdout",
          "text": [
            "              precision    recall  f1-score   support\n",
            "\n",
            "           0       0.52      0.32      0.39     19737\n",
            "           1       0.71      0.85      0.77     38795\n",
            "\n",
            "    accuracy                           0.67     58532\n",
            "   macro avg       0.62      0.58      0.58     58532\n",
            "weighted avg       0.65      0.67      0.65     58532\n",
            "\n"
          ]
        },
        {
          "output_type": "display_data",
          "data": {
            "text/plain": [
              "<Figure size 800x500 with 2 Axes>"
            ],
            "image/png": "[encoded data removed]"
          },
          "metadata": {}
        }
      ]
    },
    {
      "cell_type": "markdown",
      "source": [
        "### Modelo 1: SKLearn Random Forest"
      ],
      "metadata": {
        "id": "kS7phTmQZ8Tz"
      }
    },
    {
      "cell_type": "code",
      "source": [
        "%%time\n",
        "\n",
        "rfc = RandomForestClassifier(n_estimators=50, criterion='gini', bootstrap=True, oob_score=True, warm_start=True, random_state=SEMENTE)\n",
        "\n",
        "rfc.fit(X_train, y_train)\n",
        "\n",
        "y_pred = rfc.predict(X_test)"
      ],
      "metadata": {
        "id": "xMoCmDnjuc8P",
        "colab": {
          "base_uri": "https://localhost:8080/"
        },
        "outputId": "01e2337d-98fb-4524-d397-e71e67f63335"
      },
      "execution_count": null,
      "outputs": [
        {
          "output_type": "stream",
          "name": "stdout",
          "text": [
            "CPU times: user 33.6 s, sys: 252 ms, total: 33.9 s\n",
            "Wall time: 41.3 s\n"
          ]
        }
      ]
    },
    {
      "cell_type": "code",
      "source": [
        "covid_avaliacoes[1] = avaliar_previsoes(y_test, y_pred)"
      ],
      "metadata": {
        "id": "a0LGhBW8uc8V",
        "colab": {
          "base_uri": "https://localhost:8080/",
          "height": 608
        },
        "outputId": "aaa55704-675e-4072-a5a6-7c9977b93365"
      },
      "execution_count": null,
      "outputs": [
        {
          "output_type": "stream",
          "name": "stdout",
          "text": [
            "              precision    recall  f1-score   support\n",
            "\n",
            "           0       0.55      0.29      0.38     19737\n",
            "           1       0.71      0.88      0.78     38795\n",
            "\n",
            "    accuracy                           0.68     58532\n",
            "   macro avg       0.63      0.58      0.58     58532\n",
            "weighted avg       0.65      0.68      0.65     58532\n",
            "\n"
          ]
        },
        {
          "output_type": "display_data",
          "data": {
            "text/plain": [
              "<Figure size 800x500 with 2 Axes>"
            ],
            "image/png": "[encoded data removed]"
          },
          "metadata": {}
        }
      ]
    },
    {
      "cell_type": "markdown",
      "source": [
        "### Modelo 2: SKLearn AdaBoost"
      ],
      "metadata": {
        "id": "M2LDToYjwRur"
      }
    },
    {
      "cell_type": "code",
      "source": [
        "%%time\n",
        "\n",
        "abc = AdaBoostClassifier(n_estimators=50, learning_rate=1.0, algorithm='SAMME.R', random_state=SEMENTE)\n",
        "\n",
        "abc.fit(X_train, y_train)\n",
        "\n",
        "y_pred = abc.predict(X_test)"
      ],
      "metadata": {
        "colab": {
          "base_uri": "https://localhost:8080/"
        },
        "outputId": "cf0dd9bf-3683-4dc7-c55a-39fc91c73262",
        "id": "_FEoQiuEwRur"
      },
      "execution_count": null,
      "outputs": [
        {
          "output_type": "stream",
          "name": "stdout",
          "text": [
            "CPU times: user 13.1 s, sys: 995 ms, total: 14.1 s\n",
            "Wall time: 14.1 s\n"
          ]
        }
      ]
    },
    {
      "cell_type": "code",
      "source": [
        "covid_avaliacoes[2] = avaliar_previsoes(y_test, y_pred)"
      ],
      "metadata": {
        "colab": {
          "base_uri": "https://localhost:8080/",
          "height": 608
        },
        "outputId": "9fcab021-5ae0-458f-c4b9-1fa9aff81617",
        "id": "SqdtEDovwRur"
      },
      "execution_count": null,
      "outputs": [
        {
          "output_type": "stream",
          "name": "stdout",
          "text": [
            "              precision    recall  f1-score   support\n",
            "\n",
            "           0       0.58      0.23      0.33     19737\n",
            "           1       0.70      0.92      0.79     38795\n",
            "\n",
            "    accuracy                           0.68     58532\n",
            "   macro avg       0.64      0.57      0.56     58532\n",
            "weighted avg       0.66      0.68      0.64     58532\n",
            "\n"
          ]
        },
        {
          "output_type": "display_data",
          "data": {
            "text/plain": [
              "<Figure size 800x500 with 2 Axes>"
            ],
            "image/png": "[encoded data removed]"
          },
          "metadata": {}
        }
      ]
    },
    {
      "cell_type": "markdown",
      "source": [
        "### Modelo 3: SKLearn Gradient Boosting"
      ],
      "metadata": {
        "id": "mV8BeXN8xyhh"
      }
    },
    {
      "cell_type": "code",
      "source": [
        "%%time\n",
        "\n",
        "gbc = GradientBoostingClassifier(loss='log_loss', n_estimators=50, learning_rate=1.0, criterion='friedman_mse', warm_start=True, max_depth=3, random_state=SEMENTE)\n",
        "\n",
        "gbc.fit(X_train, y_train)\n",
        "\n",
        "y_pred = gbc.predict(X_test)"
      ],
      "metadata": {
        "colab": {
          "base_uri": "https://localhost:8080/"
        },
        "outputId": "1b4508fb-8ff3-49de-a417-7681c4596430",
        "id": "QPFg0c5Nxyhi"
      },
      "execution_count": null,
      "outputs": [
        {
          "output_type": "stream",
          "name": "stdout",
          "text": [
            "CPU times: user 22.9 s, sys: 57.3 ms, total: 23 s\n",
            "Wall time: 23 s\n"
          ]
        }
      ]
    },
    {
      "cell_type": "code",
      "source": [
        "covid_avaliacoes[3] = avaliar_previsoes(y_test, y_pred)"
      ],
      "metadata": {
        "id": "QzLmxKl0iG9J",
        "colab": {
          "base_uri": "https://localhost:8080/",
          "height": 610
        },
        "outputId": "af79a4c6-5ac3-46f5-ed10-8eeae05b80d9"
      },
      "execution_count": null,
      "outputs": [
        {
          "output_type": "stream",
          "name": "stdout",
          "text": [
            "              precision    recall  f1-score   support\n",
            "\n",
            "           0       0.59      0.26      0.36     19737\n",
            "           1       0.71      0.91      0.80     38795\n",
            "\n",
            "    accuracy                           0.69     58532\n",
            "   macro avg       0.65      0.58      0.58     58532\n",
            "weighted avg       0.67      0.69      0.65     58532\n",
            "\n"
          ]
        },
        {
          "output_type": "display_data",
          "data": {
            "text/plain": [
              "<Figure size 800x500 with 2 Axes>"
            ],
            "image/png": "[encoded data removed]"
          },
          "metadata": {}
        }
      ]
    },
    {
      "cell_type": "markdown",
      "source": [
        "### Modelo 4: XGBoost"
      ],
      "metadata": {
        "id": "tm4WV6Bn8M88"
      }
    },
    {
      "cell_type": "code",
      "source": [
        "%%time\n",
        "\n",
        "xgb = XGBClassifier(n_estimators=50, grow_policy='depthwise', learning_rate=0.5, random_state=SEMENTE)\n",
        "\n",
        "xgb.fit(X_train, y_train)\n",
        "\n",
        "y_pred = xgb.predict(X_test)"
      ],
      "metadata": {
        "id": "TUX9XeDv8M88",
        "colab": {
          "base_uri": "https://localhost:8080/"
        },
        "outputId": "f34ac606-df41-40af-b0b6-ded072deced7"
      },
      "execution_count": null,
      "outputs": [
        {
          "output_type": "stream",
          "name": "stdout",
          "text": [
            "CPU times: user 1min, sys: 189 ms, total: 1min\n",
            "Wall time: 34.6 s\n"
          ]
        }
      ]
    },
    {
      "cell_type": "code",
      "source": [
        "covid_avaliacoes[4] = avaliar_previsoes(y_test, y_pred)"
      ],
      "metadata": {
        "id": "jivczmdD8M89",
        "colab": {
          "base_uri": "https://localhost:8080/",
          "height": 611
        },
        "outputId": "c900ad30-fa28-48d8-9e51-7aa39e58d133"
      },
      "execution_count": null,
      "outputs": [
        {
          "output_type": "stream",
          "name": "stdout",
          "text": [
            "              precision    recall  f1-score   support\n",
            "\n",
            "           0       0.60      0.27      0.37     19737\n",
            "           1       0.71      0.91      0.80     38795\n",
            "\n",
            "    accuracy                           0.69     58532\n",
            "   macro avg       0.65      0.59      0.58     58532\n",
            "weighted avg       0.67      0.69      0.65     58532\n",
            "\n"
          ]
        },
        {
          "output_type": "display_data",
          "data": {
            "text/plain": [
              "<Figure size 800x500 with 2 Axes>"
            ],
            "image/png": "[encoded data removed]"
          },
          "metadata": {}
        }
      ]
    },
    {
      "cell_type": "markdown",
      "source": [
        "### Modelo 5: TensorFlow Dense"
      ],
      "metadata": {
        "id": "DHKAa93myXoX"
      }
    },
    {
      "cell_type": "code",
      "source": [
        "%%time\n",
        "\n",
        "tf.random.set_seed(SEMENTE)\n",
        "\n",
        "tfd = Sequential()\n",
        "\n",
        "[tfd.add(Dense(units=CAMADA_UNIDADES, kernel_initializer=CAMADA_INICIALIZADOR, activation=CAMADA_ATIVACAO)) for _ in range(CAMADAS)]\n",
        "tfd.add(Dense(units=SAIDA_UNIDADES, activation=SAIDA_ATIVACAO))\n",
        "\n",
        "tfd.compile(loss=PERDA,\n",
        "            optimizer=OTIMIZADOR(learning_rate=APRENDIZADO),\n",
        "            metrics=METRICAS)\n",
        "\n",
        "tfd.fit(dataset_train,\n",
        "        epochs=ITERACOES,\n",
        "        validation_data=dataset_test,\n",
        "        verbose=0)\n",
        "\n",
        "y_pred = tf.round(tfd.predict(dataset_test, verbose=0))"
      ],
      "metadata": {
        "colab": {
          "base_uri": "https://localhost:8080/"
        },
        "id": "S1ed2gWgyaEL",
        "outputId": "abf5f1de-608d-470c-f5aa-85278bcf4bd0"
      },
      "execution_count": null,
      "outputs": [
        {
          "output_type": "stream",
          "name": "stdout",
          "text": [
            "CPU times: user 2min 29s, sys: 4.52 s, total: 2min 34s\n",
            "Wall time: 1min 51s\n"
          ]
        }
      ]
    },
    {
      "cell_type": "code",
      "source": [
        "covid_avaliacoes[5] = avaliar_previsoes(y_test, y_pred)"
      ],
      "metadata": {
        "colab": {
          "base_uri": "https://localhost:8080/",
          "height": 608
        },
        "id": "XR3_UAUs6232",
        "outputId": "97be1471-12c9-47ed-c4a4-96cf797fd9b0"
      },
      "execution_count": null,
      "outputs": [
        {
          "output_type": "stream",
          "name": "stdout",
          "text": [
            "              precision    recall  f1-score   support\n",
            "\n",
            "           0       0.59      0.27      0.37     19737\n",
            "           1       0.71      0.90      0.79     38795\n",
            "\n",
            "    accuracy                           0.69     58532\n",
            "   macro avg       0.65      0.59      0.58     58532\n",
            "weighted avg       0.67      0.69      0.65     58532\n",
            "\n"
          ]
        },
        {
          "output_type": "display_data",
          "data": {
            "text/plain": [
              "<Figure size 800x500 with 2 Axes>"
            ],
            "image/png": "[encoded data removed]"
          },
          "metadata": {}
        }
      ]
    },
    {
      "cell_type": "markdown",
      "source": [
        "### Modelo 6: TensorFlow Profound"
      ],
      "metadata": {
        "id": "hRFvl4CUQS2q"
      }
    },
    {
      "cell_type": "code",
      "source": [
        "%%time\n",
        "\n",
        "tf.random.set_seed(SEMENTE)\n",
        "\n",
        "tfp = Sequential()\n",
        "\n",
        "[tfp.add(Dense(units=CAMADA_UNIDADES, kernel_initializer=CAMADA_INICIALIZADOR, activation=CAMADA_ATIVACAO)) for _ in range(CAMADAS ** 3)]\n",
        "tfp.add(Dense(units=SAIDA_UNIDADES, activation=SAIDA_ATIVACAO))\n",
        "\n",
        "tfp.compile(loss=PERDA,\n",
        "            optimizer=OTIMIZADOR(learning_rate=APRENDIZADO),\n",
        "            metrics=METRICAS)\n",
        "\n",
        "tfp.fit(dataset_train,\n",
        "        epochs=ITERACOES,\n",
        "        validation_data=dataset_test,\n",
        "        verbose=0)\n",
        "\n",
        "y_pred = tf.round(tfp.predict(dataset_test, verbose=0))"
      ],
      "metadata": {
        "colab": {
          "base_uri": "https://localhost:8080/"
        },
        "outputId": "4307a361-6aec-421b-8eda-ce979d97fe3c",
        "id": "aXDYdJCDQS2r"
      },
      "execution_count": null,
      "outputs": [
        {
          "output_type": "stream",
          "name": "stdout",
          "text": [
            "CPU times: user 5min 40s, sys: 5.73 s, total: 5min 46s\n",
            "Wall time: 4min 8s\n"
          ]
        }
      ]
    },
    {
      "cell_type": "code",
      "source": [
        "covid_avaliacoes[6] = avaliar_previsoes(y_test, y_pred)"
      ],
      "metadata": {
        "colab": {
          "base_uri": "https://localhost:8080/",
          "height": 608
        },
        "id": "1U6fq_RTXvDm",
        "outputId": "c0813016-394f-4fd4-c5bb-2db800359509"
      },
      "execution_count": null,
      "outputs": [
        {
          "output_type": "stream",
          "name": "stdout",
          "text": [
            "              precision    recall  f1-score   support\n",
            "\n",
            "           0       0.60      0.23      0.34     19737\n",
            "           1       0.70      0.92      0.80     38795\n",
            "\n",
            "    accuracy                           0.69     58532\n",
            "   macro avg       0.65      0.58      0.57     58532\n",
            "weighted avg       0.67      0.69      0.64     58532\n",
            "\n"
          ]
        },
        {
          "output_type": "display_data",
          "data": {
            "text/plain": [
              "<Figure size 800x500 with 2 Axes>"
            ],
            "image/png": "[encoded data removed]"
          },
          "metadata": {}
        }
      ]
    },
    {
      "cell_type": "markdown",
      "source": [
        "### Modelo 7: TensorFlow Ensemble"
      ],
      "metadata": {
        "id": "-PcCzaArbqY2"
      }
    },
    {
      "cell_type": "code",
      "source": [
        "%%time\n",
        "\n",
        "conjunto = obter_conjunto(dados_treino=dataset_train, dados_validacao=dataset_test, q_modelos=5)"
      ],
      "metadata": {
        "colab": {
          "base_uri": "https://localhost:8080/"
        },
        "id": "UpKEhLxhHch3",
        "outputId": "3badd009-b4fd-4f3e-acfd-79f122888792"
      },
      "execution_count": null,
      "outputs": [
        {
          "output_type": "stream",
          "name": "stdout",
          "text": [
            "Modelo 0 de 5.\n",
            "Modelo 1 de 5.\n",
            "Modelo 2 de 5.\n",
            "Modelo 3 de 5.\n",
            "Modelo 4 de 5.\n",
            "CPU times: user 12min 25s, sys: 20.7 s, total: 12min 46s\n",
            "Wall time: 8min 53s\n"
          ]
        }
      ]
    },
    {
      "cell_type": "code",
      "source": [
        "previsoes = obter_previsoes(conjunto=conjunto, dados_validacao=dataset_test)\n",
        "\n",
        "y_pred = tf.round(tf.reduce_mean(previsoes, axis=0))"
      ],
      "metadata": {
        "id": "VQoN9NnkHk8z"
      },
      "execution_count": null,
      "outputs": []
    },
    {
      "cell_type": "code",
      "source": [
        "covid_avaliacoes[7] = avaliar_previsoes(y_test, y_pred)"
      ],
      "metadata": {
        "colab": {
          "base_uri": "https://localhost:8080/",
          "height": 608
        },
        "id": "zeGsqmXLDHkW",
        "outputId": "3fbd1189-8726-45c6-947b-ff387d2af56b"
      },
      "execution_count": null,
      "outputs": [
        {
          "output_type": "stream",
          "name": "stdout",
          "text": [
            "              precision    recall  f1-score   support\n",
            "\n",
            "           0       0.59      0.29      0.39     19737\n",
            "           1       0.71      0.90      0.79     38795\n",
            "\n",
            "    accuracy                           0.69     58532\n",
            "   macro avg       0.65      0.59      0.59     58532\n",
            "weighted avg       0.67      0.69      0.66     58532\n",
            "\n"
          ]
        },
        {
          "output_type": "display_data",
          "data": {
            "text/plain": [
              "<Figure size 800x500 with 2 Axes>"
            ],
            "image/png": "[encoded data removed]"
          },
          "metadata": {}
        }
      ]
    },
    {
      "cell_type": "markdown",
      "source": [
        "### Comparação de modelos"
      ],
      "metadata": {
        "id": "CJaHEyWb1HSj"
      }
    },
    {
      "cell_type": "code",
      "source": [
        "comparacao = pd.DataFrame([a for a in covid_avaliacoes if a is not None])\n",
        "comparacao = comparacao.reset_index().melt(id_vars='index').rename(columns=str.title)"
      ],
      "metadata": {
        "id": "0PxQ0STCu1-K"
      },
      "execution_count": null,
      "outputs": []
    },
    {
      "cell_type": "code",
      "source": [
        "sns.barplot(data=comparacao, x='Index', y='Value', hue='Variable', palette=PALETA)\n",
        "\n",
        "plt.title('Medidas de avaliação dos modelos')\n",
        "plt.xlabel('Modelo')\n",
        "plt.ylabel('Valor')\n",
        "\n",
        "plt.ylim(0.0, 1.01)\n",
        "plt.yticks(np.arange(0.1, 1.0, 0.1))\n",
        "\n",
        "plt.legend(loc=(1.02, 0.77), frameon=True, facecolor='white');"
      ],
      "metadata": {
        "colab": {
          "base_uri": "https://localhost:8080/",
          "height": 473
        },
        "id": "_1hTtBITvUky",
        "outputId": "811c4263-be6b-4745-eeab-b98763815132"
      },
      "execution_count": null,
      "outputs": [
        {
          "output_type": "display_data",
          "data": {
            "text/plain": [
              "<Figure size 800x500 with 1 Axes>"
            ],
            "image/png": "[encoded data removed]"
          },
          "metadata": {}
        }
      ]
    },
    {
      "cell_type": "markdown",
      "source": [
        "## Projeção de notificações"
      ],
      "metadata": {
        "id": "QF600sHcucrO"
      }
    },
    {
      "cell_type": "markdown",
      "source": [
        "Projeção (time series) de notificações por local (detalhamento variável) pelas próximas 8 semanas."
      ],
      "metadata": {
        "id": "l7GyCVmtGA9x"
      }
    },
    {
      "cell_type": "code",
      "source": [
        "metricas = [None] * 10"
      ],
      "metadata": {
        "id": "OrWWf9_6bSzk"
      },
      "execution_count": 104,
      "outputs": []
    },
    {
      "cell_type": "markdown",
      "source": [
        "### Hiperparâmetros"
      ],
      "metadata": {
        "id": "51wnx_wMyHKo"
      }
    },
    {
      "cell_type": "code",
      "source": [
        "LOTE_TAMANHO = 128\n",
        "\n",
        "CAMADAS = 4\n",
        "\n",
        "CAMADA_UNIDADES      = 64\n",
        "CAMADA_INICIALIZADOR = 'he_uniform'\n",
        "CAMADA_ATIVACAO      = 'relu'\n",
        "\n",
        "SAIDA_UNIDADES = 1\n",
        "SAIDA_ATIVACAO = 'linear'\n",
        "\n",
        "PERDA       = 'mae'\n",
        "OTIMIZADOR  = Adam\n",
        "APRENDIZADO = 0.001\n",
        "METRICAS    = ['mae', 'mse']\n",
        "\n",
        "ITERACOES = 200"
      ],
      "metadata": {
        "id": "XGPi4hFSyI_-"
      },
      "execution_count": 105,
      "outputs": []
    },
    {
      "cell_type": "markdown",
      "source": [
        "### Dados"
      ],
      "metadata": {
        "id": "kXYglCsFkSaE"
      }
    },
    {
      "cell_type": "code",
      "source": [
        "df_populacao  = pd.read_csv('https://raw.githubusercontent.com/flohmannjr/PJI410/main/dados/PJI410_populacao.csv')\n",
        "df_municipios = pd.read_csv('https://raw.githubusercontent.com/flohmannjr/PJI410/main/dados/PJI410_municipios.csv')\n",
        "df_unidades   = pd.read_csv('https://raw.githubusercontent.com/flohmannjr/PJI410/main/dados/PJI410_unidades.csv')\n",
        "\n",
        "df_notificacoes_por_unidade = pd.read_csv('https://raw.githubusercontent.com/flohmannjr/PJI410/main/dados/PJI410_notificacoes_por_unidade.zip', parse_dates=['Segunda-feira'])\n",
        "df_notificacoes_por_unidade = df_notificacoes_por_unidade[['UF', 'Municipio', 'Unidade', 'Segunda-feira', 'Quantidade']]\n",
        "df_notificacoes_por_unidade = df_notificacoes_por_unidade.sort_values(by=['UF', 'Municipio', 'Unidade', 'Segunda-feira']).reset_index(drop=True)\n",
        "\n",
        "df_notificacoes_por_municipio = df_notificacoes_por_unidade[['UF', 'Municipio', 'Segunda-feira', 'Quantidade']].groupby(by=['UF', 'Municipio', 'Segunda-feira']).sum()\n",
        "df_notificacoes_por_municipio = df_notificacoes_por_municipio.sort_index().reset_index()\n",
        "\n",
        "df_notificacoes_por_uf = df_notificacoes_por_unidade[['UF', 'Segunda-feira', 'Quantidade']].groupby(by=['UF', 'Segunda-feira']).sum()\n",
        "df_notificacoes_por_uf = df_notificacoes_por_uf.sort_index().reset_index()"
      ],
      "metadata": {
        "id": "lHqo9nUOknm4"
      },
      "execution_count": 106,
      "outputs": []
    },
    {
      "cell_type": "markdown",
      "source": [
        "#### Aleatórios"
      ],
      "metadata": {
        "id": "Zd8FBXwqw-Lb"
      }
    },
    {
      "cell_type": "code",
      "source": [
        "# uf_cod, uf_desc = df_populacao[['UF', 'Nome']].sample().values[0]\n",
        "# print(f\"UF: {uf_cod} - {uf_desc}\")\n",
        "# display(df_notificacoes_por_uf[df_notificacoes_por_uf['UF'] == uf_cod][:5])\n",
        "# notificacoes_semanais(df_notificacoes_por_uf[df_notificacoes_por_uf['UF'] == uf_cod], f\"{uf_cod} - {uf_desc}\")"
      ],
      "metadata": {
        "id": "FvvYhjHMi0nY"
      },
      "execution_count": 107,
      "outputs": []
    },
    {
      "cell_type": "code",
      "source": [
        "# mu_cod, mu_desc = df_municipios[['Codigo', 'Municipio']].sample().values[0]\n",
        "# print(f\"Município: {mu_cod} - {mu_desc}\")\n",
        "# display(df_notificacoes_por_municipio[df_notificacoes_por_municipio['Municipio'] == mu_cod][:5])\n",
        "# notificacoes_semanais(df_notificacoes_por_municipio[df_notificacoes_por_municipio['Municipio'] == mu_cod], f\"{mu_cod} - {mu_desc}\")"
      ],
      "metadata": {
        "id": "MZ2KqGQBvkpI"
      },
      "execution_count": 108,
      "outputs": []
    },
    {
      "cell_type": "code",
      "source": [
        "# un_cod, un_desc = df_unidades[['Codigo', 'Unidade']].sample().values[0]\n",
        "# print(f\"Unidade: {un_cod} - {un_desc}\")\n",
        "# display(df_notificacoes_por_unidade[df_notificacoes_por_unidade['Unidade'] == un_cod][:5])\n",
        "# notificacoes_semanais(df_notificacoes_por_unidade[df_notificacoes_por_unidade['Unidade'] == un_cod], f\"{un_cod} - {un_desc}\")"
      ],
      "metadata": {
        "id": "VTY1eExCvkjV"
      },
      "execution_count": 109,
      "outputs": []
    },
    {
      "cell_type": "markdown",
      "source": [
        "#### Dados para testes"
      ],
      "metadata": {
        "id": "cvJjohwXmXX2"
      }
    },
    {
      "cell_type": "code",
      "source": [
        "uf_cod  = 'RJ'\n",
        "uf_desc = df_populacao['Nome'][df_populacao['UF'] == uf_cod].values[0]\n",
        "\n",
        "dados = df_notificacoes_por_uf[df_notificacoes_por_uf['UF'] == uf_cod]\n",
        "local = f\"{uf_cod} - {uf_desc}\"\n",
        "\n",
        "quantidades = dados['Quantidade'].to_numpy()\n",
        "\n",
        "# display(dados[:5])\n",
        "# notificacoes_semanais(dados, local)"
      ],
      "metadata": {
        "id": "W2WcaVtJLCLa"
      },
      "execution_count": 110,
      "outputs": []
    },
    {
      "cell_type": "code",
      "source": [
        "treino_tamanho = int(len(dados) * 0.8)  # 80% da base\n",
        "treino_tamanho"
      ],
      "metadata": {
        "colab": {
          "base_uri": "https://localhost:8080/"
        },
        "id": "5U5jJyN0UAYX",
        "outputId": "ac9f2c3d-bb6d-455c-ad94-8da9eea0fff2"
      },
      "execution_count": 111,
      "outputs": [
        {
          "output_type": "execute_result",
          "data": {
            "text/plain": [
              "89"
            ]
          },
          "metadata": {},
          "execution_count": 111
        }
      ]
    },
    {
      "cell_type": "code",
      "source": [
        "X_train = dados[:treino_tamanho]['Segunda-feira'].to_numpy()\n",
        "y_train = dados[:treino_tamanho]['Quantidade'].to_numpy()\n",
        "\n",
        "X_test = dados[treino_tamanho:]['Segunda-feira'].to_numpy()\n",
        "y_test = dados[treino_tamanho:]['Quantidade'].to_numpy()\n",
        "\n",
        "len(X_train), len(y_train), len(X_test), len(y_test)"
      ],
      "metadata": {
        "colab": {
          "base_uri": "https://localhost:8080/"
        },
        "id": "A2Mh1F34Y3Fk",
        "outputId": "4220be84-3e1b-4195-f457-e47f7a8256a4"
      },
      "execution_count": 112,
      "outputs": [
        {
          "output_type": "execute_result",
          "data": {
            "text/plain": [
              "(89, 89, 23, 23)"
            ]
          },
          "metadata": {},
          "execution_count": 112
        }
      ]
    },
    {
      "cell_type": "markdown",
      "source": [
        "### Modelo 1: Denso (7 janelas, 1 horizonte)"
      ],
      "metadata": {
        "id": "xBlUiuYyOBqN"
      }
    },
    {
      "cell_type": "code",
      "source": [
        "janela_tamanho = 7\n",
        "horizonte_tamanho = 1\n",
        "\n",
        "janelas, horizontes = criar_janelas(quantidades, janela_tamanho, horizonte_tamanho)\n",
        "\n",
        "janelas_treino, janelas_teste, horizontes_treino, horizontes_teste = separar_janelas_treino_teste(janelas, horizontes, tamanho_teste=0.2)"
      ],
      "metadata": {
        "id": "k322dJqXLig_"
      },
      "execution_count": 113,
      "outputs": []
    },
    {
      "cell_type": "code",
      "source": [
        "quantidades, len(quantidades)"
      ],
      "metadata": {
        "colab": {
          "base_uri": "https://localhost:8080/"
        },
        "id": "UcfiZl5zYq2B",
        "outputId": "49cd8885-7b29-4aa1-f9b4-7fffdd2a1997"
      },
      "execution_count": 114,
      "outputs": [
        {
          "output_type": "execute_result",
          "data": {
            "text/plain": [
              "(array([  28, 1219, 2486, 2481, 2143, 2180, 2179, 2088, 2629, 2870, 3852,\n",
              "        4970, 5556, 5420, 5752, 4808, 4669, 4756, 4370, 4458, 4388, 4296,\n",
              "        3930, 3443, 2808, 2740, 2615, 2705, 2620, 2527, 2435, 2730, 2900,\n",
              "        3194, 2976, 2751, 2257, 1895, 1711, 1559, 1360, 1097,  931,  957,\n",
              "         849,  849,  807,  856, 1181, 1390, 1615, 1464, 1491, 1321, 1850,\n",
              "        2364, 2792, 1852, 1350, 1061,  764,  533,  675,  597,  552,  583,\n",
              "         411,  462,  469,  581,  575,  638,  652,  822,  963, 1078, 1010,\n",
              "        1301, 1185, 1053,  757,  637,  480,  433,  479,  419,  354,  321,\n",
              "         283,  281,  282,  254,  252,  244,  251,  307,  369,  602,  866,\n",
              "         829,  670,  574,  443,  305,  318,  292,  228,  181,  197,  169,\n",
              "         148,   76]), 112)"
            ]
          },
          "metadata": {},
          "execution_count": 114
        }
      ]
    },
    {
      "cell_type": "code",
      "source": [
        "janelas[:5], len(janelas)"
      ],
      "metadata": {
        "colab": {
          "base_uri": "https://localhost:8080/"
        },
        "id": "8RE8RSmFY6P9",
        "outputId": "4759ebb9-1e39-406c-8d52-8f5ab625effb"
      },
      "execution_count": 115,
      "outputs": [
        {
          "output_type": "execute_result",
          "data": {
            "text/plain": [
              "(array([[  28, 1219, 2486, 2481, 2143, 2180, 2179],\n",
              "        [1219, 2486, 2481, 2143, 2180, 2179, 2088],\n",
              "        [2486, 2481, 2143, 2180, 2179, 2088, 2629],\n",
              "        [2481, 2143, 2180, 2179, 2088, 2629, 2870],\n",
              "        [2143, 2180, 2179, 2088, 2629, 2870, 3852]]), 105)"
            ]
          },
          "metadata": {},
          "execution_count": 115
        }
      ]
    },
    {
      "cell_type": "code",
      "source": [
        "horizontes[:5], len(horizontes)"
      ],
      "metadata": {
        "colab": {
          "base_uri": "https://localhost:8080/"
        },
        "id": "jJoTwlAeZTCb",
        "outputId": "33f1354f-988c-40b4-c2fc-a30c849ae6d4"
      },
      "execution_count": 116,
      "outputs": [
        {
          "output_type": "execute_result",
          "data": {
            "text/plain": [
              "(array([[2088],\n",
              "        [2629],\n",
              "        [2870],\n",
              "        [3852],\n",
              "        [4970]]), 105)"
            ]
          },
          "metadata": {},
          "execution_count": 116
        }
      ]
    },
    {
      "cell_type": "code",
      "source": [],
      "metadata": {
        "id": "g1vRCljNZTYO"
      },
      "execution_count": 116,
      "outputs": []
    },
    {
      "cell_type": "code",
      "source": [
        "%%time\n",
        "\n",
        "tf.random.set_seed(SEMENTE)\n",
        "\n",
        "modelo_nome = 'modelo_1_denso_7j_1h'\n",
        "\n",
        "modelo = Sequential(name=modelo_nome)\n",
        "\n",
        "[modelo.add(Dense(units=CAMADA_UNIDADES, kernel_initializer=CAMADA_INICIALIZADOR, activation=CAMADA_ATIVACAO, name=f'camada_relu_{c}')) for c in range(CAMADAS)]\n",
        "modelo.add(Dense(units=horizonte_tamanho, activation=SAIDA_ATIVACAO, name='camada_saida'))\n",
        "\n",
        "modelo.compile(loss=PERDA,\n",
        "               optimizer=OTIMIZADOR(learning_rate=APRENDIZADO),\n",
        "               metrics=METRICAS)\n",
        "\n",
        "modelo.fit(x=janelas_treino,\n",
        "           y=horizontes_treino,\n",
        "           epochs=ITERACOES,\n",
        "           batch_size=LOTE_TAMANHO,\n",
        "           validation_data=(janelas_teste, horizontes_teste),\n",
        "           callbacks=[EarlyStopping(monitor='val_loss', patience=100, restore_best_weights=True),\n",
        "                      ReduceLROnPlateau(monitor='val_loss', patience=50)],\n",
        "           verbose=0)\n",
        "\n",
        "previsoes = modelo.predict(janelas_teste, verbose=0)"
      ],
      "metadata": {
        "colab": {
          "base_uri": "https://localhost:8080/"
        },
        "id": "wAhNFiPzNp43",
        "outputId": "acd3dc87-c1e4-47b8-c239-756288282c07"
      },
      "execution_count": 117,
      "outputs": [
        {
          "output_type": "stream",
          "name": "stdout",
          "text": [
            "CPU times: user 10.3 s, sys: 248 ms, total: 10.6 s\n",
            "Wall time: 11.7 s\n"
          ]
        }
      ]
    },
    {
      "cell_type": "code",
      "source": [
        "# grafico_series(X_teste=X_test[-len(janelas_teste):], y_teste=tf.squeeze(horizontes_teste),\n",
        "#                X_previsao=X_test[-len(janelas_teste):], y_previsao=tf.squeeze(previsoes),\n",
        "#                inicio=-60)\n",
        "\n",
        "grafico_series(X_teste=X_test[-len(janelas_teste):], y_teste=horizontes_teste[:, 0],\n",
        "               X_previsao=X_test[-len(janelas_teste):], y_previsao=previsoes[:, 0],\n",
        "               inicio=-60)"
      ],
      "metadata": {
        "colab": {
          "base_uri": "https://localhost:8080/",
          "height": 474
        },
        "id": "N2O8Z_09Pl-9",
        "outputId": "8a89b707-29b8-4f6f-f69e-8a0f03dd76d7"
      },
      "execution_count": 118,
      "outputs": [
        {
          "output_type": "display_data",
          "data": {
            "text/plain": [
              "<Figure size 800x500 with 1 Axes>"
            ],
            "image/png": "[encoded data removed]"
          },
          "metadata": {}
        }
      ]
    },
    {
      "cell_type": "code",
      "source": [
        "# metricas[1] = metricas_modelo(tf.squeeze(horizontes_teste), tf.squeeze(previsoes))\n",
        "metricas[1] = metricas_modelo(horizontes_teste[:, 0], y_previsao=previsoes[:, 0])"
      ],
      "metadata": {
        "id": "2fFYdD9wPl46"
      },
      "execution_count": 119,
      "outputs": []
    },
    {
      "cell_type": "code",
      "source": [
        "metricas[1]"
      ],
      "metadata": {
        "colab": {
          "base_uri": "https://localhost:8080/"
        },
        "id": "lXpHsP9hPl1z",
        "outputId": "24619b91-8996-47e0-b98c-5e2d7d7b3133"
      },
      "execution_count": 120,
      "outputs": [
        {
          "output_type": "execute_result",
          "data": {
            "text/plain": [
              "{'Mean Absolute Error': 43.58286830357143,\n",
              " 'Root Mean Squared Error': 70.98683764434885,\n",
              " 'Mean Absolute Percentage Error': 0.13219444811771788}"
            ]
          },
          "metadata": {},
          "execution_count": 120
        }
      ]
    },
    {
      "cell_type": "markdown",
      "source": [
        "### Modelo 2: Denso (24 janelas, 8 horizontes)"
      ],
      "metadata": {
        "id": "PEi1-XbzalYA"
      }
    },
    {
      "cell_type": "code",
      "source": [
        "janela_tamanho = 24\n",
        "horizonte_tamanho = 8\n",
        "\n",
        "janelas, horizontes = criar_janelas(quantidades, janela_tamanho, horizonte_tamanho)\n",
        "\n",
        "janelas_treino, janelas_teste, horizontes_treino, horizontes_teste = separar_janelas_treino_teste(janelas, horizontes, tamanho_teste=0.2)"
      ],
      "metadata": {
        "id": "ro_ofFzvalYB"
      },
      "execution_count": 121,
      "outputs": []
    },
    {
      "cell_type": "code",
      "source": [
        "quantidades, len(quantidades)"
      ],
      "metadata": {
        "colab": {
          "base_uri": "https://localhost:8080/"
        },
        "outputId": "69924b9d-c417-4d58-e3c6-ba0ef11844d9",
        "id": "3uWQ_YWcalYB"
      },
      "execution_count": 122,
      "outputs": [
        {
          "output_type": "execute_result",
          "data": {
            "text/plain": [
              "(array([  28, 1219, 2486, 2481, 2143, 2180, 2179, 2088, 2629, 2870, 3852,\n",
              "        4970, 5556, 5420, 5752, 4808, 4669, 4756, 4370, 4458, 4388, 4296,\n",
              "        3930, 3443, 2808, 2740, 2615, 2705, 2620, 2527, 2435, 2730, 2900,\n",
              "        3194, 2976, 2751, 2257, 1895, 1711, 1559, 1360, 1097,  931,  957,\n",
              "         849,  849,  807,  856, 1181, 1390, 1615, 1464, 1491, 1321, 1850,\n",
              "        2364, 2792, 1852, 1350, 1061,  764,  533,  675,  597,  552,  583,\n",
              "         411,  462,  469,  581,  575,  638,  652,  822,  963, 1078, 1010,\n",
              "        1301, 1185, 1053,  757,  637,  480,  433,  479,  419,  354,  321,\n",
              "         283,  281,  282,  254,  252,  244,  251,  307,  369,  602,  866,\n",
              "         829,  670,  574,  443,  305,  318,  292,  228,  181,  197,  169,\n",
              "         148,   76]), 112)"
            ]
          },
          "metadata": {},
          "execution_count": 122
        }
      ]
    },
    {
      "cell_type": "code",
      "source": [
        "janelas[:5], len(janelas)"
      ],
      "metadata": {
        "colab": {
          "base_uri": "https://localhost:8080/"
        },
        "outputId": "dd26469d-aea7-4c18-fddc-9308f7331f92",
        "id": "WmE4DWUkalYB"
      },
      "execution_count": 123,
      "outputs": [
        {
          "output_type": "execute_result",
          "data": {
            "text/plain": [
              "(array([[  28, 1219, 2486, 2481, 2143, 2180, 2179, 2088, 2629, 2870, 3852,\n",
              "         4970, 5556, 5420, 5752, 4808, 4669, 4756, 4370, 4458, 4388, 4296,\n",
              "         3930, 3443],\n",
              "        [1219, 2486, 2481, 2143, 2180, 2179, 2088, 2629, 2870, 3852, 4970,\n",
              "         5556, 5420, 5752, 4808, 4669, 4756, 4370, 4458, 4388, 4296, 3930,\n",
              "         3443, 2808],\n",
              "        [2486, 2481, 2143, 2180, 2179, 2088, 2629, 2870, 3852, 4970, 5556,\n",
              "         5420, 5752, 4808, 4669, 4756, 4370, 4458, 4388, 4296, 3930, 3443,\n",
              "         2808, 2740],\n",
              "        [2481, 2143, 2180, 2179, 2088, 2629, 2870, 3852, 4970, 5556, 5420,\n",
              "         5752, 4808, 4669, 4756, 4370, 4458, 4388, 4296, 3930, 3443, 2808,\n",
              "         2740, 2615],\n",
              "        [2143, 2180, 2179, 2088, 2629, 2870, 3852, 4970, 5556, 5420, 5752,\n",
              "         4808, 4669, 4756, 4370, 4458, 4388, 4296, 3930, 3443, 2808, 2740,\n",
              "         2615, 2705]]), 81)"
            ]
          },
          "metadata": {},
          "execution_count": 123
        }
      ]
    },
    {
      "cell_type": "code",
      "source": [
        "horizontes[:5], len(horizontes)"
      ],
      "metadata": {
        "colab": {
          "base_uri": "https://localhost:8080/"
        },
        "outputId": "37020265-7dc5-494f-c134-39292b26192d",
        "id": "eET7sxNIalYB"
      },
      "execution_count": 124,
      "outputs": [
        {
          "output_type": "execute_result",
          "data": {
            "text/plain": [
              "(array([[2808, 2740, 2615, 2705, 2620, 2527, 2435, 2730],\n",
              "        [2740, 2615, 2705, 2620, 2527, 2435, 2730, 2900],\n",
              "        [2615, 2705, 2620, 2527, 2435, 2730, 2900, 3194],\n",
              "        [2705, 2620, 2527, 2435, 2730, 2900, 3194, 2976],\n",
              "        [2620, 2527, 2435, 2730, 2900, 3194, 2976, 2751]]), 81)"
            ]
          },
          "metadata": {},
          "execution_count": 124
        }
      ]
    },
    {
      "cell_type": "code",
      "source": [
        "len(janelas_treino), len(janelas_teste), len(horizontes_treino), len(horizontes_teste)"
      ],
      "metadata": {
        "colab": {
          "base_uri": "https://localhost:8080/"
        },
        "id": "inYSAbEIalYB",
        "outputId": "63addfd6-3ed8-4b0b-9eda-5a70283bd0aa"
      },
      "execution_count": 125,
      "outputs": [
        {
          "output_type": "execute_result",
          "data": {
            "text/plain": [
              "(64, 17, 64, 17)"
            ]
          },
          "metadata": {},
          "execution_count": 125
        }
      ]
    },
    {
      "cell_type": "code",
      "source": [
        "%%time\n",
        "\n",
        "tf.random.set_seed(SEMENTE)\n",
        "\n",
        "modelo_nome = 'modelo_2_denso_24j_8h'\n",
        "\n",
        "modelo = Sequential(name=modelo_nome)\n",
        "\n",
        "[modelo.add(Dense(units=CAMADA_UNIDADES, kernel_initializer=CAMADA_INICIALIZADOR, activation=CAMADA_ATIVACAO, name=f'camada_relu_{c}')) for c in range(CAMADAS)]\n",
        "modelo.add(Dense(units=horizonte_tamanho, activation=SAIDA_ATIVACAO, name='camada_saida'))\n",
        "\n",
        "modelo.compile(loss=PERDA,\n",
        "               optimizer=OTIMIZADOR(learning_rate=APRENDIZADO),\n",
        "               metrics=METRICAS)\n",
        "\n",
        "modelo.fit(x=janelas_treino,\n",
        "           y=horizontes_treino,\n",
        "           epochs=ITERACOES,\n",
        "           batch_size=LOTE_TAMANHO,\n",
        "           validation_data=(janelas_teste, horizontes_teste),\n",
        "           callbacks=[EarlyStopping(monitor='val_loss', patience=100, restore_best_weights=True),\n",
        "                      ReduceLROnPlateau(monitor='val_loss', patience=50)],\n",
        "           verbose=0)\n",
        "\n",
        "previsoes = modelo.predict(janelas_teste, verbose=0)"
      ],
      "metadata": {
        "colab": {
          "base_uri": "https://localhost:8080/"
        },
        "outputId": "1d72352d-b8c5-47aa-a937-aa47f21ccc06",
        "id": "qqcQDK2aalYB"
      },
      "execution_count": 126,
      "outputs": [
        {
          "output_type": "stream",
          "name": "stdout",
          "text": [
            "CPU times: user 11.5 s, sys: 327 ms, total: 11.8 s\n",
            "Wall time: 22.4 s\n"
          ]
        }
      ]
    },
    {
      "cell_type": "code",
      "source": [
        "X_test[-len(janelas_teste):]"
      ],
      "metadata": {
        "colab": {
          "base_uri": "https://localhost:8080/"
        },
        "id": "rxUZKtyvojcG",
        "outputId": "f8e1be3c-c770-4e2f-c86d-383885ef8cd8"
      },
      "execution_count": 127,
      "outputs": [
        {
          "output_type": "execute_result",
          "data": {
            "text/plain": [
              "array(['2022-10-24T00:00:00.000000000', '2022-10-31T00:00:00.000000000',\n",
              "       '2022-11-07T00:00:00.000000000', '2022-11-14T00:00:00.000000000',\n",
              "       '2022-11-21T00:00:00.000000000', '2022-11-28T00:00:00.000000000',\n",
              "       '2022-12-05T00:00:00.000000000', '2022-12-12T00:00:00.000000000',\n",
              "       '2022-12-19T00:00:00.000000000', '2022-12-26T00:00:00.000000000',\n",
              "       '2023-01-02T00:00:00.000000000', '2023-01-09T00:00:00.000000000',\n",
              "       '2023-01-16T00:00:00.000000000', '2023-01-23T00:00:00.000000000',\n",
              "       '2023-01-30T00:00:00.000000000', '2023-02-06T00:00:00.000000000',\n",
              "       '2023-02-13T00:00:00.000000000'], dtype='datetime64[ns]')"
            ]
          },
          "metadata": {},
          "execution_count": 127
        }
      ]
    },
    {
      "cell_type": "code",
      "source": [
        "horizontes_teste[:, 0]"
      ],
      "metadata": {
        "colab": {
          "base_uri": "https://localhost:8080/"
        },
        "id": "XIfa7XV_oo-z",
        "outputId": "d4174236-ce85-40ca-af0b-9ef6cd2143af"
      },
      "execution_count": 128,
      "outputs": [
        {
          "output_type": "execute_result",
          "data": {
            "text/plain": [
              "array([283, 281, 282, 254, 252, 244, 251, 307, 369, 602, 866, 829, 670,\n",
              "       574, 443, 305, 318])"
            ]
          },
          "metadata": {},
          "execution_count": 128
        }
      ]
    },
    {
      "cell_type": "code",
      "source": [
        "previsoes[:, 0]"
      ],
      "metadata": {
        "colab": {
          "base_uri": "https://localhost:8080/"
        },
        "id": "_z3qQYaqooo8",
        "outputId": "525a5555-72bd-4c71-adce-7756f18022f2"
      },
      "execution_count": 129,
      "outputs": [
        {
          "output_type": "execute_result",
          "data": {
            "text/plain": [
              "array([334.05185, 316.12872, 368.01755, 404.04602, 363.2126 , 383.6858 ,\n",
              "       383.46674, 377.19006, 336.4977 , 522.42883, 585.0569 , 720.28046,\n",
              "       793.5827 , 584.03845, 428.95218, 314.06897, 236.70909],\n",
              "      dtype=float32)"
            ]
          },
          "metadata": {},
          "execution_count": 129
        }
      ]
    },
    {
      "cell_type": "code",
      "source": [],
      "metadata": {
        "id": "ZsnVR98qool2"
      },
      "execution_count": 129,
      "outputs": []
    },
    {
      "cell_type": "code",
      "source": [],
      "metadata": {
        "id": "t3k9A2BJooiw"
      },
      "execution_count": 129,
      "outputs": []
    },
    {
      "cell_type": "code",
      "source": [],
      "metadata": {
        "id": "ElN0KmgcokCg"
      },
      "execution_count": 129,
      "outputs": []
    },
    {
      "cell_type": "code",
      "source": [
        "# grafico_series(X_teste=X_test[-len(janelas_teste):], y_teste=tf.squeeze(horizontes_teste),\n",
        "#                X_previsao=X_test[-len(janelas_teste):], y_previsao=tf.squeeze(previsoes),\n",
        "#                inicio=-60)\n",
        "\n",
        "grafico_series(X_teste=X_test[-len(janelas_teste):], y_teste=horizontes_teste[:, 0],\n",
        "               X_previsao=X_test[-len(janelas_teste):], y_previsao=previsoes[:, 0],\n",
        "               inicio=-60)"
      ],
      "metadata": {
        "colab": {
          "base_uri": "https://localhost:8080/",
          "height": 474
        },
        "outputId": "551c3752-20bd-4c97-f1ad-9eb4a02748f7",
        "id": "Vx3oa29oalYC"
      },
      "execution_count": 130,
      "outputs": [
        {
          "output_type": "display_data",
          "data": {
            "text/plain": [
              "<Figure size 800x500 with 1 Axes>"
            ],
            "image/png": "[encoded data removed]"
          },
          "metadata": {}
        }
      ]
    },
    {
      "cell_type": "code",
      "source": [
        "# metricas[2] = metricas_modelo(tf.squeeze(horizontes_teste), tf.squeeze(previsoes))\n",
        "metricas[2] = metricas_modelo(horizontes_teste[:, 0], y_previsao=previsoes[:, 0])"
      ],
      "metadata": {
        "id": "STg5mSN3alYC"
      },
      "execution_count": 131,
      "outputs": []
    },
    {
      "cell_type": "code",
      "source": [
        "metricas[2]"
      ],
      "metadata": {
        "colab": {
          "base_uri": "https://localhost:8080/"
        },
        "outputId": "f71896e9-65ce-4e41-8d02-cdba801d850c",
        "id": "8GdTmck1alYC"
      },
      "execution_count": 132,
      "outputs": [
        {
          "output_type": "execute_result",
          "data": {
            "text/plain": [
              "{'Mean Absolute Error': 89.15084031048943,\n",
              " 'Root Mean Squared Error': 110.74766829232196,\n",
              " 'Mean Absolute Percentage Error': 0.24507032592447842}"
            ]
          },
          "metadata": {},
          "execution_count": 132
        }
      ]
    },
    {
      "cell_type": "markdown",
      "source": [
        "### Comparação dos modelos"
      ],
      "metadata": {
        "id": "WPqSJZ6tb3mw"
      }
    },
    {
      "cell_type": "code",
      "source": [
        "df_metricas = pd.DataFrame([m for m in metricas if m is not None])\n",
        "df_metricas.T"
      ],
      "metadata": {
        "id": "gGpdJZvsb69d",
        "colab": {
          "base_uri": "https://localhost:8080/",
          "height": 143
        },
        "outputId": "f941e956-db7c-4472-8761-e50cf97b832e"
      },
      "execution_count": 133,
      "outputs": [
        {
          "output_type": "execute_result",
          "data": {
            "text/plain": [
              "                                        0           1\n",
              "Mean Absolute Error             43.582868   89.150840\n",
              "Root Mean Squared Error         70.986838  110.747668\n",
              "Mean Absolute Percentage Error   0.132194    0.245070"
            ],
            "text/html": [
              "\n",
              "  <div id=\"df-7f20d881-c03f-40c2-98bf-be328f0d0b0f\">\n",
              "    <div class=\"colab-df-container\">\n",
              "      <div>\n",
              "<style scoped>\n",
              "    .dataframe tbody tr th:only-of-type {\n",
              "        vertical-align: middle;\n",
              "    }\n",
              "\n",
              "    .dataframe tbody tr th {\n",
              "        vertical-align: top;\n",
              "    }\n",
              "\n",
              "    .dataframe thead th {\n",
              "        text-align: right;\n",
              "    }\n",
              "</style>\n",
              "<table border=\"1\" class=\"dataframe\">\n",
              "  <thead>\n",
              "    <tr style=\"text-align: right;\">\n",
              "      <th></th>\n",
              "      <th>0</th>\n",
              "      <th>1</th>\n",
              "    </tr>\n",
              "  </thead>\n",
              "  <tbody>\n",
              "    <tr>\n",
              "      <th>Mean Absolute Error</th>\n",
              "      <td>43.582868</td>\n",
              "      <td>89.150840</td>\n",
              "    </tr>\n",
              "    <tr>\n",
              "      <th>Root Mean Squared Error</th>\n",
              "      <td>70.986838</td>\n",
              "      <td>110.747668</td>\n",
              "    </tr>\n",
              "    <tr>\n",
              "      <th>Mean Absolute Percentage Error</th>\n",
              "      <td>0.132194</td>\n",
              "      <td>0.245070</td>\n",
              "    </tr>\n",
              "  </tbody>\n",
              "</table>\n",
              "</div>\n",
              "      <button class=\"colab-df-convert\" onclick=\"convertToInteractive('df-7f20d881-c03f-40c2-98bf-be328f0d0b0f')\"\n",
              "              title=\"Convert this dataframe to an interactive table.\"\n",
              "              style=\"display:none;\">\n",
              "        \n",
              "  <svg xmlns=\"http://www.w3.org/2000/svg\" height=\"24px\"viewBox=\"0 0 24 24\"\n",
              "       width=\"24px\">\n",
              "    <path d=\"M0 0h24v24H0V0z\" fill=\"none\"/>\n",
              "    <path d=\"M18.56 5.44l.94 2.06.94-2.06 2.06-.94-2.06-.94-.94-2.06-.94 2.06-2.06.94zm-11 1L8.5 8.5l.94-2.06 2.06-.94-2.06-.94L8.5 2.5l-.94 2.06-2.06.94zm10 10l.94 2.06.94-2.06 2.06-.94-2.06-.94-.94-2.06-.94 2.06-2.06.94z\"/><path d=\"M17.41 7.96l-1.37-1.37c-.4-.4-.92-.59-1.43-.59-.52 0-1.04.2-1.43.59L10.3 9.45l-7.72 7.72c-.78.78-.78 2.05 0 2.83L4 21.41c.39.39.9.59 1.41.59.51 0 1.02-.2 1.41-.59l7.78-7.78 2.81-2.81c.8-.78.8-2.07 0-2.86zM5.41 20L4 18.59l7.72-7.72 1.47 1.35L5.41 20z\"/>\n",
              "  </svg>\n",
              "      </button>\n",
              "      \n",
              "  <style>\n",
              "    .colab-df-container {\n",
              "      display:flex;\n",
              "      flex-wrap:wrap;\n",
              "      gap: 12px;\n",
              "    }\n",
              "\n",
              "    .colab-df-convert {\n",
              "      background-color: #E8F0FE;\n",
              "      border: none;\n",
              "      border-radius: 50%;\n",
              "      cursor: pointer;\n",
              "      display: none;\n",
              "      fill: #1967D2;\n",
              "      height: 32px;\n",
              "      padding: 0 0 0 0;\n",
              "      width: 32px;\n",
              "    }\n",
              "\n",
              "    .colab-df-convert:hover {\n",
              "      background-color: #E2EBFA;\n",
              "      box-shadow: 0px 1px 2px rgba(60, 64, 67, 0.3), 0px 1px 3px 1px rgba(60, 64, 67, 0.15);\n",
              "      fill: #174EA6;\n",
              "    }\n",
              "\n",
              "    [theme=dark] .colab-df-convert {\n",
              "      background-color: #3B4455;\n",
              "      fill: #D2E3FC;\n",
              "    }\n",
              "\n",
              "    [theme=dark] .colab-df-convert:hover {\n",
              "      background-color: #434B5C;\n",
              "      box-shadow: 0px 1px 3px 1px rgba(0, 0, 0, 0.15);\n",
              "      filter: drop-shadow(0px 1px 2px rgba(0, 0, 0, 0.3));\n",
              "      fill: #FFFFFF;\n",
              "    }\n",
              "  </style>\n",
              "\n",
              "      <script>\n",
              "        const buttonEl =\n",
              "          document.querySelector('#df-7f20d881-c03f-40c2-98bf-be328f0d0b0f button.colab-df-convert');\n",
              "        buttonEl.style.display =\n",
              "          google.colab.kernel.accessAllowed ? 'block' : 'none';\n",
              "\n",
              "        async function convertToInteractive(key) {\n",
              "          const element = document.querySelector('#df-7f20d881-c03f-40c2-98bf-be328f0d0b0f');\n",
              "          const dataTable =\n",
              "            await google.colab.kernel.invokeFunction('convertToInteractive',\n",
              "                                                     [key], {});\n",
              "          if (!dataTable) return;\n",
              "\n",
              "          const docLinkHtml = 'Like what you see? Visit the ' +\n",
              "            '<a target=\"_blank\" href=https://colab.research.google.com/notebooks/data_table.ipynb>data table notebook</a>'\n",
              "            + ' to learn more about interactive tables.';\n",
              "          element.innerHTML = '';\n",
              "          dataTable['output_type'] = 'display_data';\n",
              "          await google.colab.output.renderOutput(dataTable, element);\n",
              "          const docLink = document.createElement('div');\n",
              "          docLink.innerHTML = docLinkHtml;\n",
              "          element.appendChild(docLink);\n",
              "        }\n",
              "      </script>\n",
              "    </div>\n",
              "  </div>\n",
              "  "
            ]
          },
          "metadata": {},
          "execution_count": 133
        }
      ]
    },
    {
      "cell_type": "code",
      "source": [
        "df_metricas['Mean Absolute Error'].sort_values()"
      ],
      "metadata": {
        "colab": {
          "base_uri": "https://localhost:8080/"
        },
        "id": "fQcZwQVVHGYW",
        "outputId": "efd3627f-1d36-4840-e880-0a693f9ec5af"
      },
      "execution_count": 134,
      "outputs": [
        {
          "output_type": "execute_result",
          "data": {
            "text/plain": [
              "0    43.582868\n",
              "1    89.150840\n",
              "Name: Mean Absolute Error, dtype: float64"
            ]
          },
          "metadata": {},
          "execution_count": 134
        }
      ]
    },
    {
      "cell_type": "code",
      "source": [],
      "metadata": {
        "id": "2gh9zh1sQ_y0"
      },
      "execution_count": 134,
      "outputs": []
    }
  ]
}