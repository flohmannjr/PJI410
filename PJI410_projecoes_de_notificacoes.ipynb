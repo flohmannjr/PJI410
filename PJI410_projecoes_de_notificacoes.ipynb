{
  "nbformat": 4,
  "nbformat_minor": 0,
  "metadata": {
    "colab": {
      "provenance": [],
      "toc_visible": true,
      "authorship_tag": "ABX9TyPvkVQhJb7lQqm7SDIwtEBa",
      "include_colab_link": true
    },
    "kernelspec": {
      "name": "python3",
      "display_name": "Python 3"
    },
    "language_info": {
      "name": "python"
    },
    "accelerator": "GPU",
    "gpuClass": "standard"
  },
  "cells": [
    {
      "cell_type": "markdown",
      "metadata": {
        "id": "view-in-github",
        "colab_type": "text"
      },
      "source": [
        "<a href=\"https://colab.research.google.com/github/flohmannjr/PJI410/blob/main/PJI410_projecoes_de_notificacoes.ipynb\" target=\"_parent\"><img src=\"https://colab.research.google.com/assets/colab-badge.svg\" alt=\"Open In Colab\"/></a>"
      ]
    },
    {
      "cell_type": "markdown",
      "metadata": {
        "id": "QF600sHcucrO"
      },
      "source": [
        "# PJI410 - Projeções (time series) de notificações"
      ]
    },
    {
      "cell_type": "markdown",
      "metadata": {
        "id": "g2TgIvCl96Zy"
      },
      "source": [
        "# Importações"
      ]
    },
    {
      "cell_type": "code",
      "execution_count": null,
      "metadata": {
        "id": "BqxVW09d-Dx6"
      },
      "outputs": [],
      "source": [
        "import numpy as np\n",
        "import pandas as pd\n",
        "\n",
        "import matplotlib.pyplot as plt\n",
        "import seaborn as sns\n",
        "\n",
        "import os\n",
        "\n",
        "import tensorflow as tf\n",
        "\n",
        "from tensorflow.data import AUTOTUNE, Dataset\n",
        "from tensorflow.keras import Model, Sequential\n",
        "from tensorflow.keras.callbacks import EarlyStopping, ReduceLROnPlateau\n",
        "from tensorflow.keras.layers import Add, Conv1D, Dense, Input, GRU, Lambda, Layer, LSTM, SimpleRNN, Subtract\n",
        "from tensorflow.keras.models import load_model\n",
        "from tensorflow.keras.optimizers import Adam\n",
        "\n",
        "from absl import logging as absl_logging"
      ]
    },
    {
      "cell_type": "markdown",
      "metadata": {
        "id": "AYZyXKAo-GcL"
      },
      "source": [
        "# Configurações"
      ]
    },
    {
      "cell_type": "code",
      "execution_count": null,
      "metadata": {
        "id": "S9v6zYN--JGK"
      },
      "outputs": [],
      "source": [
        "plt.rcParams['figure.figsize'] = [8, 5]\n",
        "plt.rcParams['figure.dpi']     = 100\n",
        "\n",
        "# plt.style.use('seaborn-darkgrid')\n",
        "# plt.style.use('seaborn-v0_8-darkgrid')\n",
        "sns.set_style(\"darkgrid\")\n",
        "\n",
        "SEMENTE = 2001088 + 2001247 + 2003061 + 2005493 + 2008193 + 2008620 + 2008880\n",
        "\n",
        "JANELA_TAMANHO_INICIAL = 5\n",
        "JANELA_TAMANHO_FINAL   = 7  # Não incluído\n",
        "\n",
        "# JANELA_TAMANHO    = 6\n",
        "HORIZONTE_TAMANHO = 1\n",
        "\n",
        "CAMINHO_MARCOS = 'marcos'\n",
        "\n",
        "# Define o nível de log Abseil para 'ERROR'.\n",
        "# https://abseil.io/docs/python/guides/logging\n",
        "absl_logging.set_verbosity(absl_logging.ERROR)"
      ]
    },
    {
      "cell_type": "markdown",
      "metadata": {
        "id": "51wnx_wMyHKo"
      },
      "source": [
        "## Hiperparâmetros"
      ]
    },
    {
      "cell_type": "code",
      "execution_count": null,
      "metadata": {
        "id": "XGPi4hFSyI_-"
      },
      "outputs": [],
      "source": [
        "LOTE_TAMANHO = 32\n",
        "\n",
        "CAMADAS = 4\n",
        "\n",
        "CAMADA_UNIDADES      = 64\n",
        "CAMADA_INICIALIZADOR = 'he_uniform'\n",
        "CAMADA_ATIVACAO      = 'relu'\n",
        "\n",
        "PROFUNDO_POTENCIA_INICIAL = 5\n",
        "PROFUNDO_POTENCIA_FINAL   = 10  # Não incluída\n",
        "PROFUNDO_REPETICAO        = 2\n",
        "PROFUNDO_CONSOLIDACAO     = 32\n",
        "\n",
        "SAIDA_UNIDADES = 1\n",
        "SAIDA_ATIVACAO = 'linear'\n",
        "\n",
        "PERDA       = 'mae'\n",
        "OTIMIZADOR  = Adam\n",
        "APRENDIZADO = 0.001\n",
        "METRICAS    = ['mae', 'mse']\n",
        "\n",
        "ITERACOES = 1000"
      ]
    },
    {
      "cell_type": "markdown",
      "source": [
        "## Funções"
      ],
      "metadata": {
        "id": "DENypnHNmZbh"
      }
    },
    {
      "cell_type": "code",
      "source": [
        "!wget https://raw.githubusercontent.com/flohmannjr/PJI410/main/PJI410_funcoes_auxiliares.py"
      ],
      "metadata": {
        "id": "XRvowR-Kmaej"
      },
      "execution_count": null,
      "outputs": []
    },
    {
      "cell_type": "code",
      "source": [
        "from PJI410_funcoes_auxiliares import criar_janelas, criar_marco_modelo, grafico_series, metricas_modelo, separar_janelas_treino_teste, set_global_determinism"
      ],
      "metadata": {
        "id": "juJp84VuqdKJ"
      },
      "execution_count": null,
      "outputs": []
    },
    {
      "cell_type": "code",
      "source": [
        "def finalizar_modelo(modelo, modelo_nome, janelas_treino, horizontes_treino, janelas_teste, horizontes_teste):\n",
        "\n",
        "    modelo.compile(loss=PERDA,\n",
        "                   optimizer=OTIMIZADOR(learning_rate=APRENDIZADO),\n",
        "                   metrics=METRICAS)\n",
        "\n",
        "    modelo.fit(x=janelas_treino,\n",
        "               y=horizontes_treino,\n",
        "               epochs=ITERACOES,\n",
        "               batch_size=LOTE_TAMANHO,\n",
        "               validation_data=(janelas_teste, horizontes_teste),\n",
        "               callbacks=[ReduceLROnPlateau(monitor='val_loss', patience=100, verbose=0),\n",
        "                          criar_marco_modelo(modelo_nome, caminho=CAMINHO_MARCOS)],\n",
        "               verbose=0)\n",
        "\n",
        "    modelo    = load_model(os.path.join(CAMINHO_MARCOS, modelo_nome))\n",
        "    previsoes = modelo.predict(janelas_teste, verbose=0)\n",
        "    metricas  = metricas_modelo(horizontes_teste[:, -1], y_previsao=previsoes[:, -1])\n",
        "\n",
        "    return modelo, metricas"
      ],
      "metadata": {
        "id": "NDU8_OzQKpsr"
      },
      "execution_count": null,
      "outputs": []
    },
    {
      "cell_type": "markdown",
      "metadata": {
        "id": "kXYglCsFkSaE"
      },
      "source": [
        "# Dados"
      ]
    },
    {
      "cell_type": "code",
      "execution_count": null,
      "metadata": {
        "id": "lHqo9nUOknm4"
      },
      "outputs": [],
      "source": [
        "dados = pd.read_csv('https://raw.githubusercontent.com/flohmannjr/PJI410/main/dados/PJI410_notificacoes_por_municipio.csv', parse_dates=['Segunda-feira'])\n",
        "dados = dados[['Segunda-feira', 'Quantidade']].groupby(by=['Segunda-feira']).sum().sort_index().reset_index()"
      ]
    },
    {
      "cell_type": "code",
      "execution_count": null,
      "metadata": {
        "id": "W2WcaVtJLCLa"
      },
      "outputs": [],
      "source": [
        "q_treino = int(len(dados) * 0.8)\n",
        "\n",
        "quantidades = dados['Quantidade'].to_numpy().astype('float32')"
      ]
    },
    {
      "cell_type": "code",
      "execution_count": null,
      "metadata": {
        "id": "A2Mh1F34Y3Fk"
      },
      "outputs": [],
      "source": [
        "X_train = dados[:q_treino]['Segunda-feira'].to_numpy()\n",
        "y_train = dados[:q_treino]['Quantidade'].to_numpy()\n",
        "\n",
        "X_test = dados[q_treino:]['Segunda-feira'].to_numpy()\n",
        "y_test = dados[q_treino:]['Quantidade'].to_numpy()"
      ]
    },
    {
      "cell_type": "code",
      "execution_count": null,
      "metadata": {
        "id": "vBxQmpu2li4R"
      },
      "outputs": [],
      "source": [
        "len(quantidades), len(X_train), len(y_train), len(X_test), len(y_test)"
      ]
    },
    {
      "cell_type": "markdown",
      "metadata": {
        "id": "j_Xy_dxH9pDO"
      },
      "source": [
        "# Modelos"
      ]
    },
    {
      "cell_type": "code",
      "execution_count": null,
      "metadata": {
        "id": "OrWWf9_6bSzk"
      },
      "outputs": [],
      "source": [
        "modelos  = [None] * 50\n",
        "metricas = [None] * 50\n",
        "\n",
        "MODELO_NUMERO = 0"
      ]
    },
    {
      "cell_type": "markdown",
      "metadata": {
        "id": "GvFWzT_wLooJ"
      },
      "source": [
        "## Modelo Ingênuo"
      ]
    },
    {
      "cell_type": "markdown",
      "metadata": {
        "id": "zkiJIHZDsu9K"
      },
      "source": [
        "Naïve method: https://otexts.com/fpp3/simple-methods.html#na%C3%AFve-method\n",
        "\n",
        "Para previsões ingênuas, simplesmente definimos todas as previsões como o valor da observação anterior."
      ]
    },
    {
      "cell_type": "code",
      "execution_count": null,
      "metadata": {
        "id": "XWoAwdnd4HkV"
      },
      "outputs": [],
      "source": [
        "y_pred = y_test[:-1]"
      ]
    },
    {
      "cell_type": "code",
      "execution_count": null,
      "metadata": {
        "id": "J9C2MHAAu5vw"
      },
      "outputs": [],
      "source": [
        "# grafico_series(X_teste=X_test[1:], y_teste=y_test[1:],\n",
        "#                X_previsao=X_test[1:], y_previsao=y_pred)"
      ]
    },
    {
      "cell_type": "code",
      "execution_count": null,
      "metadata": {
        "id": "ukKPlS4Bvetj"
      },
      "outputs": [],
      "source": [
        "metricas[MODELO_NUMERO] = metricas_modelo(y_test[1:], y_pred)\n",
        "\n",
        "print(metricas[MODELO_NUMERO])\n",
        "\n",
        "MODELO_NUMERO += 1"
      ]
    },
    {
      "cell_type": "markdown",
      "metadata": {
        "id": "xBlUiuYyOBqN"
      },
      "source": [
        "## Modelos Densos"
      ]
    },
    {
      "cell_type": "code",
      "execution_count": null,
      "metadata": {
        "id": "wAhNFiPzNp43"
      },
      "outputs": [],
      "source": [
        "%%time\n",
        "\n",
        "set_global_determinism(seed=SEMENTE)\n",
        "\n",
        "for JANELA_TAMANHO in range(JANELA_TAMANHO_INICIAL, JANELA_TAMANHO_FINAL):\n",
        "\n",
        "    janelas, horizontes = criar_janelas(quantidades, JANELA_TAMANHO, HORIZONTE_TAMANHO)\n",
        "\n",
        "    janelas_treino, janelas_teste, horizontes_treino, horizontes_teste = separar_janelas_treino_teste(janelas, horizontes, tamanho_teste=0.2)\n",
        "\n",
        "    modelo_nome = f'modelo_{MODELO_NUMERO}_denso_{JANELA_TAMANHO}j_{HORIZONTE_TAMANHO}h'\n",
        "\n",
        "    modelos[MODELO_NUMERO] = Sequential(name=modelo_nome)\n",
        "\n",
        "    for c in range(CAMADAS):\n",
        "        modelos[MODELO_NUMERO].add(Dense(units=CAMADA_UNIDADES, kernel_initializer=CAMADA_INICIALIZADOR, activation=CAMADA_ATIVACAO, name=f'camada_oculta_{c}'))\n",
        "\n",
        "    modelos[MODELO_NUMERO].add(Dense(units=HORIZONTE_TAMANHO, activation=SAIDA_ATIVACAO, name='camada_saida'))\n",
        "    \n",
        "    modelos[MODELO_NUMERO], metricas[MODELO_NUMERO] = finalizar_modelo(modelos[MODELO_NUMERO], modelo_nome, janelas_treino, horizontes_treino, janelas_teste, horizontes_teste)\n",
        "\n",
        "    print(modelo_nome)\n",
        "    print(metricas[MODELO_NUMERO])\n",
        "    print()\n",
        "\n",
        "    MODELO_NUMERO += 1"
      ]
    },
    {
      "cell_type": "code",
      "execution_count": null,
      "metadata": {
        "id": "N2O8Z_09Pl-9"
      },
      "outputs": [],
      "source": [
        "# grafico_series(X_teste=X_test[-len(janelas_teste):], y_teste=horizontes_teste[:, -1],\n",
        "#                X_previsao=X_test[-len(janelas_teste):], y_previsao=previsoes[:, -1])"
      ]
    },
    {
      "cell_type": "markdown",
      "metadata": {
        "id": "PEi1-XbzalYA"
      },
      "source": [
        "## Modelos Densos Profundos"
      ]
    },
    {
      "cell_type": "code",
      "execution_count": null,
      "metadata": {
        "id": "qqcQDK2aalYB"
      },
      "outputs": [],
      "source": [
        "%%time\n",
        "\n",
        "set_global_determinism(seed=SEMENTE)\n",
        "\n",
        "for JANELA_TAMANHO in range(JANELA_TAMANHO_INICIAL, JANELA_TAMANHO_FINAL):\n",
        "\n",
        "    janelas, horizontes = criar_janelas(quantidades, JANELA_TAMANHO, HORIZONTE_TAMANHO)\n",
        "\n",
        "    janelas_treino, janelas_teste, horizontes_treino, horizontes_teste = separar_janelas_treino_teste(janelas, horizontes, tamanho_teste=0.2)\n",
        "\n",
        "    modelo_nome = f'modelo_{MODELO_NUMERO}_denso_profundo_{JANELA_TAMANHO}j_{HORIZONTE_TAMANHO}h'\n",
        "\n",
        "    modelos[MODELO_NUMERO] = Sequential(name=modelo_nome)\n",
        "\n",
        "    for potencia in range(PROFUNDO_POTENCIA_INICIAL, PROFUNDO_POTENCIA_FINAL):\n",
        "        unidades = 2 ** potencia\n",
        "        for r in range(PROFUNDO_REPETICAO):\n",
        "            modelos[MODELO_NUMERO].add(Dense(units=unidades, kernel_initializer=CAMADA_INICIALIZADOR, activation=CAMADA_ATIVACAO, name=f'camada_oculta_{unidades}_{r}'))\n",
        "\n",
        "    modelos[MODELO_NUMERO].add(Dense(units=PROFUNDO_CONSOLIDACAO, activation=CAMADA_ATIVACAO, name='camada_consolidacao'))\n",
        "    modelos[MODELO_NUMERO].add(Dense(units=HORIZONTE_TAMANHO, activation=SAIDA_ATIVACAO, name='camada_saida'))\n",
        "    \n",
        "    modelos[MODELO_NUMERO], metricas[MODELO_NUMERO] = finalizar_modelo(modelos[MODELO_NUMERO], modelo_nome, janelas_treino, horizontes_treino, janelas_teste, horizontes_teste)\n",
        "\n",
        "    print(modelo_nome)\n",
        "    print(metricas[MODELO_NUMERO])\n",
        "    print()\n",
        "\n",
        "    MODELO_NUMERO += 1"
      ]
    },
    {
      "cell_type": "code",
      "execution_count": null,
      "metadata": {
        "id": "Vx3oa29oalYC"
      },
      "outputs": [],
      "source": [
        "# grafico_series(X_teste=X_test[-len(janelas_teste):], y_teste=horizontes_teste[:, -1],\n",
        "#                X_previsao=X_test[-len(janelas_teste):], y_previsao=previsoes[:, -1])"
      ]
    },
    {
      "cell_type": "markdown",
      "metadata": {
        "id": "G5nyHKPZD_iY"
      },
      "source": [
        "## Modelos Convulacionais"
      ]
    },
    {
      "cell_type": "code",
      "execution_count": null,
      "metadata": {
        "id": "NxodBLBzGEb6"
      },
      "outputs": [],
      "source": [
        "%%time\n",
        "\n",
        "set_global_determinism(seed=SEMENTE)\n",
        "\n",
        "for JANELA_TAMANHO in range(JANELA_TAMANHO_INICIAL, JANELA_TAMANHO_FINAL):\n",
        "\n",
        "    janelas, horizontes = criar_janelas(quantidades, JANELA_TAMANHO, HORIZONTE_TAMANHO)\n",
        "\n",
        "    janelas_treino, janelas_teste, horizontes_treino, horizontes_teste = separar_janelas_treino_teste(janelas, horizontes, tamanho_teste=0.2)\n",
        "\n",
        "    modelo_nome = f'modelo_{MODELO_NUMERO}_convulacional_{JANELA_TAMANHO}j_{HORIZONTE_TAMANHO}h'\n",
        "\n",
        "    modelos[MODELO_NUMERO] = Sequential(name=modelo_nome)\n",
        "\n",
        "    modelos[MODELO_NUMERO].add(Lambda(lambda x: tf.expand_dims(x, axis=1), name='camada_lambda'))  # Adiciona uma dimensão aos dados.\n",
        "\n",
        "    modelos[MODELO_NUMERO].add(Conv1D(filters=CAMADA_UNIDADES,\n",
        "                                      kernel_size=JANELA_TAMANHO,\n",
        "                                      kernel_initializer=CAMADA_INICIALIZADOR,\n",
        "                                      padding='causal',\n",
        "                                      activation=CAMADA_ATIVACAO,\n",
        "                                      name='camada_convulacional'))\n",
        "\n",
        "    modelos[MODELO_NUMERO].add(Dense(units=HORIZONTE_TAMANHO, activation=SAIDA_ATIVACAO, name='camada_saida'))\n",
        "    \n",
        "    modelos[MODELO_NUMERO], metricas[MODELO_NUMERO] = finalizar_modelo(modelos[MODELO_NUMERO], modelo_nome, janelas_treino, horizontes_treino, janelas_teste, horizontes_teste)\n",
        "\n",
        "    print(modelo_nome)\n",
        "    print(metricas[MODELO_NUMERO])\n",
        "    print()\n",
        "\n",
        "    MODELO_NUMERO += 1"
      ]
    },
    {
      "cell_type": "code",
      "execution_count": null,
      "metadata": {
        "id": "265LZO9uoEza"
      },
      "outputs": [],
      "source": [
        "# grafico_series(X_teste=X_test[-len(janelas_teste):], y_teste=tf.squeeze(horizontes_teste),\n",
        "#                X_previsao=X_test[-len(janelas_teste):], y_previsao=tf.squeeze(previsoes))"
      ]
    },
    {
      "cell_type": "markdown",
      "metadata": {
        "id": "xM9geLTaH2dc"
      },
      "source": [
        "## Modelos Recorrentes"
      ]
    },
    {
      "cell_type": "code",
      "execution_count": null,
      "metadata": {
        "id": "9quVNwDBH2di"
      },
      "outputs": [],
      "source": [
        "%%time\n",
        "\n",
        "set_global_determinism(seed=SEMENTE)\n",
        "\n",
        "recorrentes = {'rnn_simples': SimpleRNN, 'lstm': LSTM, 'gru': GRU}\n",
        "\n",
        "for nome, funcao in recorrentes.items():\n",
        "\n",
        "    for JANELA_TAMANHO in range(JANELA_TAMANHO_INICIAL, JANELA_TAMANHO_FINAL):\n",
        "\n",
        "        janelas, horizontes = criar_janelas(quantidades, JANELA_TAMANHO, HORIZONTE_TAMANHO)\n",
        "\n",
        "        janelas_treino, janelas_teste, horizontes_treino, horizontes_teste = separar_janelas_treino_teste(janelas, horizontes, tamanho_teste=0.2)\n",
        "\n",
        "        modelo_nome = f'modelo_{MODELO_NUMERO}_{nome}_{JANELA_TAMANHO}j_{HORIZONTE_TAMANHO}h'\n",
        "\n",
        "        modelos[MODELO_NUMERO] = Sequential(name=modelo_nome)\n",
        "\n",
        "        modelos[MODELO_NUMERO].add(Lambda(lambda x: tf.expand_dims(x, axis=1), name='camada_lambda'))\n",
        "\n",
        "        modelos[MODELO_NUMERO].add(funcao(units=CAMADA_UNIDADES,\n",
        "                                          kernel_initializer=CAMADA_INICIALIZADOR,\n",
        "                                          activation=CAMADA_ATIVACAO,  # Ativação 'relu' no lugar de 'tanh' por motivo de performance.\n",
        "                                          name=f'camada_{nome}'))\n",
        "\n",
        "        modelos[MODELO_NUMERO].add(Dense(units=CAMADA_UNIDADES, activation=CAMADA_ATIVACAO, name='camada_consolidacao'))\n",
        "        modelos[MODELO_NUMERO].add(Dense(units=HORIZONTE_TAMANHO, activation=SAIDA_ATIVACAO, name='camada_saida'))\n",
        "        \n",
        "        modelos[MODELO_NUMERO], metricas[MODELO_NUMERO] = finalizar_modelo(modelos[MODELO_NUMERO], modelo_nome, janelas_treino, horizontes_treino, janelas_teste, horizontes_teste)\n",
        "\n",
        "        print(modelo_nome)\n",
        "        print(metricas[MODELO_NUMERO])\n",
        "        print()\n",
        "\n",
        "        MODELO_NUMERO += 1"
      ]
    },
    {
      "cell_type": "code",
      "execution_count": null,
      "metadata": {
        "id": "-uJJhvWUH2dj"
      },
      "outputs": [],
      "source": [
        "# grafico_series(X_teste=X_test[-len(janelas_teste):], y_teste=tf.squeeze(horizontes_teste),\n",
        "#                X_previsao=X_test[-len(janelas_teste):], y_previsao=tf.squeeze(previsoes))"
      ]
    },
    {
      "cell_type": "markdown",
      "metadata": {
        "id": "WPqSJZ6tb3mw"
      },
      "source": [
        "## Comparação dos modelos"
      ]
    },
    {
      "cell_type": "code",
      "execution_count": null,
      "metadata": {
        "id": "gGpdJZvsb69d"
      },
      "outputs": [],
      "source": [
        "df_metricas = pd.DataFrame([m for m in metricas if m is not None])\n",
        "\n",
        "with pd.option_context('display.max_columns', None):\n",
        "    display(df_metricas.T)"
      ]
    },
    {
      "cell_type": "code",
      "execution_count": null,
      "metadata": {
        "id": "fQcZwQVVHGYW"
      },
      "outputs": [],
      "source": [
        "df_metricas['Mean Absolute Error'].sort_values()"
      ]
    },
    {
      "cell_type": "code",
      "source": [],
      "metadata": {
        "id": "0xlrh5oC9Qzq"
      },
      "execution_count": null,
      "outputs": []
    }
  ]
}